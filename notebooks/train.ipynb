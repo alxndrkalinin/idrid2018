{
 "cells": [
  {
   "cell_type": "markdown",
   "metadata": {},
   "source": [
    "#### Imports"
   ]
  },
  {
   "cell_type": "code",
   "execution_count": 1,
   "metadata": {
    "collapsed": true
   },
   "outputs": [],
   "source": [
    "from __future__ import division\n",
    "\n",
    "import os\n",
    "from inspect import getsourcefile\n",
    "import sys\n",
    "import pdb\n",
    "\n",
    "# add parent dir to PYTHONPATH\n",
    "current_path = os.path.abspath(getsourcefile(lambda:0))\n",
    "current_dir = os.path.dirname(current_path)\n",
    "parent_dir = current_dir[:current_dir.rfind(os.path.sep)]\n",
    "sys.path.insert(0, parent_dir)\n",
    "\n",
    "from collections import defaultdict\n",
    "from copy import deepcopy\n",
    "\n",
    "import torch\n",
    "import torch.nn.functional as F\n",
    "from torch import nn\n",
    "from torch import optim\n",
    "from tqdm import tqdm\n",
    "from torch.autograd import Variable\n",
    "from tensorboardX import SummaryWriter\n",
    "\n",
    "from src.dataset.neural_dataset import TrainDataset, ValDataset\n",
    "from torch.utils.data.dataloader import DataLoader as PytorchDataLoader\n",
    "from src.utils import get_config, get_csv_folds\n",
    "from src.dataset.idris_dataset import IdrisDataset\n",
    "from src.dataset.h5like_interface import H5LikeFileInterface\n",
    "from src.transforms import augment_color\n",
    "\n",
    "from src.pytorch_zoo import linknet"
   ]
  },
  {
   "cell_type": "markdown",
   "metadata": {
    "heading_collapsed": true
   },
   "source": [
    "#### model and loss"
   ]
  },
  {
   "cell_type": "code",
   "execution_count": 2,
   "metadata": {
    "collapsed": true,
    "hidden": true
   },
   "outputs": [],
   "source": [
    "models = {\n",
    "    'linknet34': linknet.LinkNet34\n",
    "}\n",
    "\n",
    "def dice_loss(preds, trues, weight=None, is_average=True):\n",
    "    num = preds.size(0)\n",
    "    preds = preds.view(num, -1)\n",
    "    trues = trues.view(num, -1)\n",
    "    if weight is not None:\n",
    "        w = torch.autograd.Variable(weight).view(num, -1)\n",
    "        preds = preds * w\n",
    "        trues = trues * w\n",
    "    intersection = (preds * trues).sum(1)\n",
    "    scores = 2. * (intersection + 1) / (preds.sum(1) + trues.sum(1) + 1)\n",
    "\n",
    "    if is_average:\n",
    "        score = scores.sum()/num\n",
    "        return torch.clamp(score, 0., 1.)\n",
    "    else:\n",
    "        return scores\n",
    "\n",
    "def dice_clamp(preds, trues, is_average=True):\n",
    "    preds = torch.round(preds)\n",
    "    return dice_loss(preds, trues, is_average=is_average)\n",
    "\n",
    "class DiceLoss(nn.Module):\n",
    "    def __init__(self, size_average=True):\n",
    "        super(DiceLoss, self).__init__()\n",
    "        self.size_average = size_average\n",
    "\n",
    "    def forward(self, input, target, weight=None):\n",
    "        return 1-dice_loss(F.sigmoid(input), target, weight=weight, is_average=self.size_average)\n",
    "\n",
    "class BCEDiceLoss(nn.Module):\n",
    "    def __init__(self, size_average=True):\n",
    "        super(BCEDiceLoss, self).__init__()\n",
    "        self.size_average = size_average\n",
    "        self.dice = DiceLoss(size_average=size_average)\n",
    "\n",
    "    def forward(self, input, target, weight=None):\n",
    "        return nn.modules.loss.BCEWithLogitsLoss(size_average=self.size_average, weight=weight)(input, target) + self.dice(input, target, weight=weight)\n",
    "\n",
    "\n",
    "def adjust_lr(optimizer, epoch, init_lr=0.1, num_epochs_per_decay=10, lr_decay_factor=0.1):\n",
    "    lr = init_lr * (lr_decay_factor ** (epoch // num_epochs_per_decay))\n",
    "    for param_group in optimizer.param_groups:\n",
    "        param_group['lr'] = lr\n",
    "    return lr\n",
    "\n",
    "\n",
    "def cyclic_lr(optimizer, epoch, init_lr=1e-4, num_epochs_per_cycle=5, cycle_epochs_decay=2, lr_decay_factor=0.5):\n",
    "    epoch_in_cycle = epoch % num_epochs_per_cycle\n",
    "    lr = init_lr * (lr_decay_factor ** (epoch_in_cycle // cycle_epochs_decay))\n",
    "    for param_group in optimizer.param_groups:\n",
    "        param_group['lr'] = lr\n",
    "    return lr\n",
    "\n",
    "losses = {\n",
    "    'bce_dice_loss': BCEDiceLoss\n",
    "}"
   ]
  },
  {
   "cell_type": "markdown",
   "metadata": {},
   "source": [
    "#### trainer"
   ]
  },
  {
   "cell_type": "code",
   "execution_count": 3,
   "metadata": {
    "collapsed": true
   },
   "outputs": [],
   "source": [
    "class PytorchTrain:\n",
    "    def __init__(self, fold, config, metrics):\n",
    "        logdir = os.path.join('..', 'logs', config.folder, 'fold{}'.format(fold))\n",
    "        if not os.path.exists(logdir):\n",
    "            os.makedirs(logdir)\n",
    "        self.config = config\n",
    "        self.fold = fold\n",
    "        self.model = models[config.network](num_classes=1, num_channels=config.num_channels)\n",
    "        if self.config.optimizer == 'adam':\n",
    "            self.optimizer = optim.Adam(self.model.parameters(), lr=config.lr)\n",
    "        else:\n",
    "            self.optimizer = optim.RMSprop(self.model.parameters(), lr=config.lr)\n",
    "        self.model = nn.DataParallel(self.model).cuda()\n",
    "        self.criterion = losses[config.loss]().cuda()\n",
    "        self.writer = SummaryWriter(logdir)\n",
    "        self.metrics = metrics\n",
    "        self.devices = os.getenv('CUDA_VISIBLE_DEVICES', '0')\n",
    "        if os.name == 'nt':\n",
    "            self.devices = ','.join(str(d + 5) for d in map(int, self.devices.split(',')))\n",
    "\n",
    "        self.cache = None\n",
    "        self.cached_loss = 0\n",
    "        self.hard_mining = True\n",
    "\n",
    "    def run_one_epoch(self, epoch, loader, training=True):\n",
    "        avg_meter = defaultdict(float)\n",
    "\n",
    "        if training:\n",
    "            pbar = tqdm(enumerate(loader), total=len(loader), desc=\"Epoch {}\".format(epoch), ncols=0)\n",
    "        else:\n",
    "            pbar = enumerate(loader)\n",
    "        for i, data in pbar:\n",
    "            meter = self.make_step(data, training)\n",
    "            for k, val in meter.items():\n",
    "                avg_meter[k] += val\n",
    "                if training and self.hard_mining and k == 'loss':\n",
    "                    loss = val.cpu().numpy()[0]\n",
    "                    if self.cache is None or self.cached_loss < loss:\n",
    "                        self.cached_loss = loss\n",
    "                        self.cache = deepcopy(data)\n",
    "\n",
    "            if training:\n",
    "                if self.hard_mining and i % 10 == 0 and self.cache is not None:\n",
    "                    self.make_step(self.cache, training)\n",
    "                    self.cache = None\n",
    "                    self.cached_loss = 0\n",
    "                pbar.set_postfix(**{k: \"{:.5f}\".format(v.cpu().numpy()[0] / (i + 1)) for k, v in avg_meter.items()})\n",
    "        return {k: v.cpu().numpy()[0] / len(loader) for k, v in avg_meter.items()}\n",
    "\n",
    "    def make_step(self, data, training):\n",
    "        ret = {}\n",
    "        images = data['image']\n",
    "        ytrues = data['mask']\n",
    "        if training:\n",
    "            images = Variable(images.cuda(async=True))\n",
    "            ytrues = Variable(ytrues.cuda(async=True))\n",
    "        else:\n",
    "            images = Variable(images.cuda(async=True), volatile=True)\n",
    "            ytrues = Variable(ytrues.cuda(async=True), volatile=True)\n",
    "\n",
    "        if training:\n",
    "            self.optimizer.zero_grad()\n",
    "\n",
    "        ypreds = self.model(images)\n",
    "        loss = self.criterion(ypreds, ytrues)\n",
    "\n",
    "        ret['loss'] = loss.data\n",
    "        for name, func in self.metrics:\n",
    "            acc = func(F.sigmoid(ypreds)[:, :, 6:-6, 6:-6].contiguous(), ytrues[:, :, 6:-6, 6:-6].contiguous())\n",
    "            ret[name] = acc.data\n",
    "        if training:\n",
    "            loss.backward()\n",
    "            torch.nn.utils.clip_grad_norm(self.model.parameters(), 1.)\n",
    "            self.optimizer.step()\n",
    "\n",
    "        return ret\n",
    "\n",
    "    def fit(self, train_loader, val_loader):\n",
    "#         save_path = os.path.join(self.config.models_dir, 'alxndrkalinin', self.config.folder)\n",
    "        save_path = os.path.join(self.config.models_dir, self.config.folder)\n",
    "        if not os.path.exists(save_path):\n",
    "            os.makedirs(save_path)\n",
    "        best_epoch = -1\n",
    "        best_loss = float('inf')\n",
    "        for epoch in range(self.config.nb_epoch):\n",
    "            if epoch == self.config.cycle_start_epoch:\n",
    "                print(\"Starting cyclic lr\")\n",
    "                self.optimizer = optim.Adam(self.model.parameters(), lr=self.config.lr)\n",
    "            if epoch >= self.config.cycle_start_epoch:\n",
    "                lr = cyclic_lr(self.optimizer, epoch - self.config.cycle_start_epoch, init_lr=self.config.lr, num_epochs_per_cycle=5, cycle_epochs_decay=2, lr_decay_factor=0.1)\n",
    "            else:\n",
    "                lr = adjust_lr(self.optimizer, epoch, init_lr=self.config.lr, num_epochs_per_decay=12)\n",
    "\n",
    "            self.model.train()\n",
    "            train_metrics = self.run_one_epoch(epoch, train_loader)\n",
    "            self.model.eval()\n",
    "            val_metrics = self.run_one_epoch(epoch, val_loader, training=False)\n",
    "            print(\" | \".join(\"{}: {:.5f}\".format(k, float(v)) for k, v in val_metrics.items()))\n",
    "\n",
    "            for k, v in train_metrics.items():\n",
    "                self.writer.add_scalar('train/{}'.format(k), float(v), global_step=epoch)\n",
    "\n",
    "            for k, v in val_metrics.items():\n",
    "                self.writer.add_scalar('val/{}'.format(k), float(v), global_step=epoch)\n",
    "\n",
    "            self.writer.add_scalar('lr', float(lr), global_step=epoch)\n",
    "\n",
    "            loss = float(val_metrics['loss'])\n",
    "            if loss < best_loss:\n",
    "                best_loss = loss\n",
    "                best_epoch = epoch\n",
    "                torch.save(deepcopy(self.model), os.path.join(save_path, 'fold{}_best.pth'.format(self.fold)))\n",
    "        print('Finished {} fold: {} with best loss {:.5f} on epoch {}\\n'.format(self.config.folder, self.fold, best_loss, best_epoch))\n",
    "        self.writer.close()"
   ]
  },
  {
   "cell_type": "code",
   "execution_count": 4,
   "metadata": {
    "collapsed": true
   },
   "outputs": [],
   "source": [
    "def train(ds, folds, config, num_workers=0, transforms=None, skip_folds=None):\n",
    "    if not os.path.exists(os.path.join('..', 'weights')):\n",
    "        os.makedirs(os.path.join('..', 'weights'))\n",
    "    if not os.path.exists(os.path.join('..', 'logs')):\n",
    "        os.makedirs(os.path.join('..', 'logs'))\n",
    "\n",
    "    for fold, (train_idx, val_idx) in enumerate(folds):\n",
    "        if skip_folds and fold in skip_folds:\n",
    "            continue\n",
    "\n",
    "        tr = TrainDataset(ds, train_idx, config, transform=transforms)\n",
    "        val = ValDataset(ds, val_idx, config, transform=None)\n",
    "        train_loader = PytorchDataLoader(tr,\n",
    "                                         batch_size=config.batch_size,\n",
    "                                         shuffle=True,\n",
    "                                         drop_last=True,\n",
    "                                         num_workers=num_workers,\n",
    "                                         pin_memory=True)\n",
    "        \n",
    "        val_loader = PytorchDataLoader(val,\n",
    "                                       batch_size=config.batch_size,\n",
    "                                       shuffle=False,\n",
    "                                       drop_last=False,\n",
    "                                       num_workers=num_workers,\n",
    "                                       pin_memory=True)\n",
    "        trainer = PytorchTrain(fold=fold,\n",
    "                               config=config,\n",
    "                               metrics=[('soft dice', dice_loss),\n",
    "                                        ('hard dice', dice_clamp),\n",
    "                                        ('bce', nn.modules.loss.BCELoss())])\n",
    "        trainer.fit(train_loader, val_loader)\n",
    "        trainer.writer.close()\n",
    "\n",
    "\n",
    "def train_config(config_path, folds_csv, n_folds=3, num_workers=0):\n",
    "    config = get_config(config_path)\n",
    "\n",
    "    root = config.dataset_path\n",
    "    image_folder_name = 'retinopathy'\n",
    "\n",
    "    ds = H5LikeFileInterface(IdrisDataset(root,\n",
    "                                            config.img_rows, config.img_cols,\n",
    "                                            image_folder_name=image_folder_name,\n",
    "                                            apply_clahe=config.use_clahe))\n",
    "\n",
    "    folds = get_csv_folds(folds_csv, os.listdir(os.path.join(root, image_folder_name)), n_folds)\n",
    "\n",
    "    if num_workers == 0:\n",
    "        if os.name != 'nt':\n",
    "            num_workers = 5\n",
    "#     num_workers = 0\n",
    "\n",
    "    skip_folds = [i for i in range(n_folds) if config.fold is not None and i != int(config.fold)]\n",
    "    print('skipping folds: ', skip_folds)\n",
    "    train(ds, folds, config, num_workers=num_workers, transforms=augment_color, skip_folds=skip_folds)\n",
    "\n"
   ]
  },
  {
   "cell_type": "markdown",
   "metadata": {},
   "source": [
    "#### training"
   ]
  },
  {
   "cell_type": "code",
   "execution_count": 5,
   "metadata": {},
   "outputs": [
    {
     "name": "stdout",
     "output_type": "stream",
     "text": [
      "{u'target_cols': 800, u'save_images': True, u'dbg': False, u'train_pad': 0, u'use_clahe': False, u'network': u'linknet34', u'use_crop': True, u'nb_epoch': 100, u'epoch_size': 1, 'models_dir': u'models', u'lr': 0.01, u'cycle_start_epoch': 50, u'folder': u'train', u'optimizer': u'adam', u'target_rows': 800, 'fold': None, u'batch_size': 16, u'test_pad': 0, u'use_resize': False, u'loss': u'bce_dice_loss', u'img_cols': 4288, u'predict_batch_size': 5, u'num_channels': 3, u'dataset_path': u'/home/user/data/idrid', u'img_rows': 2848}\n",
      "('NAMES:', [u'IDRiD_28.jpg', u'IDRiD_44.jpg', u'IDRiD_23.jpg', u'IDRiD_32.jpg', u'IDRiD_11.jpg', u'IDRiD_51.jpg', u'IDRiD_54.jpg', u'IDRiD_31.jpg', u'IDRiD_14.jpg', u'IDRiD_10.jpg', u'IDRiD_30.jpg', u'IDRiD_03.jpg', u'IDRiD_04.jpg', u'IDRiD_43.jpg', u'IDRiD_40.jpg', u'IDRiD_19.jpg', u'IDRiD_50.jpg', u'IDRiD_48.jpg', u'IDRiD_49.jpg', u'IDRiD_41.jpg', u'IDRiD_01.jpg', u'IDRiD_45.jpg', u'IDRiD_15.jpg', u'IDRiD_09.jpg', u'IDRiD_38.jpg', u'IDRiD_52.jpg', u'IDRiD_27.jpg', u'IDRiD_21.jpg', u'IDRiD_07.jpg', u'IDRiD_26.jpg', u'IDRiD_16.jpg', u'IDRiD_36.jpg', u'IDRiD_34.jpg', u'IDRiD_20.jpg', u'IDRiD_13.jpg', u'IDRiD_29.jpg', u'IDRiD_22.jpg', u'IDRiD_18.jpg', u'IDRiD_24.jpg', u'IDRiD_17.jpg', u'IDRiD_06.jpg', u'IDRiD_39.jpg', u'IDRiD_35.jpg', u'IDRiD_47.jpg', u'IDRiD_02.jpg', u'IDRiD_05.jpg', u'IDRiD_25.jpg', u'IDRiD_53.jpg', u'IDRiD_08.jpg', u'IDRiD_37.jpg', u'IDRiD_12.jpg', u'IDRiD_33.jpg', u'IDRiD_42.jpg', u'IDRiD_46.jpg'])\n",
      "('skipping folds: ', [])\n"
     ]
    },
    {
     "name": "stderr",
     "output_type": "stream",
     "text": [
      "Epoch 0: 100% 2/2 [00:12<00:00,  6.40s/it, bce=0.37539, hard dice=0.37823, loss=1.37299, soft dice=0.00286]\n"
     ]
    },
    {
     "name": "stdout",
     "output_type": "stream",
     "text": [
      "soft dice: 0.15611 | loss: 1.04363 | hard dice: 0.91372 | bce: 0.01564\n"
     ]
    },
    {
     "name": "stderr",
     "output_type": "stream",
     "text": [
      "Epoch 1: 100% 2/2 [00:07<00:00,  3.93s/it, bce=0.02306, hard dice=0.68962, loss=0.58945, soft dice=0.44487]\n"
     ]
    },
    {
     "name": "stdout",
     "output_type": "stream",
     "text": [
      "soft dice: 0.91372 | loss: 13.02560 | hard dice: 0.91372 | bce: 0.01599\n"
     ]
    },
    {
     "name": "stderr",
     "output_type": "stream",
     "text": [
      "Epoch 2: 100% 2/2 [00:07<00:00,  3.86s/it, bce=0.03976, hard dice=0.43979, loss=0.65692, soft dice=0.43979]\n"
     ]
    },
    {
     "name": "stdout",
     "output_type": "stream",
     "text": [
      "soft dice: 0.91372 | loss: 2.98646 | hard dice: 0.91372 | bce: 0.01599\n"
     ]
    },
    {
     "name": "stderr",
     "output_type": "stream",
     "text": [
      "Epoch 3: 100% 2/2 [00:07<00:00,  3.85s/it, bce=0.04529, hard dice=0.68916, loss=0.43131, soft dice=0.68916]\n"
     ]
    },
    {
     "name": "stdout",
     "output_type": "stream",
     "text": [
      "soft dice: 0.91372 | loss: 1.67586 | hard dice: 0.91372 | bce: 0.01599\n"
     ]
    },
    {
     "name": "stderr",
     "output_type": "stream",
     "text": [
      "Epoch 4: 100% 2/2 [00:07<00:00,  3.65s/it, bce=0.04454, hard dice=0.56519, loss=0.50620, soft dice=0.56502]\n"
     ]
    },
    {
     "name": "stdout",
     "output_type": "stream",
     "text": [
      "soft dice: 0.91372 | loss: 0.71151 | hard dice: 0.91372 | bce: 0.01599\n"
     ]
    },
    {
     "name": "stderr",
     "output_type": "stream",
     "text": [
      "Epoch 5: 100% 2/2 [00:07<00:00,  3.82s/it, bce=0.04330, hard dice=0.69040, loss=0.36917, soft dice=0.68730]\n"
     ]
    },
    {
     "name": "stdout",
     "output_type": "stream",
     "text": [
      "soft dice: 0.91372 | loss: 0.15443 | hard dice: 0.91372 | bce: 0.01595\n"
     ]
    },
    {
     "name": "stderr",
     "output_type": "stream",
     "text": [
      "Epoch 6: 100% 2/2 [00:07<00:00,  3.87s/it, bce=0.05808, hard dice=0.50223, loss=0.59828, soft dice=0.48156]\n"
     ]
    },
    {
     "name": "stdout",
     "output_type": "stream",
     "text": [
      "soft dice: 0.91372 | loss: 0.11878 | hard dice: 0.91372 | bce: 0.01583\n"
     ]
    },
    {
     "name": "stderr",
     "output_type": "stream",
     "text": [
      "Epoch 7: 100% 2/2 [00:07<00:00,  3.83s/it, bce=0.05695, hard dice=0.44079, loss=0.63867, soft dice=0.44079]\n"
     ]
    },
    {
     "name": "stdout",
     "output_type": "stream",
     "text": [
      "soft dice: 0.91372 | loss: 0.11390 | hard dice: 0.91372 | bce: 0.01588\n"
     ]
    },
    {
     "name": "stderr",
     "output_type": "stream",
     "text": [
      "Epoch 8: 100% 2/2 [00:07<00:00,  3.69s/it, bce=0.03928, hard dice=0.56471, loss=0.54103, soft dice=0.56471]\n"
     ]
    },
    {
     "name": "stdout",
     "output_type": "stream",
     "text": [
      "soft dice: 0.91372 | loss: 0.10664 | hard dice: 0.91372 | bce: 0.01563\n"
     ]
    },
    {
     "name": "stderr",
     "output_type": "stream",
     "text": [
      "Epoch 9: 100% 2/2 [00:07<00:00,  3.68s/it, bce=0.06194, hard dice=0.37772, loss=0.69092, soft dice=0.37631]\n"
     ]
    },
    {
     "name": "stdout",
     "output_type": "stream",
     "text": [
      "soft dice: 0.91371 | loss: 0.10668 | hard dice: 0.91372 | bce: 0.01413\n"
     ]
    },
    {
     "name": "stderr",
     "output_type": "stream",
     "text": [
      "Epoch 10: 100% 2/2 [00:07<00:00,  3.73s/it, bce=0.03073, hard dice=0.62780, loss=0.40837, soft dice=0.62767]\n"
     ]
    },
    {
     "name": "stdout",
     "output_type": "stream",
     "text": [
      "soft dice: 0.91371 | loss: 0.10474 | hard dice: 0.91372 | bce: 0.01406\n"
     ]
    },
    {
     "name": "stderr",
     "output_type": "stream",
     "text": [
      "Epoch 11: 100% 2/2 [00:07<00:00,  3.88s/it, bce=0.04033, hard dice=0.56720, loss=0.47837, soft dice=0.56716]\n"
     ]
    },
    {
     "name": "stdout",
     "output_type": "stream",
     "text": [
      "soft dice: 0.91371 | loss: 0.10611 | hard dice: 0.91372 | bce: 0.01433\n"
     ]
    },
    {
     "name": "stderr",
     "output_type": "stream",
     "text": [
      "Epoch 12: 100% 2/2 [00:07<00:00,  3.85s/it, bce=0.02972, hard dice=0.75096, loss=0.33992, soft dice=0.75027]\n"
     ]
    },
    {
     "name": "stdout",
     "output_type": "stream",
     "text": [
      "soft dice: 0.91370 | loss: 0.10168 | hard dice: 0.91372 | bce: 0.01341\n"
     ]
    },
    {
     "name": "stderr",
     "output_type": "stream",
     "text": [
      "Epoch 13: 100% 2/2 [00:07<00:00,  3.84s/it, bce=0.03392, hard dice=0.62744, loss=0.41795, soft dice=0.61786]\n"
     ]
    },
    {
     "name": "stdout",
     "output_type": "stream",
     "text": [
      "soft dice: 0.91369 | loss: 0.10069 | hard dice: 0.91372 | bce: 0.01286\n"
     ]
    },
    {
     "name": "stderr",
     "output_type": "stream",
     "text": [
      "Epoch 14: 100% 2/2 [00:07<00:00,  3.53s/it, bce=0.03585, hard dice=0.62740, loss=0.41192, soft dice=0.62525]\n"
     ]
    },
    {
     "name": "stdout",
     "output_type": "stream",
     "text": [
      "soft dice: 0.91368 | loss: 0.10058 | hard dice: 0.91372 | bce: 0.01284\n"
     ]
    },
    {
     "name": "stderr",
     "output_type": "stream",
     "text": [
      "Epoch 15: 100% 2/2 [00:07<00:00,  3.75s/it, bce=0.02620, hard dice=0.63240, loss=0.39885, soft dice=0.63227]\n"
     ]
    },
    {
     "name": "stdout",
     "output_type": "stream",
     "text": [
      "soft dice: 0.91368 | loss: 0.10047 | hard dice: 0.91372 | bce: 0.01278\n"
     ]
    },
    {
     "name": "stderr",
     "output_type": "stream",
     "text": [
      "Epoch 16: 100% 2/2 [00:07<00:00,  3.63s/it, bce=0.03617, hard dice=0.69116, loss=0.34892, soft dice=0.68966]\n"
     ]
    },
    {
     "name": "stdout",
     "output_type": "stream",
     "text": [
      "soft dice: 0.91367 | loss: 0.10061 | hard dice: 0.91372 | bce: 0.01276\n"
     ]
    },
    {
     "name": "stderr",
     "output_type": "stream",
     "text": [
      "Epoch 17: 100% 2/2 [00:07<00:00,  3.78s/it, bce=0.03971, hard dice=0.37800, loss=0.66621, soft dice=0.37682]\n"
     ]
    },
    {
     "name": "stdout",
     "output_type": "stream",
     "text": [
      "soft dice: 0.91364 | loss: 0.10030 | hard dice: 0.91372 | bce: 0.01245\n"
     ]
    },
    {
     "name": "stderr",
     "output_type": "stream",
     "text": [
      "Epoch 18: 100% 2/2 [00:07<00:00,  3.68s/it, bce=0.03546, hard dice=0.50181, loss=0.53599, soft dice=0.50144]\n"
     ]
    },
    {
     "name": "stdout",
     "output_type": "stream",
     "text": [
      "soft dice: 0.91357 | loss: 0.10002 | hard dice: 0.91372 | bce: 0.01212\n"
     ]
    },
    {
     "name": "stderr",
     "output_type": "stream",
     "text": [
      "Epoch 19: 100% 2/2 [00:07<00:00,  3.54s/it, bce=0.02830, hard dice=0.69730, loss=0.33926, soft dice=0.69721]\n"
     ]
    },
    {
     "name": "stdout",
     "output_type": "stream",
     "text": [
      "soft dice: 0.91357 | loss: 0.09969 | hard dice: 0.91372 | bce: 0.01191\n"
     ]
    },
    {
     "name": "stderr",
     "output_type": "stream",
     "text": [
      "Epoch 20: 100% 2/2 [00:07<00:00,  3.86s/it, bce=0.03552, hard dice=0.68964, loss=0.34774, soft dice=0.68959]\n"
     ]
    },
    {
     "name": "stdout",
     "output_type": "stream",
     "text": [
      "soft dice: 0.91353 | loss: 0.09950 | hard dice: 0.91372 | bce: 0.01169\n"
     ]
    },
    {
     "name": "stderr",
     "output_type": "stream",
     "text": [
      "Epoch 21: 100% 2/2 [00:07<00:00,  3.65s/it, bce=0.03647, hard dice=0.56517, loss=0.47266, soft dice=0.56483]\n"
     ]
    },
    {
     "name": "stdout",
     "output_type": "stream",
     "text": [
      "soft dice: 0.91318 | loss: 0.09928 | hard dice: 0.91372 | bce: 0.01107\n"
     ]
    },
    {
     "name": "stderr",
     "output_type": "stream",
     "text": [
      "Epoch 22: 100% 2/2 [00:07<00:00,  3.70s/it, bce=0.03270, hard dice=0.50247, loss=0.54221, soft dice=0.49275]\n"
     ]
    },
    {
     "name": "stdout",
     "output_type": "stream",
     "text": [
      "soft dice: 0.91258 | loss: 0.09935 | hard dice: 0.91372 | bce: 0.01066\n"
     ]
    },
    {
     "name": "stderr",
     "output_type": "stream",
     "text": [
      "Epoch 23: 100% 2/2 [00:07<00:00,  3.70s/it, bce=0.02488, hard dice=0.56454, loss=0.46456, soft dice=0.56178]\n"
     ]
    },
    {
     "name": "stdout",
     "output_type": "stream",
     "text": [
      "soft dice: 0.91318 | loss: 0.09910 | hard dice: 0.91372 | bce: 0.01107\n"
     ]
    },
    {
     "name": "stderr",
     "output_type": "stream",
     "text": [
      "Epoch 24: 100% 2/2 [00:07<00:00,  3.73s/it, bce=0.03101, hard dice=0.44025, loss=0.64762, soft dice=0.43340]\n"
     ]
    },
    {
     "name": "stdout",
     "output_type": "stream",
     "text": [
      "soft dice: 0.91296 | loss: 0.09917 | hard dice: 0.91372 | bce: 0.01091\n"
     ]
    },
    {
     "name": "stderr",
     "output_type": "stream",
     "text": [
      "Epoch 25: 100% 2/2 [00:07<00:00,  3.79s/it, bce=0.03128, hard dice=0.50235, loss=0.53302, soft dice=0.49975]\n"
     ]
    },
    {
     "name": "stdout",
     "output_type": "stream",
     "text": [
      "soft dice: 0.91321 | loss: 0.09908 | hard dice: 0.91372 | bce: 0.01110\n"
     ]
    },
    {
     "name": "stderr",
     "output_type": "stream",
     "text": [
      "Epoch 26: 100% 2/2 [00:07<00:00,  3.67s/it, bce=0.02475, hard dice=0.75066, loss=0.28119, soft dice=0.74504]\n"
     ]
    },
    {
     "name": "stdout",
     "output_type": "stream",
     "text": [
      "soft dice: 0.91339 | loss: 0.09913 | hard dice: 0.91372 | bce: 0.01134\n"
     ]
    },
    {
     "name": "stderr",
     "output_type": "stream",
     "text": [
      "Epoch 27: 100% 2/2 [00:07<00:00,  4.00s/it, bce=0.02945, hard dice=0.50293, loss=0.53154, soft dice=0.50079]\n"
     ]
    },
    {
     "name": "stdout",
     "output_type": "stream",
     "text": [
      "soft dice: 0.91340 | loss: 0.09923 | hard dice: 0.91372 | bce: 0.01141\n"
     ]
    },
    {
     "name": "stderr",
     "output_type": "stream",
     "text": [
      "Epoch 28: 100% 2/2 [00:07<00:00,  3.53s/it, bce=0.04894, hard dice=0.50220, loss=0.54962, soft dice=0.50068]\n"
     ]
    },
    {
     "name": "stdout",
     "output_type": "stream",
     "text": [
      "soft dice: 0.91351 | loss: 0.09931 | hard dice: 0.91372 | bce: 0.01160\n"
     ]
    },
    {
     "name": "stderr",
     "output_type": "stream",
     "text": [
      "Epoch 29: 100% 2/2 [00:07<00:00,  3.65s/it, bce=0.02700, hard dice=0.68965, loss=0.33954, soft dice=0.68776]\n"
     ]
    },
    {
     "name": "stdout",
     "output_type": "stream",
     "text": [
      "soft dice: 0.91352 | loss: 0.09933 | hard dice: 0.91372 | bce: 0.01164\n"
     ]
    },
    {
     "name": "stderr",
     "output_type": "stream",
     "text": [
      "Epoch 30: 100% 2/2 [00:08<00:00,  4.25s/it, bce=0.04189, hard dice=0.37779, loss=0.66634, soft dice=0.37739]\n"
     ]
    },
    {
     "name": "stdout",
     "output_type": "stream",
     "text": [
      "soft dice: 0.91356 | loss: 0.09946 | hard dice: 0.91372 | bce: 0.01177\n"
     ]
    },
    {
     "name": "stderr",
     "output_type": "stream",
     "text": [
      "Epoch 31: 100% 2/2 [00:07<00:00,  3.81s/it, bce=0.03977, hard dice=0.62661, loss=0.41573, soft dice=0.62476]\n"
     ]
    },
    {
     "name": "stdout",
     "output_type": "stream",
     "text": [
      "soft dice: 0.91353 | loss: 0.09945 | hard dice: 0.91372 | bce: 0.01167\n"
     ]
    },
    {
     "name": "stderr",
     "output_type": "stream",
     "text": [
      "Epoch 32: 100% 2/2 [00:07<00:00,  3.79s/it, bce=0.03486, hard dice=0.56400, loss=0.53579, soft dice=0.56160]\n"
     ]
    },
    {
     "name": "stdout",
     "output_type": "stream",
     "text": [
      "soft dice: 0.91355 | loss: 0.09948 | hard dice: 0.91372 | bce: 0.01173\n"
     ]
    },
    {
     "name": "stderr",
     "output_type": "stream",
     "text": [
      "Epoch 33: 100% 2/2 [00:08<00:00,  4.10s/it, bce=0.03284, hard dice=0.75214, loss=0.34481, soft dice=0.75048]\n"
     ]
    },
    {
     "name": "stdout",
     "output_type": "stream",
     "text": [
      "soft dice: 0.91347 | loss: 0.09927 | hard dice: 0.91372 | bce: 0.01150\n"
     ]
    },
    {
     "name": "stderr",
     "output_type": "stream",
     "text": [
      "Epoch 34: 100% 2/2 [00:07<00:00,  3.73s/it, bce=0.03668, hard dice=0.81384, loss=0.22339, soft dice=0.81380]\n"
     ]
    },
    {
     "name": "stdout",
     "output_type": "stream",
     "text": [
      "soft dice: 0.91353 | loss: 0.09945 | hard dice: 0.91372 | bce: 0.01167\n"
     ]
    },
    {
     "name": "stderr",
     "output_type": "stream",
     "text": [
      "Epoch 35: 100% 2/2 [00:07<00:00,  3.87s/it, bce=0.04043, hard dice=0.62737, loss=0.41487, soft dice=0.62663]\n"
     ]
    },
    {
     "name": "stdout",
     "output_type": "stream",
     "text": [
      "soft dice: 0.91351 | loss: 0.09937 | hard dice: 0.91372 | bce: 0.01163\n"
     ]
    },
    {
     "name": "stderr",
     "output_type": "stream",
     "text": [
      "Epoch 36: 100% 2/2 [00:07<00:00,  3.61s/it, bce=0.01753, hard dice=0.69036, loss=0.32949, soft dice=0.68906]\n"
     ]
    },
    {
     "name": "stdout",
     "output_type": "stream",
     "text": [
      "soft dice: 0.91347 | loss: 0.09925 | hard dice: 0.91372 | bce: 0.01151\n"
     ]
    },
    {
     "name": "stderr",
     "output_type": "stream",
     "text": [
      "Epoch 37: 100% 2/2 [00:07<00:00,  3.76s/it, bce=0.03396, hard dice=0.62713, loss=0.40825, soft dice=0.62614]\n"
     ]
    },
    {
     "name": "stdout",
     "output_type": "stream",
     "text": [
      "soft dice: 0.91350 | loss: 0.09938 | hard dice: 0.91372 | bce: 0.01160\n"
     ]
    },
    {
     "name": "stderr",
     "output_type": "stream",
     "text": [
      "Epoch 38: 100% 2/2 [00:07<00:00,  3.96s/it, bce=0.03425, hard dice=0.62755, loss=0.42132, soft dice=0.61328]\n"
     ]
    },
    {
     "name": "stdout",
     "output_type": "stream",
     "text": [
      "soft dice: 0.91344 | loss: 0.09929 | hard dice: 0.91372 | bce: 0.01146\n"
     ]
    },
    {
     "name": "stderr",
     "output_type": "stream",
     "text": [
      "Epoch 39: 100% 2/2 [00:07<00:00,  3.92s/it, bce=0.03530, hard dice=0.56644, loss=0.47304, soft dice=0.56416]\n"
     ]
    },
    {
     "name": "stdout",
     "output_type": "stream",
     "text": [
      "soft dice: 0.91353 | loss: 0.09940 | hard dice: 0.91372 | bce: 0.01167\n"
     ]
    },
    {
     "name": "stderr",
     "output_type": "stream",
     "text": [
      "Epoch 40: 100% 2/2 [00:07<00:00,  3.70s/it, bce=0.03728, hard dice=0.50375, loss=0.53711, soft dice=0.50143]\n"
     ]
    },
    {
     "name": "stdout",
     "output_type": "stream",
     "text": [
      "soft dice: 0.91355 | loss: 0.09940 | hard dice: 0.91372 | bce: 0.01175\n"
     ]
    },
    {
     "name": "stderr",
     "output_type": "stream",
     "text": [
      "Epoch 41: 100% 2/2 [00:07<00:00,  3.66s/it, bce=0.02112, hard dice=0.81414, loss=0.21068, soft dice=0.81401]\n"
     ]
    },
    {
     "name": "stdout",
     "output_type": "stream",
     "text": [
      "soft dice: 0.91359 | loss: 0.09955 | hard dice: 0.91372 | bce: 0.01192\n"
     ]
    },
    {
     "name": "stderr",
     "output_type": "stream",
     "text": [
      "Epoch 42: 100% 2/2 [00:07<00:00,  3.88s/it, bce=0.03839, hard dice=0.43958, loss=0.60632, soft dice=0.43608]\n"
     ]
    },
    {
     "name": "stdout",
     "output_type": "stream",
     "text": [
      "soft dice: 0.91355 | loss: 0.09942 | hard dice: 0.91372 | bce: 0.01177\n"
     ]
    },
    {
     "name": "stderr",
     "output_type": "stream",
     "text": [
      "Epoch 43: 100% 2/2 [00:07<00:00,  3.63s/it, bce=0.02708, hard dice=0.81469, loss=0.25725, soft dice=0.81432]\n"
     ]
    },
    {
     "name": "stdout",
     "output_type": "stream",
     "text": [
      "soft dice: 0.91355 | loss: 0.09936 | hard dice: 0.91372 | bce: 0.01174\n"
     ]
    },
    {
     "name": "stderr",
     "output_type": "stream",
     "text": [
      "Epoch 44: 100% 2/2 [00:07<00:00,  3.86s/it, bce=0.03238, hard dice=0.43971, loss=0.60205, soft dice=0.43795]\n"
     ]
    },
    {
     "name": "stdout",
     "output_type": "stream",
     "text": [
      "soft dice: 0.91355 | loss: 0.09972 | hard dice: 0.91372 | bce: 0.01193\n"
     ]
    },
    {
     "name": "stderr",
     "output_type": "stream",
     "text": [
      "Epoch 45: 100% 2/2 [00:07<00:00,  3.66s/it, bce=0.03274, hard dice=0.43978, loss=0.59349, soft dice=0.43960]\n"
     ]
    },
    {
     "name": "stdout",
     "output_type": "stream",
     "text": [
      "soft dice: 0.91358 | loss: 0.09954 | hard dice: 0.91372 | bce: 0.01190\n"
     ]
    },
    {
     "name": "stderr",
     "output_type": "stream",
     "text": [
      "Epoch 46: 100% 2/2 [00:07<00:00,  3.61s/it, bce=0.02777, hard dice=0.56819, loss=0.46615, soft dice=0.56671]\n"
     ]
    },
    {
     "name": "stdout",
     "output_type": "stream",
     "text": [
      "soft dice: 0.91350 | loss: 0.09936 | hard dice: 0.91372 | bce: 0.01164\n"
     ]
    },
    {
     "name": "stderr",
     "output_type": "stream",
     "text": [
      "Epoch 47: 100% 2/2 [00:07<00:00,  3.71s/it, bce=0.03344, hard dice=0.50201, loss=0.59687, soft dice=0.49654]\n"
     ]
    },
    {
     "name": "stdout",
     "output_type": "stream",
     "text": [
      "soft dice: 0.91338 | loss: 0.09926 | hard dice: 0.91372 | bce: 0.01141\n"
     ]
    },
    {
     "name": "stderr",
     "output_type": "stream",
     "text": [
      "Epoch 48: 100% 2/2 [00:07<00:00,  3.60s/it, bce=0.02580, hard dice=0.75274, loss=0.27874, soft dice=0.74730]\n"
     ]
    },
    {
     "name": "stdout",
     "output_type": "stream",
     "text": [
      "soft dice: 0.91336 | loss: 0.09937 | hard dice: 0.91372 | bce: 0.01146\n"
     ]
    },
    {
     "name": "stderr",
     "output_type": "stream",
     "text": [
      "Epoch 49: 100% 2/2 [00:07<00:00,  3.80s/it, bce=0.03253, hard dice=0.50421, loss=0.53474, soft dice=0.49940]\n"
     ]
    },
    {
     "name": "stdout",
     "output_type": "stream",
     "text": [
      "soft dice: 0.91342 | loss: 0.09933 | hard dice: 0.91372 | bce: 0.01150\n",
      "Starting cyclic lr\n"
     ]
    },
    {
     "name": "stderr",
     "output_type": "stream",
     "text": [
      "Epoch 50: 100% 2/2 [00:07<00:00,  3.66s/it, bce=0.05569, hard dice=0.31596, loss=0.74996, soft dice=0.31349]\n"
     ]
    },
    {
     "name": "stdout",
     "output_type": "stream",
     "text": [
      "soft dice: 0.91273 | loss: 0.14070 | hard dice: 0.91372 | bce: 0.01270\n"
     ]
    },
    {
     "name": "stderr",
     "output_type": "stream",
     "text": [
      "Epoch 51: 100% 2/2 [00:07<00:00,  3.88s/it, bce=0.04599, hard dice=0.31613, loss=0.84589, soft dice=0.31523]\n"
     ]
    },
    {
     "name": "stdout",
     "output_type": "stream",
     "text": [
      "soft dice: 0.91372 | loss: 0.10381 | hard dice: 0.91372 | bce: 0.01549\n"
     ]
    },
    {
     "name": "stderr",
     "output_type": "stream",
     "text": [
      "Epoch 52: 100% 2/2 [00:07<00:00,  3.85s/it, bce=0.03017, hard dice=0.87626, loss=0.15768, soft dice=0.87626]\n"
     ]
    },
    {
     "name": "stdout",
     "output_type": "stream",
     "text": [
      "soft dice: 0.91372 | loss: 0.10387 | hard dice: 0.91372 | bce: 0.01554\n"
     ]
    },
    {
     "name": "stderr",
     "output_type": "stream",
     "text": [
      "Epoch 53: 100% 2/2 [00:07<00:00,  3.67s/it, bce=0.04454, hard dice=0.93830, loss=0.17008, soft dice=0.93830]\n"
     ]
    },
    {
     "name": "stdout",
     "output_type": "stream",
     "text": [
      "soft dice: 0.91372 | loss: 0.10357 | hard dice: 0.91372 | bce: 0.01537\n"
     ]
    },
    {
     "name": "stderr",
     "output_type": "stream",
     "text": [
      "Epoch 54: 100% 2/2 [00:07<00:00,  3.93s/it, bce=0.04232, hard dice=0.81357, loss=0.23302, soft dice=0.81356]\n"
     ]
    },
    {
     "name": "stdout",
     "output_type": "stream",
     "text": [
      "soft dice: 0.91372 | loss: 0.10380 | hard dice: 0.91372 | bce: 0.01545\n"
     ]
    },
    {
     "name": "stderr",
     "output_type": "stream",
     "text": [
      "Epoch 55: 100% 2/2 [00:08<00:00,  4.12s/it, bce=0.03991, hard dice=0.44024, loss=0.60320, soft dice=0.43969]\n"
     ]
    },
    {
     "name": "stdout",
     "output_type": "stream",
     "text": [
      "soft dice: 0.91371 | loss: 0.10296 | hard dice: 0.91372 | bce: 0.01451\n"
     ]
    },
    {
     "name": "stderr",
     "output_type": "stream",
     "text": [
      "Epoch 56: 100% 2/2 [00:07<00:00,  3.82s/it, bce=0.03020, hard dice=0.68966, loss=0.34244, soft dice=0.68959]\n"
     ]
    },
    {
     "name": "stdout",
     "output_type": "stream",
     "text": [
      "soft dice: 0.91371 | loss: 0.10315 | hard dice: 0.91372 | bce: 0.01467\n"
     ]
    },
    {
     "name": "stderr",
     "output_type": "stream",
     "text": [
      "Epoch 57: 100% 2/2 [00:07<00:00,  3.98s/it, bce=0.04310, hard dice=0.44009, loss=0.60430, soft dice=0.44009]\n"
     ]
    },
    {
     "name": "stdout",
     "output_type": "stream",
     "text": [
      "soft dice: 0.91371 | loss: 0.10305 | hard dice: 0.91372 | bce: 0.01455\n"
     ]
    },
    {
     "name": "stderr",
     "output_type": "stream",
     "text": [
      "Epoch 58: 100% 2/2 [00:07<00:00,  3.80s/it, bce=0.04486, hard dice=0.62727, loss=0.47974, soft dice=0.62727]\n"
     ]
    },
    {
     "name": "stdout",
     "output_type": "stream",
     "text": [
      "soft dice: 0.91371 | loss: 0.10300 | hard dice: 0.91372 | bce: 0.01477\n"
     ]
    },
    {
     "name": "stderr",
     "output_type": "stream",
     "text": [
      "Epoch 59: 100% 2/2 [00:07<00:00,  3.81s/it, bce=0.03468, hard dice=0.62785, loss=0.46731, soft dice=0.62784]\n"
     ]
    },
    {
     "name": "stdout",
     "output_type": "stream",
     "text": [
      "soft dice: 0.91371 | loss: 0.10319 | hard dice: 0.91372 | bce: 0.01502\n"
     ]
    },
    {
     "name": "stderr",
     "output_type": "stream",
     "text": [
      "Epoch 60: 100% 2/2 [00:07<00:00,  3.85s/it, bce=0.03682, hard dice=0.62800, loss=0.43595, soft dice=0.61068]\n"
     ]
    },
    {
     "name": "stdout",
     "output_type": "stream",
     "text": [
      "soft dice: 0.91365 | loss: 0.10221 | hard dice: 0.91372 | bce: 0.01286\n"
     ]
    },
    {
     "name": "stderr",
     "output_type": "stream",
     "text": [
      "Epoch 61: 100% 2/2 [00:07<00:00,  3.73s/it, bce=0.03119, hard dice=0.50260, loss=0.53464, soft dice=0.50107]\n"
     ]
    },
    {
     "name": "stdout",
     "output_type": "stream",
     "text": [
      "soft dice: 0.91372 | loss: 0.10597 | hard dice: 0.91372 | bce: 0.01572\n"
     ]
    },
    {
     "name": "stderr",
     "output_type": "stream",
     "text": [
      "Epoch 62: 100% 2/2 [00:07<00:00,  3.87s/it, bce=0.03684, hard dice=0.62636, loss=0.41656, soft dice=0.62636]\n"
     ]
    },
    {
     "name": "stdout",
     "output_type": "stream",
     "text": [
      "soft dice: 0.91372 | loss: 0.10614 | hard dice: 0.91372 | bce: 0.01572\n"
     ]
    },
    {
     "name": "stderr",
     "output_type": "stream",
     "text": [
      "Epoch 63: 100% 2/2 [00:07<00:00,  3.68s/it, bce=0.03587, hard dice=0.75199, loss=0.29296, soft dice=0.75199]\n"
     ]
    },
    {
     "name": "stdout",
     "output_type": "stream",
     "text": [
      "soft dice: 0.91372 | loss: 0.10612 | hard dice: 0.91372 | bce: 0.01563\n"
     ]
    },
    {
     "name": "stderr",
     "output_type": "stream",
     "text": [
      "Epoch 64: 100% 2/2 [00:07<00:00,  3.79s/it, bce=0.04138, hard dice=0.69158, loss=0.35293, soft dice=0.69158]\n"
     ]
    },
    {
     "name": "stdout",
     "output_type": "stream",
     "text": [
      "soft dice: 0.91372 | loss: 0.10603 | hard dice: 0.91372 | bce: 0.01564\n"
     ]
    },
    {
     "name": "stderr",
     "output_type": "stream",
     "text": [
      "Epoch 65: 100% 2/2 [00:07<00:00,  3.62s/it, bce=0.03357, hard dice=0.87633, loss=0.15889, soft dice=0.87633]\n"
     ]
    },
    {
     "name": "stdout",
     "output_type": "stream",
     "text": [
      "soft dice: 0.91098 | loss: 0.10419 | hard dice: 0.91372 | bce: 0.01216\n"
     ]
    },
    {
     "name": "stderr",
     "output_type": "stream",
     "text": [
      "Epoch 66: 100% 2/2 [00:07<00:00,  3.79s/it, bce=0.02461, hard dice=0.56680, loss=0.47291, soft dice=0.55546]\n"
     ]
    },
    {
     "name": "stdout",
     "output_type": "stream",
     "text": [
      "soft dice: 0.91354 | loss: 0.10666 | hard dice: 0.91372 | bce: 0.01406\n"
     ]
    },
    {
     "name": "stderr",
     "output_type": "stream",
     "text": [
      "Epoch 67: 100% 2/2 [00:07<00:00,  3.83s/it, bce=0.02160, hard dice=0.87609, loss=0.14718, soft dice=0.87606]\n"
     ]
    },
    {
     "name": "stdout",
     "output_type": "stream",
     "text": [
      "soft dice: 0.91361 | loss: 0.10153 | hard dice: 0.91372 | bce: 0.01385\n"
     ]
    },
    {
     "name": "stderr",
     "output_type": "stream",
     "text": [
      "Epoch 68: 100% 2/2 [00:07<00:00,  3.81s/it, bce=0.04199, hard dice=0.75312, loss=0.34381, soft dice=0.75294]\n"
     ]
    },
    {
     "name": "stdout",
     "output_type": "stream",
     "text": [
      "soft dice: 0.91366 | loss: 0.10119 | hard dice: 0.91372 | bce: 0.01374\n"
     ]
    },
    {
     "name": "stderr",
     "output_type": "stream",
     "text": [
      "Epoch 69: 100% 2/2 [00:07<00:00,  3.91s/it, bce=0.03870, hard dice=0.50239, loss=0.53660, soft dice=0.50231]\n"
     ]
    },
    {
     "name": "stdout",
     "output_type": "stream",
     "text": [
      "soft dice: 0.91369 | loss: 0.10118 | hard dice: 0.91372 | bce: 0.01379\n"
     ]
    },
    {
     "name": "stderr",
     "output_type": "stream",
     "text": [
      "Epoch 70: 100% 2/2 [00:07<00:00,  3.60s/it, bce=0.03762, hard dice=0.44005, loss=0.59884, soft dice=0.43925]\n"
     ]
    },
    {
     "name": "stdout",
     "output_type": "stream",
     "text": [
      "soft dice: 0.91248 | loss: 0.10002 | hard dice: 0.91372 | bce: 0.01099\n"
     ]
    },
    {
     "name": "stderr",
     "output_type": "stream",
     "text": [
      "Epoch 71: 100% 2/2 [00:07<00:00,  3.81s/it, bce=0.03995, hard dice=0.43904, loss=0.62478, soft dice=0.41550]\n"
     ]
    },
    {
     "name": "stdout",
     "output_type": "stream",
     "text": [
      "soft dice: 0.91278 | loss: 0.10025 | hard dice: 0.91372 | bce: 0.01204\n"
     ]
    },
    {
     "name": "stderr",
     "output_type": "stream",
     "text": [
      "Epoch 72: 100% 2/2 [00:07<00:00,  3.58s/it, bce=0.02036, hard dice=0.81515, loss=0.20765, soft dice=0.81418]\n"
     ]
    },
    {
     "name": "stdout",
     "output_type": "stream",
     "text": [
      "soft dice: 0.91358 | loss: 0.10032 | hard dice: 0.91372 | bce: 0.01294\n"
     ]
    },
    {
     "name": "stderr",
     "output_type": "stream",
     "text": [
      "Epoch 73: 100% 2/2 [00:07<00:00,  3.63s/it, bce=0.02360, hard dice=0.75169, loss=0.27373, soft dice=0.75169]\n"
     ]
    },
    {
     "name": "stdout",
     "output_type": "stream",
     "text": [
      "soft dice: 0.91368 | loss: 0.10074 | hard dice: 0.91372 | bce: 0.01343\n"
     ]
    },
    {
     "name": "stderr",
     "output_type": "stream",
     "text": [
      "Epoch 74: 100% 2/2 [00:07<00:00,  3.84s/it, bce=0.04183, hard dice=0.68905, loss=0.35378, soft dice=0.68899]\n"
     ]
    },
    {
     "name": "stdout",
     "output_type": "stream",
     "text": [
      "soft dice: 0.91370 | loss: 0.10099 | hard dice: 0.91372 | bce: 0.01369\n"
     ]
    },
    {
     "name": "stderr",
     "output_type": "stream",
     "text": [
      "Epoch 75: 100% 2/2 [00:07<00:00,  3.85s/it, bce=0.02640, hard dice=0.62777, loss=0.39923, soft dice=0.62772]\n"
     ]
    },
    {
     "name": "stdout",
     "output_type": "stream",
     "text": [
      "soft dice: 0.91363 | loss: 0.09998 | hard dice: 0.91372 | bce: 0.01266\n"
     ]
    },
    {
     "name": "stderr",
     "output_type": "stream",
     "text": [
      "Epoch 76: 100% 2/2 [00:08<00:00,  4.16s/it, bce=0.02360, hard dice=0.81739, loss=0.20982, soft dice=0.81594]\n"
     ]
    },
    {
     "name": "stdout",
     "output_type": "stream",
     "text": [
      "soft dice: 0.91349 | loss: 0.09931 | hard dice: 0.91372 | bce: 0.01184\n"
     ]
    },
    {
     "name": "stderr",
     "output_type": "stream",
     "text": [
      "Epoch 77: 100% 2/2 [00:07<00:00,  3.85s/it, bce=0.02198, hard dice=0.81412, loss=0.21766, soft dice=0.80496]\n"
     ]
    },
    {
     "name": "stdout",
     "output_type": "stream",
     "text": [
      "soft dice: 0.91352 | loss: 0.09931 | hard dice: 0.91372 | bce: 0.01188\n"
     ]
    },
    {
     "name": "stderr",
     "output_type": "stream",
     "text": [
      "Epoch 78: 100% 2/2 [00:07<00:00,  3.61s/it, bce=0.02396, hard dice=0.81573, loss=0.21040, soft dice=0.81424]\n"
     ]
    },
    {
     "name": "stdout",
     "output_type": "stream",
     "text": [
      "soft dice: 0.91362 | loss: 0.09961 | hard dice: 0.91372 | bce: 0.01228\n"
     ]
    },
    {
     "name": "stderr",
     "output_type": "stream",
     "text": [
      "Epoch 79: 100% 2/2 [00:07<00:00,  3.99s/it, bce=0.02406, hard dice=0.87584, loss=0.14868, soft dice=0.87554]\n"
     ]
    },
    {
     "name": "stdout",
     "output_type": "stream",
     "text": [
      "soft dice: 0.91363 | loss: 0.09962 | hard dice: 0.91372 | bce: 0.01229\n"
     ]
    },
    {
     "name": "stderr",
     "output_type": "stream",
     "text": [
      "Epoch 80: 100% 2/2 [00:08<00:00,  4.00s/it, bce=0.03803, hard dice=0.87573, loss=0.22101, soft dice=0.87493]\n"
     ]
    },
    {
     "name": "stdout",
     "output_type": "stream",
     "text": [
      "soft dice: 0.91370 | loss: 0.10126 | hard dice: 0.91372 | bce: 0.01391\n"
     ]
    },
    {
     "name": "stderr",
     "output_type": "stream",
     "text": [
      "Epoch 81: 100% 2/2 [00:07<00:00,  3.64s/it, bce=0.03371, hard dice=0.62665, loss=0.40811, soft dice=0.62632]\n"
     ]
    },
    {
     "name": "stdout",
     "output_type": "stream",
     "text": [
      "soft dice: 0.91364 | loss: 0.10086 | hard dice: 0.91372 | bce: 0.01336\n"
     ]
    },
    {
     "name": "stderr",
     "output_type": "stream",
     "text": [
      "Epoch 82: 100% 2/2 [00:08<00:00,  4.02s/it, bce=0.02885, hard dice=0.69064, loss=0.33925, soft dice=0.68994]\n"
     ]
    },
    {
     "name": "stdout",
     "output_type": "stream",
     "text": [
      "soft dice: 0.91359 | loss: 0.10041 | hard dice: 0.91372 | bce: 0.01292\n"
     ]
    },
    {
     "name": "stderr",
     "output_type": "stream",
     "text": [
      "Epoch 83: 100% 2/2 [00:07<00:00,  3.83s/it, bce=0.03128, hard dice=0.50293, loss=0.53383, soft dice=0.49872]\n"
     ]
    },
    {
     "name": "stdout",
     "output_type": "stream",
     "text": [
      "soft dice: 0.91348 | loss: 0.10009 | hard dice: 0.91372 | bce: 0.01251\n"
     ]
    },
    {
     "name": "stderr",
     "output_type": "stream",
     "text": [
      "Epoch 84: 100% 2/2 [00:07<00:00,  3.77s/it, bce=0.01808, hard dice=0.87710, loss=0.14137, soft dice=0.87666]\n"
     ]
    },
    {
     "name": "stdout",
     "output_type": "stream",
     "text": [
      "soft dice: 0.91343 | loss: 0.09998 | hard dice: 0.91372 | bce: 0.01235\n"
     ]
    },
    {
     "name": "stderr",
     "output_type": "stream",
     "text": [
      "Epoch 85: 100% 2/2 [00:07<00:00,  3.84s/it, bce=0.04800, hard dice=0.37764, loss=0.67352, soft dice=0.37635]\n"
     ]
    },
    {
     "name": "stdout",
     "output_type": "stream",
     "text": [
      "soft dice: 0.91364 | loss: 0.10018 | hard dice: 0.91372 | bce: 0.01287\n"
     ]
    },
    {
     "name": "stderr",
     "output_type": "stream",
     "text": [
      "Epoch 86: 100% 2/2 [00:07<00:00,  3.64s/it, bce=0.04329, hard dice=0.75132, loss=0.29435, soft dice=0.74978]\n"
     ]
    },
    {
     "name": "stdout",
     "output_type": "stream",
     "text": [
      "soft dice: 0.91256 | loss: 0.09982 | hard dice: 0.91372 | bce: 0.01098\n"
     ]
    },
    {
     "name": "stderr",
     "output_type": "stream",
     "text": [
      "Epoch 87: 100% 2/2 [00:07<00:00,  3.63s/it, bce=0.03120, hard dice=0.31570, loss=0.72337, soft dice=0.30902]\n"
     ]
    },
    {
     "name": "stdout",
     "output_type": "stream",
     "text": [
      "soft dice: 0.91285 | loss: 0.09917 | hard dice: 0.91372 | bce: 0.01084\n"
     ]
    },
    {
     "name": "stderr",
     "output_type": "stream",
     "text": [
      "Epoch 88: 100% 2/2 [00:08<00:00,  4.10s/it, bce=0.02431, hard dice=0.62653, loss=0.40140, soft dice=0.62364]\n"
     ]
    },
    {
     "name": "stdout",
     "output_type": "stream",
     "text": [
      "soft dice: 0.91349 | loss: 0.09920 | hard dice: 0.91372 | bce: 0.01174\n"
     ]
    },
    {
     "name": "stderr",
     "output_type": "stream",
     "text": [
      "Epoch 89: 100% 2/2 [00:07<00:00,  3.56s/it, bce=0.02699, hard dice=0.68940, loss=0.34229, soft dice=0.68539]\n"
     ]
    },
    {
     "name": "stdout",
     "output_type": "stream",
     "text": [
      "soft dice: 0.91347 | loss: 0.09921 | hard dice: 0.91372 | bce: 0.01174\n"
     ]
    },
    {
     "name": "stderr",
     "output_type": "stream",
     "text": [
      "Epoch 90: 100% 2/2 [00:07<00:00,  3.93s/it, bce=0.02688, hard dice=0.56891, loss=0.46219, soft dice=0.56815]\n"
     ]
    },
    {
     "name": "stdout",
     "output_type": "stream",
     "text": [
      "soft dice: 0.91372 | loss: 0.10784 | hard dice: 0.91372 | bce: 0.01592\n"
     ]
    },
    {
     "name": "stderr",
     "output_type": "stream",
     "text": [
      "Epoch 91: 100% 2/2 [00:07<00:00,  3.79s/it, bce=0.03718, hard dice=0.75102, loss=0.28850, soft dice=0.75102]\n"
     ]
    },
    {
     "name": "stdout",
     "output_type": "stream",
     "text": [
      "soft dice: 0.91372 | loss: 0.10948 | hard dice: 0.91372 | bce: 0.01596\n"
     ]
    },
    {
     "name": "stderr",
     "output_type": "stream",
     "text": [
      "Epoch 92: 100% 2/2 [00:07<00:00,  3.80s/it, bce=0.04638, hard dice=0.50199, loss=0.55381, soft dice=0.50198]\n"
     ]
    },
    {
     "name": "stdout",
     "output_type": "stream",
     "text": [
      "soft dice: 0.91372 | loss: 0.10939 | hard dice: 0.91372 | bce: 0.01581\n"
     ]
    },
    {
     "name": "stderr",
     "output_type": "stream",
     "text": [
      "Epoch 93: 100% 2/2 [00:07<00:00,  3.71s/it, bce=0.03173, hard dice=0.75076, loss=0.28411, soft dice=0.75075]\n"
     ]
    },
    {
     "name": "stdout",
     "output_type": "stream",
     "text": [
      "soft dice: 0.91372 | loss: 0.10832 | hard dice: 0.91372 | bce: 0.01550\n"
     ]
    },
    {
     "name": "stderr",
     "output_type": "stream",
     "text": [
      "Epoch 94: 100% 2/2 [00:07<00:00,  3.86s/it, bce=0.03747, hard dice=0.68975, loss=0.35114, soft dice=0.68972]\n"
     ]
    },
    {
     "name": "stdout",
     "output_type": "stream",
     "text": [
      "soft dice: 0.91372 | loss: 0.10802 | hard dice: 0.91372 | bce: 0.01522\n"
     ]
    },
    {
     "name": "stderr",
     "output_type": "stream",
     "text": [
      "Epoch 95: 100% 2/2 [00:07<00:00,  3.73s/it, bce=0.04103, hard dice=0.56398, loss=0.57664, soft dice=0.52161]\n"
     ]
    },
    {
     "name": "stdout",
     "output_type": "stream",
     "text": [
      "soft dice: 0.91360 | loss: 0.10094 | hard dice: 0.91372 | bce: 0.01246\n"
     ]
    },
    {
     "name": "stderr",
     "output_type": "stream",
     "text": [
      "Epoch 96: 100% 2/2 [00:07<00:00,  3.74s/it, bce=0.03890, hard dice=0.81409, loss=0.23883, soft dice=0.80532]\n"
     ]
    },
    {
     "name": "stdout",
     "output_type": "stream",
     "text": [
      "soft dice: 0.91372 | loss: 0.11033 | hard dice: 0.91372 | bce: 0.01599\n"
     ]
    },
    {
     "name": "stderr",
     "output_type": "stream",
     "text": [
      "Epoch 97: 100% 2/2 [00:07<00:00,  3.66s/it, bce=0.03498, hard dice=0.87778, loss=0.17498, soft dice=0.87778]\n"
     ]
    },
    {
     "name": "stdout",
     "output_type": "stream",
     "text": [
      "soft dice: 0.91372 | loss: 0.11138 | hard dice: 0.91372 | bce: 0.01599\n"
     ]
    },
    {
     "name": "stderr",
     "output_type": "stream",
     "text": [
      "Epoch 98: 100% 2/2 [00:07<00:00,  3.99s/it, bce=0.03747, hard dice=0.69012, loss=0.36110, soft dice=0.69012]\n"
     ]
    },
    {
     "name": "stdout",
     "output_type": "stream",
     "text": [
      "soft dice: 0.91372 | loss: 0.11042 | hard dice: 0.91372 | bce: 0.01599\n"
     ]
    },
    {
     "name": "stderr",
     "output_type": "stream",
     "text": [
      "Epoch 99: 100% 2/2 [00:08<00:00,  4.11s/it, bce=0.04272, hard dice=0.68970, loss=0.36897, soft dice=0.68970]\n"
     ]
    },
    {
     "name": "stdout",
     "output_type": "stream",
     "text": [
      "soft dice: 0.91372 | loss: 0.11023 | hard dice: 0.91372 | bce: 0.01599\n",
      "Finished train fold: 0 with best loss 0.09908 on epoch 25\n",
      "\n"
     ]
    },
    {
     "name": "stderr",
     "output_type": "stream",
     "text": [
      "Epoch 0: 100% 2/2 [00:07<00:00,  3.92s/it, bce=0.33831, hard dice=0.71108, loss=1.33551, soft dice=0.00479]\n"
     ]
    },
    {
     "name": "stdout",
     "output_type": "stream",
     "text": [
      "soft dice: 0.66374 | loss: 3.73050 | hard dice: 0.66374 | bce: 0.04133\n"
     ]
    },
    {
     "name": "stderr",
     "output_type": "stream",
     "text": [
      "Epoch 1: 100% 2/2 [00:07<00:00,  3.86s/it, bce=0.02905, hard dice=0.81692, loss=0.57672, soft dice=0.62718]\n"
     ]
    },
    {
     "name": "stdout",
     "output_type": "stream",
     "text": [
      "soft dice: 0.66374 | loss: 1579.64557 | hard dice: 0.66374 | bce: 0.04133\n"
     ]
    },
    {
     "name": "stderr",
     "output_type": "stream",
     "text": [
      "Epoch 2: 100% 2/2 [00:07<00:00,  3.99s/it, bce=0.03250, hard dice=0.56520, loss=0.50437, soft dice=0.56520]\n"
     ]
    },
    {
     "name": "stdout",
     "output_type": "stream",
     "text": [
      "soft dice: 0.66374 | loss: 198.05546 | hard dice: 0.66374 | bce: 0.04133\n"
     ]
    },
    {
     "name": "stderr",
     "output_type": "stream",
     "text": [
      "Epoch 3: 100% 2/2 [00:07<00:00,  3.75s/it, bce=0.04928, hard dice=0.82331, loss=0.28481, soft dice=0.82331]\n"
     ]
    },
    {
     "name": "stdout",
     "output_type": "stream",
     "text": [
      "soft dice: 0.66374 | loss: 28.31932 | hard dice: 0.66374 | bce: 0.04133\n"
     ]
    },
    {
     "name": "stderr",
     "output_type": "stream",
     "text": [
      "Epoch 4: 100% 2/2 [00:08<00:00,  4.08s/it, bce=0.02752, hard dice=0.81402, loss=0.22836, soft dice=0.81394]\n"
     ]
    },
    {
     "name": "stdout",
     "output_type": "stream",
     "text": [
      "soft dice: 0.66374 | loss: 3.94903 | hard dice: 0.66374 | bce: 0.04133\n"
     ]
    },
    {
     "name": "stderr",
     "output_type": "stream",
     "text": [
      "Epoch 5: 100% 2/2 [00:07<00:00,  3.99s/it, bce=0.02043, hard dice=0.82415, loss=0.22681, soft dice=0.80457]\n"
     ]
    },
    {
     "name": "stdout",
     "output_type": "stream",
     "text": [
      "soft dice: 0.66374 | loss: 2.02866 | hard dice: 0.66374 | bce: 0.04133\n"
     ]
    },
    {
     "name": "stderr",
     "output_type": "stream",
     "text": [
      "Epoch 6: 100% 2/2 [00:08<00:00,  4.09s/it, bce=0.02359, hard dice=0.87597, loss=0.15715, soft dice=0.87597]\n"
     ]
    },
    {
     "name": "stdout",
     "output_type": "stream",
     "text": [
      "soft dice: 0.66374 | loss: 0.93520 | hard dice: 0.66374 | bce: 0.04133\n"
     ]
    },
    {
     "name": "stderr",
     "output_type": "stream",
     "text": [
      "Epoch 7: 100% 2/2 [00:07<00:00,  3.77s/it, bce=0.02794, hard dice=0.81365, loss=0.22324, soft dice=0.81365]\n"
     ]
    },
    {
     "name": "stdout",
     "output_type": "stream",
     "text": [
      "soft dice: 0.66374 | loss: 0.44779 | hard dice: 0.66374 | bce: 0.04126\n"
     ]
    },
    {
     "name": "stderr",
     "output_type": "stream",
     "text": [
      "Epoch 8: 100% 2/2 [00:07<00:00,  3.96s/it, bce=0.03504, hard dice=0.81467, loss=0.22488, soft dice=0.81467]\n"
     ]
    },
    {
     "name": "stdout",
     "output_type": "stream",
     "text": [
      "soft dice: 0.66374 | loss: 0.39436 | hard dice: 0.66374 | bce: 0.04006\n"
     ]
    },
    {
     "name": "stderr",
     "output_type": "stream",
     "text": [
      "Epoch 9: 100% 2/2 [00:07<00:00,  3.68s/it, bce=0.02725, hard dice=0.81348, loss=0.22077, soft dice=0.81324]\n"
     ]
    },
    {
     "name": "stdout",
     "output_type": "stream",
     "text": [
      "soft dice: 0.66373 | loss: 0.37863 | hard dice: 0.66374 | bce: 0.03419\n"
     ]
    },
    {
     "name": "stderr",
     "output_type": "stream",
     "text": [
      "Epoch 10: 100% 2/2 [00:07<00:00,  3.66s/it, bce=0.01678, hard dice=0.75266, loss=0.26983, soft dice=0.74762]\n"
     ]
    },
    {
     "name": "stdout",
     "output_type": "stream",
     "text": [
      "soft dice: 0.66374 | loss: 0.37715 | hard dice: 0.66374 | bce: 0.03552\n"
     ]
    },
    {
     "name": "stderr",
     "output_type": "stream",
     "text": [
      "Epoch 11: 100% 2/2 [00:07<00:00,  3.70s/it, bce=0.02782, hard dice=0.62763, loss=0.40563, soft dice=0.62728]\n"
     ]
    },
    {
     "name": "stdout",
     "output_type": "stream",
     "text": [
      "soft dice: 0.66374 | loss: 0.37502 | hard dice: 0.66374 | bce: 0.03496\n"
     ]
    },
    {
     "name": "stderr",
     "output_type": "stream",
     "text": [
      "Epoch 12: 100% 2/2 [00:07<00:00,  3.70s/it, bce=0.02118, hard dice=0.75347, loss=0.27451, soft dice=0.75077]\n"
     ]
    },
    {
     "name": "stdout",
     "output_type": "stream",
     "text": [
      "soft dice: 0.66373 | loss: 0.37316 | hard dice: 0.66374 | bce: 0.03351\n"
     ]
    },
    {
     "name": "stderr",
     "output_type": "stream",
     "text": [
      "Epoch 13: 100% 2/2 [00:07<00:00,  3.99s/it, bce=0.01770, hard dice=0.75227, loss=0.33780, soft dice=0.74326]\n"
     ]
    },
    {
     "name": "stdout",
     "output_type": "stream",
     "text": [
      "soft dice: 0.66372 | loss: 0.37273 | hard dice: 0.66374 | bce: 0.03325\n"
     ]
    },
    {
     "name": "stderr",
     "output_type": "stream",
     "text": [
      "Epoch 14: 100% 2/2 [00:07<00:00,  3.72s/it, bce=0.02884, hard dice=0.63529, loss=0.46012, soft dice=0.63510]\n"
     ]
    },
    {
     "name": "stdout",
     "output_type": "stream",
     "text": [
      "soft dice: 0.66373 | loss: 0.37324 | hard dice: 0.66374 | bce: 0.03388\n"
     ]
    },
    {
     "name": "stderr",
     "output_type": "stream",
     "text": [
      "Epoch 15: 100% 2/2 [00:08<00:00,  4.08s/it, bce=0.03842, hard dice=0.81405, loss=0.22752, soft dice=0.81395]\n"
     ]
    },
    {
     "name": "stdout",
     "output_type": "stream",
     "text": [
      "soft dice: 0.66373 | loss: 0.37336 | hard dice: 0.66374 | bce: 0.03409\n"
     ]
    },
    {
     "name": "stderr",
     "output_type": "stream",
     "text": [
      "Epoch 16: 100% 2/2 [00:07<00:00,  3.96s/it, bce=0.02885, hard dice=0.62689, loss=0.40893, soft dice=0.62688]\n"
     ]
    },
    {
     "name": "stdout",
     "output_type": "stream",
     "text": [
      "soft dice: 0.66372 | loss: 0.37266 | hard dice: 0.66374 | bce: 0.03335\n"
     ]
    },
    {
     "name": "stderr",
     "output_type": "stream",
     "text": [
      "Epoch 17: 100% 2/2 [00:07<00:00,  3.90s/it, bce=0.03100, hard dice=0.68879, loss=0.34409, soft dice=0.68874]\n"
     ]
    },
    {
     "name": "stdout",
     "output_type": "stream",
     "text": [
      "soft dice: 0.66371 | loss: 0.37177 | hard dice: 0.66374 | bce: 0.03253\n"
     ]
    },
    {
     "name": "stderr",
     "output_type": "stream",
     "text": [
      "Epoch 18: 100% 2/2 [00:07<00:00,  3.97s/it, bce=0.02342, hard dice=0.75106, loss=0.27335, soft dice=0.75090]\n"
     ]
    },
    {
     "name": "stdout",
     "output_type": "stream",
     "text": [
      "soft dice: 0.66366 | loss: 0.37009 | hard dice: 0.66374 | bce: 0.03079\n"
     ]
    },
    {
     "name": "stderr",
     "output_type": "stream",
     "text": [
      "Epoch 19: 100% 2/2 [00:07<00:00,  3.76s/it, bce=0.02847, hard dice=0.69112, loss=0.34801, soft dice=0.68562]\n"
     ]
    },
    {
     "name": "stdout",
     "output_type": "stream",
     "text": [
      "soft dice: 0.66357 | loss: 0.36900 | hard dice: 0.66374 | bce: 0.02970\n"
     ]
    },
    {
     "name": "stderr",
     "output_type": "stream",
     "text": [
      "Epoch 20: 100% 2/2 [00:07<00:00,  3.58s/it, bce=0.03062, hard dice=0.87568, loss=0.15619, soft dice=0.87479]\n"
     ]
    },
    {
     "name": "stdout",
     "output_type": "stream",
     "text": [
      "soft dice: 0.66358 | loss: 0.36897 | hard dice: 0.66374 | bce: 0.02975\n"
     ]
    },
    {
     "name": "stderr",
     "output_type": "stream",
     "text": [
      "Epoch 21: 100% 2/2 [00:06<00:00,  3.45s/it, bce=0.02000, hard dice=0.81626, loss=0.21480, soft dice=0.81030]\n"
     ]
    },
    {
     "name": "stdout",
     "output_type": "stream",
     "text": [
      "soft dice: 0.66367 | loss: 0.37004 | hard dice: 0.66374 | bce: 0.03106\n"
     ]
    },
    {
     "name": "stderr",
     "output_type": "stream",
     "text": [
      "Epoch 22: 100% 2/2 [00:08<00:00,  4.07s/it, bce=0.02455, hard dice=0.50282, loss=0.53032, soft dice=0.50234]\n"
     ]
    },
    {
     "name": "stdout",
     "output_type": "stream",
     "text": [
      "soft dice: 0.66372 | loss: 0.37173 | hard dice: 0.66374 | bce: 0.03291\n"
     ]
    },
    {
     "name": "stderr",
     "output_type": "stream",
     "text": [
      "Epoch 23: 100% 2/2 [00:07<00:00,  3.77s/it, bce=0.03943, hard dice=0.31628, loss=0.72413, soft dice=0.31625]\n"
     ]
    },
    {
     "name": "stdout",
     "output_type": "stream",
     "text": [
      "soft dice: 0.66373 | loss: 0.37272 | hard dice: 0.66374 | bce: 0.03406\n"
     ]
    },
    {
     "name": "stderr",
     "output_type": "stream",
     "text": [
      "Epoch 24: 100% 2/2 [00:08<00:00,  4.11s/it, bce=0.03975, hard dice=0.75173, loss=0.29155, soft dice=0.75165]\n"
     ]
    },
    {
     "name": "stdout",
     "output_type": "stream",
     "text": [
      "soft dice: 0.66373 | loss: 0.37281 | hard dice: 0.66374 | bce: 0.03414\n"
     ]
    },
    {
     "name": "stderr",
     "output_type": "stream",
     "text": [
      "Epoch 25: 100% 2/2 [00:07<00:00,  3.55s/it, bce=0.02237, hard dice=0.93842, loss=0.08503, soft dice=0.93831]\n"
     ]
    },
    {
     "name": "stdout",
     "output_type": "stream",
     "text": [
      "soft dice: 0.66373 | loss: 0.37242 | hard dice: 0.66374 | bce: 0.03378\n"
     ]
    },
    {
     "name": "stderr",
     "output_type": "stream",
     "text": [
      "Epoch 26: 100% 2/2 [00:07<00:00,  3.99s/it, bce=0.01592, hard dice=0.81365, loss=0.20290, soft dice=0.81364]\n"
     ]
    },
    {
     "name": "stdout",
     "output_type": "stream",
     "text": [
      "soft dice: 0.66373 | loss: 0.37254 | hard dice: 0.66374 | bce: 0.03394\n"
     ]
    },
    {
     "name": "stderr",
     "output_type": "stream",
     "text": [
      "Epoch 27: 100% 2/2 [00:07<00:00,  3.69s/it, bce=0.04006, hard dice=0.56511, loss=0.47523, soft dice=0.56503]\n"
     ]
    },
    {
     "name": "stdout",
     "output_type": "stream",
     "text": [
      "soft dice: 0.66373 | loss: 0.37225 | hard dice: 0.66374 | bce: 0.03356\n"
     ]
    },
    {
     "name": "stderr",
     "output_type": "stream",
     "text": [
      "Epoch 28: 100% 2/2 [00:07<00:00,  3.91s/it, bce=0.03015, hard dice=0.75166, loss=0.28346, soft dice=0.75160]\n"
     ]
    },
    {
     "name": "stdout",
     "output_type": "stream",
     "text": [
      "soft dice: 0.66373 | loss: 0.37194 | hard dice: 0.66374 | bce: 0.03319\n"
     ]
    },
    {
     "name": "stderr",
     "output_type": "stream",
     "text": [
      "Epoch 29: 100% 2/2 [00:07<00:00,  3.99s/it, bce=0.03455, hard dice=0.75132, loss=0.28863, soft dice=0.75104]\n"
     ]
    },
    {
     "name": "stdout",
     "output_type": "stream",
     "text": [
      "soft dice: 0.66372 | loss: 0.37146 | hard dice: 0.66374 | bce: 0.03263\n"
     ]
    },
    {
     "name": "stderr",
     "output_type": "stream",
     "text": [
      "Epoch 30: 100% 2/2 [00:08<00:00,  4.35s/it, bce=0.02927, hard dice=0.69100, loss=0.33992, soft dice=0.69094]\n"
     ]
    },
    {
     "name": "stdout",
     "output_type": "stream",
     "text": [
      "soft dice: 0.66372 | loss: 0.37141 | hard dice: 0.66374 | bce: 0.03255\n"
     ]
    },
    {
     "name": "stderr",
     "output_type": "stream",
     "text": [
      "Epoch 31: 100% 2/2 [00:07<00:00,  3.87s/it, bce=0.03368, hard dice=0.68980, loss=0.34737, soft dice=0.68965]\n"
     ]
    },
    {
     "name": "stdout",
     "output_type": "stream",
     "text": [
      "soft dice: 0.66371 | loss: 0.37093 | hard dice: 0.66374 | bce: 0.03202\n"
     ]
    },
    {
     "name": "stderr",
     "output_type": "stream",
     "text": [
      "Epoch 32: 100% 2/2 [00:07<00:00,  3.67s/it, bce=0.02630, hard dice=0.75206, loss=0.27487, soft dice=0.75199]\n"
     ]
    },
    {
     "name": "stdout",
     "output_type": "stream",
     "text": [
      "soft dice: 0.66371 | loss: 0.37082 | hard dice: 0.66374 | bce: 0.03198\n"
     ]
    },
    {
     "name": "stderr",
     "output_type": "stream",
     "text": [
      "Epoch 33: 100% 2/2 [00:07<00:00,  3.69s/it, bce=0.03433, hard dice=0.87645, loss=0.18903, soft dice=0.87634]\n"
     ]
    },
    {
     "name": "stdout",
     "output_type": "stream",
     "text": [
      "soft dice: 0.66370 | loss: 0.37056 | hard dice: 0.66374 | bce: 0.03171\n"
     ]
    },
    {
     "name": "stderr",
     "output_type": "stream",
     "text": [
      "Epoch 34: 100% 2/2 [00:08<00:00,  4.35s/it, bce=0.03500, hard dice=0.75254, loss=0.29108, soft dice=0.75178]\n"
     ]
    },
    {
     "name": "stdout",
     "output_type": "stream",
     "text": [
      "soft dice: 0.66367 | loss: 0.36971 | hard dice: 0.66374 | bce: 0.03080\n"
     ]
    },
    {
     "name": "stderr",
     "output_type": "stream",
     "text": [
      "Epoch 35: 100% 2/2 [00:07<00:00,  3.99s/it, bce=0.02993, hard dice=0.56532, loss=0.46747, soft dice=0.56378]\n"
     ]
    },
    {
     "name": "stdout",
     "output_type": "stream",
     "text": [
      "soft dice: 0.66365 | loss: 0.36931 | hard dice: 0.66374 | bce: 0.03043\n"
     ]
    },
    {
     "name": "stderr",
     "output_type": "stream",
     "text": [
      "Epoch 36: 100% 2/2 [00:08<00:00,  4.14s/it, bce=0.02987, hard dice=0.44003, loss=0.59185, soft dice=0.43913]\n"
     ]
    },
    {
     "name": "stdout",
     "output_type": "stream",
     "text": [
      "soft dice: 0.66365 | loss: 0.36931 | hard dice: 0.66374 | bce: 0.03042\n"
     ]
    },
    {
     "name": "stderr",
     "output_type": "stream",
     "text": [
      "Epoch 37: 100% 2/2 [00:07<00:00,  3.85s/it, bce=0.02440, hard dice=0.82171, loss=0.21235, soft dice=0.82146]\n"
     ]
    },
    {
     "name": "stdout",
     "output_type": "stream",
     "text": [
      "soft dice: 0.66366 | loss: 0.36942 | hard dice: 0.66374 | bce: 0.03061\n"
     ]
    },
    {
     "name": "stderr",
     "output_type": "stream",
     "text": [
      "Epoch 38: 100% 2/2 [00:07<00:00,  3.98s/it, bce=0.03273, hard dice=0.56504, loss=0.46906, soft dice=0.56472]\n"
     ]
    },
    {
     "name": "stdout",
     "output_type": "stream",
     "text": [
      "soft dice: 0.66368 | loss: 0.36964 | hard dice: 0.66374 | bce: 0.03092\n"
     ]
    },
    {
     "name": "stderr",
     "output_type": "stream",
     "text": [
      "Epoch 39: 100% 2/2 [00:07<00:00,  3.83s/it, bce=0.02889, hard dice=0.75217, loss=0.28094, soft dice=0.75024]\n"
     ]
    },
    {
     "name": "stdout",
     "output_type": "stream",
     "text": [
      "soft dice: 0.66363 | loss: 0.36890 | hard dice: 0.66374 | bce: 0.03013\n"
     ]
    },
    {
     "name": "stderr",
     "output_type": "stream",
     "text": [
      "Epoch 40: 100% 2/2 [00:07<00:00,  3.90s/it, bce=0.02928, hard dice=0.62753, loss=0.40537, soft dice=0.62622]\n"
     ]
    },
    {
     "name": "stdout",
     "output_type": "stream",
     "text": [
      "soft dice: 0.66359 | loss: 0.36856 | hard dice: 0.66374 | bce: 0.02972\n"
     ]
    },
    {
     "name": "stderr",
     "output_type": "stream",
     "text": [
      "Epoch 41: 100% 2/2 [00:07<00:00,  3.82s/it, bce=0.03390, hard dice=0.56506, loss=0.53125, soft dice=0.56335]\n"
     ]
    },
    {
     "name": "stdout",
     "output_type": "stream",
     "text": [
      "soft dice: 0.66359 | loss: 0.36851 | hard dice: 0.66374 | bce: 0.02969\n"
     ]
    },
    {
     "name": "stderr",
     "output_type": "stream",
     "text": [
      "Epoch 42: 100% 2/2 [00:07<00:00,  3.66s/it, bce=0.03526, hard dice=0.75195, loss=0.28732, soft dice=0.75109]\n"
     ]
    },
    {
     "name": "stdout",
     "output_type": "stream",
     "text": [
      "soft dice: 0.66360 | loss: 0.36859 | hard dice: 0.66374 | bce: 0.02977\n"
     ]
    },
    {
     "name": "stderr",
     "output_type": "stream",
     "text": [
      "Epoch 43: 100% 2/2 [00:07<00:00,  3.69s/it, bce=0.03899, hard dice=0.75235, loss=0.28718, soft dice=0.75209]\n"
     ]
    },
    {
     "name": "stdout",
     "output_type": "stream",
     "text": [
      "soft dice: 0.66364 | loss: 0.36901 | hard dice: 0.66374 | bce: 0.03030\n"
     ]
    },
    {
     "name": "stderr",
     "output_type": "stream",
     "text": [
      "Epoch 44: 100% 2/2 [00:08<00:00,  4.13s/it, bce=0.02312, hard dice=0.75251, loss=0.32725, soft dice=0.75169]\n"
     ]
    },
    {
     "name": "stdout",
     "output_type": "stream",
     "text": [
      "soft dice: 0.66362 | loss: 0.36887 | hard dice: 0.66374 | bce: 0.03007\n"
     ]
    },
    {
     "name": "stderr",
     "output_type": "stream",
     "text": [
      "Epoch 45: 100% 2/2 [00:07<00:00,  3.81s/it, bce=0.03059, hard dice=0.69008, loss=0.34459, soft dice=0.68970]\n"
     ]
    },
    {
     "name": "stdout",
     "output_type": "stream",
     "text": [
      "soft dice: 0.66361 | loss: 0.36882 | hard dice: 0.66374 | bce: 0.02992\n"
     ]
    },
    {
     "name": "stderr",
     "output_type": "stream",
     "text": [
      "Epoch 46: 100% 2/2 [00:08<00:00,  4.04s/it, bce=0.02748, hard dice=0.75219, loss=0.28203, soft dice=0.75125]\n"
     ]
    },
    {
     "name": "stdout",
     "output_type": "stream",
     "text": [
      "soft dice: 0.66358 | loss: 0.36855 | hard dice: 0.66374 | bce: 0.02966\n"
     ]
    },
    {
     "name": "stderr",
     "output_type": "stream",
     "text": [
      "Epoch 47: 100% 2/2 [00:07<00:00,  3.64s/it, bce=0.03051, hard dice=0.75097, loss=0.28365, soft dice=0.75044]\n"
     ]
    },
    {
     "name": "stdout",
     "output_type": "stream",
     "text": [
      "soft dice: 0.66360 | loss: 0.36870 | hard dice: 0.66374 | bce: 0.02979\n"
     ]
    },
    {
     "name": "stderr",
     "output_type": "stream",
     "text": [
      "Epoch 48: 100% 2/2 [00:07<00:00,  4.00s/it, bce=0.02421, hard dice=0.75381, loss=0.28044, soft dice=0.74847]\n"
     ]
    },
    {
     "name": "stdout",
     "output_type": "stream",
     "text": [
      "soft dice: 0.66356 | loss: 0.36835 | hard dice: 0.66374 | bce: 0.02935\n"
     ]
    },
    {
     "name": "stderr",
     "output_type": "stream",
     "text": [
      "Epoch 49: 100% 2/2 [00:07<00:00,  3.73s/it, bce=0.02919, hard dice=0.75178, loss=0.27911, soft dice=0.75036]\n"
     ]
    },
    {
     "name": "stdout",
     "output_type": "stream",
     "text": [
      "soft dice: 0.66355 | loss: 0.36834 | hard dice: 0.66374 | bce: 0.02931\n",
      "Starting cyclic lr\n"
     ]
    },
    {
     "name": "stderr",
     "output_type": "stream",
     "text": [
      "Epoch 50: 100% 2/2 [00:07<00:00,  3.94s/it, bce=0.01780, hard dice=0.88300, loss=0.14267, soft dice=0.88292]\n"
     ]
    },
    {
     "name": "stdout",
     "output_type": "stream",
     "text": [
      "soft dice: 0.66374 | loss: 0.39859 | hard dice: 0.66374 | bce: 0.03796\n"
     ]
    },
    {
     "name": "stderr",
     "output_type": "stream",
     "text": [
      "Epoch 51: 100% 2/2 [00:08<00:00,  4.20s/it, bce=0.04321, hard dice=0.37833, loss=0.67757, soft dice=0.37833]\n"
     ]
    },
    {
     "name": "stdout",
     "output_type": "stream",
     "text": [
      "soft dice: 0.66374 | loss: 0.82672 | hard dice: 0.66374 | bce: 0.04133\n"
     ]
    },
    {
     "name": "stderr",
     "output_type": "stream",
     "text": [
      "Epoch 52: 100% 2/2 [00:07<00:00,  3.54s/it, bce=0.05229, hard dice=0.69061, loss=0.38000, soft dice=0.69061]\n"
     ]
    },
    {
     "name": "stdout",
     "output_type": "stream",
     "text": [
      "soft dice: 0.66374 | loss: 0.43858 | hard dice: 0.66374 | bce: 0.04133\n"
     ]
    },
    {
     "name": "stderr",
     "output_type": "stream",
     "text": [
      "Epoch 53: 100% 2/2 [00:07<00:00,  3.96s/it, bce=0.02976, hard dice=0.87626, loss=0.22319, soft dice=0.87626]\n"
     ]
    },
    {
     "name": "stdout",
     "output_type": "stream",
     "text": [
      "soft dice: 0.66374 | loss: 0.39984 | hard dice: 0.66374 | bce: 0.04133\n"
     ]
    },
    {
     "name": "stderr",
     "output_type": "stream",
     "text": [
      "Epoch 54: 100% 2/2 [00:08<00:00,  4.03s/it, bce=0.03492, hard dice=0.75239, loss=0.29627, soft dice=0.75239]\n"
     ]
    },
    {
     "name": "stdout",
     "output_type": "stream",
     "text": [
      "soft dice: 0.66374 | loss: 0.39268 | hard dice: 0.66374 | bce: 0.04133\n"
     ]
    },
    {
     "name": "stderr",
     "output_type": "stream",
     "text": [
      "Epoch 55: 100% 2/2 [00:07<00:00,  3.75s/it, bce=0.04000, hard dice=0.69020, loss=0.36228, soft dice=0.69001]\n"
     ]
    },
    {
     "name": "stdout",
     "output_type": "stream",
     "text": [
      "soft dice: 0.66373 | loss: 0.37649 | hard dice: 0.66374 | bce: 0.03672\n"
     ]
    },
    {
     "name": "stderr",
     "output_type": "stream",
     "text": [
      "Epoch 56: 100% 2/2 [00:08<00:00,  4.05s/it, bce=0.01845, hard dice=0.69088, loss=0.32975, soft dice=0.69005]\n"
     ]
    },
    {
     "name": "stdout",
     "output_type": "stream",
     "text": [
      "soft dice: 0.66373 | loss: 0.37744 | hard dice: 0.66374 | bce: 0.03334\n"
     ]
    },
    {
     "name": "stderr",
     "output_type": "stream",
     "text": [
      "Epoch 57: 100% 2/2 [00:07<00:00,  3.63s/it, bce=0.03633, hard dice=0.82212, loss=0.22685, soft dice=0.82176]\n"
     ]
    },
    {
     "name": "stdout",
     "output_type": "stream",
     "text": [
      "soft dice: 0.66371 | loss: 0.37095 | hard dice: 0.66374 | bce: 0.03321\n"
     ]
    },
    {
     "name": "stderr",
     "output_type": "stream",
     "text": [
      "Epoch 58: 100% 2/2 [00:07<00:00,  3.77s/it, bce=0.03282, hard dice=0.69769, loss=0.34883, soft dice=0.69545]\n"
     ]
    },
    {
     "name": "stdout",
     "output_type": "stream",
     "text": [
      "soft dice: 0.66371 | loss: 0.36960 | hard dice: 0.66374 | bce: 0.03181\n"
     ]
    },
    {
     "name": "stderr",
     "output_type": "stream",
     "text": [
      "Epoch 59: 100% 2/2 [00:07<00:00,  3.94s/it, bce=0.02946, hard dice=0.68982, loss=0.34248, soft dice=0.68975]\n"
     ]
    },
    {
     "name": "stdout",
     "output_type": "stream",
     "text": [
      "soft dice: 0.66372 | loss: 0.37032 | hard dice: 0.66374 | bce: 0.03248\n"
     ]
    },
    {
     "name": "stderr",
     "output_type": "stream",
     "text": [
      "Epoch 60: 100% 2/2 [00:07<00:00,  3.81s/it, bce=0.02772, hard dice=0.81333, loss=0.21756, soft dice=0.81258]\n"
     ]
    },
    {
     "name": "stdout",
     "output_type": "stream",
     "text": [
      "soft dice: 0.66329 | loss: 0.36590 | hard dice: 0.66374 | bce: 0.02814\n"
     ]
    },
    {
     "name": "stderr",
     "output_type": "stream",
     "text": [
      "Epoch 61: 100% 2/2 [00:08<00:00,  4.01s/it, bce=0.03547, hard dice=0.75154, loss=0.34372, soft dice=0.69209]\n"
     ]
    },
    {
     "name": "stdout",
     "output_type": "stream",
     "text": [
      "soft dice: 0.66374 | loss: 0.37737 | hard dice: 0.66374 | bce: 0.03970\n"
     ]
    },
    {
     "name": "stderr",
     "output_type": "stream",
     "text": [
      "Epoch 62: 100% 2/2 [00:08<00:00,  4.15s/it, bce=0.03774, hard dice=0.68998, loss=0.35079, soft dice=0.68998]\n"
     ]
    },
    {
     "name": "stdout",
     "output_type": "stream",
     "text": [
      "soft dice: 0.66374 | loss: 0.37840 | hard dice: 0.66374 | bce: 0.04035\n"
     ]
    },
    {
     "name": "stderr",
     "output_type": "stream",
     "text": [
      "Epoch 63: 100% 2/2 [00:08<00:00,  4.01s/it, bce=0.03168, hard dice=0.94065, loss=0.09417, soft dice=0.94065]\n"
     ]
    },
    {
     "name": "stdout",
     "output_type": "stream",
     "text": [
      "soft dice: 0.66374 | loss: 0.37827 | hard dice: 0.66374 | bce: 0.04029\n"
     ]
    },
    {
     "name": "stderr",
     "output_type": "stream",
     "text": [
      "Epoch 64: 100% 2/2 [00:08<00:00,  4.04s/it, bce=0.04745, hard dice=0.75199, loss=0.29662, soft dice=0.75199]\n"
     ]
    },
    {
     "name": "stdout",
     "output_type": "stream",
     "text": [
      "soft dice: 0.66374 | loss: 0.37817 | hard dice: 0.66374 | bce: 0.04023\n"
     ]
    },
    {
     "name": "stderr",
     "output_type": "stream",
     "text": [
      "Epoch 65: 100% 2/2 [00:08<00:00,  4.00s/it, bce=0.04398, hard dice=0.81345, loss=0.23072, soft dice=0.81343]\n"
     ]
    },
    {
     "name": "stdout",
     "output_type": "stream",
     "text": [
      "soft dice: 0.66373 | loss: 0.37148 | hard dice: 0.66374 | bce: 0.03468\n"
     ]
    },
    {
     "name": "stderr",
     "output_type": "stream",
     "text": [
      "Epoch 66: 100% 2/2 [00:07<00:00,  3.70s/it, bce=0.03081, hard dice=0.81526, loss=0.33987, soft dice=0.81458]\n"
     ]
    },
    {
     "name": "stdout",
     "output_type": "stream",
     "text": [
      "soft dice: 0.66278 | loss: 0.36525 | hard dice: 0.66374 | bce: 0.02727\n"
     ]
    },
    {
     "name": "stderr",
     "output_type": "stream",
     "text": [
      "Epoch 67: 100% 2/2 [00:07<00:00,  3.91s/it, bce=0.02885, hard dice=0.62847, loss=0.45043, soft dice=0.57968]\n"
     ]
    },
    {
     "name": "stdout",
     "output_type": "stream",
     "text": [
      "soft dice: 0.66302 | loss: 0.36566 | hard dice: 0.66374 | bce: 0.02782\n"
     ]
    },
    {
     "name": "stderr",
     "output_type": "stream",
     "text": [
      "Epoch 68: 100% 2/2 [00:08<00:00,  4.05s/it, bce=0.02889, hard dice=0.50204, loss=0.52974, soft dice=0.50054]\n"
     ]
    },
    {
     "name": "stdout",
     "output_type": "stream",
     "text": [
      "soft dice: 0.66357 | loss: 0.36690 | hard dice: 0.66374 | bce: 0.02963\n"
     ]
    },
    {
     "name": "stderr",
     "output_type": "stream",
     "text": [
      "Epoch 69: 100% 2/2 [00:08<00:00,  4.04s/it, bce=0.02480, hard dice=0.81364, loss=0.21488, soft dice=0.81113]\n"
     ]
    },
    {
     "name": "stdout",
     "output_type": "stream",
     "text": [
      "soft dice: 0.66357 | loss: 0.36680 | hard dice: 0.66374 | bce: 0.02954\n"
     ]
    },
    {
     "name": "stderr",
     "output_type": "stream",
     "text": [
      "Epoch 70: 100% 2/2 [00:07<00:00,  3.86s/it, bce=0.02579, hard dice=0.69117, loss=0.33756, soft dice=0.69103]\n"
     ]
    },
    {
     "name": "stdout",
     "output_type": "stream",
     "text": [
      "soft dice: 0.66374 | loss: 0.38335 | hard dice: 0.66374 | bce: 0.04094\n"
     ]
    },
    {
     "name": "stderr",
     "output_type": "stream",
     "text": [
      "Epoch 71: 100% 2/2 [00:08<00:00,  4.09s/it, bce=0.04124, hard dice=0.62748, loss=0.41981, soft dice=0.62748]\n"
     ]
    },
    {
     "name": "stdout",
     "output_type": "stream",
     "text": [
      "soft dice: 0.66374 | loss: 0.38988 | hard dice: 0.66374 | bce: 0.04132\n"
     ]
    },
    {
     "name": "stderr",
     "output_type": "stream",
     "text": [
      "Epoch 72: 100% 2/2 [00:07<00:00,  3.89s/it, bce=0.02846, hard dice=0.75193, loss=0.28143, soft dice=0.75193]\n"
     ]
    },
    {
     "name": "stdout",
     "output_type": "stream",
     "text": [
      "soft dice: 0.66374 | loss: 0.38509 | hard dice: 0.66374 | bce: 0.04128\n"
     ]
    },
    {
     "name": "stderr",
     "output_type": "stream",
     "text": [
      "Epoch 73: 100% 2/2 [00:07<00:00,  3.78s/it, bce=0.04038, hard dice=0.81340, loss=0.23207, soft dice=0.81340]\n"
     ]
    },
    {
     "name": "stdout",
     "output_type": "stream",
     "text": [
      "soft dice: 0.66374 | loss: 0.38244 | hard dice: 0.66374 | bce: 0.04119\n"
     ]
    },
    {
     "name": "stderr",
     "output_type": "stream",
     "text": [
      "Epoch 74: 100% 2/2 [00:07<00:00,  3.93s/it, bce=0.04566, hard dice=0.87733, loss=0.17293, soft dice=0.87733]\n"
     ]
    },
    {
     "name": "stdout",
     "output_type": "stream",
     "text": [
      "soft dice: 0.66374 | loss: 0.38150 | hard dice: 0.66374 | bce: 0.04113\n"
     ]
    },
    {
     "name": "stderr",
     "output_type": "stream",
     "text": [
      "Epoch 75: 100% 2/2 [00:07<00:00,  3.72s/it, bce=0.02026, hard dice=0.87588, loss=0.14704, soft dice=0.87528]\n"
     ]
    },
    {
     "name": "stdout",
     "output_type": "stream",
     "text": [
      "soft dice: 0.66358 | loss: 0.36715 | hard dice: 0.66374 | bce: 0.02970\n"
     ]
    },
    {
     "name": "stderr",
     "output_type": "stream",
     "text": [
      "Epoch 76: 100% 2/2 [00:07<00:00,  3.91s/it, bce=0.02350, hard dice=0.62725, loss=0.40020, soft dice=0.62464]\n"
     ]
    },
    {
     "name": "stdout",
     "output_type": "stream",
     "text": [
      "soft dice: 0.66339 | loss: 0.36660 | hard dice: 0.66374 | bce: 0.02879\n"
     ]
    },
    {
     "name": "stderr",
     "output_type": "stream",
     "text": [
      "Epoch 77: 100% 2/2 [00:08<00:00,  4.02s/it, bce=0.02416, hard dice=0.75198, loss=0.28255, soft dice=0.74292]\n"
     ]
    },
    {
     "name": "stdout",
     "output_type": "stream",
     "text": [
      "soft dice: 0.66353 | loss: 0.36705 | hard dice: 0.66374 | bce: 0.02993\n"
     ]
    },
    {
     "name": "stderr",
     "output_type": "stream",
     "text": [
      "Epoch 78: 100% 2/2 [00:07<00:00,  3.97s/it, bce=0.02043, hard dice=0.75338, loss=0.26824, soft dice=0.75230]\n"
     ]
    },
    {
     "name": "stdout",
     "output_type": "stream",
     "text": [
      "soft dice: 0.66367 | loss: 0.36848 | hard dice: 0.66374 | bce: 0.03164\n"
     ]
    },
    {
     "name": "stderr",
     "output_type": "stream",
     "text": [
      "Epoch 79: 100% 2/2 [00:08<00:00,  4.17s/it, bce=0.02901, hard dice=0.93828, loss=0.09152, soft dice=0.93790]\n"
     ]
    },
    {
     "name": "stdout",
     "output_type": "stream",
     "text": [
      "soft dice: 0.66367 | loss: 0.36835 | hard dice: 0.66374 | bce: 0.03155\n"
     ]
    },
    {
     "name": "stderr",
     "output_type": "stream",
     "text": [
      "Epoch 80: 100% 2/2 [00:07<00:00,  3.85s/it, bce=0.03302, hard dice=0.62864, loss=0.40884, soft dice=0.62715]\n"
     ]
    },
    {
     "name": "stdout",
     "output_type": "stream",
     "text": [
      "soft dice: 0.66374 | loss: 0.37587 | hard dice: 0.66374 | bce: 0.03879\n"
     ]
    },
    {
     "name": "stderr",
     "output_type": "stream",
     "text": [
      "Epoch 81: 100% 2/2 [00:07<00:00,  3.79s/it, bce=0.03624, hard dice=0.75245, loss=0.28395, soft dice=0.75244]\n"
     ]
    },
    {
     "name": "stdout",
     "output_type": "stream",
     "text": [
      "soft dice: 0.66374 | loss: 0.37676 | hard dice: 0.66374 | bce: 0.03958\n"
     ]
    },
    {
     "name": "stderr",
     "output_type": "stream",
     "text": [
      "Epoch 82: 100% 2/2 [00:07<00:00,  3.53s/it, bce=0.04954, hard dice=0.68965, loss=0.35944, soft dice=0.68964]\n"
     ]
    },
    {
     "name": "stdout",
     "output_type": "stream",
     "text": [
      "soft dice: 0.66374 | loss: 0.37509 | hard dice: 0.66374 | bce: 0.03827\n"
     ]
    },
    {
     "name": "stderr",
     "output_type": "stream",
     "text": [
      "Epoch 83: 100% 2/2 [00:07<00:00,  3.90s/it, bce=0.02892, hard dice=0.75271, loss=0.27671, soft dice=0.75270]\n"
     ]
    },
    {
     "name": "stdout",
     "output_type": "stream",
     "text": [
      "soft dice: 0.66374 | loss: 0.37391 | hard dice: 0.66374 | bce: 0.03723\n"
     ]
    },
    {
     "name": "stderr",
     "output_type": "stream",
     "text": [
      "Epoch 84: 100% 2/2 [00:07<00:00,  3.86s/it, bce=0.03732, hard dice=0.50207, loss=0.55736, soft dice=0.50205]\n"
     ]
    },
    {
     "name": "stdout",
     "output_type": "stream",
     "text": [
      "soft dice: 0.66374 | loss: 0.37361 | hard dice: 0.66374 | bce: 0.03695\n"
     ]
    },
    {
     "name": "stderr",
     "output_type": "stream",
     "text": [
      "Epoch 85: 100% 2/2 [00:07<00:00,  3.98s/it, bce=0.04145, hard dice=0.50279, loss=0.56162, soft dice=0.48063]\n"
     ]
    },
    {
     "name": "stdout",
     "output_type": "stream",
     "text": [
      "soft dice: 0.66364 | loss: 0.36705 | hard dice: 0.66374 | bce: 0.03028\n"
     ]
    },
    {
     "name": "stderr",
     "output_type": "stream",
     "text": [
      "Epoch 86: 100% 2/2 [00:07<00:00,  3.96s/it, bce=0.01822, hard dice=0.74991, loss=0.32875, soft dice=0.74978]\n"
     ]
    },
    {
     "name": "stdout",
     "output_type": "stream",
     "text": [
      "soft dice: 0.66374 | loss: 0.37207 | hard dice: 0.66374 | bce: 0.03535\n"
     ]
    },
    {
     "name": "stderr",
     "output_type": "stream",
     "text": [
      "Epoch 87: 100% 2/2 [00:07<00:00,  3.75s/it, bce=0.04158, hard dice=0.50202, loss=0.60178, soft dice=0.50201]\n"
     ]
    },
    {
     "name": "stdout",
     "output_type": "stream",
     "text": [
      "soft dice: 0.66374 | loss: 0.37173 | hard dice: 0.66374 | bce: 0.03499\n"
     ]
    },
    {
     "name": "stderr",
     "output_type": "stream",
     "text": [
      "Epoch 88: 100% 2/2 [00:08<00:00,  4.05s/it, bce=0.04655, hard dice=0.81420, loss=0.29454, soft dice=0.81407]\n"
     ]
    },
    {
     "name": "stdout",
     "output_type": "stream",
     "text": [
      "soft dice: 0.66373 | loss: 0.37070 | hard dice: 0.66374 | bce: 0.03395\n"
     ]
    },
    {
     "name": "stderr",
     "output_type": "stream",
     "text": [
      "Epoch 89: 100% 2/2 [00:07<00:00,  3.93s/it, bce=0.02821, hard dice=0.75128, loss=0.27762, soft dice=0.75126]\n"
     ]
    },
    {
     "name": "stdout",
     "output_type": "stream",
     "text": [
      "soft dice: 0.66373 | loss: 0.37016 | hard dice: 0.66374 | bce: 0.03341\n"
     ]
    },
    {
     "name": "stderr",
     "output_type": "stream",
     "text": [
      "Epoch 90: 100% 2/2 [00:08<00:00,  4.06s/it, bce=0.01735, hard dice=0.69143, loss=0.34428, soft dice=0.67380]\n"
     ]
    },
    {
     "name": "stdout",
     "output_type": "stream",
     "text": [
      "soft dice: 0.66359 | loss: 0.36642 | hard dice: 0.66374 | bce: 0.02946\n"
     ]
    },
    {
     "name": "stderr",
     "output_type": "stream",
     "text": [
      "Epoch 91: 100% 2/2 [00:08<00:00,  4.00s/it, bce=0.02802, hard dice=0.81413, loss=0.21545, soft dice=0.81309]\n"
     ]
    },
    {
     "name": "stdout",
     "output_type": "stream",
     "text": [
      "soft dice: 0.66374 | loss: 0.37614 | hard dice: 0.66374 | bce: 0.03869\n"
     ]
    },
    {
     "name": "stderr",
     "output_type": "stream",
     "text": [
      "Epoch 92: 100% 2/2 [00:08<00:00,  4.12s/it, bce=0.03581, hard dice=0.37966, loss=0.66378, soft dice=0.37966]\n"
     ]
    },
    {
     "name": "stdout",
     "output_type": "stream",
     "text": [
      "soft dice: 0.66374 | loss: 0.37653 | hard dice: 0.66374 | bce: 0.03905\n"
     ]
    },
    {
     "name": "stderr",
     "output_type": "stream",
     "text": [
      "Epoch 93: 100% 2/2 [00:07<00:00,  3.57s/it, bce=0.02393, hard dice=0.93872, loss=0.08609, soft dice=0.93872]\n"
     ]
    },
    {
     "name": "stdout",
     "output_type": "stream",
     "text": [
      "soft dice: 0.66374 | loss: 0.37634 | hard dice: 0.66374 | bce: 0.03887\n"
     ]
    },
    {
     "name": "stderr",
     "output_type": "stream",
     "text": [
      "Epoch 94: 100% 2/2 [00:08<00:00,  4.05s/it, bce=0.03294, hard dice=0.56530, loss=0.46908, soft dice=0.56530]\n"
     ]
    },
    {
     "name": "stdout",
     "output_type": "stream",
     "text": [
      "soft dice: 0.66374 | loss: 0.37609 | hard dice: 0.66374 | bce: 0.03868\n"
     ]
    },
    {
     "name": "stderr",
     "output_type": "stream",
     "text": [
      "Epoch 95: 100% 2/2 [00:07<00:00,  3.93s/it, bce=0.03973, hard dice=0.75178, loss=0.28920, soft dice=0.75173]\n"
     ]
    },
    {
     "name": "stdout",
     "output_type": "stream",
     "text": [
      "soft dice: 0.66364 | loss: 0.36699 | hard dice: 0.66374 | bce: 0.03012\n"
     ]
    },
    {
     "name": "stderr",
     "output_type": "stream",
     "text": [
      "Epoch 96: 100% 2/2 [00:07<00:00,  3.81s/it, bce=0.03367, hard dice=0.44042, loss=0.59723, soft dice=0.43664]\n"
     ]
    },
    {
     "name": "stdout",
     "output_type": "stream",
     "text": [
      "soft dice: 0.66356 | loss: 0.36634 | hard dice: 0.66374 | bce: 0.02942\n"
     ]
    },
    {
     "name": "stderr",
     "output_type": "stream",
     "text": [
      "Epoch 97: 100% 2/2 [00:07<00:00,  3.93s/it, bce=0.01559, hard dice=0.93850, loss=0.08035, soft dice=0.93644]\n"
     ]
    },
    {
     "name": "stdout",
     "output_type": "stream",
     "text": [
      "soft dice: 0.66358 | loss: 0.36652 | hard dice: 0.66374 | bce: 0.02965\n"
     ]
    },
    {
     "name": "stderr",
     "output_type": "stream",
     "text": [
      "Epoch 98: 100% 2/2 [00:07<00:00,  3.73s/it, bce=0.02463, hard dice=0.75155, loss=0.27424, soft dice=0.75109]\n"
     ]
    },
    {
     "name": "stdout",
     "output_type": "stream",
     "text": [
      "soft dice: 0.66359 | loss: 0.36657 | hard dice: 0.66374 | bce: 0.02971\n"
     ]
    },
    {
     "name": "stderr",
     "output_type": "stream",
     "text": [
      "Epoch 99: 100% 2/2 [00:07<00:00,  3.94s/it, bce=0.02662, hard dice=0.87646, loss=0.20934, soft dice=0.87489]\n"
     ]
    },
    {
     "name": "stdout",
     "output_type": "stream",
     "text": [
      "soft dice: 0.66355 | loss: 0.36657 | hard dice: 0.66374 | bce: 0.02965\n",
      "Finished train fold: 1 with best loss 0.36525 on epoch 66\n",
      "\n"
     ]
    },
    {
     "name": "stderr",
     "output_type": "stream",
     "text": [
      "Epoch 0: 100% 2/2 [00:07<00:00,  3.51s/it, bce=0.34107, hard dice=0.37871, loss=1.33875, soft dice=0.00300]\n"
     ]
    },
    {
     "name": "stdout",
     "output_type": "stream",
     "text": [
      "soft dice: 0.76608 | loss: 13.37262 | hard dice: 0.76608 | bce: 0.03034\n"
     ]
    },
    {
     "name": "stderr",
     "output_type": "stream",
     "text": [
      "Epoch 1: 100% 2/2 [00:07<00:00,  3.74s/it, bce=0.02198, hard dice=0.62787, loss=0.58471, soft dice=0.44720]\n"
     ]
    },
    {
     "name": "stdout",
     "output_type": "stream",
     "text": [
      "soft dice: 0.76608 | loss: 132.70768 | hard dice: 0.76608 | bce: 0.03034\n"
     ]
    },
    {
     "name": "stderr",
     "output_type": "stream",
     "text": [
      "Epoch 2: 100% 2/2 [00:07<00:00,  3.66s/it, bce=0.01951, hard dice=1.00000, loss=0.03824, soft dice=1.00000]\n"
     ]
    },
    {
     "name": "stdout",
     "output_type": "stream",
     "text": [
      "soft dice: 0.76608 | loss: 0.98600 | hard dice: 0.76608 | bce: 0.03034\n"
     ]
    },
    {
     "name": "stderr",
     "output_type": "stream",
     "text": [
      "Epoch 3: 100% 2/2 [00:07<00:00,  3.83s/it, bce=0.05553, hard dice=0.62764, loss=0.54959, soft dice=0.62764]\n"
     ]
    },
    {
     "name": "stdout",
     "output_type": "stream",
     "text": [
      "soft dice: 0.76608 | loss: 0.46066 | hard dice: 0.76608 | bce: 0.03034\n"
     ]
    },
    {
     "name": "stderr",
     "output_type": "stream",
     "text": [
      "Epoch 4: 100% 2/2 [00:07<00:00,  3.94s/it, bce=0.04930, hard dice=0.69035, loss=0.38478, soft dice=0.69035]\n"
     ]
    },
    {
     "name": "stdout",
     "output_type": "stream",
     "text": [
      "soft dice: 0.76608 | loss: 0.35357 | hard dice: 0.76608 | bce: 0.03034\n"
     ]
    },
    {
     "name": "stderr",
     "output_type": "stream",
     "text": [
      "Epoch 5: 100% 2/2 [00:07<00:00,  3.68s/it, bce=0.06212, hard dice=0.50175, loss=0.57438, soft dice=0.50175]\n"
     ]
    },
    {
     "name": "stdout",
     "output_type": "stream",
     "text": [
      "soft dice: 0.76608 | loss: 0.35560 | hard dice: 0.76608 | bce: 0.03034\n"
     ]
    },
    {
     "name": "stderr",
     "output_type": "stream",
     "text": [
      "Epoch 6: 100% 2/2 [00:08<00:00,  4.13s/it, bce=0.03241, hard dice=0.56557, loss=0.47341, soft dice=0.56422]\n"
     ]
    },
    {
     "name": "stdout",
     "output_type": "stream",
     "text": [
      "soft dice: 0.76608 | loss: 0.54626 | hard dice: 0.76608 | bce: 0.03034\n"
     ]
    },
    {
     "name": "stderr",
     "output_type": "stream",
     "text": [
      "Epoch 7: 100% 2/2 [00:07<00:00,  3.77s/it, bce=0.02730, hard dice=0.81481, loss=0.26002, soft dice=0.77018]\n"
     ]
    },
    {
     "name": "stdout",
     "output_type": "stream",
     "text": [
      "soft dice: 0.76608 | loss: 1.78333 | hard dice: 0.76608 | bce: 0.03034\n"
     ]
    },
    {
     "name": "stderr",
     "output_type": "stream",
     "text": [
      "Epoch 8: 100% 2/2 [00:07<00:00,  4.00s/it, bce=0.03876, hard dice=0.75227, loss=0.36078, soft dice=0.75227]\n"
     ]
    },
    {
     "name": "stdout",
     "output_type": "stream",
     "text": [
      "soft dice: 0.76608 | loss: 0.59806 | hard dice: 0.76608 | bce: 0.03034\n"
     ]
    },
    {
     "name": "stderr",
     "output_type": "stream",
     "text": [
      "Epoch 9: 100% 2/2 [00:08<00:00,  4.16s/it, bce=0.04829, hard dice=0.62727, loss=0.43644, soft dice=0.62727]\n"
     ]
    },
    {
     "name": "stdout",
     "output_type": "stream",
     "text": [
      "soft dice: 0.76608 | loss: 0.39219 | hard dice: 0.76608 | bce: 0.03034\n"
     ]
    },
    {
     "name": "stderr",
     "output_type": "stream",
     "text": [
      "Epoch 10: 100% 2/2 [00:08<00:00,  4.02s/it, bce=0.04163, hard dice=0.87581, loss=0.17620, soft dice=0.87581]\n"
     ]
    },
    {
     "name": "stdout",
     "output_type": "stream",
     "text": [
      "soft dice: 0.76608 | loss: 0.31967 | hard dice: 0.76608 | bce: 0.03026\n"
     ]
    },
    {
     "name": "stderr",
     "output_type": "stream",
     "text": [
      "Epoch 11: 100% 2/2 [00:07<00:00,  3.78s/it, bce=0.02739, hard dice=0.81378, loss=0.21418, soft dice=0.81378]\n"
     ]
    },
    {
     "name": "stdout",
     "output_type": "stream",
     "text": [
      "soft dice: 0.76608 | loss: 0.27554 | hard dice: 0.76608 | bce: 0.02959\n"
     ]
    },
    {
     "name": "stderr",
     "output_type": "stream",
     "text": [
      "Epoch 12: 100% 2/2 [00:07<00:00,  3.85s/it, bce=0.03540, hard dice=0.69118, loss=0.34823, soft dice=0.68945]\n"
     ]
    },
    {
     "name": "stdout",
     "output_type": "stream",
     "text": [
      "soft dice: 0.76608 | loss: 0.27082 | hard dice: 0.76608 | bce: 0.02848\n"
     ]
    },
    {
     "name": "stderr",
     "output_type": "stream",
     "text": [
      "Epoch 13: 100% 2/2 [00:07<00:00,  3.82s/it, bce=0.04764, hard dice=0.87610, loss=0.23680, soft dice=0.87605]\n"
     ]
    },
    {
     "name": "stdout",
     "output_type": "stream",
     "text": [
      "soft dice: 0.76608 | loss: 0.26981 | hard dice: 0.76608 | bce: 0.02765\n"
     ]
    },
    {
     "name": "stderr",
     "output_type": "stream",
     "text": [
      "Epoch 14: 100% 2/2 [00:07<00:00,  3.81s/it, bce=0.01908, hard dice=1.00000, loss=0.01948, soft dice=1.00000]\n"
     ]
    },
    {
     "name": "stdout",
     "output_type": "stream",
     "text": [
      "soft dice: 0.76608 | loss: 0.26956 | hard dice: 0.76608 | bce: 0.02720\n"
     ]
    },
    {
     "name": "stderr",
     "output_type": "stream",
     "text": [
      "Epoch 15: 100% 2/2 [00:07<00:00,  3.66s/it, bce=0.03132, hard dice=0.62678, loss=0.40700, soft dice=0.62412]\n"
     ]
    },
    {
     "name": "stdout",
     "output_type": "stream",
     "text": [
      "soft dice: 0.76608 | loss: 0.26845 | hard dice: 0.76608 | bce: 0.02610\n"
     ]
    },
    {
     "name": "stderr",
     "output_type": "stream",
     "text": [
      "Epoch 16: 100% 2/2 [00:07<00:00,  3.84s/it, bce=0.02398, hard dice=0.87579, loss=0.14804, soft dice=0.87575]\n"
     ]
    },
    {
     "name": "stdout",
     "output_type": "stream",
     "text": [
      "soft dice: 0.76607 | loss: 0.26791 | hard dice: 0.76608 | bce: 0.02564\n"
     ]
    },
    {
     "name": "stderr",
     "output_type": "stream",
     "text": [
      "Epoch 17: 100% 2/2 [00:07<00:00,  3.83s/it, bce=0.03081, hard dice=0.44140, loss=0.59123, soft dice=0.44124]\n"
     ]
    },
    {
     "name": "stdout",
     "output_type": "stream",
     "text": [
      "soft dice: 0.76607 | loss: 0.26698 | hard dice: 0.76608 | bce: 0.02458\n"
     ]
    },
    {
     "name": "stderr",
     "output_type": "stream",
     "text": [
      "Epoch 18: 100% 2/2 [00:07<00:00,  3.76s/it, bce=0.02750, hard dice=0.87611, loss=0.15156, soft dice=0.87604]\n"
     ]
    },
    {
     "name": "stdout",
     "output_type": "stream",
     "text": [
      "soft dice: 0.76605 | loss: 0.26632 | hard dice: 0.76608 | bce: 0.02380\n"
     ]
    },
    {
     "name": "stderr",
     "output_type": "stream",
     "text": [
      "Epoch 19: 100% 2/2 [00:08<00:00,  4.11s/it, bce=0.02665, hard dice=0.75327, loss=0.33528, soft dice=0.75177]\n"
     ]
    },
    {
     "name": "stdout",
     "output_type": "stream",
     "text": [
      "soft dice: 0.76597 | loss: 0.26514 | hard dice: 0.76608 | bce: 0.02228\n"
     ]
    },
    {
     "name": "stderr",
     "output_type": "stream",
     "text": [
      "Epoch 20: 100% 2/2 [00:07<00:00,  3.83s/it, bce=0.03129, hard dice=0.68927, loss=0.34660, soft dice=0.68631]\n"
     ]
    },
    {
     "name": "stdout",
     "output_type": "stream",
     "text": [
      "soft dice: 0.76590 | loss: 0.26470 | hard dice: 0.76608 | bce: 0.02182\n"
     ]
    },
    {
     "name": "stderr",
     "output_type": "stream",
     "text": [
      "Epoch 21: 100% 2/2 [00:07<00:00,  3.99s/it, bce=0.02568, hard dice=0.81514, loss=0.21178, soft dice=0.81494]\n"
     ]
    },
    {
     "name": "stdout",
     "output_type": "stream",
     "text": [
      "soft dice: 0.76590 | loss: 0.26454 | hard dice: 0.76608 | bce: 0.02180\n"
     ]
    },
    {
     "name": "stderr",
     "output_type": "stream",
     "text": [
      "Epoch 22: 100% 2/2 [00:08<00:00,  4.05s/it, bce=0.02148, hard dice=0.75282, loss=0.35332, soft dice=0.72475]\n"
     ]
    },
    {
     "name": "stdout",
     "output_type": "stream",
     "text": [
      "soft dice: 0.76578 | loss: 0.26429 | hard dice: 0.76608 | bce: 0.02129\n"
     ]
    },
    {
     "name": "stderr",
     "output_type": "stream",
     "text": [
      "Epoch 23: 100% 2/2 [00:07<00:00,  3.87s/it, bce=0.01576, hard dice=0.88316, loss=0.13316, soft dice=0.88312]\n"
     ]
    },
    {
     "name": "stdout",
     "output_type": "stream",
     "text": [
      "soft dice: 0.76598 | loss: 0.26517 | hard dice: 0.76608 | bce: 0.02248\n"
     ]
    },
    {
     "name": "stderr",
     "output_type": "stream",
     "text": [
      "Epoch 24: 100% 2/2 [00:07<00:00,  3.73s/it, bce=0.03122, hard dice=0.87649, loss=0.15583, soft dice=0.87612]\n"
     ]
    },
    {
     "name": "stdout",
     "output_type": "stream",
     "text": [
      "soft dice: 0.76602 | loss: 0.26595 | hard dice: 0.76608 | bce: 0.02302\n"
     ]
    },
    {
     "name": "stderr",
     "output_type": "stream",
     "text": [
      "Epoch 25: 100% 2/2 [00:08<00:00,  4.06s/it, bce=0.02236, hard dice=0.88344, loss=0.15820, soft dice=0.88343]\n"
     ]
    },
    {
     "name": "stdout",
     "output_type": "stream",
     "text": [
      "soft dice: 0.76605 | loss: 0.26613 | hard dice: 0.76608 | bce: 0.02369\n"
     ]
    },
    {
     "name": "stderr",
     "output_type": "stream",
     "text": [
      "Epoch 26: 100% 2/2 [00:07<00:00,  3.77s/it, bce=0.02846, hard dice=0.75143, loss=0.28010, soft dice=0.75139]\n"
     ]
    },
    {
     "name": "stdout",
     "output_type": "stream",
     "text": [
      "soft dice: 0.76604 | loss: 0.26609 | hard dice: 0.76608 | bce: 0.02337\n"
     ]
    },
    {
     "name": "stderr",
     "output_type": "stream",
     "text": [
      "Epoch 27: 100% 2/2 [00:07<00:00,  3.69s/it, bce=0.03023, hard dice=0.44021, loss=0.59313, soft dice=0.43930]\n"
     ]
    },
    {
     "name": "stdout",
     "output_type": "stream",
     "text": [
      "soft dice: 0.76604 | loss: 0.26578 | hard dice: 0.76608 | bce: 0.02335\n"
     ]
    },
    {
     "name": "stderr",
     "output_type": "stream",
     "text": [
      "Epoch 28: 100% 2/2 [00:07<00:00,  3.68s/it, bce=0.04802, hard dice=0.68951, loss=0.36070, soft dice=0.68728]\n"
     ]
    },
    {
     "name": "stdout",
     "output_type": "stream",
     "text": [
      "soft dice: 0.76604 | loss: 0.26577 | hard dice: 0.76608 | bce: 0.02343\n"
     ]
    },
    {
     "name": "stderr",
     "output_type": "stream",
     "text": [
      "Epoch 29: 100% 2/2 [00:07<00:00,  3.59s/it, bce=0.03149, hard dice=0.62799, loss=0.40441, soft dice=0.62792]\n"
     ]
    },
    {
     "name": "stdout",
     "output_type": "stream",
     "text": [
      "soft dice: 0.76605 | loss: 0.26603 | hard dice: 0.76608 | bce: 0.02385\n"
     ]
    },
    {
     "name": "stderr",
     "output_type": "stream",
     "text": [
      "Epoch 30: 100% 2/2 [00:08<00:00,  4.07s/it, bce=0.01586, hard dice=0.93860, loss=0.08453, soft dice=0.93616]\n"
     ]
    },
    {
     "name": "stdout",
     "output_type": "stream",
     "text": [
      "soft dice: 0.76605 | loss: 0.26591 | hard dice: 0.76608 | bce: 0.02371\n"
     ]
    },
    {
     "name": "stderr",
     "output_type": "stream",
     "text": [
      "Epoch 31: 100% 2/2 [00:07<00:00,  3.85s/it, bce=0.03662, hard dice=0.69046, loss=0.40367, soft dice=0.69041]\n"
     ]
    },
    {
     "name": "stdout",
     "output_type": "stream",
     "text": [
      "soft dice: 0.76605 | loss: 0.26596 | hard dice: 0.76608 | bce: 0.02385\n"
     ]
    },
    {
     "name": "stderr",
     "output_type": "stream",
     "text": [
      "Epoch 32: 100% 2/2 [00:08<00:00,  4.20s/it, bce=0.02736, hard dice=0.62799, loss=0.42737, soft dice=0.60674]\n"
     ]
    },
    {
     "name": "stdout",
     "output_type": "stream",
     "text": [
      "soft dice: 0.76601 | loss: 0.26504 | hard dice: 0.76608 | bce: 0.02283\n"
     ]
    },
    {
     "name": "stderr",
     "output_type": "stream",
     "text": [
      "Epoch 33: 100% 2/2 [00:07<00:00,  3.80s/it, bce=0.01798, hard dice=0.68877, loss=0.32967, soft dice=0.68839]\n"
     ]
    },
    {
     "name": "stdout",
     "output_type": "stream",
     "text": [
      "soft dice: 0.76599 | loss: 0.26495 | hard dice: 0.76608 | bce: 0.02255\n"
     ]
    },
    {
     "name": "stderr",
     "output_type": "stream",
     "text": [
      "Epoch 34: 100% 2/2 [00:08<00:00,  4.12s/it, bce=0.02426, hard dice=0.87576, loss=0.21121, soft dice=0.87550]\n"
     ]
    },
    {
     "name": "stdout",
     "output_type": "stream",
     "text": [
      "soft dice: 0.76602 | loss: 0.26542 | hard dice: 0.76608 | bce: 0.02302\n"
     ]
    },
    {
     "name": "stderr",
     "output_type": "stream",
     "text": [
      "Epoch 35: 100% 2/2 [00:07<00:00,  3.62s/it, bce=0.03200, hard dice=0.56493, loss=0.46877, soft dice=0.56347]\n"
     ]
    },
    {
     "name": "stdout",
     "output_type": "stream",
     "text": [
      "soft dice: 0.76605 | loss: 0.26605 | hard dice: 0.76608 | bce: 0.02388\n"
     ]
    },
    {
     "name": "stderr",
     "output_type": "stream",
     "text": [
      "Epoch 36: 100% 2/2 [00:08<00:00,  4.04s/it, bce=0.05037, hard dice=0.56398, loss=0.56079, soft dice=0.53877]\n"
     ]
    },
    {
     "name": "stdout",
     "output_type": "stream",
     "text": [
      "soft dice: 0.76604 | loss: 0.26573 | hard dice: 0.76608 | bce: 0.02356\n"
     ]
    },
    {
     "name": "stderr",
     "output_type": "stream",
     "text": [
      "Epoch 37: 100% 2/2 [00:08<00:00,  4.01s/it, bce=0.03757, hard dice=0.56526, loss=0.47773, soft dice=0.56043]\n"
     ]
    },
    {
     "name": "stdout",
     "output_type": "stream",
     "text": [
      "soft dice: 0.76604 | loss: 0.26559 | hard dice: 0.76608 | bce: 0.02345\n"
     ]
    },
    {
     "name": "stderr",
     "output_type": "stream",
     "text": [
      "Epoch 38: 100% 2/2 [00:07<00:00,  3.93s/it, bce=0.03531, hard dice=0.87637, loss=0.17052, soft dice=0.87146]\n"
     ]
    },
    {
     "name": "stdout",
     "output_type": "stream",
     "text": [
      "soft dice: 0.76604 | loss: 0.26571 | hard dice: 0.76608 | bce: 0.02362\n"
     ]
    },
    {
     "name": "stderr",
     "output_type": "stream",
     "text": [
      "Epoch 39: 100% 2/2 [00:07<00:00,  3.70s/it, bce=0.04471, hard dice=0.69030, loss=0.35708, soft dice=0.69027]\n"
     ]
    },
    {
     "name": "stdout",
     "output_type": "stream",
     "text": [
      "soft dice: 0.76605 | loss: 0.26600 | hard dice: 0.76608 | bce: 0.02397\n"
     ]
    },
    {
     "name": "stderr",
     "output_type": "stream",
     "text": [
      "Epoch 40: 100% 2/2 [00:08<00:00,  4.00s/it, bce=0.02835, hard dice=0.50387, loss=0.59324, soft dice=0.49565]\n"
     ]
    },
    {
     "name": "stdout",
     "output_type": "stream",
     "text": [
      "soft dice: 0.76603 | loss: 0.26537 | hard dice: 0.76608 | bce: 0.02335\n"
     ]
    },
    {
     "name": "stderr",
     "output_type": "stream",
     "text": [
      "Epoch 41: 100% 2/2 [00:06<00:00,  3.49s/it, bce=0.02491, hard dice=0.69034, loss=0.33702, soft dice=0.69032]\n"
     ]
    },
    {
     "name": "stdout",
     "output_type": "stream",
     "text": [
      "soft dice: 0.76605 | loss: 0.26594 | hard dice: 0.76608 | bce: 0.02398\n"
     ]
    },
    {
     "name": "stderr",
     "output_type": "stream",
     "text": [
      "Epoch 42: 100% 2/2 [00:07<00:00,  3.85s/it, bce=0.03216, hard dice=0.75157, loss=0.28231, soft dice=0.75153]\n"
     ]
    },
    {
     "name": "stdout",
     "output_type": "stream",
     "text": [
      "soft dice: 0.76605 | loss: 0.26577 | hard dice: 0.76608 | bce: 0.02379\n"
     ]
    },
    {
     "name": "stderr",
     "output_type": "stream",
     "text": [
      "Epoch 43: 100% 2/2 [00:08<00:00,  4.12s/it, bce=0.03467, hard dice=0.37790, loss=0.65829, soft dice=0.37788]\n"
     ]
    },
    {
     "name": "stdout",
     "output_type": "stream",
     "text": [
      "soft dice: 0.76605 | loss: 0.26586 | hard dice: 0.76608 | bce: 0.02383\n"
     ]
    },
    {
     "name": "stderr",
     "output_type": "stream",
     "text": [
      "Epoch 44: 100% 2/2 [00:07<00:00,  3.80s/it, bce=0.03622, hard dice=0.62734, loss=0.40906, soft dice=0.62701]\n"
     ]
    },
    {
     "name": "stdout",
     "output_type": "stream",
     "text": [
      "soft dice: 0.76605 | loss: 0.26598 | hard dice: 0.76608 | bce: 0.02397\n"
     ]
    },
    {
     "name": "stderr",
     "output_type": "stream",
     "text": [
      "Epoch 45: 100% 2/2 [00:07<00:00,  3.65s/it, bce=0.02933, hard dice=0.68982, loss=0.34054, soft dice=0.68978]\n"
     ]
    },
    {
     "name": "stdout",
     "output_type": "stream",
     "text": [
      "soft dice: 0.76606 | loss: 0.26636 | hard dice: 0.76608 | bce: 0.02434\n"
     ]
    },
    {
     "name": "stderr",
     "output_type": "stream",
     "text": [
      "Epoch 46: 100% 2/2 [00:07<00:00,  3.96s/it, bce=0.03210, hard dice=0.75151, loss=0.28411, soft dice=0.74893]\n"
     ]
    },
    {
     "name": "stdout",
     "output_type": "stream",
     "text": [
      "soft dice: 0.76606 | loss: 0.26653 | hard dice: 0.76608 | bce: 0.02452\n"
     ]
    },
    {
     "name": "stderr",
     "output_type": "stream",
     "text": [
      "Epoch 47: 100% 2/2 [00:06<00:00,  3.46s/it, bce=0.03971, hard dice=0.68971, loss=0.35100, soft dice=0.68960]\n"
     ]
    },
    {
     "name": "stdout",
     "output_type": "stream",
     "text": [
      "soft dice: 0.76606 | loss: 0.26636 | hard dice: 0.76608 | bce: 0.02430\n"
     ]
    },
    {
     "name": "stderr",
     "output_type": "stream",
     "text": [
      "Epoch 48: 100% 2/2 [00:08<00:00,  4.12s/it, bce=0.03114, hard dice=0.56485, loss=0.46796, soft dice=0.56440]\n"
     ]
    },
    {
     "name": "stdout",
     "output_type": "stream",
     "text": [
      "soft dice: 0.76606 | loss: 0.26648 | hard dice: 0.76608 | bce: 0.02434\n"
     ]
    },
    {
     "name": "stderr",
     "output_type": "stream",
     "text": [
      "Epoch 49: 100% 2/2 [00:07<00:00,  3.75s/it, bce=0.02457, hard dice=0.81459, loss=0.21193, soft dice=0.81457]\n"
     ]
    },
    {
     "name": "stdout",
     "output_type": "stream",
     "text": [
      "soft dice: 0.76606 | loss: 0.26646 | hard dice: 0.76608 | bce: 0.02434\n",
      "Starting cyclic lr\n"
     ]
    },
    {
     "name": "stderr",
     "output_type": "stream",
     "text": [
      "Epoch 50: 100% 2/2 [00:08<00:00,  4.12s/it, bce=0.03620, hard dice=0.56507, loss=0.47628, soft dice=0.56125]\n"
     ]
    },
    {
     "name": "stdout",
     "output_type": "stream",
     "text": [
      "soft dice: 0.76608 | loss: 0.27329 | hard dice: 0.76608 | bce: 0.02926\n"
     ]
    },
    {
     "name": "stderr",
     "output_type": "stream",
     "text": [
      "Epoch 51: 100% 2/2 [00:06<00:00,  3.49s/it, bce=0.02939, hard dice=0.87609, loss=0.16160, soft dice=0.87609]\n"
     ]
    },
    {
     "name": "stdout",
     "output_type": "stream",
     "text": [
      "soft dice: 0.76608 | loss: 0.29387 | hard dice: 0.76608 | bce: 0.03034\n"
     ]
    },
    {
     "name": "stderr",
     "output_type": "stream",
     "text": [
      "Epoch 52: 100% 2/2 [00:07<00:00,  3.66s/it, bce=0.03320, hard dice=0.75102, loss=0.31323, soft dice=0.75102]\n"
     ]
    },
    {
     "name": "stdout",
     "output_type": "stream",
     "text": [
      "soft dice: 0.76608 | loss: 0.29236 | hard dice: 0.76608 | bce: 0.03034\n"
     ]
    },
    {
     "name": "stderr",
     "output_type": "stream",
     "text": [
      "Epoch 53: 100% 2/2 [00:07<00:00,  3.77s/it, bce=0.05008, hard dice=0.68887, loss=0.39051, soft dice=0.68887]\n"
     ]
    },
    {
     "name": "stdout",
     "output_type": "stream",
     "text": [
      "soft dice: 0.76608 | loss: 0.29162 | hard dice: 0.76608 | bce: 0.03034\n"
     ]
    },
    {
     "name": "stderr",
     "output_type": "stream",
     "text": [
      "Epoch 54: 100% 2/2 [00:07<00:00,  3.84s/it, bce=0.04017, hard dice=0.68930, loss=0.38069, soft dice=0.68930]\n"
     ]
    },
    {
     "name": "stdout",
     "output_type": "stream",
     "text": [
      "soft dice: 0.76608 | loss: 0.29293 | hard dice: 0.76608 | bce: 0.03034\n"
     ]
    },
    {
     "name": "stderr",
     "output_type": "stream",
     "text": [
      "Epoch 55: 100% 2/2 [00:08<00:00,  4.08s/it, bce=0.04004, hard dice=0.56561, loss=0.48776, soft dice=0.56561]\n"
     ]
    },
    {
     "name": "stdout",
     "output_type": "stream",
     "text": [
      "soft dice: 0.76604 | loss: 0.27020 | hard dice: 0.76608 | bce: 0.02473\n"
     ]
    },
    {
     "name": "stderr",
     "output_type": "stream",
     "text": [
      "Epoch 56: 100% 2/2 [00:07<00:00,  3.91s/it, bce=0.03526, hard dice=0.56454, loss=0.49275, soft dice=0.55378]\n"
     ]
    },
    {
     "name": "stdout",
     "output_type": "stream",
     "text": [
      "soft dice: 0.68633 | loss: 0.42094 | hard dice: 0.76608 | bce: 0.01626\n"
     ]
    },
    {
     "name": "stderr",
     "output_type": "stream",
     "text": [
      "Epoch 57: 100% 2/2 [00:07<00:00,  3.53s/it, bce=0.02604, hard dice=0.56500, loss=0.47213, soft dice=0.55523]\n"
     ]
    },
    {
     "name": "stdout",
     "output_type": "stream",
     "text": [
      "soft dice: 0.74982 | loss: 0.29129 | hard dice: 0.76608 | bce: 0.01792\n"
     ]
    },
    {
     "name": "stderr",
     "output_type": "stream",
     "text": [
      "Epoch 58: 100% 2/2 [00:07<00:00,  3.79s/it, bce=0.03680, hard dice=0.69167, loss=0.35479, soft dice=0.68397]\n"
     ]
    },
    {
     "name": "stdout",
     "output_type": "stream",
     "text": [
      "soft dice: 0.76209 | loss: 0.26867 | hard dice: 0.76608 | bce: 0.01917\n"
     ]
    },
    {
     "name": "stderr",
     "output_type": "stream",
     "text": [
      "Epoch 59: 100% 2/2 [00:07<00:00,  3.71s/it, bce=0.02486, hard dice=0.81410, loss=0.22579, soft dice=0.80056]\n"
     ]
    },
    {
     "name": "stdout",
     "output_type": "stream",
     "text": [
      "soft dice: 0.76349 | loss: 0.26450 | hard dice: 0.76608 | bce: 0.01942\n"
     ]
    },
    {
     "name": "stderr",
     "output_type": "stream",
     "text": [
      "Epoch 60: 100% 2/2 [00:07<00:00,  3.94s/it, bce=0.02549, hard dice=0.68977, loss=0.34273, soft dice=0.68944]\n"
     ]
    },
    {
     "name": "stdout",
     "output_type": "stream",
     "text": [
      "soft dice: 0.76608 | loss: 0.29811 | hard dice: 0.76608 | bce: 0.03034\n"
     ]
    },
    {
     "name": "stderr",
     "output_type": "stream",
     "text": [
      "Epoch 61: 100% 2/2 [00:08<00:00,  4.21s/it, bce=0.04635, hard dice=0.44034, loss=0.62846, soft dice=0.44034]\n"
     ]
    },
    {
     "name": "stdout",
     "output_type": "stream",
     "text": [
      "soft dice: 0.76608 | loss: 0.33579 | hard dice: 0.76608 | bce: 0.03034\n"
     ]
    },
    {
     "name": "stderr",
     "output_type": "stream",
     "text": [
      "Epoch 62: 100% 2/2 [00:07<00:00,  3.95s/it, bce=0.03547, hard dice=0.87616, loss=0.18734, soft dice=0.87616]\n"
     ]
    },
    {
     "name": "stdout",
     "output_type": "stream",
     "text": [
      "soft dice: 0.76608 | loss: 0.31240 | hard dice: 0.76608 | bce: 0.03034\n"
     ]
    },
    {
     "name": "stderr",
     "output_type": "stream",
     "text": [
      "Epoch 63: 100% 2/2 [00:07<00:00,  3.89s/it, bce=0.03427, hard dice=0.68917, loss=0.37700, soft dice=0.68917]\n"
     ]
    },
    {
     "name": "stdout",
     "output_type": "stream",
     "text": [
      "soft dice: 0.76608 | loss: 0.30625 | hard dice: 0.76608 | bce: 0.03034\n"
     ]
    },
    {
     "name": "stderr",
     "output_type": "stream",
     "text": [
      "Epoch 64: 100% 2/2 [00:07<00:00,  3.56s/it, bce=0.04958, hard dice=0.69024, loss=0.39058, soft dice=0.69024]\n"
     ]
    },
    {
     "name": "stdout",
     "output_type": "stream",
     "text": [
      "soft dice: 0.76608 | loss: 0.30162 | hard dice: 0.76608 | bce: 0.03034\n"
     ]
    },
    {
     "name": "stderr",
     "output_type": "stream",
     "text": [
      "Epoch 65: 100% 2/2 [00:08<00:00,  4.10s/it, bce=0.03480, hard dice=0.81343, loss=0.24166, soft dice=0.81343]\n"
     ]
    },
    {
     "name": "stdout",
     "output_type": "stream",
     "text": [
      "soft dice: 0.76608 | loss: 0.28161 | hard dice: 0.76608 | bce: 0.03034\n"
     ]
    },
    {
     "name": "stderr",
     "output_type": "stream",
     "text": [
      "Epoch 66: 100% 2/2 [00:07<00:00,  3.65s/it, bce=0.03558, hard dice=0.50217, loss=0.53760, soft dice=0.50215]\n"
     ]
    },
    {
     "name": "stdout",
     "output_type": "stream",
     "text": [
      "soft dice: 0.76605 | loss: 0.26759 | hard dice: 0.76608 | bce: 0.02544\n"
     ]
    },
    {
     "name": "stderr",
     "output_type": "stream",
     "text": [
      "Epoch 67: 100% 2/2 [00:07<00:00,  3.74s/it, bce=0.03623, hard dice=0.56486, loss=0.48329, soft dice=0.55769]\n"
     ]
    },
    {
     "name": "stdout",
     "output_type": "stream",
     "text": [
      "soft dice: 0.76605 | loss: 0.26671 | hard dice: 0.76608 | bce: 0.02494\n"
     ]
    },
    {
     "name": "stderr",
     "output_type": "stream",
     "text": [
      "Epoch 68: 100% 2/2 [00:07<00:00,  3.73s/it, bce=0.02957, hard dice=0.75093, loss=0.28100, soft dice=0.74946]\n"
     ]
    },
    {
     "name": "stdout",
     "output_type": "stream",
     "text": [
      "soft dice: 0.76604 | loss: 0.26606 | hard dice: 0.76608 | bce: 0.02449\n"
     ]
    },
    {
     "name": "stderr",
     "output_type": "stream",
     "text": [
      "Epoch 69: 100% 2/2 [00:08<00:00,  4.12s/it, bce=0.02650, hard dice=0.44061, loss=0.58860, soft dice=0.43946]\n"
     ]
    },
    {
     "name": "stdout",
     "output_type": "stream",
     "text": [
      "soft dice: 0.76597 | loss: 0.26491 | hard dice: 0.76608 | bce: 0.02336\n"
     ]
    },
    {
     "name": "stderr",
     "output_type": "stream",
     "text": [
      "Epoch 70: 100% 2/2 [00:07<00:00,  3.63s/it, bce=0.02466, hard dice=0.56504, loss=0.46020, soft dice=0.56479]\n"
     ]
    },
    {
     "name": "stdout",
     "output_type": "stream",
     "text": [
      "soft dice: 0.76586 | loss: 0.26398 | hard dice: 0.76608 | bce: 0.02241\n"
     ]
    },
    {
     "name": "stderr",
     "output_type": "stream",
     "text": [
      "Epoch 71: 100% 2/2 [00:07<00:00,  3.76s/it, bce=0.02736, hard dice=0.87562, loss=0.16104, soft dice=0.86741]\n"
     ]
    },
    {
     "name": "stdout",
     "output_type": "stream",
     "text": [
      "soft dice: 0.76604 | loss: 0.26577 | hard dice: 0.76608 | bce: 0.02406\n"
     ]
    },
    {
     "name": "stderr",
     "output_type": "stream",
     "text": [
      "Epoch 72: 100% 2/2 [00:07<00:00,  3.57s/it, bce=0.03619, hard dice=0.75196, loss=0.28801, soft dice=0.75196]\n"
     ]
    },
    {
     "name": "stdout",
     "output_type": "stream",
     "text": [
      "soft dice: 0.76607 | loss: 0.26713 | hard dice: 0.76608 | bce: 0.02528\n"
     ]
    },
    {
     "name": "stderr",
     "output_type": "stream",
     "text": [
      "Epoch 73: 100% 2/2 [00:07<00:00,  3.93s/it, bce=0.02692, hard dice=0.81499, loss=0.21484, soft dice=0.81499]\n"
     ]
    },
    {
     "name": "stdout",
     "output_type": "stream",
     "text": [
      "soft dice: 0.76607 | loss: 0.26835 | hard dice: 0.76608 | bce: 0.02633\n"
     ]
    },
    {
     "name": "stderr",
     "output_type": "stream",
     "text": [
      "Epoch 74: 100% 2/2 [00:07<00:00,  3.88s/it, bce=0.05406, hard dice=0.37749, loss=0.68705, soft dice=0.37682]\n"
     ]
    },
    {
     "name": "stdout",
     "output_type": "stream",
     "text": [
      "soft dice: 0.76608 | loss: 0.26890 | hard dice: 0.76608 | bce: 0.02672\n"
     ]
    },
    {
     "name": "stderr",
     "output_type": "stream",
     "text": [
      "Epoch 75: 100% 2/2 [00:07<00:00,  3.61s/it, bce=0.04533, hard dice=0.68887, loss=0.36018, soft dice=0.68726]\n"
     ]
    },
    {
     "name": "stdout",
     "output_type": "stream",
     "text": [
      "soft dice: 0.76590 | loss: 0.26626 | hard dice: 0.76608 | bce: 0.02335\n"
     ]
    },
    {
     "name": "stderr",
     "output_type": "stream",
     "text": [
      "Epoch 76: 100% 2/2 [00:07<00:00,  3.54s/it, bce=0.03042, hard dice=0.75094, loss=0.28152, soft dice=0.74954]\n"
     ]
    },
    {
     "name": "stdout",
     "output_type": "stream",
     "text": [
      "soft dice: 0.76608 | loss: 0.27364 | hard dice: 0.76608 | bce: 0.02931\n"
     ]
    },
    {
     "name": "stderr",
     "output_type": "stream",
     "text": [
      "Epoch 77: 100% 2/2 [00:07<00:00,  3.89s/it, bce=0.03083, hard dice=0.69049, loss=0.34093, soft dice=0.69036]\n"
     ]
    },
    {
     "name": "stdout",
     "output_type": "stream",
     "text": [
      "soft dice: 0.76608 | loss: 0.27191 | hard dice: 0.76608 | bce: 0.02874\n"
     ]
    },
    {
     "name": "stderr",
     "output_type": "stream",
     "text": [
      "Epoch 78: 100% 2/2 [00:07<00:00,  3.62s/it, bce=0.02607, hard dice=0.93841, loss=0.14208, soft dice=0.93649]\n"
     ]
    },
    {
     "name": "stdout",
     "output_type": "stream",
     "text": [
      "soft dice: 0.76608 | loss: 0.27023 | hard dice: 0.76608 | bce: 0.02791\n"
     ]
    },
    {
     "name": "stderr",
     "output_type": "stream",
     "text": [
      "Epoch 79: 100% 2/2 [00:07<00:00,  3.79s/it, bce=0.04012, hard dice=0.69005, loss=0.40726, soft dice=0.68994]\n"
     ]
    },
    {
     "name": "stdout",
     "output_type": "stream",
     "text": [
      "soft dice: 0.76608 | loss: 0.26876 | hard dice: 0.76608 | bce: 0.02695\n"
     ]
    },
    {
     "name": "stderr",
     "output_type": "stream",
     "text": [
      "Epoch 80: 100% 2/2 [00:08<00:00,  4.10s/it, bce=0.03564, hard dice=0.81346, loss=0.28446, soft dice=0.81205]\n"
     ]
    },
    {
     "name": "stdout",
     "output_type": "stream",
     "text": [
      "soft dice: 0.76601 | loss: 0.26497 | hard dice: 0.76608 | bce: 0.02346\n"
     ]
    },
    {
     "name": "stderr",
     "output_type": "stream",
     "text": [
      "Epoch 81: 100% 2/2 [00:08<00:00,  4.08s/it, bce=0.02880, hard dice=0.69082, loss=0.34665, soft dice=0.68265]\n"
     ]
    },
    {
     "name": "stdout",
     "output_type": "stream",
     "text": [
      "soft dice: 0.76608 | loss: 0.27022 | hard dice: 0.76608 | bce: 0.02837\n"
     ]
    },
    {
     "name": "stderr",
     "output_type": "stream",
     "text": [
      "Epoch 82: 100% 2/2 [00:07<00:00,  3.81s/it, bce=0.02038, hard dice=0.93877, loss=0.08224, soft dice=0.93876]\n"
     ]
    },
    {
     "name": "stdout",
     "output_type": "stream",
     "text": [
      "soft dice: 0.76608 | loss: 0.26922 | hard dice: 0.76608 | bce: 0.02770\n"
     ]
    },
    {
     "name": "stderr",
     "output_type": "stream",
     "text": [
      "Epoch 83: 100% 2/2 [00:08<00:00,  4.13s/it, bce=0.02616, hard dice=0.93822, loss=0.08876, soft dice=0.93816]\n"
     ]
    },
    {
     "name": "stdout",
     "output_type": "stream",
     "text": [
      "soft dice: 0.76608 | loss: 0.26770 | hard dice: 0.76608 | bce: 0.02634\n"
     ]
    },
    {
     "name": "stderr",
     "output_type": "stream",
     "text": [
      "Epoch 84: 100% 2/2 [00:08<00:00,  4.07s/it, bce=0.04513, hard dice=0.62706, loss=0.41916, soft dice=0.62705]\n"
     ]
    },
    {
     "name": "stdout",
     "output_type": "stream",
     "text": [
      "soft dice: 0.76608 | loss: 0.26798 | hard dice: 0.76608 | bce: 0.02661\n"
     ]
    },
    {
     "name": "stderr",
     "output_type": "stream",
     "text": [
      "Epoch 85: 100% 2/2 [00:07<00:00,  3.66s/it, bce=0.03688, hard dice=0.44655, loss=0.59853, soft dice=0.44564]\n"
     ]
    },
    {
     "name": "stdout",
     "output_type": "stream",
     "text": [
      "soft dice: 0.76327 | loss: 0.26340 | hard dice: 0.76608 | bce: 0.01919\n"
     ]
    },
    {
     "name": "stderr",
     "output_type": "stream",
     "text": [
      "Epoch 86: 100% 2/2 [00:07<00:00,  3.54s/it, bce=0.02502, hard dice=0.69012, loss=0.35342, soft dice=0.67230]\n"
     ]
    },
    {
     "name": "stdout",
     "output_type": "stream",
     "text": [
      "soft dice: 0.76608 | loss: 0.27067 | hard dice: 0.76608 | bce: 0.02863\n"
     ]
    },
    {
     "name": "stderr",
     "output_type": "stream",
     "text": [
      "Epoch 87: 100% 2/2 [00:07<00:00,  3.84s/it, bce=0.02491, hard dice=0.89000, loss=0.13481, soft dice=0.88999]\n"
     ]
    },
    {
     "name": "stdout",
     "output_type": "stream",
     "text": [
      "soft dice: 0.76608 | loss: 0.27036 | hard dice: 0.76608 | bce: 0.02863\n"
     ]
    },
    {
     "name": "stderr",
     "output_type": "stream",
     "text": [
      "Epoch 88: 100% 2/2 [00:07<00:00,  3.71s/it, bce=0.02931, hard dice=0.44074, loss=0.58942, soft dice=0.44073]\n"
     ]
    },
    {
     "name": "stdout",
     "output_type": "stream",
     "text": [
      "soft dice: 0.76608 | loss: 0.27029 | hard dice: 0.76608 | bce: 0.02861\n"
     ]
    },
    {
     "name": "stderr",
     "output_type": "stream",
     "text": [
      "Epoch 89: 100% 2/2 [00:07<00:00,  3.97s/it, bce=0.02252, hard dice=0.69028, loss=0.33260, soft dice=0.69026]\n"
     ]
    },
    {
     "name": "stdout",
     "output_type": "stream",
     "text": [
      "soft dice: 0.76608 | loss: 0.26993 | hard dice: 0.76608 | bce: 0.02840\n"
     ]
    },
    {
     "name": "stderr",
     "output_type": "stream",
     "text": [
      "Epoch 90: 100% 2/2 [00:07<00:00,  3.80s/it, bce=0.02035, hard dice=1.00000, loss=0.02100, soft dice=1.00000]\n"
     ]
    },
    {
     "name": "stdout",
     "output_type": "stream",
     "text": [
      "soft dice: 0.76607 | loss: 0.26609 | hard dice: 0.76608 | bce: 0.02480\n"
     ]
    },
    {
     "name": "stderr",
     "output_type": "stream",
     "text": [
      "Epoch 91: 100% 2/2 [00:08<00:00,  4.24s/it, bce=0.03271, hard dice=0.56392, loss=0.47917, soft dice=0.55473]\n"
     ]
    },
    {
     "name": "stdout",
     "output_type": "stream",
     "text": [
      "soft dice: 0.76605 | loss: 0.26505 | hard dice: 0.76608 | bce: 0.02369\n"
     ]
    },
    {
     "name": "stderr",
     "output_type": "stream",
     "text": [
      "Epoch 92: 100% 2/2 [00:08<00:00,  4.42s/it, bce=0.02636, hard dice=0.69009, loss=0.33684, soft dice=0.68996]\n"
     ]
    },
    {
     "name": "stdout",
     "output_type": "stream",
     "text": [
      "soft dice: 0.76606 | loss: 0.26526 | hard dice: 0.76608 | bce: 0.02400\n"
     ]
    },
    {
     "name": "stderr",
     "output_type": "stream",
     "text": [
      "Epoch 93: 100% 2/2 [00:07<00:00,  3.85s/it, bce=0.03170, hard dice=0.68928, loss=0.34556, soft dice=0.68736]\n"
     ]
    },
    {
     "name": "stdout",
     "output_type": "stream",
     "text": [
      "soft dice: 0.76605 | loss: 0.26486 | hard dice: 0.76608 | bce: 0.02360\n"
     ]
    },
    {
     "name": "stderr",
     "output_type": "stream",
     "text": [
      "Epoch 94: 100% 2/2 [00:07<00:00,  3.92s/it, bce=0.02615, hard dice=0.93954, loss=0.08783, soft dice=0.93936]\n"
     ]
    },
    {
     "name": "stdout",
     "output_type": "stream",
     "text": [
      "soft dice: 0.76605 | loss: 0.26485 | hard dice: 0.76608 | bce: 0.02359\n"
     ]
    },
    {
     "name": "stderr",
     "output_type": "stream",
     "text": [
      "Epoch 95: 100% 2/2 [00:08<00:00,  4.07s/it, bce=0.02913, hard dice=0.43953, loss=0.59176, soft dice=0.43770]\n"
     ]
    },
    {
     "name": "stdout",
     "output_type": "stream",
     "text": [
      "soft dice: 0.76592 | loss: 0.26454 | hard dice: 0.76608 | bce: 0.02313\n"
     ]
    },
    {
     "name": "stderr",
     "output_type": "stream",
     "text": [
      "Epoch 96: 100% 2/2 [00:08<00:00,  4.02s/it, bce=0.02939, hard dice=0.68995, loss=0.34219, soft dice=0.68858]\n"
     ]
    },
    {
     "name": "stdout",
     "output_type": "stream",
     "text": [
      "soft dice: 0.76566 | loss: 0.26485 | hard dice: 0.76608 | bce: 0.02293\n"
     ]
    },
    {
     "name": "stderr",
     "output_type": "stream",
     "text": [
      "Epoch 97: 100% 2/2 [00:07<00:00,  3.78s/it, bce=0.02446, hard dice=0.81427, loss=0.21413, soft dice=0.81384]\n"
     ]
    },
    {
     "name": "stdout",
     "output_type": "stream",
     "text": [
      "soft dice: 0.76561 | loss: 0.26482 | hard dice: 0.76608 | bce: 0.02285\n"
     ]
    },
    {
     "name": "stderr",
     "output_type": "stream",
     "text": [
      "Epoch 98: 100% 2/2 [00:08<00:00,  4.31s/it, bce=0.03315, hard dice=0.62683, loss=0.40925, soft dice=0.62463]\n"
     ]
    },
    {
     "name": "stdout",
     "output_type": "stream",
     "text": [
      "soft dice: 0.76549 | loss: 0.26433 | hard dice: 0.76608 | bce: 0.02241\n"
     ]
    },
    {
     "name": "stderr",
     "output_type": "stream",
     "text": [
      "Epoch 99: 100% 2/2 [00:07<00:00,  3.56s/it, bce=0.02512, hard dice=0.81424, loss=0.21566, soft dice=0.81006]\n"
     ]
    },
    {
     "name": "stdout",
     "output_type": "stream",
     "text": [
      "soft dice: 0.76593 | loss: 0.26341 | hard dice: 0.76608 | bce: 0.02198\n",
      "Finished train fold: 2 with best loss 0.26340 on epoch 85\n",
      "\n"
     ]
    },
    {
     "name": "stderr",
     "output_type": "stream",
     "text": [
      "Epoch 0: 100% 2/2 [00:07<00:00,  3.58s/it, bce=0.39136, hard dice=0.25241, loss=1.38974, soft dice=0.00227]\n"
     ]
    },
    {
     "name": "stdout",
     "output_type": "stream",
     "text": [
      "soft dice: 0.00295 | loss: 1.03282 | hard dice: 0.75123 | bce: 0.02553\n"
     ]
    },
    {
     "name": "stderr",
     "output_type": "stream",
     "text": [
      "Epoch 1: 100% 2/2 [00:07<00:00,  3.93s/it, bce=0.02560, hard dice=0.81442, loss=0.64926, soft dice=0.38153]\n"
     ]
    },
    {
     "name": "stdout",
     "output_type": "stream",
     "text": [
      "soft dice: 0.75123 | loss: 52.01960 | hard dice: 0.75123 | bce: 0.02922\n"
     ]
    },
    {
     "name": "stderr",
     "output_type": "stream",
     "text": [
      "Epoch 2: 100% 2/2 [00:07<00:00,  3.76s/it, bce=0.05017, hard dice=0.62868, loss=0.50406, soft dice=0.62868]\n"
     ]
    },
    {
     "name": "stdout",
     "output_type": "stream",
     "text": [
      "soft dice: 0.75123 | loss: 16.18586 | hard dice: 0.75123 | bce: 0.02922\n"
     ]
    },
    {
     "name": "stderr",
     "output_type": "stream",
     "text": [
      "Epoch 3: 100% 2/2 [00:08<00:00,  4.06s/it, bce=0.03754, hard dice=0.81378, loss=0.29144, soft dice=0.81378]\n"
     ]
    },
    {
     "name": "stdout",
     "output_type": "stream",
     "text": [
      "soft dice: 0.75123 | loss: 0.93269 | hard dice: 0.75123 | bce: 0.02922\n"
     ]
    },
    {
     "name": "stderr",
     "output_type": "stream",
     "text": [
      "Epoch 4: 100% 2/2 [00:08<00:00,  4.23s/it, bce=0.04958, hard dice=0.56397, loss=0.56171, soft dice=0.56397]\n"
     ]
    },
    {
     "name": "stdout",
     "output_type": "stream",
     "text": [
      "soft dice: 0.75123 | loss: 0.37859 | hard dice: 0.75123 | bce: 0.02906\n"
     ]
    },
    {
     "name": "stderr",
     "output_type": "stream",
     "text": [
      "Epoch 5: 100% 2/2 [00:08<00:00,  4.06s/it, bce=0.03366, hard dice=0.75277, loss=0.30463, soft dice=0.75261]\n"
     ]
    },
    {
     "name": "stdout",
     "output_type": "stream",
     "text": [
      "soft dice: 0.74849 | loss: 0.37159 | hard dice: 0.75123 | bce: 0.02445\n"
     ]
    },
    {
     "name": "stderr",
     "output_type": "stream",
     "text": [
      "Epoch 6: 100% 2/2 [00:07<00:00,  3.98s/it, bce=0.03835, hard dice=0.75774, loss=0.31065, soft dice=0.75086]\n"
     ]
    },
    {
     "name": "stdout",
     "output_type": "stream",
     "text": [
      "soft dice: 0.74919 | loss: 0.47428 | hard dice: 0.75123 | bce: 0.02725\n"
     ]
    },
    {
     "name": "stderr",
     "output_type": "stream",
     "text": [
      "Epoch 7: 100% 2/2 [00:07<00:00,  3.86s/it, bce=0.03552, hard dice=0.62748, loss=0.41248, soft dice=0.62742]\n"
     ]
    },
    {
     "name": "stdout",
     "output_type": "stream",
     "text": [
      "soft dice: 0.74324 | loss: 0.39613 | hard dice: 0.75123 | bce: 0.02402\n"
     ]
    },
    {
     "name": "stderr",
     "output_type": "stream",
     "text": [
      "Epoch 8: 100% 2/2 [00:07<00:00,  3.81s/it, bce=0.02677, hard dice=0.93847, loss=0.09520, soft dice=0.93739]\n"
     ]
    },
    {
     "name": "stdout",
     "output_type": "stream",
     "text": [
      "soft dice: 0.64611 | loss: 0.45021 | hard dice: 0.75123 | bce: 0.01645\n"
     ]
    },
    {
     "name": "stderr",
     "output_type": "stream",
     "text": [
      "Epoch 9: 100% 2/2 [00:07<00:00,  3.77s/it, bce=0.03106, hard dice=0.56527, loss=0.46884, soft dice=0.56506]\n"
     ]
    },
    {
     "name": "stdout",
     "output_type": "stream",
     "text": [
      "soft dice: 0.71665 | loss: 0.34554 | hard dice: 0.75123 | bce: 0.01933\n"
     ]
    },
    {
     "name": "stderr",
     "output_type": "stream",
     "text": [
      "Epoch 10: 100% 2/2 [00:08<00:00,  4.06s/it, bce=0.02899, hard dice=0.69159, loss=0.40287, soft dice=0.69099]\n"
     ]
    },
    {
     "name": "stdout",
     "output_type": "stream",
     "text": [
      "soft dice: 0.73960 | loss: 0.29575 | hard dice: 0.75123 | bce: 0.02089\n"
     ]
    },
    {
     "name": "stderr",
     "output_type": "stream",
     "text": [
      "Epoch 11: 100% 2/2 [00:08<00:00,  4.00s/it, bce=0.03477, hard dice=0.63599, loss=0.41675, soft dice=0.62337]\n"
     ]
    },
    {
     "name": "stdout",
     "output_type": "stream",
     "text": [
      "soft dice: 0.74978 | loss: 0.29077 | hard dice: 0.75123 | bce: 0.02144\n"
     ]
    },
    {
     "name": "stderr",
     "output_type": "stream",
     "text": [
      "Epoch 12: 100% 2/2 [00:07<00:00,  3.91s/it, bce=0.03215, hard dice=0.56504, loss=0.46792, soft dice=0.56500]\n"
     ]
    },
    {
     "name": "stdout",
     "output_type": "stream",
     "text": [
      "soft dice: 0.75094 | loss: 0.27475 | hard dice: 0.75123 | bce: 0.02130\n"
     ]
    },
    {
     "name": "stderr",
     "output_type": "stream",
     "text": [
      "Epoch 13: 100% 2/2 [00:07<00:00,  3.68s/it, bce=0.04467, hard dice=0.50197, loss=0.60546, soft dice=0.50179]\n"
     ]
    },
    {
     "name": "stdout",
     "output_type": "stream",
     "text": [
      "soft dice: 0.75109 | loss: 0.27187 | hard dice: 0.75123 | bce: 0.02158\n"
     ]
    },
    {
     "name": "stderr",
     "output_type": "stream",
     "text": [
      "Epoch 14: 100% 2/2 [00:08<00:00,  4.01s/it, bce=0.03380, hard dice=0.81424, loss=0.22040, soft dice=0.81423]\n"
     ]
    },
    {
     "name": "stdout",
     "output_type": "stream",
     "text": [
      "soft dice: 0.75116 | loss: 0.27193 | hard dice: 0.75123 | bce: 0.02221\n"
     ]
    },
    {
     "name": "stderr",
     "output_type": "stream",
     "text": [
      "Epoch 15: 100% 2/2 [00:07<00:00,  3.98s/it, bce=0.03450, hard dice=0.81409, loss=0.22114, soft dice=0.81399]\n"
     ]
    },
    {
     "name": "stdout",
     "output_type": "stream",
     "text": [
      "soft dice: 0.75117 | loss: 0.27190 | hard dice: 0.75123 | bce: 0.02238\n"
     ]
    },
    {
     "name": "stderr",
     "output_type": "stream",
     "text": [
      "Epoch 16: 100% 2/2 [00:07<00:00,  3.93s/it, bce=0.01835, hard dice=0.69250, loss=0.32824, soft dice=0.69235]\n"
     ]
    },
    {
     "name": "stdout",
     "output_type": "stream",
     "text": [
      "soft dice: 0.75117 | loss: 0.27193 | hard dice: 0.75123 | bce: 0.02232\n"
     ]
    },
    {
     "name": "stderr",
     "output_type": "stream",
     "text": [
      "Epoch 17: 100% 2/2 [00:07<00:00,  3.91s/it, bce=0.02670, hard dice=0.81461, loss=0.21308, soft dice=0.81431]\n"
     ]
    },
    {
     "name": "stdout",
     "output_type": "stream",
     "text": [
      "soft dice: 0.75117 | loss: 0.27192 | hard dice: 0.75123 | bce: 0.02226\n"
     ]
    },
    {
     "name": "stderr",
     "output_type": "stream",
     "text": [
      "Epoch 18: 100% 2/2 [00:07<00:00,  3.97s/it, bce=0.03854, hard dice=0.62740, loss=0.41337, soft dice=0.62718]\n"
     ]
    },
    {
     "name": "stdout",
     "output_type": "stream",
     "text": [
      "soft dice: 0.75114 | loss: 0.27152 | hard dice: 0.75123 | bce: 0.02181\n"
     ]
    },
    {
     "name": "stderr",
     "output_type": "stream",
     "text": [
      "Epoch 19: 100% 2/2 [00:08<00:00,  4.19s/it, bce=0.03374, hard dice=0.81418, loss=0.28419, soft dice=0.81295]\n"
     ]
    },
    {
     "name": "stdout",
     "output_type": "stream",
     "text": [
      "soft dice: 0.75102 | loss: 0.27083 | hard dice: 0.75123 | bce: 0.02085\n"
     ]
    },
    {
     "name": "stderr",
     "output_type": "stream",
     "text": [
      "Epoch 20: 100% 2/2 [00:07<00:00,  3.76s/it, bce=0.02872, hard dice=0.68981, loss=0.34481, soft dice=0.68550]\n"
     ]
    },
    {
     "name": "stdout",
     "output_type": "stream",
     "text": [
      "soft dice: 0.75080 | loss: 0.27061 | hard dice: 0.75123 | bce: 0.02029\n"
     ]
    },
    {
     "name": "stderr",
     "output_type": "stream",
     "text": [
      "Epoch 21: 100% 2/2 [00:07<00:00,  3.84s/it, bce=0.03910, hard dice=0.44067, loss=0.59970, soft dice=0.44018]\n"
     ]
    },
    {
     "name": "stdout",
     "output_type": "stream",
     "text": [
      "soft dice: 0.75077 | loss: 0.27045 | hard dice: 0.75123 | bce: 0.02029\n"
     ]
    },
    {
     "name": "stderr",
     "output_type": "stream",
     "text": [
      "Epoch 22: 100% 2/2 [00:07<00:00,  3.89s/it, bce=0.02174, hard dice=0.69107, loss=0.33451, soft dice=0.68827]\n"
     ]
    },
    {
     "name": "stdout",
     "output_type": "stream",
     "text": [
      "soft dice: 0.75085 | loss: 0.27039 | hard dice: 0.75123 | bce: 0.02040\n"
     ]
    },
    {
     "name": "stderr",
     "output_type": "stream",
     "text": [
      "Epoch 23: 100% 2/2 [00:08<00:00,  4.24s/it, bce=0.02051, hard dice=0.81477, loss=0.20640, soft dice=0.81435]\n"
     ]
    },
    {
     "name": "stdout",
     "output_type": "stream",
     "text": [
      "soft dice: 0.75095 | loss: 0.27035 | hard dice: 0.75123 | bce: 0.02057\n"
     ]
    },
    {
     "name": "stderr",
     "output_type": "stream",
     "text": [
      "Epoch 24: 100% 2/2 [00:08<00:00,  4.30s/it, bce=0.03389, hard dice=0.56512, loss=0.47030, soft dice=0.56460]\n"
     ]
    },
    {
     "name": "stdout",
     "output_type": "stream",
     "text": [
      "soft dice: 0.75100 | loss: 0.27038 | hard dice: 0.75123 | bce: 0.02069\n"
     ]
    },
    {
     "name": "stderr",
     "output_type": "stream",
     "text": [
      "Epoch 25: 100% 2/2 [00:07<00:00,  3.84s/it, bce=0.03378, hard dice=0.75265, loss=0.28440, soft dice=0.75058]\n"
     ]
    },
    {
     "name": "stdout",
     "output_type": "stream",
     "text": [
      "soft dice: 0.75094 | loss: 0.27017 | hard dice: 0.75123 | bce: 0.02045\n"
     ]
    },
    {
     "name": "stderr",
     "output_type": "stream",
     "text": [
      "Epoch 26: 100% 2/2 [00:07<00:00,  3.91s/it, bce=0.03401, hard dice=0.62684, loss=0.40885, soft dice=0.62566]\n"
     ]
    },
    {
     "name": "stdout",
     "output_type": "stream",
     "text": [
      "soft dice: 0.75090 | loss: 0.27009 | hard dice: 0.75123 | bce: 0.02038\n"
     ]
    },
    {
     "name": "stderr",
     "output_type": "stream",
     "text": [
      "Epoch 27: 100% 2/2 [00:07<00:00,  3.79s/it, bce=0.02892, hard dice=0.62860, loss=0.40467, soft dice=0.62537]\n"
     ]
    },
    {
     "name": "stdout",
     "output_type": "stream",
     "text": [
      "soft dice: 0.75075 | loss: 0.26993 | hard dice: 0.75123 | bce: 0.02007\n"
     ]
    },
    {
     "name": "stderr",
     "output_type": "stream",
     "text": [
      "Epoch 28: 100% 2/2 [00:07<00:00,  3.59s/it, bce=0.02251, hard dice=0.75316, loss=0.27373, soft dice=0.75049]\n"
     ]
    },
    {
     "name": "stdout",
     "output_type": "stream",
     "text": [
      "soft dice: 0.75081 | loss: 0.26994 | hard dice: 0.75123 | bce: 0.02018\n"
     ]
    },
    {
     "name": "stderr",
     "output_type": "stream",
     "text": [
      "Epoch 29: 100% 2/2 [00:07<00:00,  3.64s/it, bce=0.02314, hard dice=0.81387, loss=0.27121, soft dice=0.81014]\n"
     ]
    },
    {
     "name": "stdout",
     "output_type": "stream",
     "text": [
      "soft dice: 0.75067 | loss: 0.26986 | hard dice: 0.75123 | bce: 0.01994\n"
     ]
    },
    {
     "name": "stderr",
     "output_type": "stream",
     "text": [
      "Epoch 30: 100% 2/2 [00:07<00:00,  3.58s/it, bce=0.03571, hard dice=0.87637, loss=0.16475, soft dice=0.87193]\n"
     ]
    },
    {
     "name": "stdout",
     "output_type": "stream",
     "text": [
      "soft dice: 0.75079 | loss: 0.26986 | hard dice: 0.75123 | bce: 0.02008\n"
     ]
    },
    {
     "name": "stderr",
     "output_type": "stream",
     "text": [
      "Epoch 31: 100% 2/2 [00:07<00:00,  3.93s/it, bce=0.01578, hard dice=0.69049, loss=0.32594, soft dice=0.68995]\n"
     ]
    },
    {
     "name": "stdout",
     "output_type": "stream",
     "text": [
      "soft dice: 0.75100 | loss: 0.27019 | hard dice: 0.75123 | bce: 0.02065\n"
     ]
    },
    {
     "name": "stderr",
     "output_type": "stream",
     "text": [
      "Epoch 32: 100% 2/2 [00:08<00:00,  4.11s/it, bce=0.03461, hard dice=0.56570, loss=0.47073, soft dice=0.56501]\n"
     ]
    },
    {
     "name": "stdout",
     "output_type": "stream",
     "text": [
      "soft dice: 0.75106 | loss: 0.27036 | hard dice: 0.75123 | bce: 0.02094\n"
     ]
    },
    {
     "name": "stderr",
     "output_type": "stream",
     "text": [
      "Epoch 33: 100% 2/2 [00:07<00:00,  3.85s/it, bce=0.03010, hard dice=0.68959, loss=0.40415, soft dice=0.68867]\n"
     ]
    },
    {
     "name": "stdout",
     "output_type": "stream",
     "text": [
      "soft dice: 0.75108 | loss: 0.27041 | hard dice: 0.75123 | bce: 0.02103\n"
     ]
    },
    {
     "name": "stderr",
     "output_type": "stream",
     "text": [
      "Epoch 34: 100% 2/2 [00:08<00:00,  4.07s/it, bce=0.03458, hard dice=0.81455, loss=0.27198, soft dice=0.81321]\n"
     ]
    },
    {
     "name": "stdout",
     "output_type": "stream",
     "text": [
      "soft dice: 0.75110 | loss: 0.27048 | hard dice: 0.75123 | bce: 0.02115\n"
     ]
    },
    {
     "name": "stderr",
     "output_type": "stream",
     "text": [
      "Epoch 35: 100% 2/2 [00:08<00:00,  4.05s/it, bce=0.04659, hard dice=0.68945, loss=0.45604, soft dice=0.68858]\n"
     ]
    },
    {
     "name": "stdout",
     "output_type": "stream",
     "text": [
      "soft dice: 0.75109 | loss: 0.27033 | hard dice: 0.75123 | bce: 0.02100\n"
     ]
    },
    {
     "name": "stderr",
     "output_type": "stream",
     "text": [
      "Epoch 36: 100% 2/2 [00:08<00:00,  4.05s/it, bce=0.05027, hard dice=0.62663, loss=0.42375, soft dice=0.62627]\n"
     ]
    },
    {
     "name": "stdout",
     "output_type": "stream",
     "text": [
      "soft dice: 0.75112 | loss: 0.27071 | hard dice: 0.75123 | bce: 0.02140\n"
     ]
    },
    {
     "name": "stderr",
     "output_type": "stream",
     "text": [
      "Epoch 37: 100% 2/2 [00:07<00:00,  3.61s/it, bce=0.04463, hard dice=0.43955, loss=0.60589, soft dice=0.43919]\n"
     ]
    },
    {
     "name": "stdout",
     "output_type": "stream",
     "text": [
      "soft dice: 0.75109 | loss: 0.27054 | hard dice: 0.75123 | bce: 0.02121\n"
     ]
    },
    {
     "name": "stderr",
     "output_type": "stream",
     "text": [
      "Epoch 38: 100% 2/2 [00:07<00:00,  3.94s/it, bce=0.02915, hard dice=0.87581, loss=0.15507, soft dice=0.87536]\n"
     ]
    },
    {
     "name": "stdout",
     "output_type": "stream",
     "text": [
      "soft dice: 0.75107 | loss: 0.27032 | hard dice: 0.75123 | bce: 0.02096\n"
     ]
    },
    {
     "name": "stderr",
     "output_type": "stream",
     "text": [
      "Epoch 39: 100% 2/2 [00:08<00:00,  4.06s/it, bce=0.02245, hard dice=0.56657, loss=0.45620, soft dice=0.56618]\n"
     ]
    },
    {
     "name": "stdout",
     "output_type": "stream",
     "text": [
      "soft dice: 0.75108 | loss: 0.27031 | hard dice: 0.75123 | bce: 0.02097\n"
     ]
    },
    {
     "name": "stderr",
     "output_type": "stream",
     "text": [
      "Epoch 40: 100% 2/2 [00:07<00:00,  3.77s/it, bce=0.02617, hard dice=0.68992, loss=0.33730, soft dice=0.68918]\n"
     ]
    },
    {
     "name": "stdout",
     "output_type": "stream",
     "text": [
      "soft dice: 0.75107 | loss: 0.27027 | hard dice: 0.75123 | bce: 0.02091\n"
     ]
    },
    {
     "name": "stderr",
     "output_type": "stream",
     "text": [
      "Epoch 41: 100% 2/2 [00:07<00:00,  3.78s/it, bce=0.02613, hard dice=0.68911, loss=0.33757, soft dice=0.68903]\n"
     ]
    },
    {
     "name": "stdout",
     "output_type": "stream",
     "text": [
      "soft dice: 0.75106 | loss: 0.27033 | hard dice: 0.75123 | bce: 0.02096\n"
     ]
    },
    {
     "name": "stderr",
     "output_type": "stream",
     "text": [
      "Epoch 42: 100% 2/2 [00:07<00:00,  3.88s/it, bce=0.02414, hard dice=0.56607, loss=0.50133, soft dice=0.56363]\n"
     ]
    },
    {
     "name": "stdout",
     "output_type": "stream",
     "text": [
      "soft dice: 0.75104 | loss: 0.27018 | hard dice: 0.75123 | bce: 0.02077\n"
     ]
    },
    {
     "name": "stderr",
     "output_type": "stream",
     "text": [
      "Epoch 43: 100% 2/2 [00:08<00:00,  4.00s/it, bce=0.03332, hard dice=0.50494, loss=0.53002, soft dice=0.50398]\n"
     ]
    },
    {
     "name": "stdout",
     "output_type": "stream",
     "text": [
      "soft dice: 0.75103 | loss: 0.27010 | hard dice: 0.75123 | bce: 0.02068\n"
     ]
    },
    {
     "name": "stderr",
     "output_type": "stream",
     "text": [
      "Epoch 44: 100% 2/2 [00:06<00:00,  3.47s/it, bce=0.03171, hard dice=0.69008, loss=0.34421, soft dice=0.68806]\n"
     ]
    },
    {
     "name": "stdout",
     "output_type": "stream",
     "text": [
      "soft dice: 0.75100 | loss: 0.27004 | hard dice: 0.75123 | bce: 0.02055\n"
     ]
    },
    {
     "name": "stderr",
     "output_type": "stream",
     "text": [
      "Epoch 45: 100% 2/2 [00:07<00:00,  3.92s/it, bce=0.02059, hard dice=0.56563, loss=0.45658, soft dice=0.56440]\n"
     ]
    },
    {
     "name": "stdout",
     "output_type": "stream",
     "text": [
      "soft dice: 0.75097 | loss: 0.27006 | hard dice: 0.75123 | bce: 0.02053\n"
     ]
    },
    {
     "name": "stderr",
     "output_type": "stream",
     "text": [
      "Epoch 46: 100% 2/2 [00:07<00:00,  3.60s/it, bce=0.03542, hard dice=0.37835, loss=0.65833, soft dice=0.37798]\n"
     ]
    },
    {
     "name": "stdout",
     "output_type": "stream",
     "text": [
      "soft dice: 0.75102 | loss: 0.27009 | hard dice: 0.75123 | bce: 0.02065\n"
     ]
    },
    {
     "name": "stderr",
     "output_type": "stream",
     "text": [
      "Epoch 47: 100% 2/2 [00:07<00:00,  3.92s/it, bce=0.02109, hard dice=0.87749, loss=0.14729, soft dice=0.87417]\n"
     ]
    },
    {
     "name": "stdout",
     "output_type": "stream",
     "text": [
      "soft dice: 0.75103 | loss: 0.27015 | hard dice: 0.75123 | bce: 0.02073\n"
     ]
    },
    {
     "name": "stderr",
     "output_type": "stream",
     "text": [
      "Epoch 48: 100% 2/2 [00:08<00:00,  4.02s/it, bce=0.03472, hard dice=0.56373, loss=0.52372, soft dice=0.56371]\n"
     ]
    },
    {
     "name": "stdout",
     "output_type": "stream",
     "text": [
      "soft dice: 0.75102 | loss: 0.27013 | hard dice: 0.75123 | bce: 0.02069\n"
     ]
    },
    {
     "name": "stderr",
     "output_type": "stream",
     "text": [
      "Epoch 49: 100% 2/2 [00:07<00:00,  3.95s/it, bce=0.03647, hard dice=0.37909, loss=0.65919, soft dice=0.37857]\n"
     ]
    },
    {
     "name": "stdout",
     "output_type": "stream",
     "text": [
      "soft dice: 0.75100 | loss: 0.27008 | hard dice: 0.75123 | bce: 0.02060\n",
      "Starting cyclic lr\n"
     ]
    },
    {
     "name": "stderr",
     "output_type": "stream",
     "text": [
      "Epoch 50: 100% 2/2 [00:08<00:00,  4.03s/it, bce=0.02925, hard dice=0.50354, loss=0.83941, soft dice=0.18999]\n"
     ]
    },
    {
     "name": "stdout",
     "output_type": "stream",
     "text": [
      "soft dice: 0.36887 | loss: 0.65787 | hard dice: 0.75123 | bce: 0.01082\n"
     ]
    },
    {
     "name": "stderr",
     "output_type": "stream",
     "text": [
      "Epoch 51: 100% 2/2 [00:07<00:00,  3.70s/it, bce=0.01007, hard dice=0.62650, loss=1.00315, soft dice=0.00807]\n"
     ]
    },
    {
     "name": "stdout",
     "output_type": "stream",
     "text": [
      "soft dice: 0.32165 | loss: 0.78155 | hard dice: 0.75123 | bce: 0.01166\n"
     ]
    },
    {
     "name": "stderr",
     "output_type": "stream",
     "text": [
      "Epoch 52: 100% 2/2 [00:07<00:00,  3.94s/it, bce=0.01961, hard dice=0.50242, loss=0.78344, soft dice=0.31484]\n"
     ]
    },
    {
     "name": "stdout",
     "output_type": "stream",
     "text": [
      "soft dice: 0.56697 | loss: 0.50168 | hard dice: 0.75123 | bce: 0.01405\n"
     ]
    },
    {
     "name": "stderr",
     "output_type": "stream",
     "text": [
      "Epoch 53: 100% 2/2 [00:07<00:00,  3.98s/it, bce=0.02349, hard dice=0.62817, loss=0.58473, soft dice=0.48259]\n"
     ]
    },
    {
     "name": "stdout",
     "output_type": "stream",
     "text": [
      "soft dice: 0.73216 | loss: 0.30046 | hard dice: 0.75123 | bce: 0.01714\n"
     ]
    },
    {
     "name": "stderr",
     "output_type": "stream",
     "text": [
      "Epoch 54: 100% 2/2 [00:07<00:00,  3.99s/it, bce=0.02319, hard dice=0.81342, loss=0.22419, soft dice=0.80613]\n"
     ]
    },
    {
     "name": "stdout",
     "output_type": "stream",
     "text": [
      "soft dice: 0.74130 | loss: 0.28609 | hard dice: 0.75123 | bce: 0.01797\n"
     ]
    },
    {
     "name": "stderr",
     "output_type": "stream",
     "text": [
      "Epoch 55: 100% 2/2 [00:08<00:00,  4.02s/it, bce=0.04864, hard dice=0.50284, loss=0.58658, soft dice=0.49203]\n"
     ]
    },
    {
     "name": "stdout",
     "output_type": "stream",
     "text": [
      "soft dice: 0.75123 | loss: 0.32158 | hard dice: 0.75123 | bce: 0.02922\n"
     ]
    },
    {
     "name": "stderr",
     "output_type": "stream",
     "text": [
      "Epoch 56: 100% 2/2 [00:08<00:00,  4.10s/it, bce=0.04759, hard dice=0.50383, loss=0.64281, soft dice=0.50383]\n"
     ]
    },
    {
     "name": "stdout",
     "output_type": "stream",
     "text": [
      "soft dice: 0.75123 | loss: 0.38809 | hard dice: 0.75123 | bce: 0.02922\n"
     ]
    },
    {
     "name": "stderr",
     "output_type": "stream",
     "text": [
      "Epoch 57: 100% 2/2 [00:08<00:00,  4.07s/it, bce=0.04062, hard dice=0.50351, loss=0.67311, soft dice=0.50351]\n"
     ]
    },
    {
     "name": "stdout",
     "output_type": "stream",
     "text": [
      "soft dice: 0.75123 | loss: 0.38714 | hard dice: 0.75123 | bce: 0.02922\n"
     ]
    },
    {
     "name": "stderr",
     "output_type": "stream",
     "text": [
      "Epoch 58: 100% 2/2 [00:07<00:00,  3.86s/it, bce=0.03615, hard dice=0.56524, loss=0.58291, soft dice=0.56524]\n"
     ]
    },
    {
     "name": "stdout",
     "output_type": "stream",
     "text": [
      "soft dice: 0.75123 | loss: 0.38416 | hard dice: 0.75123 | bce: 0.02922\n"
     ]
    },
    {
     "name": "stderr",
     "output_type": "stream",
     "text": [
      "Epoch 59: 100% 2/2 [00:08<00:00,  4.03s/it, bce=0.02417, hard dice=1.00000, loss=0.08755, soft dice=1.00000]\n"
     ]
    },
    {
     "name": "stdout",
     "output_type": "stream",
     "text": [
      "soft dice: 0.75123 | loss: 0.38197 | hard dice: 0.75123 | bce: 0.02922\n"
     ]
    },
    {
     "name": "stderr",
     "output_type": "stream",
     "text": [
      "Epoch 60: 100% 2/2 [00:08<00:00,  4.04s/it, bce=0.02792, hard dice=0.63917, loss=0.47099, soft dice=0.63917]\n"
     ]
    },
    {
     "name": "stdout",
     "output_type": "stream",
     "text": [
      "soft dice: 0.75123 | loss: 0.34150 | hard dice: 0.75123 | bce: 0.02922\n"
     ]
    },
    {
     "name": "stderr",
     "output_type": "stream",
     "text": [
      "Epoch 61: 100% 2/2 [00:07<00:00,  3.63s/it, bce=0.04346, hard dice=0.68986, loss=0.39152, soft dice=0.68986]\n"
     ]
    },
    {
     "name": "stdout",
     "output_type": "stream",
     "text": [
      "soft dice: 0.75123 | loss: 0.32801 | hard dice: 0.75123 | bce: 0.02922\n"
     ]
    },
    {
     "name": "stderr",
     "output_type": "stream",
     "text": [
      "Epoch 62: 100% 2/2 [00:08<00:00,  4.26s/it, bce=0.04205, hard dice=0.62737, loss=0.43612, soft dice=0.62737]\n"
     ]
    },
    {
     "name": "stdout",
     "output_type": "stream",
     "text": [
      "soft dice: 0.75123 | loss: 0.30571 | hard dice: 0.75123 | bce: 0.02922\n"
     ]
    },
    {
     "name": "stderr",
     "output_type": "stream",
     "text": [
      "Epoch 63: 100% 2/2 [00:07<00:00,  3.99s/it, bce=0.04010, hard dice=0.75213, loss=0.36508, soft dice=0.75213]\n"
     ]
    },
    {
     "name": "stdout",
     "output_type": "stream",
     "text": [
      "soft dice: 0.75123 | loss: 0.29586 | hard dice: 0.75123 | bce: 0.02922\n"
     ]
    },
    {
     "name": "stderr",
     "output_type": "stream",
     "text": [
      "Epoch 64: 100% 2/2 [00:08<00:00,  4.07s/it, bce=0.03953, hard dice=0.44038, loss=0.60920, soft dice=0.44023]\n"
     ]
    },
    {
     "name": "stdout",
     "output_type": "stream",
     "text": [
      "soft dice: 0.75123 | loss: 0.28837 | hard dice: 0.75123 | bce: 0.02914\n"
     ]
    },
    {
     "name": "stderr",
     "output_type": "stream",
     "text": [
      "Epoch 65: 100% 2/2 [00:08<00:00,  4.15s/it, bce=0.03758, hard dice=0.44471, loss=0.60571, soft dice=0.44451]\n"
     ]
    },
    {
     "name": "stdout",
     "output_type": "stream",
     "text": [
      "soft dice: 0.75123 | loss: 0.28535 | hard dice: 0.75123 | bce: 0.02895\n"
     ]
    },
    {
     "name": "stderr",
     "output_type": "stream",
     "text": [
      "Epoch 66: 100% 2/2 [00:08<00:00,  4.06s/it, bce=0.03253, hard dice=0.37922, loss=0.71072, soft dice=0.37505]\n"
     ]
    },
    {
     "name": "stdout",
     "output_type": "stream",
     "text": [
      "soft dice: 0.75123 | loss: 0.29767 | hard dice: 0.75123 | bce: 0.02897\n"
     ]
    },
    {
     "name": "stderr",
     "output_type": "stream",
     "text": [
      "Epoch 67: 100% 2/2 [00:08<00:00,  4.24s/it, bce=0.05380, hard dice=0.81373, loss=0.24489, soft dice=0.81371]\n"
     ]
    },
    {
     "name": "stdout",
     "output_type": "stream",
     "text": [
      "soft dice: 0.75123 | loss: 0.29092 | hard dice: 0.75123 | bce: 0.02872\n"
     ]
    },
    {
     "name": "stderr",
     "output_type": "stream",
     "text": [
      "Epoch 68: 100% 2/2 [00:08<00:00,  4.15s/it, bce=0.03888, hard dice=0.62713, loss=0.41602, soft dice=0.62694]\n"
     ]
    },
    {
     "name": "stdout",
     "output_type": "stream",
     "text": [
      "soft dice: 0.75123 | loss: 0.28614 | hard dice: 0.75123 | bce: 0.02828\n"
     ]
    },
    {
     "name": "stderr",
     "output_type": "stream",
     "text": [
      "Epoch 69: 100% 2/2 [00:06<00:00,  3.43s/it, bce=0.04331, hard dice=0.88162, loss=0.18830, soft dice=0.88150]\n"
     ]
    },
    {
     "name": "stdout",
     "output_type": "stream",
     "text": [
      "soft dice: 0.75123 | loss: 0.28334 | hard dice: 0.75123 | bce: 0.02771\n"
     ]
    },
    {
     "name": "stderr",
     "output_type": "stream",
     "text": [
      "Epoch 70: 100% 2/2 [00:07<00:00,  3.70s/it, bce=0.02955, hard dice=0.44047, loss=0.62589, soft dice=0.40878]\n"
     ]
    },
    {
     "name": "stdout",
     "output_type": "stream",
     "text": [
      "soft dice: 0.75119 | loss: 0.27419 | hard dice: 0.75123 | bce: 0.02367\n"
     ]
    },
    {
     "name": "stderr",
     "output_type": "stream",
     "text": [
      "Epoch 71: 100% 2/2 [00:07<00:00,  3.60s/it, bce=0.03410, hard dice=0.87629, loss=0.22193, soft dice=0.87575]\n"
     ]
    },
    {
     "name": "stdout",
     "output_type": "stream",
     "text": [
      "soft dice: 0.75123 | loss: 0.27769 | hard dice: 0.75123 | bce: 0.02699\n"
     ]
    },
    {
     "name": "stderr",
     "output_type": "stream",
     "text": [
      "Epoch 72: 100% 2/2 [00:08<00:00,  4.01s/it, bce=0.03829, hard dice=0.81439, loss=0.28664, soft dice=0.81439]\n"
     ]
    },
    {
     "name": "stdout",
     "output_type": "stream",
     "text": [
      "soft dice: 0.75123 | loss: 0.27752 | hard dice: 0.75123 | bce: 0.02731\n"
     ]
    },
    {
     "name": "stderr",
     "output_type": "stream",
     "text": [
      "Epoch 73: 100% 2/2 [00:07<00:00,  3.89s/it, bce=0.03759, hard dice=0.50337, loss=0.53720, soft dice=0.50337]\n"
     ]
    },
    {
     "name": "stdout",
     "output_type": "stream",
     "text": [
      "soft dice: 0.75123 | loss: 0.27735 | hard dice: 0.75123 | bce: 0.02752\n"
     ]
    },
    {
     "name": "stderr",
     "output_type": "stream",
     "text": [
      "Epoch 74: 100% 2/2 [00:07<00:00,  3.89s/it, bce=0.04898, hard dice=0.44105, loss=0.61417, soft dice=0.44105]\n"
     ]
    },
    {
     "name": "stdout",
     "output_type": "stream",
     "text": [
      "soft dice: 0.75123 | loss: 0.27826 | hard dice: 0.75123 | bce: 0.02807\n"
     ]
    },
    {
     "name": "stderr",
     "output_type": "stream",
     "text": [
      "Epoch 75: 100% 2/2 [00:08<00:00,  4.06s/it, bce=0.04344, hard dice=0.50329, loss=0.54241, soft dice=0.50265]\n"
     ]
    },
    {
     "name": "stdout",
     "output_type": "stream",
     "text": [
      "soft dice: 0.75061 | loss: 0.27095 | hard dice: 0.75123 | bce: 0.02027\n"
     ]
    },
    {
     "name": "stderr",
     "output_type": "stream",
     "text": [
      "Epoch 76: 100% 2/2 [00:08<00:00,  4.12s/it, bce=0.03335, hard dice=0.37884, loss=0.66361, soft dice=0.37209]\n"
     ]
    },
    {
     "name": "stdout",
     "output_type": "stream",
     "text": [
      "soft dice: 0.75122 | loss: 0.27371 | hard dice: 0.75123 | bce: 0.02447\n"
     ]
    },
    {
     "name": "stderr",
     "output_type": "stream",
     "text": [
      "Epoch 77: 100% 2/2 [00:07<00:00,  3.92s/it, bce=0.02574, hard dice=0.75394, loss=0.33172, soft dice=0.75393]\n"
     ]
    },
    {
     "name": "stdout",
     "output_type": "stream",
     "text": [
      "soft dice: 0.75122 | loss: 0.27422 | hard dice: 0.75123 | bce: 0.02499\n"
     ]
    },
    {
     "name": "stderr",
     "output_type": "stream",
     "text": [
      "Epoch 78: 100% 2/2 [00:07<00:00,  3.85s/it, bce=0.03597, hard dice=0.62734, loss=0.40945, soft dice=0.62734]\n"
     ]
    },
    {
     "name": "stdout",
     "output_type": "stream",
     "text": [
      "soft dice: 0.75122 | loss: 0.27439 | hard dice: 0.75123 | bce: 0.02517\n"
     ]
    },
    {
     "name": "stderr",
     "output_type": "stream",
     "text": [
      "Epoch 79: 100% 2/2 [00:07<00:00,  3.61s/it, bce=0.03091, hard dice=0.50280, loss=0.52850, soft dice=0.50279]\n"
     ]
    },
    {
     "name": "stdout",
     "output_type": "stream",
     "text": [
      "soft dice: 0.75122 | loss: 0.27417 | hard dice: 0.75123 | bce: 0.02502\n"
     ]
    },
    {
     "name": "stderr",
     "output_type": "stream",
     "text": [
      "Epoch 80: 100% 2/2 [00:08<00:00,  4.15s/it, bce=0.03990, hard dice=0.62774, loss=0.41344, soft dice=0.62732]\n"
     ]
    },
    {
     "name": "stdout",
     "output_type": "stream",
     "text": [
      "soft dice: 0.75105 | loss: 0.26987 | hard dice: 0.75123 | bce: 0.02057\n"
     ]
    },
    {
     "name": "stderr",
     "output_type": "stream",
     "text": [
      "Epoch 81: 100% 2/2 [00:07<00:00,  3.86s/it, bce=0.02898, hard dice=0.62772, loss=0.41625, soft dice=0.61383]\n"
     ]
    },
    {
     "name": "stdout",
     "output_type": "stream",
     "text": [
      "soft dice: 0.75120 | loss: 0.27184 | hard dice: 0.75123 | bce: 0.02279\n"
     ]
    },
    {
     "name": "stderr",
     "output_type": "stream",
     "text": [
      "Epoch 82: 100% 2/2 [00:08<00:00,  4.26s/it, bce=0.04232, hard dice=0.75136, loss=0.29255, soft dice=0.75078]\n"
     ]
    },
    {
     "name": "stdout",
     "output_type": "stream",
     "text": [
      "soft dice: 0.75121 | loss: 0.27239 | hard dice: 0.75123 | bce: 0.02336\n"
     ]
    },
    {
     "name": "stderr",
     "output_type": "stream",
     "text": [
      "Epoch 83: 100% 2/2 [00:08<00:00,  4.24s/it, bce=0.02757, hard dice=0.62730, loss=0.40056, soft dice=0.62719]\n"
     ]
    },
    {
     "name": "stdout",
     "output_type": "stream",
     "text": [
      "soft dice: 0.75122 | loss: 0.27278 | hard dice: 0.75123 | bce: 0.02378\n"
     ]
    },
    {
     "name": "stderr",
     "output_type": "stream",
     "text": [
      "Epoch 84: 100% 2/2 [00:07<00:00,  3.94s/it, bce=0.02609, hard dice=0.75549, loss=0.27259, soft dice=0.75535]\n"
     ]
    },
    {
     "name": "stdout",
     "output_type": "stream",
     "text": [
      "soft dice: 0.75122 | loss: 0.27270 | hard dice: 0.75123 | bce: 0.02370\n"
     ]
    },
    {
     "name": "stderr",
     "output_type": "stream",
     "text": [
      "Epoch 85: 100% 2/2 [00:08<00:00,  4.13s/it, bce=0.03485, hard dice=0.56505, loss=0.47070, soft dice=0.56474]\n"
     ]
    },
    {
     "name": "stdout",
     "output_type": "stream",
     "text": [
      "soft dice: 0.75120 | loss: 0.27187 | hard dice: 0.75123 | bce: 0.02288\n"
     ]
    },
    {
     "name": "stderr",
     "output_type": "stream",
     "text": [
      "Epoch 86: 100% 2/2 [00:08<00:00,  4.25s/it, bce=0.02860, hard dice=0.62850, loss=0.40447, soft dice=0.62580]\n"
     ]
    },
    {
     "name": "stdout",
     "output_type": "stream",
     "text": [
      "soft dice: 0.75110 | loss: 0.27007 | hard dice: 0.75123 | bce: 0.02095\n"
     ]
    },
    {
     "name": "stderr",
     "output_type": "stream",
     "text": [
      "Epoch 87: 100% 2/2 [00:07<00:00,  3.96s/it, bce=0.02012, hard dice=0.69414, loss=0.33486, soft dice=0.68715]\n"
     ]
    },
    {
     "name": "stdout",
     "output_type": "stream",
     "text": [
      "soft dice: 0.75108 | loss: 0.26980 | hard dice: 0.75123 | bce: 0.02062\n"
     ]
    },
    {
     "name": "stderr",
     "output_type": "stream",
     "text": [
      "Epoch 88: 100% 2/2 [00:08<00:00,  4.32s/it, bce=0.03557, hard dice=0.56532, loss=0.47455, soft dice=0.56104]\n"
     ]
    },
    {
     "name": "stdout",
     "output_type": "stream",
     "text": [
      "soft dice: 0.75114 | loss: 0.27019 | hard dice: 0.75123 | bce: 0.02110\n"
     ]
    },
    {
     "name": "stderr",
     "output_type": "stream",
     "text": [
      "Epoch 89: 100% 2/2 [00:08<00:00,  4.11s/it, bce=0.02599, hard dice=0.56544, loss=0.46218, soft dice=0.56436]\n"
     ]
    },
    {
     "name": "stdout",
     "output_type": "stream",
     "text": [
      "soft dice: 0.75113 | loss: 0.27008 | hard dice: 0.75123 | bce: 0.02097\n"
     ]
    },
    {
     "name": "stderr",
     "output_type": "stream",
     "text": [
      "Epoch 90: 100% 2/2 [00:08<00:00,  4.13s/it, bce=0.03118, hard dice=0.81468, loss=0.26343, soft dice=0.81453]\n"
     ]
    },
    {
     "name": "stdout",
     "output_type": "stream",
     "text": [
      "soft dice: 0.75122 | loss: 0.27416 | hard dice: 0.75123 | bce: 0.02518\n"
     ]
    },
    {
     "name": "stderr",
     "output_type": "stream",
     "text": [
      "Epoch 91: 100% 2/2 [00:08<00:00,  4.09s/it, bce=0.03418, hard dice=0.56639, loss=0.46907, soft dice=0.56637]\n"
     ]
    },
    {
     "name": "stdout",
     "output_type": "stream",
     "text": [
      "soft dice: 0.75122 | loss: 0.27451 | hard dice: 0.75123 | bce: 0.02555\n"
     ]
    },
    {
     "name": "stderr",
     "output_type": "stream",
     "text": [
      "Epoch 92: 100% 2/2 [00:08<00:00,  4.30s/it, bce=0.05136, hard dice=0.37767, loss=0.67504, soft dice=0.37753]\n"
     ]
    },
    {
     "name": "stdout",
     "output_type": "stream",
     "text": [
      "soft dice: 0.75121 | loss: 0.27451 | hard dice: 0.75123 | bce: 0.02555\n"
     ]
    },
    {
     "name": "stderr",
     "output_type": "stream",
     "text": [
      "Epoch 93: 100% 2/2 [00:07<00:00,  3.86s/it, bce=0.02929, hard dice=0.62755, loss=0.40311, soft dice=0.62693]\n"
     ]
    },
    {
     "name": "stdout",
     "output_type": "stream",
     "text": [
      "soft dice: 0.75120 | loss: 0.27378 | hard dice: 0.75123 | bce: 0.02483\n"
     ]
    },
    {
     "name": "stderr",
     "output_type": "stream",
     "text": [
      "Epoch 94: 100% 2/2 [00:07<00:00,  3.85s/it, bce=0.03886, hard dice=0.44000, loss=0.59930, soft dice=0.43995]\n"
     ]
    },
    {
     "name": "stdout",
     "output_type": "stream",
     "text": [
      "soft dice: 0.75120 | loss: 0.27371 | hard dice: 0.75123 | bce: 0.02475\n"
     ]
    },
    {
     "name": "stderr",
     "output_type": "stream",
     "text": [
      "Epoch 95: 100% 2/2 [00:08<00:00,  4.20s/it, bce=0.04240, hard dice=0.69057, loss=0.40067, soft dice=0.64401]\n"
     ]
    },
    {
     "name": "stdout",
     "output_type": "stream",
     "text": [
      "soft dice: 0.75117 | loss: 0.27061 | hard dice: 0.75123 | bce: 0.02153\n"
     ]
    },
    {
     "name": "stderr",
     "output_type": "stream",
     "text": [
      "Epoch 96: 100% 2/2 [00:07<00:00,  3.83s/it, bce=0.03236, hard dice=0.62734, loss=0.40788, soft dice=0.62464]\n"
     ]
    },
    {
     "name": "stdout",
     "output_type": "stream",
     "text": [
      "soft dice: 0.75123 | loss: 0.27650 | hard dice: 0.75123 | bce: 0.02657\n"
     ]
    },
    {
     "name": "stderr",
     "output_type": "stream",
     "text": [
      "Epoch 97: 100% 2/2 [00:08<00:00,  4.11s/it, bce=0.02446, hard dice=0.62788, loss=0.40056, soft dice=0.62516]\n"
     ]
    },
    {
     "name": "stdout",
     "output_type": "stream",
     "text": [
      "soft dice: 0.75123 | loss: 0.27539 | hard dice: 0.75123 | bce: 0.02557\n"
     ]
    },
    {
     "name": "stderr",
     "output_type": "stream",
     "text": [
      "Epoch 98: 100% 2/2 [00:07<00:00,  3.99s/it, bce=0.03708, hard dice=0.50433, loss=0.59719, soft dice=0.50365]\n"
     ]
    },
    {
     "name": "stdout",
     "output_type": "stream",
     "text": [
      "soft dice: 0.75122 | loss: 0.27429 | hard dice: 0.75123 | bce: 0.02469\n"
     ]
    },
    {
     "name": "stderr",
     "output_type": "stream",
     "text": [
      "Epoch 99: 100% 2/2 [00:07<00:00,  3.89s/it, bce=0.03267, hard dice=0.68973, loss=0.34764, soft dice=0.68716]\n"
     ]
    },
    {
     "name": "stdout",
     "output_type": "stream",
     "text": [
      "soft dice: 0.75121 | loss: 0.27298 | hard dice: 0.75123 | bce: 0.02346\n",
      "Finished train fold: 3 with best loss 0.26980 on epoch 87\n",
      "\n"
     ]
    },
    {
     "name": "stderr",
     "output_type": "stream",
     "text": [
      "Epoch 0: 100% 2/2 [00:07<00:00,  3.76s/it, bce=0.39533, hard dice=0.25348, loss=1.39187, soft dice=0.00439]\n"
     ]
    },
    {
     "name": "stdout",
     "output_type": "stream",
     "text": [
      "soft dice: 0.71825 | loss: 3.39551 | hard dice: 0.71825 | bce: 0.03847\n"
     ]
    },
    {
     "name": "stderr",
     "output_type": "stream",
     "text": [
      "Epoch 1: 100% 2/2 [00:07<00:00,  3.77s/it, bce=0.02126, hard dice=0.68959, loss=0.76956, soft dice=0.27360]\n"
     ]
    },
    {
     "name": "stdout",
     "output_type": "stream",
     "text": [
      "soft dice: 0.71825 | loss: 48093.07083 | hard dice: 0.71825 | bce: 0.03847\n"
     ]
    },
    {
     "name": "stderr",
     "output_type": "stream",
     "text": [
      "Epoch 2: 100% 2/2 [00:07<00:00,  3.75s/it, bce=0.05046, hard dice=0.62774, loss=0.50208, soft dice=0.62774]\n"
     ]
    },
    {
     "name": "stdout",
     "output_type": "stream",
     "text": [
      "soft dice: 0.71825 | loss: 6812.95156 | hard dice: 0.71825 | bce: 0.03847\n"
     ]
    },
    {
     "name": "stderr",
     "output_type": "stream",
     "text": [
      "Epoch 3: 100% 2/2 [00:08<00:00,  4.18s/it, bce=0.04061, hard dice=0.68981, loss=0.42665, soft dice=0.68981]\n"
     ]
    },
    {
     "name": "stdout",
     "output_type": "stream",
     "text": [
      "soft dice: 0.71825 | loss: 1556.64909 | hard dice: 0.71825 | bce: 0.03847\n"
     ]
    },
    {
     "name": "stderr",
     "output_type": "stream",
     "text": [
      "Epoch 4: 100% 2/2 [00:07<00:00,  3.99s/it, bce=0.02962, hard dice=0.87633, loss=0.17069, soft dice=0.87633]\n"
     ]
    },
    {
     "name": "stdout",
     "output_type": "stream",
     "text": [
      "soft dice: 0.71825 | loss: 172.54709 | hard dice: 0.71825 | bce: 0.03847\n"
     ]
    },
    {
     "name": "stderr",
     "output_type": "stream",
     "text": [
      "Epoch 5: 100% 2/2 [00:08<00:00,  4.08s/it, bce=0.02399, hard dice=0.69114, loss=0.39885, soft dice=0.69111]\n"
     ]
    },
    {
     "name": "stdout",
     "output_type": "stream",
     "text": [
      "soft dice: 0.71825 | loss: 70.95467 | hard dice: 0.71825 | bce: 0.03847\n"
     ]
    },
    {
     "name": "stderr",
     "output_type": "stream",
     "text": [
      "Epoch 6: 100% 2/2 [00:07<00:00,  3.69s/it, bce=0.02209, hard dice=0.75222, loss=0.29786, soft dice=0.72532]\n"
     ]
    },
    {
     "name": "stdout",
     "output_type": "stream",
     "text": [
      "soft dice: 0.71825 | loss: 16.00066 | hard dice: 0.71825 | bce: 0.03847\n"
     ]
    },
    {
     "name": "stderr",
     "output_type": "stream",
     "text": [
      "Epoch 7: 100% 2/2 [00:08<00:00,  4.30s/it, bce=0.02657, hard dice=0.81486, loss=0.21649, soft dice=0.81484]\n"
     ]
    },
    {
     "name": "stdout",
     "output_type": "stream",
     "text": [
      "soft dice: 0.71825 | loss: 2.34358 | hard dice: 0.71825 | bce: 0.03801\n"
     ]
    },
    {
     "name": "stderr",
     "output_type": "stream",
     "text": [
      "Epoch 8: 100% 2/2 [00:07<00:00,  3.84s/it, bce=0.03922, hard dice=0.68975, loss=0.42896, soft dice=0.68975]\n"
     ]
    },
    {
     "name": "stdout",
     "output_type": "stream",
     "text": [
      "soft dice: 0.71825 | loss: 1.18220 | hard dice: 0.71825 | bce: 0.03839\n"
     ]
    },
    {
     "name": "stderr",
     "output_type": "stream",
     "text": [
      "Epoch 9: 100% 2/2 [00:07<00:00,  3.77s/it, bce=0.03836, hard dice=0.81393, loss=0.23781, soft dice=0.81393]\n"
     ]
    },
    {
     "name": "stdout",
     "output_type": "stream",
     "text": [
      "soft dice: 0.71825 | loss: 0.62654 | hard dice: 0.71825 | bce: 0.03824\n"
     ]
    },
    {
     "name": "stderr",
     "output_type": "stream",
     "text": [
      "Epoch 10: 100% 2/2 [00:07<00:00,  3.78s/it, bce=0.04807, hard dice=0.62762, loss=0.49669, soft dice=0.62042]\n"
     ]
    },
    {
     "name": "stdout",
     "output_type": "stream",
     "text": [
      "soft dice: 0.71825 | loss: 2.04791 | hard dice: 0.71825 | bce: 0.03710\n"
     ]
    },
    {
     "name": "stderr",
     "output_type": "stream",
     "text": [
      "Epoch 11: 100% 2/2 [00:07<00:00,  3.96s/it, bce=0.02876, hard dice=0.93944, loss=0.09260, soft dice=0.93944]\n"
     ]
    },
    {
     "name": "stdout",
     "output_type": "stream",
     "text": [
      "soft dice: 0.71825 | loss: 0.83039 | hard dice: 0.71825 | bce: 0.03793\n"
     ]
    },
    {
     "name": "stderr",
     "output_type": "stream",
     "text": [
      "Epoch 12: 100% 2/2 [00:07<00:00,  3.74s/it, bce=0.03220, hard dice=0.62765, loss=0.40520, soft dice=0.62765]\n"
     ]
    },
    {
     "name": "stdout",
     "output_type": "stream",
     "text": [
      "soft dice: 0.71825 | loss: 0.34860 | hard dice: 0.71825 | bce: 0.03753\n"
     ]
    },
    {
     "name": "stderr",
     "output_type": "stream",
     "text": [
      "Epoch 13: 100% 2/2 [00:07<00:00,  3.83s/it, bce=0.03047, hard dice=0.81455, loss=0.21779, soft dice=0.81451]\n"
     ]
    },
    {
     "name": "stdout",
     "output_type": "stream",
     "text": [
      "soft dice: 0.71825 | loss: 0.33853 | hard dice: 0.71825 | bce: 0.03717\n"
     ]
    },
    {
     "name": "stderr",
     "output_type": "stream",
     "text": [
      "Epoch 14: 100% 2/2 [00:07<00:00,  3.88s/it, bce=0.03755, hard dice=0.68990, loss=0.35209, soft dice=0.68985]\n"
     ]
    },
    {
     "name": "stdout",
     "output_type": "stream",
     "text": [
      "soft dice: 0.71825 | loss: 0.33534 | hard dice: 0.71825 | bce: 0.03600\n"
     ]
    },
    {
     "name": "stderr",
     "output_type": "stream",
     "text": [
      "Epoch 15: 100% 2/2 [00:07<00:00,  3.91s/it, bce=0.03679, hard dice=0.68949, loss=0.35326, soft dice=0.68632]\n"
     ]
    },
    {
     "name": "stdout",
     "output_type": "stream",
     "text": [
      "soft dice: 0.71825 | loss: 0.33358 | hard dice: 0.71825 | bce: 0.03466\n"
     ]
    },
    {
     "name": "stderr",
     "output_type": "stream",
     "text": [
      "Epoch 16: 100% 2/2 [00:07<00:00,  3.88s/it, bce=0.03557, hard dice=0.81436, loss=0.22665, soft dice=0.81420]\n"
     ]
    },
    {
     "name": "stdout",
     "output_type": "stream",
     "text": [
      "soft dice: 0.71825 | loss: 0.33273 | hard dice: 0.71825 | bce: 0.03411\n"
     ]
    },
    {
     "name": "stderr",
     "output_type": "stream",
     "text": [
      "Epoch 17: 100% 2/2 [00:07<00:00,  3.75s/it, bce=0.02823, hard dice=0.62790, loss=0.40129, soft dice=0.62781]\n"
     ]
    },
    {
     "name": "stdout",
     "output_type": "stream",
     "text": [
      "soft dice: 0.71825 | loss: 0.33201 | hard dice: 0.71825 | bce: 0.03383\n"
     ]
    },
    {
     "name": "stderr",
     "output_type": "stream",
     "text": [
      "Epoch 18: 100% 2/2 [00:07<00:00,  3.71s/it, bce=0.02709, hard dice=0.81728, loss=0.21479, soft dice=0.81721]\n"
     ]
    },
    {
     "name": "stdout",
     "output_type": "stream",
     "text": [
      "soft dice: 0.71825 | loss: 0.33190 | hard dice: 0.71825 | bce: 0.03376\n"
     ]
    },
    {
     "name": "stderr",
     "output_type": "stream",
     "text": [
      "Epoch 19: 100% 2/2 [00:07<00:00,  3.89s/it, bce=0.03491, hard dice=0.63006, loss=0.43142, soft dice=0.62917]\n"
     ]
    },
    {
     "name": "stdout",
     "output_type": "stream",
     "text": [
      "soft dice: 0.71824 | loss: 0.33026 | hard dice: 0.71825 | bce: 0.03213\n"
     ]
    },
    {
     "name": "stderr",
     "output_type": "stream",
     "text": [
      "Epoch 20: 100% 2/2 [00:07<00:00,  3.85s/it, bce=0.03012, hard dice=0.69094, loss=0.40341, soft dice=0.69091]\n"
     ]
    },
    {
     "name": "stdout",
     "output_type": "stream",
     "text": [
      "soft dice: 0.71822 | loss: 0.32936 | hard dice: 0.71825 | bce: 0.03122\n"
     ]
    },
    {
     "name": "stderr",
     "output_type": "stream",
     "text": [
      "Epoch 21: 100% 2/2 [00:07<00:00,  3.52s/it, bce=0.03197, hard dice=0.68914, loss=0.34407, soft dice=0.68898]\n"
     ]
    },
    {
     "name": "stdout",
     "output_type": "stream",
     "text": [
      "soft dice: 0.71821 | loss: 0.32883 | hard dice: 0.71825 | bce: 0.03066\n"
     ]
    },
    {
     "name": "stderr",
     "output_type": "stream",
     "text": [
      "Epoch 22: 100% 2/2 [00:07<00:00,  3.91s/it, bce=0.02787, hard dice=0.87649, loss=0.15296, soft dice=0.87631]\n"
     ]
    },
    {
     "name": "stdout",
     "output_type": "stream",
     "text": [
      "soft dice: 0.71815 | loss: 0.32774 | hard dice: 0.71825 | bce: 0.02953\n"
     ]
    },
    {
     "name": "stderr",
     "output_type": "stream",
     "text": [
      "Epoch 23: 100% 2/2 [00:08<00:00,  4.09s/it, bce=0.02668, hard dice=0.93905, loss=0.09198, soft dice=0.93632]\n"
     ]
    },
    {
     "name": "stdout",
     "output_type": "stream",
     "text": [
      "soft dice: 0.71807 | loss: 0.32692 | hard dice: 0.71825 | bce: 0.02863\n"
     ]
    },
    {
     "name": "stderr",
     "output_type": "stream",
     "text": [
      "Epoch 24: 100% 2/2 [00:08<00:00,  4.06s/it, bce=0.02406, hard dice=0.62830, loss=0.40166, soft dice=0.62453]\n"
     ]
    },
    {
     "name": "stdout",
     "output_type": "stream",
     "text": [
      "soft dice: 0.71805 | loss: 0.32685 | hard dice: 0.71825 | bce: 0.02855\n"
     ]
    },
    {
     "name": "stderr",
     "output_type": "stream",
     "text": [
      "Epoch 25: 100% 2/2 [00:07<00:00,  3.74s/it, bce=0.01721, hard dice=0.93805, loss=0.11367, soft dice=0.90430]\n"
     ]
    },
    {
     "name": "stdout",
     "output_type": "stream",
     "text": [
      "soft dice: 0.71787 | loss: 0.32613 | hard dice: 0.71825 | bce: 0.02766\n"
     ]
    },
    {
     "name": "stderr",
     "output_type": "stream",
     "text": [
      "Epoch 26: 100% 2/2 [00:08<00:00,  4.08s/it, bce=0.02127, hard dice=0.81455, loss=0.22984, soft dice=0.79238]\n"
     ]
    },
    {
     "name": "stdout",
     "output_type": "stream",
     "text": [
      "soft dice: 0.71783 | loss: 0.32610 | hard dice: 0.71825 | bce: 0.02758\n"
     ]
    },
    {
     "name": "stderr",
     "output_type": "stream",
     "text": [
      "Epoch 27: 100% 2/2 [00:08<00:00,  4.29s/it, bce=0.02264, hard dice=0.75217, loss=0.27624, soft dice=0.74711]\n"
     ]
    },
    {
     "name": "stdout",
     "output_type": "stream",
     "text": [
      "soft dice: 0.71796 | loss: 0.32661 | hard dice: 0.71825 | bce: 0.02819\n"
     ]
    },
    {
     "name": "stderr",
     "output_type": "stream",
     "text": [
      "Epoch 28: 100% 2/2 [00:08<00:00,  4.20s/it, bce=0.02790, hard dice=0.68997, loss=0.36029, soft dice=0.68937]\n"
     ]
    },
    {
     "name": "stdout",
     "output_type": "stream",
     "text": [
      "soft dice: 0.71818 | loss: 0.32824 | hard dice: 0.71825 | bce: 0.03009\n"
     ]
    },
    {
     "name": "stderr",
     "output_type": "stream",
     "text": [
      "Epoch 29: 100% 2/2 [00:07<00:00,  3.80s/it, bce=0.02868, hard dice=0.62679, loss=0.41877, soft dice=0.61748]\n"
     ]
    },
    {
     "name": "stdout",
     "output_type": "stream",
     "text": [
      "soft dice: 0.71820 | loss: 0.32864 | hard dice: 0.71825 | bce: 0.03052\n"
     ]
    },
    {
     "name": "stderr",
     "output_type": "stream",
     "text": [
      "Epoch 30: 100% 2/2 [00:07<00:00,  3.57s/it, bce=0.03003, hard dice=0.37838, loss=0.65445, soft dice=0.37827]\n"
     ]
    },
    {
     "name": "stdout",
     "output_type": "stream",
     "text": [
      "soft dice: 0.71823 | loss: 0.32969 | hard dice: 0.71825 | bce: 0.03160\n"
     ]
    },
    {
     "name": "stderr",
     "output_type": "stream",
     "text": [
      "Epoch 31: 100% 2/2 [00:07<00:00,  3.81s/it, bce=0.03482, hard dice=0.56567, loss=0.47087, soft dice=0.56563]\n"
     ]
    },
    {
     "name": "stdout",
     "output_type": "stream",
     "text": [
      "soft dice: 0.71823 | loss: 0.32982 | hard dice: 0.71825 | bce: 0.03173\n"
     ]
    },
    {
     "name": "stderr",
     "output_type": "stream",
     "text": [
      "Epoch 32: 100% 2/2 [00:07<00:00,  3.72s/it, bce=0.03407, hard dice=0.69057, loss=0.34418, soft dice=0.69026]\n"
     ]
    },
    {
     "name": "stdout",
     "output_type": "stream",
     "text": [
      "soft dice: 0.71823 | loss: 0.32974 | hard dice: 0.71825 | bce: 0.03163\n"
     ]
    },
    {
     "name": "stderr",
     "output_type": "stream",
     "text": [
      "Epoch 33: 100% 2/2 [00:07<00:00,  3.85s/it, bce=0.04953, hard dice=0.68989, loss=0.36082, soft dice=0.68967]\n"
     ]
    },
    {
     "name": "stdout",
     "output_type": "stream",
     "text": [
      "soft dice: 0.71823 | loss: 0.32979 | hard dice: 0.71825 | bce: 0.03151\n"
     ]
    },
    {
     "name": "stderr",
     "output_type": "stream",
     "text": [
      "Epoch 34: 100% 2/2 [00:08<00:00,  4.11s/it, bce=0.02115, hard dice=0.93903, loss=0.08203, soft dice=0.93903]\n"
     ]
    },
    {
     "name": "stdout",
     "output_type": "stream",
     "text": [
      "soft dice: 0.71823 | loss: 0.33020 | hard dice: 0.71825 | bce: 0.03182\n"
     ]
    },
    {
     "name": "stderr",
     "output_type": "stream",
     "text": [
      "Epoch 35: 100% 2/2 [00:07<00:00,  3.82s/it, bce=0.03574, hard dice=0.75270, loss=0.28453, soft dice=0.75240]\n"
     ]
    },
    {
     "name": "stdout",
     "output_type": "stream",
     "text": [
      "soft dice: 0.71823 | loss: 0.32966 | hard dice: 0.71825 | bce: 0.03152\n"
     ]
    },
    {
     "name": "stderr",
     "output_type": "stream",
     "text": [
      "Epoch 36: 100% 2/2 [00:07<00:00,  3.85s/it, bce=0.01810, hard dice=0.87594, loss=0.14230, soft dice=0.87594]\n"
     ]
    },
    {
     "name": "stdout",
     "output_type": "stream",
     "text": [
      "soft dice: 0.71822 | loss: 0.32910 | hard dice: 0.71825 | bce: 0.03096\n"
     ]
    },
    {
     "name": "stderr",
     "output_type": "stream",
     "text": [
      "Epoch 37: 100% 2/2 [00:08<00:00,  4.22s/it, bce=0.02975, hard dice=0.75316, loss=0.29060, soft dice=0.73967]\n"
     ]
    },
    {
     "name": "stdout",
     "output_type": "stream",
     "text": [
      "soft dice: 0.71821 | loss: 0.32902 | hard dice: 0.71825 | bce: 0.03070\n"
     ]
    },
    {
     "name": "stderr",
     "output_type": "stream",
     "text": [
      "Epoch 38: 100% 2/2 [00:07<00:00,  3.92s/it, bce=0.03759, hard dice=0.81446, loss=0.22468, soft dice=0.81377]\n"
     ]
    },
    {
     "name": "stdout",
     "output_type": "stream",
     "text": [
      "soft dice: 0.71821 | loss: 0.32900 | hard dice: 0.71825 | bce: 0.03073\n"
     ]
    },
    {
     "name": "stderr",
     "output_type": "stream",
     "text": [
      "Epoch 39: 100% 2/2 [00:07<00:00,  3.78s/it, bce=0.02963, hard dice=0.69035, loss=0.35640, soft dice=0.67603]\n"
     ]
    },
    {
     "name": "stdout",
     "output_type": "stream",
     "text": [
      "soft dice: 0.71822 | loss: 0.32960 | hard dice: 0.71825 | bce: 0.03132\n"
     ]
    },
    {
     "name": "stderr",
     "output_type": "stream",
     "text": [
      "Epoch 40: 100% 2/2 [00:08<00:00,  4.01s/it, bce=0.02222, hard dice=1.00000, loss=0.02195, soft dice=1.00000]\n"
     ]
    },
    {
     "name": "stdout",
     "output_type": "stream",
     "text": [
      "soft dice: 0.71823 | loss: 0.32979 | hard dice: 0.71825 | bce: 0.03164\n"
     ]
    },
    {
     "name": "stderr",
     "output_type": "stream",
     "text": [
      "Epoch 41: 100% 2/2 [00:07<00:00,  3.91s/it, bce=0.02324, hard dice=0.75200, loss=0.28215, soft dice=0.74346]\n"
     ]
    },
    {
     "name": "stdout",
     "output_type": "stream",
     "text": [
      "soft dice: 0.71816 | loss: 0.32798 | hard dice: 0.71825 | bce: 0.02963\n"
     ]
    },
    {
     "name": "stderr",
     "output_type": "stream",
     "text": [
      "Epoch 42: 100% 2/2 [00:08<00:00,  4.50s/it, bce=0.01953, hard dice=0.75278, loss=0.26807, soft dice=0.75276]\n"
     ]
    },
    {
     "name": "stdout",
     "output_type": "stream",
     "text": [
      "soft dice: 0.71823 | loss: 0.32990 | hard dice: 0.71825 | bce: 0.03154\n"
     ]
    },
    {
     "name": "stderr",
     "output_type": "stream",
     "text": [
      "Epoch 43: 100% 2/2 [00:08<00:00,  4.23s/it, bce=0.02972, hard dice=0.69042, loss=0.37090, soft dice=0.69038]\n"
     ]
    },
    {
     "name": "stdout",
     "output_type": "stream",
     "text": [
      "soft dice: 0.71824 | loss: 0.33088 | hard dice: 0.71825 | bce: 0.03267\n"
     ]
    },
    {
     "name": "stderr",
     "output_type": "stream",
     "text": [
      "Epoch 44: 100% 2/2 [00:09<00:00,  4.50s/it, bce=0.03541, hard dice=0.63481, loss=0.40301, soft dice=0.63257]\n"
     ]
    },
    {
     "name": "stdout",
     "output_type": "stream",
     "text": [
      "soft dice: 0.71824 | loss: 0.33118 | hard dice: 0.71825 | bce: 0.03292\n"
     ]
    },
    {
     "name": "stderr",
     "output_type": "stream",
     "text": [
      "Epoch 45: 100% 2/2 [00:07<00:00,  3.79s/it, bce=0.02852, hard dice=0.62743, loss=0.40764, soft dice=0.62262]\n"
     ]
    },
    {
     "name": "stdout",
     "output_type": "stream",
     "text": [
      "soft dice: 0.71823 | loss: 0.32984 | hard dice: 0.71825 | bce: 0.03160\n"
     ]
    },
    {
     "name": "stderr",
     "output_type": "stream",
     "text": [
      "Epoch 46: 100% 2/2 [00:07<00:00,  3.83s/it, bce=0.02535, hard dice=0.75276, loss=0.27509, soft dice=0.75143]\n"
     ]
    },
    {
     "name": "stdout",
     "output_type": "stream",
     "text": [
      "soft dice: 0.71820 | loss: 0.32887 | hard dice: 0.71825 | bce: 0.03056\n"
     ]
    },
    {
     "name": "stderr",
     "output_type": "stream",
     "text": [
      "Epoch 47: 100% 2/2 [00:07<00:00,  3.76s/it, bce=0.03127, hard dice=0.62804, loss=0.40638, soft dice=0.62602]\n"
     ]
    },
    {
     "name": "stdout",
     "output_type": "stream",
     "text": [
      "soft dice: 0.71822 | loss: 0.32930 | hard dice: 0.71825 | bce: 0.03111\n"
     ]
    },
    {
     "name": "stderr",
     "output_type": "stream",
     "text": [
      "Epoch 48: 100% 2/2 [00:07<00:00,  3.85s/it, bce=0.02519, hard dice=0.87624, loss=0.14862, soft dice=0.87619]\n"
     ]
    },
    {
     "name": "stdout",
     "output_type": "stream",
     "text": [
      "soft dice: 0.71823 | loss: 0.32951 | hard dice: 0.71825 | bce: 0.03144\n"
     ]
    },
    {
     "name": "stderr",
     "output_type": "stream",
     "text": [
      "Epoch 49: 100% 2/2 [00:08<00:00,  4.09s/it, bce=0.02701, hard dice=0.81489, loss=0.21486, soft dice=0.81449]\n"
     ]
    },
    {
     "name": "stdout",
     "output_type": "stream",
     "text": [
      "soft dice: 0.71825 | loss: 0.33093 | hard dice: 0.71825 | bce: 0.03289\n",
      "Starting cyclic lr\n"
     ]
    },
    {
     "name": "stderr",
     "output_type": "stream",
     "text": [
      "Epoch 50: 100% 2/2 [00:07<00:00,  3.99s/it, bce=0.03359, hard dice=0.62757, loss=0.41518, soft dice=0.61831]\n"
     ]
    },
    {
     "name": "stdout",
     "output_type": "stream",
     "text": [
      "soft dice: 0.71825 | loss: 0.33758 | hard dice: 0.71825 | bce: 0.03618\n"
     ]
    },
    {
     "name": "stderr",
     "output_type": "stream",
     "text": [
      "Epoch 51: 100% 2/2 [00:07<00:00,  3.97s/it, bce=0.04288, hard dice=0.75179, loss=0.32884, soft dice=0.75179]\n"
     ]
    },
    {
     "name": "stdout",
     "output_type": "stream",
     "text": [
      "soft dice: 0.71825 | loss: 0.51565 | hard dice: 0.71825 | bce: 0.03847\n"
     ]
    },
    {
     "name": "stderr",
     "output_type": "stream",
     "text": [
      "Epoch 52: 100% 2/2 [00:07<00:00,  3.61s/it, bce=0.03039, hard dice=0.69029, loss=0.37883, soft dice=0.69029]\n"
     ]
    },
    {
     "name": "stdout",
     "output_type": "stream",
     "text": [
      "soft dice: 0.71825 | loss: 0.43145 | hard dice: 0.71825 | bce: 0.03847\n"
     ]
    },
    {
     "name": "stderr",
     "output_type": "stream",
     "text": [
      "Epoch 53: 100% 2/2 [00:07<00:00,  3.69s/it, bce=0.03133, hard dice=0.81496, loss=0.31487, soft dice=0.81496]\n"
     ]
    },
    {
     "name": "stdout",
     "output_type": "stream",
     "text": [
      "soft dice: 0.71825 | loss: 0.41085 | hard dice: 0.71825 | bce: 0.03847\n"
     ]
    },
    {
     "name": "stderr",
     "output_type": "stream",
     "text": [
      "Epoch 54: 100% 2/2 [00:07<00:00,  3.57s/it, bce=0.04074, hard dice=0.81349, loss=0.26010, soft dice=0.81349]\n"
     ]
    },
    {
     "name": "stdout",
     "output_type": "stream",
     "text": [
      "soft dice: 0.71825 | loss: 0.39592 | hard dice: 0.71825 | bce: 0.03847\n"
     ]
    },
    {
     "name": "stderr",
     "output_type": "stream",
     "text": [
      "Epoch 55: 100% 2/2 [00:08<00:00,  4.14s/it, bce=0.04089, hard dice=0.68895, loss=0.36850, soft dice=0.68895]\n"
     ]
    },
    {
     "name": "stdout",
     "output_type": "stream",
     "text": [
      "soft dice: 0.71825 | loss: 0.34107 | hard dice: 0.71825 | bce: 0.03833\n"
     ]
    },
    {
     "name": "stderr",
     "output_type": "stream",
     "text": [
      "Epoch 56: 100% 2/2 [00:07<00:00,  3.87s/it, bce=0.02342, hard dice=0.75164, loss=0.27417, soft dice=0.75001]\n"
     ]
    },
    {
     "name": "stdout",
     "output_type": "stream",
     "text": [
      "soft dice: 0.71776 | loss: 0.32710 | hard dice: 0.71825 | bce: 0.02795\n"
     ]
    },
    {
     "name": "stderr",
     "output_type": "stream",
     "text": [
      "Epoch 57: 100% 2/2 [00:07<00:00,  3.62s/it, bce=0.02900, hard dice=0.56577, loss=0.52402, soft dice=0.56511]\n"
     ]
    },
    {
     "name": "stdout",
     "output_type": "stream",
     "text": [
      "soft dice: 0.71777 | loss: 0.32671 | hard dice: 0.71825 | bce: 0.02801\n"
     ]
    },
    {
     "name": "stderr",
     "output_type": "stream",
     "text": [
      "Epoch 58: 100% 2/2 [00:07<00:00,  3.73s/it, bce=0.03091, hard dice=0.68899, loss=0.35110, soft dice=0.68161]\n"
     ]
    },
    {
     "name": "stdout",
     "output_type": "stream",
     "text": [
      "soft dice: 0.71782 | loss: 0.32680 | hard dice: 0.71825 | bce: 0.02813\n"
     ]
    },
    {
     "name": "stderr",
     "output_type": "stream",
     "text": [
      "Epoch 59: 100% 2/2 [00:08<00:00,  4.00s/it, bce=0.02614, hard dice=0.50511, loss=0.52345, soft dice=0.50404]\n"
     ]
    },
    {
     "name": "stdout",
     "output_type": "stream",
     "text": [
      "soft dice: 0.71807 | loss: 0.32764 | hard dice: 0.71825 | bce: 0.02909\n"
     ]
    },
    {
     "name": "stderr",
     "output_type": "stream",
     "text": [
      "Epoch 60: 100% 2/2 [00:08<00:00,  4.15s/it, bce=0.02067, hard dice=0.69079, loss=0.33301, soft dice=0.68838]\n"
     ]
    },
    {
     "name": "stdout",
     "output_type": "stream",
     "text": [
      "soft dice: 0.71823 | loss: 0.33064 | hard dice: 0.71825 | bce: 0.03177\n"
     ]
    },
    {
     "name": "stderr",
     "output_type": "stream",
     "text": [
      "Epoch 61: 100% 2/2 [00:08<00:00,  4.08s/it, bce=0.03033, hard dice=0.87602, loss=0.15655, soft dice=0.87602]\n"
     ]
    },
    {
     "name": "stdout",
     "output_type": "stream",
     "text": [
      "soft dice: 0.71825 | loss: 0.33309 | hard dice: 0.71825 | bce: 0.03422\n"
     ]
    },
    {
     "name": "stderr",
     "output_type": "stream",
     "text": [
      "Epoch 62: 100% 2/2 [00:07<00:00,  3.73s/it, bce=0.03409, hard dice=0.50251, loss=0.53161, soft dice=0.50249]\n"
     ]
    },
    {
     "name": "stdout",
     "output_type": "stream",
     "text": [
      "soft dice: 0.71825 | loss: 0.33277 | hard dice: 0.71825 | bce: 0.03363\n"
     ]
    },
    {
     "name": "stderr",
     "output_type": "stream",
     "text": [
      "Epoch 63: 100% 2/2 [00:08<00:00,  4.16s/it, bce=0.03282, hard dice=0.69034, loss=0.34319, soft dice=0.69033]\n"
     ]
    },
    {
     "name": "stdout",
     "output_type": "stream",
     "text": [
      "soft dice: 0.71824 | loss: 0.33135 | hard dice: 0.71825 | bce: 0.03268\n"
     ]
    },
    {
     "name": "stderr",
     "output_type": "stream",
     "text": [
      "Epoch 64: 100% 2/2 [00:07<00:00,  3.60s/it, bce=0.02340, hard dice=0.68895, loss=0.33511, soft dice=0.68845]\n"
     ]
    },
    {
     "name": "stdout",
     "output_type": "stream",
     "text": [
      "soft dice: 0.71824 | loss: 0.33159 | hard dice: 0.71825 | bce: 0.03300\n"
     ]
    },
    {
     "name": "stderr",
     "output_type": "stream",
     "text": [
      "Epoch 65: 100% 2/2 [00:08<00:00,  4.19s/it, bce=0.03031, hard dice=0.75332, loss=0.27853, soft dice=0.75309]\n"
     ]
    },
    {
     "name": "stdout",
     "output_type": "stream",
     "text": [
      "soft dice: 0.71710 | loss: 0.32655 | hard dice: 0.71825 | bce: 0.02634\n"
     ]
    },
    {
     "name": "stderr",
     "output_type": "stream",
     "text": [
      "Epoch 66: 100% 2/2 [00:08<00:00,  4.02s/it, bce=0.03049, hard dice=0.93797, loss=0.24651, soft dice=0.78762]\n"
     ]
    },
    {
     "name": "stdout",
     "output_type": "stream",
     "text": [
      "soft dice: 0.71825 | loss: 0.37242 | hard dice: 0.71825 | bce: 0.03847\n"
     ]
    },
    {
     "name": "stderr",
     "output_type": "stream",
     "text": [
      "Epoch 67: 100% 2/2 [00:08<00:00,  4.10s/it, bce=0.02026, hard dice=0.88897, loss=0.21458, soft dice=0.88897]\n"
     ]
    },
    {
     "name": "stdout",
     "output_type": "stream",
     "text": [
      "soft dice: 0.71825 | loss: 0.36215 | hard dice: 0.71825 | bce: 0.03847\n"
     ]
    },
    {
     "name": "stderr",
     "output_type": "stream",
     "text": [
      "Epoch 68: 100% 2/2 [00:07<00:00,  3.99s/it, bce=0.03892, hard dice=0.81367, loss=0.31082, soft dice=0.81367]\n"
     ]
    },
    {
     "name": "stdout",
     "output_type": "stream",
     "text": [
      "soft dice: 0.71825 | loss: 0.36072 | hard dice: 0.71825 | bce: 0.03847\n"
     ]
    },
    {
     "name": "stderr",
     "output_type": "stream",
     "text": [
      "Epoch 69: 100% 2/2 [00:08<00:00,  4.27s/it, bce=0.05872, hard dice=0.44002, loss=0.65284, soft dice=0.44002]\n"
     ]
    },
    {
     "name": "stdout",
     "output_type": "stream",
     "text": [
      "soft dice: 0.71825 | loss: 0.35754 | hard dice: 0.71825 | bce: 0.03847\n"
     ]
    },
    {
     "name": "stderr",
     "output_type": "stream",
     "text": [
      "Epoch 70: 100% 2/2 [00:07<00:00,  3.87s/it, bce=0.02078, hard dice=0.75174, loss=0.27225, soft dice=0.75174]\n"
     ]
    },
    {
     "name": "stdout",
     "output_type": "stream",
     "text": [
      "soft dice: 0.71825 | loss: 0.33830 | hard dice: 0.71825 | bce: 0.03810\n"
     ]
    },
    {
     "name": "stderr",
     "output_type": "stream",
     "text": [
      "Epoch 71: 100% 2/2 [00:08<00:00,  4.11s/it, bce=0.03740, hard dice=0.44016, loss=0.60178, soft dice=0.43868]\n"
     ]
    },
    {
     "name": "stdout",
     "output_type": "stream",
     "text": [
      "soft dice: 0.71792 | loss: 0.32826 | hard dice: 0.71825 | bce: 0.02751\n"
     ]
    },
    {
     "name": "stderr",
     "output_type": "stream",
     "text": [
      "Epoch 72: 100% 2/2 [00:07<00:00,  3.68s/it, bce=0.02594, hard dice=0.81495, loss=0.24477, soft dice=0.79687]\n"
     ]
    },
    {
     "name": "stdout",
     "output_type": "stream",
     "text": [
      "soft dice: 0.71800 | loss: 0.32695 | hard dice: 0.71825 | bce: 0.02782\n"
     ]
    },
    {
     "name": "stderr",
     "output_type": "stream",
     "text": [
      "Epoch 73: 100% 2/2 [00:08<00:00,  4.34s/it, bce=0.02951, hard dice=0.69033, loss=0.34185, soft dice=0.68946]\n"
     ]
    },
    {
     "name": "stdout",
     "output_type": "stream",
     "text": [
      "soft dice: 0.71816 | loss: 0.32746 | hard dice: 0.71825 | bce: 0.02927\n"
     ]
    },
    {
     "name": "stderr",
     "output_type": "stream",
     "text": [
      "Epoch 74: 100% 2/2 [00:08<00:00,  4.25s/it, bce=0.02065, hard dice=0.87583, loss=0.18604, soft dice=0.87570]\n"
     ]
    },
    {
     "name": "stdout",
     "output_type": "stream",
     "text": [
      "soft dice: 0.71818 | loss: 0.32775 | hard dice: 0.71825 | bce: 0.02962\n"
     ]
    },
    {
     "name": "stderr",
     "output_type": "stream",
     "text": [
      "Epoch 75: 100% 2/2 [00:08<00:00,  4.06s/it, bce=0.02947, hard dice=0.75134, loss=0.27865, soft dice=0.75125]\n"
     ]
    },
    {
     "name": "stdout",
     "output_type": "stream",
     "text": [
      "soft dice: 0.71825 | loss: 0.33384 | hard dice: 0.71825 | bce: 0.03508\n"
     ]
    },
    {
     "name": "stderr",
     "output_type": "stream",
     "text": [
      "Epoch 76: 100% 2/2 [00:07<00:00,  3.62s/it, bce=0.03060, hard dice=0.81355, loss=0.21752, soft dice=0.81354]\n"
     ]
    },
    {
     "name": "stdout",
     "output_type": "stream",
     "text": [
      "soft dice: 0.71825 | loss: 0.33335 | hard dice: 0.71825 | bce: 0.03355\n"
     ]
    },
    {
     "name": "stderr",
     "output_type": "stream",
     "text": [
      "Epoch 77: 100% 2/2 [00:07<00:00,  4.00s/it, bce=0.04000, hard dice=0.56974, loss=0.48895, soft dice=0.56967]\n"
     ]
    },
    {
     "name": "stdout",
     "output_type": "stream",
     "text": [
      "soft dice: 0.71823 | loss: 0.33207 | hard dice: 0.71825 | bce: 0.03208\n"
     ]
    },
    {
     "name": "stderr",
     "output_type": "stream",
     "text": [
      "Epoch 78: 100% 2/2 [00:07<00:00,  3.77s/it, bce=0.02780, hard dice=0.81474, loss=0.27938, soft dice=0.81464]\n"
     ]
    },
    {
     "name": "stdout",
     "output_type": "stream",
     "text": [
      "soft dice: 0.71819 | loss: 0.32974 | hard dice: 0.71825 | bce: 0.03020\n"
     ]
    },
    {
     "name": "stderr",
     "output_type": "stream",
     "text": [
      "Epoch 79: 100% 2/2 [00:07<00:00,  3.81s/it, bce=0.03769, hard dice=0.62748, loss=0.47525, soft dice=0.62741]\n"
     ]
    },
    {
     "name": "stdout",
     "output_type": "stream",
     "text": [
      "soft dice: 0.71820 | loss: 0.33003 | hard dice: 0.71825 | bce: 0.03055\n"
     ]
    },
    {
     "name": "stderr",
     "output_type": "stream",
     "text": [
      "Epoch 80: 100% 2/2 [00:07<00:00,  3.88s/it, bce=0.03128, hard dice=0.68909, loss=0.35204, soft dice=0.68898]\n"
     ]
    },
    {
     "name": "stdout",
     "output_type": "stream",
     "text": [
      "soft dice: 0.68785 | loss: 0.35259 | hard dice: 0.71825 | bce: 0.02524\n"
     ]
    },
    {
     "name": "stderr",
     "output_type": "stream",
     "text": [
      "Epoch 81: 100% 2/2 [00:07<00:00,  3.70s/it, bce=0.02662, hard dice=0.50340, loss=0.55526, soft dice=0.47328]\n"
     ]
    },
    {
     "name": "stdout",
     "output_type": "stream",
     "text": [
      "soft dice: 0.71635 | loss: 0.33823 | hard dice: 0.71825 | bce: 0.03420\n"
     ]
    },
    {
     "name": "stderr",
     "output_type": "stream",
     "text": [
      "Epoch 82: 100% 2/2 [00:07<00:00,  3.78s/it, bce=0.02683, hard dice=0.81352, loss=0.21521, soft dice=0.81323]\n"
     ]
    },
    {
     "name": "stdout",
     "output_type": "stream",
     "text": [
      "soft dice: 0.71691 | loss: 0.33634 | hard dice: 0.71825 | bce: 0.03403\n"
     ]
    },
    {
     "name": "stderr",
     "output_type": "stream",
     "text": [
      "Epoch 83: 100% 2/2 [00:08<00:00,  4.17s/it, bce=0.02795, hard dice=0.75270, loss=0.27727, soft dice=0.75249]\n"
     ]
    },
    {
     "name": "stdout",
     "output_type": "stream",
     "text": [
      "soft dice: 0.71807 | loss: 0.33369 | hard dice: 0.71825 | bce: 0.03375\n"
     ]
    },
    {
     "name": "stderr",
     "output_type": "stream",
     "text": [
      "Epoch 84: 100% 2/2 [00:07<00:00,  3.95s/it, bce=0.05413, hard dice=0.68918, loss=0.36854, soft dice=0.68910]\n"
     ]
    },
    {
     "name": "stdout",
     "output_type": "stream",
     "text": [
      "soft dice: 0.71810 | loss: 0.33316 | hard dice: 0.71825 | bce: 0.03365\n"
     ]
    },
    {
     "name": "stderr",
     "output_type": "stream",
     "text": [
      "Epoch 85: 100% 2/2 [00:07<00:00,  3.87s/it, bce=0.01849, hard dice=0.87636, loss=0.20884, soft dice=0.87074]\n"
     ]
    },
    {
     "name": "stdout",
     "output_type": "stream",
     "text": [
      "soft dice: 0.71818 | loss: 0.32767 | hard dice: 0.71825 | bce: 0.02952\n"
     ]
    },
    {
     "name": "stderr",
     "output_type": "stream",
     "text": [
      "Epoch 86: 100% 2/2 [00:07<00:00,  3.78s/it, bce=0.02692, hard dice=0.81406, loss=0.21338, soft dice=0.81364]\n"
     ]
    },
    {
     "name": "stdout",
     "output_type": "stream",
     "text": [
      "soft dice: 0.71824 | loss: 0.33033 | hard dice: 0.71825 | bce: 0.03236\n"
     ]
    },
    {
     "name": "stderr",
     "output_type": "stream",
     "text": [
      "Epoch 87: 100% 2/2 [00:08<00:00,  4.00s/it, bce=0.02557, hard dice=0.75175, loss=0.27365, soft dice=0.75156]\n"
     ]
    },
    {
     "name": "stdout",
     "output_type": "stream",
     "text": [
      "soft dice: 0.71824 | loss: 0.33000 | hard dice: 0.71825 | bce: 0.03203\n"
     ]
    },
    {
     "name": "stderr",
     "output_type": "stream",
     "text": [
      "Epoch 88: 100% 2/2 [00:07<00:00,  3.91s/it, bce=0.03909, hard dice=0.56485, loss=0.47522, soft dice=0.56449]\n"
     ]
    },
    {
     "name": "stdout",
     "output_type": "stream",
     "text": [
      "soft dice: 0.71823 | loss: 0.32889 | hard dice: 0.71825 | bce: 0.03090\n"
     ]
    },
    {
     "name": "stderr",
     "output_type": "stream",
     "text": [
      "Epoch 89: 100% 2/2 [00:07<00:00,  3.90s/it, bce=0.03444, hard dice=0.68952, loss=0.34629, soft dice=0.68912]\n"
     ]
    },
    {
     "name": "stdout",
     "output_type": "stream",
     "text": [
      "soft dice: 0.71822 | loss: 0.32843 | hard dice: 0.71825 | bce: 0.03041\n"
     ]
    },
    {
     "name": "stderr",
     "output_type": "stream",
     "text": [
      "Epoch 90: 100% 2/2 [00:08<00:00,  4.12s/it, bce=0.02860, hard dice=0.81433, loss=0.22040, soft dice=0.80871]\n"
     ]
    },
    {
     "name": "stdout",
     "output_type": "stream",
     "text": [
      "soft dice: 0.71794 | loss: 0.32583 | hard dice: 0.71825 | bce: 0.02750\n"
     ]
    },
    {
     "name": "stderr",
     "output_type": "stream",
     "text": [
      "Epoch 91: 100% 2/2 [00:07<00:00,  3.81s/it, bce=0.02164, hard dice=0.87717, loss=0.15075, soft dice=0.87167]\n"
     ]
    },
    {
     "name": "stdout",
     "output_type": "stream",
     "text": [
      "soft dice: 0.71825 | loss: 0.33558 | hard dice: 0.71825 | bce: 0.03703\n"
     ]
    },
    {
     "name": "stderr",
     "output_type": "stream",
     "text": [
      "Epoch 92: 100% 2/2 [00:08<00:00,  4.16s/it, bce=0.03706, hard dice=0.81381, loss=0.22362, soft dice=0.81381]\n"
     ]
    },
    {
     "name": "stdout",
     "output_type": "stream",
     "text": [
      "soft dice: 0.71825 | loss: 0.33552 | hard dice: 0.71825 | bce: 0.03698\n"
     ]
    },
    {
     "name": "stderr",
     "output_type": "stream",
     "text": [
      "Epoch 93: 100% 2/2 [00:07<00:00,  3.68s/it, bce=0.02986, hard dice=0.87636, loss=0.15353, soft dice=0.87636]\n"
     ]
    },
    {
     "name": "stdout",
     "output_type": "stream",
     "text": [
      "soft dice: 0.71825 | loss: 0.33485 | hard dice: 0.71825 | bce: 0.03651\n"
     ]
    },
    {
     "name": "stderr",
     "output_type": "stream",
     "text": [
      "Epoch 94: 100% 2/2 [00:08<00:00,  4.14s/it, bce=0.02546, hard dice=0.68922, loss=0.33686, soft dice=0.68922]\n"
     ]
    },
    {
     "name": "stdout",
     "output_type": "stream",
     "text": [
      "soft dice: 0.71825 | loss: 0.33449 | hard dice: 0.71825 | bce: 0.03622\n"
     ]
    },
    {
     "name": "stderr",
     "output_type": "stream",
     "text": [
      "Epoch 95: 100% 2/2 [00:07<00:00,  3.57s/it, bce=0.03895, hard dice=0.56464, loss=0.47504, soft dice=0.56457]\n"
     ]
    },
    {
     "name": "stdout",
     "output_type": "stream",
     "text": [
      "soft dice: 0.71806 | loss: 0.32635 | hard dice: 0.71825 | bce: 0.02810\n"
     ]
    },
    {
     "name": "stderr",
     "output_type": "stream",
     "text": [
      "Epoch 96: 100% 2/2 [00:08<00:00,  4.11s/it, bce=0.02362, hard dice=0.62970, loss=0.40570, soft dice=0.61927]\n"
     ]
    },
    {
     "name": "stdout",
     "output_type": "stream",
     "text": [
      "soft dice: 0.71813 | loss: 0.32690 | hard dice: 0.71825 | bce: 0.02878\n"
     ]
    },
    {
     "name": "stderr",
     "output_type": "stream",
     "text": [
      "Epoch 97: 100% 2/2 [00:07<00:00,  3.59s/it, bce=0.02686, hard dice=0.75218, loss=0.27608, soft dice=0.75066]\n"
     ]
    },
    {
     "name": "stdout",
     "output_type": "stream",
     "text": [
      "soft dice: 0.71815 | loss: 0.32714 | hard dice: 0.71825 | bce: 0.02908\n"
     ]
    },
    {
     "name": "stderr",
     "output_type": "stream",
     "text": [
      "Epoch 98: 100% 2/2 [00:07<00:00,  3.64s/it, bce=0.01975, hard dice=0.82185, loss=0.19877, soft dice=0.82148]\n"
     ]
    },
    {
     "name": "stdout",
     "output_type": "stream",
     "text": [
      "soft dice: 0.71817 | loss: 0.32731 | hard dice: 0.71825 | bce: 0.02928\n"
     ]
    },
    {
     "name": "stderr",
     "output_type": "stream",
     "text": [
      "Epoch 99: 100% 2/2 [00:07<00:00,  3.96s/it, bce=0.03133, hard dice=0.62794, loss=0.40383, soft dice=0.62767]\n"
     ]
    },
    {
     "name": "stdout",
     "output_type": "stream",
     "text": [
      "soft dice: 0.71814 | loss: 0.32699 | hard dice: 0.71825 | bce: 0.02894\n",
      "Finished train fold: 4 with best loss 0.32583 on epoch 90\n",
      "\n"
     ]
    }
   ],
   "source": [
    "train_config('../configs/idris_1.json', '../folds_5.csv', n_folds=5, num_workers=24)"
   ]
  },
  {
   "cell_type": "code",
   "execution_count": 7,
   "metadata": {},
   "outputs": [
    {
     "name": "stdout",
     "output_type": "stream",
     "text": [
      "{u'target_cols': 800, u'save_images': True, u'dbg': False, u'train_pad': 0, u'use_clahe': False, u'network': u'linknet34', u'use_crop': True, u'nb_epoch': 150, u'epoch_size': 1, 'models_dir': u'models', u'lr': 0.01, u'cycle_start_epoch': 30, u'folder': u'train', u'optimizer': u'adam', u'target_rows': 800, 'fold': None, u'batch_size': 16, u'test_pad': 0, u'use_resize': False, u'loss': u'bce_dice_loss', u'img_cols': 4288, u'predict_batch_size': 5, u'num_channels': 3, u'dataset_path': u'/home/user/data/idrid', u'img_rows': 2848}\n",
      "('NAMES:', [u'IDRiD_28.jpg', u'IDRiD_44.jpg', u'IDRiD_23.jpg', u'IDRiD_32.jpg', u'IDRiD_11.jpg', u'IDRiD_51.jpg', u'IDRiD_54.jpg', u'IDRiD_31.jpg', u'IDRiD_14.jpg', u'IDRiD_10.jpg', u'IDRiD_30.jpg', u'IDRiD_03.jpg', u'IDRiD_04.jpg', u'IDRiD_43.jpg', u'IDRiD_40.jpg', u'IDRiD_19.jpg', u'IDRiD_50.jpg', u'IDRiD_48.jpg', u'IDRiD_49.jpg', u'IDRiD_41.jpg', u'IDRiD_01.jpg', u'IDRiD_45.jpg', u'IDRiD_15.jpg', u'IDRiD_09.jpg', u'IDRiD_38.jpg', u'IDRiD_52.jpg', u'IDRiD_27.jpg', u'IDRiD_21.jpg', u'IDRiD_07.jpg', u'IDRiD_26.jpg', u'IDRiD_16.jpg', u'IDRiD_36.jpg', u'IDRiD_34.jpg', u'IDRiD_20.jpg', u'IDRiD_13.jpg', u'IDRiD_29.jpg', u'IDRiD_22.jpg', u'IDRiD_18.jpg', u'IDRiD_24.jpg', u'IDRiD_17.jpg', u'IDRiD_06.jpg', u'IDRiD_39.jpg', u'IDRiD_35.jpg', u'IDRiD_47.jpg', u'IDRiD_02.jpg', u'IDRiD_05.jpg', u'IDRiD_25.jpg', u'IDRiD_53.jpg', u'IDRiD_08.jpg', u'IDRiD_37.jpg', u'IDRiD_12.jpg', u'IDRiD_33.jpg', u'IDRiD_42.jpg', u'IDRiD_46.jpg'])\n",
      "('skipping folds: ', [])\n"
     ]
    },
    {
     "name": "stderr",
     "output_type": "stream",
     "text": [
      "Epoch 0: 100% 2/2 [00:07<00:00,  3.71s/it, bce=0.40810, hard dice=0.50312, loss=1.40523, soft dice=0.00377]\n"
     ]
    },
    {
     "name": "stdout",
     "output_type": "stream",
     "text": [
      "soft dice: 0.78332 | loss: 4.98604 | hard dice: 0.78332 | bce: 0.03120\n"
     ]
    },
    {
     "name": "stderr",
     "output_type": "stream",
     "text": [
      "Epoch 1: 100% 2/2 [00:07<00:00,  3.82s/it, bce=0.02928, hard dice=0.69058, loss=0.85528, soft dice=0.25132]\n"
     ]
    },
    {
     "name": "stdout",
     "output_type": "stream",
     "text": [
      "soft dice: 0.78332 | loss: 5.81757 | hard dice: 0.78332 | bce: 0.03120\n"
     ]
    },
    {
     "name": "stderr",
     "output_type": "stream",
     "text": [
      "Epoch 2: 100% 2/2 [00:07<00:00,  3.70s/it, bce=0.04936, hard dice=0.43973, loss=0.64571, soft dice=0.43973]\n"
     ]
    },
    {
     "name": "stdout",
     "output_type": "stream",
     "text": [
      "soft dice: 0.78332 | loss: 2.74180 | hard dice: 0.78332 | bce: 0.03120\n"
     ]
    },
    {
     "name": "stderr",
     "output_type": "stream",
     "text": [
      "Epoch 3: 100% 2/2 [00:06<00:00,  3.50s/it, bce=0.03284, hard dice=0.62830, loss=0.44759, soft dice=0.62830]\n"
     ]
    },
    {
     "name": "stdout",
     "output_type": "stream",
     "text": [
      "soft dice: 0.78332 | loss: 3.01563 | hard dice: 0.78332 | bce: 0.03120\n"
     ]
    },
    {
     "name": "stderr",
     "output_type": "stream",
     "text": [
      "Epoch 4: 100% 2/2 [00:07<00:00,  3.98s/it, bce=0.03548, hard dice=0.75239, loss=0.31937, soft dice=0.75239]\n"
     ]
    },
    {
     "name": "stdout",
     "output_type": "stream",
     "text": [
      "soft dice: 0.78332 | loss: 0.75152 | hard dice: 0.78332 | bce: 0.03120\n"
     ]
    },
    {
     "name": "stderr",
     "output_type": "stream",
     "text": [
      "Epoch 5: 100% 2/2 [00:08<00:00,  4.18s/it, bce=0.03901, hard dice=0.87604, loss=0.18073, soft dice=0.87604]\n"
     ]
    },
    {
     "name": "stdout",
     "output_type": "stream",
     "text": [
      "soft dice: 0.78332 | loss: 0.51906 | hard dice: 0.78332 | bce: 0.03120\n"
     ]
    },
    {
     "name": "stderr",
     "output_type": "stream",
     "text": [
      "Epoch 6: 100% 2/2 [00:08<00:00,  4.19s/it, bce=0.03136, hard dice=0.87629, loss=0.23780, soft dice=0.87466]\n"
     ]
    },
    {
     "name": "stdout",
     "output_type": "stream",
     "text": [
      "soft dice: 0.78332 | loss: 0.30584 | hard dice: 0.78332 | bce: 0.03112\n"
     ]
    },
    {
     "name": "stderr",
     "output_type": "stream",
     "text": [
      "Epoch 7: 100% 2/2 [00:07<00:00,  3.67s/it, bce=0.02336, hard dice=0.87599, loss=0.16547, soft dice=0.87598]\n"
     ]
    },
    {
     "name": "stdout",
     "output_type": "stream",
     "text": [
      "soft dice: 0.78332 | loss: 0.26349 | hard dice: 0.78332 | bce: 0.03077\n"
     ]
    },
    {
     "name": "stderr",
     "output_type": "stream",
     "text": [
      "Epoch 8: 100% 2/2 [00:07<00:00,  3.61s/it, bce=0.03612, hard dice=0.56535, loss=0.47695, soft dice=0.56518]\n"
     ]
    },
    {
     "name": "stdout",
     "output_type": "stream",
     "text": [
      "soft dice: 0.78332 | loss: 0.26638 | hard dice: 0.78332 | bce: 0.03065\n"
     ]
    },
    {
     "name": "stderr",
     "output_type": "stream",
     "text": [
      "Epoch 9: 100% 2/2 [00:07<00:00,  3.82s/it, bce=0.02061, hard dice=0.69109, loss=0.39367, soft dice=0.68172]\n"
     ]
    },
    {
     "name": "stdout",
     "output_type": "stream",
     "text": [
      "soft dice: 0.78332 | loss: 0.26035 | hard dice: 0.78332 | bce: 0.02997\n"
     ]
    },
    {
     "name": "stderr",
     "output_type": "stream",
     "text": [
      "Epoch 10: 100% 2/2 [00:07<00:00,  4.00s/it, bce=0.04321, hard dice=0.62799, loss=0.43636, soft dice=0.62799]\n"
     ]
    },
    {
     "name": "stdout",
     "output_type": "stream",
     "text": [
      "soft dice: 0.78332 | loss: 0.28657 | hard dice: 0.78332 | bce: 0.03117\n"
     ]
    },
    {
     "name": "stderr",
     "output_type": "stream",
     "text": [
      "Epoch 11: 100% 2/2 [00:07<00:00,  3.67s/it, bce=0.05773, hard dice=0.62692, loss=0.43626, soft dice=0.62692]\n"
     ]
    },
    {
     "name": "stdout",
     "output_type": "stream",
     "text": [
      "soft dice: 0.78332 | loss: 0.28861 | hard dice: 0.78332 | bce: 0.03111\n"
     ]
    },
    {
     "name": "stderr",
     "output_type": "stream",
     "text": [
      "Epoch 12: 100% 2/2 [00:07<00:00,  3.65s/it, bce=0.03071, hard dice=0.63018, loss=0.40563, soft dice=0.63015]\n"
     ]
    },
    {
     "name": "stdout",
     "output_type": "stream",
     "text": [
      "soft dice: 0.78332 | loss: 0.27140 | hard dice: 0.78332 | bce: 0.03075\n"
     ]
    },
    {
     "name": "stderr",
     "output_type": "stream",
     "text": [
      "Epoch 13: 100% 2/2 [00:08<00:00,  4.12s/it, bce=0.01582, hard dice=0.87656, loss=0.14304, soft dice=0.87633]\n"
     ]
    },
    {
     "name": "stdout",
     "output_type": "stream",
     "text": [
      "soft dice: 0.78331 | loss: 0.26132 | hard dice: 0.78332 | bce: 0.02994\n"
     ]
    },
    {
     "name": "stderr",
     "output_type": "stream",
     "text": [
      "Epoch 14: 100% 2/2 [00:07<00:00,  3.86s/it, bce=0.04296, hard dice=0.50202, loss=0.54296, soft dice=0.50172]\n"
     ]
    },
    {
     "name": "stdout",
     "output_type": "stream",
     "text": [
      "soft dice: 0.78331 | loss: 0.25425 | hard dice: 0.78332 | bce: 0.02839\n"
     ]
    },
    {
     "name": "stderr",
     "output_type": "stream",
     "text": [
      "Epoch 15: 100% 2/2 [00:07<00:00,  3.84s/it, bce=0.03460, hard dice=0.69083, loss=0.34782, soft dice=0.68898]\n"
     ]
    },
    {
     "name": "stdout",
     "output_type": "stream",
     "text": [
      "soft dice: 0.78329 | loss: 0.25041 | hard dice: 0.78332 | bce: 0.02701\n"
     ]
    },
    {
     "name": "stderr",
     "output_type": "stream",
     "text": [
      "Epoch 16: 100% 2/2 [00:07<00:00,  3.67s/it, bce=0.03433, hard dice=0.50304, loss=0.53578, soft dice=0.50279]\n"
     ]
    },
    {
     "name": "stdout",
     "output_type": "stream",
     "text": [
      "soft dice: 0.78328 | loss: 0.24881 | hard dice: 0.78332 | bce: 0.02607\n"
     ]
    },
    {
     "name": "stderr",
     "output_type": "stream",
     "text": [
      "Epoch 17: 100% 2/2 [00:07<00:00,  3.69s/it, bce=0.03877, hard dice=0.62803, loss=0.42192, soft dice=0.62434]\n"
     ]
    },
    {
     "name": "stdout",
     "output_type": "stream",
     "text": [
      "soft dice: 0.78326 | loss: 0.24764 | hard dice: 0.78332 | bce: 0.02517\n"
     ]
    },
    {
     "name": "stderr",
     "output_type": "stream",
     "text": [
      "Epoch 18: 100% 2/2 [00:07<00:00,  3.67s/it, bce=0.03973, hard dice=0.81378, loss=0.23083, soft dice=0.81012]\n"
     ]
    },
    {
     "name": "stdout",
     "output_type": "stream",
     "text": [
      "soft dice: 0.78326 | loss: 0.24700 | hard dice: 0.78332 | bce: 0.02468\n"
     ]
    },
    {
     "name": "stderr",
     "output_type": "stream",
     "text": [
      "Epoch 19: 100% 2/2 [00:07<00:00,  3.87s/it, bce=0.01941, hard dice=0.81413, loss=0.20704, soft dice=0.81359]\n"
     ]
    },
    {
     "name": "stdout",
     "output_type": "stream",
     "text": [
      "soft dice: 0.78328 | loss: 0.24704 | hard dice: 0.78332 | bce: 0.02491\n"
     ]
    },
    {
     "name": "stderr",
     "output_type": "stream",
     "text": [
      "Epoch 20: 100% 2/2 [00:07<00:00,  3.78s/it, bce=0.02693, hard dice=0.62730, loss=0.40175, soft dice=0.62662]\n"
     ]
    },
    {
     "name": "stdout",
     "output_type": "stream",
     "text": [
      "soft dice: 0.78327 | loss: 0.24647 | hard dice: 0.78332 | bce: 0.02443\n"
     ]
    },
    {
     "name": "stderr",
     "output_type": "stream",
     "text": [
      "Epoch 21: 100% 2/2 [00:07<00:00,  3.59s/it, bce=0.03344, hard dice=0.62615, loss=0.41706, soft dice=0.62115]\n"
     ]
    },
    {
     "name": "stdout",
     "output_type": "stream",
     "text": [
      "soft dice: 0.78322 | loss: 0.24539 | hard dice: 0.78332 | bce: 0.02343\n"
     ]
    },
    {
     "name": "stderr",
     "output_type": "stream",
     "text": [
      "Epoch 22: 100% 2/2 [00:07<00:00,  3.99s/it, bce=0.02513, hard dice=0.87572, loss=0.15018, soft dice=0.87567]\n"
     ]
    },
    {
     "name": "stdout",
     "output_type": "stream",
     "text": [
      "soft dice: 0.78324 | loss: 0.24542 | hard dice: 0.78332 | bce: 0.02352\n"
     ]
    },
    {
     "name": "stderr",
     "output_type": "stream",
     "text": [
      "Epoch 23: 100% 2/2 [00:07<00:00,  3.60s/it, bce=0.02573, hard dice=0.75271, loss=0.27553, soft dice=0.75223]\n"
     ]
    },
    {
     "name": "stdout",
     "output_type": "stream",
     "text": [
      "soft dice: 0.78327 | loss: 0.24573 | hard dice: 0.78332 | bce: 0.02393\n"
     ]
    },
    {
     "name": "stderr",
     "output_type": "stream",
     "text": [
      "Epoch 24: 100% 2/2 [00:07<00:00,  3.80s/it, bce=0.02297, hard dice=0.93833, loss=0.08519, soft dice=0.93802]\n"
     ]
    },
    {
     "name": "stdout",
     "output_type": "stream",
     "text": [
      "soft dice: 0.78328 | loss: 0.24587 | hard dice: 0.78332 | bce: 0.02412\n"
     ]
    },
    {
     "name": "stderr",
     "output_type": "stream",
     "text": [
      "Epoch 25: 100% 2/2 [00:07<00:00,  3.95s/it, bce=0.02870, hard dice=0.62633, loss=0.40431, soft dice=0.62543]\n"
     ]
    },
    {
     "name": "stdout",
     "output_type": "stream",
     "text": [
      "soft dice: 0.78328 | loss: 0.24595 | hard dice: 0.78332 | bce: 0.02418\n"
     ]
    },
    {
     "name": "stderr",
     "output_type": "stream",
     "text": [
      "Epoch 26: 100% 2/2 [00:07<00:00,  3.61s/it, bce=0.03887, hard dice=0.50198, loss=0.53832, soft dice=0.50106]\n"
     ]
    },
    {
     "name": "stdout",
     "output_type": "stream",
     "text": [
      "soft dice: 0.78327 | loss: 0.24579 | hard dice: 0.78332 | bce: 0.02402\n"
     ]
    },
    {
     "name": "stderr",
     "output_type": "stream",
     "text": [
      "Epoch 27: 100% 2/2 [00:07<00:00,  3.84s/it, bce=0.02437, hard dice=0.75245, loss=0.27175, soft dice=0.75237]\n"
     ]
    },
    {
     "name": "stdout",
     "output_type": "stream",
     "text": [
      "soft dice: 0.78328 | loss: 0.24611 | hard dice: 0.78332 | bce: 0.02439\n"
     ]
    },
    {
     "name": "stderr",
     "output_type": "stream",
     "text": [
      "Epoch 28: 100% 2/2 [00:07<00:00,  3.96s/it, bce=0.03293, hard dice=0.62699, loss=0.40777, soft dice=0.62594]\n"
     ]
    },
    {
     "name": "stdout",
     "output_type": "stream",
     "text": [
      "soft dice: 0.78328 | loss: 0.24595 | hard dice: 0.78332 | bce: 0.02423\n"
     ]
    },
    {
     "name": "stderr",
     "output_type": "stream",
     "text": [
      "Epoch 29: 100% 2/2 [00:08<00:00,  4.31s/it, bce=0.03106, hard dice=0.62814, loss=0.41464, soft dice=0.62661]\n"
     ]
    },
    {
     "name": "stdout",
     "output_type": "stream",
     "text": [
      "soft dice: 0.78327 | loss: 0.24573 | hard dice: 0.78332 | bce: 0.02394\n",
      "Starting cyclic lr\n"
     ]
    },
    {
     "name": "stderr",
     "output_type": "stream",
     "text": [
      "Epoch 30: 100% 2/2 [00:07<00:00,  3.90s/it, bce=0.03289, hard dice=0.81478, loss=0.46171, soft dice=0.57834]\n"
     ]
    },
    {
     "name": "stdout",
     "output_type": "stream",
     "text": [
      "soft dice: 0.77540 | loss: 0.44073 | hard dice: 0.78332 | bce: 0.02600\n"
     ]
    },
    {
     "name": "stderr",
     "output_type": "stream",
     "text": [
      "Epoch 31: 100% 2/2 [00:07<00:00,  3.52s/it, bce=0.04215, hard dice=0.81318, loss=0.25834, soft dice=0.80943]\n"
     ]
    },
    {
     "name": "stdout",
     "output_type": "stream",
     "text": [
      "soft dice: 0.78332 | loss: 0.51162 | hard dice: 0.78332 | bce: 0.03120\n"
     ]
    },
    {
     "name": "stderr",
     "output_type": "stream",
     "text": [
      "Epoch 32: 100% 2/2 [00:07<00:00,  3.60s/it, bce=0.05175, hard dice=0.37819, loss=0.71142, soft dice=0.37819]\n"
     ]
    },
    {
     "name": "stdout",
     "output_type": "stream",
     "text": [
      "soft dice: 0.78332 | loss: 0.31405 | hard dice: 0.78332 | bce: 0.03120\n"
     ]
    },
    {
     "name": "stderr",
     "output_type": "stream",
     "text": [
      "Epoch 33: 100% 2/2 [00:08<00:00,  4.03s/it, bce=0.04148, hard dice=0.62628, loss=0.44437, soft dice=0.62628]\n"
     ]
    },
    {
     "name": "stdout",
     "output_type": "stream",
     "text": [
      "soft dice: 0.78332 | loss: 0.27011 | hard dice: 0.78332 | bce: 0.03120\n"
     ]
    },
    {
     "name": "stderr",
     "output_type": "stream",
     "text": [
      "Epoch 34: 100% 2/2 [00:08<00:00,  4.15s/it, bce=0.03723, hard dice=0.75193, loss=0.35679, soft dice=0.75193]\n"
     ]
    },
    {
     "name": "stdout",
     "output_type": "stream",
     "text": [
      "soft dice: 0.78332 | loss: 0.26560 | hard dice: 0.78332 | bce: 0.03120\n"
     ]
    },
    {
     "name": "stderr",
     "output_type": "stream",
     "text": [
      "Epoch 35: 100% 2/2 [00:06<00:00,  3.48s/it, bce=0.03499, hard dice=0.62815, loss=0.42370, soft dice=0.62794]\n"
     ]
    },
    {
     "name": "stdout",
     "output_type": "stream",
     "text": [
      "soft dice: 0.78061 | loss: 0.26465 | hard dice: 0.78332 | bce: 0.02458\n"
     ]
    },
    {
     "name": "stderr",
     "output_type": "stream",
     "text": [
      "Epoch 36: 100% 2/2 [00:08<00:00,  4.23s/it, bce=0.03066, hard dice=0.37742, loss=0.66668, soft dice=0.36729]\n"
     ]
    },
    {
     "name": "stdout",
     "output_type": "stream",
     "text": [
      "soft dice: 0.78323 | loss: 0.27485 | hard dice: 0.78332 | bce: 0.02909\n"
     ]
    },
    {
     "name": "stderr",
     "output_type": "stream",
     "text": [
      "Epoch 37: 100% 2/2 [00:07<00:00,  3.63s/it, bce=0.02960, hard dice=0.56538, loss=0.46747, soft dice=0.56521]\n"
     ]
    },
    {
     "name": "stdout",
     "output_type": "stream",
     "text": [
      "soft dice: 0.78329 | loss: 0.26418 | hard dice: 0.78332 | bce: 0.02802\n"
     ]
    },
    {
     "name": "stderr",
     "output_type": "stream",
     "text": [
      "Epoch 38: 100% 2/2 [00:07<00:00,  3.63s/it, bce=0.02307, hard dice=0.87742, loss=0.14699, soft dice=0.87705]\n"
     ]
    },
    {
     "name": "stdout",
     "output_type": "stream",
     "text": [
      "soft dice: 0.78329 | loss: 0.25653 | hard dice: 0.78332 | bce: 0.02696\n"
     ]
    },
    {
     "name": "stderr",
     "output_type": "stream",
     "text": [
      "Epoch 39: 100% 2/2 [00:08<00:00,  4.18s/it, bce=0.03093, hard dice=0.62920, loss=0.46580, soft dice=0.62882]\n"
     ]
    },
    {
     "name": "stdout",
     "output_type": "stream",
     "text": [
      "soft dice: 0.78328 | loss: 0.25222 | hard dice: 0.78332 | bce: 0.02593\n"
     ]
    },
    {
     "name": "stderr",
     "output_type": "stream",
     "text": [
      "Epoch 40: 100% 2/2 [00:07<00:00,  3.81s/it, bce=0.02143, hard dice=0.62954, loss=0.39913, soft dice=0.62748]\n"
     ]
    },
    {
     "name": "stdout",
     "output_type": "stream",
     "text": [
      "soft dice: 0.78320 | loss: 0.24871 | hard dice: 0.78332 | bce: 0.02476\n"
     ]
    },
    {
     "name": "stderr",
     "output_type": "stream",
     "text": [
      "Epoch 41: 100% 2/2 [00:08<00:00,  4.18s/it, bce=0.03180, hard dice=0.69079, loss=0.35753, soft dice=0.67836]\n"
     ]
    },
    {
     "name": "stdout",
     "output_type": "stream",
     "text": [
      "soft dice: 0.78332 | loss: 0.25920 | hard dice: 0.78332 | bce: 0.03119\n"
     ]
    },
    {
     "name": "stderr",
     "output_type": "stream",
     "text": [
      "Epoch 42: 100% 2/2 [00:07<00:00,  3.83s/it, bce=0.05590, hard dice=0.68913, loss=0.39609, soft dice=0.68913]\n"
     ]
    },
    {
     "name": "stdout",
     "output_type": "stream",
     "text": [
      "soft dice: 0.78332 | loss: 0.26086 | hard dice: 0.78332 | bce: 0.03120\n"
     ]
    },
    {
     "name": "stderr",
     "output_type": "stream",
     "text": [
      "Epoch 43: 100% 2/2 [00:07<00:00,  3.59s/it, bce=0.03343, hard dice=0.87623, loss=0.17118, soft dice=0.87623]\n"
     ]
    },
    {
     "name": "stdout",
     "output_type": "stream",
     "text": [
      "soft dice: 0.78332 | loss: 0.26074 | hard dice: 0.78332 | bce: 0.03119\n"
     ]
    },
    {
     "name": "stderr",
     "output_type": "stream",
     "text": [
      "Epoch 44: 100% 2/2 [00:08<00:00,  4.17s/it, bce=0.03744, hard dice=0.56474, loss=0.54383, soft dice=0.56474]\n"
     ]
    },
    {
     "name": "stdout",
     "output_type": "stream",
     "text": [
      "soft dice: 0.78332 | loss: 0.26076 | hard dice: 0.78332 | bce: 0.03119\n"
     ]
    },
    {
     "name": "stderr",
     "output_type": "stream",
     "text": [
      "Epoch 45: 100% 2/2 [00:07<00:00,  3.70s/it, bce=0.03393, hard dice=0.57127, loss=0.46841, soft dice=0.57126]\n"
     ]
    },
    {
     "name": "stdout",
     "output_type": "stream",
     "text": [
      "soft dice: 0.78328 | loss: 0.24536 | hard dice: 0.78332 | bce: 0.02392\n"
     ]
    },
    {
     "name": "stderr",
     "output_type": "stream",
     "text": [
      "Epoch 46: 100% 2/2 [00:07<00:00,  3.92s/it, bce=0.02054, hard dice=0.87750, loss=0.16100, soft dice=0.86869]\n"
     ]
    },
    {
     "name": "stdout",
     "output_type": "stream",
     "text": [
      "soft dice: 0.78331 | loss: 0.24868 | hard dice: 0.78332 | bce: 0.02727\n"
     ]
    },
    {
     "name": "stderr",
     "output_type": "stream",
     "text": [
      "Epoch 47: 100% 2/2 [00:07<00:00,  3.75s/it, bce=0.02171, hard dice=0.70281, loss=0.31996, soft dice=0.70279]\n"
     ]
    },
    {
     "name": "stdout",
     "output_type": "stream",
     "text": [
      "soft dice: 0.78331 | loss: 0.24896 | hard dice: 0.78332 | bce: 0.02753\n"
     ]
    },
    {
     "name": "stderr",
     "output_type": "stream",
     "text": [
      "Epoch 48: 100% 2/2 [00:07<00:00,  3.81s/it, bce=0.03468, hard dice=0.81438, loss=0.21996, soft dice=0.81436]\n"
     ]
    },
    {
     "name": "stdout",
     "output_type": "stream",
     "text": [
      "soft dice: 0.78331 | loss: 0.24855 | hard dice: 0.78332 | bce: 0.02713\n"
     ]
    },
    {
     "name": "stderr",
     "output_type": "stream",
     "text": [
      "Epoch 49: 100% 2/2 [00:07<00:00,  3.97s/it, bce=0.03657, hard dice=0.62632, loss=0.41129, soft dice=0.62632]\n"
     ]
    },
    {
     "name": "stdout",
     "output_type": "stream",
     "text": [
      "soft dice: 0.78331 | loss: 0.24830 | hard dice: 0.78332 | bce: 0.02687\n"
     ]
    },
    {
     "name": "stderr",
     "output_type": "stream",
     "text": [
      "Epoch 50: 100% 2/2 [00:08<00:00,  4.16s/it, bce=0.02201, hard dice=0.81530, loss=0.20850, soft dice=0.81406]\n"
     ]
    },
    {
     "name": "stdout",
     "output_type": "stream",
     "text": [
      "soft dice: 0.78276 | loss: 0.24289 | hard dice: 0.78332 | bce: 0.02090\n"
     ]
    },
    {
     "name": "stderr",
     "output_type": "stream",
     "text": [
      "Epoch 51: 100% 2/2 [00:07<00:00,  3.68s/it, bce=0.03098, hard dice=0.75060, loss=0.28354, soft dice=0.74888]\n"
     ]
    },
    {
     "name": "stdout",
     "output_type": "stream",
     "text": [
      "soft dice: 0.78329 | loss: 0.24641 | hard dice: 0.78332 | bce: 0.02495\n"
     ]
    },
    {
     "name": "stderr",
     "output_type": "stream",
     "text": [
      "Epoch 52: 100% 2/2 [00:08<00:00,  4.08s/it, bce=0.03867, hard dice=0.69806, loss=0.35029, soft dice=0.69788]\n"
     ]
    },
    {
     "name": "stdout",
     "output_type": "stream",
     "text": [
      "soft dice: 0.78330 | loss: 0.24626 | hard dice: 0.78332 | bce: 0.02480\n"
     ]
    },
    {
     "name": "stderr",
     "output_type": "stream",
     "text": [
      "Epoch 53: 100% 2/2 [00:07<00:00,  3.51s/it, bce=0.02591, hard dice=0.75503, loss=0.27148, soft dice=0.75492]\n"
     ]
    },
    {
     "name": "stdout",
     "output_type": "stream",
     "text": [
      "soft dice: 0.78329 | loss: 0.24589 | hard dice: 0.78332 | bce: 0.02442\n"
     ]
    },
    {
     "name": "stderr",
     "output_type": "stream",
     "text": [
      "Epoch 54: 100% 2/2 [00:08<00:00,  4.27s/it, bce=0.02992, hard dice=0.63041, loss=0.40184, soft dice=0.63029]\n"
     ]
    },
    {
     "name": "stdout",
     "output_type": "stream",
     "text": [
      "soft dice: 0.78329 | loss: 0.24562 | hard dice: 0.78332 | bce: 0.02411\n"
     ]
    },
    {
     "name": "stderr",
     "output_type": "stream",
     "text": [
      "Epoch 55: 100% 2/2 [00:07<00:00,  3.91s/it, bce=0.02013, hard dice=0.75435, loss=0.27649, soft dice=0.74446]\n"
     ]
    },
    {
     "name": "stdout",
     "output_type": "stream",
     "text": [
      "soft dice: 0.78325 | loss: 0.24488 | hard dice: 0.78332 | bce: 0.02340\n"
     ]
    },
    {
     "name": "stderr",
     "output_type": "stream",
     "text": [
      "Epoch 56: 100% 2/2 [00:07<00:00,  3.79s/it, bce=0.02794, hard dice=0.62841, loss=0.39986, soft dice=0.62794]\n"
     ]
    },
    {
     "name": "stdout",
     "output_type": "stream",
     "text": [
      "soft dice: 0.78331 | loss: 0.24991 | hard dice: 0.78332 | bce: 0.02848\n"
     ]
    },
    {
     "name": "stderr",
     "output_type": "stream",
     "text": [
      "Epoch 57: 100% 2/2 [00:07<00:00,  3.93s/it, bce=0.04617, hard dice=0.62713, loss=0.41971, soft dice=0.62709]\n"
     ]
    },
    {
     "name": "stdout",
     "output_type": "stream",
     "text": [
      "soft dice: 0.78331 | loss: 0.24914 | hard dice: 0.78332 | bce: 0.02774\n"
     ]
    },
    {
     "name": "stderr",
     "output_type": "stream",
     "text": [
      "Epoch 58: 100% 2/2 [00:07<00:00,  3.54s/it, bce=0.03100, hard dice=0.56477, loss=0.46673, soft dice=0.56477]\n"
     ]
    },
    {
     "name": "stdout",
     "output_type": "stream",
     "text": [
      "soft dice: 0.78331 | loss: 0.24898 | hard dice: 0.78332 | bce: 0.02763\n"
     ]
    },
    {
     "name": "stderr",
     "output_type": "stream",
     "text": [
      "Epoch 59: 100% 2/2 [00:07<00:00,  3.66s/it, bce=0.04074, hard dice=0.62753, loss=0.41688, soft dice=0.62751]\n"
     ]
    },
    {
     "name": "stdout",
     "output_type": "stream",
     "text": [
      "soft dice: 0.78331 | loss: 0.24924 | hard dice: 0.78332 | bce: 0.02790\n"
     ]
    },
    {
     "name": "stderr",
     "output_type": "stream",
     "text": [
      "Epoch 60: 100% 2/2 [00:07<00:00,  3.53s/it, bce=0.02294, hard dice=0.81534, loss=0.21096, soft dice=0.81391]\n"
     ]
    },
    {
     "name": "stdout",
     "output_type": "stream",
     "text": [
      "soft dice: 0.78260 | loss: 0.24365 | hard dice: 0.78332 | bce: 0.02086\n"
     ]
    },
    {
     "name": "stderr",
     "output_type": "stream",
     "text": [
      "Epoch 61: 100% 2/2 [00:07<00:00,  3.67s/it, bce=0.02108, hard dice=0.62736, loss=0.40137, soft dice=0.62073]\n"
     ]
    },
    {
     "name": "stdout",
     "output_type": "stream",
     "text": [
      "soft dice: 0.78329 | loss: 0.24541 | hard dice: 0.78332 | bce: 0.02403\n"
     ]
    },
    {
     "name": "stderr",
     "output_type": "stream",
     "text": [
      "Epoch 62: 100% 2/2 [00:07<00:00,  3.94s/it, bce=0.03212, hard dice=0.62723, loss=0.40581, soft dice=0.62648]\n"
     ]
    },
    {
     "name": "stdout",
     "output_type": "stream",
     "text": [
      "soft dice: 0.78328 | loss: 0.24533 | hard dice: 0.78332 | bce: 0.02392\n"
     ]
    },
    {
     "name": "stderr",
     "output_type": "stream",
     "text": [
      "Epoch 63: 100% 2/2 [00:07<00:00,  3.79s/it, bce=0.03131, hard dice=0.68962, loss=0.34129, soft dice=0.68955]\n"
     ]
    },
    {
     "name": "stdout",
     "output_type": "stream",
     "text": [
      "soft dice: 0.78329 | loss: 0.24546 | hard dice: 0.78332 | bce: 0.02405\n"
     ]
    },
    {
     "name": "stderr",
     "output_type": "stream",
     "text": [
      "Epoch 64: 100% 2/2 [00:07<00:00,  3.79s/it, bce=0.03189, hard dice=0.62984, loss=0.40338, soft dice=0.62962]\n"
     ]
    },
    {
     "name": "stdout",
     "output_type": "stream",
     "text": [
      "soft dice: 0.78328 | loss: 0.24526 | hard dice: 0.78332 | bce: 0.02383\n"
     ]
    },
    {
     "name": "stderr",
     "output_type": "stream",
     "text": [
      "Epoch 65: 100% 2/2 [00:07<00:00,  3.73s/it, bce=0.05430, hard dice=0.50231, loss=0.55286, soft dice=0.50130]\n"
     ]
    },
    {
     "name": "stdout",
     "output_type": "stream",
     "text": [
      "soft dice: 0.78145 | loss: 0.24281 | hard dice: 0.78332 | bce: 0.01960\n"
     ]
    },
    {
     "name": "stderr",
     "output_type": "stream",
     "text": [
      "Epoch 66: 100% 2/2 [00:07<00:00,  3.68s/it, bce=0.02327, hard dice=0.62794, loss=0.40472, soft dice=0.61958]\n"
     ]
    },
    {
     "name": "stdout",
     "output_type": "stream",
     "text": [
      "soft dice: 0.78329 | loss: 0.24579 | hard dice: 0.78332 | bce: 0.02440\n"
     ]
    },
    {
     "name": "stderr",
     "output_type": "stream",
     "text": [
      "Epoch 67: 100% 2/2 [00:07<00:00,  3.55s/it, bce=0.03250, hard dice=0.75115, loss=0.28320, soft dice=0.74994]\n"
     ]
    },
    {
     "name": "stdout",
     "output_type": "stream",
     "text": [
      "soft dice: 0.78330 | loss: 0.24590 | hard dice: 0.78332 | bce: 0.02451\n"
     ]
    },
    {
     "name": "stderr",
     "output_type": "stream",
     "text": [
      "Epoch 68: 100% 2/2 [00:07<00:00,  3.65s/it, bce=0.02244, hard dice=0.87708, loss=0.14691, soft dice=0.87636]\n"
     ]
    },
    {
     "name": "stdout",
     "output_type": "stream",
     "text": [
      "soft dice: 0.78330 | loss: 0.24606 | hard dice: 0.78332 | bce: 0.02468\n"
     ]
    },
    {
     "name": "stderr",
     "output_type": "stream",
     "text": [
      "Epoch 69: 100% 2/2 [00:07<00:00,  3.85s/it, bce=0.03268, hard dice=0.44026, loss=0.59460, soft dice=0.43908]\n"
     ]
    },
    {
     "name": "stdout",
     "output_type": "stream",
     "text": [
      "soft dice: 0.78328 | loss: 0.24529 | hard dice: 0.78332 | bce: 0.02388\n"
     ]
    },
    {
     "name": "stderr",
     "output_type": "stream",
     "text": [
      "Epoch 70: 100% 2/2 [00:08<00:00,  4.38s/it, bce=0.03019, hard dice=0.37900, loss=0.65165, soft dice=0.37876]\n"
     ]
    },
    {
     "name": "stdout",
     "output_type": "stream",
     "text": [
      "soft dice: 0.78325 | loss: 0.24450 | hard dice: 0.78332 | bce: 0.02312\n"
     ]
    },
    {
     "name": "stderr",
     "output_type": "stream",
     "text": [
      "Epoch 71: 100% 2/2 [00:07<00:00,  3.87s/it, bce=0.04572, hard dice=0.37791, loss=0.67984, soft dice=0.36620]\n"
     ]
    },
    {
     "name": "stdout",
     "output_type": "stream",
     "text": [
      "soft dice: 0.78332 | loss: 0.25724 | hard dice: 0.78332 | bce: 0.03118\n"
     ]
    },
    {
     "name": "stderr",
     "output_type": "stream",
     "text": [
      "Epoch 72: 100% 2/2 [00:07<00:00,  3.86s/it, bce=0.03746, hard dice=0.81463, loss=0.22594, soft dice=0.81463]\n"
     ]
    },
    {
     "name": "stdout",
     "output_type": "stream",
     "text": [
      "soft dice: 0.78332 | loss: 0.25664 | hard dice: 0.78332 | bce: 0.03117\n"
     ]
    },
    {
     "name": "stderr",
     "output_type": "stream",
     "text": [
      "Epoch 73: 100% 2/2 [00:07<00:00,  3.65s/it, bce=0.03877, hard dice=0.56499, loss=0.47474, soft dice=0.56499]\n"
     ]
    },
    {
     "name": "stdout",
     "output_type": "stream",
     "text": [
      "soft dice: 0.78332 | loss: 0.25556 | hard dice: 0.78332 | bce: 0.03113\n"
     ]
    },
    {
     "name": "stderr",
     "output_type": "stream",
     "text": [
      "Epoch 74: 100% 2/2 [00:07<00:00,  3.90s/it, bce=0.04735, hard dice=0.81397, loss=0.29094, soft dice=0.81397]\n"
     ]
    },
    {
     "name": "stdout",
     "output_type": "stream",
     "text": [
      "soft dice: 0.78332 | loss: 0.25466 | hard dice: 0.78332 | bce: 0.03105\n"
     ]
    },
    {
     "name": "stderr",
     "output_type": "stream",
     "text": [
      "Epoch 75: 100% 2/2 [00:08<00:00,  4.17s/it, bce=0.03380, hard dice=0.62767, loss=0.40696, soft dice=0.62762]\n"
     ]
    },
    {
     "name": "stdout",
     "output_type": "stream",
     "text": [
      "soft dice: 0.78318 | loss: 0.24408 | hard dice: 0.78332 | bce: 0.02257\n"
     ]
    },
    {
     "name": "stderr",
     "output_type": "stream",
     "text": [
      "Epoch 76: 100% 2/2 [00:07<00:00,  3.71s/it, bce=0.01597, hard dice=0.75323, loss=0.26945, soft dice=0.74971]\n"
     ]
    },
    {
     "name": "stdout",
     "output_type": "stream",
     "text": [
      "soft dice: 0.78324 | loss: 0.24458 | hard dice: 0.78332 | bce: 0.02321\n"
     ]
    },
    {
     "name": "stderr",
     "output_type": "stream",
     "text": [
      "Epoch 77: 100% 2/2 [00:07<00:00,  3.56s/it, bce=0.02253, hard dice=0.69164, loss=0.33579, soft dice=0.68715]\n"
     ]
    },
    {
     "name": "stdout",
     "output_type": "stream",
     "text": [
      "soft dice: 0.78327 | loss: 0.24503 | hard dice: 0.78332 | bce: 0.02368\n"
     ]
    },
    {
     "name": "stderr",
     "output_type": "stream",
     "text": [
      "Epoch 78: 100% 2/2 [00:08<00:00,  4.06s/it, bce=0.02649, hard dice=0.75091, loss=0.33884, soft dice=0.74940]\n"
     ]
    },
    {
     "name": "stdout",
     "output_type": "stream",
     "text": [
      "soft dice: 0.78327 | loss: 0.24507 | hard dice: 0.78332 | bce: 0.02369\n"
     ]
    },
    {
     "name": "stderr",
     "output_type": "stream",
     "text": [
      "Epoch 79: 100% 2/2 [00:07<00:00,  3.89s/it, bce=0.04444, hard dice=0.75244, loss=0.29304, soft dice=0.75164]\n"
     ]
    },
    {
     "name": "stdout",
     "output_type": "stream",
     "text": [
      "soft dice: 0.78324 | loss: 0.24452 | hard dice: 0.78332 | bce: 0.02309\n"
     ]
    },
    {
     "name": "stderr",
     "output_type": "stream",
     "text": [
      "Epoch 80: 100% 2/2 [00:08<00:00,  4.28s/it, bce=0.01990, hard dice=0.93931, loss=0.08194, soft dice=0.93904]\n"
     ]
    },
    {
     "name": "stdout",
     "output_type": "stream",
     "text": [
      "soft dice: 0.78331 | loss: 0.24695 | hard dice: 0.78332 | bce: 0.02554\n"
     ]
    },
    {
     "name": "stderr",
     "output_type": "stream",
     "text": [
      "Epoch 81: 100% 2/2 [00:06<00:00,  3.47s/it, bce=0.03635, hard dice=0.75205, loss=0.28494, soft dice=0.75173]\n"
     ]
    },
    {
     "name": "stdout",
     "output_type": "stream",
     "text": [
      "soft dice: 0.78329 | loss: 0.24548 | hard dice: 0.78332 | bce: 0.02403\n"
     ]
    },
    {
     "name": "stderr",
     "output_type": "stream",
     "text": [
      "Epoch 82: 100% 2/2 [00:07<00:00,  3.91s/it, bce=0.02023, hard dice=0.93925, loss=0.20366, soft dice=0.93912]\n"
     ]
    },
    {
     "name": "stdout",
     "output_type": "stream",
     "text": [
      "soft dice: 0.78326 | loss: 0.24487 | hard dice: 0.78332 | bce: 0.02339\n"
     ]
    },
    {
     "name": "stderr",
     "output_type": "stream",
     "text": [
      "Epoch 83: 100% 2/2 [00:08<00:00,  4.11s/it, bce=0.02987, hard dice=0.62722, loss=0.40543, soft dice=0.62443]\n"
     ]
    },
    {
     "name": "stdout",
     "output_type": "stream",
     "text": [
      "soft dice: 0.78321 | loss: 0.24413 | hard dice: 0.78332 | bce: 0.02258\n"
     ]
    },
    {
     "name": "stderr",
     "output_type": "stream",
     "text": [
      "Epoch 84: 100% 2/2 [00:08<00:00,  4.42s/it, bce=0.03538, hard dice=0.62718, loss=0.41022, soft dice=0.62537]\n"
     ]
    },
    {
     "name": "stdout",
     "output_type": "stream",
     "text": [
      "soft dice: 0.78322 | loss: 0.24418 | hard dice: 0.78332 | bce: 0.02263\n"
     ]
    },
    {
     "name": "stderr",
     "output_type": "stream",
     "text": [
      "Epoch 85: 100% 2/2 [00:07<00:00,  3.53s/it, bce=0.01799, hard dice=0.87600, loss=0.20530, soft dice=0.87353]\n"
     ]
    },
    {
     "name": "stdout",
     "output_type": "stream",
     "text": [
      "soft dice: 0.78326 | loss: 0.24475 | hard dice: 0.78332 | bce: 0.02329\n"
     ]
    },
    {
     "name": "stderr",
     "output_type": "stream",
     "text": [
      "Epoch 86: 100% 2/2 [00:07<00:00,  3.66s/it, bce=0.03048, hard dice=0.50233, loss=0.52976, soft dice=0.50106]\n"
     ]
    },
    {
     "name": "stdout",
     "output_type": "stream",
     "text": [
      "soft dice: 0.78331 | loss: 0.24697 | hard dice: 0.78332 | bce: 0.02560\n"
     ]
    },
    {
     "name": "stderr",
     "output_type": "stream",
     "text": [
      "Epoch 87: 100% 2/2 [00:07<00:00,  3.72s/it, bce=0.02926, hard dice=0.75091, loss=0.27854, soft dice=0.75081]\n"
     ]
    },
    {
     "name": "stdout",
     "output_type": "stream",
     "text": [
      "soft dice: 0.78330 | loss: 0.24647 | hard dice: 0.78332 | bce: 0.02510\n"
     ]
    },
    {
     "name": "stderr",
     "output_type": "stream",
     "text": [
      "Epoch 88: 100% 2/2 [00:08<00:00,  4.28s/it, bce=0.02383, hard dice=0.68963, loss=0.33452, soft dice=0.68951]\n"
     ]
    },
    {
     "name": "stdout",
     "output_type": "stream",
     "text": [
      "soft dice: 0.78328 | loss: 0.24529 | hard dice: 0.78332 | bce: 0.02389\n"
     ]
    },
    {
     "name": "stderr",
     "output_type": "stream",
     "text": [
      "Epoch 89: 100% 2/2 [00:08<00:00,  4.18s/it, bce=0.03533, hard dice=0.68958, loss=0.40746, soft dice=0.68901]\n"
     ]
    },
    {
     "name": "stdout",
     "output_type": "stream",
     "text": [
      "soft dice: 0.78326 | loss: 0.24479 | hard dice: 0.78332 | bce: 0.02336\n"
     ]
    },
    {
     "name": "stderr",
     "output_type": "stream",
     "text": [
      "Epoch 90: 100% 2/2 [00:07<00:00,  3.85s/it, bce=0.02392, hard dice=0.44205, loss=0.58340, soft dice=0.44156]\n"
     ]
    },
    {
     "name": "stdout",
     "output_type": "stream",
     "text": [
      "soft dice: 0.78140 | loss: 0.24272 | hard dice: 0.78332 | bce: 0.01952\n"
     ]
    },
    {
     "name": "stderr",
     "output_type": "stream",
     "text": [
      "Epoch 91: 100% 2/2 [00:07<00:00,  3.97s/it, bce=0.01876, hard dice=0.87783, loss=0.21398, soft dice=0.86670]\n"
     ]
    },
    {
     "name": "stdout",
     "output_type": "stream",
     "text": [
      "soft dice: 0.78332 | loss: 0.25124 | hard dice: 0.78332 | bce: 0.02951\n"
     ]
    },
    {
     "name": "stderr",
     "output_type": "stream",
     "text": [
      "Epoch 92: 100% 2/2 [00:08<00:00,  4.03s/it, bce=0.02747, hard dice=0.81481, loss=0.21336, soft dice=0.81480]\n"
     ]
    },
    {
     "name": "stdout",
     "output_type": "stream",
     "text": [
      "soft dice: 0.78332 | loss: 0.25115 | hard dice: 0.78332 | bce: 0.02945\n"
     ]
    },
    {
     "name": "stderr",
     "output_type": "stream",
     "text": [
      "Epoch 93: 100% 2/2 [00:08<00:00,  4.14s/it, bce=0.04595, hard dice=0.75189, loss=0.29384, soft dice=0.75187]\n"
     ]
    },
    {
     "name": "stdout",
     "output_type": "stream",
     "text": [
      "soft dice: 0.78332 | loss: 0.25069 | hard dice: 0.78332 | bce: 0.02910\n"
     ]
    },
    {
     "name": "stderr",
     "output_type": "stream",
     "text": [
      "Epoch 94: 100% 2/2 [00:08<00:00,  4.13s/it, bce=0.03509, hard dice=0.37862, loss=0.65767, soft dice=0.37862]\n"
     ]
    },
    {
     "name": "stdout",
     "output_type": "stream",
     "text": [
      "soft dice: 0.78332 | loss: 0.25048 | hard dice: 0.78332 | bce: 0.02894\n"
     ]
    },
    {
     "name": "stderr",
     "output_type": "stream",
     "text": [
      "Epoch 95: 100% 2/2 [00:07<00:00,  3.87s/it, bce=0.03539, hard dice=0.37814, loss=0.65787, soft dice=0.37798]\n"
     ]
    },
    {
     "name": "stdout",
     "output_type": "stream",
     "text": [
      "soft dice: 0.78244 | loss: 0.24353 | hard dice: 0.78332 | bce: 0.02120\n"
     ]
    },
    {
     "name": "stderr",
     "output_type": "stream",
     "text": [
      "Epoch 96: 100% 2/2 [00:07<00:00,  3.72s/it, bce=0.02288, hard dice=0.81337, loss=0.21404, soft dice=0.80913]\n"
     ]
    },
    {
     "name": "stdout",
     "output_type": "stream",
     "text": [
      "soft dice: 0.78300 | loss: 0.24315 | hard dice: 0.78332 | bce: 0.02155\n"
     ]
    },
    {
     "name": "stderr",
     "output_type": "stream",
     "text": [
      "Epoch 97: 100% 2/2 [00:07<00:00,  3.56s/it, bce=0.03252, hard dice=0.68975, loss=0.35081, soft dice=0.68284]\n"
     ]
    },
    {
     "name": "stdout",
     "output_type": "stream",
     "text": [
      "soft dice: 0.78311 | loss: 0.24351 | hard dice: 0.78332 | bce: 0.02199\n"
     ]
    },
    {
     "name": "stderr",
     "output_type": "stream",
     "text": [
      "Epoch 98: 100% 2/2 [00:08<00:00,  4.03s/it, bce=0.02943, hard dice=0.62869, loss=0.40489, soft dice=0.62466]\n"
     ]
    },
    {
     "name": "stdout",
     "output_type": "stream",
     "text": [
      "soft dice: 0.78323 | loss: 0.24430 | hard dice: 0.78332 | bce: 0.02288\n"
     ]
    },
    {
     "name": "stderr",
     "output_type": "stream",
     "text": [
      "Epoch 99: 100% 2/2 [00:07<00:00,  3.90s/it, bce=0.03110, hard dice=0.75197, loss=0.28023, soft dice=0.75137]\n"
     ]
    },
    {
     "name": "stdout",
     "output_type": "stream",
     "text": [
      "soft dice: 0.78322 | loss: 0.24422 | hard dice: 0.78332 | bce: 0.02278\n"
     ]
    },
    {
     "name": "stderr",
     "output_type": "stream",
     "text": [
      "Epoch 100: 100% 2/2 [00:07<00:00,  3.95s/it, bce=0.04146, hard dice=0.87547, loss=0.16621, soft dice=0.87543]\n"
     ]
    },
    {
     "name": "stdout",
     "output_type": "stream",
     "text": [
      "soft dice: 0.78331 | loss: 0.24912 | hard dice: 0.78332 | bce: 0.02774\n"
     ]
    },
    {
     "name": "stderr",
     "output_type": "stream",
     "text": [
      "Epoch 101: 100% 2/2 [00:07<00:00,  3.65s/it, bce=0.03657, hard dice=0.50340, loss=0.53348, soft dice=0.50334]\n"
     ]
    },
    {
     "name": "stdout",
     "output_type": "stream",
     "text": [
      "soft dice: 0.78331 | loss: 0.24777 | hard dice: 0.78332 | bce: 0.02647\n"
     ]
    },
    {
     "name": "stderr",
     "output_type": "stream",
     "text": [
      "Epoch 102: 100% 2/2 [00:07<00:00,  3.88s/it, bce=0.02064, hard dice=0.69544, loss=0.38699, soft dice=0.69534]\n"
     ]
    },
    {
     "name": "stdout",
     "output_type": "stream",
     "text": [
      "soft dice: 0.78331 | loss: 0.24683 | hard dice: 0.78332 | bce: 0.02553\n"
     ]
    },
    {
     "name": "stderr",
     "output_type": "stream",
     "text": [
      "Epoch 103: 100% 2/2 [00:07<00:00,  3.97s/it, bce=0.02457, hard dice=0.69010, loss=0.33594, soft dice=0.68951]\n"
     ]
    },
    {
     "name": "stdout",
     "output_type": "stream",
     "text": [
      "soft dice: 0.78330 | loss: 0.24623 | hard dice: 0.78332 | bce: 0.02493\n"
     ]
    },
    {
     "name": "stderr",
     "output_type": "stream",
     "text": [
      "Epoch 104: 100% 2/2 [00:07<00:00,  3.68s/it, bce=0.03014, hard dice=0.75131, loss=0.27984, soft dice=0.75034]\n"
     ]
    },
    {
     "name": "stdout",
     "output_type": "stream",
     "text": [
      "soft dice: 0.78328 | loss: 0.24527 | hard dice: 0.78332 | bce: 0.02393\n"
     ]
    },
    {
     "name": "stderr",
     "output_type": "stream",
     "text": [
      "Epoch 105: 100% 2/2 [00:07<00:00,  3.97s/it, bce=0.02492, hard dice=0.87556, loss=0.15681, soft dice=0.86850]\n"
     ]
    },
    {
     "name": "stdout",
     "output_type": "stream",
     "text": [
      "soft dice: 0.78327 | loss: 0.24502 | hard dice: 0.78332 | bce: 0.02370\n"
     ]
    },
    {
     "name": "stderr",
     "output_type": "stream",
     "text": [
      "Epoch 106: 100% 2/2 [00:07<00:00,  3.96s/it, bce=0.02921, hard dice=0.50210, loss=0.52738, soft dice=0.50158]\n"
     ]
    },
    {
     "name": "stdout",
     "output_type": "stream",
     "text": [
      "soft dice: 0.78332 | loss: 0.24997 | hard dice: 0.78332 | bce: 0.02858\n"
     ]
    },
    {
     "name": "stderr",
     "output_type": "stream",
     "text": [
      "Epoch 107: 100% 2/2 [00:06<00:00,  3.46s/it, bce=0.04612, hard dice=0.68947, loss=0.35802, soft dice=0.68946]\n"
     ]
    },
    {
     "name": "stdout",
     "output_type": "stream",
     "text": [
      "soft dice: 0.78331 | loss: 0.24958 | hard dice: 0.78332 | bce: 0.02821\n"
     ]
    },
    {
     "name": "stderr",
     "output_type": "stream",
     "text": [
      "Epoch 108: 100% 2/2 [00:08<00:00,  4.41s/it, bce=0.04350, hard dice=0.56652, loss=0.47681, soft dice=0.56651]\n"
     ]
    },
    {
     "name": "stdout",
     "output_type": "stream",
     "text": [
      "soft dice: 0.78331 | loss: 0.24893 | hard dice: 0.78332 | bce: 0.02759\n"
     ]
    },
    {
     "name": "stderr",
     "output_type": "stream",
     "text": [
      "Epoch 109: 100% 2/2 [00:07<00:00,  3.58s/it, bce=0.03355, hard dice=0.50266, loss=0.53124, soft dice=0.50263]\n"
     ]
    },
    {
     "name": "stdout",
     "output_type": "stream",
     "text": [
      "soft dice: 0.78331 | loss: 0.24847 | hard dice: 0.78332 | bce: 0.02714\n"
     ]
    },
    {
     "name": "stderr",
     "output_type": "stream",
     "text": [
      "Epoch 110: 100% 2/2 [00:08<00:00,  4.22s/it, bce=0.02779, hard dice=0.56513, loss=0.50212, soft dice=0.56252]\n"
     ]
    },
    {
     "name": "stdout",
     "output_type": "stream",
     "text": [
      "soft dice: 0.78145 | loss: 0.24291 | hard dice: 0.78332 | bce: 0.01975\n"
     ]
    },
    {
     "name": "stderr",
     "output_type": "stream",
     "text": [
      "Epoch 111: 100% 2/2 [00:07<00:00,  3.93s/it, bce=0.03101, hard dice=0.87596, loss=0.16566, soft dice=0.86629]\n"
     ]
    },
    {
     "name": "stdout",
     "output_type": "stream",
     "text": [
      "soft dice: 0.78332 | loss: 0.25458 | hard dice: 0.78332 | bce: 0.03103\n"
     ]
    },
    {
     "name": "stderr",
     "output_type": "stream",
     "text": [
      "Epoch 112: 100% 2/2 [00:08<00:00,  4.39s/it, bce=0.04204, hard dice=0.62663, loss=0.41641, soft dice=0.62663]\n"
     ]
    },
    {
     "name": "stdout",
     "output_type": "stream",
     "text": [
      "soft dice: 0.78332 | loss: 0.25440 | hard dice: 0.78332 | bce: 0.03099\n"
     ]
    },
    {
     "name": "stderr",
     "output_type": "stream",
     "text": [
      "Epoch 113: 100% 2/2 [00:07<00:00,  3.84s/it, bce=0.03575, hard dice=0.93811, loss=0.09941, soft dice=0.93811]\n"
     ]
    },
    {
     "name": "stdout",
     "output_type": "stream",
     "text": [
      "soft dice: 0.78332 | loss: 0.25389 | hard dice: 0.78332 | bce: 0.03090\n"
     ]
    },
    {
     "name": "stderr",
     "output_type": "stream",
     "text": [
      "Epoch 114: 100% 2/2 [00:07<00:00,  3.70s/it, bce=0.04805, hard dice=0.31569, loss=0.77453, soft dice=0.31569]\n"
     ]
    },
    {
     "name": "stdout",
     "output_type": "stream",
     "text": [
      "soft dice: 0.78332 | loss: 0.25339 | hard dice: 0.78332 | bce: 0.03077\n"
     ]
    },
    {
     "name": "stderr",
     "output_type": "stream",
     "text": [
      "Epoch 115: 100% 2/2 [00:07<00:00,  3.63s/it, bce=0.03586, hard dice=0.62726, loss=0.41081, soft dice=0.62721]\n"
     ]
    },
    {
     "name": "stdout",
     "output_type": "stream",
     "text": [
      "soft dice: 0.78319 | loss: 0.24413 | hard dice: 0.78332 | bce: 0.02267\n"
     ]
    },
    {
     "name": "stderr",
     "output_type": "stream",
     "text": [
      "Epoch 116: 100% 2/2 [00:07<00:00,  3.99s/it, bce=0.03510, hard dice=0.69105, loss=0.35060, soft dice=0.68717]\n"
     ]
    },
    {
     "name": "stdout",
     "output_type": "stream",
     "text": [
      "soft dice: 0.78331 | loss: 0.24668 | hard dice: 0.78332 | bce: 0.02541\n"
     ]
    },
    {
     "name": "stderr",
     "output_type": "stream",
     "text": [
      "Epoch 117: 100% 2/2 [00:08<00:00,  4.04s/it, bce=0.03684, hard dice=0.81334, loss=0.22331, soft dice=0.81330]\n"
     ]
    },
    {
     "name": "stdout",
     "output_type": "stream",
     "text": [
      "soft dice: 0.78331 | loss: 0.24661 | hard dice: 0.78332 | bce: 0.02532\n"
     ]
    },
    {
     "name": "stderr",
     "output_type": "stream",
     "text": [
      "Epoch 118: 100% 2/2 [00:07<00:00,  3.56s/it, bce=0.03820, hard dice=0.93816, loss=0.10101, soft dice=0.93802]\n"
     ]
    },
    {
     "name": "stdout",
     "output_type": "stream",
     "text": [
      "soft dice: 0.78330 | loss: 0.24626 | hard dice: 0.78332 | bce: 0.02496\n"
     ]
    },
    {
     "name": "stderr",
     "output_type": "stream",
     "text": [
      "Epoch 119: 100% 2/2 [00:07<00:00,  3.84s/it, bce=0.02914, hard dice=0.81513, loss=0.21533, soft dice=0.81473]\n"
     ]
    },
    {
     "name": "stdout",
     "output_type": "stream",
     "text": [
      "soft dice: 0.78330 | loss: 0.24597 | hard dice: 0.78332 | bce: 0.02467\n"
     ]
    },
    {
     "name": "stderr",
     "output_type": "stream",
     "text": [
      "Epoch 120: 100% 2/2 [00:08<00:00,  4.16s/it, bce=0.03747, hard dice=0.50364, loss=0.53432, soft dice=0.50312]\n"
     ]
    },
    {
     "name": "stdout",
     "output_type": "stream",
     "text": [
      "soft dice: 0.78075 | loss: 0.24304 | hard dice: 0.78332 | bce: 0.01926\n"
     ]
    },
    {
     "name": "stderr",
     "output_type": "stream",
     "text": [
      "Epoch 121: 100% 2/2 [00:08<00:00,  4.13s/it, bce=0.02110, hard dice=0.75079, loss=0.27186, soft dice=0.74918]\n"
     ]
    },
    {
     "name": "stdout",
     "output_type": "stream",
     "text": [
      "soft dice: 0.78106 | loss: 0.24281 | hard dice: 0.78332 | bce: 0.01937\n"
     ]
    },
    {
     "name": "stderr",
     "output_type": "stream",
     "text": [
      "Epoch 122: 100% 2/2 [00:07<00:00,  3.90s/it, bce=0.02856, hard dice=0.69069, loss=0.36892, soft dice=0.66154]\n"
     ]
    },
    {
     "name": "stdout",
     "output_type": "stream",
     "text": [
      "soft dice: 0.78308 | loss: 0.24317 | hard dice: 0.78332 | bce: 0.02162\n"
     ]
    },
    {
     "name": "stderr",
     "output_type": "stream",
     "text": [
      "Epoch 123: 100% 2/2 [00:07<00:00,  3.86s/it, bce=0.02782, hard dice=0.75221, loss=0.27924, soft dice=0.74884]\n"
     ]
    },
    {
     "name": "stdout",
     "output_type": "stream",
     "text": [
      "soft dice: 0.78329 | loss: 0.24545 | hard dice: 0.78332 | bce: 0.02411\n"
     ]
    },
    {
     "name": "stderr",
     "output_type": "stream",
     "text": [
      "Epoch 124: 100% 2/2 [00:08<00:00,  4.34s/it, bce=0.04206, hard dice=0.50213, loss=0.54104, soft dice=0.50168]\n"
     ]
    },
    {
     "name": "stdout",
     "output_type": "stream",
     "text": [
      "soft dice: 0.78328 | loss: 0.24504 | hard dice: 0.78332 | bce: 0.02367\n"
     ]
    },
    {
     "name": "stderr",
     "output_type": "stream",
     "text": [
      "Epoch 125: 100% 2/2 [00:07<00:00,  3.95s/it, bce=0.02133, hard dice=0.87657, loss=0.14472, soft dice=0.87657]\n"
     ]
    },
    {
     "name": "stdout",
     "output_type": "stream",
     "text": [
      "soft dice: 0.78332 | loss: 0.25972 | hard dice: 0.78332 | bce: 0.03119\n"
     ]
    },
    {
     "name": "stderr",
     "output_type": "stream",
     "text": [
      "Epoch 126: 100% 2/2 [00:07<00:00,  3.94s/it, bce=0.03906, hard dice=0.68955, loss=0.35543, soft dice=0.68955]\n"
     ]
    },
    {
     "name": "stdout",
     "output_type": "stream",
     "text": [
      "soft dice: 0.78332 | loss: 0.26420 | hard dice: 0.78332 | bce: 0.03120\n"
     ]
    },
    {
     "name": "stderr",
     "output_type": "stream",
     "text": [
      "Epoch 127: 100% 2/2 [00:07<00:00,  3.52s/it, bce=0.03489, hard dice=0.69019, loss=0.35317, soft dice=0.69019]\n"
     ]
    },
    {
     "name": "stdout",
     "output_type": "stream",
     "text": [
      "soft dice: 0.78332 | loss: 0.26278 | hard dice: 0.78332 | bce: 0.03120\n"
     ]
    },
    {
     "name": "stderr",
     "output_type": "stream",
     "text": [
      "Epoch 128: 100% 2/2 [00:07<00:00,  3.73s/it, bce=0.03412, hard dice=0.69117, loss=0.34804, soft dice=0.69117]\n"
     ]
    },
    {
     "name": "stdout",
     "output_type": "stream",
     "text": [
      "soft dice: 0.78332 | loss: 0.26070 | hard dice: 0.78332 | bce: 0.03120\n"
     ]
    },
    {
     "name": "stderr",
     "output_type": "stream",
     "text": [
      "Epoch 129: 100% 2/2 [00:06<00:00,  3.47s/it, bce=0.03041, hard dice=0.75239, loss=0.28469, soft dice=0.75239]\n"
     ]
    },
    {
     "name": "stdout",
     "output_type": "stream",
     "text": [
      "soft dice: 0.78332 | loss: 0.25911 | hard dice: 0.78332 | bce: 0.03119\n"
     ]
    },
    {
     "name": "stderr",
     "output_type": "stream",
     "text": [
      "Epoch 130: 100% 2/2 [00:07<00:00,  3.87s/it, bce=0.04724, hard dice=0.56435, loss=0.48571, soft dice=0.56425]\n"
     ]
    },
    {
     "name": "stdout",
     "output_type": "stream",
     "text": [
      "soft dice: 0.78279 | loss: 0.24735 | hard dice: 0.78332 | bce: 0.02528\n"
     ]
    },
    {
     "name": "stderr",
     "output_type": "stream",
     "text": [
      "Epoch 131: 100% 2/2 [00:07<00:00,  3.78s/it, bce=0.02866, hard dice=0.69075, loss=0.34683, soft dice=0.68422]\n"
     ]
    },
    {
     "name": "stdout",
     "output_type": "stream",
     "text": [
      "soft dice: 0.78318 | loss: 0.24385 | hard dice: 0.78332 | bce: 0.02244\n"
     ]
    },
    {
     "name": "stderr",
     "output_type": "stream",
     "text": [
      "Epoch 132: 100% 2/2 [00:07<00:00,  3.66s/it, bce=0.02460, hard dice=0.75323, loss=0.38763, soft dice=0.75027]\n"
     ]
    },
    {
     "name": "stdout",
     "output_type": "stream",
     "text": [
      "soft dice: 0.78320 | loss: 0.24405 | hard dice: 0.78332 | bce: 0.02262\n"
     ]
    },
    {
     "name": "stderr",
     "output_type": "stream",
     "text": [
      "Epoch 133: 100% 2/2 [00:08<00:00,  4.28s/it, bce=0.03126, hard dice=0.62728, loss=0.40429, soft dice=0.62689]\n"
     ]
    },
    {
     "name": "stdout",
     "output_type": "stream",
     "text": [
      "soft dice: 0.78323 | loss: 0.24435 | hard dice: 0.78332 | bce: 0.02293\n"
     ]
    },
    {
     "name": "stderr",
     "output_type": "stream",
     "text": [
      "Epoch 134: 100% 2/2 [00:07<00:00,  3.55s/it, bce=0.02725, hard dice=0.44272, loss=0.58633, soft dice=0.44211]\n"
     ]
    },
    {
     "name": "stdout",
     "output_type": "stream",
     "text": [
      "soft dice: 0.78320 | loss: 0.24401 | hard dice: 0.78332 | bce: 0.02254\n"
     ]
    },
    {
     "name": "stderr",
     "output_type": "stream",
     "text": [
      "Epoch 135: 100% 2/2 [00:07<00:00,  3.94s/it, bce=0.03287, hard dice=0.68956, loss=0.34456, soft dice=0.68839]\n"
     ]
    },
    {
     "name": "stdout",
     "output_type": "stream",
     "text": [
      "soft dice: 0.78322 | loss: 0.24429 | hard dice: 0.78332 | bce: 0.02274\n"
     ]
    },
    {
     "name": "stderr",
     "output_type": "stream",
     "text": [
      "Epoch 136: 100% 2/2 [00:07<00:00,  3.63s/it, bce=0.02306, hard dice=0.81392, loss=0.21318, soft dice=0.80990]\n"
     ]
    },
    {
     "name": "stdout",
     "output_type": "stream",
     "text": [
      "soft dice: 0.78326 | loss: 0.24485 | hard dice: 0.78332 | bce: 0.02328\n"
     ]
    },
    {
     "name": "stderr",
     "output_type": "stream",
     "text": [
      "Epoch 137: 100% 2/2 [00:07<00:00,  3.61s/it, bce=0.02524, hard dice=0.62721, loss=0.39933, soft dice=0.62635]\n"
     ]
    },
    {
     "name": "stdout",
     "output_type": "stream",
     "text": [
      "soft dice: 0.78326 | loss: 0.24479 | hard dice: 0.78332 | bce: 0.02322\n"
     ]
    },
    {
     "name": "stderr",
     "output_type": "stream",
     "text": [
      "Epoch 138: 100% 2/2 [00:07<00:00,  3.71s/it, bce=0.02886, hard dice=0.75279, loss=0.27739, soft dice=0.75200]\n"
     ]
    },
    {
     "name": "stdout",
     "output_type": "stream",
     "text": [
      "soft dice: 0.78324 | loss: 0.24455 | hard dice: 0.78332 | bce: 0.02295\n"
     ]
    },
    {
     "name": "stderr",
     "output_type": "stream",
     "text": [
      "Epoch 139: 100% 2/2 [00:07<00:00,  3.77s/it, bce=0.02965, hard dice=0.72426, loss=0.34081, soft dice=0.72319]\n"
     ]
    },
    {
     "name": "stdout",
     "output_type": "stream",
     "text": [
      "soft dice: 0.78320 | loss: 0.24410 | hard dice: 0.78332 | bce: 0.02244\n"
     ]
    },
    {
     "name": "stderr",
     "output_type": "stream",
     "text": [
      "Epoch 140: 100% 2/2 [00:08<00:00,  4.25s/it, bce=0.02332, hard dice=0.87584, loss=0.14883, soft dice=0.87495]\n"
     ]
    },
    {
     "name": "stdout",
     "output_type": "stream",
     "text": [
      "soft dice: 0.78285 | loss: 0.24291 | hard dice: 0.78332 | bce: 0.02096\n"
     ]
    },
    {
     "name": "stderr",
     "output_type": "stream",
     "text": [
      "Epoch 141: 100% 2/2 [00:08<00:00,  4.06s/it, bce=0.03677, hard dice=0.37753, loss=0.66374, soft dice=0.37408]\n"
     ]
    },
    {
     "name": "stdout",
     "output_type": "stream",
     "text": [
      "soft dice: 0.78326 | loss: 0.24485 | hard dice: 0.78332 | bce: 0.02337\n"
     ]
    },
    {
     "name": "stderr",
     "output_type": "stream",
     "text": [
      "Epoch 142: 100% 2/2 [00:08<00:00,  4.00s/it, bce=0.02472, hard dice=0.87681, loss=0.14902, soft dice=0.87645]\n"
     ]
    },
    {
     "name": "stdout",
     "output_type": "stream",
     "text": [
      "soft dice: 0.78322 | loss: 0.24422 | hard dice: 0.78332 | bce: 0.02269\n"
     ]
    },
    {
     "name": "stderr",
     "output_type": "stream",
     "text": [
      "Epoch 143: 100% 2/2 [00:07<00:00,  3.72s/it, bce=0.01854, hard dice=0.56407, loss=0.45643, soft dice=0.56322]\n"
     ]
    },
    {
     "name": "stdout",
     "output_type": "stream",
     "text": [
      "soft dice: 0.78315 | loss: 0.24365 | hard dice: 0.78332 | bce: 0.02204\n"
     ]
    },
    {
     "name": "stderr",
     "output_type": "stream",
     "text": [
      "Epoch 144: 100% 2/2 [00:07<00:00,  3.65s/it, bce=0.02122, hard dice=0.62760, loss=0.39761, soft dice=0.62401]\n"
     ]
    },
    {
     "name": "stdout",
     "output_type": "stream",
     "text": [
      "soft dice: 0.78305 | loss: 0.24323 | hard dice: 0.78332 | bce: 0.02152\n"
     ]
    },
    {
     "name": "stderr",
     "output_type": "stream",
     "text": [
      "Epoch 145: 100% 2/2 [00:07<00:00,  3.83s/it, bce=0.02727, hard dice=0.81451, loss=0.21511, soft dice=0.81241]\n"
     ]
    },
    {
     "name": "stdout",
     "output_type": "stream",
     "text": [
      "soft dice: 0.78331 | loss: 0.24774 | hard dice: 0.78332 | bce: 0.02635\n"
     ]
    },
    {
     "name": "stderr",
     "output_type": "stream",
     "text": [
      "Epoch 146: 100% 2/2 [00:08<00:00,  4.06s/it, bce=0.03333, hard dice=0.75226, loss=0.28052, soft dice=0.75204]\n"
     ]
    },
    {
     "name": "stdout",
     "output_type": "stream",
     "text": [
      "soft dice: 0.78331 | loss: 0.24810 | hard dice: 0.78332 | bce: 0.02676\n"
     ]
    },
    {
     "name": "stderr",
     "output_type": "stream",
     "text": [
      "Epoch 147: 100% 2/2 [00:07<00:00,  3.89s/it, bce=0.03562, hard dice=0.75183, loss=0.28449, soft dice=0.75177]\n"
     ]
    },
    {
     "name": "stdout",
     "output_type": "stream",
     "text": [
      "soft dice: 0.78331 | loss: 0.24712 | hard dice: 0.78332 | bce: 0.02580\n"
     ]
    },
    {
     "name": "stderr",
     "output_type": "stream",
     "text": [
      "Epoch 148: 100% 2/2 [00:08<00:00,  4.14s/it, bce=0.02761, hard dice=0.81522, loss=0.21270, soft dice=0.81502]\n"
     ]
    },
    {
     "name": "stdout",
     "output_type": "stream",
     "text": [
      "soft dice: 0.78330 | loss: 0.24578 | hard dice: 0.78332 | bce: 0.02445\n"
     ]
    },
    {
     "name": "stderr",
     "output_type": "stream",
     "text": [
      "Epoch 149: 100% 2/2 [00:08<00:00,  4.23s/it, bce=0.03335, hard dice=0.56533, loss=0.46869, soft dice=0.56505]\n"
     ]
    },
    {
     "name": "stdout",
     "output_type": "stream",
     "text": [
      "soft dice: 0.78328 | loss: 0.24519 | hard dice: 0.78332 | bce: 0.02385\n",
      "Finished train fold: 0 with best loss 0.24272 on epoch 90\n",
      "\n"
     ]
    },
    {
     "name": "stderr",
     "output_type": "stream",
     "text": [
      "Epoch 0: 100% 2/2 [00:07<00:00,  3.82s/it, bce=0.34220, hard dice=0.25353, loss=1.33925, soft dice=0.00325]\n"
     ]
    },
    {
     "name": "stdout",
     "output_type": "stream",
     "text": [
      "soft dice: 0.83417 | loss: 508.76761 | hard dice: 0.83417 | bce: 0.02524\n"
     ]
    },
    {
     "name": "stderr",
     "output_type": "stream",
     "text": [
      "Epoch 1: 100% 2/2 [00:08<00:00,  4.08s/it, bce=0.03538, hard dice=0.87633, loss=0.70973, soft dice=0.47112]\n"
     ]
    },
    {
     "name": "stdout",
     "output_type": "stream",
     "text": [
      "soft dice: 0.83417 | loss: 3099.83044 | hard dice: 0.83417 | bce: 0.02524\n"
     ]
    },
    {
     "name": "stderr",
     "output_type": "stream",
     "text": [
      "Epoch 2: 100% 2/2 [00:08<00:00,  4.05s/it, bce=0.04706, hard dice=0.75147, loss=0.37486, soft dice=0.75147]\n"
     ]
    },
    {
     "name": "stdout",
     "output_type": "stream",
     "text": [
      "soft dice: 0.83417 | loss: 33.40591 | hard dice: 0.83417 | bce: 0.02524\n"
     ]
    },
    {
     "name": "stderr",
     "output_type": "stream",
     "text": [
      "Epoch 3: 100% 2/2 [00:07<00:00,  3.86s/it, bce=0.04311, hard dice=0.44116, loss=0.61034, soft dice=0.44114]\n"
     ]
    },
    {
     "name": "stdout",
     "output_type": "stream",
     "text": [
      "soft dice: 0.83417 | loss: 6.34555 | hard dice: 0.83417 | bce: 0.02524\n"
     ]
    },
    {
     "name": "stderr",
     "output_type": "stream",
     "text": [
      "Epoch 4: 100% 2/2 [00:08<00:00,  4.30s/it, bce=0.03041, hard dice=0.81405, loss=0.29860, soft dice=0.80319]\n"
     ]
    },
    {
     "name": "stdout",
     "output_type": "stream",
     "text": [
      "soft dice: 0.83417 | loss: 62.83271 | hard dice: 0.83417 | bce: 0.02524\n"
     ]
    },
    {
     "name": "stderr",
     "output_type": "stream",
     "text": [
      "Epoch 5: 100% 2/2 [00:07<00:00,  3.87s/it, bce=0.04699, hard dice=0.56437, loss=0.52728, soft dice=0.56437]\n"
     ]
    },
    {
     "name": "stdout",
     "output_type": "stream",
     "text": [
      "soft dice: 0.83417 | loss: 1.52154 | hard dice: 0.83417 | bce: 0.02524\n"
     ]
    },
    {
     "name": "stderr",
     "output_type": "stream",
     "text": [
      "Epoch 6: 100% 2/2 [00:07<00:00,  3.56s/it, bce=0.03923, hard dice=0.56505, loss=0.47945, soft dice=0.56499]\n"
     ]
    },
    {
     "name": "stdout",
     "output_type": "stream",
     "text": [
      "soft dice: 0.83417 | loss: 0.41877 | hard dice: 0.83417 | bce: 0.02487\n"
     ]
    },
    {
     "name": "stderr",
     "output_type": "stream",
     "text": [
      "Epoch 7: 100% 2/2 [00:08<00:00,  4.25s/it, bce=0.03855, hard dice=0.56428, loss=0.48785, soft dice=0.55271]\n"
     ]
    },
    {
     "name": "stdout",
     "output_type": "stream",
     "text": [
      "soft dice: 0.83417 | loss: 0.43054 | hard dice: 0.83417 | bce: 0.02430\n"
     ]
    },
    {
     "name": "stderr",
     "output_type": "stream",
     "text": [
      "Epoch 8: 100% 2/2 [00:08<00:00,  4.15s/it, bce=0.03894, hard dice=0.56529, loss=0.53332, soft dice=0.56503]\n"
     ]
    },
    {
     "name": "stdout",
     "output_type": "stream",
     "text": [
      "soft dice: 0.83417 | loss: 0.58538 | hard dice: 0.83417 | bce: 0.02484\n"
     ]
    },
    {
     "name": "stderr",
     "output_type": "stream",
     "text": [
      "Epoch 9: 100% 2/2 [00:07<00:00,  3.83s/it, bce=0.03345, hard dice=0.81434, loss=0.22672, soft dice=0.81433]\n"
     ]
    },
    {
     "name": "stdout",
     "output_type": "stream",
     "text": [
      "soft dice: 0.83417 | loss: 0.45117 | hard dice: 0.83417 | bce: 0.02497\n"
     ]
    },
    {
     "name": "stderr",
     "output_type": "stream",
     "text": [
      "Epoch 10: 100% 2/2 [00:07<00:00,  3.94s/it, bce=0.04392, hard dice=0.75059, loss=0.30302, soft dice=0.75054]\n"
     ]
    },
    {
     "name": "stdout",
     "output_type": "stream",
     "text": [
      "soft dice: 0.83417 | loss: 0.43712 | hard dice: 0.83417 | bce: 0.02505\n"
     ]
    },
    {
     "name": "stderr",
     "output_type": "stream",
     "text": [
      "Epoch 11: 100% 2/2 [00:08<00:00,  4.26s/it, bce=0.04202, hard dice=0.68946, loss=0.46011, soft dice=0.59254]\n"
     ]
    },
    {
     "name": "stdout",
     "output_type": "stream",
     "text": [
      "soft dice: 0.83417 | loss: 0.41664 | hard dice: 0.83417 | bce: 0.02522\n"
     ]
    },
    {
     "name": "stderr",
     "output_type": "stream",
     "text": [
      "Epoch 12: 100% 2/2 [00:08<00:00,  4.03s/it, bce=0.03944, hard dice=0.62610, loss=0.41690, soft dice=0.62610]\n"
     ]
    },
    {
     "name": "stdout",
     "output_type": "stream",
     "text": [
      "soft dice: 0.83417 | loss: 0.25634 | hard dice: 0.83417 | bce: 0.02520\n"
     ]
    },
    {
     "name": "stderr",
     "output_type": "stream",
     "text": [
      "Epoch 13: 100% 2/2 [00:07<00:00,  3.69s/it, bce=0.04425, hard dice=0.50319, loss=0.54792, soft dice=0.50319]\n"
     ]
    },
    {
     "name": "stdout",
     "output_type": "stream",
     "text": [
      "soft dice: 0.83417 | loss: 0.22507 | hard dice: 0.83417 | bce: 0.02516\n"
     ]
    },
    {
     "name": "stderr",
     "output_type": "stream",
     "text": [
      "Epoch 14: 100% 2/2 [00:07<00:00,  3.60s/it, bce=0.04526, hard dice=0.62710, loss=0.42666, soft dice=0.62710]\n"
     ]
    },
    {
     "name": "stdout",
     "output_type": "stream",
     "text": [
      "soft dice: 0.83417 | loss: 0.20852 | hard dice: 0.83417 | bce: 0.02510\n"
     ]
    },
    {
     "name": "stderr",
     "output_type": "stream",
     "text": [
      "Epoch 15: 100% 2/2 [00:07<00:00,  3.84s/it, bce=0.04561, hard dice=0.75124, loss=0.30426, soft dice=0.75124]\n"
     ]
    },
    {
     "name": "stdout",
     "output_type": "stream",
     "text": [
      "soft dice: 0.83417 | loss: 0.20096 | hard dice: 0.83417 | bce: 0.02499\n"
     ]
    },
    {
     "name": "stderr",
     "output_type": "stream",
     "text": [
      "Epoch 16: 100% 2/2 [00:07<00:00,  3.58s/it, bce=0.06109, hard dice=0.50472, loss=0.55878, soft dice=0.50472]\n"
     ]
    },
    {
     "name": "stdout",
     "output_type": "stream",
     "text": [
      "soft dice: 0.83417 | loss: 0.19773 | hard dice: 0.83417 | bce: 0.02471\n"
     ]
    },
    {
     "name": "stderr",
     "output_type": "stream",
     "text": [
      "Epoch 17: 100% 2/2 [00:07<00:00,  3.99s/it, bce=0.05296, hard dice=0.68921, loss=0.39800, soft dice=0.68921]\n"
     ]
    },
    {
     "name": "stdout",
     "output_type": "stream",
     "text": [
      "soft dice: 0.83417 | loss: 0.19590 | hard dice: 0.83417 | bce: 0.02402\n"
     ]
    },
    {
     "name": "stderr",
     "output_type": "stream",
     "text": [
      "Epoch 18: 100% 2/2 [00:08<00:00,  4.13s/it, bce=0.04465, hard dice=0.44045, loss=0.60482, soft dice=0.44043]\n"
     ]
    },
    {
     "name": "stdout",
     "output_type": "stream",
     "text": [
      "soft dice: 0.83417 | loss: 0.19403 | hard dice: 0.83417 | bce: 0.02291\n"
     ]
    },
    {
     "name": "stderr",
     "output_type": "stream",
     "text": [
      "Epoch 19: 100% 2/2 [00:07<00:00,  3.65s/it, bce=0.03955, hard dice=0.87558, loss=0.16550, soft dice=0.87557]\n"
     ]
    },
    {
     "name": "stdout",
     "output_type": "stream",
     "text": [
      "soft dice: 0.83417 | loss: 0.19258 | hard dice: 0.83417 | bce: 0.02167\n"
     ]
    },
    {
     "name": "stderr",
     "output_type": "stream",
     "text": [
      "Epoch 20: 100% 2/2 [00:07<00:00,  3.54s/it, bce=0.03249, hard dice=0.44041, loss=0.59467, soft dice=0.44032]\n"
     ]
    },
    {
     "name": "stdout",
     "output_type": "stream",
     "text": [
      "soft dice: 0.83416 | loss: 0.19100 | hard dice: 0.83417 | bce: 0.02013\n"
     ]
    },
    {
     "name": "stderr",
     "output_type": "stream",
     "text": [
      "Epoch 21: 100% 2/2 [00:07<00:00,  3.78s/it, bce=0.01635, hard dice=0.69378, loss=0.32683, soft dice=0.69212]\n"
     ]
    },
    {
     "name": "stdout",
     "output_type": "stream",
     "text": [
      "soft dice: 0.83412 | loss: 0.18976 | hard dice: 0.83417 | bce: 0.01890\n"
     ]
    },
    {
     "name": "stderr",
     "output_type": "stream",
     "text": [
      "Epoch 22: 100% 2/2 [00:08<00:00,  4.06s/it, bce=0.02937, hard dice=0.87682, loss=0.21808, soft dice=0.87253]\n"
     ]
    },
    {
     "name": "stdout",
     "output_type": "stream",
     "text": [
      "soft dice: 0.83406 | loss: 0.18910 | hard dice: 0.83417 | bce: 0.01817\n"
     ]
    },
    {
     "name": "stderr",
     "output_type": "stream",
     "text": [
      "Epoch 23: 100% 2/2 [00:07<00:00,  3.88s/it, bce=0.02955, hard dice=0.75159, loss=0.28120, soft dice=0.75112]\n"
     ]
    },
    {
     "name": "stdout",
     "output_type": "stream",
     "text": [
      "soft dice: 0.83402 | loss: 0.18888 | hard dice: 0.83417 | bce: 0.01789\n"
     ]
    },
    {
     "name": "stderr",
     "output_type": "stream",
     "text": [
      "Epoch 24: 100% 2/2 [00:07<00:00,  3.72s/it, bce=0.04076, hard dice=0.44056, loss=0.60275, soft dice=0.43960]\n"
     ]
    },
    {
     "name": "stdout",
     "output_type": "stream",
     "text": [
      "soft dice: 0.83397 | loss: 0.18878 | hard dice: 0.83417 | bce: 0.01771\n"
     ]
    },
    {
     "name": "stderr",
     "output_type": "stream",
     "text": [
      "Epoch 25: 100% 2/2 [00:07<00:00,  3.97s/it, bce=0.02617, hard dice=0.87803, loss=0.15621, soft dice=0.87333]\n"
     ]
    },
    {
     "name": "stdout",
     "output_type": "stream",
     "text": [
      "soft dice: 0.83394 | loss: 0.18872 | hard dice: 0.83417 | bce: 0.01763\n"
     ]
    },
    {
     "name": "stderr",
     "output_type": "stream",
     "text": [
      "Epoch 26: 100% 2/2 [00:07<00:00,  3.98s/it, bce=0.02543, hard dice=0.93872, loss=0.08872, soft dice=0.93826]\n"
     ]
    },
    {
     "name": "stdout",
     "output_type": "stream",
     "text": [
      "soft dice: 0.83405 | loss: 0.18901 | hard dice: 0.83417 | bce: 0.01813\n"
     ]
    },
    {
     "name": "stderr",
     "output_type": "stream",
     "text": [
      "Epoch 27: 100% 2/2 [00:07<00:00,  3.76s/it, bce=0.03348, hard dice=0.50263, loss=0.53460, soft dice=0.50242]\n"
     ]
    },
    {
     "name": "stdout",
     "output_type": "stream",
     "text": [
      "soft dice: 0.83408 | loss: 0.18920 | hard dice: 0.83417 | bce: 0.01841\n"
     ]
    },
    {
     "name": "stderr",
     "output_type": "stream",
     "text": [
      "Epoch 28: 100% 2/2 [00:07<00:00,  3.88s/it, bce=0.02017, hard dice=0.75277, loss=0.26954, soft dice=0.75239]\n"
     ]
    },
    {
     "name": "stdout",
     "output_type": "stream",
     "text": [
      "soft dice: 0.83411 | loss: 0.18956 | hard dice: 0.83417 | bce: 0.01881\n"
     ]
    },
    {
     "name": "stderr",
     "output_type": "stream",
     "text": [
      "Epoch 29: 100% 2/2 [00:07<00:00,  3.72s/it, bce=0.02938, hard dice=0.56482, loss=0.46768, soft dice=0.56209]\n"
     ]
    },
    {
     "name": "stdout",
     "output_type": "stream",
     "text": [
      "soft dice: 0.83409 | loss: 0.18925 | hard dice: 0.83417 | bce: 0.01849\n",
      "Starting cyclic lr\n"
     ]
    },
    {
     "name": "stderr",
     "output_type": "stream",
     "text": [
      "Epoch 30: 100% 2/2 [00:07<00:00,  3.99s/it, bce=0.04806, hard dice=0.50254, loss=0.54907, soft dice=0.50091]\n"
     ]
    },
    {
     "name": "stdout",
     "output_type": "stream",
     "text": [
      "soft dice: 0.83408 | loss: 0.19154 | hard dice: 0.83417 | bce: 0.01850\n"
     ]
    },
    {
     "name": "stderr",
     "output_type": "stream",
     "text": [
      "Epoch 31: 100% 2/2 [00:07<00:00,  3.69s/it, bce=0.03018, hard dice=0.81443, loss=0.26933, soft dice=0.78644]\n"
     ]
    },
    {
     "name": "stdout",
     "output_type": "stream",
     "text": [
      "soft dice: 0.83417 | loss: 0.20011 | hard dice: 0.83417 | bce: 0.02523\n"
     ]
    },
    {
     "name": "stderr",
     "output_type": "stream",
     "text": [
      "Epoch 32: 100% 2/2 [00:07<00:00,  3.91s/it, bce=0.04582, hard dice=0.75180, loss=0.30746, soft dice=0.75180]\n"
     ]
    },
    {
     "name": "stdout",
     "output_type": "stream",
     "text": [
      "soft dice: 0.83417 | loss: 0.20014 | hard dice: 0.83417 | bce: 0.02523\n"
     ]
    },
    {
     "name": "stderr",
     "output_type": "stream",
     "text": [
      "Epoch 33: 100% 2/2 [00:07<00:00,  3.89s/it, bce=0.03814, hard dice=0.44247, loss=0.60756, soft dice=0.44247]\n"
     ]
    },
    {
     "name": "stdout",
     "output_type": "stream",
     "text": [
      "soft dice: 0.83417 | loss: 0.19919 | hard dice: 0.83417 | bce: 0.02518\n"
     ]
    },
    {
     "name": "stderr",
     "output_type": "stream",
     "text": [
      "Epoch 34: 100% 2/2 [00:07<00:00,  3.72s/it, bce=0.04529, hard dice=0.56622, loss=0.55148, soft dice=0.56622]\n"
     ]
    },
    {
     "name": "stdout",
     "output_type": "stream",
     "text": [
      "soft dice: 0.83417 | loss: 0.19895 | hard dice: 0.83417 | bce: 0.02512\n"
     ]
    },
    {
     "name": "stderr",
     "output_type": "stream",
     "text": [
      "Epoch 35: 100% 2/2 [00:07<00:00,  3.99s/it, bce=0.02890, hard dice=0.75258, loss=0.28211, soft dice=0.74914]\n"
     ]
    },
    {
     "name": "stdout",
     "output_type": "stream",
     "text": [
      "soft dice: 0.83413 | loss: 0.18971 | hard dice: 0.83417 | bce: 0.01872\n"
     ]
    },
    {
     "name": "stderr",
     "output_type": "stream",
     "text": [
      "Epoch 36: 100% 2/2 [00:07<00:00,  3.75s/it, bce=0.02961, hard dice=0.43946, loss=0.63412, soft dice=0.41399]\n"
     ]
    },
    {
     "name": "stdout",
     "output_type": "stream",
     "text": [
      "soft dice: 0.83416 | loss: 0.19121 | hard dice: 0.83417 | bce: 0.02008\n"
     ]
    },
    {
     "name": "stderr",
     "output_type": "stream",
     "text": [
      "Epoch 37: 100% 2/2 [00:07<00:00,  3.78s/it, bce=0.03335, hard dice=0.75106, loss=0.28623, soft dice=0.75097]\n"
     ]
    },
    {
     "name": "stdout",
     "output_type": "stream",
     "text": [
      "soft dice: 0.83417 | loss: 0.19117 | hard dice: 0.83417 | bce: 0.02039\n"
     ]
    },
    {
     "name": "stderr",
     "output_type": "stream",
     "text": [
      "Epoch 38: 100% 2/2 [00:07<00:00,  3.86s/it, bce=0.05390, hard dice=0.68865, loss=0.36673, soft dice=0.68848]\n"
     ]
    },
    {
     "name": "stdout",
     "output_type": "stream",
     "text": [
      "soft dice: 0.83417 | loss: 0.19147 | hard dice: 0.83417 | bce: 0.02071\n"
     ]
    },
    {
     "name": "stderr",
     "output_type": "stream",
     "text": [
      "Epoch 39: 100% 2/2 [00:07<00:00,  3.88s/it, bce=0.03134, hard dice=0.51664, loss=0.52773, soft dice=0.51650]\n"
     ]
    },
    {
     "name": "stdout",
     "output_type": "stream",
     "text": [
      "soft dice: 0.83417 | loss: 0.19120 | hard dice: 0.83417 | bce: 0.02044\n"
     ]
    },
    {
     "name": "stderr",
     "output_type": "stream",
     "text": [
      "Epoch 40: 100% 2/2 [00:07<00:00,  3.73s/it, bce=0.01991, hard dice=0.69133, loss=0.33419, soft dice=0.68799]\n"
     ]
    },
    {
     "name": "stdout",
     "output_type": "stream",
     "text": [
      "soft dice: 0.83414 | loss: 0.18994 | hard dice: 0.83417 | bce: 0.01904\n"
     ]
    },
    {
     "name": "stderr",
     "output_type": "stream",
     "text": [
      "Epoch 41: 100% 2/2 [00:07<00:00,  3.89s/it, bce=0.02891, hard dice=0.81690, loss=0.21708, soft dice=0.81480]\n"
     ]
    },
    {
     "name": "stdout",
     "output_type": "stream",
     "text": [
      "soft dice: 0.83417 | loss: 0.19215 | hard dice: 0.83417 | bce: 0.02096\n"
     ]
    },
    {
     "name": "stderr",
     "output_type": "stream",
     "text": [
      "Epoch 42: 100% 2/2 [00:08<00:00,  4.10s/it, bce=0.02516, hard dice=0.81353, loss=0.21242, soft dice=0.81263]\n"
     ]
    },
    {
     "name": "stdout",
     "output_type": "stream",
     "text": [
      "soft dice: 0.83417 | loss: 0.19155 | hard dice: 0.83417 | bce: 0.02048\n"
     ]
    },
    {
     "name": "stderr",
     "output_type": "stream",
     "text": [
      "Epoch 43: 100% 2/2 [00:07<00:00,  3.86s/it, bce=0.03930, hard dice=0.37800, loss=0.66216, soft dice=0.37748]\n"
     ]
    },
    {
     "name": "stdout",
     "output_type": "stream",
     "text": [
      "soft dice: 0.83417 | loss: 0.19149 | hard dice: 0.83417 | bce: 0.02043\n"
     ]
    },
    {
     "name": "stderr",
     "output_type": "stream",
     "text": [
      "Epoch 44: 100% 2/2 [00:07<00:00,  3.88s/it, bce=0.03538, hard dice=0.44039, loss=0.59702, soft dice=0.44026]\n"
     ]
    },
    {
     "name": "stdout",
     "output_type": "stream",
     "text": [
      "soft dice: 0.83416 | loss: 0.19117 | hard dice: 0.83417 | bce: 0.02007\n"
     ]
    },
    {
     "name": "stderr",
     "output_type": "stream",
     "text": [
      "Epoch 45: 100% 2/2 [00:07<00:00,  3.84s/it, bce=0.03585, hard dice=0.56493, loss=0.48902, soft dice=0.54860]\n"
     ]
    },
    {
     "name": "stdout",
     "output_type": "stream",
     "text": [
      "soft dice: 0.83416 | loss: 0.19112 | hard dice: 0.83417 | bce: 0.02019\n"
     ]
    },
    {
     "name": "stderr",
     "output_type": "stream",
     "text": [
      "Epoch 46: 100% 2/2 [00:07<00:00,  3.97s/it, bce=0.02554, hard dice=0.76068, loss=0.27456, soft dice=0.76008]\n"
     ]
    },
    {
     "name": "stdout",
     "output_type": "stream",
     "text": [
      "soft dice: 0.83417 | loss: 0.19907 | hard dice: 0.83417 | bce: 0.02512\n"
     ]
    },
    {
     "name": "stderr",
     "output_type": "stream",
     "text": [
      "Epoch 47: 100% 2/2 [00:08<00:00,  4.14s/it, bce=0.03235, hard dice=0.44166, loss=0.59783, soft dice=0.44166]\n"
     ]
    },
    {
     "name": "stdout",
     "output_type": "stream",
     "text": [
      "soft dice: 0.83417 | loss: 0.19963 | hard dice: 0.83417 | bce: 0.02520\n"
     ]
    },
    {
     "name": "stderr",
     "output_type": "stream",
     "text": [
      "Epoch 48: 100% 2/2 [00:07<00:00,  3.80s/it, bce=0.03116, hard dice=0.87706, loss=0.20651, soft dice=0.87706]\n"
     ]
    },
    {
     "name": "stdout",
     "output_type": "stream",
     "text": [
      "soft dice: 0.83417 | loss: 0.19952 | hard dice: 0.83417 | bce: 0.02522\n"
     ]
    },
    {
     "name": "stderr",
     "output_type": "stream",
     "text": [
      "Epoch 49: 100% 2/2 [00:08<00:00,  4.16s/it, bce=0.04560, hard dice=0.56531, loss=0.48492, soft dice=0.56531]\n"
     ]
    },
    {
     "name": "stdout",
     "output_type": "stream",
     "text": [
      "soft dice: 0.83417 | loss: 0.19955 | hard dice: 0.83417 | bce: 0.02522\n"
     ]
    },
    {
     "name": "stderr",
     "output_type": "stream",
     "text": [
      "Epoch 50: 100% 2/2 [00:07<00:00,  3.95s/it, bce=0.03624, hard dice=0.75091, loss=0.28790, soft dice=0.75084]\n"
     ]
    },
    {
     "name": "stdout",
     "output_type": "stream",
     "text": [
      "soft dice: 0.83229 | loss: 0.19330 | hard dice: 0.83417 | bce: 0.02060\n"
     ]
    },
    {
     "name": "stderr",
     "output_type": "stream",
     "text": [
      "Epoch 51: 100% 2/2 [00:06<00:00,  3.45s/it, bce=0.03650, hard dice=0.69097, loss=0.35496, soft dice=0.68340]\n"
     ]
    },
    {
     "name": "stdout",
     "output_type": "stream",
     "text": [
      "soft dice: 0.83417 | loss: 0.19111 | hard dice: 0.83417 | bce: 0.02020\n"
     ]
    },
    {
     "name": "stderr",
     "output_type": "stream",
     "text": [
      "Epoch 52: 100% 2/2 [00:07<00:00,  3.64s/it, bce=0.02204, hard dice=0.93815, loss=0.08506, soft dice=0.93725]\n"
     ]
    },
    {
     "name": "stdout",
     "output_type": "stream",
     "text": [
      "soft dice: 0.83416 | loss: 0.19057 | hard dice: 0.83417 | bce: 0.01966\n"
     ]
    },
    {
     "name": "stderr",
     "output_type": "stream",
     "text": [
      "Epoch 53: 100% 2/2 [00:08<00:00,  4.19s/it, bce=0.02528, hard dice=0.69012, loss=0.33621, soft dice=0.68957]\n"
     ]
    },
    {
     "name": "stdout",
     "output_type": "stream",
     "text": [
      "soft dice: 0.83415 | loss: 0.19018 | hard dice: 0.83417 | bce: 0.01925\n"
     ]
    },
    {
     "name": "stderr",
     "output_type": "stream",
     "text": [
      "Epoch 54: 100% 2/2 [00:07<00:00,  3.69s/it, bce=0.03177, hard dice=0.87603, loss=0.15790, soft dice=0.87546]\n"
     ]
    },
    {
     "name": "stdout",
     "output_type": "stream",
     "text": [
      "soft dice: 0.83413 | loss: 0.18961 | hard dice: 0.83417 | bce: 0.01868\n"
     ]
    },
    {
     "name": "stderr",
     "output_type": "stream",
     "text": [
      "Epoch 55: 100% 2/2 [00:07<00:00,  3.86s/it, bce=0.02722, hard dice=0.31685, loss=0.71418, soft dice=0.31546]\n"
     ]
    },
    {
     "name": "stdout",
     "output_type": "stream",
     "text": [
      "soft dice: 0.83393 | loss: 0.18851 | hard dice: 0.83417 | bce: 0.01733\n"
     ]
    },
    {
     "name": "stderr",
     "output_type": "stream",
     "text": [
      "Epoch 56: 100% 2/2 [00:07<00:00,  3.95s/it, bce=0.03789, hard dice=0.37702, loss=0.66898, soft dice=0.36959]\n"
     ]
    },
    {
     "name": "stdout",
     "output_type": "stream",
     "text": [
      "soft dice: 0.83417 | loss: 0.19317 | hard dice: 0.83417 | bce: 0.02216\n"
     ]
    },
    {
     "name": "stderr",
     "output_type": "stream",
     "text": [
      "Epoch 57: 100% 2/2 [00:07<00:00,  3.94s/it, bce=0.03450, hard dice=0.75303, loss=0.28149, soft dice=0.75287]\n"
     ]
    },
    {
     "name": "stdout",
     "output_type": "stream",
     "text": [
      "soft dice: 0.83417 | loss: 0.19280 | hard dice: 0.83417 | bce: 0.02178\n"
     ]
    },
    {
     "name": "stderr",
     "output_type": "stream",
     "text": [
      "Epoch 58: 100% 2/2 [00:07<00:00,  3.89s/it, bce=0.03777, hard dice=0.62738, loss=0.41037, soft dice=0.62736]\n"
     ]
    },
    {
     "name": "stdout",
     "output_type": "stream",
     "text": [
      "soft dice: 0.83417 | loss: 0.19202 | hard dice: 0.83417 | bce: 0.02105\n"
     ]
    },
    {
     "name": "stderr",
     "output_type": "stream",
     "text": [
      "Epoch 59: 100% 2/2 [00:07<00:00,  3.89s/it, bce=0.02836, hard dice=0.93806, loss=0.09020, soft dice=0.93797]\n"
     ]
    },
    {
     "name": "stdout",
     "output_type": "stream",
     "text": [
      "soft dice: 0.83417 | loss: 0.19135 | hard dice: 0.83417 | bce: 0.02050\n"
     ]
    },
    {
     "name": "stderr",
     "output_type": "stream",
     "text": [
      "Epoch 60: 100% 2/2 [00:07<00:00,  3.58s/it, bce=0.02630, hard dice=0.87662, loss=0.21716, soft dice=0.87022]\n"
     ]
    },
    {
     "name": "stdout",
     "output_type": "stream",
     "text": [
      "soft dice: 0.83400 | loss: 0.18839 | hard dice: 0.83417 | bce: 0.01748\n"
     ]
    },
    {
     "name": "stderr",
     "output_type": "stream",
     "text": [
      "Epoch 61: 100% 2/2 [00:07<00:00,  3.60s/it, bce=0.03053, hard dice=0.50474, loss=0.59283, soft dice=0.50328]\n"
     ]
    },
    {
     "name": "stdout",
     "output_type": "stream",
     "text": [
      "soft dice: 0.83413 | loss: 0.18946 | hard dice: 0.83417 | bce: 0.01875\n"
     ]
    },
    {
     "name": "stderr",
     "output_type": "stream",
     "text": [
      "Epoch 62: 100% 2/2 [00:07<00:00,  3.92s/it, bce=0.03051, hard dice=0.50267, loss=0.52910, soft dice=0.50153]\n"
     ]
    },
    {
     "name": "stdout",
     "output_type": "stream",
     "text": [
      "soft dice: 0.83411 | loss: 0.18908 | hard dice: 0.83417 | bce: 0.01837\n"
     ]
    },
    {
     "name": "stderr",
     "output_type": "stream",
     "text": [
      "Epoch 63: 100% 2/2 [00:07<00:00,  3.65s/it, bce=0.02913, hard dice=0.81489, loss=0.21773, soft dice=0.81305]\n"
     ]
    },
    {
     "name": "stdout",
     "output_type": "stream",
     "text": [
      "soft dice: 0.83409 | loss: 0.18887 | hard dice: 0.83417 | bce: 0.01815\n"
     ]
    },
    {
     "name": "stderr",
     "output_type": "stream",
     "text": [
      "Epoch 64: 100% 2/2 [00:08<00:00,  4.06s/it, bce=0.03069, hard dice=0.93815, loss=0.09533, soft dice=0.93552]\n"
     ]
    },
    {
     "name": "stdout",
     "output_type": "stream",
     "text": [
      "soft dice: 0.83409 | loss: 0.18884 | hard dice: 0.83417 | bce: 0.01812\n"
     ]
    },
    {
     "name": "stderr",
     "output_type": "stream",
     "text": [
      "Epoch 65: 100% 2/2 [00:07<00:00,  3.93s/it, bce=0.04846, hard dice=0.56475, loss=0.48635, soft dice=0.56328]\n"
     ]
    },
    {
     "name": "stdout",
     "output_type": "stream",
     "text": [
      "soft dice: 0.83412 | loss: 0.18919 | hard dice: 0.83417 | bce: 0.01850\n"
     ]
    },
    {
     "name": "stderr",
     "output_type": "stream",
     "text": [
      "Epoch 66: 100% 2/2 [00:08<00:00,  4.06s/it, bce=0.02837, hard dice=0.81301, loss=0.21638, soft dice=0.81220]\n"
     ]
    },
    {
     "name": "stdout",
     "output_type": "stream",
     "text": [
      "soft dice: 0.83411 | loss: 0.18905 | hard dice: 0.83417 | bce: 0.01838\n"
     ]
    },
    {
     "name": "stderr",
     "output_type": "stream",
     "text": [
      "Epoch 67: 100% 2/2 [00:07<00:00,  3.72s/it, bce=0.02256, hard dice=0.75313, loss=0.27123, soft dice=0.75222]\n"
     ]
    },
    {
     "name": "stdout",
     "output_type": "stream",
     "text": [
      "soft dice: 0.83406 | loss: 0.18864 | hard dice: 0.83417 | bce: 0.01790\n"
     ]
    },
    {
     "name": "stderr",
     "output_type": "stream",
     "text": [
      "Epoch 68: 100% 2/2 [00:07<00:00,  3.99s/it, bce=0.04432, hard dice=0.50282, loss=0.54396, soft dice=0.50101]\n"
     ]
    },
    {
     "name": "stdout",
     "output_type": "stream",
     "text": [
      "soft dice: 0.83401 | loss: 0.18847 | hard dice: 0.83417 | bce: 0.01765\n"
     ]
    },
    {
     "name": "stderr",
     "output_type": "stream",
     "text": [
      "Epoch 69: 100% 2/2 [00:08<00:00,  4.12s/it, bce=0.01731, hard dice=0.69031, loss=0.33459, soft dice=0.68341]\n"
     ]
    },
    {
     "name": "stdout",
     "output_type": "stream",
     "text": [
      "soft dice: 0.83383 | loss: 0.18832 | hard dice: 0.83417 | bce: 0.01730\n"
     ]
    },
    {
     "name": "stderr",
     "output_type": "stream",
     "text": [
      "Epoch 70: 100% 2/2 [00:07<00:00,  3.61s/it, bce=0.03553, hard dice=0.50294, loss=0.53538, soft dice=0.50038]\n"
     ]
    },
    {
     "name": "stdout",
     "output_type": "stream",
     "text": [
      "soft dice: 0.83417 | loss: 0.19611 | hard dice: 0.83417 | bce: 0.02468\n"
     ]
    },
    {
     "name": "stderr",
     "output_type": "stream",
     "text": [
      "Epoch 71: 100% 2/2 [00:07<00:00,  3.50s/it, bce=0.03389, hard dice=0.75278, loss=0.28226, soft dice=0.75278]\n"
     ]
    },
    {
     "name": "stdout",
     "output_type": "stream",
     "text": [
      "soft dice: 0.83417 | loss: 0.19795 | hard dice: 0.83417 | bce: 0.02514\n"
     ]
    },
    {
     "name": "stderr",
     "output_type": "stream",
     "text": [
      "Epoch 72: 100% 2/2 [00:07<00:00,  3.62s/it, bce=0.05338, hard dice=0.44054, loss=0.61590, soft dice=0.44054]\n"
     ]
    },
    {
     "name": "stdout",
     "output_type": "stream",
     "text": [
      "soft dice: 0.83417 | loss: 0.19670 | hard dice: 0.83417 | bce: 0.02490\n"
     ]
    },
    {
     "name": "stderr",
     "output_type": "stream",
     "text": [
      "Epoch 73: 100% 2/2 [00:07<00:00,  3.79s/it, bce=0.05161, hard dice=0.75140, loss=0.30262, soft dice=0.75140]\n"
     ]
    },
    {
     "name": "stdout",
     "output_type": "stream",
     "text": [
      "soft dice: 0.83417 | loss: 0.19514 | hard dice: 0.83417 | bce: 0.02415\n"
     ]
    },
    {
     "name": "stderr",
     "output_type": "stream",
     "text": [
      "Epoch 74: 100% 2/2 [00:07<00:00,  3.83s/it, bce=0.04290, hard dice=0.62691, loss=0.41669, soft dice=0.62691]\n"
     ]
    },
    {
     "name": "stdout",
     "output_type": "stream",
     "text": [
      "soft dice: 0.83417 | loss: 0.19457 | hard dice: 0.83417 | bce: 0.02370\n"
     ]
    },
    {
     "name": "stderr",
     "output_type": "stream",
     "text": [
      "Epoch 75: 100% 2/2 [00:07<00:00,  4.00s/it, bce=0.02049, hard dice=0.87584, loss=0.16198, soft dice=0.86406]\n"
     ]
    },
    {
     "name": "stdout",
     "output_type": "stream",
     "text": [
      "soft dice: 0.83401 | loss: 0.18833 | hard dice: 0.83417 | bce: 0.01754\n"
     ]
    },
    {
     "name": "stderr",
     "output_type": "stream",
     "text": [
      "Epoch 76: 100% 2/2 [00:07<00:00,  3.97s/it, bce=0.03138, hard dice=0.87631, loss=0.15735, soft dice=0.87383]\n"
     ]
    },
    {
     "name": "stdout",
     "output_type": "stream",
     "text": [
      "soft dice: 0.83417 | loss: 0.19365 | hard dice: 0.83417 | bce: 0.02261\n"
     ]
    },
    {
     "name": "stderr",
     "output_type": "stream",
     "text": [
      "Epoch 77: 100% 2/2 [00:08<00:00,  4.07s/it, bce=0.04154, hard dice=0.58616, loss=0.47915, soft dice=0.58614]\n"
     ]
    },
    {
     "name": "stdout",
     "output_type": "stream",
     "text": [
      "soft dice: 0.83417 | loss: 0.19330 | hard dice: 0.83417 | bce: 0.02220\n"
     ]
    },
    {
     "name": "stderr",
     "output_type": "stream",
     "text": [
      "Epoch 78: 100% 2/2 [00:07<00:00,  3.85s/it, bce=0.03403, hard dice=0.69004, loss=0.34559, soft dice=0.69001]\n"
     ]
    },
    {
     "name": "stdout",
     "output_type": "stream",
     "text": [
      "soft dice: 0.83417 | loss: 0.19270 | hard dice: 0.83417 | bce: 0.02156\n"
     ]
    },
    {
     "name": "stderr",
     "output_type": "stream",
     "text": [
      "Epoch 79: 100% 2/2 [00:07<00:00,  3.75s/it, bce=0.04956, hard dice=0.50242, loss=0.55126, soft dice=0.50233]\n"
     ]
    },
    {
     "name": "stdout",
     "output_type": "stream",
     "text": [
      "soft dice: 0.83417 | loss: 0.19227 | hard dice: 0.83417 | bce: 0.02107\n"
     ]
    },
    {
     "name": "stderr",
     "output_type": "stream",
     "text": [
      "Epoch 80: 100% 2/2 [00:08<00:00,  4.32s/it, bce=0.03265, hard dice=0.75141, loss=0.29884, soft dice=0.73515]\n"
     ]
    },
    {
     "name": "stdout",
     "output_type": "stream",
     "text": [
      "soft dice: 0.83402 | loss: 0.18863 | hard dice: 0.83417 | bce: 0.01758\n"
     ]
    },
    {
     "name": "stderr",
     "output_type": "stream",
     "text": [
      "Epoch 81: 100% 2/2 [00:07<00:00,  3.91s/it, bce=0.03590, hard dice=0.62706, loss=0.41064, soft dice=0.62657]\n"
     ]
    },
    {
     "name": "stdout",
     "output_type": "stream",
     "text": [
      "soft dice: 0.83417 | loss: 0.19325 | hard dice: 0.83417 | bce: 0.02256\n"
     ]
    },
    {
     "name": "stderr",
     "output_type": "stream",
     "text": [
      "Epoch 82: 100% 2/2 [00:08<00:00,  4.16s/it, bce=0.02861, hard dice=0.56563, loss=0.46384, soft dice=0.56544]\n"
     ]
    },
    {
     "name": "stdout",
     "output_type": "stream",
     "text": [
      "soft dice: 0.83417 | loss: 0.19239 | hard dice: 0.83417 | bce: 0.02177\n"
     ]
    },
    {
     "name": "stderr",
     "output_type": "stream",
     "text": [
      "Epoch 83: 100% 2/2 [00:07<00:00,  3.97s/it, bce=0.02817, hard dice=0.56706, loss=0.46351, soft dice=0.56689]\n"
     ]
    },
    {
     "name": "stdout",
     "output_type": "stream",
     "text": [
      "soft dice: 0.83417 | loss: 0.19219 | hard dice: 0.83417 | bce: 0.02160\n"
     ]
    },
    {
     "name": "stderr",
     "output_type": "stream",
     "text": [
      "Epoch 84: 100% 2/2 [00:08<00:00,  4.37s/it, bce=0.03414, hard dice=0.62812, loss=0.40798, soft dice=0.62807]\n"
     ]
    },
    {
     "name": "stdout",
     "output_type": "stream",
     "text": [
      "soft dice: 0.83417 | loss: 0.19241 | hard dice: 0.83417 | bce: 0.02182\n"
     ]
    },
    {
     "name": "stderr",
     "output_type": "stream",
     "text": [
      "Epoch 85: 100% 2/2 [00:08<00:00,  4.04s/it, bce=0.03713, hard dice=0.62736, loss=0.41113, soft dice=0.62632]\n"
     ]
    },
    {
     "name": "stdout",
     "output_type": "stream",
     "text": [
      "soft dice: 0.83153 | loss: 0.18938 | hard dice: 0.83417 | bce: 0.01580\n"
     ]
    },
    {
     "name": "stderr",
     "output_type": "stream",
     "text": [
      "Epoch 86: 100% 2/2 [00:08<00:00,  4.03s/it, bce=0.03211, hard dice=0.62696, loss=0.46619, soft dice=0.56839]\n"
     ]
    },
    {
     "name": "stdout",
     "output_type": "stream",
     "text": [
      "soft dice: 0.83417 | loss: 0.19720 | hard dice: 0.83417 | bce: 0.02504\n"
     ]
    },
    {
     "name": "stderr",
     "output_type": "stream",
     "text": [
      "Epoch 87: 100% 2/2 [00:07<00:00,  3.63s/it, bce=0.03129, hard dice=0.69006, loss=0.34295, soft dice=0.69005]\n"
     ]
    },
    {
     "name": "stdout",
     "output_type": "stream",
     "text": [
      "soft dice: 0.83417 | loss: 0.19772 | hard dice: 0.83417 | bce: 0.02512\n"
     ]
    },
    {
     "name": "stderr",
     "output_type": "stream",
     "text": [
      "Epoch 88: 100% 2/2 [00:07<00:00,  3.78s/it, bce=0.04469, hard dice=0.50259, loss=0.54464, soft dice=0.50259]\n"
     ]
    },
    {
     "name": "stdout",
     "output_type": "stream",
     "text": [
      "soft dice: 0.83417 | loss: 0.19729 | hard dice: 0.83417 | bce: 0.02505\n"
     ]
    },
    {
     "name": "stderr",
     "output_type": "stream",
     "text": [
      "Epoch 89: 100% 2/2 [00:07<00:00,  3.98s/it, bce=0.02445, hard dice=0.93878, loss=0.08737, soft dice=0.93878]\n"
     ]
    },
    {
     "name": "stdout",
     "output_type": "stream",
     "text": [
      "soft dice: 0.83417 | loss: 0.19691 | hard dice: 0.83417 | bce: 0.02495\n"
     ]
    },
    {
     "name": "stderr",
     "output_type": "stream",
     "text": [
      "Epoch 90: 100% 2/2 [00:07<00:00,  3.82s/it, bce=0.03092, hard dice=0.57820, loss=0.52811, soft dice=0.57819]\n"
     ]
    },
    {
     "name": "stdout",
     "output_type": "stream",
     "text": [
      "soft dice: 0.83417 | loss: 0.19196 | hard dice: 0.83417 | bce: 0.02136\n"
     ]
    },
    {
     "name": "stderr",
     "output_type": "stream",
     "text": [
      "Epoch 91: 100% 2/2 [00:07<00:00,  3.68s/it, bce=0.03865, hard dice=0.87664, loss=0.16418, soft dice=0.87463]\n"
     ]
    },
    {
     "name": "stdout",
     "output_type": "stream",
     "text": [
      "soft dice: 0.83310 | loss: 0.18819 | hard dice: 0.83417 | bce: 0.01644\n"
     ]
    },
    {
     "name": "stderr",
     "output_type": "stream",
     "text": [
      "Epoch 92: 100% 2/2 [00:07<00:00,  3.98s/it, bce=0.02913, hard dice=0.62712, loss=0.41999, soft dice=0.60989]\n"
     ]
    },
    {
     "name": "stdout",
     "output_type": "stream",
     "text": [
      "soft dice: 0.83399 | loss: 0.18824 | hard dice: 0.83417 | bce: 0.01746\n"
     ]
    },
    {
     "name": "stderr",
     "output_type": "stream",
     "text": [
      "Epoch 93: 100% 2/2 [00:07<00:00,  3.59s/it, bce=0.03047, hard dice=0.68953, loss=0.34703, soft dice=0.68452]\n"
     ]
    },
    {
     "name": "stdout",
     "output_type": "stream",
     "text": [
      "soft dice: 0.83415 | loss: 0.18967 | hard dice: 0.83417 | bce: 0.01911\n"
     ]
    },
    {
     "name": "stderr",
     "output_type": "stream",
     "text": [
      "Epoch 94: 100% 2/2 [00:08<00:00,  4.01s/it, bce=0.02130, hard dice=0.81507, loss=0.20722, soft dice=0.81403]\n"
     ]
    },
    {
     "name": "stdout",
     "output_type": "stream",
     "text": [
      "soft dice: 0.83415 | loss: 0.18970 | hard dice: 0.83417 | bce: 0.01913\n"
     ]
    },
    {
     "name": "stderr",
     "output_type": "stream",
     "text": [
      "Epoch 95: 100% 2/2 [00:08<00:00,  4.01s/it, bce=0.05274, hard dice=0.56444, loss=0.49086, soft dice=0.56435]\n"
     ]
    },
    {
     "name": "stdout",
     "output_type": "stream",
     "text": [
      "soft dice: 0.83417 | loss: 0.19581 | hard dice: 0.83417 | bce: 0.02460\n"
     ]
    },
    {
     "name": "stderr",
     "output_type": "stream",
     "text": [
      "Epoch 96: 100% 2/2 [00:07<00:00,  3.85s/it, bce=0.05777, hard dice=0.50296, loss=0.59489, soft dice=0.50294]\n"
     ]
    },
    {
     "name": "stdout",
     "output_type": "stream",
     "text": [
      "soft dice: 0.72079 | loss: 0.30965 | hard dice: 0.83417 | bce: 0.02477\n"
     ]
    },
    {
     "name": "stderr",
     "output_type": "stream",
     "text": [
      "Epoch 97: 100% 2/2 [00:07<00:00,  3.84s/it, bce=0.02774, hard dice=0.87565, loss=0.16948, soft dice=0.86027]\n"
     ]
    },
    {
     "name": "stdout",
     "output_type": "stream",
     "text": [
      "soft dice: 0.83389 | loss: 0.19718 | hard dice: 0.83417 | bce: 0.02497\n"
     ]
    },
    {
     "name": "stderr",
     "output_type": "stream",
     "text": [
      "Epoch 98: 100% 2/2 [00:07<00:00,  3.79s/it, bce=0.04447, hard dice=0.50312, loss=0.54389, soft dice=0.50297]\n"
     ]
    },
    {
     "name": "stdout",
     "output_type": "stream",
     "text": [
      "soft dice: 0.83417 | loss: 0.19741 | hard dice: 0.83417 | bce: 0.02506\n"
     ]
    },
    {
     "name": "stderr",
     "output_type": "stream",
     "text": [
      "Epoch 99: 100% 2/2 [00:07<00:00,  3.95s/it, bce=0.05536, hard dice=0.68913, loss=0.42894, soft dice=0.68913]\n"
     ]
    },
    {
     "name": "stdout",
     "output_type": "stream",
     "text": [
      "soft dice: 0.83417 | loss: 0.19719 | hard dice: 0.83417 | bce: 0.02502\n"
     ]
    },
    {
     "name": "stderr",
     "output_type": "stream",
     "text": [
      "Epoch 100: 100% 2/2 [00:08<00:00,  4.18s/it, bce=0.04431, hard dice=0.37742, loss=0.66753, soft dice=0.37740]\n"
     ]
    },
    {
     "name": "stdout",
     "output_type": "stream",
     "text": [
      "soft dice: 0.83416 | loss: 0.19079 | hard dice: 0.83417 | bce: 0.02001\n"
     ]
    },
    {
     "name": "stderr",
     "output_type": "stream",
     "text": [
      "Epoch 101: 100% 2/2 [00:07<00:00,  3.83s/it, bce=0.02735, hard dice=0.68940, loss=0.35532, soft dice=0.67236]\n"
     ]
    },
    {
     "name": "stdout",
     "output_type": "stream",
     "text": [
      "soft dice: 0.83417 | loss: 0.19358 | hard dice: 0.83417 | bce: 0.02260\n"
     ]
    },
    {
     "name": "stderr",
     "output_type": "stream",
     "text": [
      "Epoch 102: 100% 2/2 [00:07<00:00,  3.75s/it, bce=0.03703, hard dice=0.56501, loss=0.53432, soft dice=0.56458]\n"
     ]
    },
    {
     "name": "stdout",
     "output_type": "stream",
     "text": [
      "soft dice: 0.83417 | loss: 0.19332 | hard dice: 0.83417 | bce: 0.02239\n"
     ]
    },
    {
     "name": "stderr",
     "output_type": "stream",
     "text": [
      "Epoch 103: 100% 2/2 [00:08<00:00,  4.03s/it, bce=0.04092, hard dice=0.75079, loss=0.29197, soft dice=0.75068]\n"
     ]
    },
    {
     "name": "stdout",
     "output_type": "stream",
     "text": [
      "soft dice: 0.83417 | loss: 0.19285 | hard dice: 0.83417 | bce: 0.02196\n"
     ]
    },
    {
     "name": "stderr",
     "output_type": "stream",
     "text": [
      "Epoch 104: 100% 2/2 [00:07<00:00,  3.91s/it, bce=0.04334, hard dice=0.50253, loss=0.54169, soft dice=0.50231]\n"
     ]
    },
    {
     "name": "stdout",
     "output_type": "stream",
     "text": [
      "soft dice: 0.83417 | loss: 0.19218 | hard dice: 0.83417 | bce: 0.02132\n"
     ]
    },
    {
     "name": "stderr",
     "output_type": "stream",
     "text": [
      "Epoch 105: 100% 2/2 [00:07<00:00,  3.85s/it, bce=0.03411, hard dice=0.62787, loss=0.41239, soft dice=0.62315]\n"
     ]
    },
    {
     "name": "stdout",
     "output_type": "stream",
     "text": [
      "soft dice: 0.83412 | loss: 0.18953 | hard dice: 0.83417 | bce: 0.01868\n"
     ]
    },
    {
     "name": "stderr",
     "output_type": "stream",
     "text": [
      "Epoch 106: 100% 2/2 [00:07<00:00,  3.84s/it, bce=0.02320, hard dice=0.50250, loss=0.52530, soft dice=0.49883]\n"
     ]
    },
    {
     "name": "stdout",
     "output_type": "stream",
     "text": [
      "soft dice: 0.83417 | loss: 0.19359 | hard dice: 0.83417 | bce: 0.02264\n"
     ]
    },
    {
     "name": "stderr",
     "output_type": "stream",
     "text": [
      "Epoch 107: 100% 2/2 [00:08<00:00,  4.04s/it, bce=0.04857, hard dice=0.56505, loss=0.48523, soft dice=0.56491]\n"
     ]
    },
    {
     "name": "stdout",
     "output_type": "stream",
     "text": [
      "soft dice: 0.83417 | loss: 0.19265 | hard dice: 0.83417 | bce: 0.02186\n"
     ]
    },
    {
     "name": "stderr",
     "output_type": "stream",
     "text": [
      "Epoch 108: 100% 2/2 [00:07<00:00,  3.75s/it, bce=0.02871, hard dice=0.75118, loss=0.28089, soft dice=0.75111]\n"
     ]
    },
    {
     "name": "stdout",
     "output_type": "stream",
     "text": [
      "soft dice: 0.83417 | loss: 0.19166 | hard dice: 0.83417 | bce: 0.02094\n"
     ]
    },
    {
     "name": "stderr",
     "output_type": "stream",
     "text": [
      "Epoch 109: 100% 2/2 [00:07<00:00,  3.77s/it, bce=0.02333, hard dice=0.81402, loss=0.20974, soft dice=0.81397]\n"
     ]
    },
    {
     "name": "stdout",
     "output_type": "stream",
     "text": [
      "soft dice: 0.83417 | loss: 0.19102 | hard dice: 0.83417 | bce: 0.02036\n"
     ]
    },
    {
     "name": "stderr",
     "output_type": "stream",
     "text": [
      "Epoch 110: 100% 2/2 [00:07<00:00,  3.85s/it, bce=0.03146, hard dice=0.56413, loss=0.47505, soft dice=0.55607]\n"
     ]
    },
    {
     "name": "stdout",
     "output_type": "stream",
     "text": [
      "soft dice: 0.83399 | loss: 0.18849 | hard dice: 0.83417 | bce: 0.01766\n"
     ]
    },
    {
     "name": "stderr",
     "output_type": "stream",
     "text": [
      "Epoch 111: 100% 2/2 [00:08<00:00,  4.04s/it, bce=0.03515, hard dice=0.44159, loss=0.59669, soft dice=0.43987]\n"
     ]
    },
    {
     "name": "stdout",
     "output_type": "stream",
     "text": [
      "soft dice: 0.83416 | loss: 0.19036 | hard dice: 0.83417 | bce: 0.01972\n"
     ]
    },
    {
     "name": "stderr",
     "output_type": "stream",
     "text": [
      "Epoch 112: 100% 2/2 [00:07<00:00,  3.80s/it, bce=0.03398, hard dice=0.31525, loss=0.77969, soft dice=0.31473]\n"
     ]
    },
    {
     "name": "stdout",
     "output_type": "stream",
     "text": [
      "soft dice: 0.83415 | loss: 0.18989 | hard dice: 0.83417 | bce: 0.01922\n"
     ]
    },
    {
     "name": "stderr",
     "output_type": "stream",
     "text": [
      "Epoch 113: 100% 2/2 [00:07<00:00,  3.88s/it, bce=0.03595, hard dice=0.44037, loss=0.59641, soft dice=0.43987]\n"
     ]
    },
    {
     "name": "stdout",
     "output_type": "stream",
     "text": [
      "soft dice: 0.83412 | loss: 0.18934 | hard dice: 0.83417 | bce: 0.01865\n"
     ]
    },
    {
     "name": "stderr",
     "output_type": "stream",
     "text": [
      "Epoch 114: 100% 2/2 [00:08<00:00,  4.29s/it, bce=0.03148, hard dice=0.62810, loss=0.40556, soft dice=0.62667]\n"
     ]
    },
    {
     "name": "stdout",
     "output_type": "stream",
     "text": [
      "soft dice: 0.83410 | loss: 0.18902 | hard dice: 0.83417 | bce: 0.01831\n"
     ]
    },
    {
     "name": "stderr",
     "output_type": "stream",
     "text": [
      "Epoch 115: 100% 2/2 [00:07<00:00,  3.57s/it, bce=0.03765, hard dice=0.37852, loss=0.66828, soft dice=0.37073]\n"
     ]
    },
    {
     "name": "stdout",
     "output_type": "stream",
     "text": [
      "soft dice: 0.83256 | loss: 0.18858 | hard dice: 0.83417 | bce: 0.01630\n"
     ]
    },
    {
     "name": "stderr",
     "output_type": "stream",
     "text": [
      "Epoch 116: 100% 2/2 [00:07<00:00,  3.64s/it, bce=0.04475, hard dice=0.68855, loss=0.38241, soft dice=0.66432]\n"
     ]
    },
    {
     "name": "stdout",
     "output_type": "stream",
     "text": [
      "soft dice: 0.83417 | loss: 0.20102 | hard dice: 0.83417 | bce: 0.02523\n"
     ]
    },
    {
     "name": "stderr",
     "output_type": "stream",
     "text": [
      "Epoch 117: 100% 2/2 [00:07<00:00,  3.74s/it, bce=0.04934, hard dice=0.56559, loss=0.48762, soft dice=0.56559]\n"
     ]
    },
    {
     "name": "stdout",
     "output_type": "stream",
     "text": [
      "soft dice: 0.83417 | loss: 0.20074 | hard dice: 0.83417 | bce: 0.02523\n"
     ]
    },
    {
     "name": "stderr",
     "output_type": "stream",
     "text": [
      "Epoch 118: 100% 2/2 [00:08<00:00,  4.11s/it, bce=0.04476, hard dice=0.62702, loss=0.42193, soft dice=0.62702]\n"
     ]
    },
    {
     "name": "stdout",
     "output_type": "stream",
     "text": [
      "soft dice: 0.83417 | loss: 0.19984 | hard dice: 0.83417 | bce: 0.02520\n"
     ]
    },
    {
     "name": "stderr",
     "output_type": "stream",
     "text": [
      "Epoch 119: 100% 2/2 [00:08<00:00,  4.02s/it, bce=0.04581, hard dice=0.50302, loss=0.54713, soft dice=0.50302]\n"
     ]
    },
    {
     "name": "stdout",
     "output_type": "stream",
     "text": [
      "soft dice: 0.83417 | loss: 0.19902 | hard dice: 0.83417 | bce: 0.02517\n"
     ]
    },
    {
     "name": "stderr",
     "output_type": "stream",
     "text": [
      "Epoch 120: 100% 2/2 [00:08<00:00,  4.32s/it, bce=0.02794, hard dice=0.56583, loss=0.46377, soft dice=0.56582]\n"
     ]
    },
    {
     "name": "stdout",
     "output_type": "stream",
     "text": [
      "soft dice: 0.83417 | loss: 0.19107 | hard dice: 0.83417 | bce: 0.02050\n"
     ]
    },
    {
     "name": "stderr",
     "output_type": "stream",
     "text": [
      "Epoch 121: 100% 2/2 [00:07<00:00,  3.81s/it, bce=0.02941, hard dice=0.68986, loss=0.34768, soft dice=0.68248]\n"
     ]
    },
    {
     "name": "stdout",
     "output_type": "stream",
     "text": [
      "soft dice: 0.83393 | loss: 0.18833 | hard dice: 0.83417 | bce: 0.01736\n"
     ]
    },
    {
     "name": "stderr",
     "output_type": "stream",
     "text": [
      "Epoch 122: 100% 2/2 [00:07<00:00,  3.95s/it, bce=0.02508, hard dice=0.68883, loss=0.34256, soft dice=0.68297]\n"
     ]
    },
    {
     "name": "stdout",
     "output_type": "stream",
     "text": [
      "soft dice: 0.83407 | loss: 0.18847 | hard dice: 0.83417 | bce: 0.01777\n"
     ]
    },
    {
     "name": "stderr",
     "output_type": "stream",
     "text": [
      "Epoch 123: 100% 2/2 [00:07<00:00,  3.91s/it, bce=0.02022, hard dice=0.69021, loss=0.33285, soft dice=0.68761]\n"
     ]
    },
    {
     "name": "stdout",
     "output_type": "stream",
     "text": [
      "soft dice: 0.83412 | loss: 0.18892 | hard dice: 0.83417 | bce: 0.01830\n"
     ]
    },
    {
     "name": "stderr",
     "output_type": "stream",
     "text": [
      "Epoch 124: 100% 2/2 [00:07<00:00,  3.60s/it, bce=0.02332, hard dice=0.50269, loss=0.52252, soft dice=0.50152]\n"
     ]
    },
    {
     "name": "stdout",
     "output_type": "stream",
     "text": [
      "soft dice: 0.83410 | loss: 0.18871 | hard dice: 0.83417 | bce: 0.01806\n"
     ]
    },
    {
     "name": "stderr",
     "output_type": "stream",
     "text": [
      "Epoch 125: 100% 2/2 [00:07<00:00,  3.65s/it, bce=0.02148, hard dice=0.75452, loss=0.27046, soft dice=0.75404]\n"
     ]
    },
    {
     "name": "stdout",
     "output_type": "stream",
     "text": [
      "soft dice: 0.83417 | loss: 0.19265 | hard dice: 0.83417 | bce: 0.02199\n"
     ]
    },
    {
     "name": "stderr",
     "output_type": "stream",
     "text": [
      "Epoch 126: 100% 2/2 [00:07<00:00,  3.68s/it, bce=0.03556, hard dice=0.75256, loss=0.28311, soft dice=0.75254]\n"
     ]
    },
    {
     "name": "stdout",
     "output_type": "stream",
     "text": [
      "soft dice: 0.83417 | loss: 0.19314 | hard dice: 0.83417 | bce: 0.02241\n"
     ]
    },
    {
     "name": "stderr",
     "output_type": "stream",
     "text": [
      "Epoch 127: 100% 2/2 [00:07<00:00,  3.56s/it, bce=0.05102, hard dice=0.56533, loss=0.48588, soft dice=0.56532]\n"
     ]
    },
    {
     "name": "stdout",
     "output_type": "stream",
     "text": [
      "soft dice: 0.83417 | loss: 0.19231 | hard dice: 0.83417 | bce: 0.02159\n"
     ]
    },
    {
     "name": "stderr",
     "output_type": "stream",
     "text": [
      "Epoch 128: 100% 2/2 [00:07<00:00,  3.83s/it, bce=0.03362, hard dice=0.75285, loss=0.28267, soft dice=0.75279]\n"
     ]
    },
    {
     "name": "stdout",
     "output_type": "stream",
     "text": [
      "soft dice: 0.83417 | loss: 0.19151 | hard dice: 0.83417 | bce: 0.02078\n"
     ]
    },
    {
     "name": "stderr",
     "output_type": "stream",
     "text": [
      "Epoch 129: 100% 2/2 [00:07<00:00,  3.56s/it, bce=0.04561, hard dice=0.50354, loss=0.54287, soft dice=0.50351]\n"
     ]
    },
    {
     "name": "stdout",
     "output_type": "stream",
     "text": [
      "soft dice: 0.83417 | loss: 0.19132 | hard dice: 0.83417 | bce: 0.02055\n"
     ]
    },
    {
     "name": "stderr",
     "output_type": "stream",
     "text": [
      "Epoch 130: 100% 2/2 [00:08<00:00,  4.23s/it, bce=0.04073, hard dice=0.65506, loss=0.42791, soft dice=0.63599]\n"
     ]
    },
    {
     "name": "stdout",
     "output_type": "stream",
     "text": [
      "soft dice: 0.83301 | loss: 0.18825 | hard dice: 0.83417 | bce: 0.01639\n"
     ]
    },
    {
     "name": "stderr",
     "output_type": "stream",
     "text": [
      "Epoch 131: 100% 2/2 [00:07<00:00,  3.71s/it, bce=0.03300, hard dice=0.56638, loss=0.47344, soft dice=0.56182]\n"
     ]
    },
    {
     "name": "stdout",
     "output_type": "stream",
     "text": [
      "soft dice: 0.83417 | loss: 0.19395 | hard dice: 0.83417 | bce: 0.02313\n"
     ]
    },
    {
     "name": "stderr",
     "output_type": "stream",
     "text": [
      "Epoch 132: 100% 2/2 [00:08<00:00,  4.26s/it, bce=0.02416, hard dice=1.00000, loss=0.02482, soft dice=1.00000]\n"
     ]
    },
    {
     "name": "stdout",
     "output_type": "stream",
     "text": [
      "soft dice: 0.83417 | loss: 0.19389 | hard dice: 0.83417 | bce: 0.02308\n"
     ]
    },
    {
     "name": "stderr",
     "output_type": "stream",
     "text": [
      "Epoch 133: 100% 2/2 [00:08<00:00,  4.16s/it, bce=0.02807, hard dice=0.75489, loss=0.27625, soft dice=0.75488]\n"
     ]
    },
    {
     "name": "stdout",
     "output_type": "stream",
     "text": [
      "soft dice: 0.83417 | loss: 0.19349 | hard dice: 0.83417 | bce: 0.02274\n"
     ]
    },
    {
     "name": "stderr",
     "output_type": "stream",
     "text": [
      "Epoch 134: 100% 2/2 [00:07<00:00,  3.75s/it, bce=0.03670, hard dice=0.56460, loss=0.47235, soft dice=0.56459]\n"
     ]
    },
    {
     "name": "stdout",
     "output_type": "stream",
     "text": [
      "soft dice: 0.83417 | loss: 0.19310 | hard dice: 0.83417 | bce: 0.02238\n"
     ]
    },
    {
     "name": "stderr",
     "output_type": "stream",
     "text": [
      "Epoch 135: 100% 2/2 [00:07<00:00,  3.83s/it, bce=0.03637, hard dice=0.66418, loss=0.40913, soft dice=0.66382]\n"
     ]
    },
    {
     "name": "stdout",
     "output_type": "stream",
     "text": [
      "soft dice: 0.83392 | loss: 0.18825 | hard dice: 0.83417 | bce: 0.01739\n"
     ]
    },
    {
     "name": "stderr",
     "output_type": "stream",
     "text": [
      "Epoch 136: 100% 2/2 [00:07<00:00,  3.84s/it, bce=0.01621, hard dice=0.69038, loss=0.33136, soft dice=0.68545]\n"
     ]
    },
    {
     "name": "stdout",
     "output_type": "stream",
     "text": [
      "soft dice: 0.83412 | loss: 0.18904 | hard dice: 0.83417 | bce: 0.01841\n"
     ]
    },
    {
     "name": "stderr",
     "output_type": "stream",
     "text": [
      "Epoch 137: 100% 2/2 [00:07<00:00,  3.93s/it, bce=0.01868, hard dice=0.87737, loss=0.14398, soft dice=0.87513]\n"
     ]
    },
    {
     "name": "stdout",
     "output_type": "stream",
     "text": [
      "soft dice: 0.83411 | loss: 0.18902 | hard dice: 0.83417 | bce: 0.01839\n"
     ]
    },
    {
     "name": "stderr",
     "output_type": "stream",
     "text": [
      "Epoch 138: 100% 2/2 [00:08<00:00,  4.06s/it, bce=0.03050, hard dice=0.68913, loss=0.34224, soft dice=0.68870]\n"
     ]
    },
    {
     "name": "stdout",
     "output_type": "stream",
     "text": [
      "soft dice: 0.83410 | loss: 0.18892 | hard dice: 0.83417 | bce: 0.01827\n"
     ]
    },
    {
     "name": "stderr",
     "output_type": "stream",
     "text": [
      "Epoch 139: 100% 2/2 [00:07<00:00,  3.97s/it, bce=0.03089, hard dice=0.62834, loss=0.48845, soft dice=0.62757]\n"
     ]
    },
    {
     "name": "stdout",
     "output_type": "stream",
     "text": [
      "soft dice: 0.83408 | loss: 0.18873 | hard dice: 0.83417 | bce: 0.01806\n"
     ]
    },
    {
     "name": "stderr",
     "output_type": "stream",
     "text": [
      "Epoch 140: 100% 2/2 [00:07<00:00,  3.79s/it, bce=0.03234, hard dice=0.44098, loss=0.59522, soft dice=0.43942]\n"
     ]
    },
    {
     "name": "stdout",
     "output_type": "stream",
     "text": [
      "soft dice: 0.83132 | loss: 0.18952 | hard dice: 0.83417 | bce: 0.01585\n"
     ]
    },
    {
     "name": "stderr",
     "output_type": "stream",
     "text": [
      "Epoch 141: 100% 2/2 [00:07<00:00,  3.94s/it, bce=0.04041, hard dice=0.50262, loss=0.54434, soft dice=0.49722]\n"
     ]
    },
    {
     "name": "stdout",
     "output_type": "stream",
     "text": [
      "soft dice: 0.83415 | loss: 0.19100 | hard dice: 0.83417 | bce: 0.01985\n"
     ]
    },
    {
     "name": "stderr",
     "output_type": "stream",
     "text": [
      "Epoch 142: 100% 2/2 [00:07<00:00,  3.99s/it, bce=0.02863, hard dice=0.88194, loss=0.15275, soft dice=0.88148]\n"
     ]
    },
    {
     "name": "stdout",
     "output_type": "stream",
     "text": [
      "soft dice: 0.83412 | loss: 0.18941 | hard dice: 0.83417 | bce: 0.01875\n"
     ]
    },
    {
     "name": "stderr",
     "output_type": "stream",
     "text": [
      "Epoch 143: 100% 2/2 [00:07<00:00,  3.89s/it, bce=0.04103, hard dice=0.44054, loss=0.60241, soft dice=0.43974]\n"
     ]
    },
    {
     "name": "stdout",
     "output_type": "stream",
     "text": [
      "soft dice: 0.83409 | loss: 0.18890 | hard dice: 0.83417 | bce: 0.01817\n"
     ]
    },
    {
     "name": "stderr",
     "output_type": "stream",
     "text": [
      "Epoch 144: 100% 2/2 [00:08<00:00,  4.01s/it, bce=0.04063, hard dice=0.44031, loss=0.60105, soft dice=0.43963]\n"
     ]
    },
    {
     "name": "stdout",
     "output_type": "stream",
     "text": [
      "soft dice: 0.83406 | loss: 0.18874 | hard dice: 0.83417 | bce: 0.01799\n"
     ]
    },
    {
     "name": "stderr",
     "output_type": "stream",
     "text": [
      "Epoch 145: 100% 2/2 [00:07<00:00,  3.92s/it, bce=0.02805, hard dice=0.63118, loss=0.40790, soft dice=0.61985]\n"
     ]
    },
    {
     "name": "stdout",
     "output_type": "stream",
     "text": [
      "soft dice: 0.83396 | loss: 0.18857 | hard dice: 0.83417 | bce: 0.01750\n"
     ]
    },
    {
     "name": "stderr",
     "output_type": "stream",
     "text": [
      "Epoch 146: 100% 2/2 [00:07<00:00,  3.55s/it, bce=0.03700, hard dice=0.43994, loss=0.59858, soft dice=0.43915]\n"
     ]
    },
    {
     "name": "stdout",
     "output_type": "stream",
     "text": [
      "soft dice: 0.83417 | loss: 0.19306 | hard dice: 0.83417 | bce: 0.02173\n"
     ]
    },
    {
     "name": "stderr",
     "output_type": "stream",
     "text": [
      "Epoch 147: 100% 2/2 [00:07<00:00,  3.68s/it, bce=0.02746, hard dice=0.69039, loss=0.33693, soft dice=0.69033]\n"
     ]
    },
    {
     "name": "stdout",
     "output_type": "stream",
     "text": [
      "soft dice: 0.83417 | loss: 0.19213 | hard dice: 0.83417 | bce: 0.02143\n"
     ]
    },
    {
     "name": "stderr",
     "output_type": "stream",
     "text": [
      "Epoch 148: 100% 2/2 [00:08<00:00,  4.19s/it, bce=0.03180, hard dice=0.50204, loss=0.53161, soft dice=0.50200]\n"
     ]
    },
    {
     "name": "stdout",
     "output_type": "stream",
     "text": [
      "soft dice: 0.83417 | loss: 0.19157 | hard dice: 0.83417 | bce: 0.02093\n"
     ]
    },
    {
     "name": "stderr",
     "output_type": "stream",
     "text": [
      "Epoch 149: 100% 2/2 [00:07<00:00,  3.64s/it, bce=0.04352, hard dice=0.56441, loss=0.54064, soft dice=0.56433]\n"
     ]
    },
    {
     "name": "stdout",
     "output_type": "stream",
     "text": [
      "soft dice: 0.83417 | loss: 0.19118 | hard dice: 0.83417 | bce: 0.02055\n",
      "Finished train fold: 1 with best loss 0.18819 on epoch 91\n",
      "\n"
     ]
    },
    {
     "name": "stderr",
     "output_type": "stream",
     "text": [
      "Epoch 0: 100% 2/2 [00:07<00:00,  3.53s/it, bce=0.36633, hard dice=0.50062, loss=1.36484, soft dice=0.00213]\n"
     ]
    },
    {
     "name": "stdout",
     "output_type": "stream",
     "text": [
      "soft dice: 0.00803 | loss: 1.08719 | hard dice: 0.69679 | bce: 0.03516\n"
     ]
    },
    {
     "name": "stderr",
     "output_type": "stream",
     "text": [
      "Epoch 1: 100% 2/2 [00:07<00:00,  3.65s/it, bce=0.01901, hard dice=0.93908, loss=0.51942, soft dice=0.52357]\n"
     ]
    },
    {
     "name": "stdout",
     "output_type": "stream",
     "text": [
      "soft dice: 0.69679 | loss: 96.40157 | hard dice: 0.69679 | bce: 0.03642\n"
     ]
    },
    {
     "name": "stderr",
     "output_type": "stream",
     "text": [
      "Epoch 2: 100% 2/2 [00:07<00:00,  3.85s/it, bce=0.03771, hard dice=0.69176, loss=0.40886, soft dice=0.69176]\n"
     ]
    },
    {
     "name": "stdout",
     "output_type": "stream",
     "text": [
      "soft dice: 0.69679 | loss: 3.39273 | hard dice: 0.69679 | bce: 0.03642\n"
     ]
    },
    {
     "name": "stderr",
     "output_type": "stream",
     "text": [
      "Epoch 3: 100% 2/2 [00:08<00:00,  4.06s/it, bce=0.04290, hard dice=0.81534, loss=0.37681, soft dice=0.81534]\n"
     ]
    },
    {
     "name": "stdout",
     "output_type": "stream",
     "text": [
      "soft dice: 0.69679 | loss: 2.25615 | hard dice: 0.69679 | bce: 0.03642\n"
     ]
    },
    {
     "name": "stderr",
     "output_type": "stream",
     "text": [
      "Epoch 4: 100% 2/2 [00:07<00:00,  3.68s/it, bce=0.03861, hard dice=0.69089, loss=0.40553, soft dice=0.69089]\n"
     ]
    },
    {
     "name": "stdout",
     "output_type": "stream",
     "text": [
      "soft dice: 0.69679 | loss: 2.67269 | hard dice: 0.69679 | bce: 0.03642\n"
     ]
    },
    {
     "name": "stderr",
     "output_type": "stream",
     "text": [
      "Epoch 5: 100% 2/2 [00:07<00:00,  3.51s/it, bce=0.03025, hard dice=0.75381, loss=0.29336, soft dice=0.75319]\n"
     ]
    },
    {
     "name": "stdout",
     "output_type": "stream",
     "text": [
      "soft dice: 0.69679 | loss: 4.51393 | hard dice: 0.69679 | bce: 0.03642\n"
     ]
    },
    {
     "name": "stderr",
     "output_type": "stream",
     "text": [
      "Epoch 6: 100% 2/2 [00:07<00:00,  3.97s/it, bce=0.03527, hard dice=0.62697, loss=0.42144, soft dice=0.62356]\n"
     ]
    },
    {
     "name": "stdout",
     "output_type": "stream",
     "text": [
      "soft dice: 0.69679 | loss: 3.91408 | hard dice: 0.69679 | bce: 0.03642\n"
     ]
    },
    {
     "name": "stderr",
     "output_type": "stream",
     "text": [
      "Epoch 7: 100% 2/2 [00:07<00:00,  3.75s/it, bce=0.02852, hard dice=0.81334, loss=0.22763, soft dice=0.81199]\n"
     ]
    },
    {
     "name": "stdout",
     "output_type": "stream",
     "text": [
      "soft dice: 0.69679 | loss: 1.70404 | hard dice: 0.69679 | bce: 0.03642\n"
     ]
    },
    {
     "name": "stderr",
     "output_type": "stream",
     "text": [
      "Epoch 8: 100% 2/2 [00:07<00:00,  3.75s/it, bce=0.02166, hard dice=0.93810, loss=0.08566, soft dice=0.93810]\n"
     ]
    },
    {
     "name": "stdout",
     "output_type": "stream",
     "text": [
      "soft dice: 0.69679 | loss: 1.08546 | hard dice: 0.69679 | bce: 0.03640\n"
     ]
    },
    {
     "name": "stderr",
     "output_type": "stream",
     "text": [
      "Epoch 9: 100% 2/2 [00:07<00:00,  3.54s/it, bce=0.02960, hard dice=0.50310, loss=0.53424, soft dice=0.50309]\n"
     ]
    },
    {
     "name": "stdout",
     "output_type": "stream",
     "text": [
      "soft dice: 0.69679 | loss: 0.81492 | hard dice: 0.69679 | bce: 0.03604\n"
     ]
    },
    {
     "name": "stderr",
     "output_type": "stream",
     "text": [
      "Epoch 10: 100% 2/2 [00:08<00:00,  4.15s/it, bce=0.02276, hard dice=1.00000, loss=0.03456, soft dice=0.98890]\n"
     ]
    },
    {
     "name": "stdout",
     "output_type": "stream",
     "text": [
      "soft dice: 0.69679 | loss: 0.48617 | hard dice: 0.69679 | bce: 0.03575\n"
     ]
    },
    {
     "name": "stderr",
     "output_type": "stream",
     "text": [
      "Epoch 11: 100% 2/2 [00:07<00:00,  3.85s/it, bce=0.02486, hard dice=0.87808, loss=0.15493, soft dice=0.87808]\n"
     ]
    },
    {
     "name": "stdout",
     "output_type": "stream",
     "text": [
      "soft dice: 0.69679 | loss: 0.43249 | hard dice: 0.69679 | bce: 0.03642\n"
     ]
    },
    {
     "name": "stderr",
     "output_type": "stream",
     "text": [
      "Epoch 12: 100% 2/2 [00:07<00:00,  3.96s/it, bce=0.03371, hard dice=0.75237, loss=0.29520, soft dice=0.75237]\n"
     ]
    },
    {
     "name": "stdout",
     "output_type": "stream",
     "text": [
      "soft dice: 0.69679 | loss: 0.40587 | hard dice: 0.69679 | bce: 0.03642\n"
     ]
    },
    {
     "name": "stderr",
     "output_type": "stream",
     "text": [
      "Epoch 13: 100% 2/2 [00:07<00:00,  3.87s/it, bce=0.04548, hard dice=0.75081, loss=0.32137, soft dice=0.75081]\n"
     ]
    },
    {
     "name": "stdout",
     "output_type": "stream",
     "text": [
      "soft dice: 0.69679 | loss: 0.40149 | hard dice: 0.69679 | bce: 0.03642\n"
     ]
    },
    {
     "name": "stderr",
     "output_type": "stream",
     "text": [
      "Epoch 14: 100% 2/2 [00:07<00:00,  3.58s/it, bce=0.04783, hard dice=0.75143, loss=0.32015, soft dice=0.75143]\n"
     ]
    },
    {
     "name": "stdout",
     "output_type": "stream",
     "text": [
      "soft dice: 0.69679 | loss: 0.38893 | hard dice: 0.69679 | bce: 0.03642\n"
     ]
    },
    {
     "name": "stderr",
     "output_type": "stream",
     "text": [
      "Epoch 15: 100% 2/2 [00:07<00:00,  3.67s/it, bce=0.02776, hard dice=0.69011, loss=0.34544, soft dice=0.69011]\n"
     ]
    },
    {
     "name": "stdout",
     "output_type": "stream",
     "text": [
      "soft dice: 0.69679 | loss: 0.38502 | hard dice: 0.69679 | bce: 0.03641\n"
     ]
    },
    {
     "name": "stderr",
     "output_type": "stream",
     "text": [
      "Epoch 16: 100% 2/2 [00:07<00:00,  3.94s/it, bce=0.02547, hard dice=0.62807, loss=0.40137, soft dice=0.62807]\n"
     ]
    },
    {
     "name": "stdout",
     "output_type": "stream",
     "text": [
      "soft dice: 0.69679 | loss: 0.39550 | hard dice: 0.69679 | bce: 0.03636\n"
     ]
    },
    {
     "name": "stderr",
     "output_type": "stream",
     "text": [
      "Epoch 17: 100% 2/2 [00:07<00:00,  3.70s/it, bce=0.03391, hard dice=0.87633, loss=0.22446, soft dice=0.87633]\n"
     ]
    },
    {
     "name": "stdout",
     "output_type": "stream",
     "text": [
      "soft dice: 0.69679 | loss: 0.38955 | hard dice: 0.69679 | bce: 0.03606\n"
     ]
    },
    {
     "name": "stderr",
     "output_type": "stream",
     "text": [
      "Epoch 18: 100% 2/2 [00:07<00:00,  3.98s/it, bce=0.02505, hard dice=0.87737, loss=0.22654, soft dice=0.87737]\n"
     ]
    },
    {
     "name": "stdout",
     "output_type": "stream",
     "text": [
      "soft dice: 0.69679 | loss: 0.38399 | hard dice: 0.69679 | bce: 0.03537\n"
     ]
    },
    {
     "name": "stderr",
     "output_type": "stream",
     "text": [
      "Epoch 19: 100% 2/2 [00:07<00:00,  3.52s/it, bce=0.03742, hard dice=0.93846, loss=0.10019, soft dice=0.93845]\n"
     ]
    },
    {
     "name": "stdout",
     "output_type": "stream",
     "text": [
      "soft dice: 0.69679 | loss: 0.40339 | hard dice: 0.69679 | bce: 0.03416\n"
     ]
    },
    {
     "name": "stderr",
     "output_type": "stream",
     "text": [
      "Epoch 20: 100% 2/2 [00:07<00:00,  3.60s/it, bce=0.03103, hard dice=0.62789, loss=0.40514, soft dice=0.62776]\n"
     ]
    },
    {
     "name": "stdout",
     "output_type": "stream",
     "text": [
      "soft dice: 0.69679 | loss: 0.37527 | hard dice: 0.69679 | bce: 0.03196\n"
     ]
    },
    {
     "name": "stderr",
     "output_type": "stream",
     "text": [
      "Epoch 21: 100% 2/2 [00:07<00:00,  3.92s/it, bce=0.02528, hard dice=0.68967, loss=0.39650, soft dice=0.68925]\n"
     ]
    },
    {
     "name": "stdout",
     "output_type": "stream",
     "text": [
      "soft dice: 0.69677 | loss: 0.35502 | hard dice: 0.69679 | bce: 0.02977\n"
     ]
    },
    {
     "name": "stderr",
     "output_type": "stream",
     "text": [
      "Epoch 22: 100% 2/2 [00:08<00:00,  4.05s/it, bce=0.03482, hard dice=0.75152, loss=0.29000, soft dice=0.74918]\n"
     ]
    },
    {
     "name": "stdout",
     "output_type": "stream",
     "text": [
      "soft dice: 0.69669 | loss: 0.35236 | hard dice: 0.69679 | bce: 0.02807\n"
     ]
    },
    {
     "name": "stderr",
     "output_type": "stream",
     "text": [
      "Epoch 23: 100% 2/2 [00:07<00:00,  3.72s/it, bce=0.01999, hard dice=0.93869, loss=0.08272, soft dice=0.93791]\n"
     ]
    },
    {
     "name": "stdout",
     "output_type": "stream",
     "text": [
      "soft dice: 0.69659 | loss: 0.35405 | hard dice: 0.69679 | bce: 0.02726\n"
     ]
    },
    {
     "name": "stderr",
     "output_type": "stream",
     "text": [
      "Epoch 24: 100% 2/2 [00:08<00:00,  4.09s/it, bce=0.01436, hard dice=1.00000, loss=0.01790, soft dice=0.99816]\n"
     ]
    },
    {
     "name": "stdout",
     "output_type": "stream",
     "text": [
      "soft dice: 0.69650 | loss: 0.35252 | hard dice: 0.69679 | bce: 0.02679\n"
     ]
    },
    {
     "name": "stderr",
     "output_type": "stream",
     "text": [
      "Epoch 25: 100% 2/2 [00:08<00:00,  4.24s/it, bce=0.01910, hard dice=0.93823, loss=0.08328, soft dice=0.93659]\n"
     ]
    },
    {
     "name": "stdout",
     "output_type": "stream",
     "text": [
      "soft dice: 0.69638 | loss: 0.34724 | hard dice: 0.69679 | bce: 0.02617\n"
     ]
    },
    {
     "name": "stderr",
     "output_type": "stream",
     "text": [
      "Epoch 26: 100% 2/2 [00:08<00:00,  4.10s/it, bce=0.02084, hard dice=0.94466, loss=0.07986, soft dice=0.94444]\n"
     ]
    },
    {
     "name": "stdout",
     "output_type": "stream",
     "text": [
      "soft dice: 0.69644 | loss: 0.34867 | hard dice: 0.69679 | bce: 0.02644\n"
     ]
    },
    {
     "name": "stderr",
     "output_type": "stream",
     "text": [
      "Epoch 27: 100% 2/2 [00:07<00:00,  3.65s/it, bce=0.01797, hard dice=0.87586, loss=0.15009, soft dice=0.86874]\n"
     ]
    },
    {
     "name": "stdout",
     "output_type": "stream",
     "text": [
      "soft dice: 0.69622 | loss: 0.35513 | hard dice: 0.69679 | bce: 0.02609\n"
     ]
    },
    {
     "name": "stderr",
     "output_type": "stream",
     "text": [
      "Epoch 28: 100% 2/2 [00:07<00:00,  3.93s/it, bce=0.01762, hard dice=0.75217, loss=0.26543, soft dice=0.75203]\n"
     ]
    },
    {
     "name": "stdout",
     "output_type": "stream",
     "text": [
      "soft dice: 0.69626 | loss: 0.34965 | hard dice: 0.69679 | bce: 0.02598\n"
     ]
    },
    {
     "name": "stderr",
     "output_type": "stream",
     "text": [
      "Epoch 29: 100% 2/2 [00:08<00:00,  4.42s/it, bce=0.02065, hard dice=0.62718, loss=0.39442, soft dice=0.62634]\n"
     ]
    },
    {
     "name": "stdout",
     "output_type": "stream",
     "text": [
      "soft dice: 0.69633 | loss: 0.35670 | hard dice: 0.69679 | bce: 0.02635\n",
      "Starting cyclic lr\n"
     ]
    },
    {
     "name": "stderr",
     "output_type": "stream",
     "text": [
      "Epoch 30: 100% 2/2 [00:07<00:00,  3.71s/it, bce=0.01299, hard dice=0.88413, loss=0.13865, soft dice=0.88328]\n"
     ]
    },
    {
     "name": "stdout",
     "output_type": "stream",
     "text": [
      "soft dice: 0.69650 | loss: 0.34571 | hard dice: 0.69679 | bce: 0.02785\n"
     ]
    },
    {
     "name": "stderr",
     "output_type": "stream",
     "text": [
      "Epoch 31: 100% 2/2 [00:08<00:00,  4.15s/it, bce=0.03016, hard dice=0.62829, loss=0.41087, soft dice=0.62829]\n"
     ]
    },
    {
     "name": "stdout",
     "output_type": "stream",
     "text": [
      "soft dice: 0.69578 | loss: 0.35191 | hard dice: 0.69679 | bce: 0.02753\n"
     ]
    },
    {
     "name": "stderr",
     "output_type": "stream",
     "text": [
      "Epoch 32: 100% 2/2 [00:07<00:00,  3.57s/it, bce=0.04391, hard dice=0.81478, loss=0.25240, soft dice=0.81478]\n"
     ]
    },
    {
     "name": "stdout",
     "output_type": "stream",
     "text": [
      "soft dice: 0.69572 | loss: 0.35192 | hard dice: 0.69679 | bce: 0.02700\n"
     ]
    },
    {
     "name": "stderr",
     "output_type": "stream",
     "text": [
      "Epoch 33: 100% 2/2 [00:08<00:00,  4.28s/it, bce=0.03268, hard dice=0.44049, loss=0.60851, soft dice=0.44047]\n"
     ]
    },
    {
     "name": "stdout",
     "output_type": "stream",
     "text": [
      "soft dice: 0.69531 | loss: 0.35160 | hard dice: 0.69679 | bce: 0.02657\n"
     ]
    },
    {
     "name": "stderr",
     "output_type": "stream",
     "text": [
      "Epoch 34: 100% 2/2 [00:07<00:00,  3.58s/it, bce=0.03076, hard dice=0.75210, loss=0.28471, soft dice=0.75208]\n"
     ]
    },
    {
     "name": "stdout",
     "output_type": "stream",
     "text": [
      "soft dice: 0.69641 | loss: 0.35290 | hard dice: 0.69679 | bce: 0.02815\n"
     ]
    },
    {
     "name": "stderr",
     "output_type": "stream",
     "text": [
      "Epoch 35: 100% 2/2 [00:07<00:00,  3.86s/it, bce=0.02651, hard dice=0.68969, loss=0.40112, soft dice=0.63303]\n"
     ]
    },
    {
     "name": "stdout",
     "output_type": "stream",
     "text": [
      "soft dice: 0.69570 | loss: 0.34784 | hard dice: 0.69679 | bce: 0.02693\n"
     ]
    },
    {
     "name": "stderr",
     "output_type": "stream",
     "text": [
      "Epoch 36: 100% 2/2 [00:07<00:00,  3.81s/it, bce=0.02454, hard dice=1.00000, loss=0.02652, soft dice=0.99955]\n"
     ]
    },
    {
     "name": "stdout",
     "output_type": "stream",
     "text": [
      "soft dice: 0.69679 | loss: 0.36037 | hard dice: 0.69679 | bce: 0.03612\n"
     ]
    },
    {
     "name": "stderr",
     "output_type": "stream",
     "text": [
      "Epoch 37: 100% 2/2 [00:07<00:00,  3.88s/it, bce=0.02672, hard dice=0.75470, loss=0.27483, soft dice=0.75451]\n"
     ]
    },
    {
     "name": "stdout",
     "output_type": "stream",
     "text": [
      "soft dice: 0.69679 | loss: 0.35689 | hard dice: 0.69679 | bce: 0.03577\n"
     ]
    },
    {
     "name": "stderr",
     "output_type": "stream",
     "text": [
      "Epoch 38: 100% 2/2 [00:08<00:00,  4.04s/it, bce=0.03363, hard dice=0.93835, loss=0.09738, soft dice=0.93835]\n"
     ]
    },
    {
     "name": "stdout",
     "output_type": "stream",
     "text": [
      "soft dice: 0.69679 | loss: 0.35527 | hard dice: 0.69679 | bce: 0.03546\n"
     ]
    },
    {
     "name": "stderr",
     "output_type": "stream",
     "text": [
      "Epoch 39: 100% 2/2 [00:07<00:00,  3.93s/it, bce=0.03481, hard dice=0.87578, loss=0.22215, soft dice=0.87577]\n"
     ]
    },
    {
     "name": "stdout",
     "output_type": "stream",
     "text": [
      "soft dice: 0.69679 | loss: 0.35569 | hard dice: 0.69679 | bce: 0.03562\n"
     ]
    },
    {
     "name": "stderr",
     "output_type": "stream",
     "text": [
      "Epoch 40: 100% 2/2 [00:07<00:00,  3.77s/it, bce=0.03947, hard dice=0.68989, loss=0.35248, soft dice=0.68983]\n"
     ]
    },
    {
     "name": "stdout",
     "output_type": "stream",
     "text": [
      "soft dice: 0.69611 | loss: 0.34725 | hard dice: 0.69679 | bce: 0.02677\n"
     ]
    },
    {
     "name": "stderr",
     "output_type": "stream",
     "text": [
      "Epoch 41: 100% 2/2 [00:08<00:00,  4.03s/it, bce=0.01894, hard dice=0.87564, loss=0.15075, soft dice=0.87117]\n"
     ]
    },
    {
     "name": "stdout",
     "output_type": "stream",
     "text": [
      "soft dice: 0.69678 | loss: 0.34851 | hard dice: 0.69679 | bce: 0.03129\n"
     ]
    },
    {
     "name": "stderr",
     "output_type": "stream",
     "text": [
      "Epoch 42: 100% 2/2 [00:07<00:00,  3.88s/it, bce=0.02930, hard dice=0.56830, loss=0.46512, soft dice=0.56777]\n"
     ]
    },
    {
     "name": "stdout",
     "output_type": "stream",
     "text": [
      "soft dice: 0.69679 | loss: 0.34841 | hard dice: 0.69679 | bce: 0.03143\n"
     ]
    },
    {
     "name": "stderr",
     "output_type": "stream",
     "text": [
      "Epoch 43: 100% 2/2 [00:08<00:00,  4.11s/it, bce=0.03562, hard dice=1.00000, loss=0.03536, soft dice=1.00000]\n"
     ]
    },
    {
     "name": "stdout",
     "output_type": "stream",
     "text": [
      "soft dice: 0.69679 | loss: 0.34923 | hard dice: 0.69679 | bce: 0.03219\n"
     ]
    },
    {
     "name": "stderr",
     "output_type": "stream",
     "text": [
      "Epoch 44: 100% 2/2 [00:07<00:00,  3.72s/it, bce=0.02345, hard dice=0.69005, loss=0.33387, soft dice=0.69003]\n"
     ]
    },
    {
     "name": "stdout",
     "output_type": "stream",
     "text": [
      "soft dice: 0.69679 | loss: 0.34897 | hard dice: 0.69679 | bce: 0.03197\n"
     ]
    },
    {
     "name": "stderr",
     "output_type": "stream",
     "text": [
      "Epoch 45: 100% 2/2 [00:07<00:00,  3.96s/it, bce=0.02374, hard dice=0.93835, loss=0.08576, soft dice=0.93834]\n"
     ]
    },
    {
     "name": "stdout",
     "output_type": "stream",
     "text": [
      "soft dice: 0.69660 | loss: 0.34393 | hard dice: 0.69679 | bce: 0.02683\n"
     ]
    },
    {
     "name": "stderr",
     "output_type": "stream",
     "text": [
      "Epoch 46: 100% 2/2 [00:07<00:00,  3.52s/it, bce=0.01843, hard dice=0.87684, loss=0.22644, soft dice=0.82464]\n"
     ]
    },
    {
     "name": "stdout",
     "output_type": "stream",
     "text": [
      "soft dice: 0.69669 | loss: 0.34490 | hard dice: 0.69679 | bce: 0.02784\n"
     ]
    },
    {
     "name": "stderr",
     "output_type": "stream",
     "text": [
      "Epoch 47: 100% 2/2 [00:07<00:00,  3.79s/it, bce=0.02127, hard dice=0.93832, loss=0.08658, soft dice=0.93691]\n"
     ]
    },
    {
     "name": "stdout",
     "output_type": "stream",
     "text": [
      "soft dice: 0.69676 | loss: 0.34639 | hard dice: 0.69679 | bce: 0.02931\n"
     ]
    },
    {
     "name": "stderr",
     "output_type": "stream",
     "text": [
      "Epoch 48: 100% 2/2 [00:07<00:00,  3.55s/it, bce=0.02528, hard dice=0.87659, loss=0.14961, soft dice=0.87655]\n"
     ]
    },
    {
     "name": "stdout",
     "output_type": "stream",
     "text": [
      "soft dice: 0.69678 | loss: 0.34791 | hard dice: 0.69679 | bce: 0.03077\n"
     ]
    },
    {
     "name": "stderr",
     "output_type": "stream",
     "text": [
      "Epoch 49: 100% 2/2 [00:08<00:00,  4.10s/it, bce=0.04343, hard dice=0.81403, loss=0.22987, soft dice=0.81383]\n"
     ]
    },
    {
     "name": "stdout",
     "output_type": "stream",
     "text": [
      "soft dice: 0.69678 | loss: 0.34836 | hard dice: 0.69679 | bce: 0.03117\n"
     ]
    },
    {
     "name": "stderr",
     "output_type": "stream",
     "text": [
      "Epoch 50: 100% 2/2 [00:07<00:00,  3.78s/it, bce=0.03163, hard dice=0.81370, loss=0.21951, soft dice=0.81190]\n"
     ]
    },
    {
     "name": "stdout",
     "output_type": "stream",
     "text": [
      "soft dice: 0.69669 | loss: 0.34496 | hard dice: 0.69679 | bce: 0.02782\n"
     ]
    },
    {
     "name": "stderr",
     "output_type": "stream",
     "text": [
      "Epoch 51: 100% 2/2 [00:08<00:00,  4.20s/it, bce=0.04174, hard dice=0.56508, loss=0.47717, soft dice=0.56485]\n"
     ]
    },
    {
     "name": "stdout",
     "output_type": "stream",
     "text": [
      "soft dice: 0.69675 | loss: 0.34616 | hard dice: 0.69679 | bce: 0.02891\n"
     ]
    },
    {
     "name": "stderr",
     "output_type": "stream",
     "text": [
      "Epoch 52: 100% 2/2 [00:07<00:00,  3.50s/it, bce=0.02385, hard dice=0.93809, loss=0.08759, soft dice=0.93695]\n"
     ]
    },
    {
     "name": "stdout",
     "output_type": "stream",
     "text": [
      "soft dice: 0.69672 | loss: 0.34577 | hard dice: 0.69679 | bce: 0.02841\n"
     ]
    },
    {
     "name": "stderr",
     "output_type": "stream",
     "text": [
      "Epoch 53: 100% 2/2 [00:07<00:00,  3.64s/it, bce=0.02484, hard dice=0.93860, loss=0.08842, soft dice=0.93711]\n"
     ]
    },
    {
     "name": "stdout",
     "output_type": "stream",
     "text": [
      "soft dice: 0.69665 | loss: 0.34475 | hard dice: 0.69679 | bce: 0.02746\n"
     ]
    },
    {
     "name": "stderr",
     "output_type": "stream",
     "text": [
      "Epoch 54: 100% 2/2 [00:08<00:00,  4.14s/it, bce=0.01910, hard dice=0.93858, loss=0.08299, soft dice=0.93611]\n"
     ]
    },
    {
     "name": "stdout",
     "output_type": "stream",
     "text": [
      "soft dice: 0.69665 | loss: 0.34466 | hard dice: 0.69679 | bce: 0.02739\n"
     ]
    },
    {
     "name": "stderr",
     "output_type": "stream",
     "text": [
      "Epoch 55: 100% 2/2 [00:07<00:00,  3.54s/it, bce=0.03105, hard dice=0.56573, loss=0.46543, soft dice=0.56557]\n"
     ]
    },
    {
     "name": "stdout",
     "output_type": "stream",
     "text": [
      "soft dice: 0.69668 | loss: 0.34698 | hard dice: 0.69679 | bce: 0.02791\n"
     ]
    },
    {
     "name": "stderr",
     "output_type": "stream",
     "text": [
      "Epoch 56: 100% 2/2 [00:07<00:00,  3.92s/it, bce=0.02881, hard dice=0.56551, loss=0.46930, soft dice=0.56116]\n"
     ]
    },
    {
     "name": "stdout",
     "output_type": "stream",
     "text": [
      "soft dice: 0.69675 | loss: 0.34842 | hard dice: 0.69679 | bce: 0.02924\n"
     ]
    },
    {
     "name": "stderr",
     "output_type": "stream",
     "text": [
      "Epoch 57: 100% 2/2 [00:07<00:00,  3.72s/it, bce=0.02853, hard dice=0.62677, loss=0.40242, soft dice=0.62623]\n"
     ]
    },
    {
     "name": "stdout",
     "output_type": "stream",
     "text": [
      "soft dice: 0.69675 | loss: 0.34798 | hard dice: 0.69679 | bce: 0.02919\n"
     ]
    },
    {
     "name": "stderr",
     "output_type": "stream",
     "text": [
      "Epoch 58: 100% 2/2 [00:08<00:00,  4.09s/it, bce=0.02419, hard dice=0.81615, loss=0.20890, soft dice=0.81570]\n"
     ]
    },
    {
     "name": "stdout",
     "output_type": "stream",
     "text": [
      "soft dice: 0.69675 | loss: 0.34721 | hard dice: 0.69679 | bce: 0.02895\n"
     ]
    },
    {
     "name": "stderr",
     "output_type": "stream",
     "text": [
      "Epoch 59: 100% 2/2 [00:08<00:00,  4.04s/it, bce=0.02856, hard dice=0.62871, loss=0.46481, soft dice=0.62760]\n"
     ]
    },
    {
     "name": "stdout",
     "output_type": "stream",
     "text": [
      "soft dice: 0.69673 | loss: 0.34648 | hard dice: 0.69679 | bce: 0.02852\n"
     ]
    },
    {
     "name": "stderr",
     "output_type": "stream",
     "text": [
      "Epoch 60: 100% 2/2 [00:07<00:00,  3.89s/it, bce=0.03104, hard dice=0.75086, loss=0.28412, soft dice=0.74764]\n"
     ]
    },
    {
     "name": "stdout",
     "output_type": "stream",
     "text": [
      "soft dice: 0.69679 | loss: 0.35761 | hard dice: 0.69679 | bce: 0.03175\n"
     ]
    },
    {
     "name": "stderr",
     "output_type": "stream",
     "text": [
      "Epoch 61: 100% 2/2 [00:07<00:00,  3.81s/it, bce=0.03192, hard dice=0.75189, loss=0.28454, soft dice=0.75186]\n"
     ]
    },
    {
     "name": "stdout",
     "output_type": "stream",
     "text": [
      "soft dice: 0.69679 | loss: 0.39906 | hard dice: 0.69679 | bce: 0.03550\n"
     ]
    },
    {
     "name": "stderr",
     "output_type": "stream",
     "text": [
      "Epoch 62: 100% 2/2 [00:08<00:00,  4.02s/it, bce=0.03528, hard dice=0.56461, loss=0.47931, soft dice=0.56461]\n"
     ]
    },
    {
     "name": "stdout",
     "output_type": "stream",
     "text": [
      "soft dice: 0.69679 | loss: 0.39029 | hard dice: 0.69679 | bce: 0.03460\n"
     ]
    },
    {
     "name": "stderr",
     "output_type": "stream",
     "text": [
      "Epoch 63: 100% 2/2 [00:08<00:00,  4.01s/it, bce=0.02221, hard dice=1.00000, loss=0.02898, soft dice=1.00000]\n"
     ]
    },
    {
     "name": "stdout",
     "output_type": "stream",
     "text": [
      "soft dice: 0.69679 | loss: 0.37365 | hard dice: 0.69679 | bce: 0.03332\n"
     ]
    },
    {
     "name": "stderr",
     "output_type": "stream",
     "text": [
      "Epoch 64: 100% 2/2 [00:07<00:00,  3.69s/it, bce=0.02094, hard dice=0.75263, loss=0.27091, soft dice=0.75259]\n"
     ]
    },
    {
     "name": "stdout",
     "output_type": "stream",
     "text": [
      "soft dice: 0.69679 | loss: 0.36297 | hard dice: 0.69679 | bce: 0.03259\n"
     ]
    },
    {
     "name": "stderr",
     "output_type": "stream",
     "text": [
      "Epoch 65: 100% 2/2 [00:08<00:00,  4.09s/it, bce=0.03285, hard dice=0.56477, loss=0.48351, soft dice=0.55206]\n"
     ]
    },
    {
     "name": "stdout",
     "output_type": "stream",
     "text": [
      "soft dice: 0.69671 | loss: 0.34872 | hard dice: 0.69679 | bce: 0.02826\n"
     ]
    },
    {
     "name": "stderr",
     "output_type": "stream",
     "text": [
      "Epoch 66: 100% 2/2 [00:07<00:00,  3.99s/it, bce=0.02979, hard dice=0.81405, loss=0.21937, soft dice=0.81318]\n"
     ]
    },
    {
     "name": "stdout",
     "output_type": "stream",
     "text": [
      "soft dice: 0.69679 | loss: 0.35471 | hard dice: 0.69679 | bce: 0.03582\n"
     ]
    },
    {
     "name": "stderr",
     "output_type": "stream",
     "text": [
      "Epoch 67: 100% 2/2 [00:07<00:00,  3.81s/it, bce=0.04236, hard dice=0.62717, loss=0.41772, soft dice=0.62717]\n"
     ]
    },
    {
     "name": "stdout",
     "output_type": "stream",
     "text": [
      "soft dice: 0.69679 | loss: 0.35355 | hard dice: 0.69679 | bce: 0.03538\n"
     ]
    },
    {
     "name": "stderr",
     "output_type": "stream",
     "text": [
      "Epoch 68: 100% 2/2 [00:08<00:00,  4.14s/it, bce=0.03002, hard dice=0.68989, loss=0.34222, soft dice=0.68989]\n"
     ]
    },
    {
     "name": "stdout",
     "output_type": "stream",
     "text": [
      "soft dice: 0.69679 | loss: 0.35233 | hard dice: 0.69679 | bce: 0.03459\n"
     ]
    },
    {
     "name": "stderr",
     "output_type": "stream",
     "text": [
      "Epoch 69: 100% 2/2 [00:07<00:00,  3.73s/it, bce=0.02577, hard dice=0.81539, loss=0.21172, soft dice=0.81539]\n"
     ]
    },
    {
     "name": "stdout",
     "output_type": "stream",
     "text": [
      "soft dice: 0.69679 | loss: 0.35095 | hard dice: 0.69679 | bce: 0.03365\n"
     ]
    },
    {
     "name": "stderr",
     "output_type": "stream",
     "text": [
      "Epoch 70: 100% 2/2 [00:07<00:00,  3.93s/it, bce=0.02583, hard dice=0.63049, loss=0.40026, soft dice=0.62876]\n"
     ]
    },
    {
     "name": "stdout",
     "output_type": "stream",
     "text": [
      "soft dice: 0.69639 | loss: 0.34728 | hard dice: 0.69679 | bce: 0.02608\n"
     ]
    },
    {
     "name": "stderr",
     "output_type": "stream",
     "text": [
      "Epoch 71: 100% 2/2 [00:07<00:00,  3.69s/it, bce=0.02182, hard dice=0.75105, loss=0.27931, soft dice=0.74409]\n"
     ]
    },
    {
     "name": "stdout",
     "output_type": "stream",
     "text": [
      "soft dice: 0.69679 | loss: 0.34860 | hard dice: 0.69679 | bce: 0.03142\n"
     ]
    },
    {
     "name": "stderr",
     "output_type": "stream",
     "text": [
      "Epoch 72: 100% 2/2 [00:07<00:00,  3.97s/it, bce=0.01954, hard dice=1.00000, loss=0.01946, soft dice=1.00000]\n"
     ]
    },
    {
     "name": "stdout",
     "output_type": "stream",
     "text": [
      "soft dice: 0.69679 | loss: 0.34791 | hard dice: 0.69679 | bce: 0.03094\n"
     ]
    },
    {
     "name": "stderr",
     "output_type": "stream",
     "text": [
      "Epoch 73: 100% 2/2 [00:08<00:00,  4.03s/it, bce=0.02688, hard dice=0.81448, loss=0.21368, soft dice=0.81437]\n"
     ]
    },
    {
     "name": "stdout",
     "output_type": "stream",
     "text": [
      "soft dice: 0.69678 | loss: 0.34705 | hard dice: 0.69679 | bce: 0.03016\n"
     ]
    },
    {
     "name": "stderr",
     "output_type": "stream",
     "text": [
      "Epoch 74: 100% 2/2 [00:07<00:00,  3.96s/it, bce=0.03057, hard dice=0.81492, loss=0.21741, soft dice=0.81473]\n"
     ]
    },
    {
     "name": "stdout",
     "output_type": "stream",
     "text": [
      "soft dice: 0.69678 | loss: 0.34647 | hard dice: 0.69679 | bce: 0.02958\n"
     ]
    },
    {
     "name": "stderr",
     "output_type": "stream",
     "text": [
      "Epoch 75: 100% 2/2 [00:07<00:00,  3.91s/it, bce=0.03175, hard dice=0.68900, loss=0.34621, soft dice=0.68896]\n"
     ]
    },
    {
     "name": "stdout",
     "output_type": "stream",
     "text": [
      "soft dice: 0.69289 | loss: 0.34323 | hard dice: 0.69679 | bce: 0.02238\n"
     ]
    },
    {
     "name": "stderr",
     "output_type": "stream",
     "text": [
      "Epoch 76: 100% 2/2 [00:07<00:00,  3.88s/it, bce=0.01844, hard dice=0.75208, loss=0.28268, soft dice=0.73702]\n"
     ]
    },
    {
     "name": "stdout",
     "output_type": "stream",
     "text": [
      "soft dice: 0.69679 | loss: 0.34916 | hard dice: 0.69679 | bce: 0.03226\n"
     ]
    },
    {
     "name": "stderr",
     "output_type": "stream",
     "text": [
      "Epoch 77: 100% 2/2 [00:07<00:00,  3.82s/it, bce=0.02729, hard dice=0.87748, loss=0.14966, soft dice=0.87743]\n"
     ]
    },
    {
     "name": "stdout",
     "output_type": "stream",
     "text": [
      "soft dice: 0.69679 | loss: 0.34902 | hard dice: 0.69679 | bce: 0.03209\n"
     ]
    },
    {
     "name": "stderr",
     "output_type": "stream",
     "text": [
      "Epoch 78: 100% 2/2 [00:08<00:00,  4.22s/it, bce=0.02593, hard dice=0.75366, loss=0.27439, soft dice=0.75365]\n"
     ]
    },
    {
     "name": "stdout",
     "output_type": "stream",
     "text": [
      "soft dice: 0.69679 | loss: 0.34906 | hard dice: 0.69679 | bce: 0.03209\n"
     ]
    },
    {
     "name": "stderr",
     "output_type": "stream",
     "text": [
      "Epoch 79: 100% 2/2 [00:07<00:00,  3.78s/it, bce=0.02778, hard dice=0.76813, loss=0.27636, soft dice=0.76813]\n"
     ]
    },
    {
     "name": "stdout",
     "output_type": "stream",
     "text": [
      "soft dice: 0.69679 | loss: 0.34857 | hard dice: 0.69679 | bce: 0.03158\n"
     ]
    },
    {
     "name": "stderr",
     "output_type": "stream",
     "text": [
      "Epoch 80: 100% 2/2 [00:07<00:00,  3.60s/it, bce=0.02637, hard dice=0.62847, loss=0.39859, soft dice=0.62813]\n"
     ]
    },
    {
     "name": "stdout",
     "output_type": "stream",
     "text": [
      "soft dice: 0.69636 | loss: 0.34273 | hard dice: 0.69679 | bce: 0.02534\n"
     ]
    },
    {
     "name": "stderr",
     "output_type": "stream",
     "text": [
      "Epoch 81: 100% 2/2 [00:07<00:00,  3.71s/it, bce=0.02960, hard dice=0.62674, loss=0.40691, soft dice=0.62381]\n"
     ]
    },
    {
     "name": "stdout",
     "output_type": "stream",
     "text": [
      "soft dice: 0.69663 | loss: 0.34364 | hard dice: 0.69679 | bce: 0.02651\n"
     ]
    },
    {
     "name": "stderr",
     "output_type": "stream",
     "text": [
      "Epoch 82: 100% 2/2 [00:08<00:00,  4.17s/it, bce=0.02222, hard dice=0.75102, loss=0.27432, soft dice=0.74850]\n"
     ]
    },
    {
     "name": "stdout",
     "output_type": "stream",
     "text": [
      "soft dice: 0.69661 | loss: 0.34355 | hard dice: 0.69679 | bce: 0.02643\n"
     ]
    },
    {
     "name": "stderr",
     "output_type": "stream",
     "text": [
      "Epoch 83: 100% 2/2 [00:07<00:00,  3.91s/it, bce=0.02868, hard dice=0.68963, loss=0.34199, soft dice=0.68752]\n"
     ]
    },
    {
     "name": "stdout",
     "output_type": "stream",
     "text": [
      "soft dice: 0.69661 | loss: 0.34357 | hard dice: 0.69679 | bce: 0.02646\n"
     ]
    },
    {
     "name": "stderr",
     "output_type": "stream",
     "text": [
      "Epoch 84: 100% 2/2 [00:07<00:00,  3.81s/it, bce=0.01738, hard dice=0.93878, loss=0.07961, soft dice=0.93788]\n"
     ]
    },
    {
     "name": "stdout",
     "output_type": "stream",
     "text": [
      "soft dice: 0.69652 | loss: 0.34330 | hard dice: 0.69679 | bce: 0.02612\n"
     ]
    },
    {
     "name": "stderr",
     "output_type": "stream",
     "text": [
      "Epoch 85: 100% 2/2 [00:07<00:00,  3.99s/it, bce=0.03517, hard dice=0.75081, loss=0.28645, soft dice=0.74990]\n"
     ]
    },
    {
     "name": "stdout",
     "output_type": "stream",
     "text": [
      "soft dice: 0.69667 | loss: 0.34386 | hard dice: 0.69679 | bce: 0.02684\n"
     ]
    },
    {
     "name": "stderr",
     "output_type": "stream",
     "text": [
      "Epoch 86: 100% 2/2 [00:07<00:00,  3.74s/it, bce=0.02343, hard dice=0.81338, loss=0.21117, soft dice=0.81225]\n"
     ]
    },
    {
     "name": "stdout",
     "output_type": "stream",
     "text": [
      "soft dice: 0.69678 | loss: 0.34662 | hard dice: 0.69679 | bce: 0.02969\n"
     ]
    },
    {
     "name": "stderr",
     "output_type": "stream",
     "text": [
      "Epoch 87: 100% 2/2 [00:07<00:00,  3.68s/it, bce=0.02893, hard dice=0.56558, loss=0.46391, soft dice=0.56508]\n"
     ]
    },
    {
     "name": "stdout",
     "output_type": "stream",
     "text": [
      "soft dice: 0.69677 | loss: 0.34591 | hard dice: 0.69679 | bce: 0.02894\n"
     ]
    },
    {
     "name": "stderr",
     "output_type": "stream",
     "text": [
      "Epoch 88: 100% 2/2 [00:07<00:00,  3.63s/it, bce=0.02259, hard dice=0.93843, loss=0.08436, soft dice=0.93808]\n"
     ]
    },
    {
     "name": "stdout",
     "output_type": "stream",
     "text": [
      "soft dice: 0.69675 | loss: 0.34513 | hard dice: 0.69679 | bce: 0.02811\n"
     ]
    },
    {
     "name": "stderr",
     "output_type": "stream",
     "text": [
      "Epoch 89: 100% 2/2 [00:07<00:00,  3.96s/it, bce=0.02573, hard dice=0.93818, loss=0.09158, soft dice=0.93771]\n"
     ]
    },
    {
     "name": "stdout",
     "output_type": "stream",
     "text": [
      "soft dice: 0.69673 | loss: 0.34468 | hard dice: 0.69679 | bce: 0.02763\n"
     ]
    },
    {
     "name": "stderr",
     "output_type": "stream",
     "text": [
      "Epoch 90: 100% 2/2 [00:08<00:00,  4.07s/it, bce=0.01371, hard dice=1.00000, loss=0.01599, soft dice=0.99743]\n"
     ]
    },
    {
     "name": "stdout",
     "output_type": "stream",
     "text": [
      "soft dice: 0.69672 | loss: 0.34437 | hard dice: 0.69679 | bce: 0.02733\n"
     ]
    },
    {
     "name": "stderr",
     "output_type": "stream",
     "text": [
      "Epoch 91: 100% 2/2 [00:08<00:00,  4.20s/it, bce=0.02478, hard dice=0.81473, loss=0.21155, soft dice=0.81410]\n"
     ]
    },
    {
     "name": "stdout",
     "output_type": "stream",
     "text": [
      "soft dice: 0.69679 | loss: 0.34763 | hard dice: 0.69679 | bce: 0.03066\n"
     ]
    },
    {
     "name": "stderr",
     "output_type": "stream",
     "text": [
      "Epoch 92: 100% 2/2 [00:07<00:00,  3.93s/it, bce=0.03143, hard dice=0.93805, loss=0.09438, soft dice=0.93795]\n"
     ]
    },
    {
     "name": "stdout",
     "output_type": "stream",
     "text": [
      "soft dice: 0.69678 | loss: 0.34657 | hard dice: 0.69679 | bce: 0.02958\n"
     ]
    },
    {
     "name": "stderr",
     "output_type": "stream",
     "text": [
      "Epoch 93: 100% 2/2 [00:08<00:00,  4.10s/it, bce=0.01915, hard dice=1.00000, loss=0.02000, soft dice=1.00000]\n"
     ]
    },
    {
     "name": "stdout",
     "output_type": "stream",
     "text": [
      "soft dice: 0.69676 | loss: 0.34545 | hard dice: 0.69679 | bce: 0.02844\n"
     ]
    },
    {
     "name": "stderr",
     "output_type": "stream",
     "text": [
      "Epoch 94: 100% 2/2 [00:07<00:00,  3.71s/it, bce=0.01974, hard dice=0.81379, loss=0.20617, soft dice=0.81361]\n"
     ]
    },
    {
     "name": "stdout",
     "output_type": "stream",
     "text": [
      "soft dice: 0.69675 | loss: 0.34503 | hard dice: 0.69679 | bce: 0.02800\n"
     ]
    },
    {
     "name": "stderr",
     "output_type": "stream",
     "text": [
      "Epoch 95: 100% 2/2 [00:08<00:00,  4.03s/it, bce=0.02804, hard dice=0.93858, loss=0.09916, soft dice=0.93016]\n"
     ]
    },
    {
     "name": "stdout",
     "output_type": "stream",
     "text": [
      "soft dice: 0.69675 | loss: 0.34497 | hard dice: 0.69679 | bce: 0.02794\n"
     ]
    },
    {
     "name": "stderr",
     "output_type": "stream",
     "text": [
      "Epoch 96: 100% 2/2 [00:08<00:00,  4.05s/it, bce=0.02910, hard dice=0.81471, loss=0.21511, soft dice=0.81450]\n"
     ]
    },
    {
     "name": "stdout",
     "output_type": "stream",
     "text": [
      "soft dice: 0.69679 | loss: 0.35408 | hard dice: 0.69679 | bce: 0.03572\n"
     ]
    },
    {
     "name": "stderr",
     "output_type": "stream",
     "text": [
      "Epoch 97: 100% 2/2 [00:08<00:00,  4.10s/it, bce=0.02805, hard dice=0.75187, loss=0.27995, soft dice=0.75187]\n"
     ]
    },
    {
     "name": "stdout",
     "output_type": "stream",
     "text": [
      "soft dice: 0.69679 | loss: 0.35377 | hard dice: 0.69679 | bce: 0.03557\n"
     ]
    },
    {
     "name": "stderr",
     "output_type": "stream",
     "text": [
      "Epoch 98: 100% 2/2 [00:07<00:00,  3.98s/it, bce=0.02793, hard dice=0.93852, loss=0.09086, soft dice=0.93852]\n"
     ]
    },
    {
     "name": "stdout",
     "output_type": "stream",
     "text": [
      "soft dice: 0.69679 | loss: 0.35311 | hard dice: 0.69679 | bce: 0.03524\n"
     ]
    },
    {
     "name": "stderr",
     "output_type": "stream",
     "text": [
      "Epoch 99: 100% 2/2 [00:08<00:00,  4.15s/it, bce=0.02483, hard dice=0.87708, loss=0.14838, soft dice=0.87708]\n"
     ]
    },
    {
     "name": "stdout",
     "output_type": "stream",
     "text": [
      "soft dice: 0.69679 | loss: 0.35302 | hard dice: 0.69679 | bce: 0.03518\n"
     ]
    },
    {
     "name": "stderr",
     "output_type": "stream",
     "text": [
      "Epoch 100: 100% 2/2 [00:07<00:00,  3.80s/it, bce=0.03305, hard dice=0.87626, loss=0.15704, soft dice=0.87602]\n"
     ]
    },
    {
     "name": "stdout",
     "output_type": "stream",
     "text": [
      "soft dice: 0.69642 | loss: 0.34276 | hard dice: 0.69679 | bce: 0.02550\n"
     ]
    },
    {
     "name": "stderr",
     "output_type": "stream",
     "text": [
      "Epoch 101: 100% 2/2 [00:08<00:00,  4.05s/it, bce=0.02210, hard dice=0.75204, loss=0.27741, soft dice=0.74607]\n"
     ]
    },
    {
     "name": "stdout",
     "output_type": "stream",
     "text": [
      "soft dice: 0.69678 | loss: 0.34666 | hard dice: 0.69679 | bce: 0.02973\n"
     ]
    },
    {
     "name": "stderr",
     "output_type": "stream",
     "text": [
      "Epoch 102: 100% 2/2 [00:06<00:00,  3.46s/it, bce=0.04028, hard dice=0.56427, loss=0.49925, soft dice=0.56419]\n"
     ]
    },
    {
     "name": "stdout",
     "output_type": "stream",
     "text": [
      "soft dice: 0.69678 | loss: 0.34730 | hard dice: 0.69679 | bce: 0.03036\n"
     ]
    },
    {
     "name": "stderr",
     "output_type": "stream",
     "text": [
      "Epoch 103: 100% 2/2 [00:07<00:00,  3.81s/it, bce=0.02327, hard dice=1.00000, loss=0.02338, soft dice=1.00000]\n"
     ]
    },
    {
     "name": "stdout",
     "output_type": "stream",
     "text": [
      "soft dice: 0.69678 | loss: 0.34712 | hard dice: 0.69679 | bce: 0.03018\n"
     ]
    },
    {
     "name": "stderr",
     "output_type": "stream",
     "text": [
      "Epoch 104: 100% 2/2 [00:07<00:00,  3.79s/it, bce=0.02747, hard dice=0.75223, loss=0.27545, soft dice=0.75215]\n"
     ]
    },
    {
     "name": "stdout",
     "output_type": "stream",
     "text": [
      "soft dice: 0.69678 | loss: 0.34694 | hard dice: 0.69679 | bce: 0.02999\n"
     ]
    },
    {
     "name": "stderr",
     "output_type": "stream",
     "text": [
      "Epoch 105: 100% 2/2 [00:08<00:00,  4.07s/it, bce=0.02457, hard dice=0.87658, loss=0.14895, soft dice=0.87534]\n"
     ]
    },
    {
     "name": "stdout",
     "output_type": "stream",
     "text": [
      "soft dice: 0.69643 | loss: 0.34275 | hard dice: 0.69679 | bce: 0.02548\n"
     ]
    },
    {
     "name": "stderr",
     "output_type": "stream",
     "text": [
      "Epoch 106: 100% 2/2 [00:08<00:00,  4.06s/it, bce=0.01715, hard dice=0.87622, loss=0.14819, soft dice=0.87378]\n"
     ]
    },
    {
     "name": "stdout",
     "output_type": "stream",
     "text": [
      "soft dice: 0.69674 | loss: 0.34565 | hard dice: 0.69679 | bce: 0.02859\n"
     ]
    },
    {
     "name": "stderr",
     "output_type": "stream",
     "text": [
      "Epoch 107: 100% 2/2 [00:07<00:00,  4.00s/it, bce=0.02569, hard dice=0.68883, loss=0.33724, soft dice=0.68862]\n"
     ]
    },
    {
     "name": "stdout",
     "output_type": "stream",
     "text": [
      "soft dice: 0.69669 | loss: 0.34408 | hard dice: 0.69679 | bce: 0.02706\n"
     ]
    },
    {
     "name": "stderr",
     "output_type": "stream",
     "text": [
      "Epoch 108: 100% 2/2 [00:07<00:00,  4.00s/it, bce=0.02217, hard dice=0.93855, loss=0.14667, soft dice=0.93783]\n"
     ]
    },
    {
     "name": "stdout",
     "output_type": "stream",
     "text": [
      "soft dice: 0.69660 | loss: 0.34332 | hard dice: 0.69679 | bce: 0.02621\n"
     ]
    },
    {
     "name": "stderr",
     "output_type": "stream",
     "text": [
      "Epoch 109: 100% 2/2 [00:07<00:00,  3.89s/it, bce=0.03034, hard dice=0.69048, loss=0.34199, soft dice=0.68925]\n"
     ]
    },
    {
     "name": "stdout",
     "output_type": "stream",
     "text": [
      "soft dice: 0.69655 | loss: 0.34306 | hard dice: 0.69679 | bce: 0.02590\n"
     ]
    },
    {
     "name": "stderr",
     "output_type": "stream",
     "text": [
      "Epoch 110: 100% 2/2 [00:07<00:00,  3.77s/it, bce=0.01339, hard dice=0.81367, loss=0.20063, soft dice=0.81291]\n"
     ]
    },
    {
     "name": "stdout",
     "output_type": "stream",
     "text": [
      "soft dice: 0.69594 | loss: 0.34187 | hard dice: 0.69679 | bce: 0.02414\n"
     ]
    },
    {
     "name": "stderr",
     "output_type": "stream",
     "text": [
      "Epoch 111: 100% 2/2 [00:08<00:00,  4.21s/it, bce=0.02904, hard dice=0.69037, loss=0.34303, soft dice=0.68657]\n"
     ]
    },
    {
     "name": "stdout",
     "output_type": "stream",
     "text": [
      "soft dice: 0.69673 | loss: 0.34470 | hard dice: 0.69679 | bce: 0.02772\n"
     ]
    },
    {
     "name": "stderr",
     "output_type": "stream",
     "text": [
      "Epoch 112: 100% 2/2 [00:07<00:00,  3.69s/it, bce=0.02406, hard dice=0.69003, loss=0.33536, soft dice=0.68925]\n"
     ]
    },
    {
     "name": "stdout",
     "output_type": "stream",
     "text": [
      "soft dice: 0.69672 | loss: 0.34466 | hard dice: 0.69679 | bce: 0.02765\n"
     ]
    },
    {
     "name": "stderr",
     "output_type": "stream",
     "text": [
      "Epoch 113: 100% 2/2 [00:07<00:00,  3.83s/it, bce=0.02399, hard dice=0.56531, loss=0.45953, soft dice=0.56449]\n"
     ]
    },
    {
     "name": "stdout",
     "output_type": "stream",
     "text": [
      "soft dice: 0.69671 | loss: 0.34461 | hard dice: 0.69679 | bce: 0.02758\n"
     ]
    },
    {
     "name": "stderr",
     "output_type": "stream",
     "text": [
      "Epoch 114: 100% 2/2 [00:07<00:00,  3.72s/it, bce=0.02351, hard dice=0.87562, loss=0.14896, soft dice=0.87541]\n"
     ]
    },
    {
     "name": "stdout",
     "output_type": "stream",
     "text": [
      "soft dice: 0.69669 | loss: 0.34446 | hard dice: 0.69679 | bce: 0.02742\n"
     ]
    },
    {
     "name": "stderr",
     "output_type": "stream",
     "text": [
      "Epoch 115: 100% 2/2 [00:07<00:00,  3.71s/it, bce=0.01957, hard dice=0.75235, loss=0.26834, soft dice=0.75110]\n"
     ]
    },
    {
     "name": "stdout",
     "output_type": "stream",
     "text": [
      "soft dice: 0.69625 | loss: 0.34266 | hard dice: 0.69679 | bce: 0.02523\n"
     ]
    },
    {
     "name": "stderr",
     "output_type": "stream",
     "text": [
      "Epoch 116: 100% 2/2 [00:07<00:00,  3.97s/it, bce=0.01494, hard dice=0.87620, loss=0.14288, soft dice=0.87239]\n"
     ]
    },
    {
     "name": "stdout",
     "output_type": "stream",
     "text": [
      "soft dice: 0.69678 | loss: 0.34645 | hard dice: 0.69679 | bce: 0.02953\n"
     ]
    },
    {
     "name": "stderr",
     "output_type": "stream",
     "text": [
      "Epoch 117: 100% 2/2 [00:07<00:00,  3.88s/it, bce=0.02516, hard dice=1.00000, loss=0.02502, soft dice=1.00000]\n"
     ]
    },
    {
     "name": "stdout",
     "output_type": "stream",
     "text": [
      "soft dice: 0.69677 | loss: 0.34598 | hard dice: 0.69679 | bce: 0.02907\n"
     ]
    },
    {
     "name": "stderr",
     "output_type": "stream",
     "text": [
      "Epoch 118: 100% 2/2 [00:07<00:00,  3.52s/it, bce=0.02847, hard dice=0.68939, loss=0.34091, soft dice=0.68890]\n"
     ]
    },
    {
     "name": "stdout",
     "output_type": "stream",
     "text": [
      "soft dice: 0.69676 | loss: 0.34523 | hard dice: 0.69679 | bce: 0.02832\n"
     ]
    },
    {
     "name": "stderr",
     "output_type": "stream",
     "text": [
      "Epoch 119: 100% 2/2 [00:07<00:00,  3.63s/it, bce=0.02710, hard dice=0.75125, loss=0.27675, soft dice=0.75113]\n"
     ]
    },
    {
     "name": "stdout",
     "output_type": "stream",
     "text": [
      "soft dice: 0.69674 | loss: 0.34475 | hard dice: 0.69679 | bce: 0.02783\n"
     ]
    },
    {
     "name": "stderr",
     "output_type": "stream",
     "text": [
      "Epoch 120: 100% 2/2 [00:08<00:00,  4.07s/it, bce=0.02548, hard dice=0.68967, loss=0.34486, soft dice=0.68440]\n"
     ]
    },
    {
     "name": "stdout",
     "output_type": "stream",
     "text": [
      "soft dice: 0.69668 | loss: 0.34388 | hard dice: 0.69679 | bce: 0.02692\n"
     ]
    },
    {
     "name": "stderr",
     "output_type": "stream",
     "text": [
      "Epoch 121: 100% 2/2 [00:07<00:00,  3.72s/it, bce=0.02988, hard dice=0.87568, loss=0.15460, soft dice=0.87532]\n"
     ]
    },
    {
     "name": "stdout",
     "output_type": "stream",
     "text": [
      "soft dice: 0.69679 | loss: 0.34760 | hard dice: 0.69679 | bce: 0.03079\n"
     ]
    },
    {
     "name": "stderr",
     "output_type": "stream",
     "text": [
      "Epoch 122: 100% 2/2 [00:07<00:00,  3.76s/it, bce=0.02794, hard dice=0.81550, loss=0.21358, soft dice=0.81519]\n"
     ]
    },
    {
     "name": "stdout",
     "output_type": "stream",
     "text": [
      "soft dice: 0.69678 | loss: 0.34669 | hard dice: 0.69679 | bce: 0.02988\n"
     ]
    },
    {
     "name": "stderr",
     "output_type": "stream",
     "text": [
      "Epoch 123: 100% 2/2 [00:07<00:00,  3.88s/it, bce=0.02961, hard dice=0.81438, loss=0.21678, soft dice=0.81398]\n"
     ]
    },
    {
     "name": "stdout",
     "output_type": "stream",
     "text": [
      "soft dice: 0.69676 | loss: 0.34574 | hard dice: 0.69679 | bce: 0.02891\n"
     ]
    },
    {
     "name": "stderr",
     "output_type": "stream",
     "text": [
      "Epoch 124: 100% 2/2 [00:07<00:00,  3.74s/it, bce=0.02551, hard dice=0.87662, loss=0.15045, soft dice=0.87638]\n"
     ]
    },
    {
     "name": "stdout",
     "output_type": "stream",
     "text": [
      "soft dice: 0.69674 | loss: 0.34515 | hard dice: 0.69679 | bce: 0.02829\n"
     ]
    },
    {
     "name": "stderr",
     "output_type": "stream",
     "text": [
      "Epoch 125: 100% 2/2 [00:07<00:00,  3.98s/it, bce=0.03019, hard dice=0.81498, loss=0.22250, soft dice=0.80785]\n"
     ]
    },
    {
     "name": "stdout",
     "output_type": "stream",
     "text": [
      "soft dice: 0.69630 | loss: 0.34268 | hard dice: 0.69679 | bce: 0.02535\n"
     ]
    },
    {
     "name": "stderr",
     "output_type": "stream",
     "text": [
      "Epoch 126: 100% 2/2 [00:07<00:00,  3.94s/it, bce=0.01813, hard dice=0.87603, loss=0.14377, soft dice=0.87439]\n"
     ]
    },
    {
     "name": "stdout",
     "output_type": "stream",
     "text": [
      "soft dice: 0.69679 | loss: 0.35058 | hard dice: 0.69679 | bce: 0.03340\n"
     ]
    },
    {
     "name": "stderr",
     "output_type": "stream",
     "text": [
      "Epoch 127: 100% 2/2 [00:07<00:00,  3.80s/it, bce=0.03615, hard dice=0.87584, loss=0.21791, soft dice=0.87583]\n"
     ]
    },
    {
     "name": "stdout",
     "output_type": "stream",
     "text": [
      "soft dice: 0.69679 | loss: 0.35043 | hard dice: 0.69679 | bce: 0.03320\n"
     ]
    },
    {
     "name": "stderr",
     "output_type": "stream",
     "text": [
      "Epoch 128: 100% 2/2 [00:07<00:00,  3.80s/it, bce=0.02701, hard dice=0.87686, loss=0.15035, soft dice=0.87684]\n"
     ]
    },
    {
     "name": "stdout",
     "output_type": "stream",
     "text": [
      "soft dice: 0.69679 | loss: 0.34976 | hard dice: 0.69679 | bce: 0.03259\n"
     ]
    },
    {
     "name": "stderr",
     "output_type": "stream",
     "text": [
      "Epoch 129: 100% 2/2 [00:08<00:00,  4.06s/it, bce=0.02837, hard dice=0.93847, loss=0.09272, soft dice=0.93845]\n"
     ]
    },
    {
     "name": "stdout",
     "output_type": "stream",
     "text": [
      "soft dice: 0.69679 | loss: 0.34938 | hard dice: 0.69679 | bce: 0.03220\n"
     ]
    },
    {
     "name": "stderr",
     "output_type": "stream",
     "text": [
      "Epoch 130: 100% 2/2 [00:07<00:00,  4.00s/it, bce=0.03084, hard dice=0.81379, loss=0.21749, soft dice=0.81378]\n"
     ]
    },
    {
     "name": "stdout",
     "output_type": "stream",
     "text": [
      "soft dice: 0.68912 | loss: 0.34597 | hard dice: 0.69679 | bce: 0.02189\n"
     ]
    },
    {
     "name": "stderr",
     "output_type": "stream",
     "text": [
      "Epoch 131: 100% 2/2 [00:08<00:00,  4.06s/it, bce=0.01558, hard dice=0.87609, loss=0.17265, soft dice=0.84746]\n"
     ]
    },
    {
     "name": "stdout",
     "output_type": "stream",
     "text": [
      "soft dice: 0.69679 | loss: 0.35290 | hard dice: 0.69679 | bce: 0.03502\n"
     ]
    },
    {
     "name": "stderr",
     "output_type": "stream",
     "text": [
      "Epoch 132: 100% 2/2 [00:07<00:00,  3.89s/it, bce=0.04721, hard dice=0.50182, loss=0.54570, soft dice=0.50182]\n"
     ]
    },
    {
     "name": "stdout",
     "output_type": "stream",
     "text": [
      "soft dice: 0.69679 | loss: 0.35231 | hard dice: 0.69679 | bce: 0.03473\n"
     ]
    },
    {
     "name": "stderr",
     "output_type": "stream",
     "text": [
      "Epoch 133: 100% 2/2 [00:07<00:00,  3.79s/it, bce=0.04944, hard dice=0.62655, loss=0.42278, soft dice=0.62655]\n"
     ]
    },
    {
     "name": "stdout",
     "output_type": "stream",
     "text": [
      "soft dice: 0.69679 | loss: 0.35179 | hard dice: 0.69679 | bce: 0.03382\n"
     ]
    },
    {
     "name": "stderr",
     "output_type": "stream",
     "text": [
      "Epoch 134: 100% 2/2 [00:07<00:00,  3.73s/it, bce=0.04286, hard dice=0.62972, loss=0.41573, soft dice=0.62972]\n"
     ]
    },
    {
     "name": "stdout",
     "output_type": "stream",
     "text": [
      "soft dice: 0.69679 | loss: 0.35336 | hard dice: 0.69679 | bce: 0.03330\n"
     ]
    },
    {
     "name": "stderr",
     "output_type": "stream",
     "text": [
      "Epoch 135: 100% 2/2 [00:07<00:00,  3.98s/it, bce=0.02719, hard dice=0.68906, loss=0.33829, soft dice=0.68905]\n"
     ]
    },
    {
     "name": "stdout",
     "output_type": "stream",
     "text": [
      "soft dice: 0.68780 | loss: 0.34745 | hard dice: 0.69679 | bce: 0.02153\n"
     ]
    },
    {
     "name": "stderr",
     "output_type": "stream",
     "text": [
      "Epoch 136: 100% 2/2 [00:07<00:00,  3.77s/it, bce=0.02068, hard dice=1.00000, loss=0.15351, soft dice=0.92229]\n"
     ]
    },
    {
     "name": "stdout",
     "output_type": "stream",
     "text": [
      "soft dice: 0.69679 | loss: 0.36118 | hard dice: 0.69679 | bce: 0.03633\n"
     ]
    },
    {
     "name": "stderr",
     "output_type": "stream",
     "text": [
      "Epoch 137: 100% 2/2 [00:07<00:00,  3.84s/it, bce=0.04206, hard dice=0.75168, loss=0.35525, soft dice=0.75168]\n"
     ]
    },
    {
     "name": "stdout",
     "output_type": "stream",
     "text": [
      "soft dice: 0.69679 | loss: 0.36192 | hard dice: 0.69679 | bce: 0.03638\n"
     ]
    },
    {
     "name": "stderr",
     "output_type": "stream",
     "text": [
      "Epoch 138: 100% 2/2 [00:07<00:00,  3.96s/it, bce=0.05339, hard dice=0.75073, loss=0.37149, soft dice=0.75073]\n"
     ]
    },
    {
     "name": "stdout",
     "output_type": "stream",
     "text": [
      "soft dice: 0.69679 | loss: 0.35926 | hard dice: 0.69679 | bce: 0.03638\n"
     ]
    },
    {
     "name": "stderr",
     "output_type": "stream",
     "text": [
      "Epoch 139: 100% 2/2 [00:07<00:00,  3.98s/it, bce=0.02362, hard dice=0.81489, loss=0.21133, soft dice=0.81489]\n"
     ]
    },
    {
     "name": "stdout",
     "output_type": "stream",
     "text": [
      "soft dice: 0.69679 | loss: 0.35903 | hard dice: 0.69679 | bce: 0.03638\n"
     ]
    },
    {
     "name": "stderr",
     "output_type": "stream",
     "text": [
      "Epoch 140: 100% 2/2 [00:07<00:00,  3.57s/it, bce=0.03727, hard dice=0.75147, loss=0.28805, soft dice=0.75147]\n"
     ]
    },
    {
     "name": "stdout",
     "output_type": "stream",
     "text": [
      "soft dice: 0.69679 | loss: 0.34906 | hard dice: 0.69679 | bce: 0.03189\n"
     ]
    },
    {
     "name": "stderr",
     "output_type": "stream",
     "text": [
      "Epoch 141: 100% 2/2 [00:08<00:00,  4.09s/it, bce=0.03864, hard dice=0.62673, loss=0.41320, soft dice=0.62510]\n"
     ]
    },
    {
     "name": "stdout",
     "output_type": "stream",
     "text": [
      "soft dice: 0.69351 | loss: 0.34273 | hard dice: 0.69679 | bce: 0.02276\n"
     ]
    },
    {
     "name": "stderr",
     "output_type": "stream",
     "text": [
      "Epoch 142: 100% 2/2 [00:06<00:00,  3.49s/it, bce=0.02327, hard dice=0.81354, loss=0.28729, soft dice=0.79607]\n"
     ]
    },
    {
     "name": "stdout",
     "output_type": "stream",
     "text": [
      "soft dice: 0.69578 | loss: 0.34215 | hard dice: 0.69679 | bce: 0.02431\n"
     ]
    },
    {
     "name": "stderr",
     "output_type": "stream",
     "text": [
      "Epoch 143: 100% 2/2 [00:08<00:00,  4.18s/it, bce=0.02687, hard dice=0.68946, loss=0.34169, soft dice=0.68610]\n"
     ]
    },
    {
     "name": "stdout",
     "output_type": "stream",
     "text": [
      "soft dice: 0.69663 | loss: 0.34371 | hard dice: 0.69679 | bce: 0.02665\n"
     ]
    },
    {
     "name": "stderr",
     "output_type": "stream",
     "text": [
      "Epoch 144: 100% 2/2 [00:08<00:00,  4.11s/it, bce=0.02591, hard dice=0.62925, loss=0.39859, soft dice=0.62792]\n"
     ]
    },
    {
     "name": "stdout",
     "output_type": "stream",
     "text": [
      "soft dice: 0.69662 | loss: 0.34367 | hard dice: 0.69679 | bce: 0.02660\n"
     ]
    },
    {
     "name": "stderr",
     "output_type": "stream",
     "text": [
      "Epoch 145: 100% 2/2 [00:07<00:00,  3.86s/it, bce=0.03344, hard dice=0.87554, loss=0.15855, soft dice=0.87554]\n"
     ]
    },
    {
     "name": "stdout",
     "output_type": "stream",
     "text": [
      "soft dice: 0.69679 | loss: 0.35825 | hard dice: 0.69679 | bce: 0.03638\n"
     ]
    },
    {
     "name": "stderr",
     "output_type": "stream",
     "text": [
      "Epoch 146: 100% 2/2 [00:07<00:00,  3.91s/it, bce=0.03059, hard dice=0.62981, loss=0.40641, soft dice=0.62981]\n"
     ]
    },
    {
     "name": "stdout",
     "output_type": "stream",
     "text": [
      "soft dice: 0.69679 | loss: 0.36416 | hard dice: 0.69679 | bce: 0.03642\n"
     ]
    },
    {
     "name": "stderr",
     "output_type": "stream",
     "text": [
      "Epoch 147: 100% 2/2 [00:08<00:00,  4.00s/it, bce=0.03572, hard dice=0.68882, loss=0.35452, soft dice=0.68882]\n"
     ]
    },
    {
     "name": "stdout",
     "output_type": "stream",
     "text": [
      "soft dice: 0.69679 | loss: 0.36290 | hard dice: 0.69679 | bce: 0.03642\n"
     ]
    },
    {
     "name": "stderr",
     "output_type": "stream",
     "text": [
      "Epoch 148: 100% 2/2 [00:07<00:00,  3.75s/it, bce=0.03216, hard dice=0.56474, loss=0.47453, soft dice=0.56474]\n"
     ]
    },
    {
     "name": "stdout",
     "output_type": "stream",
     "text": [
      "soft dice: 0.69679 | loss: 0.36123 | hard dice: 0.69679 | bce: 0.03642\n"
     ]
    },
    {
     "name": "stderr",
     "output_type": "stream",
     "text": [
      "Epoch 149: 100% 2/2 [00:08<00:00,  4.01s/it, bce=0.02922, hard dice=0.68962, loss=0.34352, soft dice=0.68962]\n"
     ]
    },
    {
     "name": "stdout",
     "output_type": "stream",
     "text": [
      "soft dice: 0.69679 | loss: 0.36031 | hard dice: 0.69679 | bce: 0.03642\n",
      "Finished train fold: 2 with best loss 0.34187 on epoch 110\n",
      "\n"
     ]
    }
   ],
   "source": [
    "train_config('../configs/idris_1.json', '../folds_3.csv', n_folds=3, num_workers=24)"
   ]
  },
  {
   "cell_type": "code",
   "execution_count": 8,
   "metadata": {},
   "outputs": [
    {
     "name": "stdout",
     "output_type": "stream",
     "text": [
      "{u'target_cols': 800, u'save_images': True, u'dbg': False, u'train_pad': 0, u'use_clahe': True, u'network': u'linknet34', u'use_crop': True, u'nb_epoch': 150, u'epoch_size': 1, 'models_dir': u'models', u'lr': 0.01, u'cycle_start_epoch': 30, u'folder': u'train', u'optimizer': u'adam', u'target_rows': 800, 'fold': None, u'batch_size': 16, u'test_pad': 0, u'use_resize': False, u'loss': u'bce_dice_loss', u'img_cols': 4288, u'predict_batch_size': 5, u'num_channels': 3, u'dataset_path': u'/home/user/data/idrid', u'img_rows': 2848}\n",
      "('NAMES:', [u'IDRiD_28.jpg', u'IDRiD_44.jpg', u'IDRiD_23.jpg', u'IDRiD_32.jpg', u'IDRiD_11.jpg', u'IDRiD_51.jpg', u'IDRiD_54.jpg', u'IDRiD_31.jpg', u'IDRiD_14.jpg', u'IDRiD_10.jpg', u'IDRiD_30.jpg', u'IDRiD_03.jpg', u'IDRiD_04.jpg', u'IDRiD_43.jpg', u'IDRiD_40.jpg', u'IDRiD_19.jpg', u'IDRiD_50.jpg', u'IDRiD_48.jpg', u'IDRiD_49.jpg', u'IDRiD_41.jpg', u'IDRiD_01.jpg', u'IDRiD_45.jpg', u'IDRiD_15.jpg', u'IDRiD_09.jpg', u'IDRiD_38.jpg', u'IDRiD_52.jpg', u'IDRiD_27.jpg', u'IDRiD_21.jpg', u'IDRiD_07.jpg', u'IDRiD_26.jpg', u'IDRiD_16.jpg', u'IDRiD_36.jpg', u'IDRiD_34.jpg', u'IDRiD_20.jpg', u'IDRiD_13.jpg', u'IDRiD_29.jpg', u'IDRiD_22.jpg', u'IDRiD_18.jpg', u'IDRiD_24.jpg', u'IDRiD_17.jpg', u'IDRiD_06.jpg', u'IDRiD_39.jpg', u'IDRiD_35.jpg', u'IDRiD_47.jpg', u'IDRiD_02.jpg', u'IDRiD_05.jpg', u'IDRiD_25.jpg', u'IDRiD_53.jpg', u'IDRiD_08.jpg', u'IDRiD_37.jpg', u'IDRiD_12.jpg', u'IDRiD_33.jpg', u'IDRiD_42.jpg', u'IDRiD_46.jpg'])\n",
      "('skipping folds: ', [])\n"
     ]
    },
    {
     "name": "stderr",
     "output_type": "stream",
     "text": [
      "Epoch 0: 100% 2/2 [00:08<00:00,  4.11s/it, bce=0.36414, hard dice=0.25427, loss=1.36081, soft dice=0.00358]\n"
     ]
    },
    {
     "name": "stdout",
     "output_type": "stream",
     "text": [
      "soft dice: 0.00137 | loss: 1.01507 | hard dice: 0.91372 | bce: 0.01357\n"
     ]
    },
    {
     "name": "stderr",
     "output_type": "stream",
     "text": [
      "Epoch 1: 100% 2/2 [00:08<00:00,  4.26s/it, bce=0.03940, hard dice=0.37878, loss=0.91593, soft dice=0.14343]\n"
     ]
    },
    {
     "name": "stdout",
     "output_type": "stream",
     "text": [
      "soft dice: 0.91372 | loss: 57.23694 | hard dice: 0.91372 | bce: 0.01599\n"
     ]
    },
    {
     "name": "stderr",
     "output_type": "stream",
     "text": [
      "Epoch 2: 100% 2/2 [00:08<00:00,  4.27s/it, bce=0.04739, hard dice=0.50233, loss=0.63310, soft dice=0.50233]\n"
     ]
    },
    {
     "name": "stdout",
     "output_type": "stream",
     "text": [
      "soft dice: 0.91372 | loss: 21.30387 | hard dice: 0.91372 | bce: 0.01599\n"
     ]
    },
    {
     "name": "stderr",
     "output_type": "stream",
     "text": [
      "Epoch 3: 100% 2/2 [00:08<00:00,  4.39s/it, bce=0.03551, hard dice=0.50210, loss=0.57551, soft dice=0.50034]\n"
     ]
    },
    {
     "name": "stdout",
     "output_type": "stream",
     "text": [
      "soft dice: 0.91372 | loss: 1.11731 | hard dice: 0.91372 | bce: 0.01599\n"
     ]
    },
    {
     "name": "stderr",
     "output_type": "stream",
     "text": [
      "Epoch 4: 100% 2/2 [00:07<00:00,  3.97s/it, bce=0.04806, hard dice=0.69057, loss=0.38602, soft dice=0.69057]\n"
     ]
    },
    {
     "name": "stdout",
     "output_type": "stream",
     "text": [
      "soft dice: 0.91372 | loss: 0.42521 | hard dice: 0.91372 | bce: 0.01599\n"
     ]
    },
    {
     "name": "stderr",
     "output_type": "stream",
     "text": [
      "Epoch 5: 100% 2/2 [00:09<00:00,  4.50s/it, bce=0.02870, hard dice=0.75437, loss=0.33599, soft dice=0.72624]\n"
     ]
    },
    {
     "name": "stdout",
     "output_type": "stream",
     "text": [
      "soft dice: 0.91372 | loss: 0.39585 | hard dice: 0.91372 | bce: 0.01591\n"
     ]
    },
    {
     "name": "stderr",
     "output_type": "stream",
     "text": [
      "Epoch 6: 100% 2/2 [00:08<00:00,  4.11s/it, bce=0.04675, hard dice=0.62714, loss=0.42945, soft dice=0.62640]\n"
     ]
    },
    {
     "name": "stdout",
     "output_type": "stream",
     "text": [
      "soft dice: 0.91372 | loss: 0.21809 | hard dice: 0.91372 | bce: 0.01575\n"
     ]
    },
    {
     "name": "stderr",
     "output_type": "stream",
     "text": [
      "Epoch 7: 100% 2/2 [00:07<00:00,  4.00s/it, bce=0.02287, hard dice=0.62801, loss=0.39628, soft dice=0.62794]\n"
     ]
    },
    {
     "name": "stdout",
     "output_type": "stream",
     "text": [
      "soft dice: 0.91372 | loss: 0.29750 | hard dice: 0.91372 | bce: 0.01582\n"
     ]
    },
    {
     "name": "stderr",
     "output_type": "stream",
     "text": [
      "Epoch 8: 100% 2/2 [00:08<00:00,  4.47s/it, bce=0.03330, hard dice=0.31612, loss=0.71714, soft dice=0.31589]\n"
     ]
    },
    {
     "name": "stdout",
     "output_type": "stream",
     "text": [
      "soft dice: 0.91372 | loss: 0.28257 | hard dice: 0.91372 | bce: 0.01573\n"
     ]
    },
    {
     "name": "stderr",
     "output_type": "stream",
     "text": [
      "Epoch 9: 100% 2/2 [00:08<00:00,  4.23s/it, bce=0.03453, hard dice=0.81375, loss=0.38649, soft dice=0.77347]\n"
     ]
    },
    {
     "name": "stdout",
     "output_type": "stream",
     "text": [
      "soft dice: 0.91372 | loss: 0.13156 | hard dice: 0.91372 | bce: 0.01599\n"
     ]
    },
    {
     "name": "stderr",
     "output_type": "stream",
     "text": [
      "Epoch 10: 100% 2/2 [00:08<00:00,  4.22s/it, bce=0.02794, hard dice=0.69038, loss=0.34026, soft dice=0.69010]\n"
     ]
    },
    {
     "name": "stdout",
     "output_type": "stream",
     "text": [
      "soft dice: 0.91372 | loss: 0.11535 | hard dice: 0.91372 | bce: 0.01599\n"
     ]
    },
    {
     "name": "stderr",
     "output_type": "stream",
     "text": [
      "Epoch 11: 100% 2/2 [00:08<00:00,  4.18s/it, bce=0.02689, hard dice=0.75325, loss=0.27471, soft dice=0.75320]\n"
     ]
    },
    {
     "name": "stdout",
     "output_type": "stream",
     "text": [
      "soft dice: 0.91372 | loss: 0.11429 | hard dice: 0.91372 | bce: 0.01599\n"
     ]
    },
    {
     "name": "stderr",
     "output_type": "stream",
     "text": [
      "Epoch 12: 100% 2/2 [00:07<00:00,  3.88s/it, bce=0.04111, hard dice=0.56435, loss=0.47747, soft dice=0.56430]\n"
     ]
    },
    {
     "name": "stdout",
     "output_type": "stream",
     "text": [
      "soft dice: 0.91372 | loss: 0.10889 | hard dice: 0.91372 | bce: 0.01599\n"
     ]
    },
    {
     "name": "stderr",
     "output_type": "stream",
     "text": [
      "Epoch 13: 100% 2/2 [00:08<00:00,  4.10s/it, bce=0.03105, hard dice=0.75193, loss=0.27887, soft dice=0.75192]\n"
     ]
    },
    {
     "name": "stdout",
     "output_type": "stream",
     "text": [
      "soft dice: 0.91372 | loss: 0.10658 | hard dice: 0.91372 | bce: 0.01597\n"
     ]
    },
    {
     "name": "stderr",
     "output_type": "stream",
     "text": [
      "Epoch 14: 100% 2/2 [00:08<00:00,  4.18s/it, bce=0.03046, hard dice=0.68974, loss=0.34661, soft dice=0.68965]\n"
     ]
    },
    {
     "name": "stdout",
     "output_type": "stream",
     "text": [
      "soft dice: 0.91372 | loss: 0.10605 | hard dice: 0.91372 | bce: 0.01574\n"
     ]
    },
    {
     "name": "stderr",
     "output_type": "stream",
     "text": [
      "Epoch 15: 100% 2/2 [00:08<00:00,  4.30s/it, bce=0.03785, hard dice=0.62833, loss=0.41103, soft dice=0.62792]\n"
     ]
    },
    {
     "name": "stdout",
     "output_type": "stream",
     "text": [
      "soft dice: 0.91372 | loss: 0.10558 | hard dice: 0.91372 | bce: 0.01493\n"
     ]
    },
    {
     "name": "stderr",
     "output_type": "stream",
     "text": [
      "Epoch 16: 100% 2/2 [00:08<00:00,  4.12s/it, bce=0.03822, hard dice=0.75107, loss=0.28944, soft dice=0.74906]\n"
     ]
    },
    {
     "name": "stdout",
     "output_type": "stream",
     "text": [
      "soft dice: 0.91371 | loss: 0.10363 | hard dice: 0.91372 | bce: 0.01417\n"
     ]
    },
    {
     "name": "stderr",
     "output_type": "stream",
     "text": [
      "Epoch 17: 100% 2/2 [00:08<00:00,  4.02s/it, bce=0.02546, hard dice=0.68933, loss=0.33878, soft dice=0.68790]\n"
     ]
    },
    {
     "name": "stdout",
     "output_type": "stream",
     "text": [
      "soft dice: 0.91371 | loss: 0.10262 | hard dice: 0.91372 | bce: 0.01360\n"
     ]
    },
    {
     "name": "stderr",
     "output_type": "stream",
     "text": [
      "Epoch 18: 100% 2/2 [00:08<00:00,  4.29s/it, bce=0.03824, hard dice=0.37863, loss=0.66330, soft dice=0.37474]\n"
     ]
    },
    {
     "name": "stdout",
     "output_type": "stream",
     "text": [
      "soft dice: 0.91370 | loss: 0.10201 | hard dice: 0.91372 | bce: 0.01310\n"
     ]
    },
    {
     "name": "stderr",
     "output_type": "stream",
     "text": [
      "Epoch 19: 100% 2/2 [00:08<00:00,  4.27s/it, bce=0.02938, hard dice=0.75149, loss=0.36328, soft dice=0.74875]\n"
     ]
    },
    {
     "name": "stdout",
     "output_type": "stream",
     "text": [
      "soft dice: 0.91369 | loss: 0.10303 | hard dice: 0.91372 | bce: 0.01307\n"
     ]
    },
    {
     "name": "stderr",
     "output_type": "stream",
     "text": [
      "Epoch 20: 100% 2/2 [00:07<00:00,  3.98s/it, bce=0.03726, hard dice=0.50782, loss=0.53474, soft dice=0.50724]\n"
     ]
    },
    {
     "name": "stdout",
     "output_type": "stream",
     "text": [
      "soft dice: 0.91369 | loss: 0.10426 | hard dice: 0.91372 | bce: 0.01314\n"
     ]
    },
    {
     "name": "stderr",
     "output_type": "stream",
     "text": [
      "Epoch 21: 100% 2/2 [00:08<00:00,  4.27s/it, bce=0.03991, hard dice=0.68830, loss=0.35236, soft dice=0.68824]\n"
     ]
    },
    {
     "name": "stdout",
     "output_type": "stream",
     "text": [
      "soft dice: 0.91368 | loss: 0.10364 | hard dice: 0.91372 | bce: 0.01289\n"
     ]
    },
    {
     "name": "stderr",
     "output_type": "stream",
     "text": [
      "Epoch 22: 100% 2/2 [00:09<00:00,  4.62s/it, bce=0.03268, hard dice=0.50392, loss=0.53357, soft dice=0.50368]\n"
     ]
    },
    {
     "name": "stdout",
     "output_type": "stream",
     "text": [
      "soft dice: 0.91367 | loss: 0.10309 | hard dice: 0.91372 | bce: 0.01261\n"
     ]
    },
    {
     "name": "stderr",
     "output_type": "stream",
     "text": [
      "Epoch 23: 100% 2/2 [00:08<00:00,  4.44s/it, bce=0.02993, hard dice=0.62719, loss=0.41146, soft dice=0.61993]\n"
     ]
    },
    {
     "name": "stdout",
     "output_type": "stream",
     "text": [
      "soft dice: 0.91367 | loss: 0.10127 | hard dice: 0.91372 | bce: 0.01243\n"
     ]
    },
    {
     "name": "stderr",
     "output_type": "stream",
     "text": [
      "Epoch 24: 100% 2/2 [00:08<00:00,  4.21s/it, bce=0.04061, hard dice=0.75152, loss=0.29048, soft dice=0.75042]\n"
     ]
    },
    {
     "name": "stdout",
     "output_type": "stream",
     "text": [
      "soft dice: 0.91365 | loss: 0.10031 | hard dice: 0.91372 | bce: 0.01216\n"
     ]
    },
    {
     "name": "stderr",
     "output_type": "stream",
     "text": [
      "Epoch 25: 100% 2/2 [00:08<00:00,  4.34s/it, bce=0.02642, hard dice=0.75154, loss=0.28159, soft dice=0.74567]\n"
     ]
    },
    {
     "name": "stdout",
     "output_type": "stream",
     "text": [
      "soft dice: 0.91363 | loss: 0.09997 | hard dice: 0.91372 | bce: 0.01198\n"
     ]
    },
    {
     "name": "stderr",
     "output_type": "stream",
     "text": [
      "Epoch 26: 100% 2/2 [00:08<00:00,  4.09s/it, bce=0.02981, hard dice=0.50907, loss=0.53375, soft dice=0.50371]\n"
     ]
    },
    {
     "name": "stdout",
     "output_type": "stream",
     "text": [
      "soft dice: 0.91352 | loss: 0.10040 | hard dice: 0.91372 | bce: 0.01160\n"
     ]
    },
    {
     "name": "stderr",
     "output_type": "stream",
     "text": [
      "Epoch 27: 100% 2/2 [00:08<00:00,  4.43s/it, bce=0.02503, hard dice=0.62879, loss=0.45823, soft dice=0.62829]\n"
     ]
    },
    {
     "name": "stdout",
     "output_type": "stream",
     "text": [
      "soft dice: 0.91354 | loss: 0.10047 | hard dice: 0.91372 | bce: 0.01165\n"
     ]
    },
    {
     "name": "stderr",
     "output_type": "stream",
     "text": [
      "Epoch 28: 100% 2/2 [00:08<00:00,  4.43s/it, bce=0.02971, hard dice=0.68992, loss=0.34096, soft dice=0.68906]\n"
     ]
    },
    {
     "name": "stdout",
     "output_type": "stream",
     "text": [
      "soft dice: 0.91353 | loss: 0.10014 | hard dice: 0.91372 | bce: 0.01160\n"
     ]
    },
    {
     "name": "stderr",
     "output_type": "stream",
     "text": [
      "Epoch 29: 100% 2/2 [00:08<00:00,  4.08s/it, bce=0.03806, hard dice=0.75250, loss=0.28893, soft dice=0.75062]\n"
     ]
    },
    {
     "name": "stdout",
     "output_type": "stream",
     "text": [
      "soft dice: 0.91352 | loss: 0.09998 | hard dice: 0.91372 | bce: 0.01153\n",
      "Starting cyclic lr\n"
     ]
    },
    {
     "name": "stderr",
     "output_type": "stream",
     "text": [
      "Epoch 30: 100% 2/2 [00:08<00:00,  4.33s/it, bce=0.02580, hard dice=0.81388, loss=0.58561, soft dice=0.44023]\n"
     ]
    },
    {
     "name": "stdout",
     "output_type": "stream",
     "text": [
      "soft dice: 0.28666 | loss: 0.85735 | hard dice: 0.91372 | bce: 0.01096\n"
     ]
    },
    {
     "name": "stderr",
     "output_type": "stream",
     "text": [
      "Epoch 31: 100% 2/2 [00:08<00:00,  4.32s/it, bce=0.01444, hard dice=0.50344, loss=0.93420, soft dice=0.08339]\n"
     ]
    },
    {
     "name": "stdout",
     "output_type": "stream",
     "text": [
      "soft dice: 0.88982 | loss: 0.17164 | hard dice: 0.91372 | bce: 0.00929\n"
     ]
    },
    {
     "name": "stderr",
     "output_type": "stream",
     "text": [
      "Epoch 32: 100% 2/2 [00:08<00:00,  4.27s/it, bce=0.01725, hard dice=0.81392, loss=0.20790, soft dice=0.81373]\n"
     ]
    },
    {
     "name": "stdout",
     "output_type": "stream",
     "text": [
      "soft dice: 0.91065 | loss: 0.10532 | hard dice: 0.91372 | bce: 0.01044\n"
     ]
    },
    {
     "name": "stderr",
     "output_type": "stream",
     "text": [
      "Epoch 33: 100% 2/2 [00:08<00:00,  4.37s/it, bce=0.02920, hard dice=0.75176, loss=0.27889, soft dice=0.75162]\n"
     ]
    },
    {
     "name": "stdout",
     "output_type": "stream",
     "text": [
      "soft dice: 0.91314 | loss: 0.10122 | hard dice: 0.91372 | bce: 0.01164\n"
     ]
    },
    {
     "name": "stderr",
     "output_type": "stream",
     "text": [
      "Epoch 34: 100% 2/2 [00:08<00:00,  4.46s/it, bce=0.04568, hard dice=0.50443, loss=0.54369, soft dice=0.50442]\n"
     ]
    },
    {
     "name": "stdout",
     "output_type": "stream",
     "text": [
      "soft dice: 0.91352 | loss: 0.10168 | hard dice: 0.91372 | bce: 0.01239\n"
     ]
    },
    {
     "name": "stderr",
     "output_type": "stream",
     "text": [
      "Epoch 35: 100% 2/2 [00:08<00:00,  4.04s/it, bce=0.03096, hard dice=0.68949, loss=0.34508, soft dice=0.68757]\n"
     ]
    },
    {
     "name": "stdout",
     "output_type": "stream",
     "text": [
      "soft dice: 0.91273 | loss: 0.10474 | hard dice: 0.91372 | bce: 0.01214\n"
     ]
    },
    {
     "name": "stderr",
     "output_type": "stream",
     "text": [
      "Epoch 36: 100% 2/2 [00:07<00:00,  3.98s/it, bce=0.02879, hard dice=0.93852, loss=0.11792, soft dice=0.91390]\n"
     ]
    },
    {
     "name": "stdout",
     "output_type": "stream",
     "text": [
      "soft dice: 0.91372 | loss: 0.11450 | hard dice: 0.91372 | bce: 0.01540\n"
     ]
    },
    {
     "name": "stderr",
     "output_type": "stream",
     "text": [
      "Epoch 37: 100% 2/2 [00:09<00:00,  4.56s/it, bce=0.05008, hard dice=0.50301, loss=0.61823, soft dice=0.50301]\n"
     ]
    },
    {
     "name": "stdout",
     "output_type": "stream",
     "text": [
      "soft dice: 0.91372 | loss: 0.10431 | hard dice: 0.91372 | bce: 0.01531\n"
     ]
    },
    {
     "name": "stderr",
     "output_type": "stream",
     "text": [
      "Epoch 38: 100% 2/2 [00:09<00:00,  4.54s/it, bce=0.03733, hard dice=0.68894, loss=0.35210, soft dice=0.68894]\n"
     ]
    },
    {
     "name": "stdout",
     "output_type": "stream",
     "text": [
      "soft dice: 0.91372 | loss: 0.10304 | hard dice: 0.91372 | bce: 0.01515\n"
     ]
    },
    {
     "name": "stderr",
     "output_type": "stream",
     "text": [
      "Epoch 39: 100% 2/2 [00:08<00:00,  4.35s/it, bce=0.04100, hard dice=0.56479, loss=0.47740, soft dice=0.56479]\n"
     ]
    },
    {
     "name": "stdout",
     "output_type": "stream",
     "text": [
      "soft dice: 0.91372 | loss: 0.10291 | hard dice: 0.91372 | bce: 0.01503\n"
     ]
    },
    {
     "name": "stderr",
     "output_type": "stream",
     "text": [
      "Epoch 40: 100% 2/2 [00:09<00:00,  4.52s/it, bce=0.04223, hard dice=0.57096, loss=0.48378, soft dice=0.57076]\n"
     ]
    },
    {
     "name": "stdout",
     "output_type": "stream",
     "text": [
      "soft dice: 0.91331 | loss: 0.10092 | hard dice: 0.91372 | bce: 0.01181\n"
     ]
    },
    {
     "name": "stderr",
     "output_type": "stream",
     "text": [
      "Epoch 41: 100% 2/2 [00:08<00:00,  4.32s/it, bce=0.03615, hard dice=0.62766, loss=0.42077, soft dice=0.62416]\n"
     ]
    },
    {
     "name": "stdout",
     "output_type": "stream",
     "text": [
      "soft dice: 0.91312 | loss: 0.10066 | hard dice: 0.91372 | bce: 0.01206\n"
     ]
    },
    {
     "name": "stderr",
     "output_type": "stream",
     "text": [
      "Epoch 42: 100% 2/2 [00:08<00:00,  4.23s/it, bce=0.02866, hard dice=0.75364, loss=0.27844, soft dice=0.75037]\n"
     ]
    },
    {
     "name": "stdout",
     "output_type": "stream",
     "text": [
      "soft dice: 0.91296 | loss: 0.10113 | hard dice: 0.91372 | bce: 0.01200\n"
     ]
    },
    {
     "name": "stderr",
     "output_type": "stream",
     "text": [
      "Epoch 43: 100% 2/2 [00:08<00:00,  4.20s/it, bce=0.02424, hard dice=0.62823, loss=0.39789, soft dice=0.62745]\n"
     ]
    },
    {
     "name": "stdout",
     "output_type": "stream",
     "text": [
      "soft dice: 0.91269 | loss: 0.10181 | hard dice: 0.91372 | bce: 0.01204\n"
     ]
    },
    {
     "name": "stderr",
     "output_type": "stream",
     "text": [
      "Epoch 44: 100% 2/2 [00:08<00:00,  4.40s/it, bce=0.02073, hard dice=0.56578, loss=0.45897, soft dice=0.56362]\n"
     ]
    },
    {
     "name": "stdout",
     "output_type": "stream",
     "text": [
      "soft dice: 0.91248 | loss: 0.10114 | hard dice: 0.91372 | bce: 0.01154\n"
     ]
    },
    {
     "name": "stderr",
     "output_type": "stream",
     "text": [
      "Epoch 45: 100% 2/2 [00:08<00:00,  4.49s/it, bce=0.02715, hard dice=0.44172, loss=0.59136, soft dice=0.44104]\n"
     ]
    },
    {
     "name": "stdout",
     "output_type": "stream",
     "text": [
      "soft dice: 0.91293 | loss: 0.10011 | hard dice: 0.91372 | bce: 0.01138\n"
     ]
    },
    {
     "name": "stderr",
     "output_type": "stream",
     "text": [
      "Epoch 46: 100% 2/2 [00:08<00:00,  4.16s/it, bce=0.03622, hard dice=0.56426, loss=0.47673, soft dice=0.55940]\n"
     ]
    },
    {
     "name": "stdout",
     "output_type": "stream",
     "text": [
      "soft dice: 0.91368 | loss: 0.10054 | hard dice: 0.91372 | bce: 0.01273\n"
     ]
    },
    {
     "name": "stderr",
     "output_type": "stream",
     "text": [
      "Epoch 47: 100% 2/2 [00:07<00:00,  3.84s/it, bce=0.02356, hard dice=0.87705, loss=0.14920, soft dice=0.87558]\n"
     ]
    },
    {
     "name": "stdout",
     "output_type": "stream",
     "text": [
      "soft dice: 0.91366 | loss: 0.10024 | hard dice: 0.91372 | bce: 0.01247\n"
     ]
    },
    {
     "name": "stderr",
     "output_type": "stream",
     "text": [
      "Epoch 48: 100% 2/2 [00:08<00:00,  4.27s/it, bce=0.04098, hard dice=0.50204, loss=0.53947, soft dice=0.50157]\n"
     ]
    },
    {
     "name": "stdout",
     "output_type": "stream",
     "text": [
      "soft dice: 0.91362 | loss: 0.09979 | hard dice: 0.91372 | bce: 0.01203\n"
     ]
    },
    {
     "name": "stderr",
     "output_type": "stream",
     "text": [
      "Epoch 49: 100% 2/2 [00:08<00:00,  4.04s/it, bce=0.04101, hard dice=0.56438, loss=0.47748, soft dice=0.56334]\n"
     ]
    },
    {
     "name": "stdout",
     "output_type": "stream",
     "text": [
      "soft dice: 0.91357 | loss: 0.09960 | hard dice: 0.91372 | bce: 0.01179\n"
     ]
    },
    {
     "name": "stderr",
     "output_type": "stream",
     "text": [
      "Epoch 50: 100% 2/2 [00:08<00:00,  4.06s/it, bce=0.03676, hard dice=0.63361, loss=0.41288, soft dice=0.62475]\n"
     ]
    },
    {
     "name": "stdout",
     "output_type": "stream",
     "text": [
      "soft dice: 0.91371 | loss: 0.10044 | hard dice: 0.91372 | bce: 0.01306\n"
     ]
    },
    {
     "name": "stderr",
     "output_type": "stream",
     "text": [
      "Epoch 51: 100% 2/2 [00:08<00:00,  4.15s/it, bce=0.04550, hard dice=0.68914, loss=0.35771, soft dice=0.68867]\n"
     ]
    },
    {
     "name": "stdout",
     "output_type": "stream",
     "text": [
      "soft dice: 0.91372 | loss: 0.10528 | hard dice: 0.91372 | bce: 0.01593\n"
     ]
    },
    {
     "name": "stderr",
     "output_type": "stream",
     "text": [
      "Epoch 52: 100% 2/2 [00:08<00:00,  4.31s/it, bce=0.03959, hard dice=0.62765, loss=0.41400, soft dice=0.62764]\n"
     ]
    },
    {
     "name": "stdout",
     "output_type": "stream",
     "text": [
      "soft dice: 0.91372 | loss: 0.10469 | hard dice: 0.91372 | bce: 0.01584\n"
     ]
    },
    {
     "name": "stderr",
     "output_type": "stream",
     "text": [
      "Epoch 53: 100% 2/2 [00:07<00:00,  3.97s/it, bce=0.03923, hard dice=0.50211, loss=0.53806, soft dice=0.50210]\n"
     ]
    },
    {
     "name": "stdout",
     "output_type": "stream",
     "text": [
      "soft dice: 0.91372 | loss: 0.10343 | hard dice: 0.91372 | bce: 0.01537\n"
     ]
    },
    {
     "name": "stderr",
     "output_type": "stream",
     "text": [
      "Epoch 54: 100% 2/2 [00:08<00:00,  4.50s/it, bce=0.03060, hard dice=0.81446, loss=0.21646, soft dice=0.81445]\n"
     ]
    },
    {
     "name": "stdout",
     "output_type": "stream",
     "text": [
      "soft dice: 0.91372 | loss: 0.10286 | hard dice: 0.91372 | bce: 0.01504\n"
     ]
    },
    {
     "name": "stderr",
     "output_type": "stream",
     "text": [
      "Epoch 55: 100% 2/2 [00:08<00:00,  4.44s/it, bce=0.02779, hard dice=0.62765, loss=0.41081, soft dice=0.61811]\n"
     ]
    },
    {
     "name": "stdout",
     "output_type": "stream",
     "text": [
      "soft dice: 0.91369 | loss: 0.10259 | hard dice: 0.91372 | bce: 0.01390\n"
     ]
    },
    {
     "name": "stderr",
     "output_type": "stream",
     "text": [
      "Epoch 56: 100% 2/2 [00:08<00:00,  4.17s/it, bce=0.02975, hard dice=0.56562, loss=0.46610, soft dice=0.56454]\n"
     ]
    },
    {
     "name": "stdout",
     "output_type": "stream",
     "text": [
      "soft dice: 0.91372 | loss: 0.10980 | hard dice: 0.91372 | bce: 0.01556\n"
     ]
    },
    {
     "name": "stderr",
     "output_type": "stream",
     "text": [
      "Epoch 57: 100% 2/2 [00:07<00:00,  3.96s/it, bce=0.02664, hard dice=0.44238, loss=0.58727, soft dice=0.44236]\n"
     ]
    },
    {
     "name": "stdout",
     "output_type": "stream",
     "text": [
      "soft dice: 0.91372 | loss: 0.10411 | hard dice: 0.91372 | bce: 0.01501\n"
     ]
    },
    {
     "name": "stderr",
     "output_type": "stream",
     "text": [
      "Epoch 58: 100% 2/2 [00:09<00:00,  4.54s/it, bce=0.03123, hard dice=0.75285, loss=0.28089, soft dice=0.75280]\n"
     ]
    },
    {
     "name": "stdout",
     "output_type": "stream",
     "text": [
      "soft dice: 0.91371 | loss: 0.10298 | hard dice: 0.91372 | bce: 0.01446\n"
     ]
    },
    {
     "name": "stderr",
     "output_type": "stream",
     "text": [
      "Epoch 59: 100% 2/2 [00:07<00:00,  3.88s/it, bce=0.03092, hard dice=0.81463, loss=0.21935, soft dice=0.81457]\n"
     ]
    },
    {
     "name": "stdout",
     "output_type": "stream",
     "text": [
      "soft dice: 0.91371 | loss: 0.10235 | hard dice: 0.91372 | bce: 0.01407\n"
     ]
    },
    {
     "name": "stderr",
     "output_type": "stream",
     "text": [
      "Epoch 60: 100% 2/2 [00:08<00:00,  4.31s/it, bce=0.03852, hard dice=0.56497, loss=0.49491, soft dice=0.54504]\n"
     ]
    },
    {
     "name": "stdout",
     "output_type": "stream",
     "text": [
      "soft dice: 0.91362 | loss: 0.09931 | hard dice: 0.91372 | bce: 0.01186\n"
     ]
    },
    {
     "name": "stderr",
     "output_type": "stream",
     "text": [
      "Epoch 61: 100% 2/2 [00:08<00:00,  4.20s/it, bce=0.01860, hard dice=1.00000, loss=0.02195, soft dice=0.99788]\n"
     ]
    },
    {
     "name": "stdout",
     "output_type": "stream",
     "text": [
      "soft dice: 0.91372 | loss: 0.10380 | hard dice: 0.91372 | bce: 0.01577\n"
     ]
    },
    {
     "name": "stderr",
     "output_type": "stream",
     "text": [
      "Epoch 62: 100% 2/2 [00:08<00:00,  4.11s/it, bce=0.04240, hard dice=0.50199, loss=0.54221, soft dice=0.50199]\n"
     ]
    },
    {
     "name": "stdout",
     "output_type": "stream",
     "text": [
      "soft dice: 0.91372 | loss: 0.10359 | hard dice: 0.91372 | bce: 0.01571\n"
     ]
    },
    {
     "name": "stderr",
     "output_type": "stream",
     "text": [
      "Epoch 63: 100% 2/2 [00:08<00:00,  4.27s/it, bce=0.04782, hard dice=0.56896, loss=0.47982, soft dice=0.56895]\n"
     ]
    },
    {
     "name": "stdout",
     "output_type": "stream",
     "text": [
      "soft dice: 0.91372 | loss: 0.10310 | hard dice: 0.91372 | bce: 0.01548\n"
     ]
    },
    {
     "name": "stderr",
     "output_type": "stream",
     "text": [
      "Epoch 64: 100% 2/2 [00:08<00:00,  4.12s/it, bce=0.04253, hard dice=0.75168, loss=0.29105, soft dice=0.75167]\n"
     ]
    },
    {
     "name": "stdout",
     "output_type": "stream",
     "text": [
      "soft dice: 0.91372 | loss: 0.10275 | hard dice: 0.91372 | bce: 0.01526\n"
     ]
    },
    {
     "name": "stderr",
     "output_type": "stream",
     "text": [
      "Epoch 65: 100% 2/2 [00:08<00:00,  4.34s/it, bce=0.03733, hard dice=0.50212, loss=0.53656, soft dice=0.50183]\n"
     ]
    },
    {
     "name": "stdout",
     "output_type": "stream",
     "text": [
      "soft dice: 0.91316 | loss: 0.09909 | hard dice: 0.91372 | bce: 0.01091\n"
     ]
    },
    {
     "name": "stderr",
     "output_type": "stream",
     "text": [
      "Epoch 66: 100% 2/2 [00:07<00:00,  3.97s/it, bce=0.03837, hard dice=0.37699, loss=0.67510, soft dice=0.36600]\n"
     ]
    },
    {
     "name": "stdout",
     "output_type": "stream",
     "text": [
      "soft dice: 0.91371 | loss: 0.10067 | hard dice: 0.91372 | bce: 0.01334\n"
     ]
    },
    {
     "name": "stderr",
     "output_type": "stream",
     "text": [
      "Epoch 67: 100% 2/2 [00:08<00:00,  4.44s/it, bce=0.03484, hard dice=0.37755, loss=0.71966, soft dice=0.37729]\n"
     ]
    },
    {
     "name": "stdout",
     "output_type": "stream",
     "text": [
      "soft dice: 0.91370 | loss: 0.10031 | hard dice: 0.91372 | bce: 0.01295\n"
     ]
    },
    {
     "name": "stderr",
     "output_type": "stream",
     "text": [
      "Epoch 68: 100% 2/2 [00:08<00:00,  4.47s/it, bce=0.05359, hard dice=0.50259, loss=0.55150, soft dice=0.50227]\n"
     ]
    },
    {
     "name": "stdout",
     "output_type": "stream",
     "text": [
      "soft dice: 0.91367 | loss: 0.09983 | hard dice: 0.91372 | bce: 0.01244\n"
     ]
    },
    {
     "name": "stderr",
     "output_type": "stream",
     "text": [
      "Epoch 69: 100% 2/2 [00:08<00:00,  4.26s/it, bce=0.04154, hard dice=0.25369, loss=0.78872, soft dice=0.25338]\n"
     ]
    },
    {
     "name": "stdout",
     "output_type": "stream",
     "text": [
      "soft dice: 0.91365 | loss: 0.09959 | hard dice: 0.91372 | bce: 0.01216\n"
     ]
    },
    {
     "name": "stderr",
     "output_type": "stream",
     "text": [
      "Epoch 70: 100% 2/2 [00:08<00:00,  4.08s/it, bce=0.02350, hard dice=0.75092, loss=0.28553, soft dice=0.73758]\n"
     ]
    },
    {
     "name": "stdout",
     "output_type": "stream",
     "text": [
      "soft dice: 0.91353 | loss: 0.09894 | hard dice: 0.91372 | bce: 0.01144\n"
     ]
    },
    {
     "name": "stderr",
     "output_type": "stream",
     "text": [
      "Epoch 71: 100% 2/2 [00:08<00:00,  4.10s/it, bce=0.04162, hard dice=0.50348, loss=0.53976, soft dice=0.50257]\n"
     ]
    },
    {
     "name": "stdout",
     "output_type": "stream",
     "text": [
      "soft dice: 0.91372 | loss: 0.10175 | hard dice: 0.91372 | bce: 0.01441\n"
     ]
    },
    {
     "name": "stderr",
     "output_type": "stream",
     "text": [
      "Epoch 72: 100% 2/2 [00:08<00:00,  4.17s/it, bce=0.02871, hard dice=0.81439, loss=0.27649, soft dice=0.81425]\n"
     ]
    },
    {
     "name": "stdout",
     "output_type": "stream",
     "text": [
      "soft dice: 0.91371 | loss: 0.10126 | hard dice: 0.91372 | bce: 0.01395\n"
     ]
    },
    {
     "name": "stderr",
     "output_type": "stream",
     "text": [
      "Epoch 73: 100% 2/2 [00:08<00:00,  4.08s/it, bce=0.03311, hard dice=0.56506, loss=0.46776, soft dice=0.56499]\n"
     ]
    },
    {
     "name": "stdout",
     "output_type": "stream",
     "text": [
      "soft dice: 0.91371 | loss: 0.10074 | hard dice: 0.91372 | bce: 0.01344\n"
     ]
    },
    {
     "name": "stderr",
     "output_type": "stream",
     "text": [
      "Epoch 74: 100% 2/2 [00:08<00:00,  4.41s/it, bce=0.04181, hard dice=0.56470, loss=0.47813, soft dice=0.56459]\n"
     ]
    },
    {
     "name": "stdout",
     "output_type": "stream",
     "text": [
      "soft dice: 0.91371 | loss: 0.10042 | hard dice: 0.91372 | bce: 0.01312\n"
     ]
    },
    {
     "name": "stderr",
     "output_type": "stream",
     "text": [
      "Epoch 75: 100% 2/2 [00:08<00:00,  4.11s/it, bce=0.03622, hard dice=0.81284, loss=0.23000, soft dice=0.80761]\n"
     ]
    },
    {
     "name": "stdout",
     "output_type": "stream",
     "text": [
      "soft dice: 0.91258 | loss: 0.09881 | hard dice: 0.91372 | bce: 0.01036\n"
     ]
    },
    {
     "name": "stderr",
     "output_type": "stream",
     "text": [
      "Epoch 76: 100% 2/2 [00:08<00:00,  4.42s/it, bce=0.02868, hard dice=0.44040, loss=0.59676, soft dice=0.43259]\n"
     ]
    },
    {
     "name": "stdout",
     "output_type": "stream",
     "text": [
      "soft dice: 0.91371 | loss: 0.10040 | hard dice: 0.91372 | bce: 0.01312\n"
     ]
    },
    {
     "name": "stderr",
     "output_type": "stream",
     "text": [
      "Epoch 77: 100% 2/2 [00:08<00:00,  4.10s/it, bce=0.04328, hard dice=0.25454, loss=0.78981, soft dice=0.25432]\n"
     ]
    },
    {
     "name": "stdout",
     "output_type": "stream",
     "text": [
      "soft dice: 0.91370 | loss: 0.10021 | hard dice: 0.91372 | bce: 0.01291\n"
     ]
    },
    {
     "name": "stderr",
     "output_type": "stream",
     "text": [
      "Epoch 78: 100% 2/2 [00:08<00:00,  4.19s/it, bce=0.02858, hard dice=0.75278, loss=0.27712, soft dice=0.75184]\n"
     ]
    },
    {
     "name": "stdout",
     "output_type": "stream",
     "text": [
      "soft dice: 0.91369 | loss: 0.09986 | hard dice: 0.91372 | bce: 0.01256\n"
     ]
    },
    {
     "name": "stderr",
     "output_type": "stream",
     "text": [
      "Epoch 79: 100% 2/2 [00:07<00:00,  4.00s/it, bce=0.03005, hard dice=0.62717, loss=0.40466, soft dice=0.62589]\n"
     ]
    },
    {
     "name": "stdout",
     "output_type": "stream",
     "text": [
      "soft dice: 0.91367 | loss: 0.09953 | hard dice: 0.91372 | bce: 0.01220\n"
     ]
    },
    {
     "name": "stderr",
     "output_type": "stream",
     "text": [
      "Epoch 80: 100% 2/2 [00:08<00:00,  4.40s/it, bce=0.02434, hard dice=0.81325, loss=0.21182, soft dice=0.81227]\n"
     ]
    },
    {
     "name": "stdout",
     "output_type": "stream",
     "text": [
      "soft dice: 0.91360 | loss: 0.09907 | hard dice: 0.91372 | bce: 0.01168\n"
     ]
    },
    {
     "name": "stderr",
     "output_type": "stream",
     "text": [
      "Epoch 81: 100% 2/2 [00:07<00:00,  3.82s/it, bce=0.03140, hard dice=0.81411, loss=0.22174, soft dice=0.81041]\n"
     ]
    },
    {
     "name": "stdout",
     "output_type": "stream",
     "text": [
      "soft dice: 0.91370 | loss: 0.10025 | hard dice: 0.91372 | bce: 0.01297\n"
     ]
    },
    {
     "name": "stderr",
     "output_type": "stream",
     "text": [
      "Epoch 82: 100% 2/2 [00:08<00:00,  4.46s/it, bce=0.02365, hard dice=0.56680, loss=0.45833, soft dice=0.56597]\n"
     ]
    },
    {
     "name": "stdout",
     "output_type": "stream",
     "text": [
      "soft dice: 0.91368 | loss: 0.09978 | hard dice: 0.91372 | bce: 0.01248\n"
     ]
    },
    {
     "name": "stderr",
     "output_type": "stream",
     "text": [
      "Epoch 83: 100% 2/2 [00:08<00:00,  4.14s/it, bce=0.04257, hard dice=0.50199, loss=0.54151, soft dice=0.50128]\n"
     ]
    },
    {
     "name": "stdout",
     "output_type": "stream",
     "text": [
      "soft dice: 0.91364 | loss: 0.09936 | hard dice: 0.91372 | bce: 0.01201\n"
     ]
    },
    {
     "name": "stderr",
     "output_type": "stream",
     "text": [
      "Epoch 84: 100% 2/2 [00:08<00:00,  4.06s/it, bce=0.04494, hard dice=0.87612, loss=0.17069, soft dice=0.87432]\n"
     ]
    },
    {
     "name": "stdout",
     "output_type": "stream",
     "text": [
      "soft dice: 0.91360 | loss: 0.09915 | hard dice: 0.91372 | bce: 0.01175\n"
     ]
    },
    {
     "name": "stderr",
     "output_type": "stream",
     "text": [
      "Epoch 85: 100% 2/2 [00:08<00:00,  4.28s/it, bce=0.04000, hard dice=0.62709, loss=0.41805, soft dice=0.62329]\n"
     ]
    },
    {
     "name": "stdout",
     "output_type": "stream",
     "text": [
      "soft dice: 0.91359 | loss: 0.09895 | hard dice: 0.91372 | bce: 0.01156\n"
     ]
    },
    {
     "name": "stderr",
     "output_type": "stream",
     "text": [
      "Epoch 86: 100% 2/2 [00:08<00:00,  4.25s/it, bce=0.02810, hard dice=0.81355, loss=0.21783, soft dice=0.81051]\n"
     ]
    },
    {
     "name": "stdout",
     "output_type": "stream",
     "text": [
      "soft dice: 0.91371 | loss: 0.10129 | hard dice: 0.91372 | bce: 0.01404\n"
     ]
    },
    {
     "name": "stderr",
     "output_type": "stream",
     "text": [
      "Epoch 87: 100% 2/2 [00:08<00:00,  4.38s/it, bce=0.03892, hard dice=0.56505, loss=0.47503, soft dice=0.56460]\n"
     ]
    },
    {
     "name": "stdout",
     "output_type": "stream",
     "text": [
      "soft dice: 0.91371 | loss: 0.10069 | hard dice: 0.91372 | bce: 0.01345\n"
     ]
    },
    {
     "name": "stderr",
     "output_type": "stream",
     "text": [
      "Epoch 88: 100% 2/2 [00:08<00:00,  4.43s/it, bce=0.03492, hard dice=0.81406, loss=0.22197, soft dice=0.81351]\n"
     ]
    },
    {
     "name": "stdout",
     "output_type": "stream",
     "text": [
      "soft dice: 0.91370 | loss: 0.10005 | hard dice: 0.91372 | bce: 0.01279\n"
     ]
    },
    {
     "name": "stderr",
     "output_type": "stream",
     "text": [
      "Epoch 89: 100% 2/2 [00:07<00:00,  3.99s/it, bce=0.01885, hard dice=0.93860, loss=0.08115, soft dice=0.93788]\n"
     ]
    },
    {
     "name": "stdout",
     "output_type": "stream",
     "text": [
      "soft dice: 0.91368 | loss: 0.09966 | hard dice: 0.91372 | bce: 0.01238\n"
     ]
    },
    {
     "name": "stderr",
     "output_type": "stream",
     "text": [
      "Epoch 90: 100% 2/2 [00:09<00:00,  4.50s/it, bce=0.03898, hard dice=0.56419, loss=0.47656, soft dice=0.56272]\n"
     ]
    },
    {
     "name": "stdout",
     "output_type": "stream",
     "text": [
      "soft dice: 0.91253 | loss: 0.09886 | hard dice: 0.91372 | bce: 0.01040\n"
     ]
    },
    {
     "name": "stderr",
     "output_type": "stream",
     "text": [
      "Epoch 91: 100% 2/2 [00:09<00:00,  4.52s/it, bce=0.04110, hard dice=0.44013, loss=0.61192, soft dice=0.43074]\n"
     ]
    },
    {
     "name": "stdout",
     "output_type": "stream",
     "text": [
      "soft dice: 0.91371 | loss: 0.10082 | hard dice: 0.91372 | bce: 0.01354\n"
     ]
    },
    {
     "name": "stderr",
     "output_type": "stream",
     "text": [
      "Epoch 92: 100% 2/2 [00:08<00:00,  4.38s/it, bce=0.02633, hard dice=0.75192, loss=0.27523, soft dice=0.75140]\n"
     ]
    },
    {
     "name": "stdout",
     "output_type": "stream",
     "text": [
      "soft dice: 0.91371 | loss: 0.10086 | hard dice: 0.91372 | bce: 0.01357\n"
     ]
    },
    {
     "name": "stderr",
     "output_type": "stream",
     "text": [
      "Epoch 93: 100% 2/2 [00:08<00:00,  4.38s/it, bce=0.03254, hard dice=0.50284, loss=0.52956, soft dice=0.50258]\n"
     ]
    },
    {
     "name": "stdout",
     "output_type": "stream",
     "text": [
      "soft dice: 0.91371 | loss: 0.10070 | hard dice: 0.91372 | bce: 0.01340\n"
     ]
    },
    {
     "name": "stderr",
     "output_type": "stream",
     "text": [
      "Epoch 94: 100% 2/2 [00:08<00:00,  4.26s/it, bce=0.03680, hard dice=0.50246, loss=0.53479, soft dice=0.50228]\n"
     ]
    },
    {
     "name": "stdout",
     "output_type": "stream",
     "text": [
      "soft dice: 0.91370 | loss: 0.10045 | hard dice: 0.91372 | bce: 0.01310\n"
     ]
    },
    {
     "name": "stderr",
     "output_type": "stream",
     "text": [
      "Epoch 95: 100% 2/2 [00:08<00:00,  4.16s/it, bce=0.03395, hard dice=0.56446, loss=0.47030, soft dice=0.56320]\n"
     ]
    },
    {
     "name": "stdout",
     "output_type": "stream",
     "text": [
      "soft dice: 0.91356 | loss: 0.09933 | hard dice: 0.91372 | bce: 0.01181\n"
     ]
    },
    {
     "name": "stderr",
     "output_type": "stream",
     "text": [
      "Epoch 96: 100% 2/2 [00:09<00:00,  4.56s/it, bce=0.01550, hard dice=0.75291, loss=0.26718, soft dice=0.75014]\n"
     ]
    },
    {
     "name": "stdout",
     "output_type": "stream",
     "text": [
      "soft dice: 0.91370 | loss: 0.10081 | hard dice: 0.91372 | bce: 0.01352\n"
     ]
    },
    {
     "name": "stderr",
     "output_type": "stream",
     "text": [
      "Epoch 97: 100% 2/2 [00:08<00:00,  4.14s/it, bce=0.02122, hard dice=0.68961, loss=0.39385, soft dice=0.68400]\n"
     ]
    },
    {
     "name": "stdout",
     "output_type": "stream",
     "text": [
      "soft dice: 0.91370 | loss: 0.10050 | hard dice: 0.91372 | bce: 0.01326\n"
     ]
    },
    {
     "name": "stderr",
     "output_type": "stream",
     "text": [
      "Epoch 98: 100% 2/2 [00:08<00:00,  4.31s/it, bce=0.02303, hard dice=0.75142, loss=0.27429, soft dice=0.74984]\n"
     ]
    },
    {
     "name": "stdout",
     "output_type": "stream",
     "text": [
      "soft dice: 0.91370 | loss: 0.10034 | hard dice: 0.91372 | bce: 0.01310\n"
     ]
    },
    {
     "name": "stderr",
     "output_type": "stream",
     "text": [
      "Epoch 99: 100% 2/2 [00:08<00:00,  4.29s/it, bce=0.02863, hard dice=0.68968, loss=0.34038, soft dice=0.68924]\n"
     ]
    },
    {
     "name": "stdout",
     "output_type": "stream",
     "text": [
      "soft dice: 0.91368 | loss: 0.09975 | hard dice: 0.91372 | bce: 0.01248\n"
     ]
    },
    {
     "name": "stderr",
     "output_type": "stream",
     "text": [
      "Epoch 100: 100% 2/2 [00:08<00:00,  4.39s/it, bce=0.03174, hard dice=0.62748, loss=0.40538, soft dice=0.62652]\n"
     ]
    },
    {
     "name": "stdout",
     "output_type": "stream",
     "text": [
      "soft dice: 0.91369 | loss: 0.09966 | hard dice: 0.91372 | bce: 0.01240\n"
     ]
    },
    {
     "name": "stderr",
     "output_type": "stream",
     "text": [
      "Epoch 101: 100% 2/2 [00:09<00:00,  4.50s/it, bce=0.02174, hard dice=0.81719, loss=0.20783, soft dice=0.81641]\n"
     ]
    },
    {
     "name": "stdout",
     "output_type": "stream",
     "text": [
      "soft dice: 0.91366 | loss: 0.09939 | hard dice: 0.91372 | bce: 0.01209\n"
     ]
    },
    {
     "name": "stderr",
     "output_type": "stream",
     "text": [
      "Epoch 102: 100% 2/2 [00:08<00:00,  4.46s/it, bce=0.03111, hard dice=0.69045, loss=0.34159, soft dice=0.68975]\n"
     ]
    },
    {
     "name": "stdout",
     "output_type": "stream",
     "text": [
      "soft dice: 0.91363 | loss: 0.09929 | hard dice: 0.91372 | bce: 0.01194\n"
     ]
    },
    {
     "name": "stderr",
     "output_type": "stream",
     "text": [
      "Epoch 103: 100% 2/2 [00:08<00:00,  4.37s/it, bce=0.02557, hard dice=0.69039, loss=0.33593, soft dice=0.69033]\n"
     ]
    },
    {
     "name": "stdout",
     "output_type": "stream",
     "text": [
      "soft dice: 0.91357 | loss: 0.09921 | hard dice: 0.91372 | bce: 0.01180\n"
     ]
    },
    {
     "name": "stderr",
     "output_type": "stream",
     "text": [
      "Epoch 104: 100% 2/2 [00:08<00:00,  4.35s/it, bce=0.03061, hard dice=0.68909, loss=0.34243, soft dice=0.68845]\n"
     ]
    },
    {
     "name": "stdout",
     "output_type": "stream",
     "text": [
      "soft dice: 0.91355 | loss: 0.09908 | hard dice: 0.91372 | bce: 0.01165\n"
     ]
    },
    {
     "name": "stderr",
     "output_type": "stream",
     "text": [
      "Epoch 105: 100% 2/2 [00:08<00:00,  4.38s/it, bce=0.02929, hard dice=0.87608, loss=0.16811, soft dice=0.86254]\n"
     ]
    },
    {
     "name": "stdout",
     "output_type": "stream",
     "text": [
      "soft dice: 0.91371 | loss: 0.10049 | hard dice: 0.91372 | bce: 0.01326\n"
     ]
    },
    {
     "name": "stderr",
     "output_type": "stream",
     "text": [
      "Epoch 106: 100% 2/2 [00:08<00:00,  4.14s/it, bce=0.02846, hard dice=0.93868, loss=0.09110, soft dice=0.93850]\n"
     ]
    },
    {
     "name": "stdout",
     "output_type": "stream",
     "text": [
      "soft dice: 0.91372 | loss: 0.10776 | hard dice: 0.91372 | bce: 0.01599\n"
     ]
    },
    {
     "name": "stderr",
     "output_type": "stream",
     "text": [
      "Epoch 107: 100% 2/2 [00:08<00:00,  4.47s/it, bce=0.03368, hard dice=0.68976, loss=0.34830, soft dice=0.68976]\n"
     ]
    },
    {
     "name": "stdout",
     "output_type": "stream",
     "text": [
      "soft dice: 0.91372 | loss: 0.10737 | hard dice: 0.91372 | bce: 0.01599\n"
     ]
    },
    {
     "name": "stderr",
     "output_type": "stream",
     "text": [
      "Epoch 108: 100% 2/2 [00:08<00:00,  4.08s/it, bce=0.02632, hard dice=0.62780, loss=0.40204, soft dice=0.62780]\n"
     ]
    },
    {
     "name": "stdout",
     "output_type": "stream",
     "text": [
      "soft dice: 0.91372 | loss: 0.10683 | hard dice: 0.91372 | bce: 0.01599\n"
     ]
    },
    {
     "name": "stderr",
     "output_type": "stream",
     "text": [
      "Epoch 109: 100% 2/2 [00:08<00:00,  4.40s/it, bce=0.04574, hard dice=0.68940, loss=0.36176, soft dice=0.68940]\n"
     ]
    },
    {
     "name": "stdout",
     "output_type": "stream",
     "text": [
      "soft dice: 0.91372 | loss: 0.10623 | hard dice: 0.91372 | bce: 0.01599\n"
     ]
    },
    {
     "name": "stderr",
     "output_type": "stream",
     "text": [
      "Epoch 110: 100% 2/2 [00:08<00:00,  4.09s/it, bce=0.04333, hard dice=0.50268, loss=0.54260, soft dice=0.50262]\n"
     ]
    },
    {
     "name": "stdout",
     "output_type": "stream",
     "text": [
      "soft dice: 0.91370 | loss: 0.10085 | hard dice: 0.91372 | bce: 0.01363\n"
     ]
    },
    {
     "name": "stderr",
     "output_type": "stream",
     "text": [
      "Epoch 111: 100% 2/2 [00:08<00:00,  4.30s/it, bce=0.03230, hard dice=0.50189, loss=0.54964, soft dice=0.48462]\n"
     ]
    },
    {
     "name": "stdout",
     "output_type": "stream",
     "text": [
      "soft dice: 0.91372 | loss: 0.10334 | hard dice: 0.91372 | bce: 0.01555\n"
     ]
    },
    {
     "name": "stderr",
     "output_type": "stream",
     "text": [
      "Epoch 112: 100% 2/2 [00:07<00:00,  3.88s/it, bce=0.02373, hard dice=0.50317, loss=0.52258, soft dice=0.50308]\n"
     ]
    },
    {
     "name": "stdout",
     "output_type": "stream",
     "text": [
      "soft dice: 0.91372 | loss: 0.10252 | hard dice: 0.91372 | bce: 0.01499\n"
     ]
    },
    {
     "name": "stderr",
     "output_type": "stream",
     "text": [
      "Epoch 113: 100% 2/2 [00:08<00:00,  4.34s/it, bce=0.03858, hard dice=0.68878, loss=0.35184, soft dice=0.68865]\n"
     ]
    },
    {
     "name": "stdout",
     "output_type": "stream",
     "text": [
      "soft dice: 0.91371 | loss: 0.10157 | hard dice: 0.91372 | bce: 0.01413\n"
     ]
    },
    {
     "name": "stderr",
     "output_type": "stream",
     "text": [
      "Epoch 114: 100% 2/2 [00:08<00:00,  4.39s/it, bce=0.02446, hard dice=0.81466, loss=0.21046, soft dice=0.81441]\n"
     ]
    },
    {
     "name": "stdout",
     "output_type": "stream",
     "text": [
      "soft dice: 0.91371 | loss: 0.10095 | hard dice: 0.91372 | bce: 0.01352\n"
     ]
    },
    {
     "name": "stderr",
     "output_type": "stream",
     "text": [
      "Epoch 115: 100% 2/2 [00:08<00:00,  4.28s/it, bce=0.02871, hard dice=0.50199, loss=0.53868, soft dice=0.49078]\n"
     ]
    },
    {
     "name": "stdout",
     "output_type": "stream",
     "text": [
      "soft dice: 0.91370 | loss: 0.10044 | hard dice: 0.91372 | bce: 0.01278\n"
     ]
    },
    {
     "name": "stderr",
     "output_type": "stream",
     "text": [
      "Epoch 116: 100% 2/2 [00:08<00:00,  4.31s/it, bce=0.04146, hard dice=0.62762, loss=0.41514, soft dice=0.62658]\n"
     ]
    },
    {
     "name": "stdout",
     "output_type": "stream",
     "text": [
      "soft dice: 0.91372 | loss: 0.10557 | hard dice: 0.91372 | bce: 0.01593\n"
     ]
    },
    {
     "name": "stderr",
     "output_type": "stream",
     "text": [
      "Epoch 117: 100% 2/2 [00:08<00:00,  4.23s/it, bce=0.04258, hard dice=0.43957, loss=0.60346, soft dice=0.43957]\n"
     ]
    },
    {
     "name": "stdout",
     "output_type": "stream",
     "text": [
      "soft dice: 0.91372 | loss: 0.10403 | hard dice: 0.91372 | bce: 0.01573\n"
     ]
    },
    {
     "name": "stderr",
     "output_type": "stream",
     "text": [
      "Epoch 118: 100% 2/2 [00:08<00:00,  4.23s/it, bce=0.04887, hard dice=0.56459, loss=0.48702, soft dice=0.56458]\n"
     ]
    },
    {
     "name": "stdout",
     "output_type": "stream",
     "text": [
      "soft dice: 0.91372 | loss: 0.10295 | hard dice: 0.91372 | bce: 0.01523\n"
     ]
    },
    {
     "name": "stderr",
     "output_type": "stream",
     "text": [
      "Epoch 119: 100% 2/2 [00:09<00:00,  4.52s/it, bce=0.02894, hard dice=0.75272, loss=0.27651, soft dice=0.75269]\n"
     ]
    },
    {
     "name": "stdout",
     "output_type": "stream",
     "text": [
      "soft dice: 0.91372 | loss: 0.10234 | hard dice: 0.91372 | bce: 0.01479\n"
     ]
    },
    {
     "name": "stderr",
     "output_type": "stream",
     "text": [
      "Epoch 120: 100% 2/2 [00:09<00:00,  4.50s/it, bce=0.02995, hard dice=0.68947, loss=0.34300, soft dice=0.68791]\n"
     ]
    },
    {
     "name": "stdout",
     "output_type": "stream",
     "text": [
      "soft dice: 0.91225 | loss: 0.09923 | hard dice: 0.91372 | bce: 0.01035\n"
     ]
    },
    {
     "name": "stderr",
     "output_type": "stream",
     "text": [
      "Epoch 121: 100% 2/2 [00:08<00:00,  4.06s/it, bce=0.03061, hard dice=0.69077, loss=0.35180, soft dice=0.68015]\n"
     ]
    },
    {
     "name": "stdout",
     "output_type": "stream",
     "text": [
      "soft dice: 0.91371 | loss: 0.10096 | hard dice: 0.91372 | bce: 0.01370\n"
     ]
    },
    {
     "name": "stderr",
     "output_type": "stream",
     "text": [
      "Epoch 122: 100% 2/2 [00:08<00:00,  4.05s/it, bce=0.03948, hard dice=0.68920, loss=0.35249, soft dice=0.68904]\n"
     ]
    },
    {
     "name": "stdout",
     "output_type": "stream",
     "text": [
      "soft dice: 0.91371 | loss: 0.10075 | hard dice: 0.91372 | bce: 0.01349\n"
     ]
    },
    {
     "name": "stderr",
     "output_type": "stream",
     "text": [
      "Epoch 123: 100% 2/2 [00:08<00:00,  4.15s/it, bce=0.03526, hard dice=0.62721, loss=0.40886, soft dice=0.62704]\n"
     ]
    },
    {
     "name": "stdout",
     "output_type": "stream",
     "text": [
      "soft dice: 0.91370 | loss: 0.10034 | hard dice: 0.91372 | bce: 0.01307\n"
     ]
    },
    {
     "name": "stderr",
     "output_type": "stream",
     "text": [
      "Epoch 124: 100% 2/2 [00:07<00:00,  3.87s/it, bce=0.03776, hard dice=0.37790, loss=0.66012, soft dice=0.37780]\n"
     ]
    },
    {
     "name": "stdout",
     "output_type": "stream",
     "text": [
      "soft dice: 0.91370 | loss: 0.10016 | hard dice: 0.91372 | bce: 0.01287\n"
     ]
    },
    {
     "name": "stderr",
     "output_type": "stream",
     "text": [
      "Epoch 125: 100% 2/2 [00:07<00:00,  3.89s/it, bce=0.03216, hard dice=0.74820, loss=0.40582, soft dice=0.74203]\n"
     ]
    },
    {
     "name": "stdout",
     "output_type": "stream",
     "text": [
      "soft dice: 0.91183 | loss: 0.09930 | hard dice: 0.91372 | bce: 0.01014\n"
     ]
    },
    {
     "name": "stderr",
     "output_type": "stream",
     "text": [
      "Epoch 126: 100% 2/2 [00:07<00:00,  3.91s/it, bce=0.03762, hard dice=0.43934, loss=0.61384, soft dice=0.42470]\n"
     ]
    },
    {
     "name": "stdout",
     "output_type": "stream",
     "text": [
      "soft dice: 0.91372 | loss: 0.10368 | hard dice: 0.91372 | bce: 0.01576\n"
     ]
    },
    {
     "name": "stderr",
     "output_type": "stream",
     "text": [
      "Epoch 127: 100% 2/2 [00:08<00:00,  4.24s/it, bce=0.02530, hard dice=0.87765, loss=0.14868, soft dice=0.87765]\n"
     ]
    },
    {
     "name": "stdout",
     "output_type": "stream",
     "text": [
      "soft dice: 0.91372 | loss: 0.10340 | hard dice: 0.91372 | bce: 0.01567\n"
     ]
    },
    {
     "name": "stderr",
     "output_type": "stream",
     "text": [
      "Epoch 128: 100% 2/2 [00:08<00:00,  4.07s/it, bce=0.05162, hard dice=0.37719, loss=0.67549, soft dice=0.37719]\n"
     ]
    },
    {
     "name": "stdout",
     "output_type": "stream",
     "text": [
      "soft dice: 0.91372 | loss: 0.10295 | hard dice: 0.91372 | bce: 0.01544\n"
     ]
    },
    {
     "name": "stderr",
     "output_type": "stream",
     "text": [
      "Epoch 129: 100% 2/2 [00:08<00:00,  4.06s/it, bce=0.03608, hard dice=0.62612, loss=0.40999, soft dice=0.62612]\n"
     ]
    },
    {
     "name": "stdout",
     "output_type": "stream",
     "text": [
      "soft dice: 0.91372 | loss: 0.10255 | hard dice: 0.91372 | bce: 0.01516\n"
     ]
    },
    {
     "name": "stderr",
     "output_type": "stream",
     "text": [
      "Epoch 130: 100% 2/2 [00:08<00:00,  4.04s/it, bce=0.02993, hard dice=0.56517, loss=0.46534, soft dice=0.56500]\n"
     ]
    },
    {
     "name": "stdout",
     "output_type": "stream",
     "text": [
      "soft dice: 0.91346 | loss: 0.09925 | hard dice: 0.91372 | bce: 0.01155\n"
     ]
    },
    {
     "name": "stderr",
     "output_type": "stream",
     "text": [
      "Epoch 131: 100% 2/2 [00:08<00:00,  4.34s/it, bce=0.02507, hard dice=0.63006, loss=0.41949, soft dice=0.60923]\n"
     ]
    },
    {
     "name": "stdout",
     "output_type": "stream",
     "text": [
      "soft dice: 0.91370 | loss: 0.10038 | hard dice: 0.91372 | bce: 0.01314\n"
     ]
    },
    {
     "name": "stderr",
     "output_type": "stream",
     "text": [
      "Epoch 132: 100% 2/2 [00:07<00:00,  3.98s/it, bce=0.03187, hard dice=0.75236, loss=0.28063, soft dice=0.75194]\n"
     ]
    },
    {
     "name": "stdout",
     "output_type": "stream",
     "text": [
      "soft dice: 0.91371 | loss: 0.10061 | hard dice: 0.91372 | bce: 0.01334\n"
     ]
    },
    {
     "name": "stderr",
     "output_type": "stream",
     "text": [
      "Epoch 133: 100% 2/2 [00:08<00:00,  4.25s/it, bce=0.03745, hard dice=0.68899, loss=0.34807, soft dice=0.68895]\n"
     ]
    },
    {
     "name": "stdout",
     "output_type": "stream",
     "text": [
      "soft dice: 0.91371 | loss: 0.10063 | hard dice: 0.91372 | bce: 0.01334\n"
     ]
    },
    {
     "name": "stderr",
     "output_type": "stream",
     "text": [
      "Epoch 134: 100% 2/2 [00:08<00:00,  4.18s/it, bce=0.03270, hard dice=0.69115, loss=0.34258, soft dice=0.69102]\n"
     ]
    },
    {
     "name": "stdout",
     "output_type": "stream",
     "text": [
      "soft dice: 0.91371 | loss: 0.10045 | hard dice: 0.91372 | bce: 0.01313\n"
     ]
    },
    {
     "name": "stderr",
     "output_type": "stream",
     "text": [
      "Epoch 135: 100% 2/2 [00:07<00:00,  3.99s/it, bce=0.02460, hard dice=0.68949, loss=0.33657, soft dice=0.68898]\n"
     ]
    },
    {
     "name": "stdout",
     "output_type": "stream",
     "text": [
      "soft dice: 0.91353 | loss: 0.09896 | hard dice: 0.91372 | bce: 0.01147\n"
     ]
    },
    {
     "name": "stderr",
     "output_type": "stream",
     "text": [
      "Epoch 136: 100% 2/2 [00:07<00:00,  3.86s/it, bce=0.04185, hard dice=0.75252, loss=0.29737, soft dice=0.74420]\n"
     ]
    },
    {
     "name": "stdout",
     "output_type": "stream",
     "text": [
      "soft dice: 0.91362 | loss: 0.09926 | hard dice: 0.91372 | bce: 0.01190\n"
     ]
    },
    {
     "name": "stderr",
     "output_type": "stream",
     "text": [
      "Epoch 137: 100% 2/2 [00:08<00:00,  4.29s/it, bce=0.02984, hard dice=0.87632, loss=0.21610, soft dice=0.87455]\n"
     ]
    },
    {
     "name": "stdout",
     "output_type": "stream",
     "text": [
      "soft dice: 0.91364 | loss: 0.09937 | hard dice: 0.91372 | bce: 0.01203\n"
     ]
    },
    {
     "name": "stderr",
     "output_type": "stream",
     "text": [
      "Epoch 138: 100% 2/2 [00:08<00:00,  4.07s/it, bce=0.03647, hard dice=0.56457, loss=0.47317, soft dice=0.56380]\n"
     ]
    },
    {
     "name": "stdout",
     "output_type": "stream",
     "text": [
      "soft dice: 0.91364 | loss: 0.09939 | hard dice: 0.91372 | bce: 0.01204\n"
     ]
    },
    {
     "name": "stderr",
     "output_type": "stream",
     "text": [
      "Epoch 139: 100% 2/2 [00:08<00:00,  4.29s/it, bce=0.02328, hard dice=0.75128, loss=0.27277, soft dice=0.75105]\n"
     ]
    },
    {
     "name": "stdout",
     "output_type": "stream",
     "text": [
      "soft dice: 0.91362 | loss: 0.09927 | hard dice: 0.91372 | bce: 0.01191\n"
     ]
    },
    {
     "name": "stderr",
     "output_type": "stream",
     "text": [
      "Epoch 140: 100% 2/2 [00:08<00:00,  4.26s/it, bce=0.03615, hard dice=0.44025, loss=0.59708, soft dice=0.43988]\n"
     ]
    },
    {
     "name": "stdout",
     "output_type": "stream",
     "text": [
      "soft dice: 0.91325 | loss: 0.09866 | hard dice: 0.91372 | bce: 0.01097\n"
     ]
    },
    {
     "name": "stderr",
     "output_type": "stream",
     "text": [
      "Epoch 141: 100% 2/2 [00:08<00:00,  4.10s/it, bce=0.02604, hard dice=0.62788, loss=0.40315, soft dice=0.62310]\n"
     ]
    },
    {
     "name": "stdout",
     "output_type": "stream",
     "text": [
      "soft dice: 0.91358 | loss: 0.09901 | hard dice: 0.91372 | bce: 0.01165\n"
     ]
    },
    {
     "name": "stderr",
     "output_type": "stream",
     "text": [
      "Epoch 142: 100% 2/2 [00:08<00:00,  4.32s/it, bce=0.02221, hard dice=0.56866, loss=0.46043, soft dice=0.56581]\n"
     ]
    },
    {
     "name": "stdout",
     "output_type": "stream",
     "text": [
      "soft dice: 0.91354 | loss: 0.09889 | hard dice: 0.91372 | bce: 0.01149\n"
     ]
    },
    {
     "name": "stderr",
     "output_type": "stream",
     "text": [
      "Epoch 143: 100% 2/2 [00:07<00:00,  3.97s/it, bce=0.02872, hard dice=0.56988, loss=0.46115, soft dice=0.56767]\n"
     ]
    },
    {
     "name": "stdout",
     "output_type": "stream",
     "text": [
      "soft dice: 0.91356 | loss: 0.09894 | hard dice: 0.91372 | bce: 0.01157\n"
     ]
    },
    {
     "name": "stderr",
     "output_type": "stream",
     "text": [
      "Epoch 144: 100% 2/2 [00:08<00:00,  4.12s/it, bce=0.02869, hard dice=0.75224, loss=0.27875, soft dice=0.75022]\n"
     ]
    },
    {
     "name": "stdout",
     "output_type": "stream",
     "text": [
      "soft dice: 0.91352 | loss: 0.09883 | hard dice: 0.91372 | bce: 0.01141\n"
     ]
    },
    {
     "name": "stderr",
     "output_type": "stream",
     "text": [
      "Epoch 145: 100% 2/2 [00:08<00:00,  4.04s/it, bce=0.03619, hard dice=0.56465, loss=0.47343, soft dice=0.56351]\n"
     ]
    },
    {
     "name": "stdout",
     "output_type": "stream",
     "text": [
      "soft dice: 0.91370 | loss: 0.09997 | hard dice: 0.91372 | bce: 0.01272\n"
     ]
    },
    {
     "name": "stderr",
     "output_type": "stream",
     "text": [
      "Epoch 146: 100% 2/2 [00:08<00:00,  4.28s/it, bce=0.03019, hard dice=0.50250, loss=0.52886, soft dice=0.50195]\n"
     ]
    },
    {
     "name": "stdout",
     "output_type": "stream",
     "text": [
      "soft dice: 0.91370 | loss: 0.10004 | hard dice: 0.91372 | bce: 0.01281\n"
     ]
    },
    {
     "name": "stderr",
     "output_type": "stream",
     "text": [
      "Epoch 147: 100% 2/2 [00:07<00:00,  3.84s/it, bce=0.03338, hard dice=0.50350, loss=0.57909, soft dice=0.50247]\n"
     ]
    },
    {
     "name": "stdout",
     "output_type": "stream",
     "text": [
      "soft dice: 0.91371 | loss: 0.10154 | hard dice: 0.91372 | bce: 0.01418\n"
     ]
    },
    {
     "name": "stderr",
     "output_type": "stream",
     "text": [
      "Epoch 148: 100% 2/2 [00:09<00:00,  4.51s/it, bce=0.03520, hard dice=0.50219, loss=0.53571, soft dice=0.50064]\n"
     ]
    },
    {
     "name": "stdout",
     "output_type": "stream",
     "text": [
      "soft dice: 0.91372 | loss: 0.10476 | hard dice: 0.91372 | bce: 0.01568\n"
     ]
    },
    {
     "name": "stderr",
     "output_type": "stream",
     "text": [
      "Epoch 149: 100% 2/2 [00:08<00:00,  4.20s/it, bce=0.03736, hard dice=0.75186, loss=0.28844, soft dice=0.74962]\n"
     ]
    },
    {
     "name": "stdout",
     "output_type": "stream",
     "text": [
      "soft dice: 0.91372 | loss: 0.10822 | hard dice: 0.91372 | bce: 0.01598\n",
      "Finished train fold: 0 with best loss 0.09866 on epoch 140\n",
      "\n"
     ]
    },
    {
     "name": "stderr",
     "output_type": "stream",
     "text": [
      "Epoch 0: 100% 2/2 [00:08<00:00,  4.30s/it, bce=0.39672, hard dice=0.50092, loss=1.39390, soft dice=0.00338]\n"
     ]
    },
    {
     "name": "stdout",
     "output_type": "stream",
     "text": [
      "soft dice: 0.19782 | loss: 1.34926 | hard dice: 0.66374 | bce: 0.04127\n"
     ]
    },
    {
     "name": "stderr",
     "output_type": "stream",
     "text": [
      "Epoch 1: 100% 2/2 [00:08<00:00,  4.17s/it, bce=0.01746, hard dice=0.93862, loss=0.58307, soft dice=0.43921]\n"
     ]
    },
    {
     "name": "stdout",
     "output_type": "stream",
     "text": [
      "soft dice: 0.66374 | loss: 23.21622 | hard dice: 0.66374 | bce: 0.04133\n"
     ]
    },
    {
     "name": "stderr",
     "output_type": "stream",
     "text": [
      "Epoch 2: 100% 2/2 [00:07<00:00,  3.88s/it, bce=0.03302, hard dice=0.69115, loss=0.42669, soft dice=0.69115]\n"
     ]
    },
    {
     "name": "stdout",
     "output_type": "stream",
     "text": [
      "soft dice: 0.66374 | loss: 13.46814 | hard dice: 0.66374 | bce: 0.04133\n"
     ]
    },
    {
     "name": "stderr",
     "output_type": "stream",
     "text": [
      "Epoch 3: 100% 2/2 [00:09<00:00,  4.67s/it, bce=0.04629, hard dice=0.75208, loss=0.34683, soft dice=0.75208]\n"
     ]
    },
    {
     "name": "stdout",
     "output_type": "stream",
     "text": [
      "soft dice: 0.66374 | loss: 13.37273 | hard dice: 0.66374 | bce: 0.04133\n"
     ]
    },
    {
     "name": "stderr",
     "output_type": "stream",
     "text": [
      "Epoch 4: 100% 2/2 [00:07<00:00,  3.99s/it, bce=0.04009, hard dice=0.75314, loss=0.38359, soft dice=0.75314]\n"
     ]
    },
    {
     "name": "stdout",
     "output_type": "stream",
     "text": [
      "soft dice: 0.66374 | loss: 20.61847 | hard dice: 0.66374 | bce: 0.04133\n"
     ]
    },
    {
     "name": "stderr",
     "output_type": "stream",
     "text": [
      "Epoch 5: 100% 2/2 [00:07<00:00,  3.97s/it, bce=0.04471, hard dice=0.56520, loss=0.50469, soft dice=0.56497]\n"
     ]
    },
    {
     "name": "stdout",
     "output_type": "stream",
     "text": [
      "soft dice: 0.66374 | loss: 9.05761 | hard dice: 0.66374 | bce: 0.04133\n"
     ]
    },
    {
     "name": "stderr",
     "output_type": "stream",
     "text": [
      "Epoch 6: 100% 2/2 [00:08<00:00,  4.11s/it, bce=0.05262, hard dice=0.62688, loss=0.46352, soft dice=0.62688]\n"
     ]
    },
    {
     "name": "stdout",
     "output_type": "stream",
     "text": [
      "soft dice: 0.66374 | loss: 8.54507 | hard dice: 0.66374 | bce: 0.04133\n"
     ]
    },
    {
     "name": "stderr",
     "output_type": "stream",
     "text": [
      "Epoch 7: 100% 2/2 [00:08<00:00,  4.15s/it, bce=0.03503, hard dice=0.68904, loss=0.38967, soft dice=0.68904]\n"
     ]
    },
    {
     "name": "stdout",
     "output_type": "stream",
     "text": [
      "soft dice: 0.66374 | loss: 2.26482 | hard dice: 0.66374 | bce: 0.04130\n"
     ]
    },
    {
     "name": "stderr",
     "output_type": "stream",
     "text": [
      "Epoch 8: 100% 2/2 [00:08<00:00,  4.31s/it, bce=0.04271, hard dice=0.56477, loss=0.49234, soft dice=0.56474]\n"
     ]
    },
    {
     "name": "stdout",
     "output_type": "stream",
     "text": [
      "soft dice: 0.66374 | loss: 0.53133 | hard dice: 0.66374 | bce: 0.03893\n"
     ]
    },
    {
     "name": "stderr",
     "output_type": "stream",
     "text": [
      "Epoch 9: 100% 2/2 [00:08<00:00,  4.02s/it, bce=0.02617, hard dice=0.81441, loss=0.22261, soft dice=0.80892]\n"
     ]
    },
    {
     "name": "stdout",
     "output_type": "stream",
     "text": [
      "soft dice: 0.66373 | loss: 0.39429 | hard dice: 0.66374 | bce: 0.03399\n"
     ]
    },
    {
     "name": "stderr",
     "output_type": "stream",
     "text": [
      "Epoch 10: 100% 2/2 [00:07<00:00,  3.95s/it, bce=0.03458, hard dice=0.68908, loss=0.35449, soft dice=0.68798]\n"
     ]
    },
    {
     "name": "stdout",
     "output_type": "stream",
     "text": [
      "soft dice: 0.66374 | loss: 0.37926 | hard dice: 0.66374 | bce: 0.03484\n"
     ]
    },
    {
     "name": "stderr",
     "output_type": "stream",
     "text": [
      "Epoch 11: 100% 2/2 [00:08<00:00,  4.24s/it, bce=0.01632, hard dice=0.82025, loss=0.20795, soft dice=0.82015]\n"
     ]
    },
    {
     "name": "stdout",
     "output_type": "stream",
     "text": [
      "soft dice: 0.66373 | loss: 0.37428 | hard dice: 0.66374 | bce: 0.03337\n"
     ]
    },
    {
     "name": "stderr",
     "output_type": "stream",
     "text": [
      "Epoch 12: 100% 2/2 [00:08<00:00,  4.34s/it, bce=0.02363, hard dice=0.81425, loss=0.21249, soft dice=0.81382]\n"
     ]
    },
    {
     "name": "stdout",
     "output_type": "stream",
     "text": [
      "soft dice: 0.66372 | loss: 0.37202 | hard dice: 0.66374 | bce: 0.03242\n"
     ]
    },
    {
     "name": "stderr",
     "output_type": "stream",
     "text": [
      "Epoch 13: 100% 2/2 [00:08<00:00,  4.24s/it, bce=0.02537, hard dice=0.62734, loss=0.40336, soft dice=0.62723]\n"
     ]
    },
    {
     "name": "stdout",
     "output_type": "stream",
     "text": [
      "soft dice: 0.66370 | loss: 0.37103 | hard dice: 0.66374 | bce: 0.03159\n"
     ]
    },
    {
     "name": "stderr",
     "output_type": "stream",
     "text": [
      "Epoch 14: 100% 2/2 [00:08<00:00,  4.23s/it, bce=0.01530, hard dice=0.87634, loss=0.14237, soft dice=0.87591]\n"
     ]
    },
    {
     "name": "stdout",
     "output_type": "stream",
     "text": [
      "soft dice: 0.66363 | loss: 0.37024 | hard dice: 0.66374 | bce: 0.03082\n"
     ]
    },
    {
     "name": "stderr",
     "output_type": "stream",
     "text": [
      "Epoch 15: 100% 2/2 [00:08<00:00,  4.26s/it, bce=0.01849, hard dice=0.81418, loss=0.20606, soft dice=0.81356]\n"
     ]
    },
    {
     "name": "stdout",
     "output_type": "stream",
     "text": [
      "soft dice: 0.66358 | loss: 0.36941 | hard dice: 0.66374 | bce: 0.03007\n"
     ]
    },
    {
     "name": "stderr",
     "output_type": "stream",
     "text": [
      "Epoch 16: 100% 2/2 [00:08<00:00,  4.38s/it, bce=0.02635, hard dice=0.68907, loss=0.33898, soft dice=0.68738]\n"
     ]
    },
    {
     "name": "stdout",
     "output_type": "stream",
     "text": [
      "soft dice: 0.66350 | loss: 0.36895 | hard dice: 0.66374 | bce: 0.02960\n"
     ]
    },
    {
     "name": "stderr",
     "output_type": "stream",
     "text": [
      "Epoch 17: 100% 2/2 [00:08<00:00,  4.25s/it, bce=0.02025, hard dice=0.81396, loss=0.26142, soft dice=0.81269]\n"
     ]
    },
    {
     "name": "stdout",
     "output_type": "stream",
     "text": [
      "soft dice: 0.66342 | loss: 0.36867 | hard dice: 0.66374 | bce: 0.02930\n"
     ]
    },
    {
     "name": "stderr",
     "output_type": "stream",
     "text": [
      "Epoch 18: 100% 2/2 [00:07<00:00,  3.88s/it, bce=0.02797, hard dice=0.62714, loss=0.40569, soft dice=0.62469]\n"
     ]
    },
    {
     "name": "stdout",
     "output_type": "stream",
     "text": [
      "soft dice: 0.66348 | loss: 0.36840 | hard dice: 0.66374 | bce: 0.02916\n"
     ]
    },
    {
     "name": "stderr",
     "output_type": "stream",
     "text": [
      "Epoch 19: 100% 2/2 [00:08<00:00,  4.20s/it, bce=0.02440, hard dice=0.56524, loss=0.46524, soft dice=0.56387]\n"
     ]
    },
    {
     "name": "stdout",
     "output_type": "stream",
     "text": [
      "soft dice: 0.66355 | loss: 0.36844 | hard dice: 0.66374 | bce: 0.02932\n"
     ]
    },
    {
     "name": "stderr",
     "output_type": "stream",
     "text": [
      "Epoch 20: 100% 2/2 [00:08<00:00,  4.12s/it, bce=0.03229, hard dice=0.50201, loss=0.53617, soft dice=0.50085]\n"
     ]
    },
    {
     "name": "stdout",
     "output_type": "stream",
     "text": [
      "soft dice: 0.66358 | loss: 0.36844 | hard dice: 0.66374 | bce: 0.02939\n"
     ]
    },
    {
     "name": "stderr",
     "output_type": "stream",
     "text": [
      "Epoch 21: 100% 2/2 [00:09<00:00,  4.55s/it, bce=0.02443, hard dice=0.93819, loss=0.08806, soft dice=0.93703]\n"
     ]
    },
    {
     "name": "stdout",
     "output_type": "stream",
     "text": [
      "soft dice: 0.66358 | loss: 0.36830 | hard dice: 0.66374 | bce: 0.02932\n"
     ]
    },
    {
     "name": "stderr",
     "output_type": "stream",
     "text": [
      "Epoch 22: 100% 2/2 [00:08<00:00,  4.02s/it, bce=0.02223, hard dice=0.62747, loss=0.39924, soft dice=0.62561]\n"
     ]
    },
    {
     "name": "stdout",
     "output_type": "stream",
     "text": [
      "soft dice: 0.66361 | loss: 0.36857 | hard dice: 0.66374 | bce: 0.02966\n"
     ]
    },
    {
     "name": "stderr",
     "output_type": "stream",
     "text": [
      "Epoch 23: 100% 2/2 [00:08<00:00,  4.43s/it, bce=0.03536, hard dice=0.62642, loss=0.41576, soft dice=0.62525]\n"
     ]
    },
    {
     "name": "stdout",
     "output_type": "stream",
     "text": [
      "soft dice: 0.66360 | loss: 0.36847 | hard dice: 0.66374 | bce: 0.02959\n"
     ]
    },
    {
     "name": "stderr",
     "output_type": "stream",
     "text": [
      "Epoch 24: 100% 2/2 [00:08<00:00,  4.09s/it, bce=0.03139, hard dice=0.50522, loss=0.53835, soft dice=0.50389]\n"
     ]
    },
    {
     "name": "stdout",
     "output_type": "stream",
     "text": [
      "soft dice: 0.66356 | loss: 0.36808 | hard dice: 0.66374 | bce: 0.02918\n"
     ]
    },
    {
     "name": "stderr",
     "output_type": "stream",
     "text": [
      "Epoch 25: 100% 2/2 [00:08<00:00,  4.11s/it, bce=0.02340, hard dice=0.68923, loss=0.33669, soft dice=0.68792]\n"
     ]
    },
    {
     "name": "stdout",
     "output_type": "stream",
     "text": [
      "soft dice: 0.66352 | loss: 0.36774 | hard dice: 0.66374 | bce: 0.02883\n"
     ]
    },
    {
     "name": "stderr",
     "output_type": "stream",
     "text": [
      "Epoch 26: 100% 2/2 [00:08<00:00,  4.45s/it, bce=0.03552, hard dice=0.50215, loss=0.54215, soft dice=0.50131]\n"
     ]
    },
    {
     "name": "stdout",
     "output_type": "stream",
     "text": [
      "soft dice: 0.66349 | loss: 0.36756 | hard dice: 0.66374 | bce: 0.02864\n"
     ]
    },
    {
     "name": "stderr",
     "output_type": "stream",
     "text": [
      "Epoch 27: 100% 2/2 [00:08<00:00,  4.43s/it, bce=0.02938, hard dice=0.56463, loss=0.47137, soft dice=0.56365]\n"
     ]
    },
    {
     "name": "stdout",
     "output_type": "stream",
     "text": [
      "soft dice: 0.66346 | loss: 0.36740 | hard dice: 0.66374 | bce: 0.02846\n"
     ]
    },
    {
     "name": "stderr",
     "output_type": "stream",
     "text": [
      "Epoch 28: 100% 2/2 [00:08<00:00,  4.22s/it, bce=0.02772, hard dice=0.62709, loss=0.40693, soft dice=0.62531]\n"
     ]
    },
    {
     "name": "stdout",
     "output_type": "stream",
     "text": [
      "soft dice: 0.66341 | loss: 0.36718 | hard dice: 0.66374 | bce: 0.02825\n"
     ]
    },
    {
     "name": "stderr",
     "output_type": "stream",
     "text": [
      "Epoch 29: 100% 2/2 [00:09<00:00,  4.62s/it, bce=0.01766, hard dice=1.00000, loss=0.01855, soft dice=0.99954]\n"
     ]
    },
    {
     "name": "stdout",
     "output_type": "stream",
     "text": [
      "soft dice: 0.66339 | loss: 0.36706 | hard dice: 0.66374 | bce: 0.02813\n",
      "Starting cyclic lr\n"
     ]
    },
    {
     "name": "stderr",
     "output_type": "stream",
     "text": [
      "Epoch 30: 100% 2/2 [00:08<00:00,  4.41s/it, bce=0.03177, hard dice=0.50231, loss=0.75006, soft dice=0.30984]\n"
     ]
    },
    {
     "name": "stdout",
     "output_type": "stream",
     "text": [
      "soft dice: 0.66302 | loss: 0.51035 | hard dice: 0.66374 | bce: 0.02795\n"
     ]
    },
    {
     "name": "stderr",
     "output_type": "stream",
     "text": [
      "Epoch 31: 100% 2/2 [00:08<00:00,  4.12s/it, bce=0.04377, hard dice=0.81451, loss=0.25515, soft dice=0.81450]\n"
     ]
    },
    {
     "name": "stdout",
     "output_type": "stream",
     "text": [
      "soft dice: 0.66374 | loss: 0.41883 | hard dice: 0.66374 | bce: 0.04133\n"
     ]
    },
    {
     "name": "stderr",
     "output_type": "stream",
     "text": [
      "Epoch 32: 100% 2/2 [00:07<00:00,  3.92s/it, bce=0.04663, hard dice=0.87681, loss=0.22968, soft dice=0.87681]\n"
     ]
    },
    {
     "name": "stdout",
     "output_type": "stream",
     "text": [
      "soft dice: 0.66374 | loss: 0.42365 | hard dice: 0.66374 | bce: 0.04133\n"
     ]
    },
    {
     "name": "stderr",
     "output_type": "stream",
     "text": [
      "Epoch 33: 100% 2/2 [00:08<00:00,  4.26s/it, bce=0.03856, hard dice=0.75182, loss=0.33185, soft dice=0.75182]\n"
     ]
    },
    {
     "name": "stdout",
     "output_type": "stream",
     "text": [
      "soft dice: 0.66374 | loss: 0.42212 | hard dice: 0.66374 | bce: 0.04133\n"
     ]
    },
    {
     "name": "stderr",
     "output_type": "stream",
     "text": [
      "Epoch 34: 100% 2/2 [00:08<00:00,  4.18s/it, bce=0.03314, hard dice=0.75132, loss=0.31741, soft dice=0.75132]\n"
     ]
    },
    {
     "name": "stdout",
     "output_type": "stream",
     "text": [
      "soft dice: 0.66374 | loss: 0.42017 | hard dice: 0.66374 | bce: 0.04133\n"
     ]
    },
    {
     "name": "stderr",
     "output_type": "stream",
     "text": [
      "Epoch 35: 100% 2/2 [00:07<00:00,  3.92s/it, bce=0.03281, hard dice=0.81502, loss=0.23673, soft dice=0.81500]\n"
     ]
    },
    {
     "name": "stdout",
     "output_type": "stream",
     "text": [
      "soft dice: 0.66374 | loss: 0.38257 | hard dice: 0.66374 | bce: 0.04109\n"
     ]
    },
    {
     "name": "stderr",
     "output_type": "stream",
     "text": [
      "Epoch 36: 100% 2/2 [00:08<00:00,  4.20s/it, bce=0.03142, hard dice=0.62776, loss=0.41970, soft dice=0.61390]\n"
     ]
    },
    {
     "name": "stdout",
     "output_type": "stream",
     "text": [
      "soft dice: 0.66374 | loss: 0.42490 | hard dice: 0.66374 | bce: 0.04129\n"
     ]
    },
    {
     "name": "stderr",
     "output_type": "stream",
     "text": [
      "Epoch 37: 100% 2/2 [00:08<00:00,  4.24s/it, bce=0.01655, hard dice=1.00000, loss=0.01745, soft dice=1.00000]\n"
     ]
    },
    {
     "name": "stdout",
     "output_type": "stream",
     "text": [
      "soft dice: 0.66374 | loss: 0.38993 | hard dice: 0.66374 | bce: 0.03979\n"
     ]
    },
    {
     "name": "stderr",
     "output_type": "stream",
     "text": [
      "Epoch 38: 100% 2/2 [00:08<00:00,  4.07s/it, bce=0.01876, hard dice=0.81606, loss=0.20373, soft dice=0.81562]\n"
     ]
    },
    {
     "name": "stdout",
     "output_type": "stream",
     "text": [
      "soft dice: 0.66374 | loss: 0.37639 | hard dice: 0.66374 | bce: 0.03674\n"
     ]
    },
    {
     "name": "stderr",
     "output_type": "stream",
     "text": [
      "Epoch 39: 100% 2/2 [00:08<00:00,  4.10s/it, bce=0.03484, hard dice=0.75210, loss=0.28641, soft dice=0.75085]\n"
     ]
    },
    {
     "name": "stdout",
     "output_type": "stream",
     "text": [
      "soft dice: 0.66372 | loss: 0.36993 | hard dice: 0.66374 | bce: 0.03274\n"
     ]
    },
    {
     "name": "stderr",
     "output_type": "stream",
     "text": [
      "Epoch 40: 100% 2/2 [00:08<00:00,  4.04s/it, bce=0.01602, hard dice=0.81370, loss=0.26492, soft dice=0.81188]\n"
     ]
    },
    {
     "name": "stdout",
     "output_type": "stream",
     "text": [
      "soft dice: 0.66372 | loss: 0.36981 | hard dice: 0.66374 | bce: 0.03278\n"
     ]
    },
    {
     "name": "stderr",
     "output_type": "stream",
     "text": [
      "Epoch 41: 100% 2/2 [00:08<00:00,  4.34s/it, bce=0.02033, hard dice=0.81366, loss=0.27003, soft dice=0.81346]\n"
     ]
    },
    {
     "name": "stdout",
     "output_type": "stream",
     "text": [
      "soft dice: 0.66374 | loss: 0.37201 | hard dice: 0.66374 | bce: 0.03507\n"
     ]
    },
    {
     "name": "stderr",
     "output_type": "stream",
     "text": [
      "Epoch 42: 100% 2/2 [00:07<00:00,  3.95s/it, bce=0.03121, hard dice=0.62813, loss=0.40622, soft dice=0.62789]\n"
     ]
    },
    {
     "name": "stdout",
     "output_type": "stream",
     "text": [
      "soft dice: 0.66373 | loss: 0.37040 | hard dice: 0.66374 | bce: 0.03339\n"
     ]
    },
    {
     "name": "stderr",
     "output_type": "stream",
     "text": [
      "Epoch 43: 100% 2/2 [00:09<00:00,  4.60s/it, bce=0.03096, hard dice=0.44081, loss=0.59250, soft dice=0.44052]\n"
     ]
    },
    {
     "name": "stdout",
     "output_type": "stream",
     "text": [
      "soft dice: 0.66371 | loss: 0.36886 | hard dice: 0.66374 | bce: 0.03179\n"
     ]
    },
    {
     "name": "stderr",
     "output_type": "stream",
     "text": [
      "Epoch 44: 100% 2/2 [00:08<00:00,  4.36s/it, bce=0.02411, hard dice=0.62773, loss=0.39717, soft dice=0.62752]\n"
     ]
    },
    {
     "name": "stdout",
     "output_type": "stream",
     "text": [
      "soft dice: 0.66369 | loss: 0.36832 | hard dice: 0.66374 | bce: 0.03124\n"
     ]
    },
    {
     "name": "stderr",
     "output_type": "stream",
     "text": [
      "Epoch 45: 100% 2/2 [00:08<00:00,  4.05s/it, bce=0.02077, hard dice=0.75243, loss=0.30756, soft dice=0.71443]\n"
     ]
    },
    {
     "name": "stdout",
     "output_type": "stream",
     "text": [
      "soft dice: 0.66367 | loss: 0.36767 | hard dice: 0.66374 | bce: 0.03068\n"
     ]
    },
    {
     "name": "stderr",
     "output_type": "stream",
     "text": [
      "Epoch 46: 100% 2/2 [00:08<00:00,  4.27s/it, bce=0.03772, hard dice=0.62727, loss=0.41182, soft dice=0.62679]\n"
     ]
    },
    {
     "name": "stdout",
     "output_type": "stream",
     "text": [
      "soft dice: 0.66374 | loss: 0.38007 | hard dice: 0.66374 | bce: 0.04082\n"
     ]
    },
    {
     "name": "stderr",
     "output_type": "stream",
     "text": [
      "Epoch 47: 100% 2/2 [00:08<00:00,  4.05s/it, bce=0.01460, hard dice=1.00000, loss=0.01698, soft dice=1.00000]\n"
     ]
    },
    {
     "name": "stdout",
     "output_type": "stream",
     "text": [
      "soft dice: 0.66374 | loss: 0.38014 | hard dice: 0.66374 | bce: 0.04095\n"
     ]
    },
    {
     "name": "stderr",
     "output_type": "stream",
     "text": [
      "Epoch 48: 100% 2/2 [00:08<00:00,  4.10s/it, bce=0.03935, hard dice=0.62716, loss=0.41581, soft dice=0.62716]\n"
     ]
    },
    {
     "name": "stdout",
     "output_type": "stream",
     "text": [
      "soft dice: 0.66374 | loss: 0.38015 | hard dice: 0.66374 | bce: 0.04098\n"
     ]
    },
    {
     "name": "stderr",
     "output_type": "stream",
     "text": [
      "Epoch 49: 100% 2/2 [00:08<00:00,  4.17s/it, bce=0.04327, hard dice=0.56507, loss=0.48120, soft dice=0.56507]\n"
     ]
    },
    {
     "name": "stdout",
     "output_type": "stream",
     "text": [
      "soft dice: 0.66374 | loss: 0.37956 | hard dice: 0.66374 | bce: 0.04087\n"
     ]
    },
    {
     "name": "stderr",
     "output_type": "stream",
     "text": [
      "Epoch 50: 100% 2/2 [00:08<00:00,  4.31s/it, bce=0.02501, hard dice=0.81432, loss=0.27026, soft dice=0.81411]\n"
     ]
    },
    {
     "name": "stdout",
     "output_type": "stream",
     "text": [
      "soft dice: 0.66364 | loss: 0.36709 | hard dice: 0.66374 | bce: 0.03017\n"
     ]
    },
    {
     "name": "stderr",
     "output_type": "stream",
     "text": [
      "Epoch 51: 100% 2/2 [00:07<00:00,  3.94s/it, bce=0.02685, hard dice=0.62682, loss=0.40821, soft dice=0.62039]\n"
     ]
    },
    {
     "name": "stdout",
     "output_type": "stream",
     "text": [
      "soft dice: 0.66371 | loss: 0.36864 | hard dice: 0.66374 | bce: 0.03188\n"
     ]
    },
    {
     "name": "stderr",
     "output_type": "stream",
     "text": [
      "Epoch 52: 100% 2/2 [00:09<00:00,  4.62s/it, bce=0.02849, hard dice=0.62813, loss=0.40279, soft dice=0.62597]\n"
     ]
    },
    {
     "name": "stdout",
     "output_type": "stream",
     "text": [
      "soft dice: 0.66371 | loss: 0.36876 | hard dice: 0.66374 | bce: 0.03189\n"
     ]
    },
    {
     "name": "stderr",
     "output_type": "stream",
     "text": [
      "Epoch 53: 100% 2/2 [00:07<00:00,  3.95s/it, bce=0.02537, hard dice=0.81610, loss=0.21363, soft dice=0.81476]\n"
     ]
    },
    {
     "name": "stdout",
     "output_type": "stream",
     "text": [
      "soft dice: 0.66372 | loss: 0.36915 | hard dice: 0.66374 | bce: 0.03219\n"
     ]
    },
    {
     "name": "stderr",
     "output_type": "stream",
     "text": [
      "Epoch 54: 100% 2/2 [00:09<00:00,  4.62s/it, bce=0.02300, hard dice=0.87764, loss=0.20788, soft dice=0.87761]\n"
     ]
    },
    {
     "name": "stdout",
     "output_type": "stream",
     "text": [
      "soft dice: 0.66373 | loss: 0.36980 | hard dice: 0.66374 | bce: 0.03278\n"
     ]
    },
    {
     "name": "stderr",
     "output_type": "stream",
     "text": [
      "Epoch 55: 100% 2/2 [00:08<00:00,  4.21s/it, bce=0.02570, hard dice=0.81543, loss=0.21073, soft dice=0.81520]\n"
     ]
    },
    {
     "name": "stdout",
     "output_type": "stream",
     "text": [
      "soft dice: 0.66369 | loss: 0.36790 | hard dice: 0.66374 | bce: 0.03087\n"
     ]
    },
    {
     "name": "stderr",
     "output_type": "stream",
     "text": [
      "Epoch 56: 100% 2/2 [00:09<00:00,  4.56s/it, bce=0.02881, hard dice=0.75450, loss=0.34105, soft dice=0.75230]\n"
     ]
    },
    {
     "name": "stdout",
     "output_type": "stream",
     "text": [
      "soft dice: 0.66371 | loss: 0.36876 | hard dice: 0.66374 | bce: 0.03182\n"
     ]
    },
    {
     "name": "stderr",
     "output_type": "stream",
     "text": [
      "Epoch 57: 100% 2/2 [00:08<00:00,  4.14s/it, bce=0.03166, hard dice=0.62746, loss=0.40509, soft dice=0.62718]\n"
     ]
    },
    {
     "name": "stdout",
     "output_type": "stream",
     "text": [
      "soft dice: 0.66370 | loss: 0.36821 | hard dice: 0.66374 | bce: 0.03126\n"
     ]
    },
    {
     "name": "stderr",
     "output_type": "stream",
     "text": [
      "Epoch 58: 100% 2/2 [00:08<00:00,  4.13s/it, bce=0.02717, hard dice=0.75262, loss=0.33773, soft dice=0.75075]\n"
     ]
    },
    {
     "name": "stdout",
     "output_type": "stream",
     "text": [
      "soft dice: 0.66367 | loss: 0.36718 | hard dice: 0.66374 | bce: 0.03019\n"
     ]
    },
    {
     "name": "stderr",
     "output_type": "stream",
     "text": [
      "Epoch 59: 100% 2/2 [00:08<00:00,  4.29s/it, bce=0.04944, hard dice=0.56787, loss=0.48641, soft dice=0.56753]\n"
     ]
    },
    {
     "name": "stdout",
     "output_type": "stream",
     "text": [
      "soft dice: 0.66366 | loss: 0.36709 | hard dice: 0.66374 | bce: 0.03009\n"
     ]
    },
    {
     "name": "stderr",
     "output_type": "stream",
     "text": [
      "Epoch 60: 100% 2/2 [00:08<00:00,  4.30s/it, bce=0.02718, hard dice=0.56893, loss=0.47610, soft dice=0.55470]\n"
     ]
    },
    {
     "name": "stdout",
     "output_type": "stream",
     "text": [
      "soft dice: 0.66366 | loss: 0.36704 | hard dice: 0.66374 | bce: 0.03025\n"
     ]
    },
    {
     "name": "stderr",
     "output_type": "stream",
     "text": [
      "Epoch 61: 100% 2/2 [00:07<00:00,  3.95s/it, bce=0.02504, hard dice=0.68999, loss=0.33674, soft dice=0.68891]\n"
     ]
    },
    {
     "name": "stdout",
     "output_type": "stream",
     "text": [
      "soft dice: 0.66374 | loss: 0.38344 | hard dice: 0.66374 | bce: 0.04130\n"
     ]
    },
    {
     "name": "stderr",
     "output_type": "stream",
     "text": [
      "Epoch 62: 100% 2/2 [00:09<00:00,  4.55s/it, bce=0.02902, hard dice=0.75195, loss=0.28041, soft dice=0.75195]\n"
     ]
    },
    {
     "name": "stdout",
     "output_type": "stream",
     "text": [
      "soft dice: 0.66374 | loss: 0.38374 | hard dice: 0.66374 | bce: 0.04130\n"
     ]
    },
    {
     "name": "stderr",
     "output_type": "stream",
     "text": [
      "Epoch 63: 100% 2/2 [00:08<00:00,  4.42s/it, bce=0.03826, hard dice=0.68996, loss=0.35950, soft dice=0.68996]\n"
     ]
    },
    {
     "name": "stdout",
     "output_type": "stream",
     "text": [
      "soft dice: 0.66374 | loss: 0.38353 | hard dice: 0.66374 | bce: 0.04130\n"
     ]
    },
    {
     "name": "stderr",
     "output_type": "stream",
     "text": [
      "Epoch 64: 100% 2/2 [00:08<00:00,  4.44s/it, bce=0.04649, hard dice=0.68901, loss=0.36536, soft dice=0.68901]\n"
     ]
    },
    {
     "name": "stdout",
     "output_type": "stream",
     "text": [
      "soft dice: 0.66374 | loss: 0.38445 | hard dice: 0.66374 | bce: 0.04132\n"
     ]
    },
    {
     "name": "stderr",
     "output_type": "stream",
     "text": [
      "Epoch 65: 100% 2/2 [00:08<00:00,  4.31s/it, bce=0.05506, hard dice=0.62679, loss=0.43679, soft dice=0.62675]\n"
     ]
    },
    {
     "name": "stdout",
     "output_type": "stream",
     "text": [
      "soft dice: 0.66358 | loss: 0.36656 | hard dice: 0.66374 | bce: 0.02954\n"
     ]
    },
    {
     "name": "stderr",
     "output_type": "stream",
     "text": [
      "Epoch 66: 100% 2/2 [00:08<00:00,  4.26s/it, bce=0.03953, hard dice=0.68907, loss=0.35540, soft dice=0.68536]\n"
     ]
    },
    {
     "name": "stdout",
     "output_type": "stream",
     "text": [
      "soft dice: 0.66374 | loss: 0.37284 | hard dice: 0.66374 | bce: 0.03573\n"
     ]
    },
    {
     "name": "stderr",
     "output_type": "stream",
     "text": [
      "Epoch 67: 100% 2/2 [00:07<00:00,  3.85s/it, bce=0.03799, hard dice=0.62645, loss=0.46342, soft dice=0.62643]\n"
     ]
    },
    {
     "name": "stdout",
     "output_type": "stream",
     "text": [
      "soft dice: 0.66374 | loss: 0.37278 | hard dice: 0.66374 | bce: 0.03552\n"
     ]
    },
    {
     "name": "stderr",
     "output_type": "stream",
     "text": [
      "Epoch 68: 100% 2/2 [00:08<00:00,  4.38s/it, bce=0.01998, hard dice=0.81462, loss=0.26872, soft dice=0.81457]\n"
     ]
    },
    {
     "name": "stdout",
     "output_type": "stream",
     "text": [
      "soft dice: 0.66374 | loss: 0.37194 | hard dice: 0.66374 | bce: 0.03459\n"
     ]
    },
    {
     "name": "stderr",
     "output_type": "stream",
     "text": [
      "Epoch 69: 100% 2/2 [00:07<00:00,  3.93s/it, bce=0.03197, hard dice=0.56440, loss=0.46916, soft dice=0.56427]\n"
     ]
    },
    {
     "name": "stdout",
     "output_type": "stream",
     "text": [
      "soft dice: 0.66373 | loss: 0.37132 | hard dice: 0.66374 | bce: 0.03389\n"
     ]
    },
    {
     "name": "stderr",
     "output_type": "stream",
     "text": [
      "Epoch 70: 100% 2/2 [00:08<00:00,  4.40s/it, bce=0.02003, hard dice=0.69143, loss=0.33229, soft dice=0.69085]\n"
     ]
    },
    {
     "name": "stdout",
     "output_type": "stream",
     "text": [
      "soft dice: 0.66342 | loss: 0.36613 | hard dice: 0.66374 | bce: 0.02840\n"
     ]
    },
    {
     "name": "stderr",
     "output_type": "stream",
     "text": [
      "Epoch 71: 100% 2/2 [00:08<00:00,  4.38s/it, bce=0.01653, hard dice=0.69236, loss=0.32854, soft dice=0.68889]\n"
     ]
    },
    {
     "name": "stdout",
     "output_type": "stream",
     "text": [
      "soft dice: 0.66360 | loss: 0.36708 | hard dice: 0.66374 | bce: 0.02965\n"
     ]
    },
    {
     "name": "stderr",
     "output_type": "stream",
     "text": [
      "Epoch 72: 100% 2/2 [00:08<00:00,  4.07s/it, bce=0.02257, hard dice=0.62696, loss=0.40143, soft dice=0.62283]\n"
     ]
    },
    {
     "name": "stdout",
     "output_type": "stream",
     "text": [
      "soft dice: 0.66360 | loss: 0.36695 | hard dice: 0.66374 | bce: 0.02959\n"
     ]
    },
    {
     "name": "stderr",
     "output_type": "stream",
     "text": [
      "Epoch 73: 100% 2/2 [00:08<00:00,  4.29s/it, bce=0.01323, hard dice=0.87648, loss=0.13733, soft dice=0.87634]\n"
     ]
    },
    {
     "name": "stdout",
     "output_type": "stream",
     "text": [
      "soft dice: 0.66362 | loss: 0.36716 | hard dice: 0.66374 | bce: 0.02988\n"
     ]
    },
    {
     "name": "stderr",
     "output_type": "stream",
     "text": [
      "Epoch 74: 100% 2/2 [00:07<00:00,  3.96s/it, bce=0.02874, hard dice=0.62658, loss=0.40333, soft dice=0.62587]\n"
     ]
    },
    {
     "name": "stdout",
     "output_type": "stream",
     "text": [
      "soft dice: 0.66363 | loss: 0.36723 | hard dice: 0.66374 | bce: 0.02997\n"
     ]
    },
    {
     "name": "stderr",
     "output_type": "stream",
     "text": [
      "Epoch 75: 100% 2/2 [00:08<00:00,  4.12s/it, bce=0.02999, hard dice=0.81333, loss=0.21861, soft dice=0.81313]\n"
     ]
    },
    {
     "name": "stdout",
     "output_type": "stream",
     "text": [
      "soft dice: 0.66360 | loss: 0.36665 | hard dice: 0.66374 | bce: 0.02954\n"
     ]
    },
    {
     "name": "stderr",
     "output_type": "stream",
     "text": [
      "Epoch 76: 100% 2/2 [00:08<00:00,  4.37s/it, bce=0.02207, hard dice=0.81479, loss=0.24348, soft dice=0.77961]\n"
     ]
    },
    {
     "name": "stdout",
     "output_type": "stream",
     "text": [
      "soft dice: 0.66373 | loss: 0.37036 | hard dice: 0.66374 | bce: 0.03346\n"
     ]
    },
    {
     "name": "stderr",
     "output_type": "stream",
     "text": [
      "Epoch 77: 100% 2/2 [00:07<00:00,  3.96s/it, bce=0.02310, hard dice=0.68998, loss=0.33356, soft dice=0.68927]\n"
     ]
    },
    {
     "name": "stdout",
     "output_type": "stream",
     "text": [
      "soft dice: 0.66373 | loss: 0.37025 | hard dice: 0.66374 | bce: 0.03338\n"
     ]
    },
    {
     "name": "stderr",
     "output_type": "stream",
     "text": [
      "Epoch 78: 100% 2/2 [00:09<00:00,  4.70s/it, bce=0.02906, hard dice=0.87648, loss=0.15235, soft dice=0.87639]\n"
     ]
    },
    {
     "name": "stdout",
     "output_type": "stream",
     "text": [
      "soft dice: 0.66373 | loss: 0.37003 | hard dice: 0.66374 | bce: 0.03318\n"
     ]
    },
    {
     "name": "stderr",
     "output_type": "stream",
     "text": [
      "Epoch 79: 100% 2/2 [00:08<00:00,  4.32s/it, bce=0.04163, hard dice=0.62713, loss=0.41587, soft dice=0.62711]\n"
     ]
    },
    {
     "name": "stdout",
     "output_type": "stream",
     "text": [
      "soft dice: 0.66373 | loss: 0.37075 | hard dice: 0.66374 | bce: 0.03392\n"
     ]
    },
    {
     "name": "stderr",
     "output_type": "stream",
     "text": [
      "Epoch 80: 100% 2/2 [00:08<00:00,  4.29s/it, bce=0.03578, hard dice=0.56488, loss=0.47221, soft dice=0.56435]\n"
     ]
    },
    {
     "name": "stdout",
     "output_type": "stream",
     "text": [
      "soft dice: 0.66358 | loss: 0.36619 | hard dice: 0.66374 | bce: 0.02926\n"
     ]
    },
    {
     "name": "stderr",
     "output_type": "stream",
     "text": [
      "Epoch 81: 100% 2/2 [00:08<00:00,  4.42s/it, bce=0.02260, hard dice=1.00000, loss=0.02337, soft dice=0.99979]\n"
     ]
    },
    {
     "name": "stdout",
     "output_type": "stream",
     "text": [
      "soft dice: 0.66370 | loss: 0.36814 | hard dice: 0.66374 | bce: 0.03138\n"
     ]
    },
    {
     "name": "stderr",
     "output_type": "stream",
     "text": [
      "Epoch 82: 100% 2/2 [00:08<00:00,  4.43s/it, bce=0.02513, hard dice=0.81620, loss=0.21007, soft dice=0.81575]\n"
     ]
    },
    {
     "name": "stdout",
     "output_type": "stream",
     "text": [
      "soft dice: 0.66370 | loss: 0.36832 | hard dice: 0.66374 | bce: 0.03158\n"
     ]
    },
    {
     "name": "stderr",
     "output_type": "stream",
     "text": [
      "Epoch 83: 100% 2/2 [00:08<00:00,  4.03s/it, bce=0.01929, hard dice=0.81443, loss=0.20660, soft dice=0.81241]\n"
     ]
    },
    {
     "name": "stdout",
     "output_type": "stream",
     "text": [
      "soft dice: 0.66369 | loss: 0.36791 | hard dice: 0.66374 | bce: 0.03116\n"
     ]
    },
    {
     "name": "stderr",
     "output_type": "stream",
     "text": [
      "Epoch 84: 100% 2/2 [00:08<00:00,  4.20s/it, bce=0.02604, hard dice=0.93871, loss=0.08786, soft dice=0.93855]\n"
     ]
    },
    {
     "name": "stdout",
     "output_type": "stream",
     "text": [
      "soft dice: 0.66368 | loss: 0.36771 | hard dice: 0.66374 | bce: 0.03094\n"
     ]
    },
    {
     "name": "stderr",
     "output_type": "stream",
     "text": [
      "Epoch 85: 100% 2/2 [00:09<00:00,  4.55s/it, bce=0.02604, hard dice=0.87609, loss=0.15127, soft dice=0.87463]\n"
     ]
    },
    {
     "name": "stdout",
     "output_type": "stream",
     "text": [
      "soft dice: 0.66373 | loss: 0.37093 | hard dice: 0.66374 | bce: 0.03419\n"
     ]
    },
    {
     "name": "stderr",
     "output_type": "stream",
     "text": [
      "Epoch 86: 100% 2/2 [00:08<00:00,  4.17s/it, bce=0.03063, hard dice=0.81419, loss=0.21682, soft dice=0.81409]\n"
     ]
    },
    {
     "name": "stdout",
     "output_type": "stream",
     "text": [
      "soft dice: 0.66372 | loss: 0.36890 | hard dice: 0.66374 | bce: 0.03212\n"
     ]
    },
    {
     "name": "stderr",
     "output_type": "stream",
     "text": [
      "Epoch 87: 100% 2/2 [00:08<00:00,  4.25s/it, bce=0.03823, hard dice=0.81316, loss=0.22662, soft dice=0.81271]\n"
     ]
    },
    {
     "name": "stdout",
     "output_type": "stream",
     "text": [
      "soft dice: 0.66369 | loss: 0.36758 | hard dice: 0.66374 | bce: 0.03074\n"
     ]
    },
    {
     "name": "stderr",
     "output_type": "stream",
     "text": [
      "Epoch 88: 100% 2/2 [00:08<00:00,  4.01s/it, bce=0.02716, hard dice=0.69129, loss=0.33727, soft dice=0.69115]\n"
     ]
    },
    {
     "name": "stdout",
     "output_type": "stream",
     "text": [
      "soft dice: 0.66364 | loss: 0.36666 | hard dice: 0.66374 | bce: 0.02977\n"
     ]
    },
    {
     "name": "stderr",
     "output_type": "stream",
     "text": [
      "Epoch 89: 100% 2/2 [00:08<00:00,  4.08s/it, bce=0.02318, hard dice=1.00000, loss=0.02414, soft dice=0.99952]\n"
     ]
    },
    {
     "name": "stdout",
     "output_type": "stream",
     "text": [
      "soft dice: 0.66362 | loss: 0.36638 | hard dice: 0.66374 | bce: 0.02947\n"
     ]
    },
    {
     "name": "stderr",
     "output_type": "stream",
     "text": [
      "Epoch 90: 100% 2/2 [00:08<00:00,  4.07s/it, bce=0.01565, hard dice=0.93827, loss=0.07909, soft dice=0.93714]\n"
     ]
    },
    {
     "name": "stdout",
     "output_type": "stream",
     "text": [
      "soft dice: 0.66365 | loss: 0.36660 | hard dice: 0.66374 | bce: 0.02976\n"
     ]
    },
    {
     "name": "stderr",
     "output_type": "stream",
     "text": [
      "Epoch 91: 100% 2/2 [00:08<00:00,  4.20s/it, bce=0.02393, hard dice=0.87719, loss=0.14754, soft dice=0.87626]\n"
     ]
    },
    {
     "name": "stdout",
     "output_type": "stream",
     "text": [
      "soft dice: 0.66373 | loss: 0.36925 | hard dice: 0.66374 | bce: 0.03254\n"
     ]
    },
    {
     "name": "stderr",
     "output_type": "stream",
     "text": [
      "Epoch 92: 100% 2/2 [00:08<00:00,  4.08s/it, bce=0.03920, hard dice=0.93793, loss=0.10170, soft dice=0.93783]\n"
     ]
    },
    {
     "name": "stdout",
     "output_type": "stream",
     "text": [
      "soft dice: 0.66372 | loss: 0.36850 | hard dice: 0.66374 | bce: 0.03178\n"
     ]
    },
    {
     "name": "stderr",
     "output_type": "stream",
     "text": [
      "Epoch 93: 100% 2/2 [00:08<00:00,  4.39s/it, bce=0.02077, hard dice=0.93819, loss=0.08319, soft dice=0.93806]\n"
     ]
    },
    {
     "name": "stdout",
     "output_type": "stream",
     "text": [
      "soft dice: 0.66370 | loss: 0.36747 | hard dice: 0.66374 | bce: 0.03074\n"
     ]
    },
    {
     "name": "stderr",
     "output_type": "stream",
     "text": [
      "Epoch 94: 100% 2/2 [00:08<00:00,  4.22s/it, bce=0.02950, hard dice=1.00000, loss=0.02974, soft dice=1.00000]\n"
     ]
    },
    {
     "name": "stdout",
     "output_type": "stream",
     "text": [
      "soft dice: 0.66369 | loss: 0.36733 | hard dice: 0.66374 | bce: 0.03060\n"
     ]
    },
    {
     "name": "stderr",
     "output_type": "stream",
     "text": [
      "Epoch 95: 100% 2/2 [00:07<00:00,  3.95s/it, bce=0.02550, hard dice=0.50207, loss=0.52465, soft dice=0.50157]\n"
     ]
    },
    {
     "name": "stdout",
     "output_type": "stream",
     "text": [
      "soft dice: 0.66174 | loss: 0.36395 | hard dice: 0.66374 | bce: 0.02524\n"
     ]
    },
    {
     "name": "stderr",
     "output_type": "stream",
     "text": [
      "Epoch 96: 100% 2/2 [00:08<00:00,  4.14s/it, bce=0.02400, hard dice=0.81507, loss=0.22009, soft dice=0.80440]\n"
     ]
    },
    {
     "name": "stdout",
     "output_type": "stream",
     "text": [
      "soft dice: 0.66374 | loss: 0.37686 | hard dice: 0.66374 | bce: 0.03961\n"
     ]
    },
    {
     "name": "stderr",
     "output_type": "stream",
     "text": [
      "Epoch 97: 100% 2/2 [00:08<00:00,  4.44s/it, bce=0.02448, hard dice=0.93936, loss=0.08640, soft dice=0.93936]\n"
     ]
    },
    {
     "name": "stdout",
     "output_type": "stream",
     "text": [
      "soft dice: 0.66374 | loss: 0.37817 | hard dice: 0.66374 | bce: 0.04034\n"
     ]
    },
    {
     "name": "stderr",
     "output_type": "stream",
     "text": [
      "Epoch 98: 100% 2/2 [00:08<00:00,  4.20s/it, bce=0.03878, hard dice=0.75148, loss=0.29052, soft dice=0.75148]\n"
     ]
    },
    {
     "name": "stdout",
     "output_type": "stream",
     "text": [
      "soft dice: 0.66374 | loss: 0.37843 | hard dice: 0.66374 | bce: 0.04042\n"
     ]
    },
    {
     "name": "stderr",
     "output_type": "stream",
     "text": [
      "Epoch 99: 100% 2/2 [00:08<00:00,  4.30s/it, bce=0.04168, hard dice=0.50803, loss=0.54147, soft dice=0.50803]\n"
     ]
    },
    {
     "name": "stdout",
     "output_type": "stream",
     "text": [
      "soft dice: 0.66374 | loss: 0.37866 | hard dice: 0.66374 | bce: 0.04048\n"
     ]
    },
    {
     "name": "stderr",
     "output_type": "stream",
     "text": [
      "Epoch 100: 100% 2/2 [00:08<00:00,  4.28s/it, bce=0.02436, hard dice=0.87626, loss=0.14906, soft dice=0.87626]\n"
     ]
    },
    {
     "name": "stdout",
     "output_type": "stream",
     "text": [
      "soft dice: 0.66365 | loss: 0.36644 | hard dice: 0.66374 | bce: 0.02968\n"
     ]
    },
    {
     "name": "stderr",
     "output_type": "stream",
     "text": [
      "Epoch 101: 100% 2/2 [00:08<00:00,  4.01s/it, bce=0.02513, hard dice=0.87620, loss=0.21162, soft dice=0.81474]\n"
     ]
    },
    {
     "name": "stdout",
     "output_type": "stream",
     "text": [
      "soft dice: 0.66355 | loss: 0.36534 | hard dice: 0.66374 | bce: 0.02849\n"
     ]
    },
    {
     "name": "stderr",
     "output_type": "stream",
     "text": [
      "Epoch 102: 100% 2/2 [00:08<00:00,  4.47s/it, bce=0.03358, hard dice=0.37853, loss=0.65931, soft dice=0.37621]\n"
     ]
    },
    {
     "name": "stdout",
     "output_type": "stream",
     "text": [
      "soft dice: 0.66361 | loss: 0.36581 | hard dice: 0.66374 | bce: 0.02902\n"
     ]
    },
    {
     "name": "stderr",
     "output_type": "stream",
     "text": [
      "Epoch 103: 100% 2/2 [00:08<00:00,  4.11s/it, bce=0.02117, hard dice=0.68996, loss=0.33363, soft dice=0.68813]\n"
     ]
    },
    {
     "name": "stdout",
     "output_type": "stream",
     "text": [
      "soft dice: 0.66364 | loss: 0.36629 | hard dice: 0.66374 | bce: 0.02954\n"
     ]
    },
    {
     "name": "stderr",
     "output_type": "stream",
     "text": [
      "Epoch 104: 100% 2/2 [00:08<00:00,  4.04s/it, bce=0.02597, hard dice=0.87678, loss=0.15129, soft dice=0.87533]\n"
     ]
    },
    {
     "name": "stdout",
     "output_type": "stream",
     "text": [
      "soft dice: 0.66362 | loss: 0.36607 | hard dice: 0.66374 | bce: 0.02931\n"
     ]
    },
    {
     "name": "stderr",
     "output_type": "stream",
     "text": [
      "Epoch 105: 100% 2/2 [00:09<00:00,  4.71s/it, bce=0.01705, hard dice=0.87647, loss=0.20214, soft dice=0.87639]\n"
     ]
    },
    {
     "name": "stdout",
     "output_type": "stream",
     "text": [
      "soft dice: 0.66373 | loss: 0.36970 | hard dice: 0.66374 | bce: 0.03305\n"
     ]
    },
    {
     "name": "stderr",
     "output_type": "stream",
     "text": [
      "Epoch 106: 100% 2/2 [00:08<00:00,  4.28s/it, bce=0.03138, hard dice=0.68918, loss=0.34321, soft dice=0.68901]\n"
     ]
    },
    {
     "name": "stdout",
     "output_type": "stream",
     "text": [
      "soft dice: 0.66370 | loss: 0.36783 | hard dice: 0.66374 | bce: 0.03113\n"
     ]
    },
    {
     "name": "stderr",
     "output_type": "stream",
     "text": [
      "Epoch 107: 100% 2/2 [00:08<00:00,  4.06s/it, bce=0.03565, hard dice=0.56600, loss=0.52158, soft dice=0.56561]\n"
     ]
    },
    {
     "name": "stdout",
     "output_type": "stream",
     "text": [
      "soft dice: 0.66367 | loss: 0.36678 | hard dice: 0.66374 | bce: 0.03005\n"
     ]
    },
    {
     "name": "stderr",
     "output_type": "stream",
     "text": [
      "Epoch 108: 100% 2/2 [00:08<00:00,  4.30s/it, bce=0.01444, hard dice=1.00000, loss=0.01511, soft dice=1.00000]\n"
     ]
    },
    {
     "name": "stdout",
     "output_type": "stream",
     "text": [
      "soft dice: 0.66360 | loss: 0.36592 | hard dice: 0.66374 | bce: 0.02910\n"
     ]
    },
    {
     "name": "stderr",
     "output_type": "stream",
     "text": [
      "Epoch 109: 100% 2/2 [00:08<00:00,  4.31s/it, bce=0.02339, hard dice=0.87659, loss=0.14818, soft dice=0.87494]\n"
     ]
    },
    {
     "name": "stdout",
     "output_type": "stream",
     "text": [
      "soft dice: 0.66356 | loss: 0.36553 | hard dice: 0.66374 | bce: 0.02866\n"
     ]
    },
    {
     "name": "stderr",
     "output_type": "stream",
     "text": [
      "Epoch 110: 100% 2/2 [00:08<00:00,  4.05s/it, bce=0.02764, hard dice=0.50280, loss=0.52798, soft dice=0.50044]\n"
     ]
    },
    {
     "name": "stdout",
     "output_type": "stream",
     "text": [
      "soft dice: 0.66311 | loss: 0.36413 | hard dice: 0.66374 | bce: 0.02683\n"
     ]
    },
    {
     "name": "stderr",
     "output_type": "stream",
     "text": [
      "Epoch 111: 100% 2/2 [00:07<00:00,  3.93s/it, bce=0.01718, hard dice=0.93920, loss=0.08176, soft dice=0.93655]\n"
     ]
    },
    {
     "name": "stdout",
     "output_type": "stream",
     "text": [
      "soft dice: 0.66374 | loss: 0.37315 | hard dice: 0.66374 | bce: 0.03647\n"
     ]
    },
    {
     "name": "stderr",
     "output_type": "stream",
     "text": [
      "Epoch 112: 100% 2/2 [00:08<00:00,  4.04s/it, bce=0.03138, hard dice=0.69014, loss=0.34135, soft dice=0.69012]\n"
     ]
    },
    {
     "name": "stdout",
     "output_type": "stream",
     "text": [
      "soft dice: 0.66374 | loss: 0.37316 | hard dice: 0.66374 | bce: 0.03648\n"
     ]
    },
    {
     "name": "stderr",
     "output_type": "stream",
     "text": [
      "Epoch 113: 100% 2/2 [00:09<00:00,  4.61s/it, bce=0.02757, hard dice=0.62782, loss=0.40144, soft dice=0.62781]\n"
     ]
    },
    {
     "name": "stdout",
     "output_type": "stream",
     "text": [
      "soft dice: 0.66374 | loss: 0.37246 | hard dice: 0.66374 | bce: 0.03582\n"
     ]
    },
    {
     "name": "stderr",
     "output_type": "stream",
     "text": [
      "Epoch 114: 100% 2/2 [00:08<00:00,  4.11s/it, bce=0.03158, hard dice=0.81369, loss=0.21850, soft dice=0.81368]\n"
     ]
    },
    {
     "name": "stdout",
     "output_type": "stream",
     "text": [
      "soft dice: 0.66374 | loss: 0.37212 | hard dice: 0.66374 | bce: 0.03548\n"
     ]
    },
    {
     "name": "stderr",
     "output_type": "stream",
     "text": [
      "Epoch 115: 100% 2/2 [00:08<00:00,  4.24s/it, bce=0.03495, hard dice=0.68837, loss=0.35120, soft dice=0.68448]\n"
     ]
    },
    {
     "name": "stdout",
     "output_type": "stream",
     "text": [
      "soft dice: 0.66284 | loss: 0.36414 | hard dice: 0.66374 | bce: 0.02655\n"
     ]
    },
    {
     "name": "stderr",
     "output_type": "stream",
     "text": [
      "Epoch 116: 100% 2/2 [00:07<00:00,  4.00s/it, bce=0.02462, hard dice=0.56444, loss=0.46368, soft dice=0.56152]\n"
     ]
    },
    {
     "name": "stdout",
     "output_type": "stream",
     "text": [
      "soft dice: 0.66366 | loss: 0.36681 | hard dice: 0.66374 | bce: 0.03016\n"
     ]
    },
    {
     "name": "stderr",
     "output_type": "stream",
     "text": [
      "Epoch 117: 100% 2/2 [00:08<00:00,  4.37s/it, bce=0.03280, hard dice=0.50302, loss=0.52982, soft dice=0.50241]\n"
     ]
    },
    {
     "name": "stdout",
     "output_type": "stream",
     "text": [
      "soft dice: 0.66365 | loss: 0.36658 | hard dice: 0.66374 | bce: 0.02991\n"
     ]
    },
    {
     "name": "stderr",
     "output_type": "stream",
     "text": [
      "Epoch 118: 100% 2/2 [00:08<00:00,  4.18s/it, bce=0.01808, hard dice=0.75243, loss=0.26611, soft dice=0.75204]\n"
     ]
    },
    {
     "name": "stdout",
     "output_type": "stream",
     "text": [
      "soft dice: 0.66362 | loss: 0.36623 | hard dice: 0.66374 | bce: 0.02953\n"
     ]
    },
    {
     "name": "stderr",
     "output_type": "stream",
     "text": [
      "Epoch 119: 100% 2/2 [00:08<00:00,  4.44s/it, bce=0.03396, hard dice=0.56460, loss=0.53118, soft dice=0.56425]\n"
     ]
    },
    {
     "name": "stdout",
     "output_type": "stream",
     "text": [
      "soft dice: 0.66362 | loss: 0.36613 | hard dice: 0.66374 | bce: 0.02942\n"
     ]
    },
    {
     "name": "stderr",
     "output_type": "stream",
     "text": [
      "Epoch 120: 100% 2/2 [00:08<00:00,  4.30s/it, bce=0.02311, hard dice=0.81345, loss=0.21506, soft dice=0.80816]\n"
     ]
    },
    {
     "name": "stdout",
     "output_type": "stream",
     "text": [
      "soft dice: 0.66218 | loss: 0.36359 | hard dice: 0.66374 | bce: 0.02537\n"
     ]
    },
    {
     "name": "stderr",
     "output_type": "stream",
     "text": [
      "Epoch 121: 100% 2/2 [00:08<00:00,  4.15s/it, bce=0.01577, hard dice=0.87592, loss=0.14442, soft dice=0.87145]\n"
     ]
    },
    {
     "name": "stdout",
     "output_type": "stream",
     "text": [
      "soft dice: 0.66374 | loss: 0.37202 | hard dice: 0.66374 | bce: 0.03536\n"
     ]
    },
    {
     "name": "stderr",
     "output_type": "stream",
     "text": [
      "Epoch 122: 100% 2/2 [00:09<00:00,  4.67s/it, bce=0.03269, hard dice=0.50474, loss=0.52791, soft dice=0.50474]\n"
     ]
    },
    {
     "name": "stdout",
     "output_type": "stream",
     "text": [
      "soft dice: 0.66374 | loss: 0.37208 | hard dice: 0.66374 | bce: 0.03540\n"
     ]
    },
    {
     "name": "stderr",
     "output_type": "stream",
     "text": [
      "Epoch 123: 100% 2/2 [00:08<00:00,  4.41s/it, bce=0.02955, hard dice=0.62828, loss=0.40237, soft dice=0.62826]\n"
     ]
    },
    {
     "name": "stdout",
     "output_type": "stream",
     "text": [
      "soft dice: 0.66374 | loss: 0.37143 | hard dice: 0.66374 | bce: 0.03473\n"
     ]
    },
    {
     "name": "stderr",
     "output_type": "stream",
     "text": [
      "Epoch 124: 100% 2/2 [00:08<00:00,  4.12s/it, bce=0.02389, hard dice=0.69041, loss=0.39634, soft dice=0.69039]\n"
     ]
    },
    {
     "name": "stdout",
     "output_type": "stream",
     "text": [
      "soft dice: 0.66374 | loss: 0.37116 | hard dice: 0.66374 | bce: 0.03445\n"
     ]
    },
    {
     "name": "stderr",
     "output_type": "stream",
     "text": [
      "Epoch 125: 100% 2/2 [00:08<00:00,  4.24s/it, bce=0.02793, hard dice=0.75224, loss=0.27686, soft dice=0.75128]\n"
     ]
    },
    {
     "name": "stdout",
     "output_type": "stream",
     "text": [
      "soft dice: 0.66237 | loss: 0.36271 | hard dice: 0.66374 | bce: 0.02468\n"
     ]
    },
    {
     "name": "stderr",
     "output_type": "stream",
     "text": [
      "Epoch 126: 100% 2/2 [00:08<00:00,  4.38s/it, bce=0.02709, hard dice=0.68907, loss=0.33915, soft dice=0.68871]\n"
     ]
    },
    {
     "name": "stdout",
     "output_type": "stream",
     "text": [
      "soft dice: 0.66374 | loss: 0.37054 | hard dice: 0.66374 | bce: 0.03401\n"
     ]
    },
    {
     "name": "stderr",
     "output_type": "stream",
     "text": [
      "Epoch 127: 100% 2/2 [00:09<00:00,  4.61s/it, bce=0.03337, hard dice=0.62979, loss=0.40538, soft dice=0.62975]\n"
     ]
    },
    {
     "name": "stdout",
     "output_type": "stream",
     "text": [
      "soft dice: 0.66374 | loss: 0.37226 | hard dice: 0.66374 | bce: 0.03573\n"
     ]
    },
    {
     "name": "stderr",
     "output_type": "stream",
     "text": [
      "Epoch 128: 100% 2/2 [00:08<00:00,  4.13s/it, bce=0.03067, hard dice=0.75195, loss=0.27865, soft dice=0.75191]\n"
     ]
    },
    {
     "name": "stdout",
     "output_type": "stream",
     "text": [
      "soft dice: 0.66374 | loss: 0.37212 | hard dice: 0.66374 | bce: 0.03560\n"
     ]
    },
    {
     "name": "stderr",
     "output_type": "stream",
     "text": [
      "Epoch 129: 100% 2/2 [00:08<00:00,  4.37s/it, bce=0.03008, hard dice=0.75142, loss=0.27861, soft dice=0.75136]\n"
     ]
    },
    {
     "name": "stdout",
     "output_type": "stream",
     "text": [
      "soft dice: 0.66374 | loss: 0.37164 | hard dice: 0.66374 | bce: 0.03513\n"
     ]
    },
    {
     "name": "stderr",
     "output_type": "stream",
     "text": [
      "Epoch 130: 100% 2/2 [00:07<00:00,  3.86s/it, bce=0.02366, hard dice=0.87602, loss=0.14849, soft dice=0.87577]\n"
     ]
    },
    {
     "name": "stdout",
     "output_type": "stream",
     "text": [
      "soft dice: 0.66325 | loss: 0.36456 | hard dice: 0.66374 | bce: 0.02746\n"
     ]
    },
    {
     "name": "stderr",
     "output_type": "stream",
     "text": [
      "Epoch 131: 100% 2/2 [00:08<00:00,  4.45s/it, bce=0.03125, hard dice=0.68888, loss=0.34664, soft dice=0.68460]\n"
     ]
    },
    {
     "name": "stdout",
     "output_type": "stream",
     "text": [
      "soft dice: 0.66369 | loss: 0.36766 | hard dice: 0.66374 | bce: 0.03101\n"
     ]
    },
    {
     "name": "stderr",
     "output_type": "stream",
     "text": [
      "Epoch 132: 100% 2/2 [00:08<00:00,  4.15s/it, bce=0.05487, hard dice=0.68952, loss=0.36613, soft dice=0.68905]\n"
     ]
    },
    {
     "name": "stdout",
     "output_type": "stream",
     "text": [
      "soft dice: 0.66367 | loss: 0.36715 | hard dice: 0.66374 | bce: 0.03046\n"
     ]
    },
    {
     "name": "stderr",
     "output_type": "stream",
     "text": [
      "Epoch 133: 100% 2/2 [00:08<00:00,  4.29s/it, bce=0.03159, hard dice=0.56473, loss=0.46836, soft dice=0.56404]\n"
     ]
    },
    {
     "name": "stdout",
     "output_type": "stream",
     "text": [
      "soft dice: 0.66361 | loss: 0.36620 | hard dice: 0.66374 | bce: 0.02943\n"
     ]
    },
    {
     "name": "stderr",
     "output_type": "stream",
     "text": [
      "Epoch 134: 100% 2/2 [00:07<00:00,  3.99s/it, bce=0.02541, hard dice=1.00000, loss=0.02592, soft dice=0.99975]\n"
     ]
    },
    {
     "name": "stdout",
     "output_type": "stream",
     "text": [
      "soft dice: 0.66356 | loss: 0.36582 | hard dice: 0.66374 | bce: 0.02900\n"
     ]
    },
    {
     "name": "stderr",
     "output_type": "stream",
     "text": [
      "Epoch 135: 100% 2/2 [00:08<00:00,  4.22s/it, bce=0.02250, hard dice=0.76748, loss=0.27350, soft dice=0.76510]\n"
     ]
    },
    {
     "name": "stdout",
     "output_type": "stream",
     "text": [
      "soft dice: 0.66365 | loss: 0.36653 | hard dice: 0.66374 | bce: 0.02985\n"
     ]
    },
    {
     "name": "stderr",
     "output_type": "stream",
     "text": [
      "Epoch 136: 100% 2/2 [00:08<00:00,  4.10s/it, bce=0.02099, hard dice=0.81468, loss=0.25169, soft dice=0.81393]\n"
     ]
    },
    {
     "name": "stdout",
     "output_type": "stream",
     "text": [
      "soft dice: 0.66372 | loss: 0.36877 | hard dice: 0.66374 | bce: 0.03222\n"
     ]
    },
    {
     "name": "stderr",
     "output_type": "stream",
     "text": [
      "Epoch 137: 100% 2/2 [00:08<00:00,  4.44s/it, bce=0.01941, hard dice=0.87648, loss=0.25064, soft dice=0.87632]\n"
     ]
    },
    {
     "name": "stdout",
     "output_type": "stream",
     "text": [
      "soft dice: 0.66372 | loss: 0.36830 | hard dice: 0.66374 | bce: 0.03174\n"
     ]
    },
    {
     "name": "stderr",
     "output_type": "stream",
     "text": [
      "Epoch 138: 100% 2/2 [00:08<00:00,  4.24s/it, bce=0.01875, hard dice=0.75247, loss=0.26682, soft dice=0.75237]\n"
     ]
    },
    {
     "name": "stdout",
     "output_type": "stream",
     "text": [
      "soft dice: 0.66370 | loss: 0.36774 | hard dice: 0.66374 | bce: 0.03115\n"
     ]
    },
    {
     "name": "stderr",
     "output_type": "stream",
     "text": [
      "Epoch 139: 100% 2/2 [00:08<00:00,  4.06s/it, bce=0.02716, hard dice=0.75213, loss=0.27529, soft dice=0.75181]\n"
     ]
    },
    {
     "name": "stdout",
     "output_type": "stream",
     "text": [
      "soft dice: 0.66370 | loss: 0.36748 | hard dice: 0.66374 | bce: 0.03089\n"
     ]
    },
    {
     "name": "stderr",
     "output_type": "stream",
     "text": [
      "Epoch 140: 100% 2/2 [00:08<00:00,  4.30s/it, bce=0.02852, hard dice=0.44460, loss=0.59057, soft dice=0.44192]\n"
     ]
    },
    {
     "name": "stdout",
     "output_type": "stream",
     "text": [
      "soft dice: 0.66262 | loss: 0.36381 | hard dice: 0.66374 | bce: 0.02602\n"
     ]
    },
    {
     "name": "stderr",
     "output_type": "stream",
     "text": [
      "Epoch 141: 100% 2/2 [00:08<00:00,  4.22s/it, bce=0.02938, hard dice=0.81432, loss=0.22504, soft dice=0.80456]\n"
     ]
    },
    {
     "name": "stdout",
     "output_type": "stream",
     "text": [
      "soft dice: 0.66374 | loss: 0.37863 | hard dice: 0.66374 | bce: 0.04048\n"
     ]
    },
    {
     "name": "stderr",
     "output_type": "stream",
     "text": [
      "Epoch 142: 100% 2/2 [00:08<00:00,  4.17s/it, bce=0.03533, hard dice=0.87665, loss=0.15917, soft dice=0.87665]\n"
     ]
    },
    {
     "name": "stdout",
     "output_type": "stream",
     "text": [
      "soft dice: 0.66374 | loss: 0.37868 | hard dice: 0.66374 | bce: 0.04046\n"
     ]
    },
    {
     "name": "stderr",
     "output_type": "stream",
     "text": [
      "Epoch 143: 100% 2/2 [00:08<00:00,  4.15s/it, bce=0.03018, hard dice=0.81477, loss=0.21662, soft dice=0.81477]\n"
     ]
    },
    {
     "name": "stdout",
     "output_type": "stream",
     "text": [
      "soft dice: 0.66374 | loss: 0.37822 | hard dice: 0.66374 | bce: 0.04022\n"
     ]
    },
    {
     "name": "stderr",
     "output_type": "stream",
     "text": [
      "Epoch 144: 100% 2/2 [00:07<00:00,  3.95s/it, bce=0.03828, hard dice=0.87658, loss=0.16171, soft dice=0.87658]\n"
     ]
    },
    {
     "name": "stdout",
     "output_type": "stream",
     "text": [
      "soft dice: 0.66374 | loss: 0.37777 | hard dice: 0.66374 | bce: 0.03998\n"
     ]
    },
    {
     "name": "stderr",
     "output_type": "stream",
     "text": [
      "Epoch 145: 100% 2/2 [00:08<00:00,  4.47s/it, bce=0.03478, hard dice=0.87707, loss=0.15808, soft dice=0.87686]\n"
     ]
    },
    {
     "name": "stdout",
     "output_type": "stream",
     "text": [
      "soft dice: 0.66330 | loss: 0.36499 | hard dice: 0.66374 | bce: 0.02787\n"
     ]
    },
    {
     "name": "stderr",
     "output_type": "stream",
     "text": [
      "Epoch 146: 100% 2/2 [00:08<00:00,  4.18s/it, bce=0.01646, hard dice=0.93858, loss=0.07957, soft dice=0.93740]\n"
     ]
    },
    {
     "name": "stdout",
     "output_type": "stream",
     "text": [
      "soft dice: 0.66373 | loss: 0.36957 | hard dice: 0.66374 | bce: 0.03285\n"
     ]
    },
    {
     "name": "stderr",
     "output_type": "stream",
     "text": [
      "Epoch 147: 100% 2/2 [00:08<00:00,  4.27s/it, bce=0.03940, hard dice=0.69063, loss=0.35014, soft dice=0.69055]\n"
     ]
    },
    {
     "name": "stdout",
     "output_type": "stream",
     "text": [
      "soft dice: 0.66373 | loss: 0.37041 | hard dice: 0.66374 | bce: 0.03370\n"
     ]
    },
    {
     "name": "stderr",
     "output_type": "stream",
     "text": [
      "Epoch 148: 100% 2/2 [00:09<00:00,  4.59s/it, bce=0.02562, hard dice=0.69087, loss=0.33513, soft dice=0.69081]\n"
     ]
    },
    {
     "name": "stdout",
     "output_type": "stream",
     "text": [
      "soft dice: 0.66373 | loss: 0.37010 | hard dice: 0.66374 | bce: 0.03342\n"
     ]
    },
    {
     "name": "stderr",
     "output_type": "stream",
     "text": [
      "Epoch 149: 100% 2/2 [00:08<00:00,  4.16s/it, bce=0.02879, hard dice=0.87727, loss=0.15200, soft dice=0.87724]\n"
     ]
    },
    {
     "name": "stdout",
     "output_type": "stream",
     "text": [
      "soft dice: 0.66373 | loss: 0.36992 | hard dice: 0.66374 | bce: 0.03325\n",
      "Finished train fold: 1 with best loss 0.36271 on epoch 125\n",
      "\n"
     ]
    },
    {
     "name": "stderr",
     "output_type": "stream",
     "text": [
      "Epoch 0: 100% 2/2 [00:08<00:00,  4.08s/it, bce=0.47874, hard dice=0.31680, loss=1.47530, soft dice=0.00342]\n"
     ]
    },
    {
     "name": "stdout",
     "output_type": "stream",
     "text": [
      "soft dice: 0.76608 | loss: 3107.23483 | hard dice: 0.76608 | bce: 0.03034\n"
     ]
    },
    {
     "name": "stderr",
     "output_type": "stream",
     "text": [
      "Epoch 1: 100% 2/2 [00:08<00:00,  4.39s/it, bce=0.02339, hard dice=0.75110, loss=1.00302, soft dice=0.09610]\n"
     ]
    },
    {
     "name": "stdout",
     "output_type": "stream",
     "text": [
      "soft dice: 0.76608 | loss: 28387.22059 | hard dice: 0.76608 | bce: 0.03034\n"
     ]
    },
    {
     "name": "stderr",
     "output_type": "stream",
     "text": [
      "Epoch 2: 100% 2/2 [00:08<00:00,  4.19s/it, bce=0.04921, hard dice=0.81329, loss=0.29089, soft dice=0.81329]\n"
     ]
    },
    {
     "name": "stdout",
     "output_type": "stream",
     "text": [
      "soft dice: 0.76608 | loss: 5.32672 | hard dice: 0.76608 | bce: 0.03034\n"
     ]
    },
    {
     "name": "stderr",
     "output_type": "stream",
     "text": [
      "Epoch 3: 100% 2/2 [00:08<00:00,  4.31s/it, bce=0.02830, hard dice=0.81520, loss=0.30659, soft dice=0.81520]\n"
     ]
    },
    {
     "name": "stdout",
     "output_type": "stream",
     "text": [
      "soft dice: 0.76608 | loss: 2.78385 | hard dice: 0.76608 | bce: 0.03034\n"
     ]
    },
    {
     "name": "stderr",
     "output_type": "stream",
     "text": [
      "Epoch 4: 100% 2/2 [00:08<00:00,  4.27s/it, bce=0.04937, hard dice=0.56519, loss=0.54895, soft dice=0.56519]\n"
     ]
    },
    {
     "name": "stdout",
     "output_type": "stream",
     "text": [
      "soft dice: 0.76608 | loss: 0.55599 | hard dice: 0.76608 | bce: 0.03034\n"
     ]
    },
    {
     "name": "stderr",
     "output_type": "stream",
     "text": [
      "Epoch 5: 100% 2/2 [00:09<00:00,  4.67s/it, bce=0.04636, hard dice=0.69133, loss=0.39945, soft dice=0.69130]\n"
     ]
    },
    {
     "name": "stdout",
     "output_type": "stream",
     "text": [
      "soft dice: 0.76570 | loss: 0.70467 | hard dice: 0.76608 | bce: 0.03018\n"
     ]
    },
    {
     "name": "stderr",
     "output_type": "stream",
     "text": [
      "Epoch 6: 100% 2/2 [00:09<00:00,  4.57s/it, bce=0.02970, hard dice=0.56610, loss=0.51905, soft dice=0.56152]\n"
     ]
    },
    {
     "name": "stdout",
     "output_type": "stream",
     "text": [
      "soft dice: 0.76608 | loss: 2.92140 | hard dice: 0.76608 | bce: 0.03034\n"
     ]
    },
    {
     "name": "stderr",
     "output_type": "stream",
     "text": [
      "Epoch 7: 100% 2/2 [00:08<00:00,  4.47s/it, bce=0.05576, hard dice=0.50217, loss=0.65639, soft dice=0.50217]\n"
     ]
    },
    {
     "name": "stdout",
     "output_type": "stream",
     "text": [
      "soft dice: 0.76608 | loss: 2.85091 | hard dice: 0.76608 | bce: 0.03034\n"
     ]
    },
    {
     "name": "stderr",
     "output_type": "stream",
     "text": [
      "Epoch 8: 100% 2/2 [00:08<00:00,  4.19s/it, bce=0.03467, hard dice=0.81551, loss=0.22331, soft dice=0.81550]\n"
     ]
    },
    {
     "name": "stdout",
     "output_type": "stream",
     "text": [
      "soft dice: 0.76601 | loss: 1.85970 | hard dice: 0.76608 | bce: 0.03022\n"
     ]
    },
    {
     "name": "stderr",
     "output_type": "stream",
     "text": [
      "Epoch 9: 100% 2/2 [00:08<00:00,  4.29s/it, bce=0.02838, hard dice=0.63069, loss=0.43389, soft dice=0.61892]\n"
     ]
    },
    {
     "name": "stdout",
     "output_type": "stream",
     "text": [
      "soft dice: 0.76606 | loss: 0.76593 | hard dice: 0.76608 | bce: 0.03011\n"
     ]
    },
    {
     "name": "stderr",
     "output_type": "stream",
     "text": [
      "Epoch 10: 100% 2/2 [00:08<00:00,  4.49s/it, bce=0.05394, hard dice=0.69030, loss=0.37012, soft dice=0.69030]\n"
     ]
    },
    {
     "name": "stdout",
     "output_type": "stream",
     "text": [
      "soft dice: 0.76608 | loss: 0.56963 | hard dice: 0.76608 | bce: 0.03034\n"
     ]
    },
    {
     "name": "stderr",
     "output_type": "stream",
     "text": [
      "Epoch 11: 100% 2/2 [00:08<00:00,  4.29s/it, bce=0.02362, hard dice=0.81451, loss=0.20999, soft dice=0.81451]\n"
     ]
    },
    {
     "name": "stdout",
     "output_type": "stream",
     "text": [
      "soft dice: 0.76608 | loss: 0.41272 | hard dice: 0.76608 | bce: 0.03030\n"
     ]
    },
    {
     "name": "stderr",
     "output_type": "stream",
     "text": [
      "Epoch 12: 100% 2/2 [00:08<00:00,  4.28s/it, bce=0.02809, hard dice=0.93835, loss=0.14382, soft dice=0.93831]\n"
     ]
    },
    {
     "name": "stdout",
     "output_type": "stream",
     "text": [
      "soft dice: 0.76608 | loss: 0.29238 | hard dice: 0.76608 | bce: 0.02922\n"
     ]
    },
    {
     "name": "stderr",
     "output_type": "stream",
     "text": [
      "Epoch 13: 100% 2/2 [00:08<00:00,  4.49s/it, bce=0.03367, hard dice=0.63458, loss=0.43982, soft dice=0.63440]\n"
     ]
    },
    {
     "name": "stdout",
     "output_type": "stream",
     "text": [
      "soft dice: 0.76600 | loss: 0.26870 | hard dice: 0.76608 | bce: 0.02427\n"
     ]
    },
    {
     "name": "stderr",
     "output_type": "stream",
     "text": [
      "Epoch 14: 100% 2/2 [00:08<00:00,  4.10s/it, bce=0.03216, hard dice=0.69027, loss=0.41437, soft dice=0.69000]\n"
     ]
    },
    {
     "name": "stdout",
     "output_type": "stream",
     "text": [
      "soft dice: 0.76587 | loss: 0.26531 | hard dice: 0.76608 | bce: 0.02256\n"
     ]
    },
    {
     "name": "stderr",
     "output_type": "stream",
     "text": [
      "Epoch 15: 100% 2/2 [00:08<00:00,  4.40s/it, bce=0.03651, hard dice=0.75113, loss=0.28843, soft dice=0.75104]\n"
     ]
    },
    {
     "name": "stdout",
     "output_type": "stream",
     "text": [
      "soft dice: 0.76567 | loss: 0.26403 | hard dice: 0.76608 | bce: 0.02162\n"
     ]
    },
    {
     "name": "stderr",
     "output_type": "stream",
     "text": [
      "Epoch 16: 100% 2/2 [00:08<00:00,  4.40s/it, bce=0.02167, hard dice=0.81329, loss=0.21026, soft dice=0.81294]\n"
     ]
    },
    {
     "name": "stdout",
     "output_type": "stream",
     "text": [
      "soft dice: 0.76522 | loss: 0.26426 | hard dice: 0.76608 | bce: 0.02127\n"
     ]
    },
    {
     "name": "stderr",
     "output_type": "stream",
     "text": [
      "Epoch 17: 100% 2/2 [00:09<00:00,  4.50s/it, bce=0.02438, hard dice=0.62756, loss=0.40176, soft dice=0.62547]\n"
     ]
    },
    {
     "name": "stdout",
     "output_type": "stream",
     "text": [
      "soft dice: 0.76481 | loss: 0.26443 | hard dice: 0.76608 | bce: 0.02100\n"
     ]
    },
    {
     "name": "stderr",
     "output_type": "stream",
     "text": [
      "Epoch 18: 100% 2/2 [00:08<00:00,  4.11s/it, bce=0.02938, hard dice=0.62695, loss=0.40656, soft dice=0.62404]\n"
     ]
    },
    {
     "name": "stdout",
     "output_type": "stream",
     "text": [
      "soft dice: 0.76447 | loss: 0.26383 | hard dice: 0.76608 | bce: 0.02031\n"
     ]
    },
    {
     "name": "stderr",
     "output_type": "stream",
     "text": [
      "Epoch 19: 100% 2/2 [00:08<00:00,  4.42s/it, bce=0.01831, hard dice=1.00000, loss=0.08161, soft dice=0.99842]\n"
     ]
    },
    {
     "name": "stdout",
     "output_type": "stream",
     "text": [
      "soft dice: 0.76440 | loss: 0.26352 | hard dice: 0.76608 | bce: 0.01998\n"
     ]
    },
    {
     "name": "stderr",
     "output_type": "stream",
     "text": [
      "Epoch 20: 100% 2/2 [00:09<00:00,  4.58s/it, bce=0.03837, hard dice=0.75201, loss=0.29295, soft dice=0.74657]\n"
     ]
    },
    {
     "name": "stdout",
     "output_type": "stream",
     "text": [
      "soft dice: 0.76485 | loss: 0.26314 | hard dice: 0.76608 | bce: 0.02007\n"
     ]
    },
    {
     "name": "stderr",
     "output_type": "stream",
     "text": [
      "Epoch 21: 100% 2/2 [00:08<00:00,  4.35s/it, bce=0.02902, hard dice=0.75075, loss=0.27927, soft dice=0.75042]\n"
     ]
    },
    {
     "name": "stdout",
     "output_type": "stream",
     "text": [
      "soft dice: 0.76538 | loss: 0.26300 | hard dice: 0.76608 | bce: 0.02047\n"
     ]
    },
    {
     "name": "stderr",
     "output_type": "stream",
     "text": [
      "Epoch 22: 100% 2/2 [00:08<00:00,  4.08s/it, bce=0.01949, hard dice=0.94284, loss=0.08280, soft dice=0.94163]\n"
     ]
    },
    {
     "name": "stdout",
     "output_type": "stream",
     "text": [
      "soft dice: 0.76559 | loss: 0.26317 | hard dice: 0.76608 | bce: 0.02085\n"
     ]
    },
    {
     "name": "stderr",
     "output_type": "stream",
     "text": [
      "Epoch 23: 100% 2/2 [00:08<00:00,  4.29s/it, bce=0.02953, hard dice=0.87665, loss=0.15434, soft dice=0.87563]\n"
     ]
    },
    {
     "name": "stdout",
     "output_type": "stream",
     "text": [
      "soft dice: 0.76571 | loss: 0.26329 | hard dice: 0.76608 | bce: 0.02112\n"
     ]
    },
    {
     "name": "stderr",
     "output_type": "stream",
     "text": [
      "Epoch 24: 100% 2/2 [00:08<00:00,  4.27s/it, bce=0.03419, hard dice=0.87596, loss=0.19172, soft dice=0.87459]\n"
     ]
    },
    {
     "name": "stdout",
     "output_type": "stream",
     "text": [
      "soft dice: 0.76573 | loss: 0.26329 | hard dice: 0.76608 | bce: 0.02116\n"
     ]
    },
    {
     "name": "stderr",
     "output_type": "stream",
     "text": [
      "Epoch 25: 100% 2/2 [00:08<00:00,  4.21s/it, bce=0.03207, hard dice=0.68902, loss=0.34604, soft dice=0.68828]\n"
     ]
    },
    {
     "name": "stdout",
     "output_type": "stream",
     "text": [
      "soft dice: 0.76577 | loss: 0.26327 | hard dice: 0.76608 | bce: 0.02114\n"
     ]
    },
    {
     "name": "stderr",
     "output_type": "stream",
     "text": [
      "Epoch 26: 100% 2/2 [00:08<00:00,  4.14s/it, bce=0.02574, hard dice=0.62751, loss=0.45811, soft dice=0.62685]\n"
     ]
    },
    {
     "name": "stdout",
     "output_type": "stream",
     "text": [
      "soft dice: 0.76577 | loss: 0.26330 | hard dice: 0.76608 | bce: 0.02114\n"
     ]
    },
    {
     "name": "stderr",
     "output_type": "stream",
     "text": [
      "Epoch 27: 100% 2/2 [00:08<00:00,  4.11s/it, bce=0.02698, hard dice=0.56508, loss=0.46438, soft dice=0.56409]\n"
     ]
    },
    {
     "name": "stdout",
     "output_type": "stream",
     "text": [
      "soft dice: 0.76574 | loss: 0.26326 | hard dice: 0.76608 | bce: 0.02107\n"
     ]
    },
    {
     "name": "stderr",
     "output_type": "stream",
     "text": [
      "Epoch 28: 100% 2/2 [00:09<00:00,  4.53s/it, bce=0.03675, hard dice=0.75156, loss=0.28714, soft dice=0.75128]\n"
     ]
    },
    {
     "name": "stdout",
     "output_type": "stream",
     "text": [
      "soft dice: 0.76575 | loss: 0.26331 | hard dice: 0.76608 | bce: 0.02112\n"
     ]
    },
    {
     "name": "stderr",
     "output_type": "stream",
     "text": [
      "Epoch 29: 100% 2/2 [00:08<00:00,  4.49s/it, bce=0.03341, hard dice=0.62672, loss=0.40954, soft dice=0.62580]\n"
     ]
    },
    {
     "name": "stdout",
     "output_type": "stream",
     "text": [
      "soft dice: 0.76576 | loss: 0.26338 | hard dice: 0.76608 | bce: 0.02120\n",
      "Starting cyclic lr\n"
     ]
    },
    {
     "name": "stderr",
     "output_type": "stream",
     "text": [
      "Epoch 30: 100% 2/2 [00:08<00:00,  4.11s/it, bce=0.03240, hard dice=0.75703, loss=0.28794, soft dice=0.75240]\n"
     ]
    },
    {
     "name": "stdout",
     "output_type": "stream",
     "text": [
      "soft dice: 0.76608 | loss: 0.83260 | hard dice: 0.76608 | bce: 0.03034\n"
     ]
    },
    {
     "name": "stderr",
     "output_type": "stream",
     "text": [
      "Epoch 31: 100% 2/2 [00:08<00:00,  4.25s/it, bce=0.02493, hard dice=0.87685, loss=0.16594, soft dice=0.87685]\n"
     ]
    },
    {
     "name": "stdout",
     "output_type": "stream",
     "text": [
      "soft dice: 0.76608 | loss: 0.88016 | hard dice: 0.76608 | bce: 0.03034\n"
     ]
    },
    {
     "name": "stderr",
     "output_type": "stream",
     "text": [
      "Epoch 32: 100% 2/2 [00:08<00:00,  4.27s/it, bce=0.02431, hard dice=0.81565, loss=0.24218, soft dice=0.81565]\n"
     ]
    },
    {
     "name": "stdout",
     "output_type": "stream",
     "text": [
      "soft dice: 0.76608 | loss: 0.36034 | hard dice: 0.76608 | bce: 0.03034\n"
     ]
    },
    {
     "name": "stderr",
     "output_type": "stream",
     "text": [
      "Epoch 33: 100% 2/2 [00:08<00:00,  4.32s/it, bce=0.03036, hard dice=0.93898, loss=0.13538, soft dice=0.93898]\n"
     ]
    },
    {
     "name": "stdout",
     "output_type": "stream",
     "text": [
      "soft dice: 0.76608 | loss: 0.32570 | hard dice: 0.76608 | bce: 0.03034\n"
     ]
    },
    {
     "name": "stderr",
     "output_type": "stream",
     "text": [
      "Epoch 34: 100% 2/2 [00:09<00:00,  4.56s/it, bce=0.03559, hard dice=0.62669, loss=0.51406, soft dice=0.62669]\n"
     ]
    },
    {
     "name": "stdout",
     "output_type": "stream",
     "text": [
      "soft dice: 0.76608 | loss: 0.32207 | hard dice: 0.76608 | bce: 0.03034\n"
     ]
    },
    {
     "name": "stderr",
     "output_type": "stream",
     "text": [
      "Epoch 35: 100% 2/2 [00:08<00:00,  4.16s/it, bce=0.03199, hard dice=0.87556, loss=0.30143, soft dice=0.87556]\n"
     ]
    },
    {
     "name": "stdout",
     "output_type": "stream",
     "text": [
      "soft dice: 0.76608 | loss: 0.28248 | hard dice: 0.76608 | bce: 0.03015\n"
     ]
    },
    {
     "name": "stderr",
     "output_type": "stream",
     "text": [
      "Epoch 36: 100% 2/2 [00:07<00:00,  3.95s/it, bce=0.03447, hard dice=0.69033, loss=0.35235, soft dice=0.69017]\n"
     ]
    },
    {
     "name": "stdout",
     "output_type": "stream",
     "text": [
      "soft dice: 0.76130 | loss: 0.26990 | hard dice: 0.76608 | bce: 0.01979\n"
     ]
    },
    {
     "name": "stderr",
     "output_type": "stream",
     "text": [
      "Epoch 37: 100% 2/2 [00:07<00:00,  3.96s/it, bce=0.01988, hard dice=0.81370, loss=0.21537, soft dice=0.80686]\n"
     ]
    },
    {
     "name": "stdout",
     "output_type": "stream",
     "text": [
      "soft dice: 0.75978 | loss: 0.27052 | hard dice: 0.76608 | bce: 0.01924\n"
     ]
    },
    {
     "name": "stderr",
     "output_type": "stream",
     "text": [
      "Epoch 38: 100% 2/2 [00:08<00:00,  4.21s/it, bce=0.02008, hard dice=0.62726, loss=0.39961, soft dice=0.62450]\n"
     ]
    },
    {
     "name": "stdout",
     "output_type": "stream",
     "text": [
      "soft dice: 0.76390 | loss: 0.26498 | hard dice: 0.76608 | bce: 0.01983\n"
     ]
    },
    {
     "name": "stderr",
     "output_type": "stream",
     "text": [
      "Epoch 39: 100% 2/2 [00:08<00:00,  4.06s/it, bce=0.02895, hard dice=0.81373, loss=0.21867, soft dice=0.81187]\n"
     ]
    },
    {
     "name": "stdout",
     "output_type": "stream",
     "text": [
      "soft dice: 0.76439 | loss: 0.26462 | hard dice: 0.76608 | bce: 0.02013\n"
     ]
    },
    {
     "name": "stderr",
     "output_type": "stream",
     "text": [
      "Epoch 40: 100% 2/2 [00:08<00:00,  4.35s/it, bce=0.03007, hard dice=0.68956, loss=0.34271, soft dice=0.68816]\n"
     ]
    },
    {
     "name": "stdout",
     "output_type": "stream",
     "text": [
      "soft dice: 0.76608 | loss: 0.27143 | hard dice: 0.76608 | bce: 0.02781\n"
     ]
    },
    {
     "name": "stderr",
     "output_type": "stream",
     "text": [
      "Epoch 41: 100% 2/2 [00:08<00:00,  4.10s/it, bce=0.03877, hard dice=0.68888, loss=0.35277, soft dice=0.68887]\n"
     ]
    },
    {
     "name": "stdout",
     "output_type": "stream",
     "text": [
      "soft dice: 0.76608 | loss: 0.27687 | hard dice: 0.76608 | bce: 0.02916\n"
     ]
    },
    {
     "name": "stderr",
     "output_type": "stream",
     "text": [
      "Epoch 42: 100% 2/2 [00:09<00:00,  4.67s/it, bce=0.03555, hard dice=0.75160, loss=0.28691, soft dice=0.75160]\n"
     ]
    },
    {
     "name": "stdout",
     "output_type": "stream",
     "text": [
      "soft dice: 0.76608 | loss: 0.27516 | hard dice: 0.76608 | bce: 0.02897\n"
     ]
    },
    {
     "name": "stderr",
     "output_type": "stream",
     "text": [
      "Epoch 43: 100% 2/2 [00:08<00:00,  4.18s/it, bce=0.02066, hard dice=0.93844, loss=0.08585, soft dice=0.93844]\n"
     ]
    },
    {
     "name": "stdout",
     "output_type": "stream",
     "text": [
      "soft dice: 0.76608 | loss: 0.27441 | hard dice: 0.76608 | bce: 0.02875\n"
     ]
    },
    {
     "name": "stderr",
     "output_type": "stream",
     "text": [
      "Epoch 44: 100% 2/2 [00:08<00:00,  4.20s/it, bce=0.02890, hard dice=0.62752, loss=0.40675, soft dice=0.62751]\n"
     ]
    },
    {
     "name": "stdout",
     "output_type": "stream",
     "text": [
      "soft dice: 0.76608 | loss: 0.27498 | hard dice: 0.76608 | bce: 0.02869\n"
     ]
    },
    {
     "name": "stderr",
     "output_type": "stream",
     "text": [
      "Epoch 45: 100% 2/2 [00:08<00:00,  4.30s/it, bce=0.02938, hard dice=0.68957, loss=0.34239, soft dice=0.68881]\n"
     ]
    },
    {
     "name": "stdout",
     "output_type": "stream",
     "text": [
      "soft dice: 0.76209 | loss: 0.26589 | hard dice: 0.76608 | bce: 0.02027\n"
     ]
    },
    {
     "name": "stderr",
     "output_type": "stream",
     "text": [
      "Epoch 46: 100% 2/2 [00:08<00:00,  4.01s/it, bce=0.02841, hard dice=0.50241, loss=0.53194, soft dice=0.49742]\n"
     ]
    },
    {
     "name": "stdout",
     "output_type": "stream",
     "text": [
      "soft dice: 0.76565 | loss: 0.26353 | hard dice: 0.76608 | bce: 0.02165\n"
     ]
    },
    {
     "name": "stderr",
     "output_type": "stream",
     "text": [
      "Epoch 47: 100% 2/2 [00:08<00:00,  4.46s/it, bce=0.01779, hard dice=0.50388, loss=0.51574, soft dice=0.50318]\n"
     ]
    },
    {
     "name": "stdout",
     "output_type": "stream",
     "text": [
      "soft dice: 0.76583 | loss: 0.26340 | hard dice: 0.76608 | bce: 0.02181\n"
     ]
    },
    {
     "name": "stderr",
     "output_type": "stream",
     "text": [
      "Epoch 48: 100% 2/2 [00:08<00:00,  4.41s/it, bce=0.03587, hard dice=0.57003, loss=0.47967, soft dice=0.56951]\n"
     ]
    },
    {
     "name": "stdout",
     "output_type": "stream",
     "text": [
      "soft dice: 0.76588 | loss: 0.26335 | hard dice: 0.76608 | bce: 0.02183\n"
     ]
    },
    {
     "name": "stderr",
     "output_type": "stream",
     "text": [
      "Epoch 49: 100% 2/2 [00:08<00:00,  4.25s/it, bce=0.02465, hard dice=0.62783, loss=0.39782, soft dice=0.62721]\n"
     ]
    },
    {
     "name": "stdout",
     "output_type": "stream",
     "text": [
      "soft dice: 0.76586 | loss: 0.26314 | hard dice: 0.76608 | bce: 0.02160\n"
     ]
    },
    {
     "name": "stderr",
     "output_type": "stream",
     "text": [
      "Epoch 50: 100% 2/2 [00:08<00:00,  4.27s/it, bce=0.03609, hard dice=0.68827, loss=0.34764, soft dice=0.68818]\n"
     ]
    },
    {
     "name": "stdout",
     "output_type": "stream",
     "text": [
      "soft dice: 0.74941 | loss: 0.27579 | hard dice: 0.76608 | bce: 0.01711\n"
     ]
    },
    {
     "name": "stderr",
     "output_type": "stream",
     "text": [
      "Epoch 51: 100% 2/2 [00:08<00:00,  4.31s/it, bce=0.03591, hard dice=0.75232, loss=0.29614, soft dice=0.74104]\n"
     ]
    },
    {
     "name": "stdout",
     "output_type": "stream",
     "text": [
      "soft dice: 0.76607 | loss: 0.26610 | hard dice: 0.76608 | bce: 0.02483\n"
     ]
    },
    {
     "name": "stderr",
     "output_type": "stream",
     "text": [
      "Epoch 52: 100% 2/2 [00:08<00:00,  4.21s/it, bce=0.03991, hard dice=0.56473, loss=0.53700, soft dice=0.56470]\n"
     ]
    },
    {
     "name": "stdout",
     "output_type": "stream",
     "text": [
      "soft dice: 0.76607 | loss: 0.26605 | hard dice: 0.76608 | bce: 0.02476\n"
     ]
    },
    {
     "name": "stderr",
     "output_type": "stream",
     "text": [
      "Epoch 53: 100% 2/2 [00:08<00:00,  4.16s/it, bce=0.02832, hard dice=0.75107, loss=0.27957, soft dice=0.75106]\n"
     ]
    },
    {
     "name": "stdout",
     "output_type": "stream",
     "text": [
      "soft dice: 0.76606 | loss: 0.26550 | hard dice: 0.76608 | bce: 0.02420\n"
     ]
    },
    {
     "name": "stderr",
     "output_type": "stream",
     "text": [
      "Epoch 54: 100% 2/2 [00:09<00:00,  4.53s/it, bce=0.03717, hard dice=0.87608, loss=0.16157, soft dice=0.87604]\n"
     ]
    },
    {
     "name": "stdout",
     "output_type": "stream",
     "text": [
      "soft dice: 0.76606 | loss: 0.26549 | hard dice: 0.76608 | bce: 0.02419\n"
     ]
    },
    {
     "name": "stderr",
     "output_type": "stream",
     "text": [
      "Epoch 55: 100% 2/2 [00:08<00:00,  4.16s/it, bce=0.03890, hard dice=0.50206, loss=0.53841, soft dice=0.50134]\n"
     ]
    },
    {
     "name": "stdout",
     "output_type": "stream",
     "text": [
      "soft dice: 0.74604 | loss: 0.27982 | hard dice: 0.76608 | bce: 0.01717\n"
     ]
    },
    {
     "name": "stderr",
     "output_type": "stream",
     "text": [
      "Epoch 56: 100% 2/2 [00:08<00:00,  4.31s/it, bce=0.03134, hard dice=0.68941, loss=0.37292, soft dice=0.66033]\n"
     ]
    },
    {
     "name": "stdout",
     "output_type": "stream",
     "text": [
      "soft dice: 0.76608 | loss: 0.26718 | hard dice: 0.76608 | bce: 0.02589\n"
     ]
    },
    {
     "name": "stderr",
     "output_type": "stream",
     "text": [
      "Epoch 57: 100% 2/2 [00:08<00:00,  4.29s/it, bce=0.01935, hard dice=0.75125, loss=0.32990, soft dice=0.75120]\n"
     ]
    },
    {
     "name": "stdout",
     "output_type": "stream",
     "text": [
      "soft dice: 0.76608 | loss: 0.26722 | hard dice: 0.76608 | bce: 0.02591\n"
     ]
    },
    {
     "name": "stderr",
     "output_type": "stream",
     "text": [
      "Epoch 58: 100% 2/2 [00:08<00:00,  4.02s/it, bce=0.04239, hard dice=0.50247, loss=0.54053, soft dice=0.50243]\n"
     ]
    },
    {
     "name": "stdout",
     "output_type": "stream",
     "text": [
      "soft dice: 0.76607 | loss: 0.26714 | hard dice: 0.76608 | bce: 0.02583\n"
     ]
    },
    {
     "name": "stderr",
     "output_type": "stream",
     "text": [
      "Epoch 59: 100% 2/2 [00:08<00:00,  4.16s/it, bce=0.02953, hard dice=0.62794, loss=0.40233, soft dice=0.62791]\n"
     ]
    },
    {
     "name": "stdout",
     "output_type": "stream",
     "text": [
      "soft dice: 0.76607 | loss: 0.26680 | hard dice: 0.76608 | bce: 0.02553\n"
     ]
    },
    {
     "name": "stderr",
     "output_type": "stream",
     "text": [
      "Epoch 60: 100% 2/2 [00:08<00:00,  4.39s/it, bce=0.03954, hard dice=0.56519, loss=0.53922, soft dice=0.56123]\n"
     ]
    },
    {
     "name": "stdout",
     "output_type": "stream",
     "text": [
      "soft dice: 0.76386 | loss: 0.26359 | hard dice: 0.76608 | bce: 0.01990\n"
     ]
    },
    {
     "name": "stderr",
     "output_type": "stream",
     "text": [
      "Epoch 61: 100% 2/2 [00:08<00:00,  4.17s/it, bce=0.03019, hard dice=0.62683, loss=0.47145, soft dice=0.62156]\n"
     ]
    },
    {
     "name": "stdout",
     "output_type": "stream",
     "text": [
      "soft dice: 0.76606 | loss: 0.26577 | hard dice: 0.76608 | bce: 0.02441\n"
     ]
    },
    {
     "name": "stderr",
     "output_type": "stream",
     "text": [
      "Epoch 62: 100% 2/2 [00:08<00:00,  4.23s/it, bce=0.02478, hard dice=0.75131, loss=0.27419, soft dice=0.75124]\n"
     ]
    },
    {
     "name": "stdout",
     "output_type": "stream",
     "text": [
      "soft dice: 0.76605 | loss: 0.26568 | hard dice: 0.76608 | bce: 0.02432\n"
     ]
    },
    {
     "name": "stderr",
     "output_type": "stream",
     "text": [
      "Epoch 63: 100% 2/2 [00:09<00:00,  4.62s/it, bce=0.03081, hard dice=0.87723, loss=0.15523, soft dice=0.87688]\n"
     ]
    },
    {
     "name": "stdout",
     "output_type": "stream",
     "text": [
      "soft dice: 0.76604 | loss: 0.26534 | hard dice: 0.76608 | bce: 0.02397\n"
     ]
    },
    {
     "name": "stderr",
     "output_type": "stream",
     "text": [
      "Epoch 64: 100% 2/2 [00:08<00:00,  4.20s/it, bce=0.02341, hard dice=0.56464, loss=0.51720, soft dice=0.56442]\n"
     ]
    },
    {
     "name": "stdout",
     "output_type": "stream",
     "text": [
      "soft dice: 0.76603 | loss: 0.26510 | hard dice: 0.76608 | bce: 0.02372\n"
     ]
    },
    {
     "name": "stderr",
     "output_type": "stream",
     "text": [
      "Epoch 65: 100% 2/2 [00:08<00:00,  4.34s/it, bce=0.04040, hard dice=0.50148, loss=0.54045, soft dice=0.50051]\n"
     ]
    },
    {
     "name": "stdout",
     "output_type": "stream",
     "text": [
      "soft dice: 0.76360 | loss: 0.26338 | hard dice: 0.76608 | bce: 0.01962\n"
     ]
    },
    {
     "name": "stderr",
     "output_type": "stream",
     "text": [
      "Epoch 66: 100% 2/2 [00:08<00:00,  4.41s/it, bce=0.01314, hard dice=0.93957, loss=0.09234, soft dice=0.92110]\n"
     ]
    },
    {
     "name": "stdout",
     "output_type": "stream",
     "text": [
      "soft dice: 0.76608 | loss: 0.27269 | hard dice: 0.76608 | bce: 0.02970\n"
     ]
    },
    {
     "name": "stderr",
     "output_type": "stream",
     "text": [
      "Epoch 67: 100% 2/2 [00:08<00:00,  4.04s/it, bce=0.03786, hard dice=0.81397, loss=0.22412, soft dice=0.81397]\n"
     ]
    },
    {
     "name": "stdout",
     "output_type": "stream",
     "text": [
      "soft dice: 0.76608 | loss: 0.27250 | hard dice: 0.76608 | bce: 0.02972\n"
     ]
    },
    {
     "name": "stderr",
     "output_type": "stream",
     "text": [
      "Epoch 68: 100% 2/2 [00:09<00:00,  4.64s/it, bce=0.03746, hard dice=0.93819, loss=0.10003, soft dice=0.93818]\n"
     ]
    },
    {
     "name": "stdout",
     "output_type": "stream",
     "text": [
      "soft dice: 0.76608 | loss: 0.27186 | hard dice: 0.76608 | bce: 0.02952\n"
     ]
    },
    {
     "name": "stderr",
     "output_type": "stream",
     "text": [
      "Epoch 69: 100% 2/2 [00:08<00:00,  4.35s/it, bce=0.05100, hard dice=0.62708, loss=0.42488, soft dice=0.62708]\n"
     ]
    },
    {
     "name": "stdout",
     "output_type": "stream",
     "text": [
      "soft dice: 0.76608 | loss: 0.27125 | hard dice: 0.76608 | bce: 0.02919\n"
     ]
    },
    {
     "name": "stderr",
     "output_type": "stream",
     "text": [
      "Epoch 70: 100% 2/2 [00:08<00:00,  4.40s/it, bce=0.04089, hard dice=0.75116, loss=0.29016, soft dice=0.75116]\n"
     ]
    },
    {
     "name": "stdout",
     "output_type": "stream",
     "text": [
      "soft dice: 0.76520 | loss: 0.26310 | hard dice: 0.76608 | bce: 0.02045\n"
     ]
    },
    {
     "name": "stderr",
     "output_type": "stream",
     "text": [
      "Epoch 71: 100% 2/2 [00:08<00:00,  4.37s/it, bce=0.02206, hard dice=0.75187, loss=0.27792, soft dice=0.74620]\n"
     ]
    },
    {
     "name": "stdout",
     "output_type": "stream",
     "text": [
      "soft dice: 0.76600 | loss: 0.26408 | hard dice: 0.76608 | bce: 0.02279\n"
     ]
    },
    {
     "name": "stderr",
     "output_type": "stream",
     "text": [
      "Epoch 72: 100% 2/2 [00:08<00:00,  4.44s/it, bce=0.02690, hard dice=0.69028, loss=0.33747, soft dice=0.68976]\n"
     ]
    },
    {
     "name": "stdout",
     "output_type": "stream",
     "text": [
      "soft dice: 0.76602 | loss: 0.26447 | hard dice: 0.76608 | bce: 0.02317\n"
     ]
    },
    {
     "name": "stderr",
     "output_type": "stream",
     "text": [
      "Epoch 73: 100% 2/2 [00:07<00:00,  3.91s/it, bce=0.03421, hard dice=0.68920, loss=0.40146, soft dice=0.68890]\n"
     ]
    },
    {
     "name": "stdout",
     "output_type": "stream",
     "text": [
      "soft dice: 0.76603 | loss: 0.26454 | hard dice: 0.76608 | bce: 0.02321\n"
     ]
    },
    {
     "name": "stderr",
     "output_type": "stream",
     "text": [
      "Epoch 74: 100% 2/2 [00:08<00:00,  4.33s/it, bce=0.03603, hard dice=0.68912, loss=0.34772, soft dice=0.68876]\n"
     ]
    },
    {
     "name": "stdout",
     "output_type": "stream",
     "text": [
      "soft dice: 0.76602 | loss: 0.26441 | hard dice: 0.76608 | bce: 0.02307\n"
     ]
    },
    {
     "name": "stderr",
     "output_type": "stream",
     "text": [
      "Epoch 75: 100% 2/2 [00:08<00:00,  4.35s/it, bce=0.02391, hard dice=1.00000, loss=0.02903, soft dice=0.99538]\n"
     ]
    },
    {
     "name": "stdout",
     "output_type": "stream",
     "text": [
      "soft dice: 0.76573 | loss: 0.26262 | hard dice: 0.76608 | bce: 0.02096\n"
     ]
    },
    {
     "name": "stderr",
     "output_type": "stream",
     "text": [
      "Epoch 76: 100% 2/2 [00:08<00:00,  4.38s/it, bce=0.03573, hard dice=0.56546, loss=0.47106, soft dice=0.56481]\n"
     ]
    },
    {
     "name": "stdout",
     "output_type": "stream",
     "text": [
      "soft dice: 0.76592 | loss: 0.26367 | hard dice: 0.76608 | bce: 0.02198\n"
     ]
    },
    {
     "name": "stderr",
     "output_type": "stream",
     "text": [
      "Epoch 77: 100% 2/2 [00:08<00:00,  4.36s/it, bce=0.03666, hard dice=0.62878, loss=0.41150, soft dice=0.62784]\n"
     ]
    },
    {
     "name": "stdout",
     "output_type": "stream",
     "text": [
      "soft dice: 0.76586 | loss: 0.26341 | hard dice: 0.76608 | bce: 0.02166\n"
     ]
    },
    {
     "name": "stderr",
     "output_type": "stream",
     "text": [
      "Epoch 78: 100% 2/2 [00:09<00:00,  4.52s/it, bce=0.02806, hard dice=0.62735, loss=0.40223, soft dice=0.62630]\n"
     ]
    },
    {
     "name": "stdout",
     "output_type": "stream",
     "text": [
      "soft dice: 0.76578 | loss: 0.26297 | hard dice: 0.76608 | bce: 0.02122\n"
     ]
    },
    {
     "name": "stderr",
     "output_type": "stream",
     "text": [
      "Epoch 79: 100% 2/2 [00:09<00:00,  4.69s/it, bce=0.02616, hard dice=0.44007, loss=0.58775, soft dice=0.43899]\n"
     ]
    },
    {
     "name": "stdout",
     "output_type": "stream",
     "text": [
      "soft dice: 0.76572 | loss: 0.26270 | hard dice: 0.76608 | bce: 0.02095\n"
     ]
    },
    {
     "name": "stderr",
     "output_type": "stream",
     "text": [
      "Epoch 80: 100% 2/2 [00:08<00:00,  4.27s/it, bce=0.02308, hard dice=0.75407, loss=0.33311, soft dice=0.75167]\n"
     ]
    },
    {
     "name": "stdout",
     "output_type": "stream",
     "text": [
      "soft dice: 0.76496 | loss: 0.26245 | hard dice: 0.76608 | bce: 0.01999\n"
     ]
    },
    {
     "name": "stderr",
     "output_type": "stream",
     "text": [
      "Epoch 81: 100% 2/2 [00:08<00:00,  4.37s/it, bce=0.02665, hard dice=0.68919, loss=0.34083, soft dice=0.68550]\n"
     ]
    },
    {
     "name": "stdout",
     "output_type": "stream",
     "text": [
      "soft dice: 0.76589 | loss: 0.26339 | hard dice: 0.76608 | bce: 0.02192\n"
     ]
    },
    {
     "name": "stderr",
     "output_type": "stream",
     "text": [
      "Epoch 82: 100% 2/2 [00:08<00:00,  4.18s/it, bce=0.03309, hard dice=0.44013, loss=0.59505, soft dice=0.43931]\n"
     ]
    },
    {
     "name": "stdout",
     "output_type": "stream",
     "text": [
      "soft dice: 0.76591 | loss: 0.26342 | hard dice: 0.76608 | bce: 0.02197\n"
     ]
    },
    {
     "name": "stderr",
     "output_type": "stream",
     "text": [
      "Epoch 83: 100% 2/2 [00:08<00:00,  4.47s/it, bce=0.03514, hard dice=0.56431, loss=0.47248, soft dice=0.56316]\n"
     ]
    },
    {
     "name": "stdout",
     "output_type": "stream",
     "text": [
      "soft dice: 0.76592 | loss: 0.26350 | hard dice: 0.76608 | bce: 0.02203\n"
     ]
    },
    {
     "name": "stderr",
     "output_type": "stream",
     "text": [
      "Epoch 84: 100% 2/2 [00:09<00:00,  4.61s/it, bce=0.02622, hard dice=0.62801, loss=0.40088, soft dice=0.62667]\n"
     ]
    },
    {
     "name": "stdout",
     "output_type": "stream",
     "text": [
      "soft dice: 0.76591 | loss: 0.26346 | hard dice: 0.76608 | bce: 0.02198\n"
     ]
    },
    {
     "name": "stderr",
     "output_type": "stream",
     "text": [
      "Epoch 85: 100% 2/2 [00:08<00:00,  4.45s/it, bce=0.02963, hard dice=0.75234, loss=0.28011, soft dice=0.74960]\n"
     ]
    },
    {
     "name": "stdout",
     "output_type": "stream",
     "text": [
      "soft dice: 0.76581 | loss: 0.26270 | hard dice: 0.76608 | bce: 0.02120\n"
     ]
    },
    {
     "name": "stderr",
     "output_type": "stream",
     "text": [
      "Epoch 86: 100% 2/2 [00:08<00:00,  4.32s/it, bce=0.02270, hard dice=0.68996, loss=0.33790, soft dice=0.68506]\n"
     ]
    },
    {
     "name": "stdout",
     "output_type": "stream",
     "text": [
      "soft dice: 0.76606 | loss: 0.26488 | hard dice: 0.76608 | bce: 0.02368\n"
     ]
    },
    {
     "name": "stderr",
     "output_type": "stream",
     "text": [
      "Epoch 87: 100% 2/2 [00:08<00:00,  4.17s/it, bce=0.02221, hard dice=0.75172, loss=0.27060, soft dice=0.75131]\n"
     ]
    },
    {
     "name": "stdout",
     "output_type": "stream",
     "text": [
      "soft dice: 0.76605 | loss: 0.26470 | hard dice: 0.76608 | bce: 0.02350\n"
     ]
    },
    {
     "name": "stderr",
     "output_type": "stream",
     "text": [
      "Epoch 88: 100% 2/2 [00:08<00:00,  4.32s/it, bce=0.03546, hard dice=0.75204, loss=0.28428, soft dice=0.75169]\n"
     ]
    },
    {
     "name": "stdout",
     "output_type": "stream",
     "text": [
      "soft dice: 0.76604 | loss: 0.26432 | hard dice: 0.76608 | bce: 0.02311\n"
     ]
    },
    {
     "name": "stderr",
     "output_type": "stream",
     "text": [
      "Epoch 89: 100% 2/2 [00:08<00:00,  4.31s/it, bce=0.03389, hard dice=0.50216, loss=0.53217, soft dice=0.50189]\n"
     ]
    },
    {
     "name": "stdout",
     "output_type": "stream",
     "text": [
      "soft dice: 0.76603 | loss: 0.26409 | hard dice: 0.76608 | bce: 0.02287\n"
     ]
    },
    {
     "name": "stderr",
     "output_type": "stream",
     "text": [
      "Epoch 90: 100% 2/2 [00:09<00:00,  4.53s/it, bce=0.03319, hard dice=0.50230, loss=0.53710, soft dice=0.49650]\n"
     ]
    },
    {
     "name": "stdout",
     "output_type": "stream",
     "text": [
      "soft dice: 0.76553 | loss: 0.26208 | hard dice: 0.76608 | bce: 0.02033\n"
     ]
    },
    {
     "name": "stderr",
     "output_type": "stream",
     "text": [
      "Epoch 91: 100% 2/2 [00:08<00:00,  4.42s/it, bce=0.01986, hard dice=0.62670, loss=0.39396, soft dice=0.62620]\n"
     ]
    },
    {
     "name": "stdout",
     "output_type": "stream",
     "text": [
      "soft dice: 0.76576 | loss: 0.26258 | hard dice: 0.76608 | bce: 0.02106\n"
     ]
    },
    {
     "name": "stderr",
     "output_type": "stream",
     "text": [
      "Epoch 92: 100% 2/2 [00:09<00:00,  4.51s/it, bce=0.03645, hard dice=0.62709, loss=0.41130, soft dice=0.62507]\n"
     ]
    },
    {
     "name": "stdout",
     "output_type": "stream",
     "text": [
      "soft dice: 0.76571 | loss: 0.26242 | hard dice: 0.76608 | bce: 0.02084\n"
     ]
    },
    {
     "name": "stderr",
     "output_type": "stream",
     "text": [
      "Epoch 93: 100% 2/2 [00:08<00:00,  4.31s/it, bce=0.02502, hard dice=0.81370, loss=0.21335, soft dice=0.81224]\n"
     ]
    },
    {
     "name": "stdout",
     "output_type": "stream",
     "text": [
      "soft dice: 0.76571 | loss: 0.26243 | hard dice: 0.76608 | bce: 0.02085\n"
     ]
    },
    {
     "name": "stderr",
     "output_type": "stream",
     "text": [
      "Epoch 94: 100% 2/2 [00:08<00:00,  4.16s/it, bce=0.02344, hard dice=0.69092, loss=0.33472, soft dice=0.68910]\n"
     ]
    },
    {
     "name": "stdout",
     "output_type": "stream",
     "text": [
      "soft dice: 0.76560 | loss: 0.26233 | hard dice: 0.76608 | bce: 0.02063\n"
     ]
    },
    {
     "name": "stderr",
     "output_type": "stream",
     "text": [
      "Epoch 95: 100% 2/2 [00:08<00:00,  4.19s/it, bce=0.02507, hard dice=0.68940, loss=0.33836, soft dice=0.68773]\n"
     ]
    },
    {
     "name": "stdout",
     "output_type": "stream",
     "text": [
      "soft dice: 0.76599 | loss: 0.26378 | hard dice: 0.76608 | bce: 0.02247\n"
     ]
    },
    {
     "name": "stderr",
     "output_type": "stream",
     "text": [
      "Epoch 96: 100% 2/2 [00:08<00:00,  4.24s/it, bce=0.02966, hard dice=0.68962, loss=0.34098, soft dice=0.68896]\n"
     ]
    },
    {
     "name": "stdout",
     "output_type": "stream",
     "text": [
      "soft dice: 0.76579 | loss: 0.26256 | hard dice: 0.76608 | bce: 0.02107\n"
     ]
    },
    {
     "name": "stderr",
     "output_type": "stream",
     "text": [
      "Epoch 97: 100% 2/2 [00:08<00:00,  4.14s/it, bce=0.02678, hard dice=0.62701, loss=0.40046, soft dice=0.62590]\n"
     ]
    },
    {
     "name": "stdout",
     "output_type": "stream",
     "text": [
      "soft dice: 0.76569 | loss: 0.26226 | hard dice: 0.76608 | bce: 0.02067\n"
     ]
    },
    {
     "name": "stderr",
     "output_type": "stream",
     "text": [
      "Epoch 98: 100% 2/2 [00:08<00:00,  4.37s/it, bce=0.02416, hard dice=0.69023, loss=0.33655, soft dice=0.68831]\n"
     ]
    },
    {
     "name": "stdout",
     "output_type": "stream",
     "text": [
      "soft dice: 0.76566 | loss: 0.26233 | hard dice: 0.76608 | bce: 0.02071\n"
     ]
    },
    {
     "name": "stderr",
     "output_type": "stream",
     "text": [
      "Epoch 99: 100% 2/2 [00:08<00:00,  4.37s/it, bce=0.03888, hard dice=0.62640, loss=0.41357, soft dice=0.62543]\n"
     ]
    },
    {
     "name": "stdout",
     "output_type": "stream",
     "text": [
      "soft dice: 0.76557 | loss: 0.26209 | hard dice: 0.76608 | bce: 0.02036\n"
     ]
    },
    {
     "name": "stderr",
     "output_type": "stream",
     "text": [
      "Epoch 100: 100% 2/2 [00:08<00:00,  4.34s/it, bce=0.03120, hard dice=0.75100, loss=0.28257, soft dice=0.74815]\n"
     ]
    },
    {
     "name": "stdout",
     "output_type": "stream",
     "text": [
      "soft dice: 0.76338 | loss: 0.26280 | hard dice: 0.76608 | bce: 0.01886\n"
     ]
    },
    {
     "name": "stderr",
     "output_type": "stream",
     "text": [
      "Epoch 101: 100% 2/2 [00:09<00:00,  4.58s/it, bce=0.02551, hard dice=0.69038, loss=0.33991, soft dice=0.68693]\n"
     ]
    },
    {
     "name": "stdout",
     "output_type": "stream",
     "text": [
      "soft dice: 0.76602 | loss: 0.26378 | hard dice: 0.76608 | bce: 0.02254\n"
     ]
    },
    {
     "name": "stderr",
     "output_type": "stream",
     "text": [
      "Epoch 102: 100% 2/2 [00:08<00:00,  4.29s/it, bce=0.03480, hard dice=0.62637, loss=0.40881, soft dice=0.62612]\n"
     ]
    },
    {
     "name": "stdout",
     "output_type": "stream",
     "text": [
      "soft dice: 0.76602 | loss: 0.26380 | hard dice: 0.76608 | bce: 0.02256\n"
     ]
    },
    {
     "name": "stderr",
     "output_type": "stream",
     "text": [
      "Epoch 103: 100% 2/2 [00:08<00:00,  4.23s/it, bce=0.02475, hard dice=0.75103, loss=0.27468, soft dice=0.75077]\n"
     ]
    },
    {
     "name": "stdout",
     "output_type": "stream",
     "text": [
      "soft dice: 0.76600 | loss: 0.26350 | hard dice: 0.76608 | bce: 0.02225\n"
     ]
    },
    {
     "name": "stderr",
     "output_type": "stream",
     "text": [
      "Epoch 104: 100% 2/2 [00:09<00:00,  4.62s/it, bce=0.02086, hard dice=0.56609, loss=0.45554, soft dice=0.56571]\n"
     ]
    },
    {
     "name": "stdout",
     "output_type": "stream",
     "text": [
      "soft dice: 0.76600 | loss: 0.26345 | hard dice: 0.76608 | bce: 0.02220\n"
     ]
    },
    {
     "name": "stderr",
     "output_type": "stream",
     "text": [
      "Epoch 105: 100% 2/2 [00:08<00:00,  4.21s/it, bce=0.03237, hard dice=0.81327, loss=0.22937, soft dice=0.80308]\n"
     ]
    },
    {
     "name": "stdout",
     "output_type": "stream",
     "text": [
      "soft dice: 0.76586 | loss: 0.26258 | hard dice: 0.76608 | bce: 0.02120\n"
     ]
    },
    {
     "name": "stderr",
     "output_type": "stream",
     "text": [
      "Epoch 106: 100% 2/2 [00:08<00:00,  4.02s/it, bce=0.03587, hard dice=0.50271, loss=0.53437, soft dice=0.50212]\n"
     ]
    },
    {
     "name": "stdout",
     "output_type": "stream",
     "text": [
      "soft dice: 0.76608 | loss: 0.26715 | hard dice: 0.76608 | bce: 0.02587\n"
     ]
    },
    {
     "name": "stderr",
     "output_type": "stream",
     "text": [
      "Epoch 107: 100% 2/2 [00:07<00:00,  3.95s/it, bce=0.03812, hard dice=0.56640, loss=0.49445, soft dice=0.56638]\n"
     ]
    },
    {
     "name": "stdout",
     "output_type": "stream",
     "text": [
      "soft dice: 0.76607 | loss: 0.26651 | hard dice: 0.76608 | bce: 0.02528\n"
     ]
    },
    {
     "name": "stderr",
     "output_type": "stream",
     "text": [
      "Epoch 108: 100% 2/2 [00:08<00:00,  4.34s/it, bce=0.03781, hard dice=0.68905, loss=0.34924, soft dice=0.68900]\n"
     ]
    },
    {
     "name": "stdout",
     "output_type": "stream",
     "text": [
      "soft dice: 0.76607 | loss: 0.26551 | hard dice: 0.76608 | bce: 0.02431\n"
     ]
    },
    {
     "name": "stderr",
     "output_type": "stream",
     "text": [
      "Epoch 109: 100% 2/2 [00:08<00:00,  4.33s/it, bce=0.03388, hard dice=0.56552, loss=0.46879, soft dice=0.56544]\n"
     ]
    },
    {
     "name": "stdout",
     "output_type": "stream",
     "text": [
      "soft dice: 0.76606 | loss: 0.26523 | hard dice: 0.76608 | bce: 0.02402\n"
     ]
    },
    {
     "name": "stderr",
     "output_type": "stream",
     "text": [
      "Epoch 110: 100% 2/2 [00:07<00:00,  4.00s/it, bce=0.02658, hard dice=0.44498, loss=0.59835, soft dice=0.43352]\n"
     ]
    },
    {
     "name": "stdout",
     "output_type": "stream",
     "text": [
      "soft dice: 0.76409 | loss: 0.26262 | hard dice: 0.76608 | bce: 0.01938\n"
     ]
    },
    {
     "name": "stderr",
     "output_type": "stream",
     "text": [
      "Epoch 111: 100% 2/2 [00:08<00:00,  4.07s/it, bce=0.03082, hard dice=0.68965, loss=0.34777, soft dice=0.68339]\n"
     ]
    },
    {
     "name": "stdout",
     "output_type": "stream",
     "text": [
      "soft dice: 0.76608 | loss: 0.27413 | hard dice: 0.76608 | bce: 0.03019\n"
     ]
    },
    {
     "name": "stderr",
     "output_type": "stream",
     "text": [
      "Epoch 112: 100% 2/2 [00:09<00:00,  4.54s/it, bce=0.04103, hard dice=0.68937, loss=0.35484, soft dice=0.68937]\n"
     ]
    },
    {
     "name": "stdout",
     "output_type": "stream",
     "text": [
      "soft dice: 0.76608 | loss: 0.27420 | hard dice: 0.76608 | bce: 0.03021\n"
     ]
    },
    {
     "name": "stderr",
     "output_type": "stream",
     "text": [
      "Epoch 113: 100% 2/2 [00:08<00:00,  4.25s/it, bce=0.03658, hard dice=0.81360, loss=0.28062, soft dice=0.81360]\n"
     ]
    },
    {
     "name": "stdout",
     "output_type": "stream",
     "text": [
      "soft dice: 0.76608 | loss: 0.27368 | hard dice: 0.76608 | bce: 0.03016\n"
     ]
    },
    {
     "name": "stderr",
     "output_type": "stream",
     "text": [
      "Epoch 114: 100% 2/2 [00:07<00:00,  3.95s/it, bce=0.04320, hard dice=0.75113, loss=0.29555, soft dice=0.75113]\n"
     ]
    },
    {
     "name": "stdout",
     "output_type": "stream",
     "text": [
      "soft dice: 0.76608 | loss: 0.27341 | hard dice: 0.76608 | bce: 0.03012\n"
     ]
    },
    {
     "name": "stderr",
     "output_type": "stream",
     "text": [
      "Epoch 115: 100% 2/2 [00:08<00:00,  4.32s/it, bce=0.04046, hard dice=0.68913, loss=0.35295, soft dice=0.68910]\n"
     ]
    },
    {
     "name": "stdout",
     "output_type": "stream",
     "text": [
      "soft dice: 0.76551 | loss: 0.26626 | hard dice: 0.76608 | bce: 0.02040\n"
     ]
    },
    {
     "name": "stderr",
     "output_type": "stream",
     "text": [
      "Epoch 116: 100% 2/2 [00:08<00:00,  4.13s/it, bce=0.02377, hard dice=0.75612, loss=0.33501, soft dice=0.75486]\n"
     ]
    },
    {
     "name": "stdout",
     "output_type": "stream",
     "text": [
      "soft dice: 0.76483 | loss: 0.26213 | hard dice: 0.76608 | bce: 0.01961\n"
     ]
    },
    {
     "name": "stderr",
     "output_type": "stream",
     "text": [
      "Epoch 117: 100% 2/2 [00:08<00:00,  4.49s/it, bce=0.03001, hard dice=0.62708, loss=0.46590, soft dice=0.62563]\n"
     ]
    },
    {
     "name": "stdout",
     "output_type": "stream",
     "text": [
      "soft dice: 0.76507 | loss: 0.26227 | hard dice: 0.76608 | bce: 0.01989\n"
     ]
    },
    {
     "name": "stderr",
     "output_type": "stream",
     "text": [
      "Epoch 118: 100% 2/2 [00:09<00:00,  4.55s/it, bce=0.02840, hard dice=0.50254, loss=0.52937, soft dice=0.50127]\n"
     ]
    },
    {
     "name": "stdout",
     "output_type": "stream",
     "text": [
      "soft dice: 0.76498 | loss: 0.26238 | hard dice: 0.76608 | bce: 0.01983\n"
     ]
    },
    {
     "name": "stderr",
     "output_type": "stream",
     "text": [
      "Epoch 119: 100% 2/2 [00:08<00:00,  4.33s/it, bce=0.01839, hard dice=0.69069, loss=0.33343, soft dice=0.68686]\n"
     ]
    },
    {
     "name": "stdout",
     "output_type": "stream",
     "text": [
      "soft dice: 0.76461 | loss: 0.26251 | hard dice: 0.76608 | bce: 0.01956\n"
     ]
    },
    {
     "name": "stderr",
     "output_type": "stream",
     "text": [
      "Epoch 120: 100% 2/2 [00:08<00:00,  4.34s/it, bce=0.02806, hard dice=0.68994, loss=0.33962, soft dice=0.68810]\n"
     ]
    },
    {
     "name": "stdout",
     "output_type": "stream",
     "text": [
      "soft dice: 0.76608 | loss: 0.26743 | hard dice: 0.76608 | bce: 0.02568\n"
     ]
    },
    {
     "name": "stderr",
     "output_type": "stream",
     "text": [
      "Epoch 121: 100% 2/2 [00:09<00:00,  4.59s/it, bce=0.04683, hard dice=0.56413, loss=0.60446, soft dice=0.56412]\n"
     ]
    },
    {
     "name": "stdout",
     "output_type": "stream",
     "text": [
      "soft dice: 0.76607 | loss: 0.26630 | hard dice: 0.76608 | bce: 0.02446\n"
     ]
    },
    {
     "name": "stderr",
     "output_type": "stream",
     "text": [
      "Epoch 122: 100% 2/2 [00:08<00:00,  4.20s/it, bce=0.03600, hard dice=0.69030, loss=0.35033, soft dice=0.69023]\n"
     ]
    },
    {
     "name": "stdout",
     "output_type": "stream",
     "text": [
      "soft dice: 0.76606 | loss: 0.26582 | hard dice: 0.76608 | bce: 0.02398\n"
     ]
    },
    {
     "name": "stderr",
     "output_type": "stream",
     "text": [
      "Epoch 123: 100% 2/2 [00:08<00:00,  4.23s/it, bce=0.04207, hard dice=0.62679, loss=0.41810, soft dice=0.62678]\n"
     ]
    },
    {
     "name": "stdout",
     "output_type": "stream",
     "text": [
      "soft dice: 0.76602 | loss: 0.26502 | hard dice: 0.76608 | bce: 0.02314\n"
     ]
    },
    {
     "name": "stderr",
     "output_type": "stream",
     "text": [
      "Epoch 124: 100% 2/2 [00:08<00:00,  4.02s/it, bce=0.02337, hard dice=0.87695, loss=0.14857, soft dice=0.87632]\n"
     ]
    },
    {
     "name": "stdout",
     "output_type": "stream",
     "text": [
      "soft dice: 0.76599 | loss: 0.26461 | hard dice: 0.76608 | bce: 0.02273\n"
     ]
    },
    {
     "name": "stderr",
     "output_type": "stream",
     "text": [
      "Epoch 125: 100% 2/2 [00:08<00:00,  4.46s/it, bce=0.03278, hard dice=0.68860, loss=0.34589, soft dice=0.68794]\n"
     ]
    },
    {
     "name": "stdout",
     "output_type": "stream",
     "text": [
      "soft dice: 0.76398 | loss: 0.26608 | hard dice: 0.76608 | bce: 0.02094\n"
     ]
    },
    {
     "name": "stderr",
     "output_type": "stream",
     "text": [
      "Epoch 126: 100% 2/2 [00:08<00:00,  4.04s/it, bce=0.01674, hard dice=0.69052, loss=0.32951, soft dice=0.68862]\n"
     ]
    },
    {
     "name": "stdout",
     "output_type": "stream",
     "text": [
      "soft dice: 0.76583 | loss: 0.26331 | hard dice: 0.76608 | bce: 0.02142\n"
     ]
    },
    {
     "name": "stderr",
     "output_type": "stream",
     "text": [
      "Epoch 127: 100% 2/2 [00:08<00:00,  4.44s/it, bce=0.01964, hard dice=0.62731, loss=0.39413, soft dice=0.62630]\n"
     ]
    },
    {
     "name": "stdout",
     "output_type": "stream",
     "text": [
      "soft dice: 0.76578 | loss: 0.26302 | hard dice: 0.76608 | bce: 0.02119\n"
     ]
    },
    {
     "name": "stderr",
     "output_type": "stream",
     "text": [
      "Epoch 128: 100% 2/2 [00:08<00:00,  4.38s/it, bce=0.03580, hard dice=0.75162, loss=0.28545, soft dice=0.75058]\n"
     ]
    },
    {
     "name": "stdout",
     "output_type": "stream",
     "text": [
      "soft dice: 0.76573 | loss: 0.26280 | hard dice: 0.76608 | bce: 0.02096\n"
     ]
    },
    {
     "name": "stderr",
     "output_type": "stream",
     "text": [
      "Epoch 129: 100% 2/2 [00:08<00:00,  4.17s/it, bce=0.02516, hard dice=0.75077, loss=0.28066, soft dice=0.75048]\n"
     ]
    },
    {
     "name": "stdout",
     "output_type": "stream",
     "text": [
      "soft dice: 0.76574 | loss: 0.26281 | hard dice: 0.76608 | bce: 0.02098\n"
     ]
    },
    {
     "name": "stderr",
     "output_type": "stream",
     "text": [
      "Epoch 130: 100% 2/2 [00:07<00:00,  3.97s/it, bce=0.02521, hard dice=0.44132, loss=0.58962, soft dice=0.43882]\n"
     ]
    },
    {
     "name": "stdout",
     "output_type": "stream",
     "text": [
      "soft dice: 0.76405 | loss: 0.26258 | hard dice: 0.76608 | bce: 0.01918\n"
     ]
    },
    {
     "name": "stderr",
     "output_type": "stream",
     "text": [
      "Epoch 131: 100% 2/2 [00:08<00:00,  4.10s/it, bce=0.02649, hard dice=0.62796, loss=0.40468, soft dice=0.62285]\n"
     ]
    },
    {
     "name": "stdout",
     "output_type": "stream",
     "text": [
      "soft dice: 0.76608 | loss: 0.26708 | hard dice: 0.76608 | bce: 0.02580\n"
     ]
    },
    {
     "name": "stderr",
     "output_type": "stream",
     "text": [
      "Epoch 132: 100% 2/2 [00:08<00:00,  4.46s/it, bce=0.03278, hard dice=0.90646, loss=0.15579, soft dice=0.90636]\n"
     ]
    },
    {
     "name": "stdout",
     "output_type": "stream",
     "text": [
      "soft dice: 0.76608 | loss: 0.26644 | hard dice: 0.76608 | bce: 0.02518\n"
     ]
    },
    {
     "name": "stderr",
     "output_type": "stream",
     "text": [
      "Epoch 133: 100% 2/2 [00:08<00:00,  4.26s/it, bce=0.02722, hard dice=0.44091, loss=0.58651, soft dice=0.44084]\n"
     ]
    },
    {
     "name": "stdout",
     "output_type": "stream",
     "text": [
      "soft dice: 0.76607 | loss: 0.26572 | hard dice: 0.76608 | bce: 0.02447\n"
     ]
    },
    {
     "name": "stderr",
     "output_type": "stream",
     "text": [
      "Epoch 134: 100% 2/2 [00:08<00:00,  4.40s/it, bce=0.01901, hard dice=0.81384, loss=0.20591, soft dice=0.81381]\n"
     ]
    },
    {
     "name": "stdout",
     "output_type": "stream",
     "text": [
      "soft dice: 0.76607 | loss: 0.26536 | hard dice: 0.76608 | bce: 0.02411\n"
     ]
    },
    {
     "name": "stderr",
     "output_type": "stream",
     "text": [
      "Epoch 135: 100% 2/2 [00:08<00:00,  4.25s/it, bce=0.02743, hard dice=0.56462, loss=0.48160, soft dice=0.54693]\n"
     ]
    },
    {
     "name": "stdout",
     "output_type": "stream",
     "text": [
      "soft dice: 0.76592 | loss: 0.26306 | hard dice: 0.76608 | bce: 0.02171\n"
     ]
    },
    {
     "name": "stderr",
     "output_type": "stream",
     "text": [
      "Epoch 136: 100% 2/2 [00:09<00:00,  4.56s/it, bce=0.02461, hard dice=0.69096, loss=0.33478, soft dice=0.69063]\n"
     ]
    },
    {
     "name": "stdout",
     "output_type": "stream",
     "text": [
      "soft dice: 0.76608 | loss: 0.27230 | hard dice: 0.76608 | bce: 0.02982\n"
     ]
    },
    {
     "name": "stderr",
     "output_type": "stream",
     "text": [
      "Epoch 137: 100% 2/2 [00:08<00:00,  4.34s/it, bce=0.02462, hard dice=0.75273, loss=0.27363, soft dice=0.75273]\n"
     ]
    },
    {
     "name": "stdout",
     "output_type": "stream",
     "text": [
      "soft dice: 0.76608 | loss: 0.27313 | hard dice: 0.76608 | bce: 0.03005\n"
     ]
    },
    {
     "name": "stderr",
     "output_type": "stream",
     "text": [
      "Epoch 138: 100% 2/2 [00:08<00:00,  4.43s/it, bce=0.03588, hard dice=0.68864, loss=0.35232, soft dice=0.68864]\n"
     ]
    },
    {
     "name": "stdout",
     "output_type": "stream",
     "text": [
      "soft dice: 0.76608 | loss: 0.27340 | hard dice: 0.76608 | bce: 0.03011\n"
     ]
    },
    {
     "name": "stderr",
     "output_type": "stream",
     "text": [
      "Epoch 139: 100% 2/2 [00:08<00:00,  4.05s/it, bce=0.02843, hard dice=0.50792, loss=0.58677, soft dice=0.50792]\n"
     ]
    },
    {
     "name": "stdout",
     "output_type": "stream",
     "text": [
      "soft dice: 0.76608 | loss: 0.27378 | hard dice: 0.76608 | bce: 0.03017\n"
     ]
    },
    {
     "name": "stderr",
     "output_type": "stream",
     "text": [
      "Epoch 140: 100% 2/2 [00:08<00:00,  4.32s/it, bce=0.02329, hard dice=0.87738, loss=0.20803, soft dice=0.87738]\n"
     ]
    },
    {
     "name": "stdout",
     "output_type": "stream",
     "text": [
      "soft dice: 0.76606 | loss: 0.26602 | hard dice: 0.76608 | bce: 0.02482\n"
     ]
    },
    {
     "name": "stderr",
     "output_type": "stream",
     "text": [
      "Epoch 141: 100% 2/2 [00:08<00:00,  4.49s/it, bce=0.02789, hard dice=0.68905, loss=0.34059, soft dice=0.68754]\n"
     ]
    },
    {
     "name": "stdout",
     "output_type": "stream",
     "text": [
      "soft dice: 0.76216 | loss: 0.26473 | hard dice: 0.76608 | bce: 0.01925\n"
     ]
    },
    {
     "name": "stderr",
     "output_type": "stream",
     "text": [
      "Epoch 142: 100% 2/2 [00:08<00:00,  4.20s/it, bce=0.03591, hard dice=0.69171, loss=0.35579, soft dice=0.68494]\n"
     ]
    },
    {
     "name": "stdout",
     "output_type": "stream",
     "text": [
      "soft dice: 0.76381 | loss: 0.26331 | hard dice: 0.76608 | bce: 0.01970\n"
     ]
    },
    {
     "name": "stderr",
     "output_type": "stream",
     "text": [
      "Epoch 143: 100% 2/2 [00:08<00:00,  4.33s/it, bce=0.02264, hard dice=0.68983, loss=0.33903, soft dice=0.68481]\n"
     ]
    },
    {
     "name": "stdout",
     "output_type": "stream",
     "text": [
      "soft dice: 0.76495 | loss: 0.26266 | hard dice: 0.76608 | bce: 0.02029\n"
     ]
    },
    {
     "name": "stderr",
     "output_type": "stream",
     "text": [
      "Epoch 144: 100% 2/2 [00:08<00:00,  4.17s/it, bce=0.02930, hard dice=0.43984, loss=0.59328, soft dice=0.43679]\n"
     ]
    },
    {
     "name": "stdout",
     "output_type": "stream",
     "text": [
      "soft dice: 0.76517 | loss: 0.26275 | hard dice: 0.76608 | bce: 0.02062\n"
     ]
    },
    {
     "name": "stderr",
     "output_type": "stream",
     "text": [
      "Epoch 145: 100% 2/2 [00:09<00:00,  4.56s/it, bce=0.04032, hard dice=0.68876, loss=0.35269, soft dice=0.68736]\n"
     ]
    },
    {
     "name": "stdout",
     "output_type": "stream",
     "text": [
      "soft dice: 0.76608 | loss: 0.26804 | hard dice: 0.76608 | bce: 0.02669\n"
     ]
    },
    {
     "name": "stderr",
     "output_type": "stream",
     "text": [
      "Epoch 146: 100% 2/2 [00:08<00:00,  4.40s/it, bce=0.03037, hard dice=0.68956, loss=0.34209, soft dice=0.68954]\n"
     ]
    },
    {
     "name": "stdout",
     "output_type": "stream",
     "text": [
      "soft dice: 0.76608 | loss: 0.26862 | hard dice: 0.76608 | bce: 0.02679\n"
     ]
    },
    {
     "name": "stderr",
     "output_type": "stream",
     "text": [
      "Epoch 147: 100% 2/2 [00:08<00:00,  4.26s/it, bce=0.02461, hard dice=0.68999, loss=0.33470, soft dice=0.68995]\n"
     ]
    },
    {
     "name": "stdout",
     "output_type": "stream",
     "text": [
      "soft dice: 0.76608 | loss: 0.26797 | hard dice: 0.76608 | bce: 0.02605\n"
     ]
    },
    {
     "name": "stderr",
     "output_type": "stream",
     "text": [
      "Epoch 148: 100% 2/2 [00:08<00:00,  4.17s/it, bce=0.03846, hard dice=0.75172, loss=0.34857, soft dice=0.75164]\n"
     ]
    },
    {
     "name": "stdout",
     "output_type": "stream",
     "text": [
      "soft dice: 0.76607 | loss: 0.26690 | hard dice: 0.76608 | bce: 0.02503\n"
     ]
    },
    {
     "name": "stderr",
     "output_type": "stream",
     "text": [
      "Epoch 149: 100% 2/2 [00:08<00:00,  4.35s/it, bce=0.01693, hard dice=0.93825, loss=0.07879, soft dice=0.93822]\n"
     ]
    },
    {
     "name": "stdout",
     "output_type": "stream",
     "text": [
      "soft dice: 0.76607 | loss: 0.26655 | hard dice: 0.76608 | bce: 0.02470\n",
      "Finished train fold: 2 with best loss 0.26208 on epoch 90\n",
      "\n"
     ]
    },
    {
     "name": "stderr",
     "output_type": "stream",
     "text": [
      "Epoch 0: 100% 2/2 [00:08<00:00,  4.44s/it, bce=0.34979, hard dice=0.44409, loss=1.34899, soft dice=0.00150]\n"
     ]
    },
    {
     "name": "stdout",
     "output_type": "stream",
     "text": [
      "soft dice: 0.00196 | loss: 1.02911 | hard dice: 0.75123 | bce: 0.02880\n"
     ]
    },
    {
     "name": "stderr",
     "output_type": "stream",
     "text": [
      "Epoch 1: 100% 2/2 [00:08<00:00,  4.22s/it, bce=0.02866, hard dice=0.75176, loss=0.77951, soft dice=0.26388]\n"
     ]
    },
    {
     "name": "stdout",
     "output_type": "stream",
     "text": [
      "soft dice: 0.75123 | loss: 356.59039 | hard dice: 0.75123 | bce: 0.02922\n"
     ]
    },
    {
     "name": "stderr",
     "output_type": "stream",
     "text": [
      "Epoch 2: 100% 2/2 [00:08<00:00,  4.18s/it, bce=0.04018, hard dice=0.62710, loss=0.44336, soft dice=0.62710]\n"
     ]
    },
    {
     "name": "stdout",
     "output_type": "stream",
     "text": [
      "soft dice: 0.75123 | loss: 2.35334 | hard dice: 0.75123 | bce: 0.02922\n"
     ]
    },
    {
     "name": "stderr",
     "output_type": "stream",
     "text": [
      "Epoch 3: 100% 2/2 [00:09<00:00,  4.53s/it, bce=0.03442, hard dice=0.62790, loss=0.43486, soft dice=0.62774]\n"
     ]
    },
    {
     "name": "stdout",
     "output_type": "stream",
     "text": [
      "soft dice: 0.75123 | loss: 0.35445 | hard dice: 0.75123 | bce: 0.02922\n"
     ]
    },
    {
     "name": "stderr",
     "output_type": "stream",
     "text": [
      "Epoch 4: 100% 2/2 [00:08<00:00,  4.07s/it, bce=0.03612, hard dice=0.81469, loss=0.26035, soft dice=0.80064]\n"
     ]
    },
    {
     "name": "stdout",
     "output_type": "stream",
     "text": [
      "soft dice: 0.75123 | loss: 0.66195 | hard dice: 0.75123 | bce: 0.02922\n"
     ]
    },
    {
     "name": "stderr",
     "output_type": "stream",
     "text": [
      "Epoch 5: 100% 2/2 [00:08<00:00,  4.22s/it, bce=0.06118, hard dice=0.68948, loss=0.40651, soft dice=0.68948]\n"
     ]
    },
    {
     "name": "stdout",
     "output_type": "stream",
     "text": [
      "soft dice: 0.75123 | loss: 1.24817 | hard dice: 0.75123 | bce: 0.02922\n"
     ]
    },
    {
     "name": "stderr",
     "output_type": "stream",
     "text": [
      "Epoch 6: 100% 2/2 [00:08<00:00,  4.12s/it, bce=0.02990, hard dice=0.50398, loss=0.53023, soft dice=0.50398]\n"
     ]
    },
    {
     "name": "stdout",
     "output_type": "stream",
     "text": [
      "soft dice: 0.75123 | loss: 0.63599 | hard dice: 0.75123 | bce: 0.02922\n"
     ]
    },
    {
     "name": "stderr",
     "output_type": "stream",
     "text": [
      "Epoch 7: 100% 2/2 [00:08<00:00,  4.00s/it, bce=0.03004, hard dice=0.93904, loss=0.10300, soft dice=0.93901]\n"
     ]
    },
    {
     "name": "stdout",
     "output_type": "stream",
     "text": [
      "soft dice: 0.75123 | loss: 0.41300 | hard dice: 0.75123 | bce: 0.02922\n"
     ]
    },
    {
     "name": "stderr",
     "output_type": "stream",
     "text": [
      "Epoch 8: 100% 2/2 [00:08<00:00,  4.15s/it, bce=0.04524, hard dice=0.81422, loss=0.23634, soft dice=0.81422]\n"
     ]
    },
    {
     "name": "stdout",
     "output_type": "stream",
     "text": [
      "soft dice: 0.75123 | loss: 0.36582 | hard dice: 0.75123 | bce: 0.02922\n"
     ]
    },
    {
     "name": "stderr",
     "output_type": "stream",
     "text": [
      "Epoch 9: 100% 2/2 [00:08<00:00,  4.16s/it, bce=0.03186, hard dice=0.44091, loss=0.59735, soft dice=0.43584]\n"
     ]
    },
    {
     "name": "stdout",
     "output_type": "stream",
     "text": [
      "soft dice: 0.75123 | loss: 0.35893 | hard dice: 0.75123 | bce: 0.02922\n"
     ]
    },
    {
     "name": "stderr",
     "output_type": "stream",
     "text": [
      "Epoch 10: 100% 2/2 [00:08<00:00,  4.41s/it, bce=0.03315, hard dice=0.81432, loss=0.28816, soft dice=0.81177]\n"
     ]
    },
    {
     "name": "stdout",
     "output_type": "stream",
     "text": [
      "soft dice: 0.75123 | loss: 0.29553 | hard dice: 0.75123 | bce: 0.02919\n"
     ]
    },
    {
     "name": "stderr",
     "output_type": "stream",
     "text": [
      "Epoch 11: 100% 2/2 [00:07<00:00,  3.94s/it, bce=0.03361, hard dice=0.69069, loss=0.34551, soft dice=0.68910]\n"
     ]
    },
    {
     "name": "stdout",
     "output_type": "stream",
     "text": [
      "soft dice: 0.75123 | loss: 0.28043 | hard dice: 0.75123 | bce: 0.02880\n"
     ]
    },
    {
     "name": "stderr",
     "output_type": "stream",
     "text": [
      "Epoch 12: 100% 2/2 [00:08<00:00,  4.42s/it, bce=0.03092, hard dice=0.62787, loss=0.41710, soft dice=0.62632]\n"
     ]
    },
    {
     "name": "stdout",
     "output_type": "stream",
     "text": [
      "soft dice: 0.75123 | loss: 0.27630 | hard dice: 0.75123 | bce: 0.02683\n"
     ]
    },
    {
     "name": "stderr",
     "output_type": "stream",
     "text": [
      "Epoch 13: 100% 2/2 [00:08<00:00,  4.45s/it, bce=0.02365, hard dice=0.56528, loss=0.46090, soft dice=0.56323]\n"
     ]
    },
    {
     "name": "stdout",
     "output_type": "stream",
     "text": [
      "soft dice: 0.75123 | loss: 0.27442 | hard dice: 0.75123 | bce: 0.02503\n"
     ]
    },
    {
     "name": "stderr",
     "output_type": "stream",
     "text": [
      "Epoch 14: 100% 2/2 [00:08<00:00,  4.24s/it, bce=0.01679, hard dice=0.87609, loss=0.14242, soft dice=0.87522]\n"
     ]
    },
    {
     "name": "stdout",
     "output_type": "stream",
     "text": [
      "soft dice: 0.75122 | loss: 0.27333 | hard dice: 0.75123 | bce: 0.02397\n"
     ]
    },
    {
     "name": "stderr",
     "output_type": "stream",
     "text": [
      "Epoch 15: 100% 2/2 [00:07<00:00,  3.98s/it, bce=0.02027, hard dice=0.50353, loss=0.51857, soft dice=0.50272]\n"
     ]
    },
    {
     "name": "stdout",
     "output_type": "stream",
     "text": [
      "soft dice: 0.75122 | loss: 0.27272 | hard dice: 0.75123 | bce: 0.02339\n"
     ]
    },
    {
     "name": "stderr",
     "output_type": "stream",
     "text": [
      "Epoch 16: 100% 2/2 [00:08<00:00,  4.03s/it, bce=0.03370, hard dice=0.69022, loss=0.37473, soft dice=0.68928]\n"
     ]
    },
    {
     "name": "stdout",
     "output_type": "stream",
     "text": [
      "soft dice: 0.75121 | loss: 0.27213 | hard dice: 0.75123 | bce: 0.02282\n"
     ]
    },
    {
     "name": "stderr",
     "output_type": "stream",
     "text": [
      "Epoch 17: 100% 2/2 [00:08<00:00,  4.30s/it, bce=0.03667, hard dice=0.62637, loss=0.42078, soft dice=0.62632]\n"
     ]
    },
    {
     "name": "stdout",
     "output_type": "stream",
     "text": [
      "soft dice: 0.75119 | loss: 0.27148 | hard dice: 0.75123 | bce: 0.02219\n"
     ]
    },
    {
     "name": "stderr",
     "output_type": "stream",
     "text": [
      "Epoch 18: 100% 2/2 [00:08<00:00,  4.39s/it, bce=0.02274, hard dice=0.93894, loss=0.08547, soft dice=0.93795]\n"
     ]
    },
    {
     "name": "stdout",
     "output_type": "stream",
     "text": [
      "soft dice: 0.75116 | loss: 0.27074 | hard dice: 0.75123 | bce: 0.02149\n"
     ]
    },
    {
     "name": "stderr",
     "output_type": "stream",
     "text": [
      "Epoch 19: 100% 2/2 [00:08<00:00,  4.31s/it, bce=0.02959, hard dice=0.69002, loss=0.34252, soft dice=0.68858]\n"
     ]
    },
    {
     "name": "stdout",
     "output_type": "stream",
     "text": [
      "soft dice: 0.75113 | loss: 0.27028 | hard dice: 0.75123 | bce: 0.02097\n"
     ]
    },
    {
     "name": "stderr",
     "output_type": "stream",
     "text": [
      "Epoch 20: 100% 2/2 [00:08<00:00,  4.48s/it, bce=0.02586, hard dice=0.68944, loss=0.33933, soft dice=0.68747]\n"
     ]
    },
    {
     "name": "stdout",
     "output_type": "stream",
     "text": [
      "soft dice: 0.75108 | loss: 0.26983 | hard dice: 0.75123 | bce: 0.02048\n"
     ]
    },
    {
     "name": "stderr",
     "output_type": "stream",
     "text": [
      "Epoch 21: 100% 2/2 [00:08<00:00,  4.11s/it, bce=0.02650, hard dice=0.75398, loss=0.28109, soft dice=0.75144]\n"
     ]
    },
    {
     "name": "stdout",
     "output_type": "stream",
     "text": [
      "soft dice: 0.75108 | loss: 0.26974 | hard dice: 0.75123 | bce: 0.02038\n"
     ]
    },
    {
     "name": "stderr",
     "output_type": "stream",
     "text": [
      "Epoch 22: 100% 2/2 [00:08<00:00,  4.38s/it, bce=0.02317, hard dice=0.81383, loss=0.21029, soft dice=0.81299]\n"
     ]
    },
    {
     "name": "stdout",
     "output_type": "stream",
     "text": [
      "soft dice: 0.75111 | loss: 0.26999 | hard dice: 0.75123 | bce: 0.02063\n"
     ]
    },
    {
     "name": "stderr",
     "output_type": "stream",
     "text": [
      "Epoch 23: 100% 2/2 [00:08<00:00,  4.22s/it, bce=0.02860, hard dice=0.50222, loss=0.52897, soft dice=0.50073]\n"
     ]
    },
    {
     "name": "stdout",
     "output_type": "stream",
     "text": [
      "soft dice: 0.75110 | loss: 0.26988 | hard dice: 0.75123 | bce: 0.02050\n"
     ]
    },
    {
     "name": "stderr",
     "output_type": "stream",
     "text": [
      "Epoch 24: 100% 2/2 [00:09<00:00,  4.65s/it, bce=0.02093, hard dice=0.81543, loss=0.26808, soft dice=0.81402]\n"
     ]
    },
    {
     "name": "stdout",
     "output_type": "stream",
     "text": [
      "soft dice: 0.75107 | loss: 0.26977 | hard dice: 0.75123 | bce: 0.02035\n"
     ]
    },
    {
     "name": "stderr",
     "output_type": "stream",
     "text": [
      "Epoch 25: 100% 2/2 [00:08<00:00,  4.25s/it, bce=0.03392, hard dice=0.68978, loss=0.34635, soft dice=0.68809]\n"
     ]
    },
    {
     "name": "stdout",
     "output_type": "stream",
     "text": [
      "soft dice: 0.75106 | loss: 0.26971 | hard dice: 0.75123 | bce: 0.02026\n"
     ]
    },
    {
     "name": "stderr",
     "output_type": "stream",
     "text": [
      "Epoch 26: 100% 2/2 [00:08<00:00,  4.44s/it, bce=0.01736, hard dice=0.87586, loss=0.14309, soft dice=0.87507]\n"
     ]
    },
    {
     "name": "stdout",
     "output_type": "stream",
     "text": [
      "soft dice: 0.75104 | loss: 0.26959 | hard dice: 0.75123 | bce: 0.02012\n"
     ]
    },
    {
     "name": "stderr",
     "output_type": "stream",
     "text": [
      "Epoch 27: 100% 2/2 [00:08<00:00,  4.37s/it, bce=0.01908, hard dice=0.93822, loss=0.08251, soft dice=0.93698]\n"
     ]
    },
    {
     "name": "stdout",
     "output_type": "stream",
     "text": [
      "soft dice: 0.75103 | loss: 0.26953 | hard dice: 0.75123 | bce: 0.02006\n"
     ]
    },
    {
     "name": "stderr",
     "output_type": "stream",
     "text": [
      "Epoch 28: 100% 2/2 [00:08<00:00,  4.28s/it, bce=0.02841, hard dice=0.50329, loss=0.52652, soft dice=0.50256]\n"
     ]
    },
    {
     "name": "stdout",
     "output_type": "stream",
     "text": [
      "soft dice: 0.75102 | loss: 0.26952 | hard dice: 0.75123 | bce: 0.02005\n"
     ]
    },
    {
     "name": "stderr",
     "output_type": "stream",
     "text": [
      "Epoch 29: 100% 2/2 [00:08<00:00,  4.45s/it, bce=0.02537, hard dice=0.50310, loss=0.52759, soft dice=0.50184]\n"
     ]
    },
    {
     "name": "stdout",
     "output_type": "stream",
     "text": [
      "soft dice: 0.75103 | loss: 0.26952 | hard dice: 0.75123 | bce: 0.02004\n",
      "Starting cyclic lr\n"
     ]
    },
    {
     "name": "stderr",
     "output_type": "stream",
     "text": [
      "Epoch 30: 100% 2/2 [00:08<00:00,  4.25s/it, bce=0.01673, hard dice=0.75322, loss=0.26585, soft dice=0.75238]\n"
     ]
    },
    {
     "name": "stdout",
     "output_type": "stream",
     "text": [
      "soft dice: 0.74972 | loss: 0.27231 | hard dice: 0.75123 | bce: 0.01859\n"
     ]
    },
    {
     "name": "stderr",
     "output_type": "stream",
     "text": [
      "Epoch 31: 100% 2/2 [00:08<00:00,  4.14s/it, bce=0.02836, hard dice=0.75092, loss=0.34291, soft dice=0.74595]\n"
     ]
    },
    {
     "name": "stdout",
     "output_type": "stream",
     "text": [
      "soft dice: 0.75123 | loss: 0.27576 | hard dice: 0.75123 | bce: 0.02611\n"
     ]
    },
    {
     "name": "stderr",
     "output_type": "stream",
     "text": [
      "Epoch 32: 100% 2/2 [00:08<00:00,  4.29s/it, bce=0.03600, hard dice=0.68912, loss=0.34755, soft dice=0.68912]\n"
     ]
    },
    {
     "name": "stdout",
     "output_type": "stream",
     "text": [
      "soft dice: 0.75123 | loss: 0.27437 | hard dice: 0.75123 | bce: 0.02519\n"
     ]
    },
    {
     "name": "stderr",
     "output_type": "stream",
     "text": [
      "Epoch 33: 100% 2/2 [00:08<00:00,  4.20s/it, bce=0.02553, hard dice=0.75130, loss=0.27776, soft dice=0.75130]\n"
     ]
    },
    {
     "name": "stdout",
     "output_type": "stream",
     "text": [
      "soft dice: 0.75122 | loss: 0.27306 | hard dice: 0.75123 | bce: 0.02403\n"
     ]
    },
    {
     "name": "stderr",
     "output_type": "stream",
     "text": [
      "Epoch 34: 100% 2/2 [00:08<00:00,  4.45s/it, bce=0.02326, hard dice=0.93867, loss=0.08660, soft dice=0.93864]\n"
     ]
    },
    {
     "name": "stdout",
     "output_type": "stream",
     "text": [
      "soft dice: 0.75122 | loss: 0.27296 | hard dice: 0.75123 | bce: 0.02394\n"
     ]
    },
    {
     "name": "stderr",
     "output_type": "stream",
     "text": [
      "Epoch 35: 100% 2/2 [00:08<00:00,  4.34s/it, bce=0.02426, hard dice=0.69038, loss=0.33542, soft dice=0.68977]\n"
     ]
    },
    {
     "name": "stdout",
     "output_type": "stream",
     "text": [
      "soft dice: 0.75117 | loss: 0.27248 | hard dice: 0.75123 | bce: 0.02285\n"
     ]
    },
    {
     "name": "stderr",
     "output_type": "stream",
     "text": [
      "Epoch 36: 100% 2/2 [00:08<00:00,  4.32s/it, bce=0.03531, hard dice=0.62648, loss=0.41571, soft dice=0.62576]\n"
     ]
    },
    {
     "name": "stdout",
     "output_type": "stream",
     "text": [
      "soft dice: 0.75120 | loss: 0.27603 | hard dice: 0.75123 | bce: 0.02425\n"
     ]
    },
    {
     "name": "stderr",
     "output_type": "stream",
     "text": [
      "Epoch 37: 100% 2/2 [00:08<00:00,  4.40s/it, bce=0.02519, hard dice=0.68988, loss=0.33727, soft dice=0.68834]\n"
     ]
    },
    {
     "name": "stdout",
     "output_type": "stream",
     "text": [
      "soft dice: 0.75116 | loss: 0.27360 | hard dice: 0.75123 | bce: 0.02281\n"
     ]
    },
    {
     "name": "stderr",
     "output_type": "stream",
     "text": [
      "Epoch 38: 100% 2/2 [00:09<00:00,  4.58s/it, bce=0.02556, hard dice=0.69040, loss=0.33707, soft dice=0.68876]\n"
     ]
    },
    {
     "name": "stdout",
     "output_type": "stream",
     "text": [
      "soft dice: 0.75110 | loss: 0.27193 | hard dice: 0.75123 | bce: 0.02205\n"
     ]
    },
    {
     "name": "stderr",
     "output_type": "stream",
     "text": [
      "Epoch 39: 100% 2/2 [00:08<00:00,  4.24s/it, bce=0.02797, hard dice=0.62745, loss=0.40291, soft dice=0.62584]\n"
     ]
    },
    {
     "name": "stdout",
     "output_type": "stream",
     "text": [
      "soft dice: 0.75103 | loss: 0.27099 | hard dice: 0.75123 | bce: 0.02154\n"
     ]
    },
    {
     "name": "stderr",
     "output_type": "stream",
     "text": [
      "Epoch 40: 100% 2/2 [00:08<00:00,  4.20s/it, bce=0.01943, hard dice=0.81375, loss=0.20725, soft dice=0.81273]\n"
     ]
    },
    {
     "name": "stdout",
     "output_type": "stream",
     "text": [
      "soft dice: 0.75121 | loss: 0.27308 | hard dice: 0.75123 | bce: 0.02393\n"
     ]
    },
    {
     "name": "stderr",
     "output_type": "stream",
     "text": [
      "Epoch 41: 100% 2/2 [00:08<00:00,  4.22s/it, bce=0.02681, hard dice=0.87651, loss=0.20551, soft dice=0.87572]\n"
     ]
    },
    {
     "name": "stdout",
     "output_type": "stream",
     "text": [
      "soft dice: 0.75123 | loss: 0.27549 | hard dice: 0.75123 | bce: 0.02637\n"
     ]
    },
    {
     "name": "stderr",
     "output_type": "stream",
     "text": [
      "Epoch 42: 100% 2/2 [00:08<00:00,  4.48s/it, bce=0.03359, hard dice=0.81352, loss=0.22512, soft dice=0.81328]\n"
     ]
    },
    {
     "name": "stdout",
     "output_type": "stream",
     "text": [
      "soft dice: 0.75122 | loss: 0.27387 | hard dice: 0.75123 | bce: 0.02477\n"
     ]
    },
    {
     "name": "stderr",
     "output_type": "stream",
     "text": [
      "Epoch 43: 100% 2/2 [00:08<00:00,  4.24s/it, bce=0.03306, hard dice=0.62658, loss=0.40823, soft dice=0.62535]\n"
     ]
    },
    {
     "name": "stdout",
     "output_type": "stream",
     "text": [
      "soft dice: 0.75118 | loss: 0.27222 | hard dice: 0.75123 | bce: 0.02307\n"
     ]
    },
    {
     "name": "stderr",
     "output_type": "stream",
     "text": [
      "Epoch 44: 100% 2/2 [00:08<00:00,  4.18s/it, bce=0.02282, hard dice=0.62811, loss=0.39639, soft dice=0.62656]\n"
     ]
    },
    {
     "name": "stdout",
     "output_type": "stream",
     "text": [
      "soft dice: 0.75112 | loss: 0.27146 | hard dice: 0.75123 | bce: 0.02223\n"
     ]
    },
    {
     "name": "stderr",
     "output_type": "stream",
     "text": [
      "Epoch 45: 100% 2/2 [00:08<00:00,  4.26s/it, bce=0.02593, hard dice=0.68940, loss=0.33788, soft dice=0.68802]\n"
     ]
    },
    {
     "name": "stdout",
     "output_type": "stream",
     "text": [
      "soft dice: 0.75122 | loss: 0.27284 | hard dice: 0.75123 | bce: 0.02377\n"
     ]
    },
    {
     "name": "stderr",
     "output_type": "stream",
     "text": [
      "Epoch 46: 100% 2/2 [00:09<00:00,  4.51s/it, bce=0.03165, hard dice=0.56411, loss=0.46847, soft dice=0.56373]\n"
     ]
    },
    {
     "name": "stdout",
     "output_type": "stream",
     "text": [
      "soft dice: 0.75120 | loss: 0.27143 | hard dice: 0.75123 | bce: 0.02224\n"
     ]
    },
    {
     "name": "stderr",
     "output_type": "stream",
     "text": [
      "Epoch 47: 100% 2/2 [00:08<00:00,  4.46s/it, bce=0.03226, hard dice=0.62777, loss=0.41527, soft dice=0.61997]\n"
     ]
    },
    {
     "name": "stdout",
     "output_type": "stream",
     "text": [
      "soft dice: 0.75120 | loss: 0.27136 | hard dice: 0.75123 | bce: 0.02221\n"
     ]
    },
    {
     "name": "stderr",
     "output_type": "stream",
     "text": [
      "Epoch 48: 100% 2/2 [00:08<00:00,  4.37s/it, bce=0.02950, hard dice=0.56589, loss=0.46822, soft dice=0.56321]\n"
     ]
    },
    {
     "name": "stdout",
     "output_type": "stream",
     "text": [
      "soft dice: 0.75120 | loss: 0.27131 | hard dice: 0.75123 | bce: 0.02220\n"
     ]
    },
    {
     "name": "stderr",
     "output_type": "stream",
     "text": [
      "Epoch 49: 100% 2/2 [00:08<00:00,  4.05s/it, bce=0.02580, hard dice=0.75169, loss=0.27612, soft dice=0.74987]\n"
     ]
    },
    {
     "name": "stdout",
     "output_type": "stream",
     "text": [
      "soft dice: 0.75117 | loss: 0.27073 | hard dice: 0.75123 | bce: 0.02159\n"
     ]
    },
    {
     "name": "stderr",
     "output_type": "stream",
     "text": [
      "Epoch 50: 100% 2/2 [00:08<00:00,  4.29s/it, bce=0.03998, hard dice=0.37780, loss=0.66423, soft dice=0.37753]\n"
     ]
    },
    {
     "name": "stdout",
     "output_type": "stream",
     "text": [
      "soft dice: 0.75121 | loss: 0.27215 | hard dice: 0.75123 | bce: 0.02305\n"
     ]
    },
    {
     "name": "stderr",
     "output_type": "stream",
     "text": [
      "Epoch 51: 100% 2/2 [00:08<00:00,  4.25s/it, bce=0.03135, hard dice=0.75097, loss=0.29040, soft dice=0.74281]\n"
     ]
    },
    {
     "name": "stdout",
     "output_type": "stream",
     "text": [
      "soft dice: 0.75123 | loss: 0.27397 | hard dice: 0.75123 | bce: 0.02484\n"
     ]
    },
    {
     "name": "stderr",
     "output_type": "stream",
     "text": [
      "Epoch 52: 100% 2/2 [00:08<00:00,  4.25s/it, bce=0.03284, hard dice=0.44032, loss=0.59283, soft dice=0.44025]\n"
     ]
    },
    {
     "name": "stdout",
     "output_type": "stream",
     "text": [
      "soft dice: 0.75123 | loss: 0.27432 | hard dice: 0.75123 | bce: 0.02517\n"
     ]
    },
    {
     "name": "stderr",
     "output_type": "stream",
     "text": [
      "Epoch 53: 100% 2/2 [00:08<00:00,  4.42s/it, bce=0.03274, hard dice=0.62772, loss=0.40536, soft dice=0.62766]\n"
     ]
    },
    {
     "name": "stdout",
     "output_type": "stream",
     "text": [
      "soft dice: 0.75122 | loss: 0.27393 | hard dice: 0.75123 | bce: 0.02478\n"
     ]
    },
    {
     "name": "stderr",
     "output_type": "stream",
     "text": [
      "Epoch 54: 100% 2/2 [00:08<00:00,  4.00s/it, bce=0.04260, hard dice=0.43980, loss=0.60337, soft dice=0.43976]\n"
     ]
    },
    {
     "name": "stdout",
     "output_type": "stream",
     "text": [
      "soft dice: 0.75122 | loss: 0.27348 | hard dice: 0.75123 | bce: 0.02432\n"
     ]
    },
    {
     "name": "stderr",
     "output_type": "stream",
     "text": [
      "Epoch 55: 100% 2/2 [00:08<00:00,  4.43s/it, bce=0.03089, hard dice=0.81386, loss=0.24150, soft dice=0.79093]\n"
     ]
    },
    {
     "name": "stdout",
     "output_type": "stream",
     "text": [
      "soft dice: 0.75118 | loss: 0.27210 | hard dice: 0.75123 | bce: 0.02287\n"
     ]
    },
    {
     "name": "stderr",
     "output_type": "stream",
     "text": [
      "Epoch 56: 100% 2/2 [00:08<00:00,  4.37s/it, bce=0.02714, hard dice=0.56488, loss=0.46439, soft dice=0.56407]\n"
     ]
    },
    {
     "name": "stdout",
     "output_type": "stream",
     "text": [
      "soft dice: 0.75123 | loss: 0.28885 | hard dice: 0.75123 | bce: 0.02921\n"
     ]
    },
    {
     "name": "stderr",
     "output_type": "stream",
     "text": [
      "Epoch 57: 100% 2/2 [00:08<00:00,  4.02s/it, bce=0.03208, hard dice=0.68994, loss=0.34344, soft dice=0.68994]\n"
     ]
    },
    {
     "name": "stdout",
     "output_type": "stream",
     "text": [
      "soft dice: 0.75123 | loss: 0.28446 | hard dice: 0.75123 | bce: 0.02920\n"
     ]
    },
    {
     "name": "stderr",
     "output_type": "stream",
     "text": [
      "Epoch 58: 100% 2/2 [00:08<00:00,  4.49s/it, bce=0.02873, hard dice=0.68926, loss=0.34084, soft dice=0.68926]\n"
     ]
    },
    {
     "name": "stdout",
     "output_type": "stream",
     "text": [
      "soft dice: 0.75123 | loss: 0.28211 | hard dice: 0.75123 | bce: 0.02917\n"
     ]
    },
    {
     "name": "stderr",
     "output_type": "stream",
     "text": [
      "Epoch 59: 100% 2/2 [00:08<00:00,  4.22s/it, bce=0.04425, hard dice=0.87595, loss=0.22617, soft dice=0.87595]\n"
     ]
    },
    {
     "name": "stdout",
     "output_type": "stream",
     "text": [
      "soft dice: 0.75123 | loss: 0.28091 | hard dice: 0.75123 | bce: 0.02911\n"
     ]
    },
    {
     "name": "stderr",
     "output_type": "stream",
     "text": [
      "Epoch 60: 100% 2/2 [00:08<00:00,  4.12s/it, bce=0.03463, hard dice=0.75227, loss=0.28446, soft dice=0.75193]\n"
     ]
    },
    {
     "name": "stdout",
     "output_type": "stream",
     "text": [
      "soft dice: 0.75085 | loss: 0.27049 | hard dice: 0.75123 | bce: 0.02084\n"
     ]
    },
    {
     "name": "stderr",
     "output_type": "stream",
     "text": [
      "Epoch 61: 100% 2/2 [00:08<00:00,  4.08s/it, bce=0.02609, hard dice=0.69069, loss=0.34461, soft dice=0.68334]\n"
     ]
    },
    {
     "name": "stdout",
     "output_type": "stream",
     "text": [
      "soft dice: 0.75122 | loss: 0.27393 | hard dice: 0.75123 | bce: 0.02490\n"
     ]
    },
    {
     "name": "stderr",
     "output_type": "stream",
     "text": [
      "Epoch 62: 100% 2/2 [00:08<00:00,  4.21s/it, bce=0.03427, hard dice=0.56549, loss=0.46940, soft dice=0.56538]\n"
     ]
    },
    {
     "name": "stdout",
     "output_type": "stream",
     "text": [
      "soft dice: 0.75121 | loss: 0.27348 | hard dice: 0.75123 | bce: 0.02435\n"
     ]
    },
    {
     "name": "stderr",
     "output_type": "stream",
     "text": [
      "Epoch 63: 100% 2/2 [00:08<00:00,  4.46s/it, bce=0.03589, hard dice=0.56435, loss=0.47255, soft dice=0.56425]\n"
     ]
    },
    {
     "name": "stdout",
     "output_type": "stream",
     "text": [
      "soft dice: 0.75120 | loss: 0.27271 | hard dice: 0.75123 | bce: 0.02348\n"
     ]
    },
    {
     "name": "stderr",
     "output_type": "stream",
     "text": [
      "Epoch 64: 100% 2/2 [00:09<00:00,  4.51s/it, bce=0.03336, hard dice=0.56470, loss=0.46984, soft dice=0.56458]\n"
     ]
    },
    {
     "name": "stdout",
     "output_type": "stream",
     "text": [
      "soft dice: 0.75119 | loss: 0.27241 | hard dice: 0.75123 | bce: 0.02310\n"
     ]
    },
    {
     "name": "stderr",
     "output_type": "stream",
     "text": [
      "Epoch 65: 100% 2/2 [00:08<00:00,  4.34s/it, bce=0.01936, hard dice=0.81513, loss=0.21275, soft dice=0.80771]\n"
     ]
    },
    {
     "name": "stdout",
     "output_type": "stream",
     "text": [
      "soft dice: 0.75108 | loss: 0.26989 | hard dice: 0.75123 | bce: 0.02055\n"
     ]
    },
    {
     "name": "stderr",
     "output_type": "stream",
     "text": [
      "Epoch 66: 100% 2/2 [00:08<00:00,  4.14s/it, bce=0.03381, hard dice=0.62692, loss=0.40846, soft dice=0.62599]\n"
     ]
    },
    {
     "name": "stdout",
     "output_type": "stream",
     "text": [
      "soft dice: 0.75123 | loss: 0.27450 | hard dice: 0.75123 | bce: 0.02541\n"
     ]
    },
    {
     "name": "stderr",
     "output_type": "stream",
     "text": [
      "Epoch 67: 100% 2/2 [00:08<00:00,  4.43s/it, bce=0.04971, hard dice=0.56555, loss=0.48470, soft dice=0.56554]\n"
     ]
    },
    {
     "name": "stdout",
     "output_type": "stream",
     "text": [
      "soft dice: 0.75123 | loss: 0.27397 | hard dice: 0.75123 | bce: 0.02492\n"
     ]
    },
    {
     "name": "stderr",
     "output_type": "stream",
     "text": [
      "Epoch 68: 100% 2/2 [00:08<00:00,  4.24s/it, bce=0.02820, hard dice=0.56713, loss=0.46363, soft dice=0.56710]\n"
     ]
    },
    {
     "name": "stdout",
     "output_type": "stream",
     "text": [
      "soft dice: 0.75122 | loss: 0.27301 | hard dice: 0.75123 | bce: 0.02398\n"
     ]
    },
    {
     "name": "stderr",
     "output_type": "stream",
     "text": [
      "Epoch 69: 100% 2/2 [00:08<00:00,  4.29s/it, bce=0.04093, hard dice=0.50272, loss=0.53894, soft dice=0.50269]\n"
     ]
    },
    {
     "name": "stdout",
     "output_type": "stream",
     "text": [
      "soft dice: 0.75122 | loss: 0.27269 | hard dice: 0.75123 | bce: 0.02367\n"
     ]
    },
    {
     "name": "stderr",
     "output_type": "stream",
     "text": [
      "Epoch 70: 100% 2/2 [00:08<00:00,  4.33s/it, bce=0.03045, hard dice=0.62650, loss=0.47358, soft dice=0.61561]\n"
     ]
    },
    {
     "name": "stdout",
     "output_type": "stream",
     "text": [
      "soft dice: 0.74767 | loss: 0.27074 | hard dice: 0.75123 | bce: 0.01768\n"
     ]
    },
    {
     "name": "stderr",
     "output_type": "stream",
     "text": [
      "Epoch 71: 100% 2/2 [00:08<00:00,  4.06s/it, bce=0.04512, hard dice=0.62698, loss=0.43716, soft dice=0.60933]\n"
     ]
    },
    {
     "name": "stdout",
     "output_type": "stream",
     "text": [
      "soft dice: 0.75123 | loss: 0.28010 | hard dice: 0.75123 | bce: 0.02905\n"
     ]
    },
    {
     "name": "stderr",
     "output_type": "stream",
     "text": [
      "Epoch 72: 100% 2/2 [00:08<00:00,  4.40s/it, bce=0.02202, hard dice=0.81433, loss=0.21077, soft dice=0.81433]\n"
     ]
    },
    {
     "name": "stdout",
     "output_type": "stream",
     "text": [
      "soft dice: 0.75123 | loss: 0.28021 | hard dice: 0.75123 | bce: 0.02906\n"
     ]
    },
    {
     "name": "stderr",
     "output_type": "stream",
     "text": [
      "Epoch 73: 100% 2/2 [00:08<00:00,  4.39s/it, bce=0.04003, hard dice=0.68913, loss=0.35436, soft dice=0.68913]\n"
     ]
    },
    {
     "name": "stdout",
     "output_type": "stream",
     "text": [
      "soft dice: 0.75123 | loss: 0.27951 | hard dice: 0.75123 | bce: 0.02893\n"
     ]
    },
    {
     "name": "stderr",
     "output_type": "stream",
     "text": [
      "Epoch 74: 100% 2/2 [00:08<00:00,  4.15s/it, bce=0.06991, hard dice=0.50191, loss=0.57193, soft dice=0.50191]\n"
     ]
    },
    {
     "name": "stdout",
     "output_type": "stream",
     "text": [
      "soft dice: 0.75123 | loss: 0.27929 | hard dice: 0.75123 | bce: 0.02886\n"
     ]
    },
    {
     "name": "stderr",
     "output_type": "stream",
     "text": [
      "Epoch 75: 100% 2/2 [00:07<00:00,  3.97s/it, bce=0.03751, hard dice=0.56512, loss=0.47437, soft dice=0.56424]\n"
     ]
    },
    {
     "name": "stdout",
     "output_type": "stream",
     "text": [
      "soft dice: 0.74704 | loss: 0.27048 | hard dice: 0.75123 | bce: 0.01710\n"
     ]
    },
    {
     "name": "stderr",
     "output_type": "stream",
     "text": [
      "Epoch 76: 100% 2/2 [00:08<00:00,  4.10s/it, bce=0.02599, hard dice=0.75184, loss=0.29551, soft dice=0.73135]\n"
     ]
    },
    {
     "name": "stdout",
     "output_type": "stream",
     "text": [
      "soft dice: 0.75123 | loss: 0.27443 | hard dice: 0.75123 | bce: 0.02536\n"
     ]
    },
    {
     "name": "stderr",
     "output_type": "stream",
     "text": [
      "Epoch 77: 100% 2/2 [00:08<00:00,  4.08s/it, bce=0.03080, hard dice=0.75222, loss=0.27931, soft dice=0.75220]\n"
     ]
    },
    {
     "name": "stdout",
     "output_type": "stream",
     "text": [
      "soft dice: 0.75123 | loss: 0.27484 | hard dice: 0.75123 | bce: 0.02576\n"
     ]
    },
    {
     "name": "stderr",
     "output_type": "stream",
     "text": [
      "Epoch 78: 100% 2/2 [00:08<00:00,  4.45s/it, bce=0.03955, hard dice=0.75161, loss=0.28784, soft dice=0.75160]\n"
     ]
    },
    {
     "name": "stdout",
     "output_type": "stream",
     "text": [
      "soft dice: 0.75123 | loss: 0.27477 | hard dice: 0.75123 | bce: 0.02571\n"
     ]
    },
    {
     "name": "stderr",
     "output_type": "stream",
     "text": [
      "Epoch 79: 100% 2/2 [00:08<00:00,  4.22s/it, bce=0.03789, hard dice=0.50366, loss=0.53492, soft dice=0.50365]\n"
     ]
    },
    {
     "name": "stdout",
     "output_type": "stream",
     "text": [
      "soft dice: 0.75123 | loss: 0.27459 | hard dice: 0.75123 | bce: 0.02554\n"
     ]
    },
    {
     "name": "stderr",
     "output_type": "stream",
     "text": [
      "Epoch 80: 100% 2/2 [00:08<00:00,  4.31s/it, bce=0.03359, hard dice=0.37807, loss=0.65656, soft dice=0.37716]\n"
     ]
    },
    {
     "name": "stdout",
     "output_type": "stream",
     "text": [
      "soft dice: 0.75022 | loss: 0.26901 | hard dice: 0.75123 | bce: 0.01888\n"
     ]
    },
    {
     "name": "stderr",
     "output_type": "stream",
     "text": [
      "Epoch 81: 100% 2/2 [00:08<00:00,  4.28s/it, bce=0.02413, hard dice=0.81386, loss=0.21820, soft dice=0.80634]\n"
     ]
    },
    {
     "name": "stdout",
     "output_type": "stream",
     "text": [
      "soft dice: 0.75122 | loss: 0.27275 | hard dice: 0.75123 | bce: 0.02373\n"
     ]
    },
    {
     "name": "stderr",
     "output_type": "stream",
     "text": [
      "Epoch 82: 100% 2/2 [00:08<00:00,  4.18s/it, bce=0.02605, hard dice=0.69027, loss=0.33622, soft dice=0.69019]\n"
     ]
    },
    {
     "name": "stdout",
     "output_type": "stream",
     "text": [
      "soft dice: 0.75122 | loss: 0.27280 | hard dice: 0.75123 | bce: 0.02376\n"
     ]
    },
    {
     "name": "stderr",
     "output_type": "stream",
     "text": [
      "Epoch 83: 100% 2/2 [00:09<00:00,  4.62s/it, bce=0.03730, hard dice=0.56523, loss=0.47210, soft dice=0.56517]\n"
     ]
    },
    {
     "name": "stdout",
     "output_type": "stream",
     "text": [
      "soft dice: 0.75122 | loss: 0.27240 | hard dice: 0.75123 | bce: 0.02336\n"
     ]
    },
    {
     "name": "stderr",
     "output_type": "stream",
     "text": [
      "Epoch 84: 100% 2/2 [00:08<00:00,  4.26s/it, bce=0.02271, hard dice=0.69019, loss=0.33253, soft dice=0.69010]\n"
     ]
    },
    {
     "name": "stdout",
     "output_type": "stream",
     "text": [
      "soft dice: 0.75122 | loss: 0.27232 | hard dice: 0.75123 | bce: 0.02327\n"
     ]
    },
    {
     "name": "stderr",
     "output_type": "stream",
     "text": [
      "Epoch 85: 100% 2/2 [00:08<00:00,  4.00s/it, bce=0.03029, hard dice=0.68916, loss=0.34426, soft dice=0.68590]\n"
     ]
    },
    {
     "name": "stdout",
     "output_type": "stream",
     "text": [
      "soft dice: 0.74998 | loss: 0.26901 | hard dice: 0.75123 | bce: 0.01868\n"
     ]
    },
    {
     "name": "stderr",
     "output_type": "stream",
     "text": [
      "Epoch 86: 100% 2/2 [00:08<00:00,  4.41s/it, bce=0.02920, hard dice=0.62876, loss=0.40839, soft dice=0.62135]\n"
     ]
    },
    {
     "name": "stdout",
     "output_type": "stream",
     "text": [
      "soft dice: 0.75123 | loss: 0.27448 | hard dice: 0.75123 | bce: 0.02545\n"
     ]
    },
    {
     "name": "stderr",
     "output_type": "stream",
     "text": [
      "Epoch 87: 100% 2/2 [00:08<00:00,  4.18s/it, bce=0.02956, hard dice=0.93876, loss=0.09117, soft dice=0.93875]\n"
     ]
    },
    {
     "name": "stdout",
     "output_type": "stream",
     "text": [
      "soft dice: 0.75123 | loss: 0.27452 | hard dice: 0.75123 | bce: 0.02549\n"
     ]
    },
    {
     "name": "stderr",
     "output_type": "stream",
     "text": [
      "Epoch 88: 100% 2/2 [00:08<00:00,  4.03s/it, bce=0.03763, hard dice=0.68977, loss=0.34813, soft dice=0.68976]\n"
     ]
    },
    {
     "name": "stdout",
     "output_type": "stream",
     "text": [
      "soft dice: 0.75123 | loss: 0.27420 | hard dice: 0.75123 | bce: 0.02518\n"
     ]
    },
    {
     "name": "stderr",
     "output_type": "stream",
     "text": [
      "Epoch 89: 100% 2/2 [00:08<00:00,  4.35s/it, bce=0.02833, hard dice=0.82346, loss=0.26792, soft dice=0.82343]\n"
     ]
    },
    {
     "name": "stdout",
     "output_type": "stream",
     "text": [
      "soft dice: 0.75123 | loss: 0.27400 | hard dice: 0.75123 | bce: 0.02498\n"
     ]
    },
    {
     "name": "stderr",
     "output_type": "stream",
     "text": [
      "Epoch 90: 100% 2/2 [00:08<00:00,  4.36s/it, bce=0.01984, hard dice=0.81555, loss=0.20544, soft dice=0.81452]\n"
     ]
    },
    {
     "name": "stdout",
     "output_type": "stream",
     "text": [
      "soft dice: 0.75070 | loss: 0.26898 | hard dice: 0.75123 | bce: 0.01935\n"
     ]
    },
    {
     "name": "stderr",
     "output_type": "stream",
     "text": [
      "Epoch 91: 100% 2/2 [00:08<00:00,  4.19s/it, bce=0.03781, hard dice=0.75074, loss=0.29000, soft dice=0.75019]\n"
     ]
    },
    {
     "name": "stdout",
     "output_type": "stream",
     "text": [
      "soft dice: 0.75119 | loss: 0.27099 | hard dice: 0.75123 | bce: 0.02193\n"
     ]
    },
    {
     "name": "stderr",
     "output_type": "stream",
     "text": [
      "Epoch 92: 100% 2/2 [00:08<00:00,  4.14s/it, bce=0.02050, hard dice=0.68915, loss=0.33131, soft dice=0.68906]\n"
     ]
    },
    {
     "name": "stdout",
     "output_type": "stream",
     "text": [
      "soft dice: 0.75119 | loss: 0.27089 | hard dice: 0.75123 | bce: 0.02181\n"
     ]
    },
    {
     "name": "stderr",
     "output_type": "stream",
     "text": [
      "Epoch 93: 100% 2/2 [00:08<00:00,  4.11s/it, bce=0.04052, hard dice=0.75316, loss=0.40759, soft dice=0.75271]\n"
     ]
    },
    {
     "name": "stdout",
     "output_type": "stream",
     "text": [
      "soft dice: 0.75117 | loss: 0.27047 | hard dice: 0.75123 | bce: 0.02135\n"
     ]
    },
    {
     "name": "stderr",
     "output_type": "stream",
     "text": [
      "Epoch 94: 100% 2/2 [00:08<00:00,  4.11s/it, bce=0.02347, hard dice=0.62717, loss=0.39725, soft dice=0.62672]\n"
     ]
    },
    {
     "name": "stdout",
     "output_type": "stream",
     "text": [
      "soft dice: 0.75115 | loss: 0.27032 | hard dice: 0.75123 | bce: 0.02119\n"
     ]
    },
    {
     "name": "stderr",
     "output_type": "stream",
     "text": [
      "Epoch 95: 100% 2/2 [00:08<00:00,  4.04s/it, bce=0.03107, hard dice=0.87813, loss=0.21979, soft dice=0.87124]\n"
     ]
    },
    {
     "name": "stdout",
     "output_type": "stream",
     "text": [
      "soft dice: 0.75082 | loss: 0.26905 | hard dice: 0.75123 | bce: 0.01957\n"
     ]
    },
    {
     "name": "stderr",
     "output_type": "stream",
     "text": [
      "Epoch 96: 100% 2/2 [00:07<00:00,  3.98s/it, bce=0.03829, hard dice=0.63270, loss=0.41249, soft dice=0.63098]\n"
     ]
    },
    {
     "name": "stdout",
     "output_type": "stream",
     "text": [
      "soft dice: 0.75121 | loss: 0.27171 | hard dice: 0.75123 | bce: 0.02270\n"
     ]
    },
    {
     "name": "stderr",
     "output_type": "stream",
     "text": [
      "Epoch 97: 100% 2/2 [00:08<00:00,  4.43s/it, bce=0.03075, hard dice=0.75133, loss=0.34081, soft dice=0.75107]\n"
     ]
    },
    {
     "name": "stdout",
     "output_type": "stream",
     "text": [
      "soft dice: 0.75120 | loss: 0.27141 | hard dice: 0.75123 | bce: 0.02239\n"
     ]
    },
    {
     "name": "stderr",
     "output_type": "stream",
     "text": [
      "Epoch 98: 100% 2/2 [00:08<00:00,  4.17s/it, bce=0.02889, hard dice=0.31660, loss=0.71437, soft dice=0.31643]\n"
     ]
    },
    {
     "name": "stdout",
     "output_type": "stream",
     "text": [
      "soft dice: 0.75118 | loss: 0.27083 | hard dice: 0.75123 | bce: 0.02181\n"
     ]
    },
    {
     "name": "stderr",
     "output_type": "stream",
     "text": [
      "Epoch 99: 100% 2/2 [00:08<00:00,  4.32s/it, bce=0.04451, hard dice=0.63432, loss=0.41760, soft dice=0.63391]\n"
     ]
    },
    {
     "name": "stdout",
     "output_type": "stream",
     "text": [
      "soft dice: 0.75117 | loss: 0.27061 | hard dice: 0.75123 | bce: 0.02157\n"
     ]
    },
    {
     "name": "stderr",
     "output_type": "stream",
     "text": [
      "Epoch 100: 100% 2/2 [00:08<00:00,  4.21s/it, bce=0.02548, hard dice=0.68971, loss=0.35146, soft dice=0.67552]\n"
     ]
    },
    {
     "name": "stdout",
     "output_type": "stream",
     "text": [
      "soft dice: 0.75112 | loss: 0.26992 | hard dice: 0.75123 | bce: 0.02082\n"
     ]
    },
    {
     "name": "stderr",
     "output_type": "stream",
     "text": [
      "Epoch 101: 100% 2/2 [00:08<00:00,  4.32s/it, bce=0.04164, hard dice=0.44038, loss=0.60251, soft dice=0.44005]\n"
     ]
    },
    {
     "name": "stdout",
     "output_type": "stream",
     "text": [
      "soft dice: 0.75123 | loss: 0.27639 | hard dice: 0.75123 | bce: 0.02709\n"
     ]
    },
    {
     "name": "stderr",
     "output_type": "stream",
     "text": [
      "Epoch 102: 100% 2/2 [00:08<00:00,  4.05s/it, bce=0.03882, hard dice=0.37862, loss=0.66295, soft dice=0.37862]\n"
     ]
    },
    {
     "name": "stdout",
     "output_type": "stream",
     "text": [
      "soft dice: 0.75123 | loss: 0.27629 | hard dice: 0.75123 | bce: 0.02705\n"
     ]
    },
    {
     "name": "stderr",
     "output_type": "stream",
     "text": [
      "Epoch 103: 100% 2/2 [00:09<00:00,  4.50s/it, bce=0.04056, hard dice=0.25309, loss=0.78926, soft dice=0.25308]\n"
     ]
    },
    {
     "name": "stdout",
     "output_type": "stream",
     "text": [
      "soft dice: 0.75123 | loss: 0.27589 | hard dice: 0.75123 | bce: 0.02669\n"
     ]
    },
    {
     "name": "stderr",
     "output_type": "stream",
     "text": [
      "Epoch 104: 100% 2/2 [00:08<00:00,  4.43s/it, bce=0.04862, hard dice=0.56455, loss=0.48451, soft dice=0.56455]\n"
     ]
    },
    {
     "name": "stdout",
     "output_type": "stream",
     "text": [
      "soft dice: 0.75123 | loss: 0.27581 | hard dice: 0.75123 | bce: 0.02660\n"
     ]
    },
    {
     "name": "stderr",
     "output_type": "stream",
     "text": [
      "Epoch 105: 100% 2/2 [00:08<00:00,  4.29s/it, bce=0.03070, hard dice=0.56551, loss=0.46556, soft dice=0.56520]\n"
     ]
    },
    {
     "name": "stdout",
     "output_type": "stream",
     "text": [
      "soft dice: 0.74566 | loss: 0.27155 | hard dice: 0.75123 | bce: 0.01687\n"
     ]
    },
    {
     "name": "stderr",
     "output_type": "stream",
     "text": [
      "Epoch 106: 100% 2/2 [00:08<00:00,  4.10s/it, bce=0.02161, hard dice=0.50297, loss=0.52542, soft dice=0.49699]\n"
     ]
    },
    {
     "name": "stdout",
     "output_type": "stream",
     "text": [
      "soft dice: 0.75123 | loss: 0.27479 | hard dice: 0.75123 | bce: 0.02570\n"
     ]
    },
    {
     "name": "stderr",
     "output_type": "stream",
     "text": [
      "Epoch 107: 100% 2/2 [00:08<00:00,  4.48s/it, bce=0.04166, hard dice=0.56505, loss=0.47793, soft dice=0.56496]\n"
     ]
    },
    {
     "name": "stdout",
     "output_type": "stream",
     "text": [
      "soft dice: 0.75123 | loss: 0.27486 | hard dice: 0.75123 | bce: 0.02578\n"
     ]
    },
    {
     "name": "stderr",
     "output_type": "stream",
     "text": [
      "Epoch 108: 100% 2/2 [00:08<00:00,  4.34s/it, bce=0.02062, hard dice=0.69064, loss=0.33040, soft dice=0.69057]\n"
     ]
    },
    {
     "name": "stdout",
     "output_type": "stream",
     "text": [
      "soft dice: 0.75123 | loss: 0.27467 | hard dice: 0.75123 | bce: 0.02561\n"
     ]
    },
    {
     "name": "stderr",
     "output_type": "stream",
     "text": [
      "Epoch 109: 100% 2/2 [00:08<00:00,  4.31s/it, bce=0.03893, hard dice=0.56465, loss=0.47517, soft dice=0.56458]\n"
     ]
    },
    {
     "name": "stdout",
     "output_type": "stream",
     "text": [
      "soft dice: 0.75122 | loss: 0.27430 | hard dice: 0.75123 | bce: 0.02527\n"
     ]
    },
    {
     "name": "stderr",
     "output_type": "stream",
     "text": [
      "Epoch 110: 100% 2/2 [00:07<00:00,  3.98s/it, bce=0.02695, hard dice=0.62665, loss=0.40056, soft dice=0.62608]\n"
     ]
    },
    {
     "name": "stdout",
     "output_type": "stream",
     "text": [
      "soft dice: 0.75082 | loss: 0.26896 | hard dice: 0.75123 | bce: 0.01944\n"
     ]
    },
    {
     "name": "stderr",
     "output_type": "stream",
     "text": [
      "Epoch 111: 100% 2/2 [00:09<00:00,  4.55s/it, bce=0.02284, hard dice=0.62893, loss=0.45622, soft dice=0.62371]\n"
     ]
    },
    {
     "name": "stdout",
     "output_type": "stream",
     "text": [
      "soft dice: 0.75118 | loss: 0.27070 | hard dice: 0.75123 | bce: 0.02165\n"
     ]
    },
    {
     "name": "stderr",
     "output_type": "stream",
     "text": [
      "Epoch 112: 100% 2/2 [00:08<00:00,  4.16s/it, bce=0.02431, hard dice=0.81482, loss=0.21056, soft dice=0.81373]\n"
     ]
    },
    {
     "name": "stdout",
     "output_type": "stream",
     "text": [
      "soft dice: 0.75118 | loss: 0.27080 | hard dice: 0.75123 | bce: 0.02172\n"
     ]
    },
    {
     "name": "stderr",
     "output_type": "stream",
     "text": [
      "Epoch 113: 100% 2/2 [00:08<00:00,  4.37s/it, bce=0.02710, hard dice=0.68930, loss=0.33914, soft dice=0.68854]\n"
     ]
    },
    {
     "name": "stdout",
     "output_type": "stream",
     "text": [
      "soft dice: 0.75118 | loss: 0.27079 | hard dice: 0.75123 | bce: 0.02170\n"
     ]
    },
    {
     "name": "stderr",
     "output_type": "stream",
     "text": [
      "Epoch 114: 100% 2/2 [00:07<00:00,  3.96s/it, bce=0.02198, hard dice=0.88043, loss=0.14654, soft dice=0.88001]\n"
     ]
    },
    {
     "name": "stdout",
     "output_type": "stream",
     "text": [
      "soft dice: 0.75117 | loss: 0.27062 | hard dice: 0.75123 | bce: 0.02150\n"
     ]
    },
    {
     "name": "stderr",
     "output_type": "stream",
     "text": [
      "Epoch 115: 100% 2/2 [00:08<00:00,  4.14s/it, bce=0.03080, hard dice=0.56524, loss=0.46835, soft dice=0.56362]\n"
     ]
    },
    {
     "name": "stdout",
     "output_type": "stream",
     "text": [
      "soft dice: 0.75091 | loss: 0.26917 | hard dice: 0.75123 | bce: 0.01979\n"
     ]
    },
    {
     "name": "stderr",
     "output_type": "stream",
     "text": [
      "Epoch 116: 100% 2/2 [00:08<00:00,  4.15s/it, bce=0.03634, hard dice=0.62678, loss=0.41405, soft dice=0.62269]\n"
     ]
    },
    {
     "name": "stdout",
     "output_type": "stream",
     "text": [
      "soft dice: 0.75107 | loss: 0.26953 | hard dice: 0.75123 | bce: 0.02037\n"
     ]
    },
    {
     "name": "stderr",
     "output_type": "stream",
     "text": [
      "Epoch 117: 100% 2/2 [00:08<00:00,  4.37s/it, bce=0.02194, hard dice=0.87648, loss=0.14800, soft dice=0.87430]\n"
     ]
    },
    {
     "name": "stdout",
     "output_type": "stream",
     "text": [
      "soft dice: 0.75110 | loss: 0.26967 | hard dice: 0.75123 | bce: 0.02054\n"
     ]
    },
    {
     "name": "stderr",
     "output_type": "stream",
     "text": [
      "Epoch 118: 100% 2/2 [00:08<00:00,  4.35s/it, bce=0.03083, hard dice=0.75132, loss=0.28017, soft dice=0.75091]\n"
     ]
    },
    {
     "name": "stdout",
     "output_type": "stream",
     "text": [
      "soft dice: 0.75110 | loss: 0.26972 | hard dice: 0.75123 | bce: 0.02060\n"
     ]
    },
    {
     "name": "stderr",
     "output_type": "stream",
     "text": [
      "Epoch 119: 100% 2/2 [00:08<00:00,  4.18s/it, bce=0.03344, hard dice=0.50371, loss=0.53226, soft dice=0.50246]\n"
     ]
    },
    {
     "name": "stdout",
     "output_type": "stream",
     "text": [
      "soft dice: 0.75108 | loss: 0.26958 | hard dice: 0.75123 | bce: 0.02044\n"
     ]
    },
    {
     "name": "stderr",
     "output_type": "stream",
     "text": [
      "Epoch 120: 100% 2/2 [00:08<00:00,  4.26s/it, bce=0.03003, hard dice=0.62712, loss=0.40383, soft dice=0.62585]\n"
     ]
    },
    {
     "name": "stdout",
     "output_type": "stream",
     "text": [
      "soft dice: 0.75113 | loss: 0.26985 | hard dice: 0.75123 | bce: 0.02078\n"
     ]
    },
    {
     "name": "stderr",
     "output_type": "stream",
     "text": [
      "Epoch 121: 100% 2/2 [00:09<00:00,  4.53s/it, bce=0.02343, hard dice=0.68887, loss=0.33477, soft dice=0.68851]\n"
     ]
    },
    {
     "name": "stdout",
     "output_type": "stream",
     "text": [
      "soft dice: 0.75080 | loss: 0.26897 | hard dice: 0.75123 | bce: 0.01952\n"
     ]
    },
    {
     "name": "stderr",
     "output_type": "stream",
     "text": [
      "Epoch 122: 100% 2/2 [00:08<00:00,  4.37s/it, bce=0.03285, hard dice=0.68976, loss=0.34776, soft dice=0.68571]\n"
     ]
    },
    {
     "name": "stdout",
     "output_type": "stream",
     "text": [
      "soft dice: 0.75084 | loss: 0.26900 | hard dice: 0.75123 | bce: 0.01958\n"
     ]
    },
    {
     "name": "stderr",
     "output_type": "stream",
     "text": [
      "Epoch 123: 100% 2/2 [00:08<00:00,  4.47s/it, bce=0.03107, hard dice=0.62779, loss=0.40547, soft dice=0.62567]\n"
     ]
    },
    {
     "name": "stdout",
     "output_type": "stream",
     "text": [
      "soft dice: 0.75096 | loss: 0.26910 | hard dice: 0.75123 | bce: 0.01982\n"
     ]
    },
    {
     "name": "stderr",
     "output_type": "stream",
     "text": [
      "Epoch 124: 100% 2/2 [00:08<00:00,  4.02s/it, bce=0.02629, hard dice=0.31665, loss=0.71105, soft dice=0.31526]\n"
     ]
    },
    {
     "name": "stdout",
     "output_type": "stream",
     "text": [
      "soft dice: 0.75093 | loss: 0.26904 | hard dice: 0.75123 | bce: 0.01973\n"
     ]
    },
    {
     "name": "stderr",
     "output_type": "stream",
     "text": [
      "Epoch 125: 100% 2/2 [00:08<00:00,  4.42s/it, bce=0.02916, hard dice=0.62738, loss=0.40313, soft dice=0.62612]\n"
     ]
    },
    {
     "name": "stdout",
     "output_type": "stream",
     "text": [
      "soft dice: 0.75116 | loss: 0.27018 | hard dice: 0.75123 | bce: 0.02112\n"
     ]
    },
    {
     "name": "stderr",
     "output_type": "stream",
     "text": [
      "Epoch 126: 100% 2/2 [00:08<00:00,  4.17s/it, bce=0.02879, hard dice=0.75175, loss=0.33965, soft dice=0.75092]\n"
     ]
    },
    {
     "name": "stdout",
     "output_type": "stream",
     "text": [
      "soft dice: 0.75115 | loss: 0.27007 | hard dice: 0.75123 | bce: 0.02099\n"
     ]
    },
    {
     "name": "stderr",
     "output_type": "stream",
     "text": [
      "Epoch 127: 100% 2/2 [00:08<00:00,  4.37s/it, bce=0.02667, hard dice=0.62743, loss=0.40068, soft dice=0.62680]\n"
     ]
    },
    {
     "name": "stdout",
     "output_type": "stream",
     "text": [
      "soft dice: 0.75111 | loss: 0.26970 | hard dice: 0.75123 | bce: 0.02057\n"
     ]
    },
    {
     "name": "stderr",
     "output_type": "stream",
     "text": [
      "Epoch 128: 100% 2/2 [00:08<00:00,  4.35s/it, bce=0.03555, hard dice=0.44460, loss=0.59224, soft dice=0.44371]\n"
     ]
    },
    {
     "name": "stdout",
     "output_type": "stream",
     "text": [
      "soft dice: 0.75103 | loss: 0.26922 | hard dice: 0.75123 | bce: 0.02001\n"
     ]
    },
    {
     "name": "stderr",
     "output_type": "stream",
     "text": [
      "Epoch 129: 100% 2/2 [00:08<00:00,  4.29s/it, bce=0.02361, hard dice=0.69000, loss=0.33461, soft dice=0.68848]\n"
     ]
    },
    {
     "name": "stdout",
     "output_type": "stream",
     "text": [
      "soft dice: 0.75101 | loss: 0.26909 | hard dice: 0.75123 | bce: 0.01985\n"
     ]
    },
    {
     "name": "stderr",
     "output_type": "stream",
     "text": [
      "Epoch 130: 100% 2/2 [00:08<00:00,  4.05s/it, bce=0.03148, hard dice=0.31536, loss=0.72056, soft dice=0.31176]\n"
     ]
    },
    {
     "name": "stdout",
     "output_type": "stream",
     "text": [
      "soft dice: 0.74865 | loss: 0.26958 | hard dice: 0.75123 | bce: 0.01794\n"
     ]
    },
    {
     "name": "stderr",
     "output_type": "stream",
     "text": [
      "Epoch 131: 100% 2/2 [00:08<00:00,  4.04s/it, bce=0.02352, hard dice=0.75151, loss=0.27593, soft dice=0.74787]\n"
     ]
    },
    {
     "name": "stdout",
     "output_type": "stream",
     "text": [
      "soft dice: 0.75120 | loss: 0.27121 | hard dice: 0.75123 | bce: 0.02228\n"
     ]
    },
    {
     "name": "stderr",
     "output_type": "stream",
     "text": [
      "Epoch 132: 100% 2/2 [00:08<00:00,  4.08s/it, bce=0.03163, hard dice=0.50228, loss=0.53086, soft dice=0.50193]\n"
     ]
    },
    {
     "name": "stdout",
     "output_type": "stream",
     "text": [
      "soft dice: 0.75120 | loss: 0.27097 | hard dice: 0.75123 | bce: 0.02203\n"
     ]
    },
    {
     "name": "stderr",
     "output_type": "stream",
     "text": [
      "Epoch 133: 100% 2/2 [00:08<00:00,  4.29s/it, bce=0.02240, hard dice=0.50396, loss=0.51875, soft dice=0.50385]\n"
     ]
    },
    {
     "name": "stdout",
     "output_type": "stream",
     "text": [
      "soft dice: 0.75119 | loss: 0.27041 | hard dice: 0.75123 | bce: 0.02145\n"
     ]
    },
    {
     "name": "stderr",
     "output_type": "stream",
     "text": [
      "Epoch 134: 100% 2/2 [00:09<00:00,  4.56s/it, bce=0.01918, hard dice=0.69122, loss=0.32841, soft dice=0.69086]\n"
     ]
    },
    {
     "name": "stdout",
     "output_type": "stream",
     "text": [
      "soft dice: 0.75118 | loss: 0.27024 | hard dice: 0.75123 | bce: 0.02127\n"
     ]
    },
    {
     "name": "stderr",
     "output_type": "stream",
     "text": [
      "Epoch 135: 100% 2/2 [00:08<00:00,  4.11s/it, bce=0.02389, hard dice=0.81464, loss=0.21565, soft dice=0.80829]\n"
     ]
    },
    {
     "name": "stdout",
     "output_type": "stream",
     "text": [
      "soft dice: 0.75109 | loss: 0.27089 | hard dice: 0.75123 | bce: 0.02182\n"
     ]
    },
    {
     "name": "stderr",
     "output_type": "stream",
     "text": [
      "Epoch 136: 100% 2/2 [00:08<00:00,  4.33s/it, bce=0.02969, hard dice=0.56496, loss=0.46610, soft dice=0.56439]\n"
     ]
    },
    {
     "name": "stdout",
     "output_type": "stream",
     "text": [
      "soft dice: 0.75122 | loss: 0.27566 | hard dice: 0.75123 | bce: 0.02643\n"
     ]
    },
    {
     "name": "stderr",
     "output_type": "stream",
     "text": [
      "Epoch 137: 100% 2/2 [00:08<00:00,  4.30s/it, bce=0.01972, hard dice=0.62826, loss=0.39218, soft dice=0.62819]\n"
     ]
    },
    {
     "name": "stdout",
     "output_type": "stream",
     "text": [
      "soft dice: 0.75122 | loss: 0.27464 | hard dice: 0.75123 | bce: 0.02555\n"
     ]
    },
    {
     "name": "stderr",
     "output_type": "stream",
     "text": [
      "Epoch 138: 100% 2/2 [00:08<00:00,  4.39s/it, bce=0.03675, hard dice=0.68942, loss=0.34808, soft dice=0.68933]\n"
     ]
    },
    {
     "name": "stdout",
     "output_type": "stream",
     "text": [
      "soft dice: 0.75121 | loss: 0.27367 | hard dice: 0.75123 | bce: 0.02459\n"
     ]
    },
    {
     "name": "stderr",
     "output_type": "stream",
     "text": [
      "Epoch 139: 100% 2/2 [00:08<00:00,  4.26s/it, bce=0.02146, hard dice=0.81635, loss=0.20532, soft dice=0.81620]\n"
     ]
    },
    {
     "name": "stdout",
     "output_type": "stream",
     "text": [
      "soft dice: 0.75120 | loss: 0.27317 | hard dice: 0.75123 | bce: 0.02411\n"
     ]
    },
    {
     "name": "stderr",
     "output_type": "stream",
     "text": [
      "Epoch 140: 100% 2/2 [00:08<00:00,  4.08s/it, bce=0.02597, hard dice=0.56511, loss=0.46583, soft dice=0.56093]\n"
     ]
    },
    {
     "name": "stdout",
     "output_type": "stream",
     "text": [
      "soft dice: 0.74906 | loss: 0.27047 | hard dice: 0.75123 | bce: 0.01914\n"
     ]
    },
    {
     "name": "stderr",
     "output_type": "stream",
     "text": [
      "Epoch 141: 100% 2/2 [00:08<00:00,  4.17s/it, bce=0.03399, hard dice=0.62807, loss=0.40995, soft dice=0.62378]\n"
     ]
    },
    {
     "name": "stdout",
     "output_type": "stream",
     "text": [
      "soft dice: 0.75121 | loss: 0.27181 | hard dice: 0.75123 | bce: 0.02284\n"
     ]
    },
    {
     "name": "stderr",
     "output_type": "stream",
     "text": [
      "Epoch 142: 100% 2/2 [00:08<00:00,  4.31s/it, bce=0.03585, hard dice=0.81382, loss=0.22204, soft dice=0.81359]\n"
     ]
    },
    {
     "name": "stdout",
     "output_type": "stream",
     "text": [
      "soft dice: 0.75121 | loss: 0.27166 | hard dice: 0.75123 | bce: 0.02267\n"
     ]
    },
    {
     "name": "stderr",
     "output_type": "stream",
     "text": [
      "Epoch 143: 100% 2/2 [00:08<00:00,  4.30s/it, bce=0.03668, hard dice=0.68908, loss=0.34793, soft dice=0.68886]\n"
     ]
    },
    {
     "name": "stdout",
     "output_type": "stream",
     "text": [
      "soft dice: 0.75120 | loss: 0.27110 | hard dice: 0.75123 | bce: 0.02209\n"
     ]
    },
    {
     "name": "stderr",
     "output_type": "stream",
     "text": [
      "Epoch 144: 100% 2/2 [00:08<00:00,  4.39s/it, bce=0.02351, hard dice=0.69111, loss=0.33224, soft dice=0.69077]\n"
     ]
    },
    {
     "name": "stdout",
     "output_type": "stream",
     "text": [
      "soft dice: 0.75119 | loss: 0.27094 | hard dice: 0.75123 | bce: 0.02192\n"
     ]
    },
    {
     "name": "stderr",
     "output_type": "stream",
     "text": [
      "Epoch 145: 100% 2/2 [00:08<00:00,  4.14s/it, bce=0.02658, hard dice=0.62745, loss=0.40297, soft dice=0.62383]\n"
     ]
    },
    {
     "name": "stdout",
     "output_type": "stream",
     "text": [
      "soft dice: 0.74959 | loss: 0.26888 | hard dice: 0.75123 | bce: 0.01822\n"
     ]
    },
    {
     "name": "stderr",
     "output_type": "stream",
     "text": [
      "Epoch 146: 100% 2/2 [00:08<00:00,  4.24s/it, bce=0.03008, hard dice=0.75115, loss=0.28494, soft dice=0.74549]\n"
     ]
    },
    {
     "name": "stdout",
     "output_type": "stream",
     "text": [
      "soft dice: 0.75122 | loss: 0.27267 | hard dice: 0.75123 | bce: 0.02374\n"
     ]
    },
    {
     "name": "stderr",
     "output_type": "stream",
     "text": [
      "Epoch 147: 100% 2/2 [00:09<00:00,  4.53s/it, bce=0.03645, hard dice=0.69006, loss=0.34659, soft dice=0.69004]\n"
     ]
    },
    {
     "name": "stdout",
     "output_type": "stream",
     "text": [
      "soft dice: 0.75122 | loss: 0.27257 | hard dice: 0.75123 | bce: 0.02364\n"
     ]
    },
    {
     "name": "stderr",
     "output_type": "stream",
     "text": [
      "Epoch 148: 100% 2/2 [00:08<00:00,  4.24s/it, bce=0.04241, hard dice=0.68983, loss=0.35301, soft dice=0.68981]\n"
     ]
    },
    {
     "name": "stdout",
     "output_type": "stream",
     "text": [
      "soft dice: 0.75122 | loss: 0.27200 | hard dice: 0.75123 | bce: 0.02307\n"
     ]
    },
    {
     "name": "stderr",
     "output_type": "stream",
     "text": [
      "Epoch 149: 100% 2/2 [00:08<00:00,  4.25s/it, bce=0.04542, hard dice=0.56638, loss=0.48016, soft dice=0.56635]\n"
     ]
    },
    {
     "name": "stdout",
     "output_type": "stream",
     "text": [
      "soft dice: 0.75122 | loss: 0.27187 | hard dice: 0.75123 | bce: 0.02293\n",
      "Finished train fold: 3 with best loss 0.26888 on epoch 145\n",
      "\n"
     ]
    },
    {
     "name": "stderr",
     "output_type": "stream",
     "text": [
      "Epoch 0: 100% 2/2 [00:08<00:00,  4.07s/it, bce=0.35126, hard dice=0.19005, loss=1.34915, soft dice=0.00244]\n"
     ]
    },
    {
     "name": "stdout",
     "output_type": "stream",
     "text": [
      "soft dice: 0.00243 | loss: 1.02957 | hard dice: 0.71825 | bce: 0.02712\n"
     ]
    },
    {
     "name": "stderr",
     "output_type": "stream",
     "text": [
      "Epoch 1: 100% 2/2 [00:08<00:00,  4.25s/it, bce=0.01516, hard dice=0.93830, loss=0.50853, soft dice=0.59526]\n"
     ]
    },
    {
     "name": "stdout",
     "output_type": "stream",
     "text": [
      "soft dice: 0.71825 | loss: 7.28616 | hard dice: 0.71825 | bce: 0.03847\n"
     ]
    },
    {
     "name": "stderr",
     "output_type": "stream",
     "text": [
      "Epoch 2: 100% 2/2 [00:07<00:00,  3.97s/it, bce=0.03365, hard dice=0.56597, loss=0.52652, soft dice=0.56597]\n"
     ]
    },
    {
     "name": "stdout",
     "output_type": "stream",
     "text": [
      "soft dice: 0.71825 | loss: 980.12350 | hard dice: 0.71825 | bce: 0.03847\n"
     ]
    },
    {
     "name": "stderr",
     "output_type": "stream",
     "text": [
      "Epoch 3: 100% 2/2 [00:08<00:00,  4.15s/it, bce=0.03092, hard dice=0.87624, loss=0.26645, soft dice=0.87624]\n"
     ]
    },
    {
     "name": "stdout",
     "output_type": "stream",
     "text": [
      "soft dice: 0.71825 | loss: 277.82220 | hard dice: 0.71825 | bce: 0.03847\n"
     ]
    },
    {
     "name": "stderr",
     "output_type": "stream",
     "text": [
      "Epoch 4: 100% 2/2 [00:08<00:00,  4.14s/it, bce=0.03686, hard dice=0.75132, loss=0.30805, soft dice=0.75132]\n"
     ]
    },
    {
     "name": "stdout",
     "output_type": "stream",
     "text": [
      "soft dice: 0.71825 | loss: 68.86714 | hard dice: 0.71825 | bce: 0.03847\n"
     ]
    },
    {
     "name": "stderr",
     "output_type": "stream",
     "text": [
      "Epoch 5: 100% 2/2 [00:08<00:00,  4.42s/it, bce=0.02744, hard dice=0.75234, loss=0.28629, soft dice=0.75108]\n"
     ]
    },
    {
     "name": "stdout",
     "output_type": "stream",
     "text": [
      "soft dice: 0.71825 | loss: 4.04175 | hard dice: 0.71825 | bce: 0.03847\n"
     ]
    },
    {
     "name": "stderr",
     "output_type": "stream",
     "text": [
      "Epoch 6: 100% 2/2 [00:09<00:00,  4.82s/it, bce=0.03368, hard dice=0.68876, loss=0.34886, soft dice=0.68875]\n"
     ]
    },
    {
     "name": "stdout",
     "output_type": "stream",
     "text": [
      "soft dice: 0.71825 | loss: 5.10690 | hard dice: 0.71825 | bce: 0.03847\n"
     ]
    },
    {
     "name": "stderr",
     "output_type": "stream",
     "text": [
      "Epoch 7: 100% 2/2 [00:08<00:00,  4.43s/it, bce=0.03172, hard dice=0.75093, loss=0.32200, soft dice=0.74664]\n"
     ]
    },
    {
     "name": "stdout",
     "output_type": "stream",
     "text": [
      "soft dice: 0.71825 | loss: 2.83372 | hard dice: 0.71825 | bce: 0.03847\n"
     ]
    },
    {
     "name": "stderr",
     "output_type": "stream",
     "text": [
      "Epoch 8: 100% 2/2 [00:09<00:00,  4.50s/it, bce=0.01801, hard dice=0.81462, loss=0.22096, soft dice=0.79993]\n"
     ]
    },
    {
     "name": "stdout",
     "output_type": "stream",
     "text": [
      "soft dice: 0.71825 | loss: 5.89256 | hard dice: 0.71825 | bce: 0.03847\n"
     ]
    },
    {
     "name": "stderr",
     "output_type": "stream",
     "text": [
      "Epoch 9: 100% 2/2 [00:08<00:00,  4.31s/it, bce=0.04422, hard dice=0.50274, loss=0.56323, soft dice=0.50274]\n"
     ]
    },
    {
     "name": "stdout",
     "output_type": "stream",
     "text": [
      "soft dice: 0.71825 | loss: 3.03672 | hard dice: 0.71825 | bce: 0.03847\n"
     ]
    },
    {
     "name": "stderr",
     "output_type": "stream",
     "text": [
      "Epoch 10: 100% 2/2 [00:08<00:00,  4.37s/it, bce=0.03355, hard dice=0.63136, loss=0.48012, soft dice=0.63136]\n"
     ]
    },
    {
     "name": "stdout",
     "output_type": "stream",
     "text": [
      "soft dice: 0.71825 | loss: 2.47694 | hard dice: 0.71825 | bce: 0.03847\n"
     ]
    },
    {
     "name": "stderr",
     "output_type": "stream",
     "text": [
      "Epoch 11: 100% 2/2 [00:08<00:00,  4.04s/it, bce=0.02879, hard dice=0.93907, loss=0.09524, soft dice=0.93907]\n"
     ]
    },
    {
     "name": "stdout",
     "output_type": "stream",
     "text": [
      "soft dice: 0.71825 | loss: 2.94981 | hard dice: 0.71825 | bce: 0.03847\n"
     ]
    },
    {
     "name": "stderr",
     "output_type": "stream",
     "text": [
      "Epoch 12: 100% 2/2 [00:08<00:00,  4.35s/it, bce=0.02638, hard dice=0.69080, loss=0.33834, soft dice=0.69076]\n"
     ]
    },
    {
     "name": "stdout",
     "output_type": "stream",
     "text": [
      "soft dice: 0.71825 | loss: 0.40841 | hard dice: 0.71825 | bce: 0.03841\n"
     ]
    },
    {
     "name": "stderr",
     "output_type": "stream",
     "text": [
      "Epoch 13: 100% 2/2 [00:08<00:00,  4.32s/it, bce=0.02883, hard dice=0.69265, loss=0.33970, soft dice=0.69264]\n"
     ]
    },
    {
     "name": "stdout",
     "output_type": "stream",
     "text": [
      "soft dice: 0.71825 | loss: 0.34602 | hard dice: 0.71825 | bce: 0.03780\n"
     ]
    },
    {
     "name": "stderr",
     "output_type": "stream",
     "text": [
      "Epoch 14: 100% 2/2 [00:08<00:00,  4.10s/it, bce=0.03192, hard dice=0.62752, loss=0.46605, soft dice=0.62717]\n"
     ]
    },
    {
     "name": "stdout",
     "output_type": "stream",
     "text": [
      "soft dice: 0.71825 | loss: 0.33454 | hard dice: 0.71825 | bce: 0.03545\n"
     ]
    },
    {
     "name": "stderr",
     "output_type": "stream",
     "text": [
      "Epoch 15: 100% 2/2 [00:08<00:00,  4.31s/it, bce=0.03641, hard dice=0.81313, loss=0.22528, soft dice=0.81310]\n"
     ]
    },
    {
     "name": "stdout",
     "output_type": "stream",
     "text": [
      "soft dice: 0.71825 | loss: 0.33241 | hard dice: 0.71825 | bce: 0.03379\n"
     ]
    },
    {
     "name": "stderr",
     "output_type": "stream",
     "text": [
      "Epoch 16: 100% 2/2 [00:08<00:00,  4.22s/it, bce=0.01932, hard dice=0.87585, loss=0.14393, soft dice=0.87579]\n"
     ]
    },
    {
     "name": "stdout",
     "output_type": "stream",
     "text": [
      "soft dice: 0.71824 | loss: 0.33058 | hard dice: 0.71825 | bce: 0.03217\n"
     ]
    },
    {
     "name": "stderr",
     "output_type": "stream",
     "text": [
      "Epoch 17: 100% 2/2 [00:08<00:00,  4.24s/it, bce=0.03062, hard dice=0.87609, loss=0.15614, soft dice=0.87599]\n"
     ]
    },
    {
     "name": "stdout",
     "output_type": "stream",
     "text": [
      "soft dice: 0.71821 | loss: 0.32901 | hard dice: 0.71825 | bce: 0.03044\n"
     ]
    },
    {
     "name": "stderr",
     "output_type": "stream",
     "text": [
      "Epoch 18: 100% 2/2 [00:08<00:00,  4.50s/it, bce=0.01938, hard dice=0.69021, loss=0.33550, soft dice=0.68919]\n"
     ]
    },
    {
     "name": "stdout",
     "output_type": "stream",
     "text": [
      "soft dice: 0.71811 | loss: 0.32769 | hard dice: 0.71825 | bce: 0.02901\n"
     ]
    },
    {
     "name": "stderr",
     "output_type": "stream",
     "text": [
      "Epoch 19: 100% 2/2 [00:08<00:00,  4.32s/it, bce=0.02015, hard dice=0.87655, loss=0.15049, soft dice=0.87092]\n"
     ]
    },
    {
     "name": "stdout",
     "output_type": "stream",
     "text": [
      "soft dice: 0.71798 | loss: 0.32682 | hard dice: 0.71825 | bce: 0.02811\n"
     ]
    },
    {
     "name": "stderr",
     "output_type": "stream",
     "text": [
      "Epoch 20: 100% 2/2 [00:08<00:00,  4.39s/it, bce=0.02440, hard dice=0.50538, loss=0.52586, soft dice=0.50239]\n"
     ]
    },
    {
     "name": "stdout",
     "output_type": "stream",
     "text": [
      "soft dice: 0.71804 | loss: 0.32689 | hard dice: 0.71825 | bce: 0.02833\n"
     ]
    },
    {
     "name": "stderr",
     "output_type": "stream",
     "text": [
      "Epoch 21: 100% 2/2 [00:08<00:00,  4.29s/it, bce=0.02189, hard dice=0.62778, loss=0.45933, soft dice=0.62575]\n"
     ]
    },
    {
     "name": "stdout",
     "output_type": "stream",
     "text": [
      "soft dice: 0.71817 | loss: 0.32771 | hard dice: 0.71825 | bce: 0.02931\n"
     ]
    },
    {
     "name": "stderr",
     "output_type": "stream",
     "text": [
      "Epoch 22: 100% 2/2 [00:08<00:00,  4.10s/it, bce=0.02444, hard dice=1.00000, loss=0.02524, soft dice=1.00000]\n"
     ]
    },
    {
     "name": "stdout",
     "output_type": "stream",
     "text": [
      "soft dice: 0.71818 | loss: 0.32784 | hard dice: 0.71825 | bce: 0.02942\n"
     ]
    },
    {
     "name": "stderr",
     "output_type": "stream",
     "text": [
      "Epoch 23: 100% 2/2 [00:08<00:00,  4.39s/it, bce=0.03648, hard dice=0.75203, loss=0.28530, soft dice=0.75142]\n"
     ]
    },
    {
     "name": "stdout",
     "output_type": "stream",
     "text": [
      "soft dice: 0.71817 | loss: 0.32778 | hard dice: 0.71825 | bce: 0.02928\n"
     ]
    },
    {
     "name": "stderr",
     "output_type": "stream",
     "text": [
      "Epoch 24: 100% 2/2 [00:08<00:00,  4.24s/it, bce=0.02805, hard dice=0.87585, loss=0.16028, soft dice=0.87532]\n"
     ]
    },
    {
     "name": "stdout",
     "output_type": "stream",
     "text": [
      "soft dice: 0.71816 | loss: 0.32763 | hard dice: 0.71825 | bce: 0.02910\n"
     ]
    },
    {
     "name": "stderr",
     "output_type": "stream",
     "text": [
      "Epoch 25: 100% 2/2 [00:08<00:00,  4.10s/it, bce=0.02913, hard dice=0.62780, loss=0.40241, soft dice=0.62738]\n"
     ]
    },
    {
     "name": "stdout",
     "output_type": "stream",
     "text": [
      "soft dice: 0.71815 | loss: 0.32755 | hard dice: 0.71825 | bce: 0.02901\n"
     ]
    },
    {
     "name": "stderr",
     "output_type": "stream",
     "text": [
      "Epoch 26: 100% 2/2 [00:08<00:00,  4.31s/it, bce=0.02730, hard dice=0.56557, loss=0.46340, soft dice=0.56528]\n"
     ]
    },
    {
     "name": "stdout",
     "output_type": "stream",
     "text": [
      "soft dice: 0.71813 | loss: 0.32732 | hard dice: 0.71825 | bce: 0.02875\n"
     ]
    },
    {
     "name": "stderr",
     "output_type": "stream",
     "text": [
      "Epoch 27: 100% 2/2 [00:08<00:00,  4.10s/it, bce=0.02506, hard dice=0.62807, loss=0.39828, soft dice=0.62736]\n"
     ]
    },
    {
     "name": "stdout",
     "output_type": "stream",
     "text": [
      "soft dice: 0.71811 | loss: 0.32708 | hard dice: 0.71825 | bce: 0.02849\n"
     ]
    },
    {
     "name": "stderr",
     "output_type": "stream",
     "text": [
      "Epoch 28: 100% 2/2 [00:08<00:00,  4.03s/it, bce=0.01949, hard dice=0.75319, loss=0.26916, soft dice=0.75146]\n"
     ]
    },
    {
     "name": "stdout",
     "output_type": "stream",
     "text": [
      "soft dice: 0.71805 | loss: 0.32667 | hard dice: 0.71825 | bce: 0.02801\n"
     ]
    },
    {
     "name": "stderr",
     "output_type": "stream",
     "text": [
      "Epoch 29: 100% 2/2 [00:08<00:00,  4.15s/it, bce=0.01818, hard dice=0.93913, loss=0.08097, soft dice=0.93843]\n"
     ]
    },
    {
     "name": "stdout",
     "output_type": "stream",
     "text": [
      "soft dice: 0.71803 | loss: 0.32653 | hard dice: 0.71825 | bce: 0.02787\n",
      "Starting cyclic lr\n"
     ]
    },
    {
     "name": "stderr",
     "output_type": "stream",
     "text": [
      "Epoch 30: 100% 2/2 [00:08<00:00,  4.15s/it, bce=0.02909, hard dice=0.81382, loss=0.21715, soft dice=0.81329]\n"
     ]
    },
    {
     "name": "stdout",
     "output_type": "stream",
     "text": [
      "soft dice: 0.71825 | loss: 0.36871 | hard dice: 0.71825 | bce: 0.03345\n"
     ]
    },
    {
     "name": "stderr",
     "output_type": "stream",
     "text": [
      "Epoch 31: 100% 2/2 [00:08<00:00,  4.19s/it, bce=0.03491, hard dice=0.75229, loss=0.30762, soft dice=0.75229]\n"
     ]
    },
    {
     "name": "stdout",
     "output_type": "stream",
     "text": [
      "soft dice: 0.71825 | loss: 0.35510 | hard dice: 0.71825 | bce: 0.03847\n"
     ]
    },
    {
     "name": "stderr",
     "output_type": "stream",
     "text": [
      "Epoch 32: 100% 2/2 [00:08<00:00,  4.43s/it, bce=0.03439, hard dice=0.75168, loss=0.29751, soft dice=0.75168]\n"
     ]
    },
    {
     "name": "stdout",
     "output_type": "stream",
     "text": [
      "soft dice: 0.71825 | loss: 0.34792 | hard dice: 0.71825 | bce: 0.03847\n"
     ]
    },
    {
     "name": "stderr",
     "output_type": "stream",
     "text": [
      "Epoch 33: 100% 2/2 [00:08<00:00,  4.32s/it, bce=0.02775, hard dice=0.81385, loss=0.22765, soft dice=0.81385]\n"
     ]
    },
    {
     "name": "stdout",
     "output_type": "stream",
     "text": [
      "soft dice: 0.71825 | loss: 0.34698 | hard dice: 0.71825 | bce: 0.03847\n"
     ]
    },
    {
     "name": "stderr",
     "output_type": "stream",
     "text": [
      "Epoch 34: 100% 2/2 [00:08<00:00,  4.45s/it, bce=0.04622, hard dice=0.81367, loss=0.25536, soft dice=0.81367]\n"
     ]
    },
    {
     "name": "stdout",
     "output_type": "stream",
     "text": [
      "soft dice: 0.71825 | loss: 0.34730 | hard dice: 0.71825 | bce: 0.03847\n"
     ]
    },
    {
     "name": "stderr",
     "output_type": "stream",
     "text": [
      "Epoch 35: 100% 2/2 [00:08<00:00,  4.37s/it, bce=0.04778, hard dice=0.68949, loss=0.36627, soft dice=0.68932]\n"
     ]
    },
    {
     "name": "stdout",
     "output_type": "stream",
     "text": [
      "soft dice: 0.71782 | loss: 0.32808 | hard dice: 0.71825 | bce: 0.02892\n"
     ]
    },
    {
     "name": "stderr",
     "output_type": "stream",
     "text": [
      "Epoch 36: 100% 2/2 [00:08<00:00,  4.33s/it, bce=0.02859, hard dice=0.87638, loss=0.16863, soft dice=0.86276]\n"
     ]
    },
    {
     "name": "stdout",
     "output_type": "stream",
     "text": [
      "soft dice: 0.71825 | loss: 0.36115 | hard dice: 0.71825 | bce: 0.03797\n"
     ]
    },
    {
     "name": "stderr",
     "output_type": "stream",
     "text": [
      "Epoch 37: 100% 2/2 [00:09<00:00,  4.60s/it, bce=0.01902, hard dice=1.00000, loss=0.01968, soft dice=1.00000]\n"
     ]
    },
    {
     "name": "stdout",
     "output_type": "stream",
     "text": [
      "soft dice: 0.71825 | loss: 0.34258 | hard dice: 0.71825 | bce: 0.03766\n"
     ]
    },
    {
     "name": "stderr",
     "output_type": "stream",
     "text": [
      "Epoch 38: 100% 2/2 [00:08<00:00,  4.25s/it, bce=0.04129, hard dice=0.50313, loss=0.53984, soft dice=0.50312]\n"
     ]
    },
    {
     "name": "stdout",
     "output_type": "stream",
     "text": [
      "soft dice: 0.71825 | loss: 0.33699 | hard dice: 0.71825 | bce: 0.03687\n"
     ]
    },
    {
     "name": "stderr",
     "output_type": "stream",
     "text": [
      "Epoch 39: 100% 2/2 [00:08<00:00,  4.49s/it, bce=0.03769, hard dice=0.62748, loss=0.41148, soft dice=0.62746]\n"
     ]
    },
    {
     "name": "stdout",
     "output_type": "stream",
     "text": [
      "soft dice: 0.71825 | loss: 0.33516 | hard dice: 0.71825 | bce: 0.03595\n"
     ]
    },
    {
     "name": "stderr",
     "output_type": "stream",
     "text": [
      "Epoch 40: 100% 2/2 [00:09<00:00,  4.56s/it, bce=0.04234, hard dice=0.62723, loss=0.41793, soft dice=0.62654]\n"
     ]
    },
    {
     "name": "stdout",
     "output_type": "stream",
     "text": [
      "soft dice: 0.71816 | loss: 0.32849 | hard dice: 0.71825 | bce: 0.02962\n"
     ]
    },
    {
     "name": "stderr",
     "output_type": "stream",
     "text": [
      "Epoch 41: 100% 2/2 [00:08<00:00,  4.01s/it, bce=0.01951, hard dice=0.56612, loss=0.46209, soft dice=0.55895]\n"
     ]
    },
    {
     "name": "stdout",
     "output_type": "stream",
     "text": [
      "soft dice: 0.71818 | loss: 0.32880 | hard dice: 0.71825 | bce: 0.02957\n"
     ]
    },
    {
     "name": "stderr",
     "output_type": "stream",
     "text": [
      "Epoch 42: 100% 2/2 [00:08<00:00,  4.01s/it, bce=0.01340, hard dice=0.75788, loss=0.26112, soft dice=0.75747]\n"
     ]
    },
    {
     "name": "stdout",
     "output_type": "stream",
     "text": [
      "soft dice: 0.71814 | loss: 0.32720 | hard dice: 0.71825 | bce: 0.02883\n"
     ]
    },
    {
     "name": "stderr",
     "output_type": "stream",
     "text": [
      "Epoch 43: 100% 2/2 [00:07<00:00,  3.99s/it, bce=0.02644, hard dice=0.68972, loss=0.39983, soft dice=0.68901]\n"
     ]
    },
    {
     "name": "stdout",
     "output_type": "stream",
     "text": [
      "soft dice: 0.71813 | loss: 0.32687 | hard dice: 0.71825 | bce: 0.02869\n"
     ]
    },
    {
     "name": "stderr",
     "output_type": "stream",
     "text": [
      "Epoch 44: 100% 2/2 [00:08<00:00,  4.40s/it, bce=0.03163, hard dice=0.68959, loss=0.34374, soft dice=0.68843]\n"
     ]
    },
    {
     "name": "stdout",
     "output_type": "stream",
     "text": [
      "soft dice: 0.71808 | loss: 0.32637 | hard dice: 0.71825 | bce: 0.02812\n"
     ]
    },
    {
     "name": "stderr",
     "output_type": "stream",
     "text": [
      "Epoch 45: 100% 2/2 [00:08<00:00,  4.29s/it, bce=0.01505, hard dice=0.93869, loss=0.13129, soft dice=0.93847]\n"
     ]
    },
    {
     "name": "stdout",
     "output_type": "stream",
     "text": [
      "soft dice: 0.71818 | loss: 0.32738 | hard dice: 0.71825 | bce: 0.02932\n"
     ]
    },
    {
     "name": "stderr",
     "output_type": "stream",
     "text": [
      "Epoch 46: 100% 2/2 [00:08<00:00,  4.40s/it, bce=0.03281, hard dice=0.56441, loss=0.47097, soft dice=0.56310]\n"
     ]
    },
    {
     "name": "stdout",
     "output_type": "stream",
     "text": [
      "soft dice: 0.71799 | loss: 0.32593 | hard dice: 0.71825 | bce: 0.02767\n"
     ]
    },
    {
     "name": "stderr",
     "output_type": "stream",
     "text": [
      "Epoch 47: 100% 2/2 [00:08<00:00,  4.30s/it, bce=0.01633, hard dice=0.62805, loss=0.39191, soft dice=0.62474]\n"
     ]
    },
    {
     "name": "stdout",
     "output_type": "stream",
     "text": [
      "soft dice: 0.71795 | loss: 0.32574 | hard dice: 0.71825 | bce: 0.02741\n"
     ]
    },
    {
     "name": "stderr",
     "output_type": "stream",
     "text": [
      "Epoch 48: 100% 2/2 [00:08<00:00,  4.33s/it, bce=0.02413, hard dice=0.68964, loss=0.39753, soft dice=0.68791]\n"
     ]
    },
    {
     "name": "stdout",
     "output_type": "stream",
     "text": [
      "soft dice: 0.71797 | loss: 0.32582 | hard dice: 0.71825 | bce: 0.02749\n"
     ]
    },
    {
     "name": "stderr",
     "output_type": "stream",
     "text": [
      "Epoch 49: 100% 2/2 [00:08<00:00,  4.05s/it, bce=0.02266, hard dice=0.62782, loss=0.39734, soft dice=0.62671]\n"
     ]
    },
    {
     "name": "stdout",
     "output_type": "stream",
     "text": [
      "soft dice: 0.71789 | loss: 0.32558 | hard dice: 0.71825 | bce: 0.02717\n"
     ]
    },
    {
     "name": "stderr",
     "output_type": "stream",
     "text": [
      "Epoch 50: 100% 2/2 [00:08<00:00,  4.36s/it, bce=0.03643, hard dice=0.62712, loss=0.47261, soft dice=0.62583]\n"
     ]
    },
    {
     "name": "stdout",
     "output_type": "stream",
     "text": [
      "soft dice: 0.71782 | loss: 0.32537 | hard dice: 0.71825 | bce: 0.02694\n"
     ]
    },
    {
     "name": "stderr",
     "output_type": "stream",
     "text": [
      "Epoch 51: 100% 2/2 [00:08<00:00,  4.45s/it, bce=0.02301, hard dice=0.69070, loss=0.33614, soft dice=0.68760]\n"
     ]
    },
    {
     "name": "stdout",
     "output_type": "stream",
     "text": [
      "soft dice: 0.71805 | loss: 0.32619 | hard dice: 0.71825 | bce: 0.02802\n"
     ]
    },
    {
     "name": "stderr",
     "output_type": "stream",
     "text": [
      "Epoch 52: 100% 2/2 [00:08<00:00,  4.49s/it, bce=0.02111, hard dice=0.68872, loss=0.38637, soft dice=0.68824]\n"
     ]
    },
    {
     "name": "stdout",
     "output_type": "stream",
     "text": [
      "soft dice: 0.71799 | loss: 0.32602 | hard dice: 0.71825 | bce: 0.02781\n"
     ]
    },
    {
     "name": "stderr",
     "output_type": "stream",
     "text": [
      "Epoch 53: 100% 2/2 [00:08<00:00,  4.41s/it, bce=0.03267, hard dice=0.75211, loss=0.28170, soft dice=0.75055]\n"
     ]
    },
    {
     "name": "stdout",
     "output_type": "stream",
     "text": [
      "soft dice: 0.71792 | loss: 0.32580 | hard dice: 0.71825 | bce: 0.02752\n"
     ]
    },
    {
     "name": "stderr",
     "output_type": "stream",
     "text": [
      "Epoch 54: 100% 2/2 [00:08<00:00,  4.35s/it, bce=0.03153, hard dice=0.50224, loss=0.53070, soft dice=0.50089]\n"
     ]
    },
    {
     "name": "stdout",
     "output_type": "stream",
     "text": [
      "soft dice: 0.71781 | loss: 0.32554 | hard dice: 0.71825 | bce: 0.02715\n"
     ]
    },
    {
     "name": "stderr",
     "output_type": "stream",
     "text": [
      "Epoch 55: 100% 2/2 [00:08<00:00,  4.26s/it, bce=0.02577, hard dice=0.69038, loss=0.33688, soft dice=0.68916]\n"
     ]
    },
    {
     "name": "stdout",
     "output_type": "stream",
     "text": [
      "soft dice: 0.71798 | loss: 0.32593 | hard dice: 0.71825 | bce: 0.02772\n"
     ]
    },
    {
     "name": "stderr",
     "output_type": "stream",
     "text": [
      "Epoch 56: 100% 2/2 [00:08<00:00,  4.13s/it, bce=0.04049, hard dice=0.62701, loss=0.41896, soft dice=0.62249]\n"
     ]
    },
    {
     "name": "stdout",
     "output_type": "stream",
     "text": [
      "soft dice: 0.71788 | loss: 0.32549 | hard dice: 0.71825 | bce: 0.02718\n"
     ]
    },
    {
     "name": "stderr",
     "output_type": "stream",
     "text": [
      "Epoch 57: 100% 2/2 [00:08<00:00,  4.14s/it, bce=0.02171, hard dice=0.68988, loss=0.33596, soft dice=0.68608]\n"
     ]
    },
    {
     "name": "stdout",
     "output_type": "stream",
     "text": [
      "soft dice: 0.71789 | loss: 0.32557 | hard dice: 0.71825 | bce: 0.02726\n"
     ]
    },
    {
     "name": "stderr",
     "output_type": "stream",
     "text": [
      "Epoch 58: 100% 2/2 [00:09<00:00,  4.56s/it, bce=0.02208, hard dice=0.81352, loss=0.21054, soft dice=0.81234]\n"
     ]
    },
    {
     "name": "stdout",
     "output_type": "stream",
     "text": [
      "soft dice: 0.71806 | loss: 0.32628 | hard dice: 0.71825 | bce: 0.02814\n"
     ]
    },
    {
     "name": "stderr",
     "output_type": "stream",
     "text": [
      "Epoch 59: 100% 2/2 [00:08<00:00,  4.24s/it, bce=0.02367, hard dice=0.68864, loss=0.33578, soft dice=0.68843]\n"
     ]
    },
    {
     "name": "stdout",
     "output_type": "stream",
     "text": [
      "soft dice: 0.71803 | loss: 0.32613 | hard dice: 0.71825 | bce: 0.02795\n"
     ]
    },
    {
     "name": "stderr",
     "output_type": "stream",
     "text": [
      "Epoch 60: 100% 2/2 [00:08<00:00,  4.25s/it, bce=0.02667, hard dice=0.56428, loss=0.52495, soft dice=0.56392]\n"
     ]
    },
    {
     "name": "stdout",
     "output_type": "stream",
     "text": [
      "soft dice: 0.71820 | loss: 0.32797 | hard dice: 0.71825 | bce: 0.02998\n"
     ]
    },
    {
     "name": "stderr",
     "output_type": "stream",
     "text": [
      "Epoch 61: 100% 2/2 [00:08<00:00,  4.26s/it, bce=0.04479, hard dice=0.62733, loss=0.41814, soft dice=0.62636]\n"
     ]
    },
    {
     "name": "stdout",
     "output_type": "stream",
     "text": [
      "soft dice: 0.71778 | loss: 0.32531 | hard dice: 0.71825 | bce: 0.02689\n"
     ]
    },
    {
     "name": "stderr",
     "output_type": "stream",
     "text": [
      "Epoch 62: 100% 2/2 [00:08<00:00,  4.01s/it, bce=0.02647, hard dice=0.62941, loss=0.40426, soft dice=0.62397]\n"
     ]
    },
    {
     "name": "stdout",
     "output_type": "stream",
     "text": [
      "soft dice: 0.71762 | loss: 0.32509 | hard dice: 0.71825 | bce: 0.02650\n"
     ]
    },
    {
     "name": "stderr",
     "output_type": "stream",
     "text": [
      "Epoch 63: 100% 2/2 [00:08<00:00,  4.00s/it, bce=0.01569, hard dice=1.00000, loss=0.01937, soft dice=0.99699]\n"
     ]
    },
    {
     "name": "stdout",
     "output_type": "stream",
     "text": [
      "soft dice: 0.71798 | loss: 0.32593 | hard dice: 0.71825 | bce: 0.02773\n"
     ]
    },
    {
     "name": "stderr",
     "output_type": "stream",
     "text": [
      "Epoch 64: 100% 2/2 [00:08<00:00,  4.11s/it, bce=0.03191, hard dice=0.87653, loss=0.15692, soft dice=0.87471]\n"
     ]
    },
    {
     "name": "stdout",
     "output_type": "stream",
     "text": [
      "soft dice: 0.71792 | loss: 0.32579 | hard dice: 0.71825 | bce: 0.02752\n"
     ]
    },
    {
     "name": "stderr",
     "output_type": "stream",
     "text": [
      "Epoch 65: 100% 2/2 [00:09<00:00,  4.52s/it, bce=0.02495, hard dice=0.93855, loss=0.14803, soft dice=0.93784]\n"
     ]
    },
    {
     "name": "stdout",
     "output_type": "stream",
     "text": [
      "soft dice: 0.71825 | loss: 0.33467 | hard dice: 0.71825 | bce: 0.03638\n"
     ]
    },
    {
     "name": "stderr",
     "output_type": "stream",
     "text": [
      "Epoch 66: 100% 2/2 [00:07<00:00,  3.94s/it, bce=0.03069, hard dice=0.87594, loss=0.15491, soft dice=0.87593]\n"
     ]
    },
    {
     "name": "stdout",
     "output_type": "stream",
     "text": [
      "soft dice: 0.71825 | loss: 0.33406 | hard dice: 0.71825 | bce: 0.03581\n"
     ]
    },
    {
     "name": "stderr",
     "output_type": "stream",
     "text": [
      "Epoch 67: 100% 2/2 [00:08<00:00,  4.45s/it, bce=0.03459, hard dice=0.93844, loss=0.09707, soft dice=0.93844]\n"
     ]
    },
    {
     "name": "stdout",
     "output_type": "stream",
     "text": [
      "soft dice: 0.71825 | loss: 0.33312 | hard dice: 0.71825 | bce: 0.03488\n"
     ]
    },
    {
     "name": "stderr",
     "output_type": "stream",
     "text": [
      "Epoch 68: 100% 2/2 [00:08<00:00,  4.08s/it, bce=0.03523, hard dice=0.93822, loss=0.09836, soft dice=0.93821]\n"
     ]
    },
    {
     "name": "stdout",
     "output_type": "stream",
     "text": [
      "soft dice: 0.71825 | loss: 0.33164 | hard dice: 0.71825 | bce: 0.03342\n"
     ]
    },
    {
     "name": "stderr",
     "output_type": "stream",
     "text": [
      "Epoch 69: 100% 2/2 [00:08<00:00,  4.35s/it, bce=0.04829, hard dice=0.62651, loss=0.42923, soft dice=0.62650]\n"
     ]
    },
    {
     "name": "stdout",
     "output_type": "stream",
     "text": [
      "soft dice: 0.71825 | loss: 0.33150 | hard dice: 0.71825 | bce: 0.03323\n"
     ]
    },
    {
     "name": "stderr",
     "output_type": "stream",
     "text": [
      "Epoch 70: 100% 2/2 [00:08<00:00,  4.34s/it, bce=0.02573, hard dice=0.68990, loss=0.35742, soft dice=0.66989]\n"
     ]
    },
    {
     "name": "stdout",
     "output_type": "stream",
     "text": [
      "soft dice: 0.71735 | loss: 0.32940 | hard dice: 0.71825 | bce: 0.02687\n"
     ]
    },
    {
     "name": "stderr",
     "output_type": "stream",
     "text": [
      "Epoch 71: 100% 2/2 [00:08<00:00,  4.25s/it, bce=0.04719, hard dice=0.62804, loss=0.45619, soft dice=0.62673]\n"
     ]
    },
    {
     "name": "stdout",
     "output_type": "stream",
     "text": [
      "soft dice: 0.71825 | loss: 0.34359 | hard dice: 0.71825 | bce: 0.03558\n"
     ]
    },
    {
     "name": "stderr",
     "output_type": "stream",
     "text": [
      "Epoch 72: 100% 2/2 [00:08<00:00,  4.39s/it, bce=0.02851, hard dice=0.81481, loss=0.21600, soft dice=0.81481]\n"
     ]
    },
    {
     "name": "stdout",
     "output_type": "stream",
     "text": [
      "soft dice: 0.71825 | loss: 0.33522 | hard dice: 0.71825 | bce: 0.03529\n"
     ]
    },
    {
     "name": "stderr",
     "output_type": "stream",
     "text": [
      "Epoch 73: 100% 2/2 [00:08<00:00,  4.48s/it, bce=0.03923, hard dice=0.68937, loss=0.35167, soft dice=0.68937]\n"
     ]
    },
    {
     "name": "stdout",
     "output_type": "stream",
     "text": [
      "soft dice: 0.71825 | loss: 0.33322 | hard dice: 0.71825 | bce: 0.03483\n"
     ]
    },
    {
     "name": "stderr",
     "output_type": "stream",
     "text": [
      "Epoch 74: 100% 2/2 [00:08<00:00,  4.40s/it, bce=0.03866, hard dice=0.68921, loss=0.35045, soft dice=0.68921]\n"
     ]
    },
    {
     "name": "stdout",
     "output_type": "stream",
     "text": [
      "soft dice: 0.71825 | loss: 0.33325 | hard dice: 0.71825 | bce: 0.03485\n"
     ]
    },
    {
     "name": "stderr",
     "output_type": "stream",
     "text": [
      "Epoch 75: 100% 2/2 [00:08<00:00,  4.45s/it, bce=0.04573, hard dice=0.50203, loss=0.54613, soft dice=0.50146]\n"
     ]
    },
    {
     "name": "stdout",
     "output_type": "stream",
     "text": [
      "soft dice: 0.71248 | loss: 0.33328 | hard dice: 0.71825 | bce: 0.02418\n"
     ]
    },
    {
     "name": "stderr",
     "output_type": "stream",
     "text": [
      "Epoch 76: 100% 2/2 [00:08<00:00,  4.22s/it, bce=0.04302, hard dice=0.68961, loss=0.35733, soft dice=0.68653]\n"
     ]
    },
    {
     "name": "stdout",
     "output_type": "stream",
     "text": [
      "soft dice: 0.71825 | loss: 0.33177 | hard dice: 0.71825 | bce: 0.03380\n"
     ]
    },
    {
     "name": "stderr",
     "output_type": "stream",
     "text": [
      "Epoch 77: 100% 2/2 [00:08<00:00,  4.39s/it, bce=0.03076, hard dice=0.62787, loss=0.40421, soft dice=0.62785]\n"
     ]
    },
    {
     "name": "stdout",
     "output_type": "stream",
     "text": [
      "soft dice: 0.71825 | loss: 0.33223 | hard dice: 0.71825 | bce: 0.03418\n"
     ]
    },
    {
     "name": "stderr",
     "output_type": "stream",
     "text": [
      "Epoch 78: 100% 2/2 [00:08<00:00,  4.41s/it, bce=0.03132, hard dice=0.56975, loss=0.46691, soft dice=0.56974]\n"
     ]
    },
    {
     "name": "stdout",
     "output_type": "stream",
     "text": [
      "soft dice: 0.71825 | loss: 0.33214 | hard dice: 0.71825 | bce: 0.03406\n"
     ]
    },
    {
     "name": "stderr",
     "output_type": "stream",
     "text": [
      "Epoch 79: 100% 2/2 [00:08<00:00,  4.30s/it, bce=0.03755, hard dice=0.68946, loss=0.40416, soft dice=0.68945]\n"
     ]
    },
    {
     "name": "stdout",
     "output_type": "stream",
     "text": [
      "soft dice: 0.71825 | loss: 0.33202 | hard dice: 0.71825 | bce: 0.03388\n"
     ]
    },
    {
     "name": "stderr",
     "output_type": "stream",
     "text": [
      "Epoch 80: 100% 2/2 [00:08<00:00,  4.36s/it, bce=0.02338, hard dice=0.93833, loss=0.08600, soft dice=0.93833]\n"
     ]
    },
    {
     "name": "stdout",
     "output_type": "stream",
     "text": [
      "soft dice: 0.71741 | loss: 0.32483 | hard dice: 0.71825 | bce: 0.02605\n"
     ]
    },
    {
     "name": "stderr",
     "output_type": "stream",
     "text": [
      "Epoch 81: 100% 2/2 [00:09<00:00,  4.52s/it, bce=0.02438, hard dice=1.00000, loss=0.15687, soft dice=0.87058]\n"
     ]
    },
    {
     "name": "stdout",
     "output_type": "stream",
     "text": [
      "soft dice: 0.71599 | loss: 0.32523 | hard dice: 0.71825 | bce: 0.02476\n"
     ]
    },
    {
     "name": "stderr",
     "output_type": "stream",
     "text": [
      "Epoch 82: 100% 2/2 [00:08<00:00,  4.23s/it, bce=0.02168, hard dice=0.93846, loss=0.15014, soft dice=0.93423]\n"
     ]
    },
    {
     "name": "stdout",
     "output_type": "stream",
     "text": [
      "soft dice: 0.71752 | loss: 0.32495 | hard dice: 0.71825 | bce: 0.02625\n"
     ]
    },
    {
     "name": "stderr",
     "output_type": "stream",
     "text": [
      "Epoch 83: 100% 2/2 [00:09<00:00,  4.52s/it, bce=0.03004, hard dice=0.56667, loss=0.46522, soft dice=0.56524]\n"
     ]
    },
    {
     "name": "stdout",
     "output_type": "stream",
     "text": [
      "soft dice: 0.71809 | loss: 0.32642 | hard dice: 0.71825 | bce: 0.02835\n"
     ]
    },
    {
     "name": "stderr",
     "output_type": "stream",
     "text": [
      "Epoch 84: 100% 2/2 [00:08<00:00,  4.29s/it, bce=0.03130, hard dice=0.62683, loss=0.40499, soft dice=0.62630]\n"
     ]
    },
    {
     "name": "stdout",
     "output_type": "stream",
     "text": [
      "soft dice: 0.71809 | loss: 0.32644 | hard dice: 0.71825 | bce: 0.02837\n"
     ]
    },
    {
     "name": "stderr",
     "output_type": "stream",
     "text": [
      "Epoch 85: 100% 2/2 [00:08<00:00,  4.09s/it, bce=0.02887, hard dice=0.68918, loss=0.39864, soft dice=0.68899]\n"
     ]
    },
    {
     "name": "stdout",
     "output_type": "stream",
     "text": [
      "soft dice: 0.71825 | loss: 0.33493 | hard dice: 0.71825 | bce: 0.03648\n"
     ]
    },
    {
     "name": "stderr",
     "output_type": "stream",
     "text": [
      "Epoch 86: 100% 2/2 [00:08<00:00,  4.31s/it, bce=0.03328, hard dice=0.81518, loss=0.21937, soft dice=0.81518]\n"
     ]
    },
    {
     "name": "stdout",
     "output_type": "stream",
     "text": [
      "soft dice: 0.71825 | loss: 0.33698 | hard dice: 0.71825 | bce: 0.03767\n"
     ]
    },
    {
     "name": "stderr",
     "output_type": "stream",
     "text": [
      "Epoch 87: 100% 2/2 [00:08<00:00,  4.34s/it, bce=0.04970, hard dice=0.50279, loss=0.54984, soft dice=0.50279]\n"
     ]
    },
    {
     "name": "stdout",
     "output_type": "stream",
     "text": [
      "soft dice: 0.71825 | loss: 0.33569 | hard dice: 0.71825 | bce: 0.03702\n"
     ]
    },
    {
     "name": "stderr",
     "output_type": "stream",
     "text": [
      "Epoch 88: 100% 2/2 [00:08<00:00,  4.21s/it, bce=0.02598, hard dice=0.87647, loss=0.14917, soft dice=0.87647]\n"
     ]
    },
    {
     "name": "stdout",
     "output_type": "stream",
     "text": [
      "soft dice: 0.71825 | loss: 0.33412 | hard dice: 0.71825 | bce: 0.03592\n"
     ]
    },
    {
     "name": "stderr",
     "output_type": "stream",
     "text": [
      "Epoch 89: 100% 2/2 [00:08<00:00,  4.23s/it, bce=0.03484, hard dice=0.69083, loss=0.34532, soft dice=0.69083]\n"
     ]
    },
    {
     "name": "stdout",
     "output_type": "stream",
     "text": [
      "soft dice: 0.71825 | loss: 0.33373 | hard dice: 0.71825 | bce: 0.03560\n"
     ]
    },
    {
     "name": "stderr",
     "output_type": "stream",
     "text": [
      "Epoch 90: 100% 2/2 [00:07<00:00,  3.98s/it, bce=0.03211, hard dice=0.81360, loss=0.27434, soft dice=0.81326]\n"
     ]
    },
    {
     "name": "stdout",
     "output_type": "stream",
     "text": [
      "soft dice: 0.71232 | loss: 0.32803 | hard dice: 0.71825 | bce: 0.02350\n"
     ]
    },
    {
     "name": "stderr",
     "output_type": "stream",
     "text": [
      "Epoch 91: 100% 2/2 [00:08<00:00,  4.06s/it, bce=0.02530, hard dice=0.69319, loss=0.34525, soft dice=0.68387]\n"
     ]
    },
    {
     "name": "stdout",
     "output_type": "stream",
     "text": [
      "soft dice: 0.71823 | loss: 0.32885 | hard dice: 0.71825 | bce: 0.03086\n"
     ]
    },
    {
     "name": "stderr",
     "output_type": "stream",
     "text": [
      "Epoch 92: 100% 2/2 [00:08<00:00,  4.23s/it, bce=0.03335, hard dice=0.69482, loss=0.33878, soft dice=0.69476]\n"
     ]
    },
    {
     "name": "stdout",
     "output_type": "stream",
     "text": [
      "soft dice: 0.71823 | loss: 0.32914 | hard dice: 0.71825 | bce: 0.03112\n"
     ]
    },
    {
     "name": "stderr",
     "output_type": "stream",
     "text": [
      "Epoch 93: 100% 2/2 [00:08<00:00,  4.02s/it, bce=0.02132, hard dice=0.87573, loss=0.14580, soft dice=0.87569]\n"
     ]
    },
    {
     "name": "stdout",
     "output_type": "stream",
     "text": [
      "soft dice: 0.71822 | loss: 0.32877 | hard dice: 0.71825 | bce: 0.03072\n"
     ]
    },
    {
     "name": "stderr",
     "output_type": "stream",
     "text": [
      "Epoch 94: 100% 2/2 [00:08<00:00,  4.33s/it, bce=0.03101, hard dice=0.81328, loss=0.21800, soft dice=0.81325]\n"
     ]
    },
    {
     "name": "stdout",
     "output_type": "stream",
     "text": [
      "soft dice: 0.71822 | loss: 0.32860 | hard dice: 0.71825 | bce: 0.03052\n"
     ]
    },
    {
     "name": "stderr",
     "output_type": "stream",
     "text": [
      "Epoch 95: 100% 2/2 [00:08<00:00,  4.40s/it, bce=0.03016, hard dice=0.62733, loss=0.40490, soft dice=0.62594]\n"
     ]
    },
    {
     "name": "stdout",
     "output_type": "stream",
     "text": [
      "soft dice: 0.71433 | loss: 0.32567 | hard dice: 0.71825 | bce: 0.02395\n"
     ]
    },
    {
     "name": "stderr",
     "output_type": "stream",
     "text": [
      "Epoch 96: 100% 2/2 [00:08<00:00,  4.37s/it, bce=0.03437, hard dice=0.75169, loss=0.28904, soft dice=0.74570]\n"
     ]
    },
    {
     "name": "stdout",
     "output_type": "stream",
     "text": [
      "soft dice: 0.71806 | loss: 0.32619 | hard dice: 0.71825 | bce: 0.02801\n"
     ]
    },
    {
     "name": "stderr",
     "output_type": "stream",
     "text": [
      "Epoch 97: 100% 2/2 [00:08<00:00,  4.31s/it, bce=0.02534, hard dice=0.75258, loss=0.27338, soft dice=0.75205]\n"
     ]
    },
    {
     "name": "stdout",
     "output_type": "stream",
     "text": [
      "soft dice: 0.71807 | loss: 0.32627 | hard dice: 0.71825 | bce: 0.02812\n"
     ]
    },
    {
     "name": "stderr",
     "output_type": "stream",
     "text": [
      "Epoch 98: 100% 2/2 [00:08<00:00,  4.15s/it, bce=0.01932, hard dice=0.93849, loss=0.08141, soft dice=0.93821]\n"
     ]
    },
    {
     "name": "stdout",
     "output_type": "stream",
     "text": [
      "soft dice: 0.71804 | loss: 0.32608 | hard dice: 0.71825 | bce: 0.02790\n"
     ]
    },
    {
     "name": "stderr",
     "output_type": "stream",
     "text": [
      "Epoch 99: 100% 2/2 [00:08<00:00,  4.44s/it, bce=0.01982, hard dice=0.81500, loss=0.20578, soft dice=0.81435]\n"
     ]
    },
    {
     "name": "stdout",
     "output_type": "stream",
     "text": [
      "soft dice: 0.71804 | loss: 0.32604 | hard dice: 0.71825 | bce: 0.02786\n"
     ]
    },
    {
     "name": "stderr",
     "output_type": "stream",
     "text": [
      "Epoch 100: 100% 2/2 [00:08<00:00,  4.04s/it, bce=0.02933, hard dice=0.39064, loss=0.65235, soft dice=0.38890]\n"
     ]
    },
    {
     "name": "stdout",
     "output_type": "stream",
     "text": [
      "soft dice: 0.71594 | loss: 0.32484 | hard dice: 0.71825 | bce: 0.02469\n"
     ]
    },
    {
     "name": "stderr",
     "output_type": "stream",
     "text": [
      "Epoch 101: 100% 2/2 [00:07<00:00,  3.94s/it, bce=0.02237, hard dice=0.81311, loss=0.21430, soft dice=0.80924]\n"
     ]
    },
    {
     "name": "stdout",
     "output_type": "stream",
     "text": [
      "soft dice: 0.71799 | loss: 0.32567 | hard dice: 0.71825 | bce: 0.02752\n"
     ]
    },
    {
     "name": "stderr",
     "output_type": "stream",
     "text": [
      "Epoch 102: 100% 2/2 [00:08<00:00,  4.30s/it, bce=0.01811, hard dice=0.81357, loss=0.20536, soft dice=0.81308]\n"
     ]
    },
    {
     "name": "stdout",
     "output_type": "stream",
     "text": [
      "soft dice: 0.71804 | loss: 0.32590 | hard dice: 0.71825 | bce: 0.02781\n"
     ]
    },
    {
     "name": "stderr",
     "output_type": "stream",
     "text": [
      "Epoch 103: 100% 2/2 [00:08<00:00,  4.21s/it, bce=0.03953, hard dice=0.68891, loss=0.35184, soft dice=0.68829]\n"
     ]
    },
    {
     "name": "stdout",
     "output_type": "stream",
     "text": [
      "soft dice: 0.71805 | loss: 0.32593 | hard dice: 0.71825 | bce: 0.02785\n"
     ]
    },
    {
     "name": "stderr",
     "output_type": "stream",
     "text": [
      "Epoch 104: 100% 2/2 [00:08<00:00,  4.14s/it, bce=0.02513, hard dice=0.87652, loss=0.14897, soft dice=0.87612]\n"
     ]
    },
    {
     "name": "stdout",
     "output_type": "stream",
     "text": [
      "soft dice: 0.71804 | loss: 0.32583 | hard dice: 0.71825 | bce: 0.02774\n"
     ]
    },
    {
     "name": "stderr",
     "output_type": "stream",
     "text": [
      "Epoch 105: 100% 2/2 [00:08<00:00,  4.43s/it, bce=0.02926, hard dice=0.62717, loss=0.40532, soft dice=0.62501]\n"
     ]
    },
    {
     "name": "stdout",
     "output_type": "stream",
     "text": [
      "soft dice: 0.71587 | loss: 0.32468 | hard dice: 0.71825 | bce: 0.02446\n"
     ]
    },
    {
     "name": "stderr",
     "output_type": "stream",
     "text": [
      "Epoch 106: 100% 2/2 [00:08<00:00,  4.11s/it, bce=0.02811, hard dice=0.68999, loss=0.34428, soft dice=0.68371]\n"
     ]
    },
    {
     "name": "stdout",
     "output_type": "stream",
     "text": [
      "soft dice: 0.71801 | loss: 0.32570 | hard dice: 0.71825 | bce: 0.02758\n"
     ]
    },
    {
     "name": "stderr",
     "output_type": "stream",
     "text": [
      "Epoch 107: 100% 2/2 [00:08<00:00,  4.10s/it, bce=0.03045, hard dice=0.68988, loss=0.34236, soft dice=0.68862]\n"
     ]
    },
    {
     "name": "stdout",
     "output_type": "stream",
     "text": [
      "soft dice: 0.71808 | loss: 0.32608 | hard dice: 0.71825 | bce: 0.02801\n"
     ]
    },
    {
     "name": "stderr",
     "output_type": "stream",
     "text": [
      "Epoch 108: 100% 2/2 [00:08<00:00,  4.33s/it, bce=0.01578, hard dice=0.75270, loss=0.26397, soft dice=0.75219]\n"
     ]
    },
    {
     "name": "stdout",
     "output_type": "stream",
     "text": [
      "soft dice: 0.71808 | loss: 0.32611 | hard dice: 0.71825 | bce: 0.02805\n"
     ]
    },
    {
     "name": "stderr",
     "output_type": "stream",
     "text": [
      "Epoch 109: 100% 2/2 [00:09<00:00,  4.56s/it, bce=0.02132, hard dice=0.87656, loss=0.14502, soft dice=0.87635]\n"
     ]
    },
    {
     "name": "stdout",
     "output_type": "stream",
     "text": [
      "soft dice: 0.71804 | loss: 0.32598 | hard dice: 0.71825 | bce: 0.02789\n"
     ]
    },
    {
     "name": "stderr",
     "output_type": "stream",
     "text": [
      "Epoch 110: 100% 2/2 [00:07<00:00,  3.98s/it, bce=0.03305, hard dice=0.75181, loss=0.28218, soft dice=0.75059]\n"
     ]
    },
    {
     "name": "stdout",
     "output_type": "stream",
     "text": [
      "soft dice: 0.71720 | loss: 0.32443 | hard dice: 0.71825 | bce: 0.02552\n"
     ]
    },
    {
     "name": "stderr",
     "output_type": "stream",
     "text": [
      "Epoch 111: 100% 2/2 [00:08<00:00,  4.38s/it, bce=0.02007, hard dice=0.81461, loss=0.20746, soft dice=0.81257]\n"
     ]
    },
    {
     "name": "stdout",
     "output_type": "stream",
     "text": [
      "soft dice: 0.71774 | loss: 0.32488 | hard dice: 0.71825 | bce: 0.02650\n"
     ]
    },
    {
     "name": "stderr",
     "output_type": "stream",
     "text": [
      "Epoch 112: 100% 2/2 [00:07<00:00,  3.87s/it, bce=0.03583, hard dice=0.50230, loss=0.53548, soft dice=0.50165]\n"
     ]
    },
    {
     "name": "stdout",
     "output_type": "stream",
     "text": [
      "soft dice: 0.71765 | loss: 0.32471 | hard dice: 0.71825 | bce: 0.02624\n"
     ]
    },
    {
     "name": "stderr",
     "output_type": "stream",
     "text": [
      "Epoch 113: 100% 2/2 [00:08<00:00,  4.21s/it, bce=0.01593, hard dice=0.73930, loss=0.32786, soft dice=0.73771]\n"
     ]
    },
    {
     "name": "stdout",
     "output_type": "stream",
     "text": [
      "soft dice: 0.71752 | loss: 0.32457 | hard dice: 0.71825 | bce: 0.02598\n"
     ]
    },
    {
     "name": "stderr",
     "output_type": "stream",
     "text": [
      "Epoch 114: 100% 2/2 [00:08<00:00,  4.34s/it, bce=0.02103, hard dice=0.69121, loss=0.33112, soft dice=0.69011]\n"
     ]
    },
    {
     "name": "stdout",
     "output_type": "stream",
     "text": [
      "soft dice: 0.71750 | loss: 0.32452 | hard dice: 0.71825 | bce: 0.02592\n"
     ]
    },
    {
     "name": "stderr",
     "output_type": "stream",
     "text": [
      "Epoch 115: 100% 2/2 [00:07<00:00,  3.97s/it, bce=0.02039, hard dice=0.56585, loss=0.45621, soft dice=0.56479]\n"
     ]
    },
    {
     "name": "stdout",
     "output_type": "stream",
     "text": [
      "soft dice: 0.71771 | loss: 0.32485 | hard dice: 0.71825 | bce: 0.02645\n"
     ]
    },
    {
     "name": "stderr",
     "output_type": "stream",
     "text": [
      "Epoch 116: 100% 2/2 [00:08<00:00,  4.20s/it, bce=0.02234, hard dice=0.75301, loss=0.27022, soft dice=0.75167]\n"
     ]
    },
    {
     "name": "stdout",
     "output_type": "stream",
     "text": [
      "soft dice: 0.71793 | loss: 0.32537 | hard dice: 0.71825 | bce: 0.02719\n"
     ]
    },
    {
     "name": "stderr",
     "output_type": "stream",
     "text": [
      "Epoch 117: 100% 2/2 [00:08<00:00,  4.30s/it, bce=0.02614, hard dice=0.50204, loss=0.58430, soft dice=0.50141]\n"
     ]
    },
    {
     "name": "stdout",
     "output_type": "stream",
     "text": [
      "soft dice: 0.71782 | loss: 0.32503 | hard dice: 0.71825 | bce: 0.02674\n"
     ]
    },
    {
     "name": "stderr",
     "output_type": "stream",
     "text": [
      "Epoch 118: 100% 2/2 [00:08<00:00,  4.39s/it, bce=0.02784, hard dice=0.62915, loss=0.40274, soft dice=0.62787]\n"
     ]
    },
    {
     "name": "stdout",
     "output_type": "stream",
     "text": [
      "soft dice: 0.71766 | loss: 0.32473 | hard dice: 0.71825 | bce: 0.02629\n"
     ]
    },
    {
     "name": "stderr",
     "output_type": "stream",
     "text": [
      "Epoch 119: 100% 2/2 [00:07<00:00,  3.96s/it, bce=0.02792, hard dice=0.56460, loss=0.46531, soft dice=0.56347]\n"
     ]
    },
    {
     "name": "stdout",
     "output_type": "stream",
     "text": [
      "soft dice: 0.71757 | loss: 0.32458 | hard dice: 0.71825 | bce: 0.02605\n"
     ]
    },
    {
     "name": "stderr",
     "output_type": "stream",
     "text": [
      "Epoch 120: 100% 2/2 [00:08<00:00,  4.05s/it, bce=0.02127, hard dice=0.62703, loss=0.39682, soft dice=0.62458]\n"
     ]
    },
    {
     "name": "stdout",
     "output_type": "stream",
     "text": [
      "soft dice: 0.71731 | loss: 0.32437 | hard dice: 0.71825 | bce: 0.02559\n"
     ]
    },
    {
     "name": "stderr",
     "output_type": "stream",
     "text": [
      "Epoch 121: 100% 2/2 [00:08<00:00,  4.21s/it, bce=0.03526, hard dice=0.37914, loss=0.65913, soft dice=0.37735]\n"
     ]
    },
    {
     "name": "stdout",
     "output_type": "stream",
     "text": [
      "soft dice: 0.71781 | loss: 0.32491 | hard dice: 0.71825 | bce: 0.02661\n"
     ]
    },
    {
     "name": "stderr",
     "output_type": "stream",
     "text": [
      "Epoch 122: 100% 2/2 [00:08<00:00,  4.46s/it, bce=0.02797, hard dice=0.75218, loss=0.33983, soft dice=0.74912]\n"
     ]
    },
    {
     "name": "stdout",
     "output_type": "stream",
     "text": [
      "soft dice: 0.71771 | loss: 0.32471 | hard dice: 0.71825 | bce: 0.02632\n"
     ]
    },
    {
     "name": "stderr",
     "output_type": "stream",
     "text": [
      "Epoch 123: 100% 2/2 [00:08<00:00,  4.28s/it, bce=0.02046, hard dice=0.69002, loss=0.33232, soft dice=0.68822]\n"
     ]
    },
    {
     "name": "stdout",
     "output_type": "stream",
     "text": [
      "soft dice: 0.71772 | loss: 0.32469 | hard dice: 0.71825 | bce: 0.02631\n"
     ]
    },
    {
     "name": "stderr",
     "output_type": "stream",
     "text": [
      "Epoch 124: 100% 2/2 [00:08<00:00,  4.50s/it, bce=0.02778, hard dice=0.62666, loss=0.40296, soft dice=0.62507]\n"
     ]
    },
    {
     "name": "stdout",
     "output_type": "stream",
     "text": [
      "soft dice: 0.71764 | loss: 0.32456 | hard dice: 0.71825 | bce: 0.02611\n"
     ]
    },
    {
     "name": "stderr",
     "output_type": "stream",
     "text": [
      "Epoch 125: 100% 2/2 [00:08<00:00,  4.09s/it, bce=0.03632, hard dice=0.56446, loss=0.47299, soft dice=0.56361]\n"
     ]
    },
    {
     "name": "stdout",
     "output_type": "stream",
     "text": [
      "soft dice: 0.71748 | loss: 0.32443 | hard dice: 0.71825 | bce: 0.02581\n"
     ]
    },
    {
     "name": "stderr",
     "output_type": "stream",
     "text": [
      "Epoch 126: 100% 2/2 [00:08<00:00,  4.27s/it, bce=0.03141, hard dice=0.56457, loss=0.46996, soft dice=0.56204]\n"
     ]
    },
    {
     "name": "stdout",
     "output_type": "stream",
     "text": [
      "soft dice: 0.71765 | loss: 0.32489 | hard dice: 0.71825 | bce: 0.02646\n"
     ]
    },
    {
     "name": "stderr",
     "output_type": "stream",
     "text": [
      "Epoch 127: 100% 2/2 [00:08<00:00,  4.14s/it, bce=0.01630, hard dice=0.81389, loss=0.20485, soft dice=0.81243]\n"
     ]
    },
    {
     "name": "stdout",
     "output_type": "stream",
     "text": [
      "soft dice: 0.71743 | loss: 0.32453 | hard dice: 0.71825 | bce: 0.02589\n"
     ]
    },
    {
     "name": "stderr",
     "output_type": "stream",
     "text": [
      "Epoch 128: 100% 2/2 [00:08<00:00,  4.29s/it, bce=0.01650, hard dice=0.87637, loss=0.14266, soft dice=0.87473]\n"
     ]
    },
    {
     "name": "stdout",
     "output_type": "stream",
     "text": [
      "soft dice: 0.71739 | loss: 0.32460 | hard dice: 0.71825 | bce: 0.02591\n"
     ]
    },
    {
     "name": "stderr",
     "output_type": "stream",
     "text": [
      "Epoch 129: 100% 2/2 [00:09<00:00,  4.50s/it, bce=0.02372, hard dice=0.93800, loss=0.08808, soft dice=0.93585]\n"
     ]
    },
    {
     "name": "stdout",
     "output_type": "stream",
     "text": [
      "soft dice: 0.71748 | loss: 0.32450 | hard dice: 0.71825 | bce: 0.02590\n"
     ]
    },
    {
     "name": "stderr",
     "output_type": "stream",
     "text": [
      "Epoch 130: 100% 2/2 [00:08<00:00,  4.42s/it, bce=0.02102, hard dice=0.75356, loss=0.26933, soft dice=0.75214]\n"
     ]
    },
    {
     "name": "stdout",
     "output_type": "stream",
     "text": [
      "soft dice: 0.71825 | loss: 0.33015 | hard dice: 0.71825 | bce: 0.03230\n"
     ]
    },
    {
     "name": "stderr",
     "output_type": "stream",
     "text": [
      "Epoch 131: 100% 2/2 [00:08<00:00,  4.45s/it, bce=0.03098, hard dice=0.75130, loss=0.27957, soft dice=0.75130]\n"
     ]
    },
    {
     "name": "stdout",
     "output_type": "stream",
     "text": [
      "soft dice: 0.71825 | loss: 0.33146 | hard dice: 0.71825 | bce: 0.03355\n"
     ]
    },
    {
     "name": "stderr",
     "output_type": "stream",
     "text": [
      "Epoch 132: 100% 2/2 [00:07<00:00,  3.94s/it, bce=0.02399, hard dice=0.44067, loss=0.58428, soft dice=0.44066]\n"
     ]
    },
    {
     "name": "stdout",
     "output_type": "stream",
     "text": [
      "soft dice: 0.71825 | loss: 0.33044 | hard dice: 0.71825 | bce: 0.03259\n"
     ]
    },
    {
     "name": "stderr",
     "output_type": "stream",
     "text": [
      "Epoch 133: 100% 2/2 [00:08<00:00,  4.40s/it, bce=0.03184, hard dice=1.00000, loss=0.03163, soft dice=1.00000]\n"
     ]
    },
    {
     "name": "stdout",
     "output_type": "stream",
     "text": [
      "soft dice: 0.71824 | loss: 0.32941 | hard dice: 0.71825 | bce: 0.03157\n"
     ]
    },
    {
     "name": "stderr",
     "output_type": "stream",
     "text": [
      "Epoch 134: 100% 2/2 [00:08<00:00,  4.21s/it, bce=0.03071, hard dice=0.68936, loss=0.34135, soft dice=0.68933]\n"
     ]
    },
    {
     "name": "stdout",
     "output_type": "stream",
     "text": [
      "soft dice: 0.71824 | loss: 0.32911 | hard dice: 0.71825 | bce: 0.03128\n"
     ]
    },
    {
     "name": "stderr",
     "output_type": "stream",
     "text": [
      "Epoch 135: 100% 2/2 [00:08<00:00,  4.05s/it, bce=0.03806, hard dice=0.56650, loss=0.48151, soft dice=0.55791]\n"
     ]
    },
    {
     "name": "stdout",
     "output_type": "stream",
     "text": [
      "soft dice: 0.71574 | loss: 0.32436 | hard dice: 0.71825 | bce: 0.02411\n"
     ]
    },
    {
     "name": "stderr",
     "output_type": "stream",
     "text": [
      "Epoch 136: 100% 2/2 [00:08<00:00,  4.17s/it, bce=0.02613, hard dice=0.69060, loss=0.33984, soft dice=0.68729]\n"
     ]
    },
    {
     "name": "stdout",
     "output_type": "stream",
     "text": [
      "soft dice: 0.71824 | loss: 0.32927 | hard dice: 0.71825 | bce: 0.03132\n"
     ]
    },
    {
     "name": "stderr",
     "output_type": "stream",
     "text": [
      "Epoch 137: 100% 2/2 [00:08<00:00,  4.25s/it, bce=0.02966, hard dice=0.75106, loss=0.27883, soft dice=0.75103]\n"
     ]
    },
    {
     "name": "stdout",
     "output_type": "stream",
     "text": [
      "soft dice: 0.71824 | loss: 0.32919 | hard dice: 0.71825 | bce: 0.03122\n"
     ]
    },
    {
     "name": "stderr",
     "output_type": "stream",
     "text": [
      "Epoch 138: 100% 2/2 [00:08<00:00,  4.30s/it, bce=0.02643, hard dice=0.75163, loss=0.27548, soft dice=0.75161]\n"
     ]
    },
    {
     "name": "stdout",
     "output_type": "stream",
     "text": [
      "soft dice: 0.71823 | loss: 0.32861 | hard dice: 0.71825 | bce: 0.03064\n"
     ]
    },
    {
     "name": "stderr",
     "output_type": "stream",
     "text": [
      "Epoch 139: 100% 2/2 [00:08<00:00,  4.31s/it, bce=0.03466, hard dice=0.75172, loss=0.28266, soft dice=0.75163]\n"
     ]
    },
    {
     "name": "stdout",
     "output_type": "stream",
     "text": [
      "soft dice: 0.71823 | loss: 0.32859 | hard dice: 0.71825 | bce: 0.03061\n"
     ]
    },
    {
     "name": "stderr",
     "output_type": "stream",
     "text": [
      "Epoch 140: 100% 2/2 [00:09<00:00,  4.60s/it, bce=0.02374, hard dice=0.87567, loss=0.15169, soft dice=0.87227]\n"
     ]
    },
    {
     "name": "stdout",
     "output_type": "stream",
     "text": [
      "soft dice: 0.70977 | loss: 0.32865 | hard dice: 0.71825 | bce: 0.02272\n"
     ]
    },
    {
     "name": "stderr",
     "output_type": "stream",
     "text": [
      "Epoch 141: 100% 2/2 [00:08<00:00,  4.28s/it, bce=0.01912, hard dice=0.69008, loss=0.33560, soft dice=0.68415]\n"
     ]
    },
    {
     "name": "stdout",
     "output_type": "stream",
     "text": [
      "soft dice: 0.71822 | loss: 0.32813 | hard dice: 0.71825 | bce: 0.03021\n"
     ]
    },
    {
     "name": "stderr",
     "output_type": "stream",
     "text": [
      "Epoch 142: 100% 2/2 [00:08<00:00,  4.48s/it, bce=0.02661, hard dice=0.69032, loss=0.33738, soft dice=0.69015]\n"
     ]
    },
    {
     "name": "stdout",
     "output_type": "stream",
     "text": [
      "soft dice: 0.71822 | loss: 0.32837 | hard dice: 0.71825 | bce: 0.03048\n"
     ]
    },
    {
     "name": "stderr",
     "output_type": "stream",
     "text": [
      "Epoch 143: 100% 2/2 [00:08<00:00,  4.23s/it, bce=0.02389, hard dice=0.69133, loss=0.33316, soft dice=0.69118]\n"
     ]
    },
    {
     "name": "stdout",
     "output_type": "stream",
     "text": [
      "soft dice: 0.71821 | loss: 0.32806 | hard dice: 0.71825 | bce: 0.03017\n"
     ]
    },
    {
     "name": "stderr",
     "output_type": "stream",
     "text": [
      "Epoch 144: 100% 2/2 [00:08<00:00,  4.02s/it, bce=0.02522, hard dice=0.75307, loss=0.27303, soft dice=0.75289]\n"
     ]
    },
    {
     "name": "stdout",
     "output_type": "stream",
     "text": [
      "soft dice: 0.71821 | loss: 0.32781 | hard dice: 0.71825 | bce: 0.02991\n"
     ]
    },
    {
     "name": "stderr",
     "output_type": "stream",
     "text": [
      "Epoch 145: 100% 2/2 [00:08<00:00,  4.25s/it, bce=0.03249, hard dice=0.50207, loss=0.53059, soft dice=0.50137]\n"
     ]
    },
    {
     "name": "stdout",
     "output_type": "stream",
     "text": [
      "soft dice: 0.71266 | loss: 0.32674 | hard dice: 0.71825 | bce: 0.02328\n"
     ]
    },
    {
     "name": "stderr",
     "output_type": "stream",
     "text": [
      "Epoch 146: 100% 2/2 [00:08<00:00,  4.14s/it, bce=0.02166, hard dice=0.81468, loss=0.21518, soft dice=0.80745]\n"
     ]
    },
    {
     "name": "stdout",
     "output_type": "stream",
     "text": [
      "soft dice: 0.71820 | loss: 0.32851 | hard dice: 0.71825 | bce: 0.03044\n"
     ]
    },
    {
     "name": "stderr",
     "output_type": "stream",
     "text": [
      "Epoch 147: 100% 2/2 [00:08<00:00,  4.39s/it, bce=0.03623, hard dice=0.75297, loss=0.28516, soft dice=0.75239]\n"
     ]
    },
    {
     "name": "stdout",
     "output_type": "stream",
     "text": [
      "soft dice: 0.71819 | loss: 0.32788 | hard dice: 0.71825 | bce: 0.02992\n"
     ]
    },
    {
     "name": "stderr",
     "output_type": "stream",
     "text": [
      "Epoch 148: 100% 2/2 [00:08<00:00,  4.32s/it, bce=0.01669, hard dice=0.87777, loss=0.14110, soft dice=0.87752]\n"
     ]
    },
    {
     "name": "stdout",
     "output_type": "stream",
     "text": [
      "soft dice: 0.71816 | loss: 0.32716 | hard dice: 0.71825 | bce: 0.02919\n"
     ]
    },
    {
     "name": "stderr",
     "output_type": "stream",
     "text": [
      "Epoch 149: 100% 2/2 [00:08<00:00,  4.29s/it, bce=0.01964, hard dice=0.81572, loss=0.20612, soft dice=0.81524]\n"
     ]
    },
    {
     "name": "stdout",
     "output_type": "stream",
     "text": [
      "soft dice: 0.71814 | loss: 0.32677 | hard dice: 0.71825 | bce: 0.02878\n",
      "Finished train fold: 4 with best loss 0.32436 on epoch 135\n",
      "\n"
     ]
    }
   ],
   "source": [
    "# with CLAHE\n",
    "train_config('../configs/idris_1.json', '../folds_5.csv', n_folds=5, num_workers=24)"
   ]
  },
  {
   "cell_type": "code",
   "execution_count": 9,
   "metadata": {},
   "outputs": [
    {
     "name": "stdout",
     "output_type": "stream",
     "text": [
      "{u'target_cols': 800, u'save_images': True, u'dbg': False, u'train_pad': 0, u'use_clahe': True, u'network': u'linknet34', u'use_crop': True, u'nb_epoch': 150, u'epoch_size': 1, 'models_dir': u'models', u'lr': 0.01, u'cycle_start_epoch': 30, u'folder': u'train', u'optimizer': u'adam', u'target_rows': 800, 'fold': None, u'batch_size': 16, u'test_pad': 0, u'use_resize': False, u'loss': u'bce_dice_loss', u'img_cols': 4288, u'predict_batch_size': 5, u'num_channels': 3, u'dataset_path': u'/home/user/data/idrid', u'img_rows': 2848}\n",
      "('NAMES:', [u'IDRiD_28.jpg', u'IDRiD_44.jpg', u'IDRiD_23.jpg', u'IDRiD_32.jpg', u'IDRiD_11.jpg', u'IDRiD_51.jpg', u'IDRiD_54.jpg', u'IDRiD_31.jpg', u'IDRiD_14.jpg', u'IDRiD_10.jpg', u'IDRiD_30.jpg', u'IDRiD_03.jpg', u'IDRiD_04.jpg', u'IDRiD_43.jpg', u'IDRiD_40.jpg', u'IDRiD_19.jpg', u'IDRiD_50.jpg', u'IDRiD_48.jpg', u'IDRiD_49.jpg', u'IDRiD_41.jpg', u'IDRiD_01.jpg', u'IDRiD_45.jpg', u'IDRiD_15.jpg', u'IDRiD_09.jpg', u'IDRiD_38.jpg', u'IDRiD_52.jpg', u'IDRiD_27.jpg', u'IDRiD_21.jpg', u'IDRiD_07.jpg', u'IDRiD_26.jpg', u'IDRiD_16.jpg', u'IDRiD_36.jpg', u'IDRiD_34.jpg', u'IDRiD_20.jpg', u'IDRiD_13.jpg', u'IDRiD_29.jpg', u'IDRiD_22.jpg', u'IDRiD_18.jpg', u'IDRiD_24.jpg', u'IDRiD_17.jpg', u'IDRiD_06.jpg', u'IDRiD_39.jpg', u'IDRiD_35.jpg', u'IDRiD_47.jpg', u'IDRiD_02.jpg', u'IDRiD_05.jpg', u'IDRiD_25.jpg', u'IDRiD_53.jpg', u'IDRiD_08.jpg', u'IDRiD_37.jpg', u'IDRiD_12.jpg', u'IDRiD_33.jpg', u'IDRiD_42.jpg', u'IDRiD_46.jpg'])\n",
      "('skipping folds: ', [])\n"
     ]
    },
    {
     "name": "stderr",
     "output_type": "stream",
     "text": [
      "Epoch 0: 100% 2/2 [00:09<00:00,  4.61s/it, bce=0.38579, hard dice=0.06532, loss=1.38417, soft dice=0.00221]\n"
     ]
    },
    {
     "name": "stdout",
     "output_type": "stream",
     "text": [
      "soft dice: 0.07132 | loss: 1.13334 | hard dice: 0.78332 | bce: 0.03064\n"
     ]
    },
    {
     "name": "stderr",
     "output_type": "stream",
     "text": [
      "Epoch 1: 100% 2/2 [00:08<00:00,  4.22s/it, bce=0.02850, hard dice=0.87532, loss=0.52836, soft dice=0.50618]\n"
     ]
    },
    {
     "name": "stdout",
     "output_type": "stream",
     "text": [
      "soft dice: 0.78332 | loss: 3539.97888 | hard dice: 0.78332 | bce: 0.03120\n"
     ]
    },
    {
     "name": "stderr",
     "output_type": "stream",
     "text": [
      "Epoch 2: 100% 2/2 [00:08<00:00,  4.16s/it, bce=0.05007, hard dice=0.50180, loss=0.59544, soft dice=0.50180]\n"
     ]
    },
    {
     "name": "stdout",
     "output_type": "stream",
     "text": [
      "soft dice: 0.78332 | loss: 259574.29630 | hard dice: 0.78332 | bce: 0.03120\n"
     ]
    },
    {
     "name": "stderr",
     "output_type": "stream",
     "text": [
      "Epoch 3: 100% 2/2 [00:07<00:00,  3.87s/it, bce=0.03572, hard dice=0.50304, loss=0.58354, soft dice=0.50304]\n"
     ]
    },
    {
     "name": "stdout",
     "output_type": "stream",
     "text": [
      "soft dice: 0.78332 | loss: 66338.73148 | hard dice: 0.78332 | bce: 0.03120\n"
     ]
    },
    {
     "name": "stderr",
     "output_type": "stream",
     "text": [
      "Epoch 4: 100% 2/2 [00:08<00:00,  4.15s/it, bce=0.04305, hard dice=0.75234, loss=0.31177, soft dice=0.75233]\n"
     ]
    },
    {
     "name": "stdout",
     "output_type": "stream",
     "text": [
      "soft dice: 0.78332 | loss: 20939.84028 | hard dice: 0.78332 | bce: 0.03120\n"
     ]
    },
    {
     "name": "stderr",
     "output_type": "stream",
     "text": [
      "Epoch 5: 100% 2/2 [00:07<00:00,  3.98s/it, bce=0.04361, hard dice=0.56438, loss=0.48659, soft dice=0.56395]\n"
     ]
    },
    {
     "name": "stdout",
     "output_type": "stream",
     "text": [
      "soft dice: 0.78332 | loss: 5784.78993 | hard dice: 0.78332 | bce: 0.03120\n"
     ]
    },
    {
     "name": "stderr",
     "output_type": "stream",
     "text": [
      "Epoch 6: 100% 2/2 [00:08<00:00,  4.09s/it, bce=0.02004, hard dice=0.87688, loss=0.20490, soft dice=0.87648]\n"
     ]
    },
    {
     "name": "stdout",
     "output_type": "stream",
     "text": [
      "soft dice: 0.78332 | loss: 2078.14974 | hard dice: 0.78332 | bce: 0.03120\n"
     ]
    },
    {
     "name": "stderr",
     "output_type": "stream",
     "text": [
      "Epoch 7: 100% 2/2 [00:08<00:00,  4.36s/it, bce=0.02013, hard dice=0.56655, loss=0.45660, soft dice=0.56435]\n"
     ]
    },
    {
     "name": "stdout",
     "output_type": "stream",
     "text": [
      "soft dice: 0.78331 | loss: 372.65994 | hard dice: 0.78332 | bce: 0.03117\n"
     ]
    },
    {
     "name": "stderr",
     "output_type": "stream",
     "text": [
      "Epoch 8: 100% 2/2 [00:08<00:00,  4.26s/it, bce=0.03229, hard dice=0.69044, loss=0.39966, soft dice=0.63964]\n"
     ]
    },
    {
     "name": "stdout",
     "output_type": "stream",
     "text": [
      "soft dice: 0.78332 | loss: 31.48885 | hard dice: 0.78332 | bce: 0.03063\n"
     ]
    },
    {
     "name": "stderr",
     "output_type": "stream",
     "text": [
      "Epoch 9: 100% 2/2 [00:08<00:00,  4.20s/it, bce=0.05473, hard dice=0.68997, loss=0.43777, soft dice=0.68997]\n"
     ]
    },
    {
     "name": "stdout",
     "output_type": "stream",
     "text": [
      "soft dice: 0.78332 | loss: 2.20864 | hard dice: 0.78332 | bce: 0.03078\n"
     ]
    },
    {
     "name": "stderr",
     "output_type": "stream",
     "text": [
      "Epoch 10: 100% 2/2 [00:08<00:00,  4.29s/it, bce=0.03877, hard dice=0.75224, loss=0.30238, soft dice=0.75224]\n"
     ]
    },
    {
     "name": "stdout",
     "output_type": "stream",
     "text": [
      "soft dice: 0.78332 | loss: 0.76285 | hard dice: 0.78332 | bce: 0.03019\n"
     ]
    },
    {
     "name": "stderr",
     "output_type": "stream",
     "text": [
      "Epoch 11: 100% 2/2 [00:08<00:00,  4.13s/it, bce=0.02709, hard dice=0.75266, loss=0.28089, soft dice=0.75266]\n"
     ]
    },
    {
     "name": "stdout",
     "output_type": "stream",
     "text": [
      "soft dice: 0.78331 | loss: 0.45610 | hard dice: 0.78332 | bce: 0.02844\n"
     ]
    },
    {
     "name": "stderr",
     "output_type": "stream",
     "text": [
      "Epoch 12: 100% 2/2 [00:09<00:00,  4.51s/it, bce=0.02391, hard dice=0.69021, loss=0.34053, soft dice=0.69007]\n"
     ]
    },
    {
     "name": "stdout",
     "output_type": "stream",
     "text": [
      "soft dice: 0.78331 | loss: 0.26762 | hard dice: 0.78332 | bce: 0.02675\n"
     ]
    },
    {
     "name": "stderr",
     "output_type": "stream",
     "text": [
      "Epoch 13: 100% 2/2 [00:08<00:00,  4.19s/it, bce=0.04268, hard dice=0.75169, loss=0.29597, soft dice=0.75017]\n"
     ]
    },
    {
     "name": "stdout",
     "output_type": "stream",
     "text": [
      "soft dice: 0.78331 | loss: 0.25199 | hard dice: 0.78332 | bce: 0.02575\n"
     ]
    },
    {
     "name": "stderr",
     "output_type": "stream",
     "text": [
      "Epoch 14: 100% 2/2 [00:08<00:00,  4.37s/it, bce=0.02953, hard dice=0.81366, loss=0.27910, soft dice=0.81330]\n"
     ]
    },
    {
     "name": "stdout",
     "output_type": "stream",
     "text": [
      "soft dice: 0.78331 | loss: 0.24893 | hard dice: 0.78332 | bce: 0.02530\n"
     ]
    },
    {
     "name": "stderr",
     "output_type": "stream",
     "text": [
      "Epoch 15: 100% 2/2 [00:08<00:00,  4.30s/it, bce=0.02460, hard dice=0.81454, loss=0.21187, soft dice=0.81360]\n"
     ]
    },
    {
     "name": "stdout",
     "output_type": "stream",
     "text": [
      "soft dice: 0.78331 | loss: 0.24863 | hard dice: 0.78332 | bce: 0.02526\n"
     ]
    },
    {
     "name": "stderr",
     "output_type": "stream",
     "text": [
      "Epoch 16: 100% 2/2 [00:08<00:00,  4.29s/it, bce=0.02543, hard dice=0.81471, loss=0.21195, soft dice=0.81461]\n"
     ]
    },
    {
     "name": "stdout",
     "output_type": "stream",
     "text": [
      "soft dice: 0.78330 | loss: 0.24826 | hard dice: 0.78332 | bce: 0.02476\n"
     ]
    },
    {
     "name": "stderr",
     "output_type": "stream",
     "text": [
      "Epoch 17: 100% 2/2 [00:09<00:00,  4.51s/it, bce=0.03084, hard dice=0.81474, loss=0.21808, soft dice=0.81453]\n"
     ]
    },
    {
     "name": "stdout",
     "output_type": "stream",
     "text": [
      "soft dice: 0.78329 | loss: 0.24636 | hard dice: 0.78332 | bce: 0.02421\n"
     ]
    },
    {
     "name": "stderr",
     "output_type": "stream",
     "text": [
      "Epoch 18: 100% 2/2 [00:08<00:00,  4.43s/it, bce=0.02788, hard dice=0.75255, loss=0.27585, soft dice=0.75228]\n"
     ]
    },
    {
     "name": "stdout",
     "output_type": "stream",
     "text": [
      "soft dice: 0.78329 | loss: 0.24560 | hard dice: 0.78332 | bce: 0.02410\n"
     ]
    },
    {
     "name": "stderr",
     "output_type": "stream",
     "text": [
      "Epoch 19: 100% 2/2 [00:08<00:00,  4.26s/it, bce=0.01886, hard dice=0.75096, loss=0.27015, soft dice=0.74956]\n"
     ]
    },
    {
     "name": "stdout",
     "output_type": "stream",
     "text": [
      "soft dice: 0.78324 | loss: 0.24433 | hard dice: 0.78332 | bce: 0.02279\n"
     ]
    },
    {
     "name": "stderr",
     "output_type": "stream",
     "text": [
      "Epoch 20: 100% 2/2 [00:07<00:00,  3.95s/it, bce=0.02326, hard dice=0.68971, loss=0.33354, soft dice=0.68951]\n"
     ]
    },
    {
     "name": "stdout",
     "output_type": "stream",
     "text": [
      "soft dice: 0.78319 | loss: 0.24383 | hard dice: 0.78332 | bce: 0.02225\n"
     ]
    },
    {
     "name": "stderr",
     "output_type": "stream",
     "text": [
      "Epoch 21: 100% 2/2 [00:08<00:00,  4.04s/it, bce=0.02992, hard dice=0.50348, loss=0.54093, soft dice=0.49003]\n"
     ]
    },
    {
     "name": "stdout",
     "output_type": "stream",
     "text": [
      "soft dice: 0.78325 | loss: 0.24466 | hard dice: 0.78332 | bce: 0.02312\n"
     ]
    },
    {
     "name": "stderr",
     "output_type": "stream",
     "text": [
      "Epoch 22: 100% 2/2 [00:07<00:00,  4.00s/it, bce=0.01653, hard dice=0.93898, loss=0.07791, soft dice=0.93896]\n"
     ]
    },
    {
     "name": "stdout",
     "output_type": "stream",
     "text": [
      "soft dice: 0.78330 | loss: 0.24633 | hard dice: 0.78332 | bce: 0.02482\n"
     ]
    },
    {
     "name": "stderr",
     "output_type": "stream",
     "text": [
      "Epoch 23: 100% 2/2 [00:08<00:00,  4.10s/it, bce=0.03854, hard dice=0.56436, loss=0.47580, soft dice=0.56431]\n"
     ]
    },
    {
     "name": "stdout",
     "output_type": "stream",
     "text": [
      "soft dice: 0.78331 | loss: 0.24689 | hard dice: 0.78332 | bce: 0.02541\n"
     ]
    },
    {
     "name": "stderr",
     "output_type": "stream",
     "text": [
      "Epoch 24: 100% 2/2 [00:08<00:00,  4.40s/it, bce=0.03644, hard dice=0.56432, loss=0.47316, soft dice=0.56429]\n"
     ]
    },
    {
     "name": "stdout",
     "output_type": "stream",
     "text": [
      "soft dice: 0.78331 | loss: 0.24766 | hard dice: 0.78332 | bce: 0.02617\n"
     ]
    },
    {
     "name": "stderr",
     "output_type": "stream",
     "text": [
      "Epoch 25: 100% 2/2 [00:08<00:00,  4.16s/it, bce=0.04289, hard dice=0.50318, loss=0.54304, soft dice=0.50315]\n"
     ]
    },
    {
     "name": "stdout",
     "output_type": "stream",
     "text": [
      "soft dice: 0.78331 | loss: 0.24820 | hard dice: 0.78332 | bce: 0.02667\n"
     ]
    },
    {
     "name": "stderr",
     "output_type": "stream",
     "text": [
      "Epoch 26: 100% 2/2 [00:08<00:00,  4.15s/it, bce=0.03777, hard dice=0.37997, loss=0.65976, soft dice=0.37995]\n"
     ]
    },
    {
     "name": "stdout",
     "output_type": "stream",
     "text": [
      "soft dice: 0.78331 | loss: 0.24787 | hard dice: 0.78332 | bce: 0.02635\n"
     ]
    },
    {
     "name": "stderr",
     "output_type": "stream",
     "text": [
      "Epoch 27: 100% 2/2 [00:07<00:00,  3.93s/it, bce=0.02793, hard dice=0.75309, loss=0.45548, soft dice=0.75305]\n"
     ]
    },
    {
     "name": "stdout",
     "output_type": "stream",
     "text": [
      "soft dice: 0.78331 | loss: 0.24769 | hard dice: 0.78332 | bce: 0.02617\n"
     ]
    },
    {
     "name": "stderr",
     "output_type": "stream",
     "text": [
      "Epoch 28: 100% 2/2 [00:08<00:00,  4.35s/it, bce=0.03355, hard dice=0.93954, loss=0.09523, soft dice=0.93947]\n"
     ]
    },
    {
     "name": "stdout",
     "output_type": "stream",
     "text": [
      "soft dice: 0.78331 | loss: 0.24744 | hard dice: 0.78332 | bce: 0.02592\n"
     ]
    },
    {
     "name": "stderr",
     "output_type": "stream",
     "text": [
      "Epoch 29: 100% 2/2 [00:08<00:00,  4.32s/it, bce=0.03492, hard dice=0.62710, loss=0.40814, soft dice=0.62705]\n"
     ]
    },
    {
     "name": "stdout",
     "output_type": "stream",
     "text": [
      "soft dice: 0.78331 | loss: 0.24710 | hard dice: 0.78332 | bce: 0.02559\n",
      "Starting cyclic lr\n"
     ]
    },
    {
     "name": "stderr",
     "output_type": "stream",
     "text": [
      "Epoch 30: 100% 2/2 [00:08<00:00,  4.25s/it, bce=0.02058, hard dice=0.62636, loss=0.39916, soft dice=0.62428]\n"
     ]
    },
    {
     "name": "stdout",
     "output_type": "stream",
     "text": [
      "soft dice: 0.78332 | loss: 0.25760 | hard dice: 0.78332 | bce: 0.03019\n"
     ]
    },
    {
     "name": "stderr",
     "output_type": "stream",
     "text": [
      "Epoch 31: 100% 2/2 [00:08<00:00,  4.36s/it, bce=0.04429, hard dice=0.75134, loss=0.32065, soft dice=0.75134]\n"
     ]
    },
    {
     "name": "stdout",
     "output_type": "stream",
     "text": [
      "soft dice: 0.78332 | loss: 0.28144 | hard dice: 0.78332 | bce: 0.03120\n"
     ]
    },
    {
     "name": "stderr",
     "output_type": "stream",
     "text": [
      "Epoch 32: 100% 2/2 [00:07<00:00,  3.94s/it, bce=0.03007, hard dice=0.87702, loss=0.18585, soft dice=0.87702]\n"
     ]
    },
    {
     "name": "stdout",
     "output_type": "stream",
     "text": [
      "soft dice: 0.78332 | loss: 0.27685 | hard dice: 0.78332 | bce: 0.03120\n"
     ]
    },
    {
     "name": "stderr",
     "output_type": "stream",
     "text": [
      "Epoch 33: 100% 2/2 [00:08<00:00,  4.06s/it, bce=0.03443, hard dice=0.62835, loss=0.43339, soft dice=0.62835]\n"
     ]
    },
    {
     "name": "stdout",
     "output_type": "stream",
     "text": [
      "soft dice: 0.78332 | loss: 0.27201 | hard dice: 0.78332 | bce: 0.03120\n"
     ]
    },
    {
     "name": "stderr",
     "output_type": "stream",
     "text": [
      "Epoch 34: 100% 2/2 [00:08<00:00,  4.15s/it, bce=0.04767, hard dice=0.56460, loss=0.53075, soft dice=0.56460]\n"
     ]
    },
    {
     "name": "stdout",
     "output_type": "stream",
     "text": [
      "soft dice: 0.78332 | loss: 0.27169 | hard dice: 0.78332 | bce: 0.03120\n"
     ]
    },
    {
     "name": "stderr",
     "output_type": "stream",
     "text": [
      "Epoch 35: 100% 2/2 [00:09<00:00,  4.54s/it, bce=0.02361, hard dice=0.75392, loss=0.30318, soft dice=0.73356]\n"
     ]
    },
    {
     "name": "stdout",
     "output_type": "stream",
     "text": [
      "soft dice: 0.78332 | loss: 0.25435 | hard dice: 0.78332 | bce: 0.02967\n"
     ]
    },
    {
     "name": "stderr",
     "output_type": "stream",
     "text": [
      "Epoch 36: 100% 2/2 [00:08<00:00,  4.42s/it, bce=0.02442, hard dice=0.62889, loss=0.39818, soft dice=0.62887]\n"
     ]
    },
    {
     "name": "stdout",
     "output_type": "stream",
     "text": [
      "soft dice: 0.78332 | loss: 0.25580 | hard dice: 0.78332 | bce: 0.03083\n"
     ]
    },
    {
     "name": "stderr",
     "output_type": "stream",
     "text": [
      "Epoch 37: 100% 2/2 [00:07<00:00,  3.99s/it, bce=0.02803, hard dice=0.81415, loss=0.27517, soft dice=0.81415]\n"
     ]
    },
    {
     "name": "stdout",
     "output_type": "stream",
     "text": [
      "soft dice: 0.78332 | loss: 0.25306 | hard dice: 0.78332 | bce: 0.02997\n"
     ]
    },
    {
     "name": "stderr",
     "output_type": "stream",
     "text": [
      "Epoch 38: 100% 2/2 [00:08<00:00,  4.11s/it, bce=0.04105, hard dice=0.44738, loss=0.60107, soft dice=0.44737]\n"
     ]
    },
    {
     "name": "stdout",
     "output_type": "stream",
     "text": [
      "soft dice: 0.78332 | loss: 0.25096 | hard dice: 0.78332 | bce: 0.02895\n"
     ]
    },
    {
     "name": "stderr",
     "output_type": "stream",
     "text": [
      "Epoch 39: 100% 2/2 [00:07<00:00,  3.97s/it, bce=0.05284, hard dice=0.44014, loss=0.61517, soft dice=0.44010]\n"
     ]
    },
    {
     "name": "stdout",
     "output_type": "stream",
     "text": [
      "soft dice: 0.78331 | loss: 0.25013 | hard dice: 0.78332 | bce: 0.02842\n"
     ]
    },
    {
     "name": "stderr",
     "output_type": "stream",
     "text": [
      "Epoch 40: 100% 2/2 [00:08<00:00,  4.01s/it, bce=0.02740, hard dice=0.69068, loss=0.34491, soft dice=0.68651]\n"
     ]
    },
    {
     "name": "stdout",
     "output_type": "stream",
     "text": [
      "soft dice: 0.78321 | loss: 0.24469 | hard dice: 0.78332 | bce: 0.02260\n"
     ]
    },
    {
     "name": "stderr",
     "output_type": "stream",
     "text": [
      "Epoch 41: 100% 2/2 [00:08<00:00,  4.07s/it, bce=0.02431, hard dice=0.62785, loss=0.45810, soft dice=0.62412]\n"
     ]
    },
    {
     "name": "stdout",
     "output_type": "stream",
     "text": [
      "soft dice: 0.78332 | loss: 0.25077 | hard dice: 0.78332 | bce: 0.02890\n"
     ]
    },
    {
     "name": "stderr",
     "output_type": "stream",
     "text": [
      "Epoch 42: 100% 2/2 [00:08<00:00,  4.08s/it, bce=0.03143, hard dice=0.56521, loss=0.46825, soft dice=0.56469]\n"
     ]
    },
    {
     "name": "stdout",
     "output_type": "stream",
     "text": [
      "soft dice: 0.78331 | loss: 0.24966 | hard dice: 0.78332 | bce: 0.02790\n"
     ]
    },
    {
     "name": "stderr",
     "output_type": "stream",
     "text": [
      "Epoch 43: 100% 2/2 [00:08<00:00,  4.15s/it, bce=0.03172, hard dice=0.31636, loss=0.71628, soft dice=0.31621]\n"
     ]
    },
    {
     "name": "stdout",
     "output_type": "stream",
     "text": [
      "soft dice: 0.78331 | loss: 0.24843 | hard dice: 0.78332 | bce: 0.02680\n"
     ]
    },
    {
     "name": "stderr",
     "output_type": "stream",
     "text": [
      "Epoch 44: 100% 2/2 [00:08<00:00,  4.39s/it, bce=0.03389, hard dice=0.81492, loss=0.22006, soft dice=0.81426]\n"
     ]
    },
    {
     "name": "stdout",
     "output_type": "stream",
     "text": [
      "soft dice: 0.78331 | loss: 0.24753 | hard dice: 0.78332 | bce: 0.02596\n"
     ]
    },
    {
     "name": "stderr",
     "output_type": "stream",
     "text": [
      "Epoch 45: 100% 2/2 [00:09<00:00,  4.65s/it, bce=0.02758, hard dice=0.50270, loss=0.53317, soft dice=0.49445]\n"
     ]
    },
    {
     "name": "stdout",
     "output_type": "stream",
     "text": [
      "soft dice: 0.78330 | loss: 0.24671 | hard dice: 0.78332 | bce: 0.02519\n"
     ]
    },
    {
     "name": "stderr",
     "output_type": "stream",
     "text": [
      "Epoch 46: 100% 2/2 [00:08<00:00,  4.16s/it, bce=0.02534, hard dice=0.81480, loss=0.27161, soft dice=0.81461]\n"
     ]
    },
    {
     "name": "stdout",
     "output_type": "stream",
     "text": [
      "soft dice: 0.78331 | loss: 0.25093 | hard dice: 0.78332 | bce: 0.02840\n"
     ]
    },
    {
     "name": "stderr",
     "output_type": "stream",
     "text": [
      "Epoch 47: 100% 2/2 [00:08<00:00,  4.37s/it, bce=0.02990, hard dice=0.69021, loss=0.33987, soft dice=0.69019]\n"
     ]
    },
    {
     "name": "stdout",
     "output_type": "stream",
     "text": [
      "soft dice: 0.78331 | loss: 0.25045 | hard dice: 0.78332 | bce: 0.02853\n"
     ]
    },
    {
     "name": "stderr",
     "output_type": "stream",
     "text": [
      "Epoch 48: 100% 2/2 [00:08<00:00,  4.05s/it, bce=0.04721, hard dice=0.44067, loss=0.66708, soft dice=0.44064]\n"
     ]
    },
    {
     "name": "stdout",
     "output_type": "stream",
     "text": [
      "soft dice: 0.78331 | loss: 0.24946 | hard dice: 0.78332 | bce: 0.02778\n"
     ]
    },
    {
     "name": "stderr",
     "output_type": "stream",
     "text": [
      "Epoch 49: 100% 2/2 [00:07<00:00,  3.99s/it, bce=0.02855, hard dice=0.69069, loss=0.40022, soft dice=0.69062]\n"
     ]
    },
    {
     "name": "stdout",
     "output_type": "stream",
     "text": [
      "soft dice: 0.78331 | loss: 0.24882 | hard dice: 0.78332 | bce: 0.02721\n"
     ]
    },
    {
     "name": "stderr",
     "output_type": "stream",
     "text": [
      "Epoch 50: 100% 2/2 [00:08<00:00,  4.01s/it, bce=0.02393, hard dice=0.50395, loss=0.56236, soft dice=0.46242]\n"
     ]
    },
    {
     "name": "stdout",
     "output_type": "stream",
     "text": [
      "soft dice: 0.78326 | loss: 0.24515 | hard dice: 0.78332 | bce: 0.02351\n"
     ]
    },
    {
     "name": "stderr",
     "output_type": "stream",
     "text": [
      "Epoch 51: 100% 2/2 [00:08<00:00,  4.07s/it, bce=0.03234, hard dice=0.75406, loss=0.27949, soft dice=0.75353]\n"
     ]
    },
    {
     "name": "stdout",
     "output_type": "stream",
     "text": [
      "soft dice: 0.78332 | loss: 0.26086 | hard dice: 0.78332 | bce: 0.03058\n"
     ]
    },
    {
     "name": "stderr",
     "output_type": "stream",
     "text": [
      "Epoch 52: 100% 2/2 [00:07<00:00,  3.95s/it, bce=0.05002, hard dice=0.56476, loss=0.55011, soft dice=0.56476]\n"
     ]
    },
    {
     "name": "stdout",
     "output_type": "stream",
     "text": [
      "soft dice: 0.78332 | loss: 0.25737 | hard dice: 0.78332 | bce: 0.03071\n"
     ]
    },
    {
     "name": "stderr",
     "output_type": "stream",
     "text": [
      "Epoch 53: 100% 2/2 [00:08<00:00,  4.06s/it, bce=0.04015, hard dice=0.81580, loss=0.22773, soft dice=0.81578]\n"
     ]
    },
    {
     "name": "stdout",
     "output_type": "stream",
     "text": [
      "soft dice: 0.78332 | loss: 0.25333 | hard dice: 0.78332 | bce: 0.03041\n"
     ]
    },
    {
     "name": "stderr",
     "output_type": "stream",
     "text": [
      "Epoch 54: 100% 2/2 [00:08<00:00,  4.35s/it, bce=0.03533, hard dice=0.50299, loss=0.53419, soft dice=0.50298]\n"
     ]
    },
    {
     "name": "stdout",
     "output_type": "stream",
     "text": [
      "soft dice: 0.78332 | loss: 0.25208 | hard dice: 0.78332 | bce: 0.03009\n"
     ]
    },
    {
     "name": "stderr",
     "output_type": "stream",
     "text": [
      "Epoch 55: 100% 2/2 [00:08<00:00,  4.38s/it, bce=0.02638, hard dice=0.81460, loss=0.21414, soft dice=0.81246]\n"
     ]
    },
    {
     "name": "stdout",
     "output_type": "stream",
     "text": [
      "soft dice: 0.78234 | loss: 0.24478 | hard dice: 0.78332 | bce: 0.02026\n"
     ]
    },
    {
     "name": "stderr",
     "output_type": "stream",
     "text": [
      "Epoch 56: 100% 2/2 [00:08<00:00,  4.23s/it, bce=0.02245, hard dice=0.75246, loss=0.30498, soft dice=0.71784]\n"
     ]
    },
    {
     "name": "stdout",
     "output_type": "stream",
     "text": [
      "soft dice: 0.78332 | loss: 0.25745 | hard dice: 0.78332 | bce: 0.03065\n"
     ]
    },
    {
     "name": "stderr",
     "output_type": "stream",
     "text": [
      "Epoch 57: 100% 2/2 [00:07<00:00,  3.92s/it, bce=0.03573, hard dice=0.75145, loss=0.29349, soft dice=0.75145]\n"
     ]
    },
    {
     "name": "stdout",
     "output_type": "stream",
     "text": [
      "soft dice: 0.78332 | loss: 0.25431 | hard dice: 0.78332 | bce: 0.03057\n"
     ]
    },
    {
     "name": "stderr",
     "output_type": "stream",
     "text": [
      "Epoch 58: 100% 2/2 [00:08<00:00,  4.37s/it, bce=0.03834, hard dice=0.75196, loss=0.28744, soft dice=0.75196]\n"
     ]
    },
    {
     "name": "stdout",
     "output_type": "stream",
     "text": [
      "soft dice: 0.78332 | loss: 0.25312 | hard dice: 0.78332 | bce: 0.03040\n"
     ]
    },
    {
     "name": "stderr",
     "output_type": "stream",
     "text": [
      "Epoch 59: 100% 2/2 [00:09<00:00,  4.57s/it, bce=0.03114, hard dice=0.62713, loss=0.40539, soft dice=0.62713]\n"
     ]
    },
    {
     "name": "stdout",
     "output_type": "stream",
     "text": [
      "soft dice: 0.78332 | loss: 0.25271 | hard dice: 0.78332 | bce: 0.03038\n"
     ]
    },
    {
     "name": "stderr",
     "output_type": "stream",
     "text": [
      "Epoch 60: 100% 2/2 [00:07<00:00,  3.91s/it, bce=0.03362, hard dice=0.81516, loss=0.28104, soft dice=0.81510]\n"
     ]
    },
    {
     "name": "stdout",
     "output_type": "stream",
     "text": [
      "soft dice: 0.78319 | loss: 0.24384 | hard dice: 0.78332 | bce: 0.02232\n"
     ]
    },
    {
     "name": "stderr",
     "output_type": "stream",
     "text": [
      "Epoch 61: 100% 2/2 [00:09<00:00,  4.50s/it, bce=0.02559, hard dice=0.56469, loss=0.46836, soft dice=0.55769]\n"
     ]
    },
    {
     "name": "stdout",
     "output_type": "stream",
     "text": [
      "soft dice: 0.78325 | loss: 0.24454 | hard dice: 0.78332 | bce: 0.02309\n"
     ]
    },
    {
     "name": "stderr",
     "output_type": "stream",
     "text": [
      "Epoch 62: 100% 2/2 [00:08<00:00,  4.01s/it, bce=0.04477, hard dice=0.62701, loss=0.48119, soft dice=0.62563]\n"
     ]
    },
    {
     "name": "stdout",
     "output_type": "stream",
     "text": [
      "soft dice: 0.78321 | loss: 0.24399 | hard dice: 0.78332 | bce: 0.02249\n"
     ]
    },
    {
     "name": "stderr",
     "output_type": "stream",
     "text": [
      "Epoch 63: 100% 2/2 [00:07<00:00,  3.98s/it, bce=0.02746, hard dice=0.50274, loss=0.59062, soft dice=0.49843]\n"
     ]
    },
    {
     "name": "stdout",
     "output_type": "stream",
     "text": [
      "soft dice: 0.78316 | loss: 0.24363 | hard dice: 0.78332 | bce: 0.02207\n"
     ]
    },
    {
     "name": "stderr",
     "output_type": "stream",
     "text": [
      "Epoch 64: 100% 2/2 [00:08<00:00,  4.27s/it, bce=0.03029, hard dice=0.56594, loss=0.46683, soft dice=0.56410]\n"
     ]
    },
    {
     "name": "stdout",
     "output_type": "stream",
     "text": [
      "soft dice: 0.78312 | loss: 0.24342 | hard dice: 0.78332 | bce: 0.02182\n"
     ]
    },
    {
     "name": "stderr",
     "output_type": "stream",
     "text": [
      "Epoch 65: 100% 2/2 [00:08<00:00,  4.08s/it, bce=0.02620, hard dice=0.75270, loss=0.27424, soft dice=0.75204]\n"
     ]
    },
    {
     "name": "stdout",
     "output_type": "stream",
     "text": [
      "soft dice: 0.78331 | loss: 0.24905 | hard dice: 0.78332 | bce: 0.02770\n"
     ]
    },
    {
     "name": "stderr",
     "output_type": "stream",
     "text": [
      "Epoch 66: 100% 2/2 [00:08<00:00,  4.04s/it, bce=0.02177, hard dice=0.57578, loss=0.51840, soft dice=0.57568]\n"
     ]
    },
    {
     "name": "stdout",
     "output_type": "stream",
     "text": [
      "soft dice: 0.78332 | loss: 0.25040 | hard dice: 0.78332 | bce: 0.02896\n"
     ]
    },
    {
     "name": "stderr",
     "output_type": "stream",
     "text": [
      "Epoch 67: 100% 2/2 [00:08<00:00,  4.38s/it, bce=0.03231, hard dice=0.75364, loss=0.28044, soft dice=0.75363]\n"
     ]
    },
    {
     "name": "stdout",
     "output_type": "stream",
     "text": [
      "soft dice: 0.78331 | loss: 0.24925 | hard dice: 0.78332 | bce: 0.02789\n"
     ]
    },
    {
     "name": "stderr",
     "output_type": "stream",
     "text": [
      "Epoch 68: 100% 2/2 [00:08<00:00,  4.25s/it, bce=0.03946, hard dice=0.50343, loss=0.53769, soft dice=0.50335]\n"
     ]
    },
    {
     "name": "stdout",
     "output_type": "stream",
     "text": [
      "soft dice: 0.78331 | loss: 0.24802 | hard dice: 0.78332 | bce: 0.02668\n"
     ]
    },
    {
     "name": "stderr",
     "output_type": "stream",
     "text": [
      "Epoch 69: 100% 2/2 [00:08<00:00,  4.05s/it, bce=0.03331, hard dice=0.50495, loss=0.53064, soft dice=0.50477]\n"
     ]
    },
    {
     "name": "stdout",
     "output_type": "stream",
     "text": [
      "soft dice: 0.78331 | loss: 0.24688 | hard dice: 0.78332 | bce: 0.02553\n"
     ]
    },
    {
     "name": "stderr",
     "output_type": "stream",
     "text": [
      "Epoch 70: 100% 2/2 [00:08<00:00,  4.07s/it, bce=0.03993, hard dice=0.75209, loss=0.32508, soft dice=0.71566]\n"
     ]
    },
    {
     "name": "stdout",
     "output_type": "stream",
     "text": [
      "soft dice: 0.78309 | loss: 0.24330 | hard dice: 0.78332 | bce: 0.02170\n"
     ]
    },
    {
     "name": "stderr",
     "output_type": "stream",
     "text": [
      "Epoch 71: 100% 2/2 [00:07<00:00,  3.98s/it, bce=0.02989, hard dice=0.75324, loss=0.28351, soft dice=0.74895]\n"
     ]
    },
    {
     "name": "stdout",
     "output_type": "stream",
     "text": [
      "soft dice: 0.78332 | loss: 0.25559 | hard dice: 0.78332 | bce: 0.03110\n"
     ]
    },
    {
     "name": "stderr",
     "output_type": "stream",
     "text": [
      "Epoch 72: 100% 2/2 [00:09<00:00,  4.51s/it, bce=0.02290, hard dice=0.93843, loss=0.15073, soft dice=0.93843]\n"
     ]
    },
    {
     "name": "stdout",
     "output_type": "stream",
     "text": [
      "soft dice: 0.78332 | loss: 0.25710 | hard dice: 0.78332 | bce: 0.03117\n"
     ]
    },
    {
     "name": "stderr",
     "output_type": "stream",
     "text": [
      "Epoch 73: 100% 2/2 [00:08<00:00,  4.11s/it, bce=0.03196, hard dice=0.63430, loss=0.47196, soft dice=0.63430]\n"
     ]
    },
    {
     "name": "stdout",
     "output_type": "stream",
     "text": [
      "soft dice: 0.78332 | loss: 0.25766 | hard dice: 0.78332 | bce: 0.03118\n"
     ]
    },
    {
     "name": "stderr",
     "output_type": "stream",
     "text": [
      "Epoch 74: 100% 2/2 [00:08<00:00,  4.03s/it, bce=0.02334, hard dice=0.87626, loss=0.15150, soft dice=0.87626]\n"
     ]
    },
    {
     "name": "stdout",
     "output_type": "stream",
     "text": [
      "soft dice: 0.78332 | loss: 0.25801 | hard dice: 0.78332 | bce: 0.03119\n"
     ]
    },
    {
     "name": "stderr",
     "output_type": "stream",
     "text": [
      "Epoch 75: 100% 2/2 [00:09<00:00,  4.65s/it, bce=0.01539, hard dice=0.75396, loss=0.26394, soft dice=0.75396]\n"
     ]
    },
    {
     "name": "stdout",
     "output_type": "stream",
     "text": [
      "soft dice: 0.78331 | loss: 0.25051 | hard dice: 0.78332 | bce: 0.02892\n"
     ]
    },
    {
     "name": "stderr",
     "output_type": "stream",
     "text": [
      "Epoch 76: 100% 2/2 [00:08<00:00,  4.11s/it, bce=0.03075, hard dice=0.62857, loss=0.40447, soft dice=0.62781]\n"
     ]
    },
    {
     "name": "stdout",
     "output_type": "stream",
     "text": [
      "soft dice: 0.78318 | loss: 0.24398 | hard dice: 0.78332 | bce: 0.02240\n"
     ]
    },
    {
     "name": "stderr",
     "output_type": "stream",
     "text": [
      "Epoch 77: 100% 2/2 [00:08<00:00,  4.01s/it, bce=0.03048, hard dice=0.68965, loss=0.34870, soft dice=0.68250]\n"
     ]
    },
    {
     "name": "stdout",
     "output_type": "stream",
     "text": [
      "soft dice: 0.78318 | loss: 0.24386 | hard dice: 0.78332 | bce: 0.02236\n"
     ]
    },
    {
     "name": "stderr",
     "output_type": "stream",
     "text": [
      "Epoch 78: 100% 2/2 [00:08<00:00,  4.04s/it, bce=0.02354, hard dice=0.62979, loss=0.39685, soft dice=0.62710]\n"
     ]
    },
    {
     "name": "stdout",
     "output_type": "stream",
     "text": [
      "soft dice: 0.78322 | loss: 0.24412 | hard dice: 0.78332 | bce: 0.02268\n"
     ]
    },
    {
     "name": "stderr",
     "output_type": "stream",
     "text": [
      "Epoch 79: 100% 2/2 [00:08<00:00,  4.41s/it, bce=0.02737, hard dice=0.87552, loss=0.15372, soft dice=0.87425]\n"
     ]
    },
    {
     "name": "stdout",
     "output_type": "stream",
     "text": [
      "soft dice: 0.78319 | loss: 0.24388 | hard dice: 0.78332 | bce: 0.02241\n"
     ]
    },
    {
     "name": "stderr",
     "output_type": "stream",
     "text": [
      "Epoch 80: 100% 2/2 [00:08<00:00,  4.13s/it, bce=0.02793, hard dice=0.62788, loss=0.40330, soft dice=0.62481]\n"
     ]
    },
    {
     "name": "stdout",
     "output_type": "stream",
     "text": [
      "soft dice: 0.78332 | loss: 0.25280 | hard dice: 0.78332 | bce: 0.03044\n"
     ]
    },
    {
     "name": "stderr",
     "output_type": "stream",
     "text": [
      "Epoch 81: 100% 2/2 [00:08<00:00,  4.34s/it, bce=0.03248, hard dice=0.93862, loss=0.15519, soft dice=0.93862]\n"
     ]
    },
    {
     "name": "stdout",
     "output_type": "stream",
     "text": [
      "soft dice: 0.78332 | loss: 0.25376 | hard dice: 0.78332 | bce: 0.03078\n"
     ]
    },
    {
     "name": "stderr",
     "output_type": "stream",
     "text": [
      "Epoch 82: 100% 2/2 [00:08<00:00,  4.07s/it, bce=0.04335, hard dice=0.62667, loss=0.41864, soft dice=0.62667]\n"
     ]
    },
    {
     "name": "stdout",
     "output_type": "stream",
     "text": [
      "soft dice: 0.78332 | loss: 0.25350 | hard dice: 0.78332 | bce: 0.03069\n"
     ]
    },
    {
     "name": "stderr",
     "output_type": "stream",
     "text": [
      "Epoch 83: 100% 2/2 [00:07<00:00,  3.95s/it, bce=0.03226, hard dice=0.88444, loss=0.15535, soft dice=0.88444]\n"
     ]
    },
    {
     "name": "stdout",
     "output_type": "stream",
     "text": [
      "soft dice: 0.78332 | loss: 0.25203 | hard dice: 0.78332 | bce: 0.02995\n"
     ]
    },
    {
     "name": "stderr",
     "output_type": "stream",
     "text": [
      "Epoch 84: 100% 2/2 [00:08<00:00,  4.08s/it, bce=0.03140, hard dice=0.50272, loss=0.58681, soft dice=0.50272]\n"
     ]
    },
    {
     "name": "stdout",
     "output_type": "stream",
     "text": [
      "soft dice: 0.78332 | loss: 0.25195 | hard dice: 0.78332 | bce: 0.02991\n"
     ]
    },
    {
     "name": "stderr",
     "output_type": "stream",
     "text": [
      "Epoch 85: 100% 2/2 [00:07<00:00,  3.94s/it, bce=0.03352, hard dice=0.56574, loss=0.47025, soft dice=0.56448]\n"
     ]
    },
    {
     "name": "stdout",
     "output_type": "stream",
     "text": [
      "soft dice: 0.77689 | loss: 0.24597 | hard dice: 0.78332 | bce: 0.01825\n"
     ]
    },
    {
     "name": "stderr",
     "output_type": "stream",
     "text": [
      "Epoch 86: 100% 2/2 [00:08<00:00,  4.36s/it, bce=0.01745, hard dice=0.81434, loss=0.21521, soft dice=0.80246]\n"
     ]
    },
    {
     "name": "stdout",
     "output_type": "stream",
     "text": [
      "soft dice: 0.78331 | loss: 0.24998 | hard dice: 0.78332 | bce: 0.02843\n"
     ]
    },
    {
     "name": "stderr",
     "output_type": "stream",
     "text": [
      "Epoch 87: 100% 2/2 [00:08<00:00,  4.32s/it, bce=0.03448, hard dice=0.81448, loss=0.22161, soft dice=0.81447]\n"
     ]
    },
    {
     "name": "stdout",
     "output_type": "stream",
     "text": [
      "soft dice: 0.78332 | loss: 0.25013 | hard dice: 0.78332 | bce: 0.02860\n"
     ]
    },
    {
     "name": "stderr",
     "output_type": "stream",
     "text": [
      "Epoch 88: 100% 2/2 [00:09<00:00,  4.65s/it, bce=0.02632, hard dice=0.68972, loss=0.33660, soft dice=0.68968]\n"
     ]
    },
    {
     "name": "stdout",
     "output_type": "stream",
     "text": [
      "soft dice: 0.78331 | loss: 0.24919 | hard dice: 0.78332 | bce: 0.02773\n"
     ]
    },
    {
     "name": "stderr",
     "output_type": "stream",
     "text": [
      "Epoch 89: 100% 2/2 [00:09<00:00,  4.55s/it, bce=0.02402, hard dice=0.93930, loss=0.08539, soft dice=0.93922]\n"
     ]
    },
    {
     "name": "stdout",
     "output_type": "stream",
     "text": [
      "soft dice: 0.78331 | loss: 0.24882 | hard dice: 0.78332 | bce: 0.02738\n"
     ]
    },
    {
     "name": "stderr",
     "output_type": "stream",
     "text": [
      "Epoch 90: 100% 2/2 [00:09<00:00,  4.62s/it, bce=0.03698, hard dice=0.62673, loss=0.41175, soft dice=0.62530]\n"
     ]
    },
    {
     "name": "stdout",
     "output_type": "stream",
     "text": [
      "soft dice: 0.78285 | loss: 0.24274 | hard dice: 0.78332 | bce: 0.02089\n"
     ]
    },
    {
     "name": "stderr",
     "output_type": "stream",
     "text": [
      "Epoch 91: 100% 2/2 [00:08<00:00,  4.25s/it, bce=0.01855, hard dice=0.81513, loss=0.22072, soft dice=0.79930]\n"
     ]
    },
    {
     "name": "stdout",
     "output_type": "stream",
     "text": [
      "soft dice: 0.78332 | loss: 0.25347 | hard dice: 0.78332 | bce: 0.02964\n"
     ]
    },
    {
     "name": "stderr",
     "output_type": "stream",
     "text": [
      "Epoch 92: 100% 2/2 [00:08<00:00,  4.38s/it, bce=0.02862, hard dice=0.56971, loss=0.46454, soft dice=0.56970]\n"
     ]
    },
    {
     "name": "stdout",
     "output_type": "stream",
     "text": [
      "soft dice: 0.78332 | loss: 0.25346 | hard dice: 0.78332 | bce: 0.03052\n"
     ]
    },
    {
     "name": "stderr",
     "output_type": "stream",
     "text": [
      "Epoch 93: 100% 2/2 [00:08<00:00,  4.02s/it, bce=0.03513, hard dice=0.62863, loss=0.41078, soft dice=0.62863]\n"
     ]
    },
    {
     "name": "stdout",
     "output_type": "stream",
     "text": [
      "soft dice: 0.78332 | loss: 0.25525 | hard dice: 0.78332 | bce: 0.03090\n"
     ]
    },
    {
     "name": "stderr",
     "output_type": "stream",
     "text": [
      "Epoch 94: 100% 2/2 [00:07<00:00,  3.87s/it, bce=0.03583, hard dice=0.56491, loss=0.47167, soft dice=0.56490]\n"
     ]
    },
    {
     "name": "stdout",
     "output_type": "stream",
     "text": [
      "soft dice: 0.78332 | loss: 0.25411 | hard dice: 0.78332 | bce: 0.03083\n"
     ]
    },
    {
     "name": "stderr",
     "output_type": "stream",
     "text": [
      "Epoch 95: 100% 2/2 [00:08<00:00,  4.15s/it, bce=0.03896, hard dice=0.68938, loss=0.35089, soft dice=0.68938]\n"
     ]
    },
    {
     "name": "stdout",
     "output_type": "stream",
     "text": [
      "soft dice: 0.78331 | loss: 0.24746 | hard dice: 0.78332 | bce: 0.02609\n"
     ]
    },
    {
     "name": "stderr",
     "output_type": "stream",
     "text": [
      "Epoch 96: 100% 2/2 [00:08<00:00,  4.37s/it, bce=0.03962, hard dice=0.87633, loss=0.16727, soft dice=0.87295]\n"
     ]
    },
    {
     "name": "stdout",
     "output_type": "stream",
     "text": [
      "soft dice: 0.78132 | loss: 0.24285 | hard dice: 0.78332 | bce: 0.01951\n"
     ]
    },
    {
     "name": "stderr",
     "output_type": "stream",
     "text": [
      "Epoch 97: 100% 2/2 [00:09<00:00,  4.53s/it, bce=0.02374, hard dice=0.81346, loss=0.22694, soft dice=0.79767]\n"
     ]
    },
    {
     "name": "stdout",
     "output_type": "stream",
     "text": [
      "soft dice: 0.78293 | loss: 0.24277 | hard dice: 0.78332 | bce: 0.02104\n"
     ]
    },
    {
     "name": "stderr",
     "output_type": "stream",
     "text": [
      "Epoch 98: 100% 2/2 [00:08<00:00,  4.07s/it, bce=0.03835, hard dice=0.56525, loss=0.53545, soft dice=0.56417]\n"
     ]
    },
    {
     "name": "stdout",
     "output_type": "stream",
     "text": [
      "soft dice: 0.78322 | loss: 0.24391 | hard dice: 0.78332 | bce: 0.02247\n"
     ]
    },
    {
     "name": "stderr",
     "output_type": "stream",
     "text": [
      "Epoch 99: 100% 2/2 [00:08<00:00,  4.01s/it, bce=0.04085, hard dice=0.50221, loss=0.53945, soft dice=0.50140]\n"
     ]
    },
    {
     "name": "stdout",
     "output_type": "stream",
     "text": [
      "soft dice: 0.78321 | loss: 0.24379 | hard dice: 0.78332 | bce: 0.02234\n"
     ]
    },
    {
     "name": "stderr",
     "output_type": "stream",
     "text": [
      "Epoch 100: 100% 2/2 [00:08<00:00,  4.24s/it, bce=0.02175, hard dice=0.93815, loss=0.08402, soft dice=0.93793]\n"
     ]
    },
    {
     "name": "stdout",
     "output_type": "stream",
     "text": [
      "soft dice: 0.78330 | loss: 0.24625 | hard dice: 0.78332 | bce: 0.02484\n"
     ]
    },
    {
     "name": "stderr",
     "output_type": "stream",
     "text": [
      "Epoch 101: 100% 2/2 [00:08<00:00,  4.36s/it, bce=0.02332, hard dice=0.76129, loss=0.27093, soft dice=0.76095]\n"
     ]
    },
    {
     "name": "stdout",
     "output_type": "stream",
     "text": [
      "soft dice: 0.78330 | loss: 0.24578 | hard dice: 0.78332 | bce: 0.02445\n"
     ]
    },
    {
     "name": "stderr",
     "output_type": "stream",
     "text": [
      "Epoch 102: 100% 2/2 [00:08<00:00,  4.12s/it, bce=0.03024, hard dice=0.56535, loss=0.58530, soft dice=0.56486]\n"
     ]
    },
    {
     "name": "stdout",
     "output_type": "stream",
     "text": [
      "soft dice: 0.78329 | loss: 0.24517 | hard dice: 0.78332 | bce: 0.02383\n"
     ]
    },
    {
     "name": "stderr",
     "output_type": "stream",
     "text": [
      "Epoch 103: 100% 2/2 [00:08<00:00,  4.49s/it, bce=0.03106, hard dice=0.62911, loss=0.40253, soft dice=0.62883]\n"
     ]
    },
    {
     "name": "stdout",
     "output_type": "stream",
     "text": [
      "soft dice: 0.78326 | loss: 0.24435 | hard dice: 0.78332 | bce: 0.02298\n"
     ]
    },
    {
     "name": "stderr",
     "output_type": "stream",
     "text": [
      "Epoch 104: 100% 2/2 [00:08<00:00,  4.39s/it, bce=0.02156, hard dice=0.68962, loss=0.38977, soft dice=0.68927]\n"
     ]
    },
    {
     "name": "stdout",
     "output_type": "stream",
     "text": [
      "soft dice: 0.78325 | loss: 0.24418 | hard dice: 0.78332 | bce: 0.02279\n"
     ]
    },
    {
     "name": "stderr",
     "output_type": "stream",
     "text": [
      "Epoch 105: 100% 2/2 [00:08<00:00,  4.11s/it, bce=0.02903, hard dice=0.69274, loss=0.37703, soft dice=0.65589]\n"
     ]
    },
    {
     "name": "stdout",
     "output_type": "stream",
     "text": [
      "soft dice: 0.78326 | loss: 0.24439 | hard dice: 0.78332 | bce: 0.02303\n"
     ]
    },
    {
     "name": "stderr",
     "output_type": "stream",
     "text": [
      "Epoch 106: 100% 2/2 [00:08<00:00,  4.44s/it, bce=0.03771, hard dice=0.81437, loss=0.22398, soft dice=0.81371]\n"
     ]
    },
    {
     "name": "stdout",
     "output_type": "stream",
     "text": [
      "soft dice: 0.78332 | loss: 0.25548 | hard dice: 0.78332 | bce: 0.03111\n"
     ]
    },
    {
     "name": "stderr",
     "output_type": "stream",
     "text": [
      "Epoch 107: 100% 2/2 [00:08<00:00,  4.28s/it, bce=0.03385, hard dice=0.62730, loss=0.41011, soft dice=0.62730]\n"
     ]
    },
    {
     "name": "stdout",
     "output_type": "stream",
     "text": [
      "soft dice: 0.78332 | loss: 0.25580 | hard dice: 0.78332 | bce: 0.03114\n"
     ]
    },
    {
     "name": "stderr",
     "output_type": "stream",
     "text": [
      "Epoch 108: 100% 2/2 [00:08<00:00,  4.03s/it, bce=0.02733, hard dice=0.69989, loss=0.33813, soft dice=0.69989]\n"
     ]
    },
    {
     "name": "stdout",
     "output_type": "stream",
     "text": [
      "soft dice: 0.78332 | loss: 0.25465 | hard dice: 0.78332 | bce: 0.03104\n"
     ]
    },
    {
     "name": "stderr",
     "output_type": "stream",
     "text": [
      "Epoch 109: 100% 2/2 [00:07<00:00,  3.86s/it, bce=0.04458, hard dice=0.75140, loss=0.29466, soft dice=0.75140]\n"
     ]
    },
    {
     "name": "stdout",
     "output_type": "stream",
     "text": [
      "soft dice: 0.78332 | loss: 0.25411 | hard dice: 0.78332 | bce: 0.03095\n"
     ]
    },
    {
     "name": "stderr",
     "output_type": "stream",
     "text": [
      "Epoch 110: 100% 2/2 [00:08<00:00,  4.08s/it, bce=0.02906, hard dice=0.75115, loss=0.27958, soft dice=0.75114]\n"
     ]
    },
    {
     "name": "stdout",
     "output_type": "stream",
     "text": [
      "soft dice: 0.78326 | loss: 0.24429 | hard dice: 0.78332 | bce: 0.02293\n"
     ]
    },
    {
     "name": "stderr",
     "output_type": "stream",
     "text": [
      "Epoch 111: 100% 2/2 [00:07<00:00,  3.99s/it, bce=0.02084, hard dice=0.50253, loss=0.52851, soft dice=0.49295]\n"
     ]
    },
    {
     "name": "stdout",
     "output_type": "stream",
     "text": [
      "soft dice: 0.78322 | loss: 0.24378 | hard dice: 0.78332 | bce: 0.02237\n"
     ]
    },
    {
     "name": "stderr",
     "output_type": "stream",
     "text": [
      "Epoch 112: 100% 2/2 [00:07<00:00,  3.91s/it, bce=0.03761, hard dice=0.75202, loss=0.29094, soft dice=0.74711]\n"
     ]
    },
    {
     "name": "stdout",
     "output_type": "stream",
     "text": [
      "soft dice: 0.78325 | loss: 0.24414 | hard dice: 0.78332 | bce: 0.02277\n"
     ]
    },
    {
     "name": "stderr",
     "output_type": "stream",
     "text": [
      "Epoch 113: 100% 2/2 [00:08<00:00,  4.28s/it, bce=0.02864, hard dice=0.44877, loss=0.58711, soft dice=0.44847]\n"
     ]
    },
    {
     "name": "stdout",
     "output_type": "stream",
     "text": [
      "soft dice: 0.78328 | loss: 0.24486 | hard dice: 0.78332 | bce: 0.02352\n"
     ]
    },
    {
     "name": "stderr",
     "output_type": "stream",
     "text": [
      "Epoch 114: 100% 2/2 [00:07<00:00,  3.90s/it, bce=0.03596, hard dice=0.50170, loss=0.53605, soft dice=0.50067]\n"
     ]
    },
    {
     "name": "stdout",
     "output_type": "stream",
     "text": [
      "soft dice: 0.78327 | loss: 0.24457 | hard dice: 0.78332 | bce: 0.02321\n"
     ]
    },
    {
     "name": "stderr",
     "output_type": "stream",
     "text": [
      "Epoch 115: 100% 2/2 [00:08<00:00,  4.06s/it, bce=0.03501, hard dice=0.56687, loss=0.47103, soft dice=0.56565]\n"
     ]
    },
    {
     "name": "stdout",
     "output_type": "stream",
     "text": [
      "soft dice: 0.78324 | loss: 0.24419 | hard dice: 0.78332 | bce: 0.02281\n"
     ]
    },
    {
     "name": "stderr",
     "output_type": "stream",
     "text": [
      "Epoch 116: 100% 2/2 [00:08<00:00,  4.04s/it, bce=0.02652, hard dice=0.69011, loss=0.33854, soft dice=0.68875]\n"
     ]
    },
    {
     "name": "stdout",
     "output_type": "stream",
     "text": [
      "soft dice: 0.78329 | loss: 0.24530 | hard dice: 0.78332 | bce: 0.02398\n"
     ]
    },
    {
     "name": "stderr",
     "output_type": "stream",
     "text": [
      "Epoch 117: 100% 2/2 [00:08<00:00,  4.33s/it, bce=0.02488, hard dice=0.69000, loss=0.33842, soft dice=0.68692]\n"
     ]
    },
    {
     "name": "stdout",
     "output_type": "stream",
     "text": [
      "soft dice: 0.78328 | loss: 0.24498 | hard dice: 0.78332 | bce: 0.02365\n"
     ]
    },
    {
     "name": "stderr",
     "output_type": "stream",
     "text": [
      "Epoch 118: 100% 2/2 [00:09<00:00,  4.57s/it, bce=0.02645, hard dice=0.75139, loss=0.27772, soft dice=0.74925]\n"
     ]
    },
    {
     "name": "stdout",
     "output_type": "stream",
     "text": [
      "soft dice: 0.78327 | loss: 0.24480 | hard dice: 0.78332 | bce: 0.02346\n"
     ]
    },
    {
     "name": "stderr",
     "output_type": "stream",
     "text": [
      "Epoch 119: 100% 2/2 [00:08<00:00,  4.16s/it, bce=0.03175, hard dice=0.81353, loss=0.21800, soft dice=0.81325]\n"
     ]
    },
    {
     "name": "stdout",
     "output_type": "stream",
     "text": [
      "soft dice: 0.78326 | loss: 0.24451 | hard dice: 0.78332 | bce: 0.02315\n"
     ]
    },
    {
     "name": "stderr",
     "output_type": "stream",
     "text": [
      "Epoch 120: 100% 2/2 [00:08<00:00,  4.02s/it, bce=0.03223, hard dice=0.62676, loss=0.40963, soft dice=0.62350]\n"
     ]
    },
    {
     "name": "stdout",
     "output_type": "stream",
     "text": [
      "soft dice: 0.78325 | loss: 0.24418 | hard dice: 0.78332 | bce: 0.02282\n"
     ]
    },
    {
     "name": "stderr",
     "output_type": "stream",
     "text": [
      "Epoch 121: 100% 2/2 [00:08<00:00,  4.08s/it, bce=0.01767, hard dice=0.87615, loss=0.14159, soft dice=0.87589]\n"
     ]
    },
    {
     "name": "stdout",
     "output_type": "stream",
     "text": [
      "soft dice: 0.78330 | loss: 0.24570 | hard dice: 0.78332 | bce: 0.02439\n"
     ]
    },
    {
     "name": "stderr",
     "output_type": "stream",
     "text": [
      "Epoch 122: 100% 2/2 [00:09<00:00,  4.53s/it, bce=0.04381, hard dice=0.69005, loss=0.35476, soft dice=0.68957]\n"
     ]
    },
    {
     "name": "stdout",
     "output_type": "stream",
     "text": [
      "soft dice: 0.78329 | loss: 0.24512 | hard dice: 0.78332 | bce: 0.02380\n"
     ]
    },
    {
     "name": "stderr",
     "output_type": "stream",
     "text": [
      "Epoch 123: 100% 2/2 [00:09<00:00,  4.63s/it, bce=0.01953, hard dice=0.87733, loss=0.14289, soft dice=0.87716]\n"
     ]
    },
    {
     "name": "stdout",
     "output_type": "stream",
     "text": [
      "soft dice: 0.78327 | loss: 0.24456 | hard dice: 0.78332 | bce: 0.02322\n"
     ]
    },
    {
     "name": "stderr",
     "output_type": "stream",
     "text": [
      "Epoch 124: 100% 2/2 [00:08<00:00,  4.13s/it, bce=0.01871, hard dice=0.93874, loss=0.08136, soft dice=0.93822]\n"
     ]
    },
    {
     "name": "stdout",
     "output_type": "stream",
     "text": [
      "soft dice: 0.78324 | loss: 0.24404 | hard dice: 0.78332 | bce: 0.02267\n"
     ]
    },
    {
     "name": "stderr",
     "output_type": "stream",
     "text": [
      "Epoch 125: 100% 2/2 [00:08<00:00,  4.01s/it, bce=0.02914, hard dice=0.62693, loss=0.40975, soft dice=0.62003]\n"
     ]
    },
    {
     "name": "stdout",
     "output_type": "stream",
     "text": [
      "soft dice: 0.78322 | loss: 0.24368 | hard dice: 0.78332 | bce: 0.02230\n"
     ]
    },
    {
     "name": "stderr",
     "output_type": "stream",
     "text": [
      "Epoch 126: 100% 2/2 [00:09<00:00,  4.55s/it, bce=0.03420, hard dice=0.69063, loss=0.34467, soft dice=0.69027]\n"
     ]
    },
    {
     "name": "stdout",
     "output_type": "stream",
     "text": [
      "soft dice: 0.78331 | loss: 0.24699 | hard dice: 0.78332 | bce: 0.02570\n"
     ]
    },
    {
     "name": "stderr",
     "output_type": "stream",
     "text": [
      "Epoch 127: 100% 2/2 [00:08<00:00,  4.29s/it, bce=0.03724, hard dice=0.62814, loss=0.40992, soft dice=0.62810]\n"
     ]
    },
    {
     "name": "stdout",
     "output_type": "stream",
     "text": [
      "soft dice: 0.78331 | loss: 0.24652 | hard dice: 0.78332 | bce: 0.02523\n"
     ]
    },
    {
     "name": "stderr",
     "output_type": "stream",
     "text": [
      "Epoch 128: 100% 2/2 [00:09<00:00,  4.56s/it, bce=0.02206, hard dice=0.93840, loss=0.08370, soft dice=0.93836]\n"
     ]
    },
    {
     "name": "stdout",
     "output_type": "stream",
     "text": [
      "soft dice: 0.78330 | loss: 0.24575 | hard dice: 0.78332 | bce: 0.02446\n"
     ]
    },
    {
     "name": "stderr",
     "output_type": "stream",
     "text": [
      "Epoch 129: 100% 2/2 [00:08<00:00,  4.31s/it, bce=0.02238, hard dice=0.93830, loss=0.08481, soft dice=0.93815]\n"
     ]
    },
    {
     "name": "stdout",
     "output_type": "stream",
     "text": [
      "soft dice: 0.78329 | loss: 0.24530 | hard dice: 0.78332 | bce: 0.02399\n"
     ]
    },
    {
     "name": "stderr",
     "output_type": "stream",
     "text": [
      "Epoch 130: 100% 2/2 [00:08<00:00,  4.43s/it, bce=0.02886, hard dice=0.56472, loss=0.47759, soft dice=0.55184]\n"
     ]
    },
    {
     "name": "stdout",
     "output_type": "stream",
     "text": [
      "soft dice: 0.78322 | loss: 0.24357 | hard dice: 0.78332 | bce: 0.02216\n"
     ]
    },
    {
     "name": "stderr",
     "output_type": "stream",
     "text": [
      "Epoch 131: 100% 2/2 [00:08<00:00,  4.26s/it, bce=0.03126, hard dice=0.69062, loss=0.40124, soft dice=0.68996]\n"
     ]
    },
    {
     "name": "stdout",
     "output_type": "stream",
     "text": [
      "soft dice: 0.78332 | loss: 0.25829 | hard dice: 0.78332 | bce: 0.03040\n"
     ]
    },
    {
     "name": "stderr",
     "output_type": "stream",
     "text": [
      "Epoch 132: 100% 2/2 [00:08<00:00,  4.38s/it, bce=0.04570, hard dice=0.75859, loss=0.28908, soft dice=0.75859]\n"
     ]
    },
    {
     "name": "stdout",
     "output_type": "stream",
     "text": [
      "soft dice: 0.78332 | loss: 0.25598 | hard dice: 0.78332 | bce: 0.03032\n"
     ]
    },
    {
     "name": "stderr",
     "output_type": "stream",
     "text": [
      "Epoch 133: 100% 2/2 [00:08<00:00,  4.04s/it, bce=0.04483, hard dice=0.56446, loss=0.48405, soft dice=0.56446]\n"
     ]
    },
    {
     "name": "stdout",
     "output_type": "stream",
     "text": [
      "soft dice: 0.78332 | loss: 0.25273 | hard dice: 0.78332 | bce: 0.02979\n"
     ]
    },
    {
     "name": "stderr",
     "output_type": "stream",
     "text": [
      "Epoch 134: 100% 2/2 [00:07<00:00,  3.96s/it, bce=0.02892, hard dice=0.69108, loss=0.33917, soft dice=0.69108]\n"
     ]
    },
    {
     "name": "stdout",
     "output_type": "stream",
     "text": [
      "soft dice: 0.78332 | loss: 0.25180 | hard dice: 0.78332 | bce: 0.02970\n"
     ]
    },
    {
     "name": "stderr",
     "output_type": "stream",
     "text": [
      "Epoch 135: 100% 2/2 [00:09<00:00,  4.52s/it, bce=0.03736, hard dice=0.69158, loss=0.34891, soft dice=0.69067]\n"
     ]
    },
    {
     "name": "stdout",
     "output_type": "stream",
     "text": [
      "soft dice: 0.78178 | loss: 0.24278 | hard dice: 0.78332 | bce: 0.01942\n"
     ]
    },
    {
     "name": "stderr",
     "output_type": "stream",
     "text": [
      "Epoch 136: 100% 2/2 [00:08<00:00,  4.02s/it, bce=0.02547, hard dice=0.69269, loss=0.39982, soft dice=0.68861]\n"
     ]
    },
    {
     "name": "stdout",
     "output_type": "stream",
     "text": [
      "soft dice: 0.78332 | loss: 0.35551 | hard dice: 0.78332 | bce: 0.02964\n"
     ]
    },
    {
     "name": "stderr",
     "output_type": "stream",
     "text": [
      "Epoch 137: 100% 2/2 [00:08<00:00,  4.22s/it, bce=0.02494, hard dice=0.81433, loss=0.21101, soft dice=0.81433]\n"
     ]
    },
    {
     "name": "stdout",
     "output_type": "stream",
     "text": [
      "soft dice: 0.78332 | loss: 0.25848 | hard dice: 0.78332 | bce: 0.03017\n"
     ]
    },
    {
     "name": "stderr",
     "output_type": "stream",
     "text": [
      "Epoch 138: 100% 2/2 [00:08<00:00,  4.28s/it, bce=0.03414, hard dice=0.69009, loss=0.34440, soft dice=0.69008]\n"
     ]
    },
    {
     "name": "stdout",
     "output_type": "stream",
     "text": [
      "soft dice: 0.78332 | loss: 0.25277 | hard dice: 0.78332 | bce: 0.02982\n"
     ]
    },
    {
     "name": "stderr",
     "output_type": "stream",
     "text": [
      "Epoch 139: 100% 2/2 [00:07<00:00,  3.98s/it, bce=0.03275, hard dice=0.81320, loss=0.22012, soft dice=0.81320]\n"
     ]
    },
    {
     "name": "stdout",
     "output_type": "stream",
     "text": [
      "soft dice: 0.78332 | loss: 0.25114 | hard dice: 0.78332 | bce: 0.02945\n"
     ]
    },
    {
     "name": "stderr",
     "output_type": "stream",
     "text": [
      "Epoch 140: 100% 2/2 [00:08<00:00,  4.07s/it, bce=0.02390, hard dice=0.87631, loss=0.14791, soft dice=0.87631]\n"
     ]
    },
    {
     "name": "stdout",
     "output_type": "stream",
     "text": [
      "soft dice: 0.78310 | loss: 0.24302 | hard dice: 0.78332 | bce: 0.02149\n"
     ]
    },
    {
     "name": "stderr",
     "output_type": "stream",
     "text": [
      "Epoch 141: 100% 2/2 [00:08<00:00,  4.35s/it, bce=0.02349, hard dice=0.62721, loss=0.40192, soft dice=0.62251]\n"
     ]
    },
    {
     "name": "stdout",
     "output_type": "stream",
     "text": [
      "soft dice: 0.78328 | loss: 0.24499 | hard dice: 0.78332 | bce: 0.02371\n"
     ]
    },
    {
     "name": "stderr",
     "output_type": "stream",
     "text": [
      "Epoch 142: 100% 2/2 [00:08<00:00,  4.38s/it, bce=0.02395, hard dice=0.62735, loss=0.39720, soft dice=0.62703]\n"
     ]
    },
    {
     "name": "stdout",
     "output_type": "stream",
     "text": [
      "soft dice: 0.78329 | loss: 0.24518 | hard dice: 0.78332 | bce: 0.02391\n"
     ]
    },
    {
     "name": "stderr",
     "output_type": "stream",
     "text": [
      "Epoch 143: 100% 2/2 [00:08<00:00,  4.33s/it, bce=0.02789, hard dice=0.75145, loss=0.27720, soft dice=0.75116]\n"
     ]
    },
    {
     "name": "stdout",
     "output_type": "stream",
     "text": [
      "soft dice: 0.78329 | loss: 0.24505 | hard dice: 0.78332 | bce: 0.02378\n"
     ]
    },
    {
     "name": "stderr",
     "output_type": "stream",
     "text": [
      "Epoch 144: 100% 2/2 [00:08<00:00,  4.22s/it, bce=0.02261, hard dice=0.81614, loss=0.20771, soft dice=0.81587]\n"
     ]
    },
    {
     "name": "stdout",
     "output_type": "stream",
     "text": [
      "soft dice: 0.78328 | loss: 0.24496 | hard dice: 0.78332 | bce: 0.02367\n"
     ]
    },
    {
     "name": "stderr",
     "output_type": "stream",
     "text": [
      "Epoch 145: 100% 2/2 [00:07<00:00,  3.82s/it, bce=0.03145, hard dice=0.62854, loss=0.40475, soft dice=0.62626]\n"
     ]
    },
    {
     "name": "stdout",
     "output_type": "stream",
     "text": [
      "soft dice: 0.78179 | loss: 0.24221 | hard dice: 0.78332 | bce: 0.01943\n"
     ]
    },
    {
     "name": "stderr",
     "output_type": "stream",
     "text": [
      "Epoch 146: 100% 2/2 [00:07<00:00,  3.95s/it, bce=0.01928, hard dice=0.87625, loss=0.14804, soft dice=0.87624]\n"
     ]
    },
    {
     "name": "stdout",
     "output_type": "stream",
     "text": [
      "soft dice: 0.78332 | loss: 0.25245 | hard dice: 0.78332 | bce: 0.03040\n"
     ]
    },
    {
     "name": "stderr",
     "output_type": "stream",
     "text": [
      "Epoch 147: 100% 2/2 [00:09<00:00,  4.59s/it, bce=0.03088, hard dice=0.56681, loss=0.46635, soft dice=0.56681]\n"
     ]
    },
    {
     "name": "stdout",
     "output_type": "stream",
     "text": [
      "soft dice: 0.78332 | loss: 0.25256 | hard dice: 0.78332 | bce: 0.03044\n"
     ]
    },
    {
     "name": "stderr",
     "output_type": "stream",
     "text": [
      "Epoch 148: 100% 2/2 [00:08<00:00,  4.42s/it, bce=0.02958, hard dice=0.81472, loss=0.21574, soft dice=0.81472]\n"
     ]
    },
    {
     "name": "stdout",
     "output_type": "stream",
     "text": [
      "soft dice: 0.78332 | loss: 0.25225 | hard dice: 0.78332 | bce: 0.03027\n"
     ]
    },
    {
     "name": "stderr",
     "output_type": "stream",
     "text": [
      "Epoch 149: 100% 2/2 [00:08<00:00,  4.39s/it, bce=0.04959, hard dice=0.62761, loss=0.42592, soft dice=0.62761]\n"
     ]
    },
    {
     "name": "stdout",
     "output_type": "stream",
     "text": [
      "soft dice: 0.78332 | loss: 0.25209 | hard dice: 0.78332 | bce: 0.03018\n",
      "Finished train fold: 0 with best loss 0.24221 on epoch 145\n",
      "\n"
     ]
    },
    {
     "name": "stderr",
     "output_type": "stream",
     "text": [
      "Epoch 0: 100% 2/2 [00:08<00:00,  4.28s/it, bce=0.33623, hard dice=0.44164, loss=1.33382, soft dice=0.00277]\n"
     ]
    },
    {
     "name": "stdout",
     "output_type": "stream",
     "text": [
      "soft dice: 0.83417 | loss: 3.49666 | hard dice: 0.83417 | bce: 0.02524\n"
     ]
    },
    {
     "name": "stderr",
     "output_type": "stream",
     "text": [
      "Epoch 1: 100% 2/2 [00:08<00:00,  4.24s/it, bce=0.02670, hard dice=0.56464, loss=0.64999, soft dice=0.38131]\n"
     ]
    },
    {
     "name": "stdout",
     "output_type": "stream",
     "text": [
      "soft dice: 0.83417 | loss: 331.34379 | hard dice: 0.83417 | bce: 0.02524\n"
     ]
    },
    {
     "name": "stderr",
     "output_type": "stream",
     "text": [
      "Epoch 2: 100% 2/2 [00:08<00:00,  4.43s/it, bce=0.03966, hard dice=0.81419, loss=0.26517, soft dice=0.81419]\n"
     ]
    },
    {
     "name": "stdout",
     "output_type": "stream",
     "text": [
      "soft dice: 0.83417 | loss: 88.87015 | hard dice: 0.83417 | bce: 0.02524\n"
     ]
    },
    {
     "name": "stderr",
     "output_type": "stream",
     "text": [
      "Epoch 3: 100% 2/2 [00:08<00:00,  4.10s/it, bce=0.04907, hard dice=0.68891, loss=0.40128, soft dice=0.68891]\n"
     ]
    },
    {
     "name": "stdout",
     "output_type": "stream",
     "text": [
      "soft dice: 0.83417 | loss: 32279.14583 | hard dice: 0.83417 | bce: 0.02524\n"
     ]
    },
    {
     "name": "stderr",
     "output_type": "stream",
     "text": [
      "Epoch 4: 100% 2/2 [00:08<00:00,  4.37s/it, bce=0.03311, hard dice=0.87553, loss=0.18097, soft dice=0.86182]\n"
     ]
    },
    {
     "name": "stdout",
     "output_type": "stream",
     "text": [
      "soft dice: 0.83417 | loss: 1297.90929 | hard dice: 0.83417 | bce: 0.02524\n"
     ]
    },
    {
     "name": "stderr",
     "output_type": "stream",
     "text": [
      "Epoch 5: 100% 2/2 [00:08<00:00,  4.44s/it, bce=0.04836, hard dice=0.63030, loss=0.43744, soft dice=0.63029]\n"
     ]
    },
    {
     "name": "stdout",
     "output_type": "stream",
     "text": [
      "soft dice: 0.83417 | loss: 82.21581 | hard dice: 0.83417 | bce: 0.02524\n"
     ]
    },
    {
     "name": "stderr",
     "output_type": "stream",
     "text": [
      "Epoch 6: 100% 2/2 [00:08<00:00,  4.24s/it, bce=0.04495, hard dice=0.62681, loss=0.42919, soft dice=0.62680]\n"
     ]
    },
    {
     "name": "stdout",
     "output_type": "stream",
     "text": [
      "soft dice: 0.83417 | loss: 4.39458 | hard dice: 0.83417 | bce: 0.02524\n"
     ]
    },
    {
     "name": "stderr",
     "output_type": "stream",
     "text": [
      "Epoch 7: 100% 2/2 [00:08<00:00,  4.16s/it, bce=0.03059, hard dice=0.81369, loss=0.22191, soft dice=0.81354]\n"
     ]
    },
    {
     "name": "stdout",
     "output_type": "stream",
     "text": [
      "soft dice: 0.83417 | loss: 0.49871 | hard dice: 0.83417 | bce: 0.02523\n"
     ]
    },
    {
     "name": "stderr",
     "output_type": "stream",
     "text": [
      "Epoch 8: 100% 2/2 [00:08<00:00,  4.38s/it, bce=0.04149, hard dice=0.56373, loss=0.48241, soft dice=0.56028]\n"
     ]
    },
    {
     "name": "stdout",
     "output_type": "stream",
     "text": [
      "soft dice: 0.83417 | loss: 0.21840 | hard dice: 0.83417 | bce: 0.02514\n"
     ]
    },
    {
     "name": "stderr",
     "output_type": "stream",
     "text": [
      "Epoch 9: 100% 2/2 [00:08<00:00,  4.14s/it, bce=0.03810, hard dice=0.68993, loss=0.35155, soft dice=0.68758]\n"
     ]
    },
    {
     "name": "stdout",
     "output_type": "stream",
     "text": [
      "soft dice: 0.83417 | loss: 0.20762 | hard dice: 0.83417 | bce: 0.02324\n"
     ]
    },
    {
     "name": "stderr",
     "output_type": "stream",
     "text": [
      "Epoch 10: 100% 2/2 [00:08<00:00,  4.33s/it, bce=0.03409, hard dice=0.56431, loss=0.47404, soft dice=0.56156]\n"
     ]
    },
    {
     "name": "stdout",
     "output_type": "stream",
     "text": [
      "soft dice: 0.83417 | loss: 0.19829 | hard dice: 0.83417 | bce: 0.02332\n"
     ]
    },
    {
     "name": "stderr",
     "output_type": "stream",
     "text": [
      "Epoch 11: 100% 2/2 [00:08<00:00,  4.49s/it, bce=0.03136, hard dice=0.43941, loss=0.60022, soft dice=0.43734]\n"
     ]
    },
    {
     "name": "stdout",
     "output_type": "stream",
     "text": [
      "soft dice: 0.83417 | loss: 0.19640 | hard dice: 0.83417 | bce: 0.02364\n"
     ]
    },
    {
     "name": "stderr",
     "output_type": "stream",
     "text": [
      "Epoch 12: 100% 2/2 [00:08<00:00,  4.25s/it, bce=0.03312, hard dice=0.81395, loss=0.22083, soft dice=0.81247]\n"
     ]
    },
    {
     "name": "stdout",
     "output_type": "stream",
     "text": [
      "soft dice: 0.83417 | loss: 0.19373 | hard dice: 0.83417 | bce: 0.02229\n"
     ]
    },
    {
     "name": "stderr",
     "output_type": "stream",
     "text": [
      "Epoch 13: 100% 2/2 [00:08<00:00,  4.05s/it, bce=0.03060, hard dice=0.56591, loss=0.46675, soft dice=0.56455]\n"
     ]
    },
    {
     "name": "stdout",
     "output_type": "stream",
     "text": [
      "soft dice: 0.83417 | loss: 0.19192 | hard dice: 0.83417 | bce: 0.02103\n"
     ]
    },
    {
     "name": "stderr",
     "output_type": "stream",
     "text": [
      "Epoch 14: 100% 2/2 [00:09<00:00,  4.62s/it, bce=0.02413, hard dice=0.56497, loss=0.52439, soft dice=0.56332]\n"
     ]
    },
    {
     "name": "stdout",
     "output_type": "stream",
     "text": [
      "soft dice: 0.83416 | loss: 0.19080 | hard dice: 0.83417 | bce: 0.02011\n"
     ]
    },
    {
     "name": "stderr",
     "output_type": "stream",
     "text": [
      "Epoch 15: 100% 2/2 [00:08<00:00,  4.37s/it, bce=0.04577, hard dice=0.75165, loss=0.29762, soft dice=0.74902]\n"
     ]
    },
    {
     "name": "stdout",
     "output_type": "stream",
     "text": [
      "soft dice: 0.83414 | loss: 0.19018 | hard dice: 0.83417 | bce: 0.01944\n"
     ]
    },
    {
     "name": "stderr",
     "output_type": "stream",
     "text": [
      "Epoch 16: 100% 2/2 [00:08<00:00,  4.06s/it, bce=0.03950, hard dice=0.43970, loss=0.62622, soft dice=0.43845]\n"
     ]
    },
    {
     "name": "stdout",
     "output_type": "stream",
     "text": [
      "soft dice: 0.83412 | loss: 0.18947 | hard dice: 0.83417 | bce: 0.01877\n"
     ]
    },
    {
     "name": "stderr",
     "output_type": "stream",
     "text": [
      "Epoch 17: 100% 2/2 [00:08<00:00,  4.36s/it, bce=0.03221, hard dice=0.50222, loss=0.53274, soft dice=0.49959]\n"
     ]
    },
    {
     "name": "stdout",
     "output_type": "stream",
     "text": [
      "soft dice: 0.83410 | loss: 0.18899 | hard dice: 0.83417 | bce: 0.01826\n"
     ]
    },
    {
     "name": "stderr",
     "output_type": "stream",
     "text": [
      "Epoch 18: 100% 2/2 [00:07<00:00,  3.98s/it, bce=0.03679, hard dice=0.56620, loss=0.53422, soft dice=0.56474]\n"
     ]
    },
    {
     "name": "stdout",
     "output_type": "stream",
     "text": [
      "soft dice: 0.83407 | loss: 0.18860 | hard dice: 0.83417 | bce: 0.01783\n"
     ]
    },
    {
     "name": "stderr",
     "output_type": "stream",
     "text": [
      "Epoch 19: 100% 2/2 [00:08<00:00,  4.49s/it, bce=0.03274, hard dice=0.81458, loss=0.22289, soft dice=0.81086]\n"
     ]
    },
    {
     "name": "stdout",
     "output_type": "stream",
     "text": [
      "soft dice: 0.83404 | loss: 0.18839 | hard dice: 0.83417 | bce: 0.01759\n"
     ]
    },
    {
     "name": "stderr",
     "output_type": "stream",
     "text": [
      "Epoch 20: 100% 2/2 [00:08<00:00,  4.13s/it, bce=0.03392, hard dice=0.56465, loss=0.47263, soft dice=0.56373]\n"
     ]
    },
    {
     "name": "stdout",
     "output_type": "stream",
     "text": [
      "soft dice: 0.83406 | loss: 0.18850 | hard dice: 0.83417 | bce: 0.01771\n"
     ]
    },
    {
     "name": "stderr",
     "output_type": "stream",
     "text": [
      "Epoch 21: 100% 2/2 [00:07<00:00,  3.99s/it, bce=0.02444, hard dice=0.75194, loss=0.27839, soft dice=0.75100]\n"
     ]
    },
    {
     "name": "stdout",
     "output_type": "stream",
     "text": [
      "soft dice: 0.83406 | loss: 0.18849 | hard dice: 0.83417 | bce: 0.01770\n"
     ]
    },
    {
     "name": "stderr",
     "output_type": "stream",
     "text": [
      "Epoch 22: 100% 2/2 [00:09<00:00,  4.63s/it, bce=0.03491, hard dice=0.75170, loss=0.28772, soft dice=0.74849]\n"
     ]
    },
    {
     "name": "stdout",
     "output_type": "stream",
     "text": [
      "soft dice: 0.83407 | loss: 0.18854 | hard dice: 0.83417 | bce: 0.01777\n"
     ]
    },
    {
     "name": "stderr",
     "output_type": "stream",
     "text": [
      "Epoch 23: 100% 2/2 [00:08<00:00,  4.42s/it, bce=0.02714, hard dice=0.56612, loss=0.46213, soft dice=0.56532]\n"
     ]
    },
    {
     "name": "stdout",
     "output_type": "stream",
     "text": [
      "soft dice: 0.83407 | loss: 0.18851 | hard dice: 0.83417 | bce: 0.01774\n"
     ]
    },
    {
     "name": "stderr",
     "output_type": "stream",
     "text": [
      "Epoch 24: 100% 2/2 [00:08<00:00,  4.30s/it, bce=0.02216, hard dice=0.69103, loss=0.33370, soft dice=0.68950]\n"
     ]
    },
    {
     "name": "stdout",
     "output_type": "stream",
     "text": [
      "soft dice: 0.83405 | loss: 0.18836 | hard dice: 0.83417 | bce: 0.01756\n"
     ]
    },
    {
     "name": "stderr",
     "output_type": "stream",
     "text": [
      "Epoch 25: 100% 2/2 [00:08<00:00,  4.39s/it, bce=0.02379, hard dice=0.87782, loss=0.20952, soft dice=0.87573]\n"
     ]
    },
    {
     "name": "stdout",
     "output_type": "stream",
     "text": [
      "soft dice: 0.83401 | loss: 0.18822 | hard dice: 0.83417 | bce: 0.01736\n"
     ]
    },
    {
     "name": "stderr",
     "output_type": "stream",
     "text": [
      "Epoch 26: 100% 2/2 [00:08<00:00,  4.37s/it, bce=0.02638, hard dice=0.50318, loss=0.53497, soft dice=0.50139]\n"
     ]
    },
    {
     "name": "stdout",
     "output_type": "stream",
     "text": [
      "soft dice: 0.83391 | loss: 0.18810 | hard dice: 0.83417 | bce: 0.01715\n"
     ]
    },
    {
     "name": "stderr",
     "output_type": "stream",
     "text": [
      "Epoch 27: 100% 2/2 [00:08<00:00,  4.37s/it, bce=0.03545, hard dice=0.50256, loss=0.53511, soft dice=0.50069]\n"
     ]
    },
    {
     "name": "stdout",
     "output_type": "stream",
     "text": [
      "soft dice: 0.83388 | loss: 0.18808 | hard dice: 0.83417 | bce: 0.01708\n"
     ]
    },
    {
     "name": "stderr",
     "output_type": "stream",
     "text": [
      "Epoch 28: 100% 2/2 [00:08<00:00,  4.39s/it, bce=0.02407, hard dice=0.62789, loss=0.39870, soft dice=0.62631]\n"
     ]
    },
    {
     "name": "stdout",
     "output_type": "stream",
     "text": [
      "soft dice: 0.83385 | loss: 0.18806 | hard dice: 0.83417 | bce: 0.01703\n"
     ]
    },
    {
     "name": "stderr",
     "output_type": "stream",
     "text": [
      "Epoch 29: 100% 2/2 [00:08<00:00,  4.36s/it, bce=0.03506, hard dice=0.37779, loss=0.65916, soft dice=0.37672]\n"
     ]
    },
    {
     "name": "stdout",
     "output_type": "stream",
     "text": [
      "soft dice: 0.83383 | loss: 0.18804 | hard dice: 0.83417 | bce: 0.01700\n",
      "Starting cyclic lr\n"
     ]
    },
    {
     "name": "stderr",
     "output_type": "stream",
     "text": [
      "Epoch 30: 100% 2/2 [00:08<00:00,  4.08s/it, bce=0.02921, hard dice=0.44108, loss=0.61291, soft dice=0.43843]\n"
     ]
    },
    {
     "name": "stdout",
     "output_type": "stream",
     "text": [
      "soft dice: 0.83417 | loss: 0.22782 | hard dice: 0.83417 | bce: 0.02427\n"
     ]
    },
    {
     "name": "stderr",
     "output_type": "stream",
     "text": [
      "Epoch 31: 100% 2/2 [00:09<00:00,  4.59s/it, bce=0.04412, hard dice=0.62760, loss=0.52956, soft dice=0.62759]\n"
     ]
    },
    {
     "name": "stdout",
     "output_type": "stream",
     "text": [
      "soft dice: 0.83417 | loss: 0.37468 | hard dice: 0.83417 | bce: 0.02524\n"
     ]
    },
    {
     "name": "stderr",
     "output_type": "stream",
     "text": [
      "Epoch 32: 100% 2/2 [00:08<00:00,  4.30s/it, bce=0.03697, hard dice=0.62745, loss=0.49047, soft dice=0.62745]\n"
     ]
    },
    {
     "name": "stdout",
     "output_type": "stream",
     "text": [
      "soft dice: 0.83417 | loss: 0.22736 | hard dice: 0.83417 | bce: 0.02524\n"
     ]
    },
    {
     "name": "stderr",
     "output_type": "stream",
     "text": [
      "Epoch 33: 100% 2/2 [00:08<00:00,  4.02s/it, bce=0.06613, hard dice=0.56430, loss=0.51642, soft dice=0.56430]\n"
     ]
    },
    {
     "name": "stdout",
     "output_type": "stream",
     "text": [
      "soft dice: 0.83417 | loss: 0.20555 | hard dice: 0.83417 | bce: 0.02523\n"
     ]
    },
    {
     "name": "stderr",
     "output_type": "stream",
     "text": [
      "Epoch 34: 100% 2/2 [00:07<00:00,  3.97s/it, bce=0.03478, hard dice=0.44113, loss=0.59864, soft dice=0.44113]\n"
     ]
    },
    {
     "name": "stdout",
     "output_type": "stream",
     "text": [
      "soft dice: 0.83417 | loss: 0.20086 | hard dice: 0.83417 | bce: 0.02519\n"
     ]
    },
    {
     "name": "stderr",
     "output_type": "stream",
     "text": [
      "Epoch 35: 100% 2/2 [00:08<00:00,  4.22s/it, bce=0.02254, hard dice=0.69145, loss=0.54155, soft dice=0.60642]\n"
     ]
    },
    {
     "name": "stdout",
     "output_type": "stream",
     "text": [
      "soft dice: 0.83273 | loss: 0.19129 | hard dice: 0.83417 | bce: 0.01605\n"
     ]
    },
    {
     "name": "stderr",
     "output_type": "stream",
     "text": [
      "Epoch 36: 100% 2/2 [00:08<00:00,  4.16s/it, bce=0.05023, hard dice=0.50369, loss=0.54825, soft dice=0.50366]\n"
     ]
    },
    {
     "name": "stdout",
     "output_type": "stream",
     "text": [
      "soft dice: 0.83417 | loss: 0.19587 | hard dice: 0.83417 | bce: 0.02343\n"
     ]
    },
    {
     "name": "stderr",
     "output_type": "stream",
     "text": [
      "Epoch 37: 100% 2/2 [00:08<00:00,  4.34s/it, bce=0.02910, hard dice=0.81428, loss=0.21910, soft dice=0.81428]\n"
     ]
    },
    {
     "name": "stdout",
     "output_type": "stream",
     "text": [
      "soft dice: 0.83417 | loss: 0.19689 | hard dice: 0.83417 | bce: 0.02450\n"
     ]
    },
    {
     "name": "stderr",
     "output_type": "stream",
     "text": [
      "Epoch 38: 100% 2/2 [00:08<00:00,  4.15s/it, bce=0.05042, hard dice=0.87638, loss=0.23862, soft dice=0.87638]\n"
     ]
    },
    {
     "name": "stdout",
     "output_type": "stream",
     "text": [
      "soft dice: 0.83417 | loss: 0.19736 | hard dice: 0.83417 | bce: 0.02482\n"
     ]
    },
    {
     "name": "stderr",
     "output_type": "stream",
     "text": [
      "Epoch 39: 100% 2/2 [00:09<00:00,  4.53s/it, bce=0.05979, hard dice=0.75228, loss=0.31387, soft dice=0.75228]\n"
     ]
    },
    {
     "name": "stdout",
     "output_type": "stream",
     "text": [
      "soft dice: 0.83417 | loss: 0.19779 | hard dice: 0.83417 | bce: 0.02498\n"
     ]
    },
    {
     "name": "stderr",
     "output_type": "stream",
     "text": [
      "Epoch 40: 100% 2/2 [00:08<00:00,  4.02s/it, bce=0.03469, hard dice=0.68909, loss=0.34768, soft dice=0.68909]\n"
     ]
    },
    {
     "name": "stdout",
     "output_type": "stream",
     "text": [
      "soft dice: 0.83397 | loss: 0.18846 | hard dice: 0.83417 | bce: 0.01755\n"
     ]
    },
    {
     "name": "stderr",
     "output_type": "stream",
     "text": [
      "Epoch 41: 100% 2/2 [00:08<00:00,  4.32s/it, bce=0.02344, hard dice=0.62718, loss=0.47274, soft dice=0.61246]\n"
     ]
    },
    {
     "name": "stdout",
     "output_type": "stream",
     "text": [
      "soft dice: 0.83417 | loss: 0.19236 | hard dice: 0.83417 | bce: 0.02160\n"
     ]
    },
    {
     "name": "stderr",
     "output_type": "stream",
     "text": [
      "Epoch 42: 100% 2/2 [00:08<00:00,  4.37s/it, bce=0.03384, hard dice=0.56499, loss=0.46997, soft dice=0.56496]\n"
     ]
    },
    {
     "name": "stdout",
     "output_type": "stream",
     "text": [
      "soft dice: 0.83417 | loss: 0.19243 | hard dice: 0.83417 | bce: 0.02166\n"
     ]
    },
    {
     "name": "stderr",
     "output_type": "stream",
     "text": [
      "Epoch 43: 100% 2/2 [00:08<00:00,  4.48s/it, bce=0.04166, hard dice=0.75079, loss=0.29151, soft dice=0.75076]\n"
     ]
    },
    {
     "name": "stdout",
     "output_type": "stream",
     "text": [
      "soft dice: 0.83417 | loss: 0.19202 | hard dice: 0.83417 | bce: 0.02131\n"
     ]
    },
    {
     "name": "stderr",
     "output_type": "stream",
     "text": [
      "Epoch 44: 100% 2/2 [00:08<00:00,  4.08s/it, bce=0.05434, hard dice=0.43973, loss=0.61704, soft dice=0.43964]\n"
     ]
    },
    {
     "name": "stdout",
     "output_type": "stream",
     "text": [
      "soft dice: 0.83417 | loss: 0.19152 | hard dice: 0.83417 | bce: 0.02080\n"
     ]
    },
    {
     "name": "stderr",
     "output_type": "stream",
     "text": [
      "Epoch 45: 100% 2/2 [00:08<00:00,  4.23s/it, bce=0.02842, hard dice=0.37776, loss=0.71438, soft dice=0.37651]\n"
     ]
    },
    {
     "name": "stdout",
     "output_type": "stream",
     "text": [
      "soft dice: 0.83306 | loss: 0.18904 | hard dice: 0.83417 | bce: 0.01612\n"
     ]
    },
    {
     "name": "stderr",
     "output_type": "stream",
     "text": [
      "Epoch 46: 100% 2/2 [00:08<00:00,  4.05s/it, bce=0.03922, hard dice=0.62707, loss=0.42640, soft dice=0.61717]\n"
     ]
    },
    {
     "name": "stdout",
     "output_type": "stream",
     "text": [
      "soft dice: 0.83417 | loss: 0.19291 | hard dice: 0.83417 | bce: 0.02186\n"
     ]
    },
    {
     "name": "stderr",
     "output_type": "stream",
     "text": [
      "Epoch 47: 100% 2/2 [00:07<00:00,  3.95s/it, bce=0.04875, hard dice=0.44011, loss=0.61274, soft dice=0.44009]\n"
     ]
    },
    {
     "name": "stdout",
     "output_type": "stream",
     "text": [
      "soft dice: 0.83417 | loss: 0.19260 | hard dice: 0.83417 | bce: 0.02159\n"
     ]
    },
    {
     "name": "stderr",
     "output_type": "stream",
     "text": [
      "Epoch 48: 100% 2/2 [00:08<00:00,  4.33s/it, bce=0.03641, hard dice=0.69313, loss=0.34521, soft dice=0.69292]\n"
     ]
    },
    {
     "name": "stdout",
     "output_type": "stream",
     "text": [
      "soft dice: 0.83417 | loss: 0.19213 | hard dice: 0.83417 | bce: 0.02108\n"
     ]
    },
    {
     "name": "stderr",
     "output_type": "stream",
     "text": [
      "Epoch 49: 100% 2/2 [00:07<00:00,  3.94s/it, bce=0.04491, hard dice=0.56508, loss=0.48159, soft dice=0.56490]\n"
     ]
    },
    {
     "name": "stdout",
     "output_type": "stream",
     "text": [
      "soft dice: 0.83417 | loss: 0.19145 | hard dice: 0.83417 | bce: 0.02039\n"
     ]
    },
    {
     "name": "stderr",
     "output_type": "stream",
     "text": [
      "Epoch 50: 100% 2/2 [00:07<00:00,  3.95s/it, bce=0.04441, hard dice=0.43949, loss=0.67734, soft dice=0.43299]\n"
     ]
    },
    {
     "name": "stdout",
     "output_type": "stream",
     "text": [
      "soft dice: 0.83147 | loss: 0.19132 | hard dice: 0.83417 | bce: 0.01539\n"
     ]
    },
    {
     "name": "stderr",
     "output_type": "stream",
     "text": [
      "Epoch 51: 100% 2/2 [00:08<00:00,  4.28s/it, bce=0.02953, hard dice=0.56652, loss=0.47412, soft dice=0.55679]\n"
     ]
    },
    {
     "name": "stdout",
     "output_type": "stream",
     "text": [
      "soft dice: 0.83417 | loss: 0.19230 | hard dice: 0.83417 | bce: 0.02009\n"
     ]
    },
    {
     "name": "stderr",
     "output_type": "stream",
     "text": [
      "Epoch 52: 100% 2/2 [00:08<00:00,  4.25s/it, bce=0.02199, hard dice=0.81557, loss=0.26962, soft dice=0.81551]\n"
     ]
    },
    {
     "name": "stdout",
     "output_type": "stream",
     "text": [
      "soft dice: 0.83417 | loss: 0.19229 | hard dice: 0.83417 | bce: 0.02022\n"
     ]
    },
    {
     "name": "stderr",
     "output_type": "stream",
     "text": [
      "Epoch 53: 100% 2/2 [00:08<00:00,  4.28s/it, bce=0.05185, hard dice=0.31478, loss=0.79575, soft dice=0.31475]\n"
     ]
    },
    {
     "name": "stdout",
     "output_type": "stream",
     "text": [
      "soft dice: 0.83416 | loss: 0.19115 | hard dice: 0.83417 | bce: 0.01971\n"
     ]
    },
    {
     "name": "stderr",
     "output_type": "stream",
     "text": [
      "Epoch 54: 100% 2/2 [00:07<00:00,  3.92s/it, bce=0.03678, hard dice=0.56521, loss=0.47183, soft dice=0.56519]\n"
     ]
    },
    {
     "name": "stdout",
     "output_type": "stream",
     "text": [
      "soft dice: 0.83417 | loss: 0.19198 | hard dice: 0.83417 | bce: 0.02007\n"
     ]
    },
    {
     "name": "stderr",
     "output_type": "stream",
     "text": [
      "Epoch 55: 100% 2/2 [00:07<00:00,  3.91s/it, bce=0.03841, hard dice=0.44002, loss=0.61877, soft dice=0.42123]\n"
     ]
    },
    {
     "name": "stdout",
     "output_type": "stream",
     "text": [
      "soft dice: 0.83405 | loss: 0.18851 | hard dice: 0.83417 | bce: 0.01748\n"
     ]
    },
    {
     "name": "stderr",
     "output_type": "stream",
     "text": [
      "Epoch 56: 100% 2/2 [00:08<00:00,  4.38s/it, bce=0.02387, hard dice=0.38298, loss=0.64818, soft dice=0.38161]\n"
     ]
    },
    {
     "name": "stdout",
     "output_type": "stream",
     "text": [
      "soft dice: 0.83417 | loss: 0.19276 | hard dice: 0.83417 | bce: 0.02190\n"
     ]
    },
    {
     "name": "stderr",
     "output_type": "stream",
     "text": [
      "Epoch 57: 100% 2/2 [00:08<00:00,  4.39s/it, bce=0.03034, hard dice=0.56519, loss=0.46550, soft dice=0.56507]\n"
     ]
    },
    {
     "name": "stdout",
     "output_type": "stream",
     "text": [
      "soft dice: 0.83417 | loss: 0.19233 | hard dice: 0.83417 | bce: 0.02147\n"
     ]
    },
    {
     "name": "stderr",
     "output_type": "stream",
     "text": [
      "Epoch 58: 100% 2/2 [00:08<00:00,  4.36s/it, bce=0.03703, hard dice=0.44063, loss=0.59815, soft dice=0.44057]\n"
     ]
    },
    {
     "name": "stdout",
     "output_type": "stream",
     "text": [
      "soft dice: 0.83417 | loss: 0.19151 | hard dice: 0.83417 | bce: 0.02073\n"
     ]
    },
    {
     "name": "stderr",
     "output_type": "stream",
     "text": [
      "Epoch 59: 100% 2/2 [00:07<00:00,  3.95s/it, bce=0.03555, hard dice=0.75176, loss=0.28428, soft dice=0.75166]\n"
     ]
    },
    {
     "name": "stdout",
     "output_type": "stream",
     "text": [
      "soft dice: 0.83417 | loss: 0.19117 | hard dice: 0.83417 | bce: 0.02037\n"
     ]
    },
    {
     "name": "stderr",
     "output_type": "stream",
     "text": [
      "Epoch 60: 100% 2/2 [00:09<00:00,  4.81s/it, bce=0.03156, hard dice=0.50262, loss=0.53050, soft dice=0.50148]\n"
     ]
    },
    {
     "name": "stdout",
     "output_type": "stream",
     "text": [
      "soft dice: 0.83296 | loss: 0.18892 | hard dice: 0.83417 | bce: 0.01626\n"
     ]
    },
    {
     "name": "stderr",
     "output_type": "stream",
     "text": [
      "Epoch 61: 100% 2/2 [00:08<00:00,  4.15s/it, bce=0.03379, hard dice=0.68852, loss=0.41455, soft dice=0.68188]\n"
     ]
    },
    {
     "name": "stdout",
     "output_type": "stream",
     "text": [
      "soft dice: 0.83415 | loss: 0.19090 | hard dice: 0.83417 | bce: 0.01933\n"
     ]
    },
    {
     "name": "stderr",
     "output_type": "stream",
     "text": [
      "Epoch 62: 100% 2/2 [00:08<00:00,  4.25s/it, bce=0.02525, hard dice=0.68856, loss=0.33822, soft dice=0.68839]\n"
     ]
    },
    {
     "name": "stdout",
     "output_type": "stream",
     "text": [
      "soft dice: 0.83415 | loss: 0.19062 | hard dice: 0.83417 | bce: 0.01908\n"
     ]
    },
    {
     "name": "stderr",
     "output_type": "stream",
     "text": [
      "Epoch 63: 100% 2/2 [00:09<00:00,  4.53s/it, bce=0.03344, hard dice=0.56531, loss=0.46960, soft dice=0.56494]\n"
     ]
    },
    {
     "name": "stdout",
     "output_type": "stream",
     "text": [
      "soft dice: 0.83414 | loss: 0.19001 | hard dice: 0.83417 | bce: 0.01878\n"
     ]
    },
    {
     "name": "stderr",
     "output_type": "stream",
     "text": [
      "Epoch 64: 100% 2/2 [00:08<00:00,  4.44s/it, bce=0.02933, hard dice=0.68909, loss=0.34136, soft dice=0.68865]\n"
     ]
    },
    {
     "name": "stdout",
     "output_type": "stream",
     "text": [
      "soft dice: 0.83413 | loss: 0.19021 | hard dice: 0.83417 | bce: 0.01852\n"
     ]
    },
    {
     "name": "stderr",
     "output_type": "stream",
     "text": [
      "Epoch 65: 100% 2/2 [00:08<00:00,  4.19s/it, bce=0.02540, hard dice=0.41552, loss=0.64817, soft dice=0.41433]\n"
     ]
    },
    {
     "name": "stdout",
     "output_type": "stream",
     "text": [
      "soft dice: 0.83312 | loss: 0.19397 | hard dice: 0.83417 | bce: 0.01639\n"
     ]
    },
    {
     "name": "stderr",
     "output_type": "stream",
     "text": [
      "Epoch 66: 100% 2/2 [00:08<00:00,  4.13s/it, bce=0.03001, hard dice=0.63129, loss=0.40348, soft dice=0.62683]\n"
     ]
    },
    {
     "name": "stdout",
     "output_type": "stream",
     "text": [
      "soft dice: 0.83403 | loss: 0.19126 | hard dice: 0.83417 | bce: 0.01748\n"
     ]
    },
    {
     "name": "stderr",
     "output_type": "stream",
     "text": [
      "Epoch 67: 100% 2/2 [00:08<00:00,  4.25s/it, bce=0.03588, hard dice=0.37817, loss=0.65940, soft dice=0.37717]\n"
     ]
    },
    {
     "name": "stdout",
     "output_type": "stream",
     "text": [
      "soft dice: 0.83395 | loss: 0.18829 | hard dice: 0.83417 | bce: 0.01723\n"
     ]
    },
    {
     "name": "stderr",
     "output_type": "stream",
     "text": [
      "Epoch 68: 100% 2/2 [00:08<00:00,  4.45s/it, bce=0.02830, hard dice=0.81444, loss=0.21738, soft dice=0.81187]\n"
     ]
    },
    {
     "name": "stdout",
     "output_type": "stream",
     "text": [
      "soft dice: 0.83390 | loss: 0.18805 | hard dice: 0.83417 | bce: 0.01710\n"
     ]
    },
    {
     "name": "stderr",
     "output_type": "stream",
     "text": [
      "Epoch 69: 100% 2/2 [00:08<00:00,  4.23s/it, bce=0.03643, hard dice=0.87594, loss=0.16371, soft dice=0.87243]\n"
     ]
    },
    {
     "name": "stdout",
     "output_type": "stream",
     "text": [
      "soft dice: 0.83386 | loss: 0.18797 | hard dice: 0.83417 | bce: 0.01700\n"
     ]
    },
    {
     "name": "stderr",
     "output_type": "stream",
     "text": [
      "Epoch 70: 100% 2/2 [00:09<00:00,  4.56s/it, bce=0.02793, hard dice=0.75205, loss=0.27772, soft dice=0.75038]\n"
     ]
    },
    {
     "name": "stdout",
     "output_type": "stream",
     "text": [
      "soft dice: 0.83417 | loss: 0.19200 | hard dice: 0.83417 | bce: 0.02135\n"
     ]
    },
    {
     "name": "stderr",
     "output_type": "stream",
     "text": [
      "Epoch 71: 100% 2/2 [00:08<00:00,  4.31s/it, bce=0.04132, hard dice=0.81440, loss=0.22734, soft dice=0.81437]\n"
     ]
    },
    {
     "name": "stdout",
     "output_type": "stream",
     "text": [
      "soft dice: 0.83417 | loss: 0.19186 | hard dice: 0.83417 | bce: 0.02120\n"
     ]
    },
    {
     "name": "stderr",
     "output_type": "stream",
     "text": [
      "Epoch 72: 100% 2/2 [00:08<00:00,  4.19s/it, bce=0.02786, hard dice=0.44260, loss=0.58640, soft dice=0.44256]\n"
     ]
    },
    {
     "name": "stdout",
     "output_type": "stream",
     "text": [
      "soft dice: 0.83417 | loss: 0.19120 | hard dice: 0.83417 | bce: 0.02054\n"
     ]
    },
    {
     "name": "stderr",
     "output_type": "stream",
     "text": [
      "Epoch 73: 100% 2/2 [00:08<00:00,  4.17s/it, bce=0.03475, hard dice=0.44039, loss=0.59490, soft dice=0.44028]\n"
     ]
    },
    {
     "name": "stdout",
     "output_type": "stream",
     "text": [
      "soft dice: 0.83416 | loss: 0.19039 | hard dice: 0.83417 | bce: 0.01973\n"
     ]
    },
    {
     "name": "stderr",
     "output_type": "stream",
     "text": [
      "Epoch 74: 100% 2/2 [00:08<00:00,  4.20s/it, bce=0.03159, hard dice=0.75257, loss=0.27996, soft dice=0.75241]\n"
     ]
    },
    {
     "name": "stdout",
     "output_type": "stream",
     "text": [
      "soft dice: 0.83416 | loss: 0.19018 | hard dice: 0.83417 | bce: 0.01951\n"
     ]
    },
    {
     "name": "stderr",
     "output_type": "stream",
     "text": [
      "Epoch 75: 100% 2/2 [00:08<00:00,  4.09s/it, bce=0.03368, hard dice=0.72777, loss=0.34676, soft dice=0.72543]\n"
     ]
    },
    {
     "name": "stdout",
     "output_type": "stream",
     "text": [
      "soft dice: 0.82710 | loss: 0.19227 | hard dice: 0.83417 | bce: 0.01457\n"
     ]
    },
    {
     "name": "stderr",
     "output_type": "stream",
     "text": [
      "Epoch 76: 100% 2/2 [00:07<00:00,  3.77s/it, bce=0.02134, hard dice=0.68879, loss=0.35403, soft dice=0.66758]\n"
     ]
    },
    {
     "name": "stdout",
     "output_type": "stream",
     "text": [
      "soft dice: 0.83417 | loss: 0.19549 | hard dice: 0.83417 | bce: 0.02429\n"
     ]
    },
    {
     "name": "stderr",
     "output_type": "stream",
     "text": [
      "Epoch 77: 100% 2/2 [00:08<00:00,  4.10s/it, bce=0.04274, hard dice=0.50272, loss=0.54144, soft dice=0.50272]\n"
     ]
    },
    {
     "name": "stdout",
     "output_type": "stream",
     "text": [
      "soft dice: 0.83417 | loss: 0.19589 | hard dice: 0.83417 | bce: 0.02449\n"
     ]
    },
    {
     "name": "stderr",
     "output_type": "stream",
     "text": [
      "Epoch 78: 100% 2/2 [00:08<00:00,  4.04s/it, bce=0.02368, hard dice=1.00000, loss=0.02558, soft dice=1.00000]\n"
     ]
    },
    {
     "name": "stdout",
     "output_type": "stream",
     "text": [
      "soft dice: 0.83417 | loss: 0.19595 | hard dice: 0.83417 | bce: 0.02449\n"
     ]
    },
    {
     "name": "stderr",
     "output_type": "stream",
     "text": [
      "Epoch 79: 100% 2/2 [00:08<00:00,  4.28s/it, bce=0.05674, hard dice=0.43953, loss=0.62316, soft dice=0.43953]\n"
     ]
    },
    {
     "name": "stdout",
     "output_type": "stream",
     "text": [
      "soft dice: 0.83417 | loss: 0.19570 | hard dice: 0.83417 | bce: 0.02436\n"
     ]
    },
    {
     "name": "stderr",
     "output_type": "stream",
     "text": [
      "Epoch 80: 100% 2/2 [00:08<00:00,  4.39s/it, bce=0.03365, hard dice=0.56736, loss=0.46968, soft dice=0.56731]\n"
     ]
    },
    {
     "name": "stdout",
     "output_type": "stream",
     "text": [
      "soft dice: 0.83376 | loss: 0.18874 | hard dice: 0.83417 | bce: 0.01686\n"
     ]
    },
    {
     "name": "stderr",
     "output_type": "stream",
     "text": [
      "Epoch 81: 100% 2/2 [00:08<00:00,  4.31s/it, bce=0.02403, hard dice=0.62701, loss=0.40035, soft dice=0.62497]\n"
     ]
    },
    {
     "name": "stdout",
     "output_type": "stream",
     "text": [
      "soft dice: 0.83387 | loss: 0.18798 | hard dice: 0.83417 | bce: 0.01703\n"
     ]
    },
    {
     "name": "stderr",
     "output_type": "stream",
     "text": [
      "Epoch 82: 100% 2/2 [00:08<00:00,  4.39s/it, bce=0.02841, hard dice=0.75174, loss=0.34144, soft dice=0.74876]\n"
     ]
    },
    {
     "name": "stdout",
     "output_type": "stream",
     "text": [
      "soft dice: 0.83399 | loss: 0.18812 | hard dice: 0.83417 | bce: 0.01728\n"
     ]
    },
    {
     "name": "stderr",
     "output_type": "stream",
     "text": [
      "Epoch 83: 100% 2/2 [00:07<00:00,  3.97s/it, bce=0.02889, hard dice=0.50237, loss=0.52868, soft dice=0.50108]\n"
     ]
    },
    {
     "name": "stdout",
     "output_type": "stream",
     "text": [
      "soft dice: 0.83403 | loss: 0.18825 | hard dice: 0.83417 | bce: 0.01740\n"
     ]
    },
    {
     "name": "stderr",
     "output_type": "stream",
     "text": [
      "Epoch 84: 100% 2/2 [00:09<00:00,  4.61s/it, bce=0.02773, hard dice=0.69097, loss=0.33845, soft dice=0.68928]\n"
     ]
    },
    {
     "name": "stdout",
     "output_type": "stream",
     "text": [
      "soft dice: 0.83400 | loss: 0.18815 | hard dice: 0.83417 | bce: 0.01726\n"
     ]
    },
    {
     "name": "stderr",
     "output_type": "stream",
     "text": [
      "Epoch 85: 100% 2/2 [00:08<00:00,  4.22s/it, bce=0.02973, hard dice=0.81389, loss=0.21792, soft dice=0.81342]\n"
     ]
    },
    {
     "name": "stdout",
     "output_type": "stream",
     "text": [
      "soft dice: 0.83410 | loss: 0.18883 | hard dice: 0.83417 | bce: 0.01799\n"
     ]
    },
    {
     "name": "stderr",
     "output_type": "stream",
     "text": [
      "Epoch 86: 100% 2/2 [00:08<00:00,  4.27s/it, bce=0.03700, hard dice=0.62980, loss=0.41307, soft dice=0.62896]\n"
     ]
    },
    {
     "name": "stdout",
     "output_type": "stream",
     "text": [
      "soft dice: 0.83381 | loss: 0.18805 | hard dice: 0.83417 | bce: 0.01693\n"
     ]
    },
    {
     "name": "stderr",
     "output_type": "stream",
     "text": [
      "Epoch 87: 100% 2/2 [00:08<00:00,  4.38s/it, bce=0.02719, hard dice=0.62809, loss=0.40265, soft dice=0.62586]\n"
     ]
    },
    {
     "name": "stdout",
     "output_type": "stream",
     "text": [
      "soft dice: 0.83360 | loss: 0.18797 | hard dice: 0.83417 | bce: 0.01663\n"
     ]
    },
    {
     "name": "stderr",
     "output_type": "stream",
     "text": [
      "Epoch 88: 100% 2/2 [00:08<00:00,  4.29s/it, bce=0.02564, hard dice=0.68916, loss=0.34005, soft dice=0.68609]\n"
     ]
    },
    {
     "name": "stdout",
     "output_type": "stream",
     "text": [
      "soft dice: 0.83351 | loss: 0.18792 | hard dice: 0.83417 | bce: 0.01648\n"
     ]
    },
    {
     "name": "stderr",
     "output_type": "stream",
     "text": [
      "Epoch 89: 100% 2/2 [00:08<00:00,  4.43s/it, bce=0.02630, hard dice=0.87647, loss=0.15353, soft dice=0.87288]\n"
     ]
    },
    {
     "name": "stdout",
     "output_type": "stream",
     "text": [
      "soft dice: 0.83345 | loss: 0.18788 | hard dice: 0.83417 | bce: 0.01638\n"
     ]
    },
    {
     "name": "stderr",
     "output_type": "stream",
     "text": [
      "Epoch 90: 100% 2/2 [00:08<00:00,  4.15s/it, bce=0.03381, hard dice=0.62638, loss=0.40940, soft dice=0.62519]\n"
     ]
    },
    {
     "name": "stdout",
     "output_type": "stream",
     "text": [
      "soft dice: 0.83412 | loss: 0.18898 | hard dice: 0.83417 | bce: 0.01807\n"
     ]
    },
    {
     "name": "stderr",
     "output_type": "stream",
     "text": [
      "Epoch 91: 100% 2/2 [00:08<00:00,  4.05s/it, bce=0.02118, hard dice=0.93852, loss=0.08340, soft dice=0.93789]\n"
     ]
    },
    {
     "name": "stdout",
     "output_type": "stream",
     "text": [
      "soft dice: 0.83406 | loss: 0.18899 | hard dice: 0.83417 | bce: 0.01758\n"
     ]
    },
    {
     "name": "stderr",
     "output_type": "stream",
     "text": [
      "Epoch 92: 100% 2/2 [00:08<00:00,  4.19s/it, bce=0.03639, hard dice=0.50283, loss=0.58900, soft dice=0.50196]\n"
     ]
    },
    {
     "name": "stdout",
     "output_type": "stream",
     "text": [
      "soft dice: 0.83403 | loss: 0.18869 | hard dice: 0.83417 | bce: 0.01738\n"
     ]
    },
    {
     "name": "stderr",
     "output_type": "stream",
     "text": [
      "Epoch 93: 100% 2/2 [00:08<00:00,  4.26s/it, bce=0.02388, hard dice=0.75165, loss=0.27242, soft dice=0.75123]\n"
     ]
    },
    {
     "name": "stdout",
     "output_type": "stream",
     "text": [
      "soft dice: 0.83392 | loss: 0.18853 | hard dice: 0.83417 | bce: 0.01703\n"
     ]
    },
    {
     "name": "stderr",
     "output_type": "stream",
     "text": [
      "Epoch 94: 100% 2/2 [00:08<00:00,  4.21s/it, bce=0.02622, hard dice=0.62737, loss=0.40187, soft dice=0.62576]\n"
     ]
    },
    {
     "name": "stdout",
     "output_type": "stream",
     "text": [
      "soft dice: 0.83384 | loss: 0.18861 | hard dice: 0.83417 | bce: 0.01692\n"
     ]
    },
    {
     "name": "stderr",
     "output_type": "stream",
     "text": [
      "Epoch 95: 100% 2/2 [00:08<00:00,  4.47s/it, bce=0.02839, hard dice=0.37994, loss=0.65259, soft dice=0.37707]\n"
     ]
    },
    {
     "name": "stdout",
     "output_type": "stream",
     "text": [
      "soft dice: 0.83275 | loss: 0.18800 | hard dice: 0.83417 | bce: 0.01591\n"
     ]
    },
    {
     "name": "stderr",
     "output_type": "stream",
     "text": [
      "Epoch 96: 100% 2/2 [00:08<00:00,  4.36s/it, bce=0.03004, hard dice=0.50278, loss=0.53170, soft dice=0.49879]\n"
     ]
    },
    {
     "name": "stdout",
     "output_type": "stream",
     "text": [
      "soft dice: 0.83417 | loss: 0.19058 | hard dice: 0.83417 | bce: 0.01986\n"
     ]
    },
    {
     "name": "stderr",
     "output_type": "stream",
     "text": [
      "Epoch 97: 100% 2/2 [00:08<00:00,  4.08s/it, bce=0.03130, hard dice=0.56606, loss=0.46602, soft dice=0.56593]\n"
     ]
    },
    {
     "name": "stdout",
     "output_type": "stream",
     "text": [
      "soft dice: 0.83417 | loss: 0.19033 | hard dice: 0.83417 | bce: 0.01961\n"
     ]
    },
    {
     "name": "stderr",
     "output_type": "stream",
     "text": [
      "Epoch 98: 100% 2/2 [00:08<00:00,  4.35s/it, bce=0.04165, hard dice=0.32185, loss=0.72640, soft dice=0.32179]\n"
     ]
    },
    {
     "name": "stdout",
     "output_type": "stream",
     "text": [
      "soft dice: 0.83416 | loss: 0.18989 | hard dice: 0.83417 | bce: 0.01915\n"
     ]
    },
    {
     "name": "stderr",
     "output_type": "stream",
     "text": [
      "Epoch 99: 100% 2/2 [00:08<00:00,  4.32s/it, bce=0.02611, hard dice=0.75166, loss=0.33197, soft dice=0.75160]\n"
     ]
    },
    {
     "name": "stdout",
     "output_type": "stream",
     "text": [
      "soft dice: 0.83416 | loss: 0.18975 | hard dice: 0.83417 | bce: 0.01898\n"
     ]
    },
    {
     "name": "stderr",
     "output_type": "stream",
     "text": [
      "Epoch 100: 100% 2/2 [00:08<00:00,  4.20s/it, bce=0.02594, hard dice=0.69024, loss=0.40082, soft dice=0.68455]\n"
     ]
    },
    {
     "name": "stdout",
     "output_type": "stream",
     "text": [
      "soft dice: 0.83382 | loss: 0.18781 | hard dice: 0.83417 | bce: 0.01678\n"
     ]
    },
    {
     "name": "stderr",
     "output_type": "stream",
     "text": [
      "Epoch 101: 100% 2/2 [00:08<00:00,  4.46s/it, bce=0.03025, hard dice=0.87642, loss=0.15875, soft dice=0.87259]\n"
     ]
    },
    {
     "name": "stdout",
     "output_type": "stream",
     "text": [
      "soft dice: 0.83417 | loss: 0.19259 | hard dice: 0.83417 | bce: 0.02189\n"
     ]
    },
    {
     "name": "stderr",
     "output_type": "stream",
     "text": [
      "Epoch 102: 100% 2/2 [00:08<00:00,  4.34s/it, bce=0.04825, hard dice=0.68969, loss=0.35893, soft dice=0.68959]\n"
     ]
    },
    {
     "name": "stdout",
     "output_type": "stream",
     "text": [
      "soft dice: 0.83417 | loss: 0.19169 | hard dice: 0.83417 | bce: 0.02108\n"
     ]
    },
    {
     "name": "stderr",
     "output_type": "stream",
     "text": [
      "Epoch 103: 100% 2/2 [00:09<00:00,  4.58s/it, bce=0.03007, hard dice=0.62770, loss=0.40209, soft dice=0.62760]\n"
     ]
    },
    {
     "name": "stdout",
     "output_type": "stream",
     "text": [
      "soft dice: 0.83417 | loss: 0.19087 | hard dice: 0.83417 | bce: 0.02029\n"
     ]
    },
    {
     "name": "stderr",
     "output_type": "stream",
     "text": [
      "Epoch 104: 100% 2/2 [00:08<00:00,  4.19s/it, bce=0.04084, hard dice=0.50196, loss=0.53970, soft dice=0.50184]\n"
     ]
    },
    {
     "name": "stdout",
     "output_type": "stream",
     "text": [
      "soft dice: 0.83416 | loss: 0.19052 | hard dice: 0.83417 | bce: 0.01994\n"
     ]
    },
    {
     "name": "stderr",
     "output_type": "stream",
     "text": [
      "Epoch 105: 100% 2/2 [00:07<00:00,  3.97s/it, bce=0.02482, hard dice=0.68958, loss=0.36213, soft dice=0.66356]\n"
     ]
    },
    {
     "name": "stdout",
     "output_type": "stream",
     "text": [
      "soft dice: 0.83410 | loss: 0.18937 | hard dice: 0.83417 | bce: 0.01811\n"
     ]
    },
    {
     "name": "stderr",
     "output_type": "stream",
     "text": [
      "Epoch 106: 100% 2/2 [00:08<00:00,  4.27s/it, bce=0.03137, hard dice=0.68977, loss=0.34293, soft dice=0.68874]\n"
     ]
    },
    {
     "name": "stdout",
     "output_type": "stream",
     "text": [
      "soft dice: 0.83417 | loss: 0.20057 | hard dice: 0.83417 | bce: 0.02520\n"
     ]
    },
    {
     "name": "stderr",
     "output_type": "stream",
     "text": [
      "Epoch 107: 100% 2/2 [00:08<00:00,  4.36s/it, bce=0.03809, hard dice=0.81423, loss=0.22538, soft dice=0.81423]\n"
     ]
    },
    {
     "name": "stdout",
     "output_type": "stream",
     "text": [
      "soft dice: 0.83417 | loss: 0.19872 | hard dice: 0.83417 | bce: 0.02518\n"
     ]
    },
    {
     "name": "stderr",
     "output_type": "stream",
     "text": [
      "Epoch 108: 100% 2/2 [00:07<00:00,  3.98s/it, bce=0.05411, hard dice=0.25308, loss=0.86575, soft dice=0.25308]\n"
     ]
    },
    {
     "name": "stdout",
     "output_type": "stream",
     "text": [
      "soft dice: 0.83417 | loss: 0.19757 | hard dice: 0.83417 | bce: 0.02506\n"
     ]
    },
    {
     "name": "stderr",
     "output_type": "stream",
     "text": [
      "Epoch 109: 100% 2/2 [00:08<00:00,  4.02s/it, bce=0.05843, hard dice=0.31504, loss=0.74493, soft dice=0.31504]\n"
     ]
    },
    {
     "name": "stdout",
     "output_type": "stream",
     "text": [
      "soft dice: 0.83417 | loss: 0.19680 | hard dice: 0.83417 | bce: 0.02490\n"
     ]
    },
    {
     "name": "stderr",
     "output_type": "stream",
     "text": [
      "Epoch 110: 100% 2/2 [00:08<00:00,  4.24s/it, bce=0.03273, hard dice=0.56716, loss=0.46797, soft dice=0.56696]\n"
     ]
    },
    {
     "name": "stdout",
     "output_type": "stream",
     "text": [
      "soft dice: 0.83264 | loss: 0.18837 | hard dice: 0.83417 | bce: 0.01590\n"
     ]
    },
    {
     "name": "stderr",
     "output_type": "stream",
     "text": [
      "Epoch 111: 100% 2/2 [00:08<00:00,  4.11s/it, bce=0.02843, hard dice=0.56532, loss=0.52306, soft dice=0.55651]\n"
     ]
    },
    {
     "name": "stdout",
     "output_type": "stream",
     "text": [
      "soft dice: 0.83417 | loss: 0.19120 | hard dice: 0.83417 | bce: 0.02047\n"
     ]
    },
    {
     "name": "stderr",
     "output_type": "stream",
     "text": [
      "Epoch 112: 100% 2/2 [00:09<00:00,  4.54s/it, bce=0.02473, hard dice=0.75670, loss=0.27220, soft dice=0.75667]\n"
     ]
    },
    {
     "name": "stdout",
     "output_type": "stream",
     "text": [
      "soft dice: 0.83417 | loss: 0.19166 | hard dice: 0.83417 | bce: 0.02087\n"
     ]
    },
    {
     "name": "stderr",
     "output_type": "stream",
     "text": [
      "Epoch 113: 100% 2/2 [00:08<00:00,  4.20s/it, bce=0.03919, hard dice=0.56441, loss=0.53718, soft dice=0.56437]\n"
     ]
    },
    {
     "name": "stdout",
     "output_type": "stream",
     "text": [
      "soft dice: 0.83417 | loss: 0.19179 | hard dice: 0.83417 | bce: 0.02095\n"
     ]
    },
    {
     "name": "stderr",
     "output_type": "stream",
     "text": [
      "Epoch 114: 100% 2/2 [00:08<00:00,  4.41s/it, bce=0.03604, hard dice=0.56633, loss=0.47063, soft dice=0.56630]\n"
     ]
    },
    {
     "name": "stdout",
     "output_type": "stream",
     "text": [
      "soft dice: 0.83417 | loss: 0.19154 | hard dice: 0.83417 | bce: 0.02072\n"
     ]
    },
    {
     "name": "stderr",
     "output_type": "stream",
     "text": [
      "Epoch 115: 100% 2/2 [00:08<00:00,  4.08s/it, bce=0.03720, hard dice=0.75085, loss=0.28722, soft dice=0.75080]\n"
     ]
    },
    {
     "name": "stdout",
     "output_type": "stream",
     "text": [
      "soft dice: 0.83257 | loss: 0.18833 | hard dice: 0.83417 | bce: 0.01613\n"
     ]
    },
    {
     "name": "stderr",
     "output_type": "stream",
     "text": [
      "Epoch 116: 100% 2/2 [00:09<00:00,  4.64s/it, bce=0.02300, hard dice=0.50293, loss=0.52451, soft dice=0.49860]\n"
     ]
    },
    {
     "name": "stdout",
     "output_type": "stream",
     "text": [
      "soft dice: 0.83408 | loss: 0.18871 | hard dice: 0.83417 | bce: 0.01805\n"
     ]
    },
    {
     "name": "stderr",
     "output_type": "stream",
     "text": [
      "Epoch 117: 100% 2/2 [00:08<00:00,  4.48s/it, bce=0.02718, hard dice=0.56481, loss=0.46375, soft dice=0.56377]\n"
     ]
    },
    {
     "name": "stdout",
     "output_type": "stream",
     "text": [
      "soft dice: 0.83408 | loss: 0.18870 | hard dice: 0.83417 | bce: 0.01803\n"
     ]
    },
    {
     "name": "stderr",
     "output_type": "stream",
     "text": [
      "Epoch 118: 100% 2/2 [00:08<00:00,  4.11s/it, bce=0.02918, hard dice=0.75187, loss=0.27803, soft dice=0.75075]\n"
     ]
    },
    {
     "name": "stdout",
     "output_type": "stream",
     "text": [
      "soft dice: 0.83407 | loss: 0.18858 | hard dice: 0.83417 | bce: 0.01791\n"
     ]
    },
    {
     "name": "stderr",
     "output_type": "stream",
     "text": [
      "Epoch 119: 100% 2/2 [00:08<00:00,  4.39s/it, bce=0.04157, hard dice=0.50196, loss=0.58547, soft dice=0.50087]\n"
     ]
    },
    {
     "name": "stdout",
     "output_type": "stream",
     "text": [
      "soft dice: 0.83405 | loss: 0.18843 | hard dice: 0.83417 | bce: 0.01774\n"
     ]
    },
    {
     "name": "stderr",
     "output_type": "stream",
     "text": [
      "Epoch 120: 100% 2/2 [00:08<00:00,  4.16s/it, bce=0.02957, hard dice=0.56458, loss=0.46627, soft dice=0.56366]\n"
     ]
    },
    {
     "name": "stdout",
     "output_type": "stream",
     "text": [
      "soft dice: 0.83268 | loss: 0.18817 | hard dice: 0.83417 | bce: 0.01601\n"
     ]
    },
    {
     "name": "stderr",
     "output_type": "stream",
     "text": [
      "Epoch 121: 100% 2/2 [00:07<00:00,  3.94s/it, bce=0.02584, hard dice=0.56543, loss=0.46849, soft dice=0.55812]\n"
     ]
    },
    {
     "name": "stdout",
     "output_type": "stream",
     "text": [
      "soft dice: 0.83406 | loss: 0.18833 | hard dice: 0.83417 | bce: 0.01767\n"
     ]
    },
    {
     "name": "stderr",
     "output_type": "stream",
     "text": [
      "Epoch 122: 100% 2/2 [00:08<00:00,  4.09s/it, bce=0.02588, hard dice=0.87665, loss=0.15028, soft dice=0.87540]\n"
     ]
    },
    {
     "name": "stdout",
     "output_type": "stream",
     "text": [
      "soft dice: 0.83408 | loss: 0.18848 | hard dice: 0.83417 | bce: 0.01782\n"
     ]
    },
    {
     "name": "stderr",
     "output_type": "stream",
     "text": [
      "Epoch 123: 100% 2/2 [00:08<00:00,  4.11s/it, bce=0.03176, hard dice=0.68834, loss=0.34434, soft dice=0.68780]\n"
     ]
    },
    {
     "name": "stdout",
     "output_type": "stream",
     "text": [
      "soft dice: 0.83408 | loss: 0.18845 | hard dice: 0.83417 | bce: 0.01778\n"
     ]
    },
    {
     "name": "stderr",
     "output_type": "stream",
     "text": [
      "Epoch 124: 100% 2/2 [00:08<00:00,  4.06s/it, bce=0.03723, hard dice=0.56478, loss=0.47375, soft dice=0.56384]\n"
     ]
    },
    {
     "name": "stdout",
     "output_type": "stream",
     "text": [
      "soft dice: 0.83406 | loss: 0.18828 | hard dice: 0.83417 | bce: 0.01759\n"
     ]
    },
    {
     "name": "stderr",
     "output_type": "stream",
     "text": [
      "Epoch 125: 100% 2/2 [00:08<00:00,  4.08s/it, bce=0.03391, hard dice=0.69053, loss=0.34452, soft dice=0.68917]\n"
     ]
    },
    {
     "name": "stdout",
     "output_type": "stream",
     "text": [
      "soft dice: 0.83347 | loss: 0.18776 | hard dice: 0.83417 | bce: 0.01645\n"
     ]
    },
    {
     "name": "stderr",
     "output_type": "stream",
     "text": [
      "Epoch 126: 100% 2/2 [00:08<00:00,  4.14s/it, bce=0.04435, hard dice=0.50286, loss=0.54337, soft dice=0.50105]\n"
     ]
    },
    {
     "name": "stdout",
     "output_type": "stream",
     "text": [
      "soft dice: 0.83270 | loss: 0.18804 | hard dice: 0.83417 | bce: 0.01596\n"
     ]
    },
    {
     "name": "stderr",
     "output_type": "stream",
     "text": [
      "Epoch 127: 100% 2/2 [00:07<00:00,  3.85s/it, bce=0.02635, hard dice=0.87812, loss=0.15400, soft dice=0.87393]\n"
     ]
    },
    {
     "name": "stdout",
     "output_type": "stream",
     "text": [
      "soft dice: 0.83264 | loss: 0.18805 | hard dice: 0.83417 | bce: 0.01591\n"
     ]
    },
    {
     "name": "stderr",
     "output_type": "stream",
     "text": [
      "Epoch 128: 100% 2/2 [00:07<00:00,  3.92s/it, bce=0.03345, hard dice=0.56457, loss=0.47510, soft dice=0.55871]\n"
     ]
    },
    {
     "name": "stdout",
     "output_type": "stream",
     "text": [
      "soft dice: 0.83342 | loss: 0.18773 | hard dice: 0.83417 | bce: 0.01638\n"
     ]
    },
    {
     "name": "stderr",
     "output_type": "stream",
     "text": [
      "Epoch 129: 100% 2/2 [00:08<00:00,  4.17s/it, bce=0.03731, hard dice=0.62665, loss=0.47566, soft dice=0.62376]\n"
     ]
    },
    {
     "name": "stdout",
     "output_type": "stream",
     "text": [
      "soft dice: 0.83348 | loss: 0.18767 | hard dice: 0.83417 | bce: 0.01639\n"
     ]
    },
    {
     "name": "stderr",
     "output_type": "stream",
     "text": [
      "Epoch 130: 100% 2/2 [00:08<00:00,  4.14s/it, bce=0.03827, hard dice=0.56477, loss=0.47608, soft dice=0.56261]\n"
     ]
    },
    {
     "name": "stdout",
     "output_type": "stream",
     "text": [
      "soft dice: 0.83417 | loss: 0.19472 | hard dice: 0.83417 | bce: 0.02377\n"
     ]
    },
    {
     "name": "stderr",
     "output_type": "stream",
     "text": [
      "Epoch 131: 100% 2/2 [00:08<00:00,  4.40s/it, bce=0.04679, hard dice=0.56469, loss=0.48319, soft dice=0.56468]\n"
     ]
    },
    {
     "name": "stdout",
     "output_type": "stream",
     "text": [
      "soft dice: 0.83417 | loss: 0.19403 | hard dice: 0.83417 | bce: 0.02318\n"
     ]
    },
    {
     "name": "stderr",
     "output_type": "stream",
     "text": [
      "Epoch 132: 100% 2/2 [00:08<00:00,  4.24s/it, bce=0.04342, hard dice=0.68900, loss=0.35513, soft dice=0.68899]\n"
     ]
    },
    {
     "name": "stdout",
     "output_type": "stream",
     "text": [
      "soft dice: 0.83417 | loss: 0.19306 | hard dice: 0.83417 | bce: 0.02234\n"
     ]
    },
    {
     "name": "stderr",
     "output_type": "stream",
     "text": [
      "Epoch 133: 100% 2/2 [00:08<00:00,  4.02s/it, bce=0.03567, hard dice=0.56486, loss=0.47124, soft dice=0.56484]\n"
     ]
    },
    {
     "name": "stdout",
     "output_type": "stream",
     "text": [
      "soft dice: 0.83417 | loss: 0.19188 | hard dice: 0.83417 | bce: 0.02124\n"
     ]
    },
    {
     "name": "stderr",
     "output_type": "stream",
     "text": [
      "Epoch 134: 100% 2/2 [00:09<00:00,  4.69s/it, bce=0.02936, hard dice=0.56580, loss=0.46429, soft dice=0.56578]\n"
     ]
    },
    {
     "name": "stdout",
     "output_type": "stream",
     "text": [
      "soft dice: 0.83417 | loss: 0.19153 | hard dice: 0.83417 | bce: 0.02090\n"
     ]
    },
    {
     "name": "stderr",
     "output_type": "stream",
     "text": [
      "Epoch 135: 100% 2/2 [00:08<00:00,  4.24s/it, bce=0.02415, hard dice=0.75144, loss=0.28362, soft dice=0.74213]\n"
     ]
    },
    {
     "name": "stdout",
     "output_type": "stream",
     "text": [
      "soft dice: 0.83334 | loss: 0.18770 | hard dice: 0.83417 | bce: 0.01624\n"
     ]
    },
    {
     "name": "stderr",
     "output_type": "stream",
     "text": [
      "Epoch 136: 100% 2/2 [00:08<00:00,  4.13s/it, bce=0.02674, hard dice=0.81540, loss=0.21495, soft dice=0.81204]\n"
     ]
    },
    {
     "name": "stdout",
     "output_type": "stream",
     "text": [
      "soft dice: 0.83417 | loss: 0.19242 | hard dice: 0.83417 | bce: 0.02177\n"
     ]
    },
    {
     "name": "stderr",
     "output_type": "stream",
     "text": [
      "Epoch 137: 100% 2/2 [00:08<00:00,  4.43s/it, bce=0.04405, hard dice=0.50228, loss=0.60297, soft dice=0.50225]\n"
     ]
    },
    {
     "name": "stdout",
     "output_type": "stream",
     "text": [
      "soft dice: 0.83417 | loss: 0.19211 | hard dice: 0.83417 | bce: 0.02148\n"
     ]
    },
    {
     "name": "stderr",
     "output_type": "stream",
     "text": [
      "Epoch 138: 100% 2/2 [00:08<00:00,  4.18s/it, bce=0.03543, hard dice=0.43987, loss=0.59789, soft dice=0.43984]\n"
     ]
    },
    {
     "name": "stdout",
     "output_type": "stream",
     "text": [
      "soft dice: 0.83417 | loss: 0.19157 | hard dice: 0.83417 | bce: 0.02096\n"
     ]
    },
    {
     "name": "stderr",
     "output_type": "stream",
     "text": [
      "Epoch 139: 100% 2/2 [00:08<00:00,  4.26s/it, bce=0.04259, hard dice=0.37736, loss=0.66628, soft dice=0.37733]\n"
     ]
    },
    {
     "name": "stdout",
     "output_type": "stream",
     "text": [
      "soft dice: 0.83417 | loss: 0.19129 | hard dice: 0.83417 | bce: 0.02068\n"
     ]
    },
    {
     "name": "stderr",
     "output_type": "stream",
     "text": [
      "Epoch 140: 100% 2/2 [00:08<00:00,  4.09s/it, bce=0.02452, hard dice=0.62797, loss=0.39954, soft dice=0.62490]\n"
     ]
    },
    {
     "name": "stdout",
     "output_type": "stream",
     "text": [
      "soft dice: 0.83073 | loss: 0.18942 | hard dice: 0.83417 | bce: 0.01520\n"
     ]
    },
    {
     "name": "stderr",
     "output_type": "stream",
     "text": [
      "Epoch 141: 100% 2/2 [00:09<00:00,  4.53s/it, bce=0.02790, hard dice=0.68994, loss=0.34638, soft dice=0.68169]\n"
     ]
    },
    {
     "name": "stdout",
     "output_type": "stream",
     "text": [
      "soft dice: 0.83417 | loss: 0.19074 | hard dice: 0.83417 | bce: 0.02017\n"
     ]
    },
    {
     "name": "stderr",
     "output_type": "stream",
     "text": [
      "Epoch 142: 100% 2/2 [00:07<00:00,  3.84s/it, bce=0.04018, hard dice=0.68881, loss=0.35083, soft dice=0.68880]\n"
     ]
    },
    {
     "name": "stdout",
     "output_type": "stream",
     "text": [
      "soft dice: 0.83417 | loss: 0.19076 | hard dice: 0.83417 | bce: 0.02019\n"
     ]
    },
    {
     "name": "stderr",
     "output_type": "stream",
     "text": [
      "Epoch 143: 100% 2/2 [00:07<00:00,  3.87s/it, bce=0.02994, hard dice=0.69525, loss=0.34045, soft dice=0.69520]\n"
     ]
    },
    {
     "name": "stdout",
     "output_type": "stream",
     "text": [
      "soft dice: 0.83417 | loss: 0.19044 | hard dice: 0.83417 | bce: 0.01987\n"
     ]
    },
    {
     "name": "stderr",
     "output_type": "stream",
     "text": [
      "Epoch 144: 100% 2/2 [00:08<00:00,  4.07s/it, bce=0.05201, hard dice=0.81408, loss=0.23879, soft dice=0.81401]\n"
     ]
    },
    {
     "name": "stdout",
     "output_type": "stream",
     "text": [
      "soft dice: 0.83417 | loss: 0.19038 | hard dice: 0.83417 | bce: 0.01981\n"
     ]
    },
    {
     "name": "stderr",
     "output_type": "stream",
     "text": [
      "Epoch 145: 100% 2/2 [00:08<00:00,  4.31s/it, bce=0.02391, hard dice=0.75236, loss=0.27472, soft dice=0.74984]\n"
     ]
    },
    {
     "name": "stdout",
     "output_type": "stream",
     "text": [
      "soft dice: 0.83095 | loss: 0.18915 | hard dice: 0.83417 | bce: 0.01514\n"
     ]
    },
    {
     "name": "stderr",
     "output_type": "stream",
     "text": [
      "Epoch 146: 100% 2/2 [00:08<00:00,  4.48s/it, bce=0.03310, hard dice=0.56472, loss=0.53454, soft dice=0.55849]\n"
     ]
    },
    {
     "name": "stdout",
     "output_type": "stream",
     "text": [
      "soft dice: 0.83410 | loss: 0.18847 | hard dice: 0.83417 | bce: 0.01780\n"
     ]
    },
    {
     "name": "stderr",
     "output_type": "stream",
     "text": [
      "Epoch 147: 100% 2/2 [00:07<00:00,  3.94s/it, bce=0.03055, hard dice=0.50207, loss=0.52931, soft dice=0.50130]\n"
     ]
    },
    {
     "name": "stdout",
     "output_type": "stream",
     "text": [
      "soft dice: 0.83409 | loss: 0.18834 | hard dice: 0.83417 | bce: 0.01770\n"
     ]
    },
    {
     "name": "stderr",
     "output_type": "stream",
     "text": [
      "Epoch 148: 100% 2/2 [00:08<00:00,  4.13s/it, bce=0.04651, hard dice=0.56467, loss=0.48254, soft dice=0.56411]\n"
     ]
    },
    {
     "name": "stdout",
     "output_type": "stream",
     "text": [
      "soft dice: 0.83409 | loss: 0.18827 | hard dice: 0.83417 | bce: 0.01764\n"
     ]
    },
    {
     "name": "stderr",
     "output_type": "stream",
     "text": [
      "Epoch 149: 100% 2/2 [00:08<00:00,  4.10s/it, bce=0.04155, hard dice=0.37800, loss=0.66388, soft dice=0.37732]\n"
     ]
    },
    {
     "name": "stdout",
     "output_type": "stream",
     "text": [
      "soft dice: 0.83408 | loss: 0.18820 | hard dice: 0.83417 | bce: 0.01756\n",
      "Finished train fold: 1 with best loss 0.18767 on epoch 129\n",
      "\n"
     ]
    },
    {
     "name": "stderr",
     "output_type": "stream",
     "text": [
      "Epoch 0: 100% 2/2 [00:08<00:00,  4.18s/it, bce=0.40437, hard dice=0.37732, loss=1.40217, soft dice=0.00278]\n"
     ]
    },
    {
     "name": "stdout",
     "output_type": "stream",
     "text": [
      "soft dice: 0.69679 | loss: 99.00509 | hard dice: 0.69679 | bce: 0.03642\n"
     ]
    },
    {
     "name": "stderr",
     "output_type": "stream",
     "text": [
      "Epoch 1: 100% 2/2 [00:07<00:00,  3.96s/it, bce=0.01565, hard dice=0.81487, loss=0.58428, soft dice=0.44157]\n"
     ]
    },
    {
     "name": "stdout",
     "output_type": "stream",
     "text": [
      "soft dice: 0.69679 | loss: 2095.30816 | hard dice: 0.69679 | bce: 0.03642\n"
     ]
    },
    {
     "name": "stderr",
     "output_type": "stream",
     "text": [
      "Epoch 2: 100% 2/2 [00:08<00:00,  4.28s/it, bce=0.04802, hard dice=0.81421, loss=0.26951, soft dice=0.81421]\n"
     ]
    },
    {
     "name": "stdout",
     "output_type": "stream",
     "text": [
      "soft dice: 0.69679 | loss: 31.77652 | hard dice: 0.69679 | bce: 0.03642\n"
     ]
    },
    {
     "name": "stderr",
     "output_type": "stream",
     "text": [
      "Epoch 3: 100% 2/2 [00:08<00:00,  4.08s/it, bce=0.03323, hard dice=0.62823, loss=0.45346, soft dice=0.62823]\n"
     ]
    },
    {
     "name": "stdout",
     "output_type": "stream",
     "text": [
      "soft dice: 0.69679 | loss: 592.44991 | hard dice: 0.69679 | bce: 0.03642\n"
     ]
    },
    {
     "name": "stderr",
     "output_type": "stream",
     "text": [
      "Epoch 4: 100% 2/2 [00:09<00:00,  4.57s/it, bce=0.02415, hard dice=0.91991, loss=0.22481, soft dice=0.91991]\n"
     ]
    },
    {
     "name": "stdout",
     "output_type": "stream",
     "text": [
      "soft dice: 0.69679 | loss: 3173.60880 | hard dice: 0.69679 | bce: 0.03642\n"
     ]
    },
    {
     "name": "stderr",
     "output_type": "stream",
     "text": [
      "Epoch 5: 100% 2/2 [00:08<00:00,  4.01s/it, bce=0.03520, hard dice=0.81457, loss=0.23543, soft dice=0.81420]\n"
     ]
    },
    {
     "name": "stdout",
     "output_type": "stream",
     "text": [
      "soft dice: 0.69679 | loss: 685.94018 | hard dice: 0.69679 | bce: 0.03642\n"
     ]
    },
    {
     "name": "stderr",
     "output_type": "stream",
     "text": [
      "Epoch 6: 100% 2/2 [00:08<00:00,  4.14s/it, bce=0.02595, hard dice=0.81386, loss=0.30407, soft dice=0.81156]\n"
     ]
    },
    {
     "name": "stdout",
     "output_type": "stream",
     "text": [
      "soft dice: 0.69679 | loss: 991.65473 | hard dice: 0.69679 | bce: 0.03627\n"
     ]
    },
    {
     "name": "stderr",
     "output_type": "stream",
     "text": [
      "Epoch 7: 100% 2/2 [00:07<00:00,  3.95s/it, bce=0.04138, hard dice=0.62842, loss=0.42466, soft dice=0.62839]\n"
     ]
    },
    {
     "name": "stdout",
     "output_type": "stream",
     "text": [
      "soft dice: 0.69666 | loss: 232.39012 | hard dice: 0.69679 | bce: 0.03360\n"
     ]
    },
    {
     "name": "stderr",
     "output_type": "stream",
     "text": [
      "Epoch 8: 100% 2/2 [00:08<00:00,  4.35s/it, bce=0.02430, hard dice=0.75138, loss=0.27816, soft dice=0.74959]\n"
     ]
    },
    {
     "name": "stdout",
     "output_type": "stream",
     "text": [
      "soft dice: 0.69364 | loss: 40.90067 | hard dice: 0.69679 | bce: 0.02828\n"
     ]
    },
    {
     "name": "stderr",
     "output_type": "stream",
     "text": [
      "Epoch 9: 100% 2/2 [00:08<00:00,  4.45s/it, bce=0.03137, hard dice=0.75239, loss=0.29460, soft dice=0.74075]\n"
     ]
    },
    {
     "name": "stdout",
     "output_type": "stream",
     "text": [
      "soft dice: 0.69679 | loss: 3.52443 | hard dice: 0.69679 | bce: 0.03439\n"
     ]
    },
    {
     "name": "stderr",
     "output_type": "stream",
     "text": [
      "Epoch 10: 100% 2/2 [00:07<00:00,  3.90s/it, bce=0.03730, hard dice=0.81394, loss=0.23248, soft dice=0.81394]\n"
     ]
    },
    {
     "name": "stdout",
     "output_type": "stream",
     "text": [
      "soft dice: 0.69679 | loss: 1.28909 | hard dice: 0.69679 | bce: 0.03602\n"
     ]
    },
    {
     "name": "stderr",
     "output_type": "stream",
     "text": [
      "Epoch 11: 100% 2/2 [00:08<00:00,  4.47s/it, bce=0.02763, hard dice=0.83144, loss=0.21681, soft dice=0.83144]\n"
     ]
    },
    {
     "name": "stdout",
     "output_type": "stream",
     "text": [
      "soft dice: 0.69679 | loss: 0.58558 | hard dice: 0.69679 | bce: 0.03498\n"
     ]
    },
    {
     "name": "stderr",
     "output_type": "stream",
     "text": [
      "Epoch 12: 100% 2/2 [00:07<00:00,  3.98s/it, bce=0.03536, hard dice=0.75221, loss=0.28647, soft dice=0.75221]\n"
     ]
    },
    {
     "name": "stdout",
     "output_type": "stream",
     "text": [
      "soft dice: 0.69679 | loss: 0.38840 | hard dice: 0.69679 | bce: 0.03392\n"
     ]
    },
    {
     "name": "stderr",
     "output_type": "stream",
     "text": [
      "Epoch 13: 100% 2/2 [00:08<00:00,  4.24s/it, bce=0.03076, hard dice=0.81645, loss=0.21635, soft dice=0.81645]\n"
     ]
    },
    {
     "name": "stdout",
     "output_type": "stream",
     "text": [
      "soft dice: 0.69679 | loss: 0.36106 | hard dice: 0.69679 | bce: 0.03353\n"
     ]
    },
    {
     "name": "stderr",
     "output_type": "stream",
     "text": [
      "Epoch 14: 100% 2/2 [00:08<00:00,  4.24s/it, bce=0.03891, hard dice=0.44006, loss=0.60018, soft dice=0.44005]\n"
     ]
    },
    {
     "name": "stdout",
     "output_type": "stream",
     "text": [
      "soft dice: 0.69679 | loss: 0.35803 | hard dice: 0.69679 | bce: 0.03220\n"
     ]
    },
    {
     "name": "stderr",
     "output_type": "stream",
     "text": [
      "Epoch 15: 100% 2/2 [00:09<00:00,  4.62s/it, bce=0.02368, hard dice=0.93810, loss=0.14887, soft dice=0.93809]\n"
     ]
    },
    {
     "name": "stdout",
     "output_type": "stream",
     "text": [
      "soft dice: 0.69679 | loss: 0.35572 | hard dice: 0.69679 | bce: 0.03108\n"
     ]
    },
    {
     "name": "stderr",
     "output_type": "stream",
     "text": [
      "Epoch 16: 100% 2/2 [00:07<00:00,  3.92s/it, bce=0.03382, hard dice=0.93862, loss=0.09828, soft dice=0.93842]\n"
     ]
    },
    {
     "name": "stdout",
     "output_type": "stream",
     "text": [
      "soft dice: 0.69678 | loss: 0.35083 | hard dice: 0.69679 | bce: 0.03053\n"
     ]
    },
    {
     "name": "stderr",
     "output_type": "stream",
     "text": [
      "Epoch 17: 100% 2/2 [00:08<00:00,  4.32s/it, bce=0.03821, hard dice=0.62782, loss=0.47554, soft dice=0.62758]\n"
     ]
    },
    {
     "name": "stdout",
     "output_type": "stream",
     "text": [
      "soft dice: 0.69677 | loss: 0.34821 | hard dice: 0.69679 | bce: 0.02914\n"
     ]
    },
    {
     "name": "stderr",
     "output_type": "stream",
     "text": [
      "Epoch 18: 100% 2/2 [00:07<00:00,  3.91s/it, bce=0.02178, hard dice=1.00000, loss=0.02153, soft dice=1.00000]\n"
     ]
    },
    {
     "name": "stdout",
     "output_type": "stream",
     "text": [
      "soft dice: 0.69674 | loss: 0.34675 | hard dice: 0.69679 | bce: 0.02818\n"
     ]
    },
    {
     "name": "stderr",
     "output_type": "stream",
     "text": [
      "Epoch 19: 100% 2/2 [00:08<00:00,  4.10s/it, bce=0.02108, hard dice=0.87744, loss=0.14582, soft dice=0.87653]\n"
     ]
    },
    {
     "name": "stdout",
     "output_type": "stream",
     "text": [
      "soft dice: 0.69673 | loss: 0.34563 | hard dice: 0.69679 | bce: 0.02782\n"
     ]
    },
    {
     "name": "stderr",
     "output_type": "stream",
     "text": [
      "Epoch 20: 100% 2/2 [00:08<00:00,  4.32s/it, bce=0.04040, hard dice=0.75145, loss=0.29055, soft dice=0.75125]\n"
     ]
    },
    {
     "name": "stdout",
     "output_type": "stream",
     "text": [
      "soft dice: 0.69671 | loss: 0.34493 | hard dice: 0.69679 | bce: 0.02744\n"
     ]
    },
    {
     "name": "stderr",
     "output_type": "stream",
     "text": [
      "Epoch 21: 100% 2/2 [00:08<00:00,  4.48s/it, bce=0.02666, hard dice=0.87587, loss=0.15271, soft dice=0.87476]\n"
     ]
    },
    {
     "name": "stdout",
     "output_type": "stream",
     "text": [
      "soft dice: 0.69662 | loss: 0.34389 | hard dice: 0.69679 | bce: 0.02651\n"
     ]
    },
    {
     "name": "stderr",
     "output_type": "stream",
     "text": [
      "Epoch 22: 100% 2/2 [00:07<00:00,  3.94s/it, bce=0.03041, hard dice=0.75081, loss=0.28038, soft dice=0.75074]\n"
     ]
    },
    {
     "name": "stdout",
     "output_type": "stream",
     "text": [
      "soft dice: 0.69652 | loss: 0.34329 | hard dice: 0.69679 | bce: 0.02588\n"
     ]
    },
    {
     "name": "stderr",
     "output_type": "stream",
     "text": [
      "Epoch 23: 100% 2/2 [00:08<00:00,  4.33s/it, bce=0.02103, hard dice=0.75256, loss=0.27437, soft dice=0.74753]\n"
     ]
    },
    {
     "name": "stdout",
     "output_type": "stream",
     "text": [
      "soft dice: 0.69647 | loss: 0.34305 | hard dice: 0.69679 | bce: 0.02564\n"
     ]
    },
    {
     "name": "stderr",
     "output_type": "stream",
     "text": [
      "Epoch 24: 100% 2/2 [00:08<00:00,  4.33s/it, bce=0.02120, hard dice=0.81473, loss=0.20886, soft dice=0.81282]\n"
     ]
    },
    {
     "name": "stdout",
     "output_type": "stream",
     "text": [
      "soft dice: 0.69650 | loss: 0.34308 | hard dice: 0.69679 | bce: 0.02580\n"
     ]
    },
    {
     "name": "stderr",
     "output_type": "stream",
     "text": [
      "Epoch 25: 100% 2/2 [00:08<00:00,  4.12s/it, bce=0.01790, hard dice=0.93883, loss=0.07952, soft dice=0.93852]\n"
     ]
    },
    {
     "name": "stdout",
     "output_type": "stream",
     "text": [
      "soft dice: 0.69657 | loss: 0.34338 | hard dice: 0.69679 | bce: 0.02620\n"
     ]
    },
    {
     "name": "stderr",
     "output_type": "stream",
     "text": [
      "Epoch 26: 100% 2/2 [00:08<00:00,  4.29s/it, bce=0.02345, hard dice=0.81356, loss=0.21278, soft dice=0.81097]\n"
     ]
    },
    {
     "name": "stdout",
     "output_type": "stream",
     "text": [
      "soft dice: 0.69642 | loss: 0.34286 | hard dice: 0.69679 | bce: 0.02557\n"
     ]
    },
    {
     "name": "stderr",
     "output_type": "stream",
     "text": [
      "Epoch 27: 100% 2/2 [00:08<00:00,  4.23s/it, bce=0.01923, hard dice=0.87695, loss=0.14379, soft dice=0.87578]\n"
     ]
    },
    {
     "name": "stdout",
     "output_type": "stream",
     "text": [
      "soft dice: 0.69643 | loss: 0.34291 | hard dice: 0.69679 | bce: 0.02562\n"
     ]
    },
    {
     "name": "stderr",
     "output_type": "stream",
     "text": [
      "Epoch 28: 100% 2/2 [00:08<00:00,  4.31s/it, bce=0.03111, hard dice=0.64213, loss=0.40398, soft dice=0.64169]\n"
     ]
    },
    {
     "name": "stdout",
     "output_type": "stream",
     "text": [
      "soft dice: 0.69646 | loss: 0.34305 | hard dice: 0.69679 | bce: 0.02580\n"
     ]
    },
    {
     "name": "stderr",
     "output_type": "stream",
     "text": [
      "Epoch 29: 100% 2/2 [00:08<00:00,  4.42s/it, bce=0.02863, hard dice=0.62700, loss=0.41124, soft dice=0.61795]\n"
     ]
    },
    {
     "name": "stdout",
     "output_type": "stream",
     "text": [
      "soft dice: 0.69628 | loss: 0.34268 | hard dice: 0.69679 | bce: 0.02524\n",
      "Starting cyclic lr\n"
     ]
    },
    {
     "name": "stderr",
     "output_type": "stream",
     "text": [
      "Epoch 30: 100% 2/2 [00:08<00:00,  4.12s/it, bce=0.02881, hard dice=0.62708, loss=0.40851, soft dice=0.62571]\n"
     ]
    },
    {
     "name": "stdout",
     "output_type": "stream",
     "text": [
      "soft dice: 0.69677 | loss: 0.34716 | hard dice: 0.69679 | bce: 0.03020\n"
     ]
    },
    {
     "name": "stderr",
     "output_type": "stream",
     "text": [
      "Epoch 31: 100% 2/2 [00:07<00:00,  3.98s/it, bce=0.02777, hard dice=0.87654, loss=0.15380, soft dice=0.87469]\n"
     ]
    },
    {
     "name": "stdout",
     "output_type": "stream",
     "text": [
      "soft dice: 0.69653 | loss: 0.34308 | hard dice: 0.69679 | bce: 0.02584\n"
     ]
    },
    {
     "name": "stderr",
     "output_type": "stream",
     "text": [
      "Epoch 32: 100% 2/2 [00:08<00:00,  4.17s/it, bce=0.03460, hard dice=0.69291, loss=0.34537, soft dice=0.69255]\n"
     ]
    },
    {
     "name": "stdout",
     "output_type": "stream",
     "text": [
      "soft dice: 0.69659 | loss: 0.34336 | hard dice: 0.69679 | bce: 0.02623\n"
     ]
    },
    {
     "name": "stderr",
     "output_type": "stream",
     "text": [
      "Epoch 33: 100% 2/2 [00:08<00:00,  4.09s/it, bce=0.02534, hard dice=0.62745, loss=0.39943, soft dice=0.62726]\n"
     ]
    },
    {
     "name": "stdout",
     "output_type": "stream",
     "text": [
      "soft dice: 0.69640 | loss: 0.34276 | hard dice: 0.69679 | bce: 0.02539\n"
     ]
    },
    {
     "name": "stderr",
     "output_type": "stream",
     "text": [
      "Epoch 34: 100% 2/2 [00:08<00:00,  4.14s/it, bce=0.03273, hard dice=0.75131, loss=0.28283, soft dice=0.75119]\n"
     ]
    },
    {
     "name": "stdout",
     "output_type": "stream",
     "text": [
      "soft dice: 0.69639 | loss: 0.34279 | hard dice: 0.69679 | bce: 0.02541\n"
     ]
    },
    {
     "name": "stderr",
     "output_type": "stream",
     "text": [
      "Epoch 35: 100% 2/2 [00:08<00:00,  4.18s/it, bce=0.02383, hard dice=0.94989, loss=0.08669, soft dice=0.94899]\n"
     ]
    },
    {
     "name": "stdout",
     "output_type": "stream",
     "text": [
      "soft dice: 0.69677 | loss: 0.34651 | hard dice: 0.69679 | bce: 0.02935\n"
     ]
    },
    {
     "name": "stderr",
     "output_type": "stream",
     "text": [
      "Epoch 36: 100% 2/2 [00:09<00:00,  4.61s/it, bce=0.03636, hard dice=0.93816, loss=0.10209, soft dice=0.93816]\n"
     ]
    },
    {
     "name": "stdout",
     "output_type": "stream",
     "text": [
      "soft dice: 0.69679 | loss: 0.36463 | hard dice: 0.69679 | bce: 0.03632\n"
     ]
    },
    {
     "name": "stderr",
     "output_type": "stream",
     "text": [
      "Epoch 37: 100% 2/2 [00:08<00:00,  4.20s/it, bce=0.03071, hard dice=0.68863, loss=0.34710, soft dice=0.68863]\n"
     ]
    },
    {
     "name": "stdout",
     "output_type": "stream",
     "text": [
      "soft dice: 0.69679 | loss: 0.35927 | hard dice: 0.69679 | bce: 0.03634\n"
     ]
    },
    {
     "name": "stderr",
     "output_type": "stream",
     "text": [
      "Epoch 38: 100% 2/2 [00:08<00:00,  4.06s/it, bce=0.03300, hard dice=0.69022, loss=0.34934, soft dice=0.69022]\n"
     ]
    },
    {
     "name": "stdout",
     "output_type": "stream",
     "text": [
      "soft dice: 0.69679 | loss: 0.35843 | hard dice: 0.69679 | bce: 0.03634\n"
     ]
    },
    {
     "name": "stderr",
     "output_type": "stream",
     "text": [
      "Epoch 39: 100% 2/2 [00:08<00:00,  4.15s/it, bce=0.04292, hard dice=0.81318, loss=0.23559, soft dice=0.81318]\n"
     ]
    },
    {
     "name": "stdout",
     "output_type": "stream",
     "text": [
      "soft dice: 0.69679 | loss: 0.35813 | hard dice: 0.69679 | bce: 0.03635\n"
     ]
    },
    {
     "name": "stderr",
     "output_type": "stream",
     "text": [
      "Epoch 40: 100% 2/2 [00:09<00:00,  4.51s/it, bce=0.04051, hard dice=0.43959, loss=0.60851, soft dice=0.43352]\n"
     ]
    },
    {
     "name": "stdout",
     "output_type": "stream",
     "text": [
      "soft dice: 0.69674 | loss: 0.34531 | hard dice: 0.69679 | bce: 0.02815\n"
     ]
    },
    {
     "name": "stderr",
     "output_type": "stream",
     "text": [
      "Epoch 41: 100% 2/2 [00:08<00:00,  4.18s/it, bce=0.02487, hard dice=0.93841, loss=0.08977, soft dice=0.93709]\n"
     ]
    },
    {
     "name": "stdout",
     "output_type": "stream",
     "text": [
      "soft dice: 0.69679 | loss: 0.35195 | hard dice: 0.69679 | bce: 0.03435\n"
     ]
    },
    {
     "name": "stderr",
     "output_type": "stream",
     "text": [
      "Epoch 42: 100% 2/2 [00:08<00:00,  4.39s/it, bce=0.03671, hard dice=0.87717, loss=0.16065, soft dice=0.87716]\n"
     ]
    },
    {
     "name": "stdout",
     "output_type": "stream",
     "text": [
      "soft dice: 0.69679 | loss: 0.35144 | hard dice: 0.69679 | bce: 0.03395\n"
     ]
    },
    {
     "name": "stderr",
     "output_type": "stream",
     "text": [
      "Epoch 43: 100% 2/2 [00:08<00:00,  4.16s/it, bce=0.04397, hard dice=0.43989, loss=0.60471, soft dice=0.43988]\n"
     ]
    },
    {
     "name": "stdout",
     "output_type": "stream",
     "text": [
      "soft dice: 0.69679 | loss: 0.35027 | hard dice: 0.69679 | bce: 0.03292\n"
     ]
    },
    {
     "name": "stderr",
     "output_type": "stream",
     "text": [
      "Epoch 44: 100% 2/2 [00:08<00:00,  4.11s/it, bce=0.03222, hard dice=0.44083, loss=0.59183, soft dice=0.44074]\n"
     ]
    },
    {
     "name": "stdout",
     "output_type": "stream",
     "text": [
      "soft dice: 0.69679 | loss: 0.34981 | hard dice: 0.69679 | bce: 0.03244\n"
     ]
    },
    {
     "name": "stderr",
     "output_type": "stream",
     "text": [
      "Epoch 45: 100% 2/2 [00:07<00:00,  3.98s/it, bce=0.02599, hard dice=0.75263, loss=0.27394, soft dice=0.75260]\n"
     ]
    },
    {
     "name": "stdout",
     "output_type": "stream",
     "text": [
      "soft dice: 0.62739 | loss: 0.40285 | hard dice: 0.69679 | bce: 0.01918\n"
     ]
    },
    {
     "name": "stderr",
     "output_type": "stream",
     "text": [
      "Epoch 46: 100% 2/2 [00:07<00:00,  3.90s/it, bce=0.02498, hard dice=0.93839, loss=0.36880, soft dice=0.65748]\n"
     ]
    },
    {
     "name": "stdout",
     "output_type": "stream",
     "text": [
      "soft dice: 0.69679 | loss: 0.61649 | hard dice: 0.69679 | bce: 0.03641\n"
     ]
    },
    {
     "name": "stderr",
     "output_type": "stream",
     "text": [
      "Epoch 47: 100% 2/2 [00:08<00:00,  4.02s/it, bce=0.03665, hard dice=0.75086, loss=0.29384, soft dice=0.75086]\n"
     ]
    },
    {
     "name": "stdout",
     "output_type": "stream",
     "text": [
      "soft dice: 0.69679 | loss: 0.36929 | hard dice: 0.69679 | bce: 0.03642\n"
     ]
    },
    {
     "name": "stderr",
     "output_type": "stream",
     "text": [
      "Epoch 48: 100% 2/2 [00:09<00:00,  4.57s/it, bce=0.04185, hard dice=0.62707, loss=0.42713, soft dice=0.62707]\n"
     ]
    },
    {
     "name": "stdout",
     "output_type": "stream",
     "text": [
      "soft dice: 0.69679 | loss: 0.36311 | hard dice: 0.69679 | bce: 0.03642\n"
     ]
    },
    {
     "name": "stderr",
     "output_type": "stream",
     "text": [
      "Epoch 49: 100% 2/2 [00:09<00:00,  4.74s/it, bce=0.03857, hard dice=0.81431, loss=0.23453, soft dice=0.81431]\n"
     ]
    },
    {
     "name": "stdout",
     "output_type": "stream",
     "text": [
      "soft dice: 0.69679 | loss: 0.36251 | hard dice: 0.69679 | bce: 0.03642\n"
     ]
    },
    {
     "name": "stderr",
     "output_type": "stream",
     "text": [
      "Epoch 50: 100% 2/2 [00:08<00:00,  4.04s/it, bce=0.02758, hard dice=0.75446, loss=0.27963, soft dice=0.75445]\n"
     ]
    },
    {
     "name": "stdout",
     "output_type": "stream",
     "text": [
      "soft dice: 0.69679 | loss: 0.35390 | hard dice: 0.69679 | bce: 0.03338\n"
     ]
    },
    {
     "name": "stderr",
     "output_type": "stream",
     "text": [
      "Epoch 51: 100% 2/2 [00:08<00:00,  4.20s/it, bce=0.02638, hard dice=1.00000, loss=0.02635, soft dice=1.00000]\n"
     ]
    },
    {
     "name": "stdout",
     "output_type": "stream",
     "text": [
      "soft dice: 0.69665 | loss: 0.34809 | hard dice: 0.69679 | bce: 0.02694\n"
     ]
    },
    {
     "name": "stderr",
     "output_type": "stream",
     "text": [
      "Epoch 52: 100% 2/2 [00:08<00:00,  4.22s/it, bce=0.02270, hard dice=1.00000, loss=0.04750, soft dice=0.98389]\n"
     ]
    },
    {
     "name": "stdout",
     "output_type": "stream",
     "text": [
      "soft dice: 0.69671 | loss: 0.34572 | hard dice: 0.69679 | bce: 0.02760\n"
     ]
    },
    {
     "name": "stderr",
     "output_type": "stream",
     "text": [
      "Epoch 53: 100% 2/2 [00:07<00:00,  3.98s/it, bce=0.02340, hard dice=1.00000, loss=0.07669, soft dice=0.99828]\n"
     ]
    },
    {
     "name": "stdout",
     "output_type": "stream",
     "text": [
      "soft dice: 0.69677 | loss: 0.34704 | hard dice: 0.69679 | bce: 0.02936\n"
     ]
    },
    {
     "name": "stderr",
     "output_type": "stream",
     "text": [
      "Epoch 54: 100% 2/2 [00:09<00:00,  4.55s/it, bce=0.01860, hard dice=0.93847, loss=0.08088, soft dice=0.93818]\n"
     ]
    },
    {
     "name": "stdout",
     "output_type": "stream",
     "text": [
      "soft dice: 0.69677 | loss: 0.34639 | hard dice: 0.69679 | bce: 0.02901\n"
     ]
    },
    {
     "name": "stderr",
     "output_type": "stream",
     "text": [
      "Epoch 55: 100% 2/2 [00:08<00:00,  4.42s/it, bce=0.03498, hard dice=0.56476, loss=0.47581, soft dice=0.56449]\n"
     ]
    },
    {
     "name": "stdout",
     "output_type": "stream",
     "text": [
      "soft dice: 0.69679 | loss: 0.36016 | hard dice: 0.69679 | bce: 0.03641\n"
     ]
    },
    {
     "name": "stderr",
     "output_type": "stream",
     "text": [
      "Epoch 56: 100% 2/2 [00:07<00:00,  3.97s/it, bce=0.04561, hard dice=0.75298, loss=0.30632, soft dice=0.75298]\n"
     ]
    },
    {
     "name": "stdout",
     "output_type": "stream",
     "text": [
      "soft dice: 0.69679 | loss: 0.36603 | hard dice: 0.69679 | bce: 0.03642\n"
     ]
    },
    {
     "name": "stderr",
     "output_type": "stream",
     "text": [
      "Epoch 57: 100% 2/2 [00:07<00:00,  3.96s/it, bce=0.03522, hard dice=0.93842, loss=0.11208, soft dice=0.93842]\n"
     ]
    },
    {
     "name": "stdout",
     "output_type": "stream",
     "text": [
      "soft dice: 0.69679 | loss: 0.36599 | hard dice: 0.69679 | bce: 0.03642\n"
     ]
    },
    {
     "name": "stderr",
     "output_type": "stream",
     "text": [
      "Epoch 58: 100% 2/2 [00:09<00:00,  4.56s/it, bce=0.03522, hard dice=0.93854, loss=0.10983, soft dice=0.93854]\n"
     ]
    },
    {
     "name": "stdout",
     "output_type": "stream",
     "text": [
      "soft dice: 0.69679 | loss: 0.36514 | hard dice: 0.69679 | bce: 0.03642\n"
     ]
    },
    {
     "name": "stderr",
     "output_type": "stream",
     "text": [
      "Epoch 59: 100% 2/2 [00:08<00:00,  4.44s/it, bce=0.04684, hard dice=0.56552, loss=0.49673, soft dice=0.56552]\n"
     ]
    },
    {
     "name": "stdout",
     "output_type": "stream",
     "text": [
      "soft dice: 0.69679 | loss: 0.36499 | hard dice: 0.69679 | bce: 0.03642\n"
     ]
    },
    {
     "name": "stderr",
     "output_type": "stream",
     "text": [
      "Epoch 60: 100% 2/2 [00:07<00:00,  3.94s/it, bce=0.03342, hard dice=0.70209, loss=0.35132, soft dice=0.70208]\n"
     ]
    },
    {
     "name": "stdout",
     "output_type": "stream",
     "text": [
      "soft dice: 0.69678 | loss: 0.35162 | hard dice: 0.69679 | bce: 0.03132\n"
     ]
    },
    {
     "name": "stderr",
     "output_type": "stream",
     "text": [
      "Epoch 61: 100% 2/2 [00:08<00:00,  4.36s/it, bce=0.02390, hard dice=0.62791, loss=0.40209, soft dice=0.62221]\n"
     ]
    },
    {
     "name": "stdout",
     "output_type": "stream",
     "text": [
      "soft dice: 0.69677 | loss: 0.35322 | hard dice: 0.69679 | bce: 0.03068\n"
     ]
    },
    {
     "name": "stderr",
     "output_type": "stream",
     "text": [
      "Epoch 62: 100% 2/2 [00:08<00:00,  4.38s/it, bce=0.02711, hard dice=0.56520, loss=0.46479, soft dice=0.56375]\n"
     ]
    },
    {
     "name": "stdout",
     "output_type": "stream",
     "text": [
      "soft dice: 0.69676 | loss: 0.34979 | hard dice: 0.69679 | bce: 0.02978\n"
     ]
    },
    {
     "name": "stderr",
     "output_type": "stream",
     "text": [
      "Epoch 63: 100% 2/2 [00:07<00:00,  3.92s/it, bce=0.02948, hard dice=0.56474, loss=0.46633, soft dice=0.56401]\n"
     ]
    },
    {
     "name": "stdout",
     "output_type": "stream",
     "text": [
      "soft dice: 0.69675 | loss: 0.34755 | hard dice: 0.69679 | bce: 0.02903\n"
     ]
    },
    {
     "name": "stderr",
     "output_type": "stream",
     "text": [
      "Epoch 64: 100% 2/2 [00:08<00:00,  4.37s/it, bce=0.02105, hard dice=0.81504, loss=0.20670, soft dice=0.81484]\n"
     ]
    },
    {
     "name": "stdout",
     "output_type": "stream",
     "text": [
      "soft dice: 0.69673 | loss: 0.34599 | hard dice: 0.69679 | bce: 0.02819\n"
     ]
    },
    {
     "name": "stderr",
     "output_type": "stream",
     "text": [
      "Epoch 65: 100% 2/2 [00:08<00:00,  4.12s/it, bce=0.03233, hard dice=0.56475, loss=0.46860, soft dice=0.56365]\n"
     ]
    },
    {
     "name": "stdout",
     "output_type": "stream",
     "text": [
      "soft dice: 0.69672 | loss: 0.34797 | hard dice: 0.69679 | bce: 0.02765\n"
     ]
    },
    {
     "name": "stderr",
     "output_type": "stream",
     "text": [
      "Epoch 66: 100% 2/2 [00:08<00:00,  4.39s/it, bce=0.02650, hard dice=0.93882, loss=0.09188, soft dice=0.93525]\n"
     ]
    },
    {
     "name": "stdout",
     "output_type": "stream",
     "text": [
      "soft dice: 0.69677 | loss: 0.35221 | hard dice: 0.69679 | bce: 0.02885\n"
     ]
    },
    {
     "name": "stderr",
     "output_type": "stream",
     "text": [
      "Epoch 67: 100% 2/2 [00:08<00:00,  4.40s/it, bce=0.02624, hard dice=0.69000, loss=0.33830, soft dice=0.68915]\n"
     ]
    },
    {
     "name": "stdout",
     "output_type": "stream",
     "text": [
      "soft dice: 0.69675 | loss: 0.34790 | hard dice: 0.69679 | bce: 0.02835\n"
     ]
    },
    {
     "name": "stderr",
     "output_type": "stream",
     "text": [
      "Epoch 68: 100% 2/2 [00:09<00:00,  4.54s/it, bce=0.01668, hard dice=0.81494, loss=0.20272, soft dice=0.81375]\n"
     ]
    },
    {
     "name": "stdout",
     "output_type": "stream",
     "text": [
      "soft dice: 0.69673 | loss: 0.34567 | hard dice: 0.69679 | bce: 0.02760\n"
     ]
    },
    {
     "name": "stderr",
     "output_type": "stream",
     "text": [
      "Epoch 69: 100% 2/2 [00:08<00:00,  4.07s/it, bce=0.02799, hard dice=0.81401, loss=0.21509, soft dice=0.81289]\n"
     ]
    },
    {
     "name": "stdout",
     "output_type": "stream",
     "text": [
      "soft dice: 0.69669 | loss: 0.34441 | hard dice: 0.69679 | bce: 0.02698\n"
     ]
    },
    {
     "name": "stderr",
     "output_type": "stream",
     "text": [
      "Epoch 70: 100% 2/2 [00:08<00:00,  4.02s/it, bce=0.02906, hard dice=0.75211, loss=0.27851, soft dice=0.75120]\n"
     ]
    },
    {
     "name": "stdout",
     "output_type": "stream",
     "text": [
      "soft dice: 0.69674 | loss: 0.34542 | hard dice: 0.69679 | bce: 0.02781\n"
     ]
    },
    {
     "name": "stderr",
     "output_type": "stream",
     "text": [
      "Epoch 71: 100% 2/2 [00:08<00:00,  4.36s/it, bce=0.02973, hard dice=0.68986, loss=0.34127, soft dice=0.68854]\n"
     ]
    },
    {
     "name": "stdout",
     "output_type": "stream",
     "text": [
      "soft dice: 0.69672 | loss: 0.34490 | hard dice: 0.69679 | bce: 0.02746\n"
     ]
    },
    {
     "name": "stderr",
     "output_type": "stream",
     "text": [
      "Epoch 72: 100% 2/2 [00:08<00:00,  4.08s/it, bce=0.02548, hard dice=0.50385, loss=0.56826, soft dice=0.50246]\n"
     ]
    },
    {
     "name": "stdout",
     "output_type": "stream",
     "text": [
      "soft dice: 0.69667 | loss: 0.34419 | hard dice: 0.69679 | bce: 0.02672\n"
     ]
    },
    {
     "name": "stderr",
     "output_type": "stream",
     "text": [
      "Epoch 73: 100% 2/2 [00:08<00:00,  4.22s/it, bce=0.01933, hard dice=0.63336, loss=0.39251, soft dice=0.63209]\n"
     ]
    },
    {
     "name": "stdout",
     "output_type": "stream",
     "text": [
      "soft dice: 0.69662 | loss: 0.34370 | hard dice: 0.69679 | bce: 0.02626\n"
     ]
    },
    {
     "name": "stderr",
     "output_type": "stream",
     "text": [
      "Epoch 74: 100% 2/2 [00:08<00:00,  4.11s/it, bce=0.01304, hard dice=0.87733, loss=0.13665, soft dice=0.87644]\n"
     ]
    },
    {
     "name": "stdout",
     "output_type": "stream",
     "text": [
      "soft dice: 0.69658 | loss: 0.34343 | hard dice: 0.69679 | bce: 0.02607\n"
     ]
    },
    {
     "name": "stderr",
     "output_type": "stream",
     "text": [
      "Epoch 75: 100% 2/2 [00:08<00:00,  4.37s/it, bce=0.01579, hard dice=1.00000, loss=0.01569, soft dice=1.00000]\n"
     ]
    },
    {
     "name": "stdout",
     "output_type": "stream",
     "text": [
      "soft dice: 0.69650 | loss: 0.34283 | hard dice: 0.69679 | bce: 0.02564\n"
     ]
    },
    {
     "name": "stderr",
     "output_type": "stream",
     "text": [
      "Epoch 76: 100% 2/2 [00:08<00:00,  4.17s/it, bce=0.02417, hard dice=0.68924, loss=0.33738, soft dice=0.68646]\n"
     ]
    },
    {
     "name": "stdout",
     "output_type": "stream",
     "text": [
      "soft dice: 0.69674 | loss: 0.34468 | hard dice: 0.69679 | bce: 0.02773\n"
     ]
    },
    {
     "name": "stderr",
     "output_type": "stream",
     "text": [
      "Epoch 77: 100% 2/2 [00:07<00:00,  3.93s/it, bce=0.02490, hard dice=0.81386, loss=0.21253, soft dice=0.81281]\n"
     ]
    },
    {
     "name": "stdout",
     "output_type": "stream",
     "text": [
      "soft dice: 0.69672 | loss: 0.34433 | hard dice: 0.69679 | bce: 0.02736\n"
     ]
    },
    {
     "name": "stderr",
     "output_type": "stream",
     "text": [
      "Epoch 78: 100% 2/2 [00:08<00:00,  4.08s/it, bce=0.00875, hard dice=1.00000, loss=0.00862, soft dice=1.00000]\n"
     ]
    },
    {
     "name": "stdout",
     "output_type": "stream",
     "text": [
      "soft dice: 0.69669 | loss: 0.34391 | hard dice: 0.69679 | bce: 0.02691\n"
     ]
    },
    {
     "name": "stderr",
     "output_type": "stream",
     "text": [
      "Epoch 79: 100% 2/2 [00:09<00:00,  4.56s/it, bce=0.02541, hard dice=0.62807, loss=0.39830, soft dice=0.62704]\n"
     ]
    },
    {
     "name": "stdout",
     "output_type": "stream",
     "text": [
      "soft dice: 0.69668 | loss: 0.34375 | hard dice: 0.69679 | bce: 0.02672\n"
     ]
    },
    {
     "name": "stderr",
     "output_type": "stream",
     "text": [
      "Epoch 80: 100% 2/2 [00:08<00:00,  4.16s/it, bce=0.02694, hard dice=0.93827, loss=0.08981, soft dice=0.93749]\n"
     ]
    },
    {
     "name": "stdout",
     "output_type": "stream",
     "text": [
      "soft dice: 0.69669 | loss: 0.34375 | hard dice: 0.69679 | bce: 0.02671\n"
     ]
    },
    {
     "name": "stderr",
     "output_type": "stream",
     "text": [
      "Epoch 81: 100% 2/2 [00:08<00:00,  4.16s/it, bce=0.02439, hard dice=0.75152, loss=0.27363, soft dice=0.75081]\n"
     ]
    },
    {
     "name": "stdout",
     "output_type": "stream",
     "text": [
      "soft dice: 0.69663 | loss: 0.34328 | hard dice: 0.69679 | bce: 0.02624\n"
     ]
    },
    {
     "name": "stderr",
     "output_type": "stream",
     "text": [
      "Epoch 82: 100% 2/2 [00:08<00:00,  4.40s/it, bce=0.03077, hard dice=0.69165, loss=0.34371, soft dice=0.68949]\n"
     ]
    },
    {
     "name": "stdout",
     "output_type": "stream",
     "text": [
      "soft dice: 0.69656 | loss: 0.34294 | hard dice: 0.69679 | bce: 0.02582\n"
     ]
    },
    {
     "name": "stderr",
     "output_type": "stream",
     "text": [
      "Epoch 83: 100% 2/2 [00:08<00:00,  4.35s/it, bce=0.01642, hard dice=0.93890, loss=0.07980, soft dice=0.93723]\n"
     ]
    },
    {
     "name": "stdout",
     "output_type": "stream",
     "text": [
      "soft dice: 0.69654 | loss: 0.34287 | hard dice: 0.69679 | bce: 0.02572\n"
     ]
    },
    {
     "name": "stderr",
     "output_type": "stream",
     "text": [
      "Epoch 84: 100% 2/2 [00:08<00:00,  4.08s/it, bce=0.02991, hard dice=0.62840, loss=0.41844, soft dice=0.62654]\n"
     ]
    },
    {
     "name": "stdout",
     "output_type": "stream",
     "text": [
      "soft dice: 0.69654 | loss: 0.34364 | hard dice: 0.69679 | bce: 0.02564\n"
     ]
    },
    {
     "name": "stderr",
     "output_type": "stream",
     "text": [
      "Epoch 85: 100% 2/2 [00:08<00:00,  4.49s/it, bce=0.01716, hard dice=0.81622, loss=0.26330, soft dice=0.81558]\n"
     ]
    },
    {
     "name": "stdout",
     "output_type": "stream",
     "text": [
      "soft dice: 0.69616 | loss: 0.34732 | hard dice: 0.69679 | bce: 0.02829\n"
     ]
    },
    {
     "name": "stderr",
     "output_type": "stream",
     "text": [
      "Epoch 86: 100% 2/2 [00:08<00:00,  4.30s/it, bce=0.03209, hard dice=0.75227, loss=0.28141, soft dice=0.75200]\n"
     ]
    },
    {
     "name": "stdout",
     "output_type": "stream",
     "text": [
      "soft dice: 0.69666 | loss: 0.34917 | hard dice: 0.69679 | bce: 0.02977\n"
     ]
    },
    {
     "name": "stderr",
     "output_type": "stream",
     "text": [
      "Epoch 87: 100% 2/2 [00:08<00:00,  4.24s/it, bce=0.03326, hard dice=0.75149, loss=0.28198, soft dice=0.75139]\n"
     ]
    },
    {
     "name": "stdout",
     "output_type": "stream",
     "text": [
      "soft dice: 0.69666 | loss: 0.34708 | hard dice: 0.69679 | bce: 0.02911\n"
     ]
    },
    {
     "name": "stderr",
     "output_type": "stream",
     "text": [
      "Epoch 88: 100% 2/2 [00:08<00:00,  4.24s/it, bce=0.02799, hard dice=0.81480, loss=0.22859, soft dice=0.81449]\n"
     ]
    },
    {
     "name": "stdout",
     "output_type": "stream",
     "text": [
      "soft dice: 0.69663 | loss: 0.34549 | hard dice: 0.69679 | bce: 0.02813\n"
     ]
    },
    {
     "name": "stderr",
     "output_type": "stream",
     "text": [
      "Epoch 89: 100% 2/2 [00:08<00:00,  4.34s/it, bce=0.03473, hard dice=1.00000, loss=0.03499, soft dice=1.00000]\n"
     ]
    },
    {
     "name": "stdout",
     "output_type": "stream",
     "text": [
      "soft dice: 0.69664 | loss: 0.34502 | hard dice: 0.69679 | bce: 0.02779\n"
     ]
    },
    {
     "name": "stderr",
     "output_type": "stream",
     "text": [
      "Epoch 90: 100% 2/2 [00:08<00:00,  4.29s/it, bce=0.02605, hard dice=0.87682, loss=0.15471, soft dice=0.87185]\n"
     ]
    },
    {
     "name": "stdout",
     "output_type": "stream",
     "text": [
      "soft dice: 0.69676 | loss: 0.34686 | hard dice: 0.69679 | bce: 0.02898\n"
     ]
    },
    {
     "name": "stderr",
     "output_type": "stream",
     "text": [
      "Epoch 91: 100% 2/2 [00:08<00:00,  4.27s/it, bce=0.02276, hard dice=0.87725, loss=0.14575, soft dice=0.87688]\n"
     ]
    },
    {
     "name": "stdout",
     "output_type": "stream",
     "text": [
      "soft dice: 0.69679 | loss: 0.35641 | hard dice: 0.69679 | bce: 0.03461\n"
     ]
    },
    {
     "name": "stderr",
     "output_type": "stream",
     "text": [
      "Epoch 92: 100% 2/2 [00:08<00:00,  4.41s/it, bce=0.03222, hard dice=0.68948, loss=0.34332, soft dice=0.68947]\n"
     ]
    },
    {
     "name": "stdout",
     "output_type": "stream",
     "text": [
      "soft dice: 0.69679 | loss: 0.35544 | hard dice: 0.69679 | bce: 0.03389\n"
     ]
    },
    {
     "name": "stderr",
     "output_type": "stream",
     "text": [
      "Epoch 93: 100% 2/2 [00:08<00:00,  4.34s/it, bce=0.04065, hard dice=0.68968, loss=0.35099, soft dice=0.68967]\n"
     ]
    },
    {
     "name": "stdout",
     "output_type": "stream",
     "text": [
      "soft dice: 0.69679 | loss: 0.35219 | hard dice: 0.69679 | bce: 0.03290\n"
     ]
    },
    {
     "name": "stderr",
     "output_type": "stream",
     "text": [
      "Epoch 94: 100% 2/2 [00:08<00:00,  4.44s/it, bce=0.03845, hard dice=0.81391, loss=0.22537, soft dice=0.81390]\n"
     ]
    },
    {
     "name": "stdout",
     "output_type": "stream",
     "text": [
      "soft dice: 0.69679 | loss: 0.35016 | hard dice: 0.69679 | bce: 0.03232\n"
     ]
    },
    {
     "name": "stderr",
     "output_type": "stream",
     "text": [
      "Epoch 95: 100% 2/2 [00:08<00:00,  4.48s/it, bce=0.03885, hard dice=0.62773, loss=0.42077, soft dice=0.61836]\n"
     ]
    },
    {
     "name": "stdout",
     "output_type": "stream",
     "text": [
      "soft dice: 0.69636 | loss: 0.34995 | hard dice: 0.69679 | bce: 0.02497\n"
     ]
    },
    {
     "name": "stderr",
     "output_type": "stream",
     "text": [
      "Epoch 96: 100% 2/2 [00:08<00:00,  4.19s/it, bce=0.02235, hard dice=0.93841, loss=0.09004, soft dice=0.93226]\n"
     ]
    },
    {
     "name": "stdout",
     "output_type": "stream",
     "text": [
      "soft dice: 0.69679 | loss: 0.38869 | hard dice: 0.69679 | bce: 0.03627\n"
     ]
    },
    {
     "name": "stderr",
     "output_type": "stream",
     "text": [
      "Epoch 97: 100% 2/2 [00:08<00:00,  4.36s/it, bce=0.04094, hard dice=0.62801, loss=0.41542, soft dice=0.62801]\n"
     ]
    },
    {
     "name": "stdout",
     "output_type": "stream",
     "text": [
      "soft dice: 0.69679 | loss: 0.36520 | hard dice: 0.69679 | bce: 0.03619\n"
     ]
    },
    {
     "name": "stderr",
     "output_type": "stream",
     "text": [
      "Epoch 98: 100% 2/2 [00:08<00:00,  4.43s/it, bce=0.03417, hard dice=0.81405, loss=0.22095, soft dice=0.81405]\n"
     ]
    },
    {
     "name": "stdout",
     "output_type": "stream",
     "text": [
      "soft dice: 0.69679 | loss: 0.35873 | hard dice: 0.69679 | bce: 0.03596\n"
     ]
    },
    {
     "name": "stderr",
     "output_type": "stream",
     "text": [
      "Epoch 99: 100% 2/2 [00:07<00:00,  3.83s/it, bce=0.04827, hard dice=0.75251, loss=0.35908, soft dice=0.75251]\n"
     ]
    },
    {
     "name": "stdout",
     "output_type": "stream",
     "text": [
      "soft dice: 0.69679 | loss: 0.35484 | hard dice: 0.69679 | bce: 0.03553\n"
     ]
    },
    {
     "name": "stderr",
     "output_type": "stream",
     "text": [
      "Epoch 100: 100% 2/2 [00:08<00:00,  4.17s/it, bce=0.03342, hard dice=0.62698, loss=0.40699, soft dice=0.62681]\n"
     ]
    },
    {
     "name": "stdout",
     "output_type": "stream",
     "text": [
      "soft dice: 0.69628 | loss: 0.34268 | hard dice: 0.69679 | bce: 0.02489\n"
     ]
    },
    {
     "name": "stderr",
     "output_type": "stream",
     "text": [
      "Epoch 101: 100% 2/2 [00:09<00:00,  4.55s/it, bce=0.02648, hard dice=0.62721, loss=0.40508, soft dice=0.62225]\n"
     ]
    },
    {
     "name": "stdout",
     "output_type": "stream",
     "text": [
      "soft dice: 0.69679 | loss: 0.34905 | hard dice: 0.69679 | bce: 0.03171\n"
     ]
    },
    {
     "name": "stderr",
     "output_type": "stream",
     "text": [
      "Epoch 102: 100% 2/2 [00:08<00:00,  4.25s/it, bce=0.02835, hard dice=0.81455, loss=0.21531, soft dice=0.81448]\n"
     ]
    },
    {
     "name": "stdout",
     "output_type": "stream",
     "text": [
      "soft dice: 0.69679 | loss: 0.34962 | hard dice: 0.69679 | bce: 0.03200\n"
     ]
    },
    {
     "name": "stderr",
     "output_type": "stream",
     "text": [
      "Epoch 103: 100% 2/2 [00:08<00:00,  4.40s/it, bce=0.03183, hard dice=0.81735, loss=0.21532, soft dice=0.81731]\n"
     ]
    },
    {
     "name": "stdout",
     "output_type": "stream",
     "text": [
      "soft dice: 0.69679 | loss: 0.34941 | hard dice: 0.69679 | bce: 0.03209\n"
     ]
    },
    {
     "name": "stderr",
     "output_type": "stream",
     "text": [
      "Epoch 104: 100% 2/2 [00:08<00:00,  4.31s/it, bce=0.03426, hard dice=0.62682, loss=0.40747, soft dice=0.62680]\n"
     ]
    },
    {
     "name": "stdout",
     "output_type": "stream",
     "text": [
      "soft dice: 0.69679 | loss: 0.34889 | hard dice: 0.69679 | bce: 0.03168\n"
     ]
    },
    {
     "name": "stderr",
     "output_type": "stream",
     "text": [
      "Epoch 105: 100% 2/2 [00:09<00:00,  4.65s/it, bce=0.03930, hard dice=0.69058, loss=0.34999, soft dice=0.69020]\n"
     ]
    },
    {
     "name": "stdout",
     "output_type": "stream",
     "text": [
      "soft dice: 0.69620 | loss: 0.34268 | hard dice: 0.69679 | bce: 0.02524\n"
     ]
    },
    {
     "name": "stderr",
     "output_type": "stream",
     "text": [
      "Epoch 106: 100% 2/2 [00:09<00:00,  4.56s/it, bce=0.03069, hard dice=0.62690, loss=0.47204, soft dice=0.62040]\n"
     ]
    },
    {
     "name": "stdout",
     "output_type": "stream",
     "text": [
      "soft dice: 0.69620 | loss: 0.34244 | hard dice: 0.69679 | bce: 0.02498\n"
     ]
    },
    {
     "name": "stderr",
     "output_type": "stream",
     "text": [
      "Epoch 107: 100% 2/2 [00:08<00:00,  4.11s/it, bce=0.02360, hard dice=0.68935, loss=0.33687, soft dice=0.68709]\n"
     ]
    },
    {
     "name": "stdout",
     "output_type": "stream",
     "text": [
      "soft dice: 0.69638 | loss: 0.34274 | hard dice: 0.69679 | bce: 0.02546\n"
     ]
    },
    {
     "name": "stderr",
     "output_type": "stream",
     "text": [
      "Epoch 108: 100% 2/2 [00:08<00:00,  4.24s/it, bce=0.02195, hard dice=0.62788, loss=0.45730, soft dice=0.62623]\n"
     ]
    },
    {
     "name": "stdout",
     "output_type": "stream",
     "text": [
      "soft dice: 0.69654 | loss: 0.34323 | hard dice: 0.69679 | bce: 0.02611\n"
     ]
    },
    {
     "name": "stderr",
     "output_type": "stream",
     "text": [
      "Epoch 109: 100% 2/2 [00:08<00:00,  4.03s/it, bce=0.02635, hard dice=0.87852, loss=0.15098, soft dice=0.87795]\n"
     ]
    },
    {
     "name": "stdout",
     "output_type": "stream",
     "text": [
      "soft dice: 0.69654 | loss: 0.34319 | hard dice: 0.69679 | bce: 0.02606\n"
     ]
    },
    {
     "name": "stderr",
     "output_type": "stream",
     "text": [
      "Epoch 110: 100% 2/2 [00:08<00:00,  4.24s/it, bce=0.02216, hard dice=0.81419, loss=0.21267, soft dice=0.80952]\n"
     ]
    },
    {
     "name": "stdout",
     "output_type": "stream",
     "text": [
      "soft dice: 0.69679 | loss: 0.35337 | hard dice: 0.69679 | bce: 0.03534\n"
     ]
    },
    {
     "name": "stderr",
     "output_type": "stream",
     "text": [
      "Epoch 111: 100% 2/2 [00:08<00:00,  4.48s/it, bce=0.03250, hard dice=0.56461, loss=0.46767, soft dice=0.56461]\n"
     ]
    },
    {
     "name": "stdout",
     "output_type": "stream",
     "text": [
      "soft dice: 0.69679 | loss: 0.35579 | hard dice: 0.69679 | bce: 0.03613\n"
     ]
    },
    {
     "name": "stderr",
     "output_type": "stream",
     "text": [
      "Epoch 112: 100% 2/2 [00:08<00:00,  4.25s/it, bce=0.03016, hard dice=0.62731, loss=0.40368, soft dice=0.62730]\n"
     ]
    },
    {
     "name": "stdout",
     "output_type": "stream",
     "text": [
      "soft dice: 0.69679 | loss: 0.35452 | hard dice: 0.69679 | bce: 0.03587\n"
     ]
    },
    {
     "name": "stderr",
     "output_type": "stream",
     "text": [
      "Epoch 113: 100% 2/2 [00:08<00:00,  4.29s/it, bce=0.04735, hard dice=0.37781, loss=0.66919, soft dice=0.37780]\n"
     ]
    },
    {
     "name": "stdout",
     "output_type": "stream",
     "text": [
      "soft dice: 0.69679 | loss: 0.35256 | hard dice: 0.69679 | bce: 0.03499\n"
     ]
    },
    {
     "name": "stderr",
     "output_type": "stream",
     "text": [
      "Epoch 114: 100% 2/2 [00:08<00:00,  4.41s/it, bce=0.02608, hard dice=0.87654, loss=0.15001, soft dice=0.87654]\n"
     ]
    },
    {
     "name": "stdout",
     "output_type": "stream",
     "text": [
      "soft dice: 0.69679 | loss: 0.35213 | hard dice: 0.69679 | bce: 0.03474\n"
     ]
    },
    {
     "name": "stderr",
     "output_type": "stream",
     "text": [
      "Epoch 115: 100% 2/2 [00:08<00:00,  4.29s/it, bce=0.03187, hard dice=0.56566, loss=0.46640, soft dice=0.56559]\n"
     ]
    },
    {
     "name": "stdout",
     "output_type": "stream",
     "text": [
      "soft dice: 0.69501 | loss: 0.34178 | hard dice: 0.69679 | bce: 0.02311\n"
     ]
    },
    {
     "name": "stderr",
     "output_type": "stream",
     "text": [
      "Epoch 116: 100% 2/2 [00:07<00:00,  3.91s/it, bce=0.01952, hard dice=0.87566, loss=0.15733, soft dice=0.86260]\n"
     ]
    },
    {
     "name": "stdout",
     "output_type": "stream",
     "text": [
      "soft dice: 0.69674 | loss: 0.34477 | hard dice: 0.69679 | bce: 0.02787\n"
     ]
    },
    {
     "name": "stderr",
     "output_type": "stream",
     "text": [
      "Epoch 117: 100% 2/2 [00:09<00:00,  4.58s/it, bce=0.02722, hard dice=0.87571, loss=0.15141, soft dice=0.87553]\n"
     ]
    },
    {
     "name": "stdout",
     "output_type": "stream",
     "text": [
      "soft dice: 0.69676 | loss: 0.34548 | hard dice: 0.69679 | bce: 0.02858\n"
     ]
    },
    {
     "name": "stderr",
     "output_type": "stream",
     "text": [
      "Epoch 118: 100% 2/2 [00:08<00:00,  4.09s/it, bce=0.01888, hard dice=0.81538, loss=0.26432, soft dice=0.81483]\n"
     ]
    },
    {
     "name": "stdout",
     "output_type": "stream",
     "text": [
      "soft dice: 0.69676 | loss: 0.34553 | hard dice: 0.69679 | bce: 0.02864\n"
     ]
    },
    {
     "name": "stderr",
     "output_type": "stream",
     "text": [
      "Epoch 119: 100% 2/2 [00:08<00:00,  4.11s/it, bce=0.02700, hard dice=0.75113, loss=0.27548, soft dice=0.75097]\n"
     ]
    },
    {
     "name": "stdout",
     "output_type": "stream",
     "text": [
      "soft dice: 0.69675 | loss: 0.34517 | hard dice: 0.69679 | bce: 0.02827\n"
     ]
    },
    {
     "name": "stderr",
     "output_type": "stream",
     "text": [
      "Epoch 120: 100% 2/2 [00:08<00:00,  4.17s/it, bce=0.02699, hard dice=0.62763, loss=0.46169, soft dice=0.62593]\n"
     ]
    },
    {
     "name": "stdout",
     "output_type": "stream",
     "text": [
      "soft dice: 0.69659 | loss: 0.34307 | hard dice: 0.69679 | bce: 0.02601\n"
     ]
    },
    {
     "name": "stderr",
     "output_type": "stream",
     "text": [
      "Epoch 121: 100% 2/2 [00:08<00:00,  4.31s/it, bce=0.02013, hard dice=0.93826, loss=0.08396, soft dice=0.93631]\n"
     ]
    },
    {
     "name": "stdout",
     "output_type": "stream",
     "text": [
      "soft dice: 0.69668 | loss: 0.34367 | hard dice: 0.69679 | bce: 0.02669\n"
     ]
    },
    {
     "name": "stderr",
     "output_type": "stream",
     "text": [
      "Epoch 122: 100% 2/2 [00:08<00:00,  4.15s/it, bce=0.02675, hard dice=0.69168, loss=0.33735, soft dice=0.69081]\n"
     ]
    },
    {
     "name": "stdout",
     "output_type": "stream",
     "text": [
      "soft dice: 0.69667 | loss: 0.34356 | hard dice: 0.69679 | bce: 0.02657\n"
     ]
    },
    {
     "name": "stderr",
     "output_type": "stream",
     "text": [
      "Epoch 123: 100% 2/2 [00:08<00:00,  4.29s/it, bce=0.01748, hard dice=1.00000, loss=0.07901, soft dice=1.00000]\n"
     ]
    },
    {
     "name": "stdout",
     "output_type": "stream",
     "text": [
      "soft dice: 0.69665 | loss: 0.34342 | hard dice: 0.69679 | bce: 0.02641\n"
     ]
    },
    {
     "name": "stderr",
     "output_type": "stream",
     "text": [
      "Epoch 124: 100% 2/2 [00:08<00:00,  4.42s/it, bce=0.01906, hard dice=0.81557, loss=0.20638, soft dice=0.81234]\n"
     ]
    },
    {
     "name": "stdout",
     "output_type": "stream",
     "text": [
      "soft dice: 0.69658 | loss: 0.34283 | hard dice: 0.69679 | bce: 0.02574\n"
     ]
    },
    {
     "name": "stderr",
     "output_type": "stream",
     "text": [
      "Epoch 125: 100% 2/2 [00:08<00:00,  4.17s/it, bce=0.03609, hard dice=0.56459, loss=0.47222, soft dice=0.56407]\n"
     ]
    },
    {
     "name": "stdout",
     "output_type": "stream",
     "text": [
      "soft dice: 0.69675 | loss: 0.34493 | hard dice: 0.69679 | bce: 0.02799\n"
     ]
    },
    {
     "name": "stderr",
     "output_type": "stream",
     "text": [
      "Epoch 126: 100% 2/2 [00:08<00:00,  4.18s/it, bce=0.02642, hard dice=0.62731, loss=0.39956, soft dice=0.62672]\n"
     ]
    },
    {
     "name": "stdout",
     "output_type": "stream",
     "text": [
      "soft dice: 0.69663 | loss: 0.34332 | hard dice: 0.69679 | bce: 0.02626\n"
     ]
    },
    {
     "name": "stderr",
     "output_type": "stream",
     "text": [
      "Epoch 127: 100% 2/2 [00:08<00:00,  4.08s/it, bce=0.02130, hard dice=0.87584, loss=0.14911, soft dice=0.87276]\n"
     ]
    },
    {
     "name": "stdout",
     "output_type": "stream",
     "text": [
      "soft dice: 0.69659 | loss: 0.34299 | hard dice: 0.69679 | bce: 0.02587\n"
     ]
    },
    {
     "name": "stderr",
     "output_type": "stream",
     "text": [
      "Epoch 128: 100% 2/2 [00:08<00:00,  4.27s/it, bce=0.02052, hard dice=0.62802, loss=0.39382, soft dice=0.62715]\n"
     ]
    },
    {
     "name": "stdout",
     "output_type": "stream",
     "text": [
      "soft dice: 0.69662 | loss: 0.34320 | hard dice: 0.69679 | bce: 0.02613\n"
     ]
    },
    {
     "name": "stderr",
     "output_type": "stream",
     "text": [
      "Epoch 129: 100% 2/2 [00:07<00:00,  3.94s/it, bce=0.02001, hard dice=0.75114, loss=0.26955, soft dice=0.75033]\n"
     ]
    },
    {
     "name": "stdout",
     "output_type": "stream",
     "text": [
      "soft dice: 0.69661 | loss: 0.34307 | hard dice: 0.69679 | bce: 0.02599\n"
     ]
    },
    {
     "name": "stderr",
     "output_type": "stream",
     "text": [
      "Epoch 130: 100% 2/2 [00:08<00:00,  4.38s/it, bce=0.02700, hard dice=0.81385, loss=0.21528, soft dice=0.81214]\n"
     ]
    },
    {
     "name": "stdout",
     "output_type": "stream",
     "text": [
      "soft dice: 0.69676 | loss: 0.34544 | hard dice: 0.69679 | bce: 0.02851\n"
     ]
    },
    {
     "name": "stderr",
     "output_type": "stream",
     "text": [
      "Epoch 131: 100% 2/2 [00:08<00:00,  4.34s/it, bce=0.03836, hard dice=0.68890, loss=0.41126, soft dice=0.68813]\n"
     ]
    },
    {
     "name": "stdout",
     "output_type": "stream",
     "text": [
      "soft dice: 0.69671 | loss: 0.34430 | hard dice: 0.69679 | bce: 0.02735\n"
     ]
    },
    {
     "name": "stderr",
     "output_type": "stream",
     "text": [
      "Epoch 132: 100% 2/2 [00:08<00:00,  4.29s/it, bce=0.03277, hard dice=0.56406, loss=0.47197, soft dice=0.56097]\n"
     ]
    },
    {
     "name": "stdout",
     "output_type": "stream",
     "text": [
      "soft dice: 0.69662 | loss: 0.34329 | hard dice: 0.69679 | bce: 0.02626\n"
     ]
    },
    {
     "name": "stderr",
     "output_type": "stream",
     "text": [
      "Epoch 133: 100% 2/2 [00:08<00:00,  4.34s/it, bce=0.02243, hard dice=0.87709, loss=0.14826, soft dice=0.87428]\n"
     ]
    },
    {
     "name": "stdout",
     "output_type": "stream",
     "text": [
      "soft dice: 0.69656 | loss: 0.34287 | hard dice: 0.69679 | bce: 0.02578\n"
     ]
    },
    {
     "name": "stderr",
     "output_type": "stream",
     "text": [
      "Epoch 134: 100% 2/2 [00:08<00:00,  4.28s/it, bce=0.01899, hard dice=0.88218, loss=0.14398, soft dice=0.88025]\n"
     ]
    },
    {
     "name": "stdout",
     "output_type": "stream",
     "text": [
      "soft dice: 0.69653 | loss: 0.34263 | hard dice: 0.69679 | bce: 0.02551\n"
     ]
    },
    {
     "name": "stderr",
     "output_type": "stream",
     "text": [
      "Epoch 135: 100% 2/2 [00:08<00:00,  4.19s/it, bce=0.02988, hard dice=0.56519, loss=0.52736, soft dice=0.56358]\n"
     ]
    },
    {
     "name": "stdout",
     "output_type": "stream",
     "text": [
      "soft dice: 0.69678 | loss: 0.34631 | hard dice: 0.69679 | bce: 0.02942\n"
     ]
    },
    {
     "name": "stderr",
     "output_type": "stream",
     "text": [
      "Epoch 136: 100% 2/2 [00:08<00:00,  4.37s/it, bce=0.02425, hard dice=0.93842, loss=0.08552, soft dice=0.93821]\n"
     ]
    },
    {
     "name": "stdout",
     "output_type": "stream",
     "text": [
      "soft dice: 0.69678 | loss: 0.34623 | hard dice: 0.69679 | bce: 0.02935\n"
     ]
    },
    {
     "name": "stderr",
     "output_type": "stream",
     "text": [
      "Epoch 137: 100% 2/2 [00:08<00:00,  4.21s/it, bce=0.03315, hard dice=0.62711, loss=0.40672, soft dice=0.62667]\n"
     ]
    },
    {
     "name": "stdout",
     "output_type": "stream",
     "text": [
      "soft dice: 0.69675 | loss: 0.34504 | hard dice: 0.69679 | bce: 0.02814\n"
     ]
    },
    {
     "name": "stderr",
     "output_type": "stream",
     "text": [
      "Epoch 138: 100% 2/2 [00:08<00:00,  4.40s/it, bce=0.02756, hard dice=0.56510, loss=0.46362, soft dice=0.56445]\n"
     ]
    },
    {
     "name": "stdout",
     "output_type": "stream",
     "text": [
      "soft dice: 0.69669 | loss: 0.34382 | hard dice: 0.69679 | bce: 0.02686\n"
     ]
    },
    {
     "name": "stderr",
     "output_type": "stream",
     "text": [
      "Epoch 139: 100% 2/2 [00:07<00:00,  3.91s/it, bce=0.02000, hard dice=0.87663, loss=0.14373, soft dice=0.87623]\n"
     ]
    },
    {
     "name": "stdout",
     "output_type": "stream",
     "text": [
      "soft dice: 0.69663 | loss: 0.34329 | hard dice: 0.69679 | bce: 0.02628\n"
     ]
    },
    {
     "name": "stderr",
     "output_type": "stream",
     "text": [
      "Epoch 140: 100% 2/2 [00:08<00:00,  4.18s/it, bce=0.02407, hard dice=0.81444, loss=0.21433, soft dice=0.81039]\n"
     ]
    },
    {
     "name": "stdout",
     "output_type": "stream",
     "text": [
      "soft dice: 0.69667 | loss: 0.34256 | hard dice: 0.69679 | bce: 0.02557\n"
     ]
    },
    {
     "name": "stderr",
     "output_type": "stream",
     "text": [
      "Epoch 141: 100% 2/2 [00:08<00:00,  4.47s/it, bce=0.02286, hard dice=1.00000, loss=0.02643, soft dice=0.99779]\n"
     ]
    },
    {
     "name": "stdout",
     "output_type": "stream",
     "text": [
      "soft dice: 0.69679 | loss: 0.34973 | hard dice: 0.69679 | bce: 0.03209\n"
     ]
    },
    {
     "name": "stderr",
     "output_type": "stream",
     "text": [
      "Epoch 142: 100% 2/2 [00:08<00:00,  4.24s/it, bce=0.03690, hard dice=0.81351, loss=0.22512, soft dice=0.81349]\n"
     ]
    },
    {
     "name": "stdout",
     "output_type": "stream",
     "text": [
      "soft dice: 0.69679 | loss: 0.34885 | hard dice: 0.69679 | bce: 0.03157\n"
     ]
    },
    {
     "name": "stderr",
     "output_type": "stream",
     "text": [
      "Epoch 143: 100% 2/2 [00:08<00:00,  4.40s/it, bce=0.03444, hard dice=0.62732, loss=0.40703, soft dice=0.62731]\n"
     ]
    },
    {
     "name": "stdout",
     "output_type": "stream",
     "text": [
      "soft dice: 0.69679 | loss: 0.34866 | hard dice: 0.69679 | bce: 0.03156\n"
     ]
    },
    {
     "name": "stderr",
     "output_type": "stream",
     "text": [
      "Epoch 144: 100% 2/2 [00:08<00:00,  4.12s/it, bce=0.02034, hard dice=1.00000, loss=0.02034, soft dice=1.00000]\n"
     ]
    },
    {
     "name": "stdout",
     "output_type": "stream",
     "text": [
      "soft dice: 0.69679 | loss: 0.34843 | hard dice: 0.69679 | bce: 0.03139\n"
     ]
    },
    {
     "name": "stderr",
     "output_type": "stream",
     "text": [
      "Epoch 145: 100% 2/2 [00:08<00:00,  4.30s/it, bce=0.02473, hard dice=0.87818, loss=0.16280, soft dice=0.86331]\n"
     ]
    },
    {
     "name": "stdout",
     "output_type": "stream",
     "text": [
      "soft dice: 0.69675 | loss: 0.34629 | hard dice: 0.69679 | bce: 0.02787\n"
     ]
    },
    {
     "name": "stderr",
     "output_type": "stream",
     "text": [
      "Epoch 146: 100% 2/2 [00:08<00:00,  4.24s/it, bce=0.02764, hard dice=0.93823, loss=0.08945, soft dice=0.93808]\n"
     ]
    },
    {
     "name": "stdout",
     "output_type": "stream",
     "text": [
      "soft dice: 0.69679 | loss: 0.35904 | hard dice: 0.69679 | bce: 0.03563\n"
     ]
    },
    {
     "name": "stderr",
     "output_type": "stream",
     "text": [
      "Epoch 147: 100% 2/2 [00:08<00:00,  4.28s/it, bce=0.02803, hard dice=0.93834, loss=0.09132, soft dice=0.93834]\n"
     ]
    },
    {
     "name": "stdout",
     "output_type": "stream",
     "text": [
      "soft dice: 0.69679 | loss: 0.35644 | hard dice: 0.69679 | bce: 0.03586\n"
     ]
    },
    {
     "name": "stderr",
     "output_type": "stream",
     "text": [
      "Epoch 148: 100% 2/2 [00:08<00:00,  4.33s/it, bce=0.03590, hard dice=0.87572, loss=0.27395, soft dice=0.87572]\n"
     ]
    },
    {
     "name": "stdout",
     "output_type": "stream",
     "text": [
      "soft dice: 0.69679 | loss: 0.35504 | hard dice: 0.69679 | bce: 0.03572\n"
     ]
    },
    {
     "name": "stderr",
     "output_type": "stream",
     "text": [
      "Epoch 149: 100% 2/2 [00:08<00:00,  4.50s/it, bce=0.04049, hard dice=0.75195, loss=0.29347, soft dice=0.75195]\n"
     ]
    },
    {
     "name": "stdout",
     "output_type": "stream",
     "text": [
      "soft dice: 0.69679 | loss: 0.35435 | hard dice: 0.69679 | bce: 0.03568\n",
      "Finished train fold: 2 with best loss 0.34178 on epoch 115\n",
      "\n"
     ]
    }
   ],
   "source": [
    "train_config('../configs/idris_1.json', '../folds_3.csv', n_folds=3, num_workers=24)"
   ]
  },
  {
   "cell_type": "code",
   "execution_count": null,
   "metadata": {
    "collapsed": true
   },
   "outputs": [],
   "source": []
  }
 ],
 "metadata": {
  "kernelspec": {
   "display_name": "Python 2",
   "language": "python",
   "name": "python2"
  },
  "language_info": {
   "codemirror_mode": {
    "name": "ipython",
    "version": 2
   },
   "file_extension": ".py",
   "mimetype": "text/x-python",
   "name": "python",
   "nbconvert_exporter": "python",
   "pygments_lexer": "ipython2",
   "version": "2.7.14"
  }
 },
 "nbformat": 4,
 "nbformat_minor": 2
}

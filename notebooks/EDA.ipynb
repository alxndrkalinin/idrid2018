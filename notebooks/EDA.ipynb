{
 "cells": [
  {
   "cell_type": "code",
   "execution_count": 45,
   "metadata": {
    "collapsed": true
   },
   "outputs": [],
   "source": [
    "from __future__ import division, print_function\n",
    "import glob\n",
    "import cv2\n",
    "import numpy as np\n",
    "import matplotlib.pyplot as plt\n",
    "%matplotlib inline"
   ]
  },
  {
   "cell_type": "code",
   "execution_count": 62,
   "metadata": {},
   "outputs": [],
   "source": [
    "sums = []\n",
    "ma_masks = glob.glob('../../data/idrid/se_masks/*.tif')\n",
    "for ma_mask in ma_masks:\n",
    "    img = cv2.imread(ma_mask)[:,:,-1]\n",
    "#     print(img.shape)\n",
    "    sum_nonzero = np.sum(img) / (img.shape[0] * img.shape[1] * 255)\n",
    "    if sum_nonzero > 0.05:\n",
    "        print(ma_mask)\n",
    "    sums.append(sum_nonzero)"
   ]
  },
  {
   "cell_type": "code",
   "execution_count": 63,
   "metadata": {},
   "outputs": [
    {
     "data": {
      "text/plain": [
       "(array([ 7.,  3.,  7.,  2.,  2.,  2.,  2.,  0.,  0.,  1.]),\n",
       " array([ 0.00027169,  0.00153894,  0.00280619,  0.00407343,  0.00534068,\n",
       "         0.00660793,  0.00787517,  0.00914242,  0.01040967,  0.01167691,\n",
       "         0.01294416]),\n",
       " <a list of 10 Patch objects>)"
      ]
     },
     "execution_count": 63,
     "metadata": {},
     "output_type": "execute_result"
    },
    {
     "data": {
      "image/png": "[encoded data removed]",
      "text/plain": [
       "<matplotlib.figure.Figure at 0x7fb06c546a90>"
      ]
     },
     "metadata": {},
     "output_type": "display_data"
    }
   ],
   "source": [
    "plt.hist(sums)"
   ]
  },
  {
   "cell_type": "code",
   "execution_count": 64,
   "metadata": {},
   "outputs": [
    {
     "name": "stdout",
     "output_type": "stream",
     "text": [
      "464437110\n"
     ]
    },
    {
     "data": {
      "image/png": "[encoded data removed]",
      "text/plain": [
       "<matplotlib.figure.Figure at 0x7fb06c92ad90>"
      ]
     },
     "metadata": {},
     "output_type": "display_data"
    },
    {
     "data": {
      "text/plain": [
       "(array([  0, 255], dtype=uint8), array([34815350,  1821322]))"
      ]
     },
     "execution_count": 64,
     "metadata": {},
     "output_type": "execute_result"
    }
   ],
   "source": [
    "img = cv2.imread('../../data/idrid/he_masks/IDRiD_17_HE.tif')\n",
    "# img = img[:,:,::-1]\n",
    "\n",
    "print(np.sum(img[:,:,-1]))\n",
    "plt.imshow(img[:,:,-1])\n",
    "plt.show()\n",
    "\n",
    "np.unique(img, return_counts=True)\n",
    "\n",
    "# for i in xrange(img.shape[2]):\n",
    "#     print(np.sum(img[:,:,i]))\n",
    "#     plt.imshow(img[:,:,i])\n",
    "#     plt.show()"
   ]
  },
  {
   "cell_type": "code",
   "execution_count": null,
   "metadata": {
    "collapsed": true
   },
   "outputs": [],
   "source": []
  }
 ],
 "metadata": {
  "kernelspec": {
   "display_name": "Python 2",
   "language": "python",
   "name": "python2"
  },
  "language_info": {
   "codemirror_mode": {
    "name": "ipython",
    "version": 2
   },
   "file_extension": ".py",
   "mimetype": "text/x-python",
   "name": "python",
   "nbconvert_exporter": "python",
   "pygments_lexer": "ipython2",
   "version": "2.7.14"
  }
 },
 "nbformat": 4,
 "nbformat_minor": 2
}

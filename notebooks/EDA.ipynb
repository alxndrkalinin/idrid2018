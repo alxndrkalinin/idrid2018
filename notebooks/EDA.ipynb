{
 "cells": [
  {
   "cell_type": "code",
   "execution_count": 5,
   "metadata": {
    "collapsed": true
   },
   "outputs": [],
   "source": [
    "from __future__ import division, print_function\n",
    "import os\n",
    "import glob\n",
    "import cv2\n",
    "import numpy as np\n",
    "import pandas as pd\n",
    "import matplotlib.pyplot as plt\n",
    "%matplotlib inline"
   ]
  },
  {
   "cell_type": "code",
   "execution_count": 6,
   "metadata": {},
   "outputs": [
    {
     "name": "stdout",
     "output_type": "stream",
     "text": [
      "(2848, 4288, 3)\n",
      "../../../data/idrid/retinopathy/IDRiD_28.jpg\n",
      "(2848, 4288, 3)\n",
      "../../../data/idrid/retinopathy/IDRiD_44.jpg\n",
      "(2848, 4288, 3)\n",
      "../../../data/idrid/retinopathy/IDRiD_23.jpg\n",
      "(2848, 4288, 3)\n",
      "../../../data/idrid/retinopathy/IDRiD_32.jpg\n",
      "(2848, 4288, 3)\n",
      "../../../data/idrid/retinopathy/IDRiD_11.jpg\n",
      "(2848, 4288, 3)\n",
      "../../../data/idrid/retinopathy/IDRiD_51.jpg\n",
      "(2848, 4288, 3)\n",
      "../../../data/idrid/retinopathy/IDRiD_54.jpg\n",
      "(2848, 4288, 3)\n",
      "../../../data/idrid/retinopathy/IDRiD_31.jpg\n",
      "(2848, 4288, 3)\n",
      "../../../data/idrid/retinopathy/IDRiD_14.jpg\n",
      "(2848, 4288, 3)\n",
      "../../../data/idrid/retinopathy/IDRiD_10.jpg\n",
      "(2848, 4288, 3)\n",
      "../../../data/idrid/retinopathy/IDRiD_30.jpg\n",
      "(2848, 4288, 3)\n",
      "../../../data/idrid/retinopathy/IDRiD_03.jpg\n",
      "(2848, 4288, 3)\n",
      "../../../data/idrid/retinopathy/IDRiD_04.jpg\n",
      "(2848, 4288, 3)\n",
      "../../../data/idrid/retinopathy/IDRiD_43.jpg\n",
      "(2848, 4288, 3)\n",
      "../../../data/idrid/retinopathy/IDRiD_40.jpg\n",
      "(2848, 4288, 3)\n",
      "../../../data/idrid/retinopathy/IDRiD_19.jpg\n",
      "(2848, 4288, 3)\n",
      "../../../data/idrid/retinopathy/IDRiD_50.jpg\n",
      "(2848, 4288, 3)\n",
      "../../../data/idrid/retinopathy/IDRiD_48.jpg\n",
      "(2848, 4288, 3)\n",
      "../../../data/idrid/retinopathy/IDRiD_49.jpg\n",
      "(2848, 4288, 3)\n",
      "../../../data/idrid/retinopathy/IDRiD_41.jpg\n",
      "(2848, 4288, 3)\n",
      "../../../data/idrid/retinopathy/IDRiD_01.jpg\n",
      "(2848, 4288, 3)\n",
      "../../../data/idrid/retinopathy/IDRiD_45.jpg\n",
      "(2848, 4288, 3)\n",
      "../../../data/idrid/retinopathy/IDRiD_15.jpg\n",
      "(2848, 4288, 3)\n",
      "../../../data/idrid/retinopathy/IDRiD_09.jpg\n",
      "(2848, 4288, 3)\n",
      "../../../data/idrid/retinopathy/IDRiD_38.jpg\n",
      "(2848, 4288, 3)\n",
      "../../../data/idrid/retinopathy/IDRiD_52.jpg\n",
      "(2848, 4288, 3)\n",
      "../../../data/idrid/retinopathy/IDRiD_27.jpg\n",
      "(2848, 4288, 3)\n",
      "../../../data/idrid/retinopathy/IDRiD_21.jpg\n",
      "(2848, 4288, 3)\n",
      "../../../data/idrid/retinopathy/IDRiD_07.jpg\n",
      "(2848, 4288, 3)\n",
      "../../../data/idrid/retinopathy/IDRiD_26.jpg\n",
      "(2848, 4288, 3)\n",
      "../../../data/idrid/retinopathy/IDRiD_16.jpg\n",
      "(2848, 4288, 3)\n",
      "../../../data/idrid/retinopathy/IDRiD_36.jpg\n",
      "(2848, 4288, 3)\n",
      "../../../data/idrid/retinopathy/IDRiD_34.jpg\n",
      "(2848, 4288, 3)\n",
      "../../../data/idrid/retinopathy/IDRiD_20.jpg\n",
      "(2848, 4288, 3)\n",
      "../../../data/idrid/retinopathy/IDRiD_13.jpg\n",
      "(2848, 4288, 3)\n",
      "../../../data/idrid/retinopathy/IDRiD_29.jpg\n",
      "(2848, 4288, 3)\n",
      "../../../data/idrid/retinopathy/IDRiD_22.jpg\n",
      "(2848, 4288, 3)\n",
      "../../../data/idrid/retinopathy/IDRiD_18.jpg\n",
      "(2848, 4288, 3)\n",
      "../../../data/idrid/retinopathy/IDRiD_24.jpg\n",
      "(2848, 4288, 3)\n",
      "../../../data/idrid/retinopathy/IDRiD_17.jpg\n",
      "(2848, 4288, 3)\n",
      "../../../data/idrid/retinopathy/IDRiD_06.jpg\n",
      "(2848, 4288, 3)\n",
      "../../../data/idrid/retinopathy/IDRiD_39.jpg\n",
      "(2848, 4288, 3)\n",
      "../../../data/idrid/retinopathy/IDRiD_35.jpg\n",
      "(2848, 4288, 3)\n",
      "../../../data/idrid/retinopathy/IDRiD_47.jpg\n",
      "(2848, 4288, 3)\n",
      "../../../data/idrid/retinopathy/IDRiD_02.jpg\n",
      "(2848, 4288, 3)\n",
      "../../../data/idrid/retinopathy/IDRiD_05.jpg\n",
      "(2848, 4288, 3)\n",
      "../../../data/idrid/retinopathy/IDRiD_25.jpg\n",
      "(2848, 4288, 3)\n",
      "../../../data/idrid/retinopathy/IDRiD_53.jpg\n",
      "(2848, 4288, 3)\n",
      "../../../data/idrid/retinopathy/IDRiD_08.jpg\n",
      "(2848, 4288, 3)\n",
      "../../../data/idrid/retinopathy/IDRiD_37.jpg\n",
      "(2848, 4288, 3)\n",
      "../../../data/idrid/retinopathy/IDRiD_12.jpg\n",
      "(2848, 4288, 3)\n",
      "../../../data/idrid/retinopathy/IDRiD_33.jpg\n",
      "(2848, 4288, 3)\n",
      "../../../data/idrid/retinopathy/IDRiD_42.jpg\n",
      "(2848, 4288, 3)\n",
      "../../../data/idrid/retinopathy/IDRiD_46.jpg\n"
     ]
    }
   ],
   "source": [
    "sums = []\n",
    "ma_masks = glob.glob('../../../data/idrid/retinopathy/*.jpg')\n",
    "for ma_mask in ma_masks:\n",
    "#     img = cv2.imread(ma_mask)[:,:,-1]\n",
    "    img = cv2.imread(ma_mask)\n",
    "    print(img.shape)\n",
    "    sum_nonzero = np.sum(img) / (img.shape[0] * img.shape[1] * 255)\n",
    "    if sum_nonzero > 0.05:\n",
    "        print(ma_mask)\n",
    "    sums.append(sum_nonzero)"
   ]
  },
  {
   "cell_type": "code",
   "execution_count": 7,
   "metadata": {},
   "outputs": [
    {
     "data": {
      "text/plain": [
       "(array([  2.,   1.,   2.,  12.,   7.,   9.,  12.,   6.,   2.,   1.]),\n",
       " array([ 0.42580466,  0.48719257,  0.54858048,  0.60996839,  0.6713563 ,\n",
       "         0.73274421,  0.79413212,  0.85552003,  0.91690794,  0.97829585,\n",
       "         1.03968376]),\n",
       " <a list of 10 Patch objects>)"
      ]
     },
     "execution_count": 7,
     "metadata": {},
     "output_type": "execute_result"
    },
    {
     "data": {
      "image/png": "[encoded data removed]",
      "text/plain": [
       "<matplotlib.figure.Figure at 0x7f674c84bc10>"
      ]
     },
     "metadata": {},
     "output_type": "display_data"
    }
   ],
   "source": [
    "plt.hist(sums)"
   ]
  },
  {
   "cell_type": "code",
   "execution_count": 8,
   "metadata": {},
   "outputs": [
    {
     "name": "stdout",
     "output_type": "stream",
     "text": [
      "(2848, 4288, 3)\n",
      "464437110\n"
     ]
    },
    {
     "data": {
      "image/png": "[encoded data removed]",
      "text/plain": [
       "<matplotlib.figure.Figure at 0x7f6714e4d250>"
      ]
     },
     "metadata": {},
     "output_type": "display_data"
    },
    {
     "data": {
      "text/plain": [
       "(array([  0, 255], dtype=uint8), array([34815350,  1821322]))"
      ]
     },
     "execution_count": 8,
     "metadata": {},
     "output_type": "execute_result"
    }
   ],
   "source": [
    "img = cv2.imread('../../../data/idrid/he_masks/IDRiD_17_HE.tif')\n",
    "# img = img[:,:,::-1]\n",
    "\n",
    "print(img.shape)\n",
    "\n",
    "print(np.sum(img[:,:,-1]))\n",
    "plt.imshow(img[:,:,-1])\n",
    "plt.show()\n",
    "\n",
    "np.unique(img, return_counts=True)\n",
    "\n",
    "# for i in xrange(img.shape[2]):\n",
    "#     print(np.sum(img[:,:,i]))\n",
    "#     plt.imshow(img[:,:,i])\n",
    "#     plt.show()"
   ]
  },
  {
   "cell_type": "code",
   "execution_count": 9,
   "metadata": {
    "collapsed": true
   },
   "outputs": [],
   "source": [
    "train = glob.glob('../../../data/idrid/retinopathy/*.jpg')"
   ]
  },
  {
   "cell_type": "code",
   "execution_count": 10,
   "metadata": {
    "collapsed": true
   },
   "outputs": [],
   "source": [
    "folds = [(os.path.basename(f), fold%5) for fold, f in enumerate(train)]"
   ]
  },
  {
   "cell_type": "code",
   "execution_count": 11,
   "metadata": {
    "collapsed": true
   },
   "outputs": [],
   "source": [
    "folds_csv = pd.DataFrame(folds, columns=('id', 'fold'))"
   ]
  },
  {
   "cell_type": "code",
   "execution_count": 12,
   "metadata": {
    "collapsed": true
   },
   "outputs": [],
   "source": [
    "folds_csv.to_csv('../folds_5.csv')"
   ]
  },
  {
   "cell_type": "code",
   "execution_count": 13,
   "metadata": {
    "collapsed": true
   },
   "outputs": [],
   "source": [
    "folds_3 = [(os.path.basename(f), fold%3) for fold, f in enumerate(train)]"
   ]
  },
  {
   "cell_type": "code",
   "execution_count": 15,
   "metadata": {},
   "outputs": [],
   "source": [
    "folds_3_csv = pd.DataFrame(folds_3, columns=('id', 'fold'))"
   ]
  },
  {
   "cell_type": "code",
   "execution_count": 17,
   "metadata": {},
   "outputs": [],
   "source": [
    "folds_3_csv.to_csv('../folds_3.csv')"
   ]
  },
  {
   "cell_type": "code",
   "execution_count": null,
   "metadata": {
    "collapsed": true
   },
   "outputs": [],
   "source": []
  }
 ],
 "metadata": {
  "kernelspec": {
   "display_name": "Python 2",
   "language": "python",
   "name": "python2"
  },
  "language_info": {
   "codemirror_mode": {
    "name": "ipython",
    "version": 2
   },
   "file_extension": ".py",
   "mimetype": "text/x-python",
   "name": "python",
   "nbconvert_exporter": "python",
   "pygments_lexer": "ipython2",
   "version": "2.7.14"
  }
 },
 "nbformat": 4,
 "nbformat_minor": 2
}

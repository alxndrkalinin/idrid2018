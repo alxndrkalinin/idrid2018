{
 "cells": [
  {
   "cell_type": "code",
   "execution_count": 14,
   "metadata": {},
   "outputs": [],
   "source": [
    "from __future__ import division\n",
    "\n",
    "import os\n",
    "from inspect import getsourcefile\n",
    "import sys\n",
    "\n",
    "# add parent dir to PYTHONPATH\n",
    "current_path = os.path.abspath(getsourcefile(lambda:0))\n",
    "current_dir = os.path.dirname(current_path)\n",
    "parent_dir = current_dir[:current_dir.rfind(os.path.sep)]\n",
    "sys.path.insert(0, parent_dir)\n",
    "\n",
    "from collections import defaultdict\n",
    "from copy import deepcopy\n",
    "\n",
    "import torch\n",
    "import torch.nn.functional as F\n",
    "from torch import nn\n",
    "from torch import optim\n",
    "from tqdm import tqdm\n",
    "from torch.autograd import Variable\n",
    "# from tensorboardX import SummaryWriter\n",
    "\n",
    "from src.dataset.neural_dataset import TrainDataset, ValDataset\n",
    "from torch.utils.data.dataloader import DataLoader as PytorchDataLoader\n",
    "from src.utils import get_config, get_csv_folds\n",
    "from src.dataset.carvana_dataset import CarvanaDataset\n",
    "from src.dataset.h5like_interface import H5LikeFileInterface\n",
    "from src.transforms import augment_color\n",
    "\n",
    "from src.pytorch_zoo import linknet"
   ]
  },
  {
   "cell_type": "code",
   "execution_count": null,
   "metadata": {
    "collapsed": true
   },
   "outputs": [],
   "source": []
  }
 ],
 "metadata": {
  "kernelspec": {
   "display_name": "Python 2",
   "language": "python",
   "name": "python2"
  },
  "language_info": {
   "codemirror_mode": {
    "name": "ipython",
    "version": 2
   },
   "file_extension": ".py",
   "mimetype": "text/x-python",
   "name": "python",
   "nbconvert_exporter": "python",
   "pygments_lexer": "ipython2",
   "version": "2.7.14"
  }
 },
 "nbformat": 4,
 "nbformat_minor": 2
}
